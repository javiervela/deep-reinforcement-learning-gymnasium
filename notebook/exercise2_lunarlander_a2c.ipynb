{
  "cells": [
    {
      "cell_type": "code",
      "execution_count": 1,
      "metadata": {
        "id": "OBCPdFloZEXO"
      },
      "outputs": [],
      "source": [
        "import gymnasium as gym\n",
        "import cv2\n",
        "import numpy as np\n",
        "import pandas as pd\n",
        "import matplotlib.pyplot as plt\n",
        "\n",
        "from stable_baselines3 import DQN, PPO, A2C\n",
        "from stable_baselines3.common.monitor import Monitor\n",
        "from stable_baselines3.common.vec_env import DummyVecEnv, VecMonitor\n",
        "from stable_baselines3.common.callbacks import (\n",
        "    EvalCallback,\n",
        "    StopTrainingOnRewardThreshold,\n",
        "    BaseCallback,\n",
        ")\n",
        "from stable_baselines3.common.callbacks import ProgressBarCallback\n",
        "from stable_baselines3.common.evaluation import evaluate_policy"
      ]
    },
    {
      "cell_type": "code",
      "execution_count": 2,
      "metadata": {},
      "outputs": [],
      "source": [
        "# Create the LunarLander-v3 environment\n",
        "env = gym.make(\n",
        "    \"LunarLander-v3\",\n",
        "    # continuous=False,\n",
        "    # gravity=-10.0,\n",
        "    # enable_wind=False,\n",
        "    # wind_power=15.0,\n",
        "    # turbulence_power=1.5,\n",
        "    render_mode=\"rgb_array\",\n",
        ")"
      ]
    },
    {
      "cell_type": "code",
      "execution_count": 3,
      "metadata": {},
      "outputs": [],
      "source": [
        "stop_callback = StopTrainingOnRewardThreshold(reward_threshold=200, verbose=1)\n",
        "\n",
        "eval_callback = EvalCallback(\n",
        "    env,\n",
        "    best_model_save_path=\"../logs/exercise_2/a2c/\",\n",
        "    log_path=\"../logs/exercise_2/a2c/\",\n",
        "    eval_freq=5_000,\n",
        "    deterministic=True,\n",
        "    render=False,\n",
        "    n_eval_episodes=50,\n",
        "    callback_on_new_best=stop_callback,\n",
        ")"
      ]
    },
    {
      "cell_type": "code",
      "execution_count": 4,
      "metadata": {
        "colab": {
          "base_uri": "https://localhost:8080/"
        },
        "id": "YU8nrDkrVCGw",
        "outputId": "e7875497-4d2d-4c7c-986c-d10d5316e8b5"
      },
      "outputs": [],
      "source": [
        "# Create A2C model\n",
        "model = A2C(\n",
        "    \"MlpPolicy\",\n",
        "    env,\n",
        "    learning_rate=0.0006997150606687543,\n",
        "    gamma=0.9987615431097223,\n",
        "    ent_coef=0.014358534695948685,\n",
        "    vf_coef=0.9222159161633121,\n",
        "    n_steps=5,\n",
        "    policy_kwargs=dict(net_arch=dict(pi=[128], vf=[256])),\n",
        "    seed=42,\n",
        "    verbose=0,\n",
        "    tensorboard_log=\"../logs/exercise_2/a2c/a2c_tensorboard/\",\n",
        "    device=\"cpu\",\n",
        ")"
      ]
    },
    {
      "cell_type": "code",
      "execution_count": 5,
      "metadata": {
        "colab": {
          "base_uri": "https://localhost:8080/"
        },
        "id": "4Jy6O6s1ZusN",
        "outputId": "7631a5ee-d701-4312-c497-4b6ad3363806"
      },
      "outputs": [
        {
          "data": {
            "application/vnd.jupyter.widget-view+json": {
              "model_id": "742fc300441d40f193b0e1ad5e5e8cb6",
              "version_major": 2,
              "version_minor": 0
            },
            "text/plain": [
              "Output()"
            ]
          },
          "metadata": {},
          "output_type": "display_data"
        },
        {
          "data": {
            "text/html": [
              "<pre style=\"white-space:pre;overflow-x:auto;line-height:normal;font-family:Menlo,'DejaVu Sans Mono',consolas,'Courier New',monospace\">/home/javier/.cache/pypoetry/virtualenvs/deep-reinforcement-learning-gymnasium-u3px5S1O-py3.13/lib/python3.13/site-\n",
              "packages/stable_baselines3/common/evaluation.py:67: UserWarning: Evaluation environment is not wrapped with a \n",
              "``Monitor`` wrapper. This may result in reporting modified episode lengths and rewards, if other wrappers happen to\n",
              "modify these. Consider wrapping environment first with ``Monitor`` wrapper.\n",
              "  warnings.warn(\n",
              "</pre>\n"
            ],
            "text/plain": [
              "/home/javier/.cache/pypoetry/virtualenvs/deep-reinforcement-learning-gymnasium-u3px5S1O-py3.13/lib/python3.13/site-\n",
              "packages/stable_baselines3/common/evaluation.py:67: UserWarning: Evaluation environment is not wrapped with a \n",
              "``Monitor`` wrapper. This may result in reporting modified episode lengths and rewards, if other wrappers happen to\n",
              "modify these. Consider wrapping environment first with ``Monitor`` wrapper.\n",
              "  warnings.warn(\n"
            ]
          },
          "metadata": {},
          "output_type": "display_data"
        },
        {
          "data": {
            "text/html": [
              "<pre style=\"white-space:pre;overflow-x:auto;line-height:normal;font-family:Menlo,'DejaVu Sans Mono',consolas,'Courier New',monospace\">Eval num_timesteps=5000, episode_reward=-694.86 +/- 213.07\n",
              "</pre>\n"
            ],
            "text/plain": [
              "Eval num_timesteps=5000, episode_reward=-694.86 +/- 213.07\n"
            ]
          },
          "metadata": {},
          "output_type": "display_data"
        },
        {
          "data": {
            "text/html": [
              "<pre style=\"white-space:pre;overflow-x:auto;line-height:normal;font-family:Menlo,'DejaVu Sans Mono',consolas,'Courier New',monospace\">Episode length: 501.00 +/- 191.07\n",
              "</pre>\n"
            ],
            "text/plain": [
              "Episode length: 501.00 +/- 191.07\n"
            ]
          },
          "metadata": {},
          "output_type": "display_data"
        },
        {
          "data": {
            "text/html": [
              "<pre style=\"white-space:pre;overflow-x:auto;line-height:normal;font-family:Menlo,'DejaVu Sans Mono',consolas,'Courier New',monospace\">New best mean reward!\n",
              "</pre>\n"
            ],
            "text/plain": [
              "New best mean reward!\n"
            ]
          },
          "metadata": {},
          "output_type": "display_data"
        },
        {
          "data": {
            "text/html": [
              "<pre style=\"white-space:pre;overflow-x:auto;line-height:normal;font-family:Menlo,'DejaVu Sans Mono',consolas,'Courier New',monospace\">Eval num_timesteps=10000, episode_reward=-1712.19 +/- 163.88\n",
              "</pre>\n"
            ],
            "text/plain": [
              "Eval num_timesteps=10000, episode_reward=-1712.19 +/- 163.88\n"
            ]
          },
          "metadata": {},
          "output_type": "display_data"
        },
        {
          "data": {
            "text/html": [
              "<pre style=\"white-space:pre;overflow-x:auto;line-height:normal;font-family:Menlo,'DejaVu Sans Mono',consolas,'Courier New',monospace\">Episode length: 738.02 +/- 103.78\n",
              "</pre>\n"
            ],
            "text/plain": [
              "Episode length: 738.02 +/- 103.78\n"
            ]
          },
          "metadata": {},
          "output_type": "display_data"
        },
        {
          "data": {
            "text/html": [
              "<pre style=\"white-space:pre;overflow-x:auto;line-height:normal;font-family:Menlo,'DejaVu Sans Mono',consolas,'Courier New',monospace\">Eval num_timesteps=15000, episode_reward=-855.93 +/- 201.55\n",
              "</pre>\n"
            ],
            "text/plain": [
              "Eval num_timesteps=15000, episode_reward=-855.93 +/- 201.55\n"
            ]
          },
          "metadata": {},
          "output_type": "display_data"
        },
        {
          "data": {
            "text/html": [
              "<pre style=\"white-space:pre;overflow-x:auto;line-height:normal;font-family:Menlo,'DejaVu Sans Mono',consolas,'Courier New',monospace\">Episode length: 447.86 +/- 97.85\n",
              "</pre>\n"
            ],
            "text/plain": [
              "Episode length: 447.86 +/- 97.85\n"
            ]
          },
          "metadata": {},
          "output_type": "display_data"
        },
        {
          "data": {
            "text/html": [
              "<pre style=\"white-space:pre;overflow-x:auto;line-height:normal;font-family:Menlo,'DejaVu Sans Mono',consolas,'Courier New',monospace\">Eval num_timesteps=20000, episode_reward=-697.48 +/- 597.02\n",
              "</pre>\n"
            ],
            "text/plain": [
              "Eval num_timesteps=20000, episode_reward=-697.48 +/- 597.02\n"
            ]
          },
          "metadata": {},
          "output_type": "display_data"
        },
        {
          "data": {
            "text/html": [
              "<pre style=\"white-space:pre;overflow-x:auto;line-height:normal;font-family:Menlo,'DejaVu Sans Mono',consolas,'Courier New',monospace\">Episode length: 748.40 +/- 310.01\n",
              "</pre>\n"
            ],
            "text/plain": [
              "Episode length: 748.40 +/- 310.01\n"
            ]
          },
          "metadata": {},
          "output_type": "display_data"
        },
        {
          "data": {
            "text/html": [
              "<pre style=\"white-space:pre;overflow-x:auto;line-height:normal;font-family:Menlo,'DejaVu Sans Mono',consolas,'Courier New',monospace\">Eval num_timesteps=25000, episode_reward=-754.92 +/- 587.34\n",
              "</pre>\n"
            ],
            "text/plain": [
              "Eval num_timesteps=25000, episode_reward=-754.92 +/- 587.34\n"
            ]
          },
          "metadata": {},
          "output_type": "display_data"
        },
        {
          "data": {
            "text/html": [
              "<pre style=\"white-space:pre;overflow-x:auto;line-height:normal;font-family:Menlo,'DejaVu Sans Mono',consolas,'Courier New',monospace\">Episode length: 810.04 +/- 269.99\n",
              "</pre>\n"
            ],
            "text/plain": [
              "Episode length: 810.04 +/- 269.99\n"
            ]
          },
          "metadata": {},
          "output_type": "display_data"
        },
        {
          "data": {
            "text/html": [
              "<pre style=\"white-space:pre;overflow-x:auto;line-height:normal;font-family:Menlo,'DejaVu Sans Mono',consolas,'Courier New',monospace\">Eval num_timesteps=30000, episode_reward=-236.12 +/- 284.60\n",
              "</pre>\n"
            ],
            "text/plain": [
              "Eval num_timesteps=30000, episode_reward=-236.12 +/- 284.60\n"
            ]
          },
          "metadata": {},
          "output_type": "display_data"
        },
        {
          "data": {
            "text/html": [
              "<pre style=\"white-space:pre;overflow-x:auto;line-height:normal;font-family:Menlo,'DejaVu Sans Mono',consolas,'Courier New',monospace\">Episode length: 780.36 +/- 328.62\n",
              "</pre>\n"
            ],
            "text/plain": [
              "Episode length: 780.36 +/- 328.62\n"
            ]
          },
          "metadata": {},
          "output_type": "display_data"
        },
        {
          "data": {
            "text/html": [
              "<pre style=\"white-space:pre;overflow-x:auto;line-height:normal;font-family:Menlo,'DejaVu Sans Mono',consolas,'Courier New',monospace\">New best mean reward!\n",
              "</pre>\n"
            ],
            "text/plain": [
              "New best mean reward!\n"
            ]
          },
          "metadata": {},
          "output_type": "display_data"
        },
        {
          "data": {
            "text/html": [
              "<pre style=\"white-space:pre;overflow-x:auto;line-height:normal;font-family:Menlo,'DejaVu Sans Mono',consolas,'Courier New',monospace\">Eval num_timesteps=35000, episode_reward=-137.24 +/- 256.73\n",
              "</pre>\n"
            ],
            "text/plain": [
              "Eval num_timesteps=35000, episode_reward=-137.24 +/- 256.73\n"
            ]
          },
          "metadata": {},
          "output_type": "display_data"
        },
        {
          "data": {
            "text/html": [
              "<pre style=\"white-space:pre;overflow-x:auto;line-height:normal;font-family:Menlo,'DejaVu Sans Mono',consolas,'Courier New',monospace\">Episode length: 694.08 +/- 315.80\n",
              "</pre>\n"
            ],
            "text/plain": [
              "Episode length: 694.08 +/- 315.80\n"
            ]
          },
          "metadata": {},
          "output_type": "display_data"
        },
        {
          "data": {
            "text/html": [
              "<pre style=\"white-space:pre;overflow-x:auto;line-height:normal;font-family:Menlo,'DejaVu Sans Mono',consolas,'Courier New',monospace\">New best mean reward!\n",
              "</pre>\n"
            ],
            "text/plain": [
              "New best mean reward!\n"
            ]
          },
          "metadata": {},
          "output_type": "display_data"
        },
        {
          "data": {
            "text/html": [
              "<pre style=\"white-space:pre;overflow-x:auto;line-height:normal;font-family:Menlo,'DejaVu Sans Mono',consolas,'Courier New',monospace\">Eval num_timesteps=40000, episode_reward=-69.90 +/- 198.45\n",
              "</pre>\n"
            ],
            "text/plain": [
              "Eval num_timesteps=40000, episode_reward=-69.90 +/- 198.45\n"
            ]
          },
          "metadata": {},
          "output_type": "display_data"
        },
        {
          "data": {
            "text/html": [
              "<pre style=\"white-space:pre;overflow-x:auto;line-height:normal;font-family:Menlo,'DejaVu Sans Mono',consolas,'Courier New',monospace\">Episode length: 602.72 +/- 360.04\n",
              "</pre>\n"
            ],
            "text/plain": [
              "Episode length: 602.72 +/- 360.04\n"
            ]
          },
          "metadata": {},
          "output_type": "display_data"
        },
        {
          "data": {
            "text/html": [
              "<pre style=\"white-space:pre;overflow-x:auto;line-height:normal;font-family:Menlo,'DejaVu Sans Mono',consolas,'Courier New',monospace\">New best mean reward!\n",
              "</pre>\n"
            ],
            "text/plain": [
              "New best mean reward!\n"
            ]
          },
          "metadata": {},
          "output_type": "display_data"
        },
        {
          "data": {
            "text/html": [
              "<pre style=\"white-space:pre;overflow-x:auto;line-height:normal;font-family:Menlo,'DejaVu Sans Mono',consolas,'Courier New',monospace\">Eval num_timesteps=45000, episode_reward=-6.01 +/- 213.12\n",
              "</pre>\n"
            ],
            "text/plain": [
              "Eval num_timesteps=45000, episode_reward=-6.01 +/- 213.12\n"
            ]
          },
          "metadata": {},
          "output_type": "display_data"
        },
        {
          "data": {
            "text/html": [
              "<pre style=\"white-space:pre;overflow-x:auto;line-height:normal;font-family:Menlo,'DejaVu Sans Mono',consolas,'Courier New',monospace\">Episode length: 531.80 +/- 291.66\n",
              "</pre>\n"
            ],
            "text/plain": [
              "Episode length: 531.80 +/- 291.66\n"
            ]
          },
          "metadata": {},
          "output_type": "display_data"
        },
        {
          "data": {
            "text/html": [
              "<pre style=\"white-space:pre;overflow-x:auto;line-height:normal;font-family:Menlo,'DejaVu Sans Mono',consolas,'Courier New',monospace\">New best mean reward!\n",
              "</pre>\n"
            ],
            "text/plain": [
              "New best mean reward!\n"
            ]
          },
          "metadata": {},
          "output_type": "display_data"
        },
        {
          "data": {
            "text/html": [
              "<pre style=\"white-space:pre;overflow-x:auto;line-height:normal;font-family:Menlo,'DejaVu Sans Mono',consolas,'Courier New',monospace\">Eval num_timesteps=50000, episode_reward=58.18 +/- 124.05\n",
              "</pre>\n"
            ],
            "text/plain": [
              "Eval num_timesteps=50000, episode_reward=58.18 +/- 124.05\n"
            ]
          },
          "metadata": {},
          "output_type": "display_data"
        },
        {
          "data": {
            "text/html": [
              "<pre style=\"white-space:pre;overflow-x:auto;line-height:normal;font-family:Menlo,'DejaVu Sans Mono',consolas,'Courier New',monospace\">Episode length: 183.40 +/- 149.86\n",
              "</pre>\n"
            ],
            "text/plain": [
              "Episode length: 183.40 +/- 149.86\n"
            ]
          },
          "metadata": {},
          "output_type": "display_data"
        },
        {
          "data": {
            "text/html": [
              "<pre style=\"white-space:pre;overflow-x:auto;line-height:normal;font-family:Menlo,'DejaVu Sans Mono',consolas,'Courier New',monospace\">New best mean reward!\n",
              "</pre>\n"
            ],
            "text/plain": [
              "New best mean reward!\n"
            ]
          },
          "metadata": {},
          "output_type": "display_data"
        },
        {
          "data": {
            "text/html": [
              "<pre style=\"white-space:pre;overflow-x:auto;line-height:normal;font-family:Menlo,'DejaVu Sans Mono',consolas,'Courier New',monospace\">Eval num_timesteps=55000, episode_reward=-39.79 +/- 104.22\n",
              "</pre>\n"
            ],
            "text/plain": [
              "Eval num_timesteps=55000, episode_reward=-39.79 +/- 104.22\n"
            ]
          },
          "metadata": {},
          "output_type": "display_data"
        },
        {
          "data": {
            "text/html": [
              "<pre style=\"white-space:pre;overflow-x:auto;line-height:normal;font-family:Menlo,'DejaVu Sans Mono',consolas,'Courier New',monospace\">Episode length: 104.74 +/- 44.46\n",
              "</pre>\n"
            ],
            "text/plain": [
              "Episode length: 104.74 +/- 44.46\n"
            ]
          },
          "metadata": {},
          "output_type": "display_data"
        },
        {
          "data": {
            "text/html": [
              "<pre style=\"white-space:pre;overflow-x:auto;line-height:normal;font-family:Menlo,'DejaVu Sans Mono',consolas,'Courier New',monospace\">Eval num_timesteps=60000, episode_reward=-6.41 +/- 77.22\n",
              "</pre>\n"
            ],
            "text/plain": [
              "Eval num_timesteps=60000, episode_reward=-6.41 +/- 77.22\n"
            ]
          },
          "metadata": {},
          "output_type": "display_data"
        },
        {
          "data": {
            "text/html": [
              "<pre style=\"white-space:pre;overflow-x:auto;line-height:normal;font-family:Menlo,'DejaVu Sans Mono',consolas,'Courier New',monospace\">Episode length: 137.98 +/- 58.03\n",
              "</pre>\n"
            ],
            "text/plain": [
              "Episode length: 137.98 +/- 58.03\n"
            ]
          },
          "metadata": {},
          "output_type": "display_data"
        },
        {
          "data": {
            "text/html": [
              "<pre style=\"white-space:pre;overflow-x:auto;line-height:normal;font-family:Menlo,'DejaVu Sans Mono',consolas,'Courier New',monospace\">Eval num_timesteps=65000, episode_reward=-20.68 +/- 75.75\n",
              "</pre>\n"
            ],
            "text/plain": [
              "Eval num_timesteps=65000, episode_reward=-20.68 +/- 75.75\n"
            ]
          },
          "metadata": {},
          "output_type": "display_data"
        },
        {
          "data": {
            "text/html": [
              "<pre style=\"white-space:pre;overflow-x:auto;line-height:normal;font-family:Menlo,'DejaVu Sans Mono',consolas,'Courier New',monospace\">Episode length: 117.42 +/- 48.08\n",
              "</pre>\n"
            ],
            "text/plain": [
              "Episode length: 117.42 +/- 48.08\n"
            ]
          },
          "metadata": {},
          "output_type": "display_data"
        },
        {
          "data": {
            "text/html": [
              "<pre style=\"white-space:pre;overflow-x:auto;line-height:normal;font-family:Menlo,'DejaVu Sans Mono',consolas,'Courier New',monospace\">Eval num_timesteps=70000, episode_reward=8.81 +/- 94.55\n",
              "</pre>\n"
            ],
            "text/plain": [
              "Eval num_timesteps=70000, episode_reward=8.81 +/- 94.55\n"
            ]
          },
          "metadata": {},
          "output_type": "display_data"
        },
        {
          "data": {
            "text/html": [
              "<pre style=\"white-space:pre;overflow-x:auto;line-height:normal;font-family:Menlo,'DejaVu Sans Mono',consolas,'Courier New',monospace\">Episode length: 132.86 +/- 70.19\n",
              "</pre>\n"
            ],
            "text/plain": [
              "Episode length: 132.86 +/- 70.19\n"
            ]
          },
          "metadata": {},
          "output_type": "display_data"
        },
        {
          "data": {
            "text/html": [
              "<pre style=\"white-space:pre;overflow-x:auto;line-height:normal;font-family:Menlo,'DejaVu Sans Mono',consolas,'Courier New',monospace\">Eval num_timesteps=75000, episode_reward=13.74 +/- 64.62\n",
              "</pre>\n"
            ],
            "text/plain": [
              "Eval num_timesteps=75000, episode_reward=13.74 +/- 64.62\n"
            ]
          },
          "metadata": {},
          "output_type": "display_data"
        },
        {
          "data": {
            "text/html": [
              "<pre style=\"white-space:pre;overflow-x:auto;line-height:normal;font-family:Menlo,'DejaVu Sans Mono',consolas,'Courier New',monospace\">Episode length: 135.36 +/- 55.29\n",
              "</pre>\n"
            ],
            "text/plain": [
              "Episode length: 135.36 +/- 55.29\n"
            ]
          },
          "metadata": {},
          "output_type": "display_data"
        },
        {
          "data": {
            "text/html": [
              "<pre style=\"white-space:pre;overflow-x:auto;line-height:normal;font-family:Menlo,'DejaVu Sans Mono',consolas,'Courier New',monospace\">Eval num_timesteps=80000, episode_reward=16.74 +/- 54.73\n",
              "</pre>\n"
            ],
            "text/plain": [
              "Eval num_timesteps=80000, episode_reward=16.74 +/- 54.73\n"
            ]
          },
          "metadata": {},
          "output_type": "display_data"
        },
        {
          "data": {
            "text/html": [
              "<pre style=\"white-space:pre;overflow-x:auto;line-height:normal;font-family:Menlo,'DejaVu Sans Mono',consolas,'Courier New',monospace\">Episode length: 143.66 +/- 46.70\n",
              "</pre>\n"
            ],
            "text/plain": [
              "Episode length: 143.66 +/- 46.70\n"
            ]
          },
          "metadata": {},
          "output_type": "display_data"
        },
        {
          "data": {
            "text/html": [
              "<pre style=\"white-space:pre;overflow-x:auto;line-height:normal;font-family:Menlo,'DejaVu Sans Mono',consolas,'Courier New',monospace\">Eval num_timesteps=85000, episode_reward=4.68 +/- 30.20\n",
              "</pre>\n"
            ],
            "text/plain": [
              "Eval num_timesteps=85000, episode_reward=4.68 +/- 30.20\n"
            ]
          },
          "metadata": {},
          "output_type": "display_data"
        },
        {
          "data": {
            "text/html": [
              "<pre style=\"white-space:pre;overflow-x:auto;line-height:normal;font-family:Menlo,'DejaVu Sans Mono',consolas,'Courier New',monospace\">Episode length: 134.32 +/- 41.77\n",
              "</pre>\n"
            ],
            "text/plain": [
              "Episode length: 134.32 +/- 41.77\n"
            ]
          },
          "metadata": {},
          "output_type": "display_data"
        },
        {
          "data": {
            "text/html": [
              "<pre style=\"white-space:pre;overflow-x:auto;line-height:normal;font-family:Menlo,'DejaVu Sans Mono',consolas,'Courier New',monospace\">Eval num_timesteps=90000, episode_reward=9.77 +/- 20.35\n",
              "</pre>\n"
            ],
            "text/plain": [
              "Eval num_timesteps=90000, episode_reward=9.77 +/- 20.35\n"
            ]
          },
          "metadata": {},
          "output_type": "display_data"
        },
        {
          "data": {
            "text/html": [
              "<pre style=\"white-space:pre;overflow-x:auto;line-height:normal;font-family:Menlo,'DejaVu Sans Mono',consolas,'Courier New',monospace\">Episode length: 159.32 +/- 40.13\n",
              "</pre>\n"
            ],
            "text/plain": [
              "Episode length: 159.32 +/- 40.13\n"
            ]
          },
          "metadata": {},
          "output_type": "display_data"
        },
        {
          "data": {
            "text/html": [
              "<pre style=\"white-space:pre;overflow-x:auto;line-height:normal;font-family:Menlo,'DejaVu Sans Mono',consolas,'Courier New',monospace\">Eval num_timesteps=95000, episode_reward=-27.62 +/- 38.48\n",
              "</pre>\n"
            ],
            "text/plain": [
              "Eval num_timesteps=95000, episode_reward=-27.62 +/- 38.48\n"
            ]
          },
          "metadata": {},
          "output_type": "display_data"
        },
        {
          "data": {
            "text/html": [
              "<pre style=\"white-space:pre;overflow-x:auto;line-height:normal;font-family:Menlo,'DejaVu Sans Mono',consolas,'Courier New',monospace\">Episode length: 144.28 +/- 44.84\n",
              "</pre>\n"
            ],
            "text/plain": [
              "Episode length: 144.28 +/- 44.84\n"
            ]
          },
          "metadata": {},
          "output_type": "display_data"
        },
        {
          "data": {
            "text/html": [
              "<pre style=\"white-space:pre;overflow-x:auto;line-height:normal;font-family:Menlo,'DejaVu Sans Mono',consolas,'Courier New',monospace\">Eval num_timesteps=100000, episode_reward=3.52 +/- 22.26\n",
              "</pre>\n"
            ],
            "text/plain": [
              "Eval num_timesteps=100000, episode_reward=3.52 +/- 22.26\n"
            ]
          },
          "metadata": {},
          "output_type": "display_data"
        },
        {
          "data": {
            "text/html": [
              "<pre style=\"white-space:pre;overflow-x:auto;line-height:normal;font-family:Menlo,'DejaVu Sans Mono',consolas,'Courier New',monospace\">Episode length: 174.78 +/- 35.91\n",
              "</pre>\n"
            ],
            "text/plain": [
              "Episode length: 174.78 +/- 35.91\n"
            ]
          },
          "metadata": {},
          "output_type": "display_data"
        },
        {
          "data": {
            "text/html": [
              "<pre style=\"white-space:pre;overflow-x:auto;line-height:normal;font-family:Menlo,'DejaVu Sans Mono',consolas,'Courier New',monospace\">Eval num_timesteps=105000, episode_reward=-36.73 +/- 31.63\n",
              "</pre>\n"
            ],
            "text/plain": [
              "Eval num_timesteps=105000, episode_reward=-36.73 +/- 31.63\n"
            ]
          },
          "metadata": {},
          "output_type": "display_data"
        },
        {
          "data": {
            "text/html": [
              "<pre style=\"white-space:pre;overflow-x:auto;line-height:normal;font-family:Menlo,'DejaVu Sans Mono',consolas,'Courier New',monospace\">Episode length: 121.52 +/- 23.45\n",
              "</pre>\n"
            ],
            "text/plain": [
              "Episode length: 121.52 +/- 23.45\n"
            ]
          },
          "metadata": {},
          "output_type": "display_data"
        },
        {
          "data": {
            "text/html": [
              "<pre style=\"white-space:pre;overflow-x:auto;line-height:normal;font-family:Menlo,'DejaVu Sans Mono',consolas,'Courier New',monospace\">Eval num_timesteps=110000, episode_reward=-46.22 +/- 28.34\n",
              "</pre>\n"
            ],
            "text/plain": [
              "Eval num_timesteps=110000, episode_reward=-46.22 +/- 28.34\n"
            ]
          },
          "metadata": {},
          "output_type": "display_data"
        },
        {
          "data": {
            "text/html": [
              "<pre style=\"white-space:pre;overflow-x:auto;line-height:normal;font-family:Menlo,'DejaVu Sans Mono',consolas,'Courier New',monospace\">Episode length: 92.74 +/- 13.27\n",
              "</pre>\n"
            ],
            "text/plain": [
              "Episode length: 92.74 +/- 13.27\n"
            ]
          },
          "metadata": {},
          "output_type": "display_data"
        },
        {
          "data": {
            "text/html": [
              "<pre style=\"white-space:pre;overflow-x:auto;line-height:normal;font-family:Menlo,'DejaVu Sans Mono',consolas,'Courier New',monospace\">Eval num_timesteps=115000, episode_reward=-77.68 +/- 46.33\n",
              "</pre>\n"
            ],
            "text/plain": [
              "Eval num_timesteps=115000, episode_reward=-77.68 +/- 46.33\n"
            ]
          },
          "metadata": {},
          "output_type": "display_data"
        },
        {
          "data": {
            "text/html": [
              "<pre style=\"white-space:pre;overflow-x:auto;line-height:normal;font-family:Menlo,'DejaVu Sans Mono',consolas,'Courier New',monospace\">Episode length: 129.12 +/- 17.35\n",
              "</pre>\n"
            ],
            "text/plain": [
              "Episode length: 129.12 +/- 17.35\n"
            ]
          },
          "metadata": {},
          "output_type": "display_data"
        },
        {
          "data": {
            "text/html": [
              "<pre style=\"white-space:pre;overflow-x:auto;line-height:normal;font-family:Menlo,'DejaVu Sans Mono',consolas,'Courier New',monospace\">Eval num_timesteps=120000, episode_reward=-254.36 +/- 123.97\n",
              "</pre>\n"
            ],
            "text/plain": [
              "Eval num_timesteps=120000, episode_reward=-254.36 +/- 123.97\n"
            ]
          },
          "metadata": {},
          "output_type": "display_data"
        },
        {
          "data": {
            "text/html": [
              "<pre style=\"white-space:pre;overflow-x:auto;line-height:normal;font-family:Menlo,'DejaVu Sans Mono',consolas,'Courier New',monospace\">Episode length: 201.48 +/- 80.64\n",
              "</pre>\n"
            ],
            "text/plain": [
              "Episode length: 201.48 +/- 80.64\n"
            ]
          },
          "metadata": {},
          "output_type": "display_data"
        },
        {
          "data": {
            "text/html": [
              "<pre style=\"white-space:pre;overflow-x:auto;line-height:normal;font-family:Menlo,'DejaVu Sans Mono',consolas,'Courier New',monospace\">Eval num_timesteps=125000, episode_reward=-935.32 +/- 740.95\n",
              "</pre>\n"
            ],
            "text/plain": [
              "Eval num_timesteps=125000, episode_reward=-935.32 +/- 740.95\n"
            ]
          },
          "metadata": {},
          "output_type": "display_data"
        },
        {
          "data": {
            "text/html": [
              "<pre style=\"white-space:pre;overflow-x:auto;line-height:normal;font-family:Menlo,'DejaVu Sans Mono',consolas,'Courier New',monospace\">Episode length: 484.70 +/- 191.97\n",
              "</pre>\n"
            ],
            "text/plain": [
              "Episode length: 484.70 +/- 191.97\n"
            ]
          },
          "metadata": {},
          "output_type": "display_data"
        },
        {
          "data": {
            "text/html": [
              "<pre style=\"white-space:pre;overflow-x:auto;line-height:normal;font-family:Menlo,'DejaVu Sans Mono',consolas,'Courier New',monospace\">Eval num_timesteps=130000, episode_reward=104.69 +/- 119.55\n",
              "</pre>\n"
            ],
            "text/plain": [
              "Eval num_timesteps=130000, episode_reward=104.69 +/- 119.55\n"
            ]
          },
          "metadata": {},
          "output_type": "display_data"
        },
        {
          "data": {
            "text/html": [
              "<pre style=\"white-space:pre;overflow-x:auto;line-height:normal;font-family:Menlo,'DejaVu Sans Mono',consolas,'Courier New',monospace\">Episode length: 630.82 +/- 89.57\n",
              "</pre>\n"
            ],
            "text/plain": [
              "Episode length: 630.82 +/- 89.57\n"
            ]
          },
          "metadata": {},
          "output_type": "display_data"
        },
        {
          "data": {
            "text/html": [
              "<pre style=\"white-space:pre;overflow-x:auto;line-height:normal;font-family:Menlo,'DejaVu Sans Mono',consolas,'Courier New',monospace\">New best mean reward!\n",
              "</pre>\n"
            ],
            "text/plain": [
              "New best mean reward!\n"
            ]
          },
          "metadata": {},
          "output_type": "display_data"
        },
        {
          "data": {
            "text/html": [
              "<pre style=\"white-space:pre;overflow-x:auto;line-height:normal;font-family:Menlo,'DejaVu Sans Mono',consolas,'Courier New',monospace\">Eval num_timesteps=135000, episode_reward=-42.72 +/- 24.62\n",
              "</pre>\n"
            ],
            "text/plain": [
              "Eval num_timesteps=135000, episode_reward=-42.72 +/- 24.62\n"
            ]
          },
          "metadata": {},
          "output_type": "display_data"
        },
        {
          "data": {
            "text/html": [
              "<pre style=\"white-space:pre;overflow-x:auto;line-height:normal;font-family:Menlo,'DejaVu Sans Mono',consolas,'Courier New',monospace\">Episode length: 994.56 +/- 27.55\n",
              "</pre>\n"
            ],
            "text/plain": [
              "Episode length: 994.56 +/- 27.55\n"
            ]
          },
          "metadata": {},
          "output_type": "display_data"
        },
        {
          "data": {
            "text/html": [
              "<pre style=\"white-space:pre;overflow-x:auto;line-height:normal;font-family:Menlo,'DejaVu Sans Mono',consolas,'Courier New',monospace\">Eval num_timesteps=140000, episode_reward=-130.71 +/- 40.86\n",
              "</pre>\n"
            ],
            "text/plain": [
              "Eval num_timesteps=140000, episode_reward=-130.71 +/- 40.86\n"
            ]
          },
          "metadata": {},
          "output_type": "display_data"
        },
        {
          "data": {
            "text/html": [
              "<pre style=\"white-space:pre;overflow-x:auto;line-height:normal;font-family:Menlo,'DejaVu Sans Mono',consolas,'Courier New',monospace\">Episode length: 1000.00 +/- 0.00\n",
              "</pre>\n"
            ],
            "text/plain": [
              "Episode length: 1000.00 +/- 0.00\n"
            ]
          },
          "metadata": {},
          "output_type": "display_data"
        },
        {
          "data": {
            "text/html": [
              "<pre style=\"white-space:pre;overflow-x:auto;line-height:normal;font-family:Menlo,'DejaVu Sans Mono',consolas,'Courier New',monospace\">Eval num_timesteps=145000, episode_reward=11.60 +/- 94.49\n",
              "</pre>\n"
            ],
            "text/plain": [
              "Eval num_timesteps=145000, episode_reward=11.60 +/- 94.49\n"
            ]
          },
          "metadata": {},
          "output_type": "display_data"
        },
        {
          "data": {
            "text/html": [
              "<pre style=\"white-space:pre;overflow-x:auto;line-height:normal;font-family:Menlo,'DejaVu Sans Mono',consolas,'Courier New',monospace\">Episode length: 951.72 +/- 107.27\n",
              "</pre>\n"
            ],
            "text/plain": [
              "Episode length: 951.72 +/- 107.27\n"
            ]
          },
          "metadata": {},
          "output_type": "display_data"
        },
        {
          "data": {
            "text/html": [
              "<pre style=\"white-space:pre;overflow-x:auto;line-height:normal;font-family:Menlo,'DejaVu Sans Mono',consolas,'Courier New',monospace\">Eval num_timesteps=150000, episode_reward=195.20 +/- 59.88\n",
              "</pre>\n"
            ],
            "text/plain": [
              "Eval num_timesteps=150000, episode_reward=195.20 +/- 59.88\n"
            ]
          },
          "metadata": {},
          "output_type": "display_data"
        },
        {
          "data": {
            "text/html": [
              "<pre style=\"white-space:pre;overflow-x:auto;line-height:normal;font-family:Menlo,'DejaVu Sans Mono',consolas,'Courier New',monospace\">Episode length: 549.50 +/- 147.52\n",
              "</pre>\n"
            ],
            "text/plain": [
              "Episode length: 549.50 +/- 147.52\n"
            ]
          },
          "metadata": {},
          "output_type": "display_data"
        },
        {
          "data": {
            "text/html": [
              "<pre style=\"white-space:pre;overflow-x:auto;line-height:normal;font-family:Menlo,'DejaVu Sans Mono',consolas,'Courier New',monospace\">New best mean reward!\n",
              "</pre>\n"
            ],
            "text/plain": [
              "New best mean reward!\n"
            ]
          },
          "metadata": {},
          "output_type": "display_data"
        },
        {
          "data": {
            "text/html": [
              "<pre style=\"white-space:pre;overflow-x:auto;line-height:normal;font-family:Menlo,'DejaVu Sans Mono',consolas,'Courier New',monospace\">Eval num_timesteps=155000, episode_reward=195.59 +/- 84.53\n",
              "</pre>\n"
            ],
            "text/plain": [
              "Eval num_timesteps=155000, episode_reward=195.59 +/- 84.53\n"
            ]
          },
          "metadata": {},
          "output_type": "display_data"
        },
        {
          "data": {
            "text/html": [
              "<pre style=\"white-space:pre;overflow-x:auto;line-height:normal;font-family:Menlo,'DejaVu Sans Mono',consolas,'Courier New',monospace\">Episode length: 446.42 +/- 158.55\n",
              "</pre>\n"
            ],
            "text/plain": [
              "Episode length: 446.42 +/- 158.55\n"
            ]
          },
          "metadata": {},
          "output_type": "display_data"
        },
        {
          "data": {
            "text/html": [
              "<pre style=\"white-space:pre;overflow-x:auto;line-height:normal;font-family:Menlo,'DejaVu Sans Mono',consolas,'Courier New',monospace\">New best mean reward!\n",
              "</pre>\n"
            ],
            "text/plain": [
              "New best mean reward!\n"
            ]
          },
          "metadata": {},
          "output_type": "display_data"
        },
        {
          "data": {
            "text/html": [
              "<pre style=\"white-space:pre;overflow-x:auto;line-height:normal;font-family:Menlo,'DejaVu Sans Mono',consolas,'Courier New',monospace\">Eval num_timesteps=160000, episode_reward=147.21 +/- 107.24\n",
              "</pre>\n"
            ],
            "text/plain": [
              "Eval num_timesteps=160000, episode_reward=147.21 +/- 107.24\n"
            ]
          },
          "metadata": {},
          "output_type": "display_data"
        },
        {
          "data": {
            "text/html": [
              "<pre style=\"white-space:pre;overflow-x:auto;line-height:normal;font-family:Menlo,'DejaVu Sans Mono',consolas,'Courier New',monospace\">Episode length: 361.68 +/- 183.85\n",
              "</pre>\n"
            ],
            "text/plain": [
              "Episode length: 361.68 +/- 183.85\n"
            ]
          },
          "metadata": {},
          "output_type": "display_data"
        },
        {
          "data": {
            "text/html": [
              "<pre style=\"white-space:pre;overflow-x:auto;line-height:normal;font-family:Menlo,'DejaVu Sans Mono',consolas,'Courier New',monospace\">Eval num_timesteps=165000, episode_reward=82.55 +/- 109.71\n",
              "</pre>\n"
            ],
            "text/plain": [
              "Eval num_timesteps=165000, episode_reward=82.55 +/- 109.71\n"
            ]
          },
          "metadata": {},
          "output_type": "display_data"
        },
        {
          "data": {
            "text/html": [
              "<pre style=\"white-space:pre;overflow-x:auto;line-height:normal;font-family:Menlo,'DejaVu Sans Mono',consolas,'Courier New',monospace\">Episode length: 205.46 +/- 59.87\n",
              "</pre>\n"
            ],
            "text/plain": [
              "Episode length: 205.46 +/- 59.87\n"
            ]
          },
          "metadata": {},
          "output_type": "display_data"
        },
        {
          "data": {
            "text/html": [
              "<pre style=\"white-space:pre;overflow-x:auto;line-height:normal;font-family:Menlo,'DejaVu Sans Mono',consolas,'Courier New',monospace\">Eval num_timesteps=170000, episode_reward=14.91 +/- 17.60\n",
              "</pre>\n"
            ],
            "text/plain": [
              "Eval num_timesteps=170000, episode_reward=14.91 +/- 17.60\n"
            ]
          },
          "metadata": {},
          "output_type": "display_data"
        },
        {
          "data": {
            "text/html": [
              "<pre style=\"white-space:pre;overflow-x:auto;line-height:normal;font-family:Menlo,'DejaVu Sans Mono',consolas,'Courier New',monospace\">Episode length: 118.14 +/- 19.26\n",
              "</pre>\n"
            ],
            "text/plain": [
              "Episode length: 118.14 +/- 19.26\n"
            ]
          },
          "metadata": {},
          "output_type": "display_data"
        },
        {
          "data": {
            "text/html": [
              "<pre style=\"white-space:pre;overflow-x:auto;line-height:normal;font-family:Menlo,'DejaVu Sans Mono',consolas,'Courier New',monospace\">Eval num_timesteps=175000, episode_reward=7.28 +/- 18.31\n",
              "</pre>\n"
            ],
            "text/plain": [
              "Eval num_timesteps=175000, episode_reward=7.28 +/- 18.31\n"
            ]
          },
          "metadata": {},
          "output_type": "display_data"
        },
        {
          "data": {
            "text/html": [
              "<pre style=\"white-space:pre;overflow-x:auto;line-height:normal;font-family:Menlo,'DejaVu Sans Mono',consolas,'Courier New',monospace\">Episode length: 123.94 +/- 23.95\n",
              "</pre>\n"
            ],
            "text/plain": [
              "Episode length: 123.94 +/- 23.95\n"
            ]
          },
          "metadata": {},
          "output_type": "display_data"
        },
        {
          "data": {
            "text/html": [
              "<pre style=\"white-space:pre;overflow-x:auto;line-height:normal;font-family:Menlo,'DejaVu Sans Mono',consolas,'Courier New',monospace\">Eval num_timesteps=180000, episode_reward=-42.64 +/- 59.35\n",
              "</pre>\n"
            ],
            "text/plain": [
              "Eval num_timesteps=180000, episode_reward=-42.64 +/- 59.35\n"
            ]
          },
          "metadata": {},
          "output_type": "display_data"
        },
        {
          "data": {
            "text/html": [
              "<pre style=\"white-space:pre;overflow-x:auto;line-height:normal;font-family:Menlo,'DejaVu Sans Mono',consolas,'Courier New',monospace\">Episode length: 168.32 +/- 36.99\n",
              "</pre>\n"
            ],
            "text/plain": [
              "Episode length: 168.32 +/- 36.99\n"
            ]
          },
          "metadata": {},
          "output_type": "display_data"
        },
        {
          "data": {
            "text/html": [
              "<pre style=\"white-space:pre;overflow-x:auto;line-height:normal;font-family:Menlo,'DejaVu Sans Mono',consolas,'Courier New',monospace\">Eval num_timesteps=185000, episode_reward=-99.23 +/- 158.42\n",
              "</pre>\n"
            ],
            "text/plain": [
              "Eval num_timesteps=185000, episode_reward=-99.23 +/- 158.42\n"
            ]
          },
          "metadata": {},
          "output_type": "display_data"
        },
        {
          "data": {
            "text/html": [
              "<pre style=\"white-space:pre;overflow-x:auto;line-height:normal;font-family:Menlo,'DejaVu Sans Mono',consolas,'Courier New',monospace\">Episode length: 577.20 +/- 205.17\n",
              "</pre>\n"
            ],
            "text/plain": [
              "Episode length: 577.20 +/- 205.17\n"
            ]
          },
          "metadata": {},
          "output_type": "display_data"
        },
        {
          "data": {
            "text/html": [
              "<pre style=\"white-space:pre;overflow-x:auto;line-height:normal;font-family:Menlo,'DejaVu Sans Mono',consolas,'Courier New',monospace\">Eval num_timesteps=190000, episode_reward=-195.56 +/- 73.00\n",
              "</pre>\n"
            ],
            "text/plain": [
              "Eval num_timesteps=190000, episode_reward=-195.56 +/- 73.00\n"
            ]
          },
          "metadata": {},
          "output_type": "display_data"
        },
        {
          "data": {
            "text/html": [
              "<pre style=\"white-space:pre;overflow-x:auto;line-height:normal;font-family:Menlo,'DejaVu Sans Mono',consolas,'Courier New',monospace\">Episode length: 723.34 +/- 189.22\n",
              "</pre>\n"
            ],
            "text/plain": [
              "Episode length: 723.34 +/- 189.22\n"
            ]
          },
          "metadata": {},
          "output_type": "display_data"
        },
        {
          "data": {
            "text/html": [
              "<pre style=\"white-space:pre;overflow-x:auto;line-height:normal;font-family:Menlo,'DejaVu Sans Mono',consolas,'Courier New',monospace\">Eval num_timesteps=195000, episode_reward=-148.22 +/- 66.24\n",
              "</pre>\n"
            ],
            "text/plain": [
              "Eval num_timesteps=195000, episode_reward=-148.22 +/- 66.24\n"
            ]
          },
          "metadata": {},
          "output_type": "display_data"
        },
        {
          "data": {
            "text/html": [
              "<pre style=\"white-space:pre;overflow-x:auto;line-height:normal;font-family:Menlo,'DejaVu Sans Mono',consolas,'Courier New',monospace\">Episode length: 1000.00 +/- 0.00\n",
              "</pre>\n"
            ],
            "text/plain": [
              "Episode length: 1000.00 +/- 0.00\n"
            ]
          },
          "metadata": {},
          "output_type": "display_data"
        },
        {
          "data": {
            "text/html": [
              "<pre style=\"white-space:pre;overflow-x:auto;line-height:normal;font-family:Menlo,'DejaVu Sans Mono',consolas,'Courier New',monospace\">Eval num_timesteps=200000, episode_reward=-89.04 +/- 118.17\n",
              "</pre>\n"
            ],
            "text/plain": [
              "Eval num_timesteps=200000, episode_reward=-89.04 +/- 118.17\n"
            ]
          },
          "metadata": {},
          "output_type": "display_data"
        },
        {
          "data": {
            "text/html": [
              "<pre style=\"white-space:pre;overflow-x:auto;line-height:normal;font-family:Menlo,'DejaVu Sans Mono',consolas,'Courier New',monospace\">Episode length: 957.46 +/- 125.39\n",
              "</pre>\n"
            ],
            "text/plain": [
              "Episode length: 957.46 +/- 125.39\n"
            ]
          },
          "metadata": {},
          "output_type": "display_data"
        },
        {
          "data": {
            "text/html": [
              "<pre style=\"white-space:pre;overflow-x:auto;line-height:normal;font-family:Menlo,'DejaVu Sans Mono',consolas,'Courier New',monospace\">Eval num_timesteps=205000, episode_reward=-64.84 +/- 136.07\n",
              "</pre>\n"
            ],
            "text/plain": [
              "Eval num_timesteps=205000, episode_reward=-64.84 +/- 136.07\n"
            ]
          },
          "metadata": {},
          "output_type": "display_data"
        },
        {
          "data": {
            "text/html": [
              "<pre style=\"white-space:pre;overflow-x:auto;line-height:normal;font-family:Menlo,'DejaVu Sans Mono',consolas,'Courier New',monospace\">Episode length: 805.40 +/- 272.69\n",
              "</pre>\n"
            ],
            "text/plain": [
              "Episode length: 805.40 +/- 272.69\n"
            ]
          },
          "metadata": {},
          "output_type": "display_data"
        },
        {
          "data": {
            "text/html": [
              "<pre style=\"white-space:pre;overflow-x:auto;line-height:normal;font-family:Menlo,'DejaVu Sans Mono',consolas,'Courier New',monospace\">Eval num_timesteps=210000, episode_reward=8.55 +/- 164.99\n",
              "</pre>\n"
            ],
            "text/plain": [
              "Eval num_timesteps=210000, episode_reward=8.55 +/- 164.99\n"
            ]
          },
          "metadata": {},
          "output_type": "display_data"
        },
        {
          "data": {
            "text/html": [
              "<pre style=\"white-space:pre;overflow-x:auto;line-height:normal;font-family:Menlo,'DejaVu Sans Mono',consolas,'Courier New',monospace\">Episode length: 626.22 +/- 303.19\n",
              "</pre>\n"
            ],
            "text/plain": [
              "Episode length: 626.22 +/- 303.19\n"
            ]
          },
          "metadata": {},
          "output_type": "display_data"
        },
        {
          "data": {
            "text/html": [
              "<pre style=\"white-space:pre;overflow-x:auto;line-height:normal;font-family:Menlo,'DejaVu Sans Mono',consolas,'Courier New',monospace\">Eval num_timesteps=215000, episode_reward=24.76 +/- 157.42\n",
              "</pre>\n"
            ],
            "text/plain": [
              "Eval num_timesteps=215000, episode_reward=24.76 +/- 157.42\n"
            ]
          },
          "metadata": {},
          "output_type": "display_data"
        },
        {
          "data": {
            "text/html": [
              "<pre style=\"white-space:pre;overflow-x:auto;line-height:normal;font-family:Menlo,'DejaVu Sans Mono',consolas,'Courier New',monospace\">Episode length: 551.84 +/- 311.48\n",
              "</pre>\n"
            ],
            "text/plain": [
              "Episode length: 551.84 +/- 311.48\n"
            ]
          },
          "metadata": {},
          "output_type": "display_data"
        },
        {
          "data": {
            "text/html": [
              "<pre style=\"white-space:pre;overflow-x:auto;line-height:normal;font-family:Menlo,'DejaVu Sans Mono',consolas,'Courier New',monospace\">Eval num_timesteps=220000, episode_reward=57.84 +/- 143.52\n",
              "</pre>\n"
            ],
            "text/plain": [
              "Eval num_timesteps=220000, episode_reward=57.84 +/- 143.52\n"
            ]
          },
          "metadata": {},
          "output_type": "display_data"
        },
        {
          "data": {
            "text/html": [
              "<pre style=\"white-space:pre;overflow-x:auto;line-height:normal;font-family:Menlo,'DejaVu Sans Mono',consolas,'Courier New',monospace\">Episode length: 483.46 +/- 291.93\n",
              "</pre>\n"
            ],
            "text/plain": [
              "Episode length: 483.46 +/- 291.93\n"
            ]
          },
          "metadata": {},
          "output_type": "display_data"
        },
        {
          "data": {
            "text/html": [
              "<pre style=\"white-space:pre;overflow-x:auto;line-height:normal;font-family:Menlo,'DejaVu Sans Mono',consolas,'Courier New',monospace\">Eval num_timesteps=225000, episode_reward=76.28 +/- 123.05\n",
              "</pre>\n"
            ],
            "text/plain": [
              "Eval num_timesteps=225000, episode_reward=76.28 +/- 123.05\n"
            ]
          },
          "metadata": {},
          "output_type": "display_data"
        },
        {
          "data": {
            "text/html": [
              "<pre style=\"white-space:pre;overflow-x:auto;line-height:normal;font-family:Menlo,'DejaVu Sans Mono',consolas,'Courier New',monospace\">Episode length: 333.30 +/- 196.33\n",
              "</pre>\n"
            ],
            "text/plain": [
              "Episode length: 333.30 +/- 196.33\n"
            ]
          },
          "metadata": {},
          "output_type": "display_data"
        },
        {
          "data": {
            "text/html": [
              "<pre style=\"white-space:pre;overflow-x:auto;line-height:normal;font-family:Menlo,'DejaVu Sans Mono',consolas,'Courier New',monospace\">Eval num_timesteps=230000, episode_reward=25.28 +/- 115.38\n",
              "</pre>\n"
            ],
            "text/plain": [
              "Eval num_timesteps=230000, episode_reward=25.28 +/- 115.38\n"
            ]
          },
          "metadata": {},
          "output_type": "display_data"
        },
        {
          "data": {
            "text/html": [
              "<pre style=\"white-space:pre;overflow-x:auto;line-height:normal;font-family:Menlo,'DejaVu Sans Mono',consolas,'Courier New',monospace\">Episode length: 178.60 +/- 66.64\n",
              "</pre>\n"
            ],
            "text/plain": [
              "Episode length: 178.60 +/- 66.64\n"
            ]
          },
          "metadata": {},
          "output_type": "display_data"
        },
        {
          "data": {
            "text/html": [
              "<pre style=\"white-space:pre;overflow-x:auto;line-height:normal;font-family:Menlo,'DejaVu Sans Mono',consolas,'Courier New',monospace\">Eval num_timesteps=235000, episode_reward=-42.02 +/- 63.96\n",
              "</pre>\n"
            ],
            "text/plain": [
              "Eval num_timesteps=235000, episode_reward=-42.02 +/- 63.96\n"
            ]
          },
          "metadata": {},
          "output_type": "display_data"
        },
        {
          "data": {
            "text/html": [
              "<pre style=\"white-space:pre;overflow-x:auto;line-height:normal;font-family:Menlo,'DejaVu Sans Mono',consolas,'Courier New',monospace\">Episode length: 90.16 +/- 16.02\n",
              "</pre>\n"
            ],
            "text/plain": [
              "Episode length: 90.16 +/- 16.02\n"
            ]
          },
          "metadata": {},
          "output_type": "display_data"
        },
        {
          "data": {
            "text/html": [
              "<pre style=\"white-space:pre;overflow-x:auto;line-height:normal;font-family:Menlo,'DejaVu Sans Mono',consolas,'Courier New',monospace\">Eval num_timesteps=240000, episode_reward=-46.30 +/- 49.72\n",
              "</pre>\n"
            ],
            "text/plain": [
              "Eval num_timesteps=240000, episode_reward=-46.30 +/- 49.72\n"
            ]
          },
          "metadata": {},
          "output_type": "display_data"
        },
        {
          "data": {
            "text/html": [
              "<pre style=\"white-space:pre;overflow-x:auto;line-height:normal;font-family:Menlo,'DejaVu Sans Mono',consolas,'Courier New',monospace\">Episode length: 84.86 +/- 15.63\n",
              "</pre>\n"
            ],
            "text/plain": [
              "Episode length: 84.86 +/- 15.63\n"
            ]
          },
          "metadata": {},
          "output_type": "display_data"
        },
        {
          "data": {
            "text/html": [
              "<pre style=\"white-space:pre;overflow-x:auto;line-height:normal;font-family:Menlo,'DejaVu Sans Mono',consolas,'Courier New',monospace\">Eval num_timesteps=245000, episode_reward=-43.23 +/- 43.48\n",
              "</pre>\n"
            ],
            "text/plain": [
              "Eval num_timesteps=245000, episode_reward=-43.23 +/- 43.48\n"
            ]
          },
          "metadata": {},
          "output_type": "display_data"
        },
        {
          "data": {
            "text/html": [
              "<pre style=\"white-space:pre;overflow-x:auto;line-height:normal;font-family:Menlo,'DejaVu Sans Mono',consolas,'Courier New',monospace\">Episode length: 84.96 +/- 15.75\n",
              "</pre>\n"
            ],
            "text/plain": [
              "Episode length: 84.96 +/- 15.75\n"
            ]
          },
          "metadata": {},
          "output_type": "display_data"
        },
        {
          "data": {
            "text/html": [
              "<pre style=\"white-space:pre;overflow-x:auto;line-height:normal;font-family:Menlo,'DejaVu Sans Mono',consolas,'Courier New',monospace\">Eval num_timesteps=250000, episode_reward=-49.34 +/- 43.89\n",
              "</pre>\n"
            ],
            "text/plain": [
              "Eval num_timesteps=250000, episode_reward=-49.34 +/- 43.89\n"
            ]
          },
          "metadata": {},
          "output_type": "display_data"
        },
        {
          "data": {
            "text/html": [
              "<pre style=\"white-space:pre;overflow-x:auto;line-height:normal;font-family:Menlo,'DejaVu Sans Mono',consolas,'Courier New',monospace\">Episode length: 82.96 +/- 14.31\n",
              "</pre>\n"
            ],
            "text/plain": [
              "Episode length: 82.96 +/- 14.31\n"
            ]
          },
          "metadata": {},
          "output_type": "display_data"
        },
        {
          "data": {
            "text/html": [
              "<pre style=\"white-space:pre;overflow-x:auto;line-height:normal;font-family:Menlo,'DejaVu Sans Mono',consolas,'Courier New',monospace\">Eval num_timesteps=255000, episode_reward=-41.71 +/- 47.04\n",
              "</pre>\n"
            ],
            "text/plain": [
              "Eval num_timesteps=255000, episode_reward=-41.71 +/- 47.04\n"
            ]
          },
          "metadata": {},
          "output_type": "display_data"
        },
        {
          "data": {
            "text/html": [
              "<pre style=\"white-space:pre;overflow-x:auto;line-height:normal;font-family:Menlo,'DejaVu Sans Mono',consolas,'Courier New',monospace\">Episode length: 114.76 +/- 48.70\n",
              "</pre>\n"
            ],
            "text/plain": [
              "Episode length: 114.76 +/- 48.70\n"
            ]
          },
          "metadata": {},
          "output_type": "display_data"
        },
        {
          "data": {
            "text/html": [
              "<pre style=\"white-space:pre;overflow-x:auto;line-height:normal;font-family:Menlo,'DejaVu Sans Mono',consolas,'Courier New',monospace\">Eval num_timesteps=260000, episode_reward=-34.17 +/- 63.84\n",
              "</pre>\n"
            ],
            "text/plain": [
              "Eval num_timesteps=260000, episode_reward=-34.17 +/- 63.84\n"
            ]
          },
          "metadata": {},
          "output_type": "display_data"
        },
        {
          "data": {
            "text/html": [
              "<pre style=\"white-space:pre;overflow-x:auto;line-height:normal;font-family:Menlo,'DejaVu Sans Mono',consolas,'Courier New',monospace\">Episode length: 122.40 +/- 48.28\n",
              "</pre>\n"
            ],
            "text/plain": [
              "Episode length: 122.40 +/- 48.28\n"
            ]
          },
          "metadata": {},
          "output_type": "display_data"
        },
        {
          "data": {
            "text/html": [
              "<pre style=\"white-space:pre;overflow-x:auto;line-height:normal;font-family:Menlo,'DejaVu Sans Mono',consolas,'Courier New',monospace\">Eval num_timesteps=265000, episode_reward=41.46 +/- 111.24\n",
              "</pre>\n"
            ],
            "text/plain": [
              "Eval num_timesteps=265000, episode_reward=41.46 +/- 111.24\n"
            ]
          },
          "metadata": {},
          "output_type": "display_data"
        },
        {
          "data": {
            "text/html": [
              "<pre style=\"white-space:pre;overflow-x:auto;line-height:normal;font-family:Menlo,'DejaVu Sans Mono',consolas,'Courier New',monospace\">Episode length: 224.80 +/- 147.23\n",
              "</pre>\n"
            ],
            "text/plain": [
              "Episode length: 224.80 +/- 147.23\n"
            ]
          },
          "metadata": {},
          "output_type": "display_data"
        },
        {
          "data": {
            "text/html": [
              "<pre style=\"white-space:pre;overflow-x:auto;line-height:normal;font-family:Menlo,'DejaVu Sans Mono',consolas,'Courier New',monospace\">Eval num_timesteps=270000, episode_reward=-3.00 +/- 159.97\n",
              "</pre>\n"
            ],
            "text/plain": [
              "Eval num_timesteps=270000, episode_reward=-3.00 +/- 159.97\n"
            ]
          },
          "metadata": {},
          "output_type": "display_data"
        },
        {
          "data": {
            "text/html": [
              "<pre style=\"white-space:pre;overflow-x:auto;line-height:normal;font-family:Menlo,'DejaVu Sans Mono',consolas,'Courier New',monospace\">Episode length: 310.18 +/- 98.25\n",
              "</pre>\n"
            ],
            "text/plain": [
              "Episode length: 310.18 +/- 98.25\n"
            ]
          },
          "metadata": {},
          "output_type": "display_data"
        },
        {
          "data": {
            "text/html": [
              "<pre style=\"white-space:pre;overflow-x:auto;line-height:normal;font-family:Menlo,'DejaVu Sans Mono',consolas,'Courier New',monospace\">Eval num_timesteps=275000, episode_reward=33.35 +/- 152.81\n",
              "</pre>\n"
            ],
            "text/plain": [
              "Eval num_timesteps=275000, episode_reward=33.35 +/- 152.81\n"
            ]
          },
          "metadata": {},
          "output_type": "display_data"
        },
        {
          "data": {
            "text/html": [
              "<pre style=\"white-space:pre;overflow-x:auto;line-height:normal;font-family:Menlo,'DejaVu Sans Mono',consolas,'Courier New',monospace\">Episode length: 337.72 +/- 135.08\n",
              "</pre>\n"
            ],
            "text/plain": [
              "Episode length: 337.72 +/- 135.08\n"
            ]
          },
          "metadata": {},
          "output_type": "display_data"
        },
        {
          "data": {
            "text/html": [
              "<pre style=\"white-space:pre;overflow-x:auto;line-height:normal;font-family:Menlo,'DejaVu Sans Mono',consolas,'Courier New',monospace\">Eval num_timesteps=280000, episode_reward=-90.49 +/- 131.61\n",
              "</pre>\n"
            ],
            "text/plain": [
              "Eval num_timesteps=280000, episode_reward=-90.49 +/- 131.61\n"
            ]
          },
          "metadata": {},
          "output_type": "display_data"
        },
        {
          "data": {
            "text/html": [
              "<pre style=\"white-space:pre;overflow-x:auto;line-height:normal;font-family:Menlo,'DejaVu Sans Mono',consolas,'Courier New',monospace\">Episode length: 329.84 +/- 107.20\n",
              "</pre>\n"
            ],
            "text/plain": [
              "Episode length: 329.84 +/- 107.20\n"
            ]
          },
          "metadata": {},
          "output_type": "display_data"
        },
        {
          "data": {
            "text/html": [
              "<pre style=\"white-space:pre;overflow-x:auto;line-height:normal;font-family:Menlo,'DejaVu Sans Mono',consolas,'Courier New',monospace\">Eval num_timesteps=285000, episode_reward=18.06 +/- 159.40\n",
              "</pre>\n"
            ],
            "text/plain": [
              "Eval num_timesteps=285000, episode_reward=18.06 +/- 159.40\n"
            ]
          },
          "metadata": {},
          "output_type": "display_data"
        },
        {
          "data": {
            "text/html": [
              "<pre style=\"white-space:pre;overflow-x:auto;line-height:normal;font-family:Menlo,'DejaVu Sans Mono',consolas,'Courier New',monospace\">Episode length: 534.78 +/- 141.42\n",
              "</pre>\n"
            ],
            "text/plain": [
              "Episode length: 534.78 +/- 141.42\n"
            ]
          },
          "metadata": {},
          "output_type": "display_data"
        },
        {
          "data": {
            "text/html": [
              "<pre style=\"white-space:pre;overflow-x:auto;line-height:normal;font-family:Menlo,'DejaVu Sans Mono',consolas,'Courier New',monospace\">Eval num_timesteps=290000, episode_reward=-96.02 +/- 120.88\n",
              "</pre>\n"
            ],
            "text/plain": [
              "Eval num_timesteps=290000, episode_reward=-96.02 +/- 120.88\n"
            ]
          },
          "metadata": {},
          "output_type": "display_data"
        },
        {
          "data": {
            "text/html": [
              "<pre style=\"white-space:pre;overflow-x:auto;line-height:normal;font-family:Menlo,'DejaVu Sans Mono',consolas,'Courier New',monospace\">Episode length: 713.06 +/- 211.08\n",
              "</pre>\n"
            ],
            "text/plain": [
              "Episode length: 713.06 +/- 211.08\n"
            ]
          },
          "metadata": {},
          "output_type": "display_data"
        },
        {
          "data": {
            "text/html": [
              "<pre style=\"white-space:pre;overflow-x:auto;line-height:normal;font-family:Menlo,'DejaVu Sans Mono',consolas,'Courier New',monospace\">Eval num_timesteps=295000, episode_reward=33.20 +/- 106.44\n",
              "</pre>\n"
            ],
            "text/plain": [
              "Eval num_timesteps=295000, episode_reward=33.20 +/- 106.44\n"
            ]
          },
          "metadata": {},
          "output_type": "display_data"
        },
        {
          "data": {
            "text/html": [
              "<pre style=\"white-space:pre;overflow-x:auto;line-height:normal;font-family:Menlo,'DejaVu Sans Mono',consolas,'Courier New',monospace\">Episode length: 748.08 +/- 183.04\n",
              "</pre>\n"
            ],
            "text/plain": [
              "Episode length: 748.08 +/- 183.04\n"
            ]
          },
          "metadata": {},
          "output_type": "display_data"
        },
        {
          "data": {
            "text/html": [
              "<pre style=\"white-space:pre;overflow-x:auto;line-height:normal;font-family:Menlo,'DejaVu Sans Mono',consolas,'Courier New',monospace\">Eval num_timesteps=300000, episode_reward=-41.74 +/- 55.70\n",
              "</pre>\n"
            ],
            "text/plain": [
              "Eval num_timesteps=300000, episode_reward=-41.74 +/- 55.70\n"
            ]
          },
          "metadata": {},
          "output_type": "display_data"
        },
        {
          "data": {
            "text/html": [
              "<pre style=\"white-space:pre;overflow-x:auto;line-height:normal;font-family:Menlo,'DejaVu Sans Mono',consolas,'Courier New',monospace\">Episode length: 980.46 +/- 75.50\n",
              "</pre>\n"
            ],
            "text/plain": [
              "Episode length: 980.46 +/- 75.50\n"
            ]
          },
          "metadata": {},
          "output_type": "display_data"
        },
        {
          "data": {
            "text/html": [
              "<pre style=\"white-space:pre;overflow-x:auto;line-height:normal;font-family:Menlo,'DejaVu Sans Mono',consolas,'Courier New',monospace\">Eval num_timesteps=305000, episode_reward=-25.51 +/- 106.68\n",
              "</pre>\n"
            ],
            "text/plain": [
              "Eval num_timesteps=305000, episode_reward=-25.51 +/- 106.68\n"
            ]
          },
          "metadata": {},
          "output_type": "display_data"
        },
        {
          "data": {
            "text/html": [
              "<pre style=\"white-space:pre;overflow-x:auto;line-height:normal;font-family:Menlo,'DejaVu Sans Mono',consolas,'Courier New',monospace\">Episode length: 876.02 +/- 143.21\n",
              "</pre>\n"
            ],
            "text/plain": [
              "Episode length: 876.02 +/- 143.21\n"
            ]
          },
          "metadata": {},
          "output_type": "display_data"
        },
        {
          "data": {
            "text/html": [
              "<pre style=\"white-space:pre;overflow-x:auto;line-height:normal;font-family:Menlo,'DejaVu Sans Mono',consolas,'Courier New',monospace\">Eval num_timesteps=310000, episode_reward=26.84 +/- 101.22\n",
              "</pre>\n"
            ],
            "text/plain": [
              "Eval num_timesteps=310000, episode_reward=26.84 +/- 101.22\n"
            ]
          },
          "metadata": {},
          "output_type": "display_data"
        },
        {
          "data": {
            "text/html": [
              "<pre style=\"white-space:pre;overflow-x:auto;line-height:normal;font-family:Menlo,'DejaVu Sans Mono',consolas,'Courier New',monospace\">Episode length: 807.54 +/- 167.14\n",
              "</pre>\n"
            ],
            "text/plain": [
              "Episode length: 807.54 +/- 167.14\n"
            ]
          },
          "metadata": {},
          "output_type": "display_data"
        },
        {
          "data": {
            "text/html": [
              "<pre style=\"white-space:pre;overflow-x:auto;line-height:normal;font-family:Menlo,'DejaVu Sans Mono',consolas,'Courier New',monospace\">Eval num_timesteps=315000, episode_reward=18.68 +/- 109.24\n",
              "</pre>\n"
            ],
            "text/plain": [
              "Eval num_timesteps=315000, episode_reward=18.68 +/- 109.24\n"
            ]
          },
          "metadata": {},
          "output_type": "display_data"
        },
        {
          "data": {
            "text/html": [
              "<pre style=\"white-space:pre;overflow-x:auto;line-height:normal;font-family:Menlo,'DejaVu Sans Mono',consolas,'Courier New',monospace\">Episode length: 783.94 +/- 201.92\n",
              "</pre>\n"
            ],
            "text/plain": [
              "Episode length: 783.94 +/- 201.92\n"
            ]
          },
          "metadata": {},
          "output_type": "display_data"
        },
        {
          "data": {
            "text/html": [
              "<pre style=\"white-space:pre;overflow-x:auto;line-height:normal;font-family:Menlo,'DejaVu Sans Mono',consolas,'Courier New',monospace\">Eval num_timesteps=320000, episode_reward=-52.27 +/- 24.28\n",
              "</pre>\n"
            ],
            "text/plain": [
              "Eval num_timesteps=320000, episode_reward=-52.27 +/- 24.28\n"
            ]
          },
          "metadata": {},
          "output_type": "display_data"
        },
        {
          "data": {
            "text/html": [
              "<pre style=\"white-space:pre;overflow-x:auto;line-height:normal;font-family:Menlo,'DejaVu Sans Mono',consolas,'Courier New',monospace\">Episode length: 1000.00 +/- 0.00\n",
              "</pre>\n"
            ],
            "text/plain": [
              "Episode length: 1000.00 +/- 0.00\n"
            ]
          },
          "metadata": {},
          "output_type": "display_data"
        },
        {
          "data": {
            "text/html": [
              "<pre style=\"white-space:pre;overflow-x:auto;line-height:normal;font-family:Menlo,'DejaVu Sans Mono',consolas,'Courier New',monospace\">Eval num_timesteps=325000, episode_reward=-30.07 +/- 18.26\n",
              "</pre>\n"
            ],
            "text/plain": [
              "Eval num_timesteps=325000, episode_reward=-30.07 +/- 18.26\n"
            ]
          },
          "metadata": {},
          "output_type": "display_data"
        },
        {
          "data": {
            "text/html": [
              "<pre style=\"white-space:pre;overflow-x:auto;line-height:normal;font-family:Menlo,'DejaVu Sans Mono',consolas,'Courier New',monospace\">Episode length: 1000.00 +/- 0.00\n",
              "</pre>\n"
            ],
            "text/plain": [
              "Episode length: 1000.00 +/- 0.00\n"
            ]
          },
          "metadata": {},
          "output_type": "display_data"
        },
        {
          "data": {
            "text/html": [
              "<pre style=\"white-space:pre;overflow-x:auto;line-height:normal;font-family:Menlo,'DejaVu Sans Mono',consolas,'Courier New',monospace\">Eval num_timesteps=330000, episode_reward=-39.37 +/- 58.45\n",
              "</pre>\n"
            ],
            "text/plain": [
              "Eval num_timesteps=330000, episode_reward=-39.37 +/- 58.45\n"
            ]
          },
          "metadata": {},
          "output_type": "display_data"
        },
        {
          "data": {
            "text/html": [
              "<pre style=\"white-space:pre;overflow-x:auto;line-height:normal;font-family:Menlo,'DejaVu Sans Mono',consolas,'Courier New',monospace\">Episode length: 974.04 +/- 80.77\n",
              "</pre>\n"
            ],
            "text/plain": [
              "Episode length: 974.04 +/- 80.77\n"
            ]
          },
          "metadata": {},
          "output_type": "display_data"
        },
        {
          "data": {
            "text/html": [
              "<pre style=\"white-space:pre;overflow-x:auto;line-height:normal;font-family:Menlo,'DejaVu Sans Mono',consolas,'Courier New',monospace\">Eval num_timesteps=335000, episode_reward=-52.67 +/- 59.88\n",
              "</pre>\n"
            ],
            "text/plain": [
              "Eval num_timesteps=335000, episode_reward=-52.67 +/- 59.88\n"
            ]
          },
          "metadata": {},
          "output_type": "display_data"
        },
        {
          "data": {
            "text/html": [
              "<pre style=\"white-space:pre;overflow-x:auto;line-height:normal;font-family:Menlo,'DejaVu Sans Mono',consolas,'Courier New',monospace\">Episode length: 988.28 +/- 82.04\n",
              "</pre>\n"
            ],
            "text/plain": [
              "Episode length: 988.28 +/- 82.04\n"
            ]
          },
          "metadata": {},
          "output_type": "display_data"
        },
        {
          "data": {
            "text/html": [
              "<pre style=\"white-space:pre;overflow-x:auto;line-height:normal;font-family:Menlo,'DejaVu Sans Mono',consolas,'Courier New',monospace\">Eval num_timesteps=340000, episode_reward=39.55 +/- 100.57\n",
              "</pre>\n"
            ],
            "text/plain": [
              "Eval num_timesteps=340000, episode_reward=39.55 +/- 100.57\n"
            ]
          },
          "metadata": {},
          "output_type": "display_data"
        },
        {
          "data": {
            "text/html": [
              "<pre style=\"white-space:pre;overflow-x:auto;line-height:normal;font-family:Menlo,'DejaVu Sans Mono',consolas,'Courier New',monospace\">Episode length: 904.12 +/- 157.08\n",
              "</pre>\n"
            ],
            "text/plain": [
              "Episode length: 904.12 +/- 157.08\n"
            ]
          },
          "metadata": {},
          "output_type": "display_data"
        },
        {
          "data": {
            "text/html": [
              "<pre style=\"white-space:pre;overflow-x:auto;line-height:normal;font-family:Menlo,'DejaVu Sans Mono',consolas,'Courier New',monospace\">Eval num_timesteps=345000, episode_reward=8.44 +/- 89.09\n",
              "</pre>\n"
            ],
            "text/plain": [
              "Eval num_timesteps=345000, episode_reward=8.44 +/- 89.09\n"
            ]
          },
          "metadata": {},
          "output_type": "display_data"
        },
        {
          "data": {
            "text/html": [
              "<pre style=\"white-space:pre;overflow-x:auto;line-height:normal;font-family:Menlo,'DejaVu Sans Mono',consolas,'Courier New',monospace\">Episode length: 938.16 +/- 173.27\n",
              "</pre>\n"
            ],
            "text/plain": [
              "Episode length: 938.16 +/- 173.27\n"
            ]
          },
          "metadata": {},
          "output_type": "display_data"
        },
        {
          "data": {
            "text/html": [
              "<pre style=\"white-space:pre;overflow-x:auto;line-height:normal;font-family:Menlo,'DejaVu Sans Mono',consolas,'Courier New',monospace\">Eval num_timesteps=350000, episode_reward=84.76 +/- 107.03\n",
              "</pre>\n"
            ],
            "text/plain": [
              "Eval num_timesteps=350000, episode_reward=84.76 +/- 107.03\n"
            ]
          },
          "metadata": {},
          "output_type": "display_data"
        },
        {
          "data": {
            "text/html": [
              "<pre style=\"white-space:pre;overflow-x:auto;line-height:normal;font-family:Menlo,'DejaVu Sans Mono',consolas,'Courier New',monospace\">Episode length: 826.74 +/- 243.54\n",
              "</pre>\n"
            ],
            "text/plain": [
              "Episode length: 826.74 +/- 243.54\n"
            ]
          },
          "metadata": {},
          "output_type": "display_data"
        },
        {
          "data": {
            "text/html": [
              "<pre style=\"white-space:pre;overflow-x:auto;line-height:normal;font-family:Menlo,'DejaVu Sans Mono',consolas,'Courier New',monospace\">Eval num_timesteps=355000, episode_reward=152.76 +/- 72.73\n",
              "</pre>\n"
            ],
            "text/plain": [
              "Eval num_timesteps=355000, episode_reward=152.76 +/- 72.73\n"
            ]
          },
          "metadata": {},
          "output_type": "display_data"
        },
        {
          "data": {
            "text/html": [
              "<pre style=\"white-space:pre;overflow-x:auto;line-height:normal;font-family:Menlo,'DejaVu Sans Mono',consolas,'Courier New',monospace\">Episode length: 718.90 +/- 177.73\n",
              "</pre>\n"
            ],
            "text/plain": [
              "Episode length: 718.90 +/- 177.73\n"
            ]
          },
          "metadata": {},
          "output_type": "display_data"
        },
        {
          "data": {
            "text/html": [
              "<pre style=\"white-space:pre;overflow-x:auto;line-height:normal;font-family:Menlo,'DejaVu Sans Mono',consolas,'Courier New',monospace\">Eval num_timesteps=360000, episode_reward=171.50 +/- 42.77\n",
              "</pre>\n"
            ],
            "text/plain": [
              "Eval num_timesteps=360000, episode_reward=171.50 +/- 42.77\n"
            ]
          },
          "metadata": {},
          "output_type": "display_data"
        },
        {
          "data": {
            "text/html": [
              "<pre style=\"white-space:pre;overflow-x:auto;line-height:normal;font-family:Menlo,'DejaVu Sans Mono',consolas,'Courier New',monospace\">Episode length: 643.96 +/- 132.86\n",
              "</pre>\n"
            ],
            "text/plain": [
              "Episode length: 643.96 +/- 132.86\n"
            ]
          },
          "metadata": {},
          "output_type": "display_data"
        },
        {
          "data": {
            "text/html": [
              "<pre style=\"white-space:pre;overflow-x:auto;line-height:normal;font-family:Menlo,'DejaVu Sans Mono',consolas,'Courier New',monospace\">Eval num_timesteps=365000, episode_reward=157.13 +/- 57.70\n",
              "</pre>\n"
            ],
            "text/plain": [
              "Eval num_timesteps=365000, episode_reward=157.13 +/- 57.70\n"
            ]
          },
          "metadata": {},
          "output_type": "display_data"
        },
        {
          "data": {
            "text/html": [
              "<pre style=\"white-space:pre;overflow-x:auto;line-height:normal;font-family:Menlo,'DejaVu Sans Mono',consolas,'Courier New',monospace\">Episode length: 615.78 +/- 191.21\n",
              "</pre>\n"
            ],
            "text/plain": [
              "Episode length: 615.78 +/- 191.21\n"
            ]
          },
          "metadata": {},
          "output_type": "display_data"
        },
        {
          "data": {
            "text/html": [
              "<pre style=\"white-space:pre;overflow-x:auto;line-height:normal;font-family:Menlo,'DejaVu Sans Mono',consolas,'Courier New',monospace\">Eval num_timesteps=370000, episode_reward=181.58 +/- 73.99\n",
              "</pre>\n"
            ],
            "text/plain": [
              "Eval num_timesteps=370000, episode_reward=181.58 +/- 73.99\n"
            ]
          },
          "metadata": {},
          "output_type": "display_data"
        },
        {
          "data": {
            "text/html": [
              "<pre style=\"white-space:pre;overflow-x:auto;line-height:normal;font-family:Menlo,'DejaVu Sans Mono',consolas,'Courier New',monospace\">Episode length: 513.54 +/- 132.52\n",
              "</pre>\n"
            ],
            "text/plain": [
              "Episode length: 513.54 +/- 132.52\n"
            ]
          },
          "metadata": {},
          "output_type": "display_data"
        },
        {
          "data": {
            "text/html": [
              "<pre style=\"white-space:pre;overflow-x:auto;line-height:normal;font-family:Menlo,'DejaVu Sans Mono',consolas,'Courier New',monospace\">Eval num_timesteps=375000, episode_reward=140.04 +/- 120.10\n",
              "</pre>\n"
            ],
            "text/plain": [
              "Eval num_timesteps=375000, episode_reward=140.04 +/- 120.10\n"
            ]
          },
          "metadata": {},
          "output_type": "display_data"
        },
        {
          "data": {
            "text/html": [
              "<pre style=\"white-space:pre;overflow-x:auto;line-height:normal;font-family:Menlo,'DejaVu Sans Mono',consolas,'Courier New',monospace\">Episode length: 432.42 +/- 160.87\n",
              "</pre>\n"
            ],
            "text/plain": [
              "Episode length: 432.42 +/- 160.87\n"
            ]
          },
          "metadata": {},
          "output_type": "display_data"
        },
        {
          "data": {
            "text/html": [
              "<pre style=\"white-space:pre;overflow-x:auto;line-height:normal;font-family:Menlo,'DejaVu Sans Mono',consolas,'Courier New',monospace\">Eval num_timesteps=380000, episode_reward=82.91 +/- 99.61\n",
              "</pre>\n"
            ],
            "text/plain": [
              "Eval num_timesteps=380000, episode_reward=82.91 +/- 99.61\n"
            ]
          },
          "metadata": {},
          "output_type": "display_data"
        },
        {
          "data": {
            "text/html": [
              "<pre style=\"white-space:pre;overflow-x:auto;line-height:normal;font-family:Menlo,'DejaVu Sans Mono',consolas,'Courier New',monospace\">Episode length: 805.40 +/- 207.30\n",
              "</pre>\n"
            ],
            "text/plain": [
              "Episode length: 805.40 +/- 207.30\n"
            ]
          },
          "metadata": {},
          "output_type": "display_data"
        },
        {
          "data": {
            "text/html": [
              "<pre style=\"white-space:pre;overflow-x:auto;line-height:normal;font-family:Menlo,'DejaVu Sans Mono',consolas,'Courier New',monospace\">Eval num_timesteps=385000, episode_reward=25.43 +/- 91.54\n",
              "</pre>\n"
            ],
            "text/plain": [
              "Eval num_timesteps=385000, episode_reward=25.43 +/- 91.54\n"
            ]
          },
          "metadata": {},
          "output_type": "display_data"
        },
        {
          "data": {
            "text/html": [
              "<pre style=\"white-space:pre;overflow-x:auto;line-height:normal;font-family:Menlo,'DejaVu Sans Mono',consolas,'Courier New',monospace\">Episode length: 919.12 +/- 155.11\n",
              "</pre>\n"
            ],
            "text/plain": [
              "Episode length: 919.12 +/- 155.11\n"
            ]
          },
          "metadata": {},
          "output_type": "display_data"
        },
        {
          "data": {
            "text/html": [
              "<pre style=\"white-space:pre;overflow-x:auto;line-height:normal;font-family:Menlo,'DejaVu Sans Mono',consolas,'Courier New',monospace\">Eval num_timesteps=390000, episode_reward=101.82 +/- 114.09\n",
              "</pre>\n"
            ],
            "text/plain": [
              "Eval num_timesteps=390000, episode_reward=101.82 +/- 114.09\n"
            ]
          },
          "metadata": {},
          "output_type": "display_data"
        },
        {
          "data": {
            "text/html": [
              "<pre style=\"white-space:pre;overflow-x:auto;line-height:normal;font-family:Menlo,'DejaVu Sans Mono',consolas,'Courier New',monospace\">Episode length: 626.36 +/- 138.06\n",
              "</pre>\n"
            ],
            "text/plain": [
              "Episode length: 626.36 +/- 138.06\n"
            ]
          },
          "metadata": {},
          "output_type": "display_data"
        },
        {
          "data": {
            "text/html": [
              "<pre style=\"white-space:pre;overflow-x:auto;line-height:normal;font-family:Menlo,'DejaVu Sans Mono',consolas,'Courier New',monospace\">Eval num_timesteps=395000, episode_reward=116.54 +/- 90.79\n",
              "</pre>\n"
            ],
            "text/plain": [
              "Eval num_timesteps=395000, episode_reward=116.54 +/- 90.79\n"
            ]
          },
          "metadata": {},
          "output_type": "display_data"
        },
        {
          "data": {
            "text/html": [
              "<pre style=\"white-space:pre;overflow-x:auto;line-height:normal;font-family:Menlo,'DejaVu Sans Mono',consolas,'Courier New',monospace\">Episode length: 678.02 +/- 172.27\n",
              "</pre>\n"
            ],
            "text/plain": [
              "Episode length: 678.02 +/- 172.27\n"
            ]
          },
          "metadata": {},
          "output_type": "display_data"
        },
        {
          "data": {
            "text/html": [
              "<pre style=\"white-space:pre;overflow-x:auto;line-height:normal;font-family:Menlo,'DejaVu Sans Mono',consolas,'Courier New',monospace\">Eval num_timesteps=400000, episode_reward=105.47 +/- 98.79\n",
              "</pre>\n"
            ],
            "text/plain": [
              "Eval num_timesteps=400000, episode_reward=105.47 +/- 98.79\n"
            ]
          },
          "metadata": {},
          "output_type": "display_data"
        },
        {
          "data": {
            "text/html": [
              "<pre style=\"white-space:pre;overflow-x:auto;line-height:normal;font-family:Menlo,'DejaVu Sans Mono',consolas,'Courier New',monospace\">Episode length: 791.30 +/- 171.74\n",
              "</pre>\n"
            ],
            "text/plain": [
              "Episode length: 791.30 +/- 171.74\n"
            ]
          },
          "metadata": {},
          "output_type": "display_data"
        },
        {
          "data": {
            "text/html": [
              "<pre style=\"white-space:pre;overflow-x:auto;line-height:normal;font-family:Menlo,'DejaVu Sans Mono',consolas,'Courier New',monospace\">Eval num_timesteps=405000, episode_reward=107.03 +/- 103.51\n",
              "</pre>\n"
            ],
            "text/plain": [
              "Eval num_timesteps=405000, episode_reward=107.03 +/- 103.51\n"
            ]
          },
          "metadata": {},
          "output_type": "display_data"
        },
        {
          "data": {
            "text/html": [
              "<pre style=\"white-space:pre;overflow-x:auto;line-height:normal;font-family:Menlo,'DejaVu Sans Mono',consolas,'Courier New',monospace\">Episode length: 669.06 +/- 179.09\n",
              "</pre>\n"
            ],
            "text/plain": [
              "Episode length: 669.06 +/- 179.09\n"
            ]
          },
          "metadata": {},
          "output_type": "display_data"
        },
        {
          "data": {
            "text/html": [
              "<pre style=\"white-space:pre;overflow-x:auto;line-height:normal;font-family:Menlo,'DejaVu Sans Mono',consolas,'Courier New',monospace\">Eval num_timesteps=410000, episode_reward=38.19 +/- 120.18\n",
              "</pre>\n"
            ],
            "text/plain": [
              "Eval num_timesteps=410000, episode_reward=38.19 +/- 120.18\n"
            ]
          },
          "metadata": {},
          "output_type": "display_data"
        },
        {
          "data": {
            "text/html": [
              "<pre style=\"white-space:pre;overflow-x:auto;line-height:normal;font-family:Menlo,'DejaVu Sans Mono',consolas,'Courier New',monospace\">Episode length: 817.50 +/- 213.43\n",
              "</pre>\n"
            ],
            "text/plain": [
              "Episode length: 817.50 +/- 213.43\n"
            ]
          },
          "metadata": {},
          "output_type": "display_data"
        },
        {
          "data": {
            "text/html": [
              "<pre style=\"white-space:pre;overflow-x:auto;line-height:normal;font-family:Menlo,'DejaVu Sans Mono',consolas,'Courier New',monospace\">Eval num_timesteps=415000, episode_reward=-16.20 +/- 73.40\n",
              "</pre>\n"
            ],
            "text/plain": [
              "Eval num_timesteps=415000, episode_reward=-16.20 +/- 73.40\n"
            ]
          },
          "metadata": {},
          "output_type": "display_data"
        },
        {
          "data": {
            "text/html": [
              "<pre style=\"white-space:pre;overflow-x:auto;line-height:normal;font-family:Menlo,'DejaVu Sans Mono',consolas,'Courier New',monospace\">Episode length: 942.12 +/- 117.51\n",
              "</pre>\n"
            ],
            "text/plain": [
              "Episode length: 942.12 +/- 117.51\n"
            ]
          },
          "metadata": {},
          "output_type": "display_data"
        },
        {
          "data": {
            "text/html": [
              "<pre style=\"white-space:pre;overflow-x:auto;line-height:normal;font-family:Menlo,'DejaVu Sans Mono',consolas,'Courier New',monospace\">Eval num_timesteps=420000, episode_reward=114.85 +/- 117.57\n",
              "</pre>\n"
            ],
            "text/plain": [
              "Eval num_timesteps=420000, episode_reward=114.85 +/- 117.57\n"
            ]
          },
          "metadata": {},
          "output_type": "display_data"
        },
        {
          "data": {
            "text/html": [
              "<pre style=\"white-space:pre;overflow-x:auto;line-height:normal;font-family:Menlo,'DejaVu Sans Mono',consolas,'Courier New',monospace\">Episode length: 536.72 +/- 153.96\n",
              "</pre>\n"
            ],
            "text/plain": [
              "Episode length: 536.72 +/- 153.96\n"
            ]
          },
          "metadata": {},
          "output_type": "display_data"
        },
        {
          "data": {
            "text/html": [
              "<pre style=\"white-space:pre;overflow-x:auto;line-height:normal;font-family:Menlo,'DejaVu Sans Mono',consolas,'Courier New',monospace\">Eval num_timesteps=425000, episode_reward=71.01 +/- 154.18\n",
              "</pre>\n"
            ],
            "text/plain": [
              "Eval num_timesteps=425000, episode_reward=71.01 +/- 154.18\n"
            ]
          },
          "metadata": {},
          "output_type": "display_data"
        },
        {
          "data": {
            "text/html": [
              "<pre style=\"white-space:pre;overflow-x:auto;line-height:normal;font-family:Menlo,'DejaVu Sans Mono',consolas,'Courier New',monospace\">Episode length: 673.06 +/- 213.84\n",
              "</pre>\n"
            ],
            "text/plain": [
              "Episode length: 673.06 +/- 213.84\n"
            ]
          },
          "metadata": {},
          "output_type": "display_data"
        },
        {
          "data": {
            "text/html": [
              "<pre style=\"white-space:pre;overflow-x:auto;line-height:normal;font-family:Menlo,'DejaVu Sans Mono',consolas,'Courier New',monospace\">Eval num_timesteps=430000, episode_reward=21.12 +/- 146.64\n",
              "</pre>\n"
            ],
            "text/plain": [
              "Eval num_timesteps=430000, episode_reward=21.12 +/- 146.64\n"
            ]
          },
          "metadata": {},
          "output_type": "display_data"
        },
        {
          "data": {
            "text/html": [
              "<pre style=\"white-space:pre;overflow-x:auto;line-height:normal;font-family:Menlo,'DejaVu Sans Mono',consolas,'Courier New',monospace\">Episode length: 680.98 +/- 208.38\n",
              "</pre>\n"
            ],
            "text/plain": [
              "Episode length: 680.98 +/- 208.38\n"
            ]
          },
          "metadata": {},
          "output_type": "display_data"
        },
        {
          "data": {
            "text/html": [
              "<pre style=\"white-space:pre;overflow-x:auto;line-height:normal;font-family:Menlo,'DejaVu Sans Mono',consolas,'Courier New',monospace\">Eval num_timesteps=435000, episode_reward=-67.08 +/- 111.36\n",
              "</pre>\n"
            ],
            "text/plain": [
              "Eval num_timesteps=435000, episode_reward=-67.08 +/- 111.36\n"
            ]
          },
          "metadata": {},
          "output_type": "display_data"
        },
        {
          "data": {
            "text/html": [
              "<pre style=\"white-space:pre;overflow-x:auto;line-height:normal;font-family:Menlo,'DejaVu Sans Mono',consolas,'Courier New',monospace\">Episode length: 834.78 +/- 184.46\n",
              "</pre>\n"
            ],
            "text/plain": [
              "Episode length: 834.78 +/- 184.46\n"
            ]
          },
          "metadata": {},
          "output_type": "display_data"
        },
        {
          "data": {
            "text/html": [
              "<pre style=\"white-space:pre;overflow-x:auto;line-height:normal;font-family:Menlo,'DejaVu Sans Mono',consolas,'Courier New',monospace\">Eval num_timesteps=440000, episode_reward=-36.29 +/- 84.43\n",
              "</pre>\n"
            ],
            "text/plain": [
              "Eval num_timesteps=440000, episode_reward=-36.29 +/- 84.43\n"
            ]
          },
          "metadata": {},
          "output_type": "display_data"
        },
        {
          "data": {
            "text/html": [
              "<pre style=\"white-space:pre;overflow-x:auto;line-height:normal;font-family:Menlo,'DejaVu Sans Mono',consolas,'Courier New',monospace\">Episode length: 956.32 +/- 80.53\n",
              "</pre>\n"
            ],
            "text/plain": [
              "Episode length: 956.32 +/- 80.53\n"
            ]
          },
          "metadata": {},
          "output_type": "display_data"
        },
        {
          "data": {
            "text/html": [
              "<pre style=\"white-space:pre;overflow-x:auto;line-height:normal;font-family:Menlo,'DejaVu Sans Mono',consolas,'Courier New',monospace\">Eval num_timesteps=445000, episode_reward=-9.97 +/- 126.82\n",
              "</pre>\n"
            ],
            "text/plain": [
              "Eval num_timesteps=445000, episode_reward=-9.97 +/- 126.82\n"
            ]
          },
          "metadata": {},
          "output_type": "display_data"
        },
        {
          "data": {
            "text/html": [
              "<pre style=\"white-space:pre;overflow-x:auto;line-height:normal;font-family:Menlo,'DejaVu Sans Mono',consolas,'Courier New',monospace\">Episode length: 900.84 +/- 94.07\n",
              "</pre>\n"
            ],
            "text/plain": [
              "Episode length: 900.84 +/- 94.07\n"
            ]
          },
          "metadata": {},
          "output_type": "display_data"
        },
        {
          "data": {
            "text/html": [
              "<pre style=\"white-space:pre;overflow-x:auto;line-height:normal;font-family:Menlo,'DejaVu Sans Mono',consolas,'Courier New',monospace\">Eval num_timesteps=450000, episode_reward=-46.98 +/- 24.80\n",
              "</pre>\n"
            ],
            "text/plain": [
              "Eval num_timesteps=450000, episode_reward=-46.98 +/- 24.80\n"
            ]
          },
          "metadata": {},
          "output_type": "display_data"
        },
        {
          "data": {
            "text/html": [
              "<pre style=\"white-space:pre;overflow-x:auto;line-height:normal;font-family:Menlo,'DejaVu Sans Mono',consolas,'Courier New',monospace\">Episode length: 1000.00 +/- 0.00\n",
              "</pre>\n"
            ],
            "text/plain": [
              "Episode length: 1000.00 +/- 0.00\n"
            ]
          },
          "metadata": {},
          "output_type": "display_data"
        },
        {
          "data": {
            "text/html": [
              "<pre style=\"white-space:pre;overflow-x:auto;line-height:normal;font-family:Menlo,'DejaVu Sans Mono',consolas,'Courier New',monospace\">Eval num_timesteps=455000, episode_reward=-111.91 +/- 46.25\n",
              "</pre>\n"
            ],
            "text/plain": [
              "Eval num_timesteps=455000, episode_reward=-111.91 +/- 46.25\n"
            ]
          },
          "metadata": {},
          "output_type": "display_data"
        },
        {
          "data": {
            "text/html": [
              "<pre style=\"white-space:pre;overflow-x:auto;line-height:normal;font-family:Menlo,'DejaVu Sans Mono',consolas,'Courier New',monospace\">Episode length: 982.82 +/- 61.72\n",
              "</pre>\n"
            ],
            "text/plain": [
              "Episode length: 982.82 +/- 61.72\n"
            ]
          },
          "metadata": {},
          "output_type": "display_data"
        },
        {
          "data": {
            "text/html": [
              "<pre style=\"white-space:pre;overflow-x:auto;line-height:normal;font-family:Menlo,'DejaVu Sans Mono',consolas,'Courier New',monospace\">Eval num_timesteps=460000, episode_reward=-57.13 +/- 50.36\n",
              "</pre>\n"
            ],
            "text/plain": [
              "Eval num_timesteps=460000, episode_reward=-57.13 +/- 50.36\n"
            ]
          },
          "metadata": {},
          "output_type": "display_data"
        },
        {
          "data": {
            "text/html": [
              "<pre style=\"white-space:pre;overflow-x:auto;line-height:normal;font-family:Menlo,'DejaVu Sans Mono',consolas,'Courier New',monospace\">Episode length: 993.26 +/- 35.74\n",
              "</pre>\n"
            ],
            "text/plain": [
              "Episode length: 993.26 +/- 35.74\n"
            ]
          },
          "metadata": {},
          "output_type": "display_data"
        },
        {
          "data": {
            "text/html": [
              "<pre style=\"white-space:pre;overflow-x:auto;line-height:normal;font-family:Menlo,'DejaVu Sans Mono',consolas,'Courier New',monospace\">Eval num_timesteps=465000, episode_reward=-94.51 +/- 51.52\n",
              "</pre>\n"
            ],
            "text/plain": [
              "Eval num_timesteps=465000, episode_reward=-94.51 +/- 51.52\n"
            ]
          },
          "metadata": {},
          "output_type": "display_data"
        },
        {
          "data": {
            "text/html": [
              "<pre style=\"white-space:pre;overflow-x:auto;line-height:normal;font-family:Menlo,'DejaVu Sans Mono',consolas,'Courier New',monospace\">Episode length: 991.26 +/- 47.44\n",
              "</pre>\n"
            ],
            "text/plain": [
              "Episode length: 991.26 +/- 47.44\n"
            ]
          },
          "metadata": {},
          "output_type": "display_data"
        },
        {
          "data": {
            "text/html": [
              "<pre style=\"white-space:pre;overflow-x:auto;line-height:normal;font-family:Menlo,'DejaVu Sans Mono',consolas,'Courier New',monospace\">Eval num_timesteps=470000, episode_reward=-116.03 +/- 29.62\n",
              "</pre>\n"
            ],
            "text/plain": [
              "Eval num_timesteps=470000, episode_reward=-116.03 +/- 29.62\n"
            ]
          },
          "metadata": {},
          "output_type": "display_data"
        },
        {
          "data": {
            "text/html": [
              "<pre style=\"white-space:pre;overflow-x:auto;line-height:normal;font-family:Menlo,'DejaVu Sans Mono',consolas,'Courier New',monospace\">Episode length: 998.76 +/- 8.68\n",
              "</pre>\n"
            ],
            "text/plain": [
              "Episode length: 998.76 +/- 8.68\n"
            ]
          },
          "metadata": {},
          "output_type": "display_data"
        },
        {
          "data": {
            "text/html": [
              "<pre style=\"white-space:pre;overflow-x:auto;line-height:normal;font-family:Menlo,'DejaVu Sans Mono',consolas,'Courier New',monospace\">Eval num_timesteps=475000, episode_reward=-111.50 +/- 33.56\n",
              "</pre>\n"
            ],
            "text/plain": [
              "Eval num_timesteps=475000, episode_reward=-111.50 +/- 33.56\n"
            ]
          },
          "metadata": {},
          "output_type": "display_data"
        },
        {
          "data": {
            "text/html": [
              "<pre style=\"white-space:pre;overflow-x:auto;line-height:normal;font-family:Menlo,'DejaVu Sans Mono',consolas,'Courier New',monospace\">Episode length: 996.52 +/- 24.36\n",
              "</pre>\n"
            ],
            "text/plain": [
              "Episode length: 996.52 +/- 24.36\n"
            ]
          },
          "metadata": {},
          "output_type": "display_data"
        },
        {
          "data": {
            "text/html": [
              "<pre style=\"white-space:pre;overflow-x:auto;line-height:normal;font-family:Menlo,'DejaVu Sans Mono',consolas,'Courier New',monospace\">Eval num_timesteps=480000, episode_reward=-133.09 +/- 32.54\n",
              "</pre>\n"
            ],
            "text/plain": [
              "Eval num_timesteps=480000, episode_reward=-133.09 +/- 32.54\n"
            ]
          },
          "metadata": {},
          "output_type": "display_data"
        },
        {
          "data": {
            "text/html": [
              "<pre style=\"white-space:pre;overflow-x:auto;line-height:normal;font-family:Menlo,'DejaVu Sans Mono',consolas,'Courier New',monospace\">Episode length: 1000.00 +/- 0.00\n",
              "</pre>\n"
            ],
            "text/plain": [
              "Episode length: 1000.00 +/- 0.00\n"
            ]
          },
          "metadata": {},
          "output_type": "display_data"
        },
        {
          "data": {
            "text/html": [
              "<pre style=\"white-space:pre;overflow-x:auto;line-height:normal;font-family:Menlo,'DejaVu Sans Mono',consolas,'Courier New',monospace\">Eval num_timesteps=485000, episode_reward=-161.16 +/- 30.70\n",
              "</pre>\n"
            ],
            "text/plain": [
              "Eval num_timesteps=485000, episode_reward=-161.16 +/- 30.70\n"
            ]
          },
          "metadata": {},
          "output_type": "display_data"
        },
        {
          "data": {
            "text/html": [
              "<pre style=\"white-space:pre;overflow-x:auto;line-height:normal;font-family:Menlo,'DejaVu Sans Mono',consolas,'Courier New',monospace\">Episode length: 996.96 +/- 21.28\n",
              "</pre>\n"
            ],
            "text/plain": [
              "Episode length: 996.96 +/- 21.28\n"
            ]
          },
          "metadata": {},
          "output_type": "display_data"
        },
        {
          "data": {
            "text/html": [
              "<pre style=\"white-space:pre;overflow-x:auto;line-height:normal;font-family:Menlo,'DejaVu Sans Mono',consolas,'Courier New',monospace\">Eval num_timesteps=490000, episode_reward=-137.30 +/- 32.27\n",
              "</pre>\n"
            ],
            "text/plain": [
              "Eval num_timesteps=490000, episode_reward=-137.30 +/- 32.27\n"
            ]
          },
          "metadata": {},
          "output_type": "display_data"
        },
        {
          "data": {
            "text/html": [
              "<pre style=\"white-space:pre;overflow-x:auto;line-height:normal;font-family:Menlo,'DejaVu Sans Mono',consolas,'Courier New',monospace\">Episode length: 1000.00 +/- 0.00\n",
              "</pre>\n"
            ],
            "text/plain": [
              "Episode length: 1000.00 +/- 0.00\n"
            ]
          },
          "metadata": {},
          "output_type": "display_data"
        },
        {
          "data": {
            "text/html": [
              "<pre style=\"white-space:pre;overflow-x:auto;line-height:normal;font-family:Menlo,'DejaVu Sans Mono',consolas,'Courier New',monospace\">Eval num_timesteps=495000, episode_reward=-107.12 +/- 33.14\n",
              "</pre>\n"
            ],
            "text/plain": [
              "Eval num_timesteps=495000, episode_reward=-107.12 +/- 33.14\n"
            ]
          },
          "metadata": {},
          "output_type": "display_data"
        },
        {
          "data": {
            "text/html": [
              "<pre style=\"white-space:pre;overflow-x:auto;line-height:normal;font-family:Menlo,'DejaVu Sans Mono',consolas,'Courier New',monospace\">Episode length: 1000.00 +/- 0.00\n",
              "</pre>\n"
            ],
            "text/plain": [
              "Episode length: 1000.00 +/- 0.00\n"
            ]
          },
          "metadata": {},
          "output_type": "display_data"
        },
        {
          "data": {
            "text/html": [
              "<pre style=\"white-space:pre;overflow-x:auto;line-height:normal;font-family:Menlo,'DejaVu Sans Mono',consolas,'Courier New',monospace\">Eval num_timesteps=500000, episode_reward=-164.30 +/- 50.71\n",
              "</pre>\n"
            ],
            "text/plain": [
              "Eval num_timesteps=500000, episode_reward=-164.30 +/- 50.71\n"
            ]
          },
          "metadata": {},
          "output_type": "display_data"
        },
        {
          "data": {
            "text/html": [
              "<pre style=\"white-space:pre;overflow-x:auto;line-height:normal;font-family:Menlo,'DejaVu Sans Mono',consolas,'Courier New',monospace\">Episode length: 977.48 +/- 68.91\n",
              "</pre>\n"
            ],
            "text/plain": [
              "Episode length: 977.48 +/- 68.91\n"
            ]
          },
          "metadata": {},
          "output_type": "display_data"
        },
        {
          "data": {
            "text/html": [
              "<pre style=\"white-space:pre;overflow-x:auto;line-height:normal;font-family:Menlo,'DejaVu Sans Mono',consolas,'Courier New',monospace\"></pre>\n"
            ],
            "text/plain": []
          },
          "metadata": {},
          "output_type": "display_data"
        },
        {
          "data": {
            "text/plain": [
              "<stable_baselines3.a2c.a2c.A2C at 0x7c8b2c8fc6e0>"
            ]
          },
          "execution_count": 5,
          "metadata": {},
          "output_type": "execute_result"
        }
      ],
      "source": [
        "# Train model on the environment\n",
        "TRAINING_TIMESTEPS = 500_000\n",
        "model.learn(\n",
        "    total_timesteps=TRAINING_TIMESTEPS, callback=[eval_callback, ProgressBarCallback()]\n",
        ")"
      ]
    },
    {
      "cell_type": "code",
      "execution_count": 6,
      "metadata": {},
      "outputs": [
        {
          "name": "stdout",
          "output_type": "stream",
          "text": [
            "Mean reward: -159.41169050366952 +/- 47.662461749083114\n"
          ]
        }
      ],
      "source": [
        "mean_reward, std_reward = evaluate_policy(model, env, n_eval_episodes=50)\n",
        "print(f\"Mean reward: {mean_reward} +/- {std_reward}\")"
      ]
    },
    {
      "cell_type": "code",
      "execution_count": 7,
      "metadata": {
        "colab": {
          "base_uri": "https://localhost:8080/",
          "height": 211
        },
        "id": "6bSCsyCOYbVW",
        "outputId": "ee81a478-36d3-4245-8d0d-058e6e0a4693"
      },
      "outputs": [
        {
          "name": "stdout",
          "output_type": "stream",
          "text": [
            "Episode finished after 1000 steps (truncated)\n",
            "Final Step: 1000\n",
            "Number of Frames: 1000\n"
          ]
        }
      ],
      "source": [
        "MAX_STEPS = 1_000\n",
        "\n",
        "observation, info = env.reset(seed=42)\n",
        "frames = []\n",
        "step_count = 0\n",
        "\n",
        "# for step in range(MAX_STEPS):\n",
        "while True:\n",
        "    frame = env.render()\n",
        "    frames.append(frame)\n",
        "\n",
        "    action, _ = model.predict(observation, deterministic=True)\n",
        "    observation, reward, terminated, truncated, info = env.step(action)\n",
        "    step_count += 1\n",
        "\n",
        "    if terminated or truncated:\n",
        "        print(\n",
        "            f\"Episode finished after {step_count} steps ({\"truncated\" if truncated else \"terminated\"})\"\n",
        "        )\n",
        "        break\n",
        "\n",
        "env.close()\n",
        "\n",
        "print(f\"Final Step: {step_count}\")\n",
        "print(f\"Number of Frames: {len(frames)}\")"
      ]
    },
    {
      "cell_type": "code",
      "execution_count": 8,
      "metadata": {
        "id": "SAvZXQ3UKiF8"
      },
      "outputs": [
        {
          "name": "stdout",
          "output_type": "stream",
          "text": [
            "Video guardado como ../videos/lunarlander_a2c.mp4\n"
          ]
        },
        {
          "name": "stderr",
          "output_type": "stream",
          "text": [
            "rm: cannot remove '../videos/lunarlander_a2c_compressed.mp4': No such file or directory\n",
            "ffmpeg version n7.1 Copyright (c) 2000-2024 the FFmpeg developers\n",
            "  built with gcc 14.2.1 (GCC) 20250207\n",
            "  configuration: --prefix=/usr --disable-debug --disable-static --disable-stripping --enable-amf --enable-avisynth --enable-cuda-llvm --enable-lto --enable-fontconfig --enable-frei0r --enable-gmp --enable-gnutls --enable-gpl --enable-ladspa --enable-libaom --enable-libass --enable-libbluray --enable-libbs2b --enable-libdav1d --enable-libdrm --enable-libdvdnav --enable-libdvdread --enable-libfreetype --enable-libfribidi --enable-libglslang --enable-libgsm --enable-libharfbuzz --enable-libiec61883 --enable-libjack --enable-libjxl --enable-libmodplug --enable-libmp3lame --enable-libopencore_amrnb --enable-libopencore_amrwb --enable-libopenjpeg --enable-libopenmpt --enable-libopus --enable-libplacebo --enable-libpulse --enable-librav1e --enable-librsvg --enable-librubberband --enable-libsnappy --enable-libsoxr --enable-libspeex --enable-libsrt --enable-libssh --enable-libsvtav1 --enable-libtheora --enable-libv4l2 --enable-libvidstab --enable-libvmaf --enable-libvorbis --enable-libvpl --enable-libvpx --enable-libwebp --enable-libx264 --enable-libx265 --enable-libxcb --enable-libxml2 --enable-libxvid --enable-libzimg --enable-libzmq --enable-nvdec --enable-nvenc --enable-opencl --enable-opengl --enable-shared --enable-vapoursynth --enable-version3 --enable-vulkan\n",
            "  libavutil      59. 39.100 / 59. 39.100\n",
            "  libavcodec     61. 19.100 / 61. 19.100\n",
            "  libavformat    61.  7.100 / 61.  7.100\n",
            "  libavdevice    61.  3.100 / 61.  3.100\n",
            "  libavfilter    10.  4.100 / 10.  4.100\n",
            "  libswscale      8.  3.100 /  8.  3.100\n",
            "  libswresample   5.  3.100 /  5.  3.100\n",
            "  libpostproc    58.  3.100 / 58.  3.100\n",
            "Input #0, mov,mp4,m4a,3gp,3g2,mj2, from '../videos/lunarlander_a2c.mp4':\n",
            "  Metadata:\n",
            "    major_brand     : isom\n",
            "    minor_version   : 512\n",
            "    compatible_brands: isomiso2mp41\n",
            "    encoder         : Lavf59.27.100\n",
            "  Duration: 00:00:33.33, start: 0.000000, bitrate: 275 kb/s\n",
            "  Stream #0:0[0x1](und): Video: mpeg4 (Simple Profile) (mp4v / 0x7634706D), yuv420p, 600x400 [SAR 1:1 DAR 3:2], 274 kb/s, 30 fps, 30 tbr, 15360 tbn (default)\n",
            "      Metadata:\n",
            "        handler_name    : VideoHandler\n",
            "        vendor_id       : [0][0][0][0]\n",
            "Stream mapping:\n",
            "  Stream #0:0 -> #0:0 (mpeg4 (native) -> h264 (libx264))\n",
            "Press [q] to stop, [?] for help\n",
            "[libx264 @ 0x577919e09c00] using SAR=1/1\n",
            "[libx264 @ 0x577919e09c00] using cpu capabilities: MMX2 SSE2Fast SSSE3 SSE4.2 AVX FMA3 BMI2 AVX2\n",
            "[libx264 @ 0x577919e09c00] profile High, level 3.0, 4:2:0, 8-bit\n",
            "[libx264 @ 0x577919e09c00] 264 - core 164 r3108 31e19f9 - H.264/MPEG-4 AVC codec - Copyleft 2003-2023 - http://www.videolan.org/x264.html - options: cabac=1 ref=3 deblock=1:0:0 analyse=0x3:0x113 me=hex subme=7 psy=1 psy_rd=1.00:0.00 mixed_ref=1 me_range=16 chroma_me=1 trellis=1 8x8dct=1 cqm=0 deadzone=21,11 fast_pskip=1 chroma_qp_offset=-2 threads=12 lookahead_threads=2 sliced_threads=0 nr=0 decimate=1 interlaced=0 bluray_compat=0 constrained_intra=0 bframes=3 b_pyramid=2 b_adapt=1 b_bias=0 direct=1 weightb=1 open_gop=0 weightp=2 keyint=250 keyint_min=25 scenecut=40 intra_refresh=0 rc_lookahead=40 rc=crf mbtree=1 crf=23.0 qcomp=0.60 qpmin=0 qpmax=69 qpstep=4 ip_ratio=1.40 aq=1:1.00\n",
            "Output #0, mp4, to '../videos/lunarlander_a2c_compressed.mp4':\n",
            "  Metadata:\n",
            "    major_brand     : isom\n",
            "    minor_version   : 512\n",
            "    compatible_brands: isomiso2mp41\n",
            "    encoder         : Lavf61.7.100\n",
            "  Stream #0:0(und): Video: h264 (avc1 / 0x31637661), yuv420p(tv, progressive), 600x400 [SAR 1:1 DAR 3:2], q=2-31, 30 fps, 15360 tbn (default)\n",
            "      Metadata:\n",
            "        handler_name    : VideoHandler\n",
            "        vendor_id       : [0][0][0][0]\n",
            "        encoder         : Lavc61.19.100 libx264\n",
            "      Side data:\n",
            "        cpb: bitrate max/min/avg: 0/0/0 buffer size: 0 vbv_delay: N/A\n",
            "[out#0/mp4 @ 0x577919e1df40] video:170KiB audio:0KiB subtitle:0KiB other streams:0KiB global headers:0KiB muxing overhead: 7.309607%\n",
            "frame= 1000 fps=0.0 q=-1.0 Lsize=     182KiB time=00:00:33.26 bitrate=  44.9kbits/s speed= 123x    \n",
            "[libx264 @ 0x577919e09c00] frame I:4     Avg QP: 7.61  size:  2329\n",
            "[libx264 @ 0x577919e09c00] frame P:263   Avg QP:23.16  size:   278\n",
            "[libx264 @ 0x577919e09c00] frame B:733   Avg QP:27.42  size:   124\n",
            "[libx264 @ 0x577919e09c00] consecutive B-frames:  0.6%  3.0%  6.0% 90.4%\n",
            "[libx264 @ 0x577919e09c00] mb I  I16..4: 87.9%  6.3%  5.8%\n",
            "[libx264 @ 0x577919e09c00] mb P  I16..4:  0.1%  1.0%  0.2%  P16..4:  5.2%  0.3%  0.1%  0.0%  0.0%    skip:93.1%\n",
            "[libx264 @ 0x577919e09c00] mb B  I16..4:  0.0%  0.1%  0.1%  B16..8:  2.0%  0.1%  0.0%  direct: 0.1%  skip:97.5%  L0:53.1% L1:45.1% BI: 1.7%\n",
            "[libx264 @ 0x577919e09c00] 8x8 transform intra:38.3% inter:15.6%\n",
            "[libx264 @ 0x577919e09c00] coded y,uvDC,uvAC intra: 8.5% 19.5% 17.3% inter: 0.2% 0.4% 0.3%\n",
            "[libx264 @ 0x577919e09c00] i16 v,h,dc,p: 84% 11%  6%  0%\n",
            "[libx264 @ 0x577919e09c00] i8 v,h,dc,ddl,ddr,vr,hd,vl,hu:  6%  6% 88%  0%  0%  0%  0%  0%  0%\n",
            "[libx264 @ 0x577919e09c00] i4 v,h,dc,ddl,ddr,vr,hd,vl,hu: 13% 13% 63%  2%  2%  1%  2%  1%  1%\n",
            "[libx264 @ 0x577919e09c00] i8c dc,h,v,p: 85% 11%  4%  0%\n",
            "[libx264 @ 0x577919e09c00] Weighted P-Frames: Y:0.0% UV:0.0%\n",
            "[libx264 @ 0x577919e09c00] ref P L0: 87.2%  0.5%  7.8%  4.4%\n",
            "[libx264 @ 0x577919e09c00] ref B L0: 73.4% 21.8%  4.8%\n",
            "[libx264 @ 0x577919e09c00] ref B L1: 92.3%  7.7%\n",
            "[libx264 @ 0x577919e09c00] kb/s:41.62\n"
          ]
        },
        {
          "data": {
            "text/html": [
              "\n",
              "<video width=800 controls>\n",
              "      <source src=\"data:video/mp4;base64,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\" type=\"video/mp4\">\n",
              "</video>"
            ],
            "text/plain": [
              "<IPython.core.display.HTML object>"
            ]
          },
          "execution_count": 8,
          "metadata": {},
          "output_type": "execute_result"
        }
      ],
      "source": [
        "from IPython.display import HTML\n",
        "from base64 import b64encode\n",
        "import os\n",
        "\n",
        "# Create a video from the frames\n",
        "video_filename = \"../videos/lunarlander_a2c.mp4\"\n",
        "compressed_path = \"../videos/lunarlander_a2c_compressed.mp4\"\n",
        "height, width, _ = frames[0].shape\n",
        "\n",
        "fourcc = cv2.VideoWriter_fourcc(*\"mp4v\")\n",
        "video = cv2.VideoWriter(video_filename, fourcc, 30.0, (width, height))\n",
        "\n",
        "for frame in frames:\n",
        "    video.write(cv2.cvtColor(frame, cv2.COLOR_RGB2BGR))\n",
        "video.release()\n",
        "\n",
        "print(f\"Video guardado como {video_filename}\")\n",
        "\n",
        "os.system(f\"rm {compressed_path}\")\n",
        "# Compressed video path\n",
        "os.system(f\"ffmpeg -i {video_filename} -vcodec libx264 {compressed_path}\")\n",
        "os.system(f\"rm {video_filename}\")\n",
        "os.system(f\"mv {compressed_path} {video_filename}\")\n",
        "\n",
        "# Show video\n",
        "mp4 = open(video_filename, \"rb\").read()\n",
        "data_url = \"data:video/mp4;base64,\" + b64encode(mp4).decode()\n",
        "HTML(\n",
        "    \"\"\"\n",
        "<video width=800 controls>\n",
        "      <source src=\"%s\" type=\"video/mp4\">\n",
        "</video>\"\"\"\n",
        "    % data_url\n",
        ")"
      ]
    }
  ],
  "metadata": {
    "accelerator": "GPU",
    "colab": {
      "gpuType": "T4",
      "provenance": []
    },
    "kernelspec": {
      "display_name": "deep-reinforcement-learning-gymnasium-u3px5S1O-py3.13",
      "language": "python",
      "name": "python3"
    },
    "language_info": {
      "codemirror_mode": {
        "name": "ipython",
        "version": 3
      },
      "file_extension": ".py",
      "mimetype": "text/x-python",
      "name": "python",
      "nbconvert_exporter": "python",
      "pygments_lexer": "ipython3",
      "version": "3.13.3"
    }
  },
  "nbformat": 4,
  "nbformat_minor": 0
}
