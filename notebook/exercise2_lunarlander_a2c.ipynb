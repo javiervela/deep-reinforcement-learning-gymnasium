{
  "cells": [
    {
      "cell_type": "code",
      "execution_count": 1,
      "metadata": {
        "id": "OBCPdFloZEXO"
      },
      "outputs": [],
      "source": [
        "import gymnasium as gym\n",
        "import cv2\n",
        "import numpy as np\n",
        "import pandas as pd\n",
        "import matplotlib.pyplot as plt\n",
        "\n",
        "from stable_baselines3 import DQN, PPO, A2C\n",
        "from stable_baselines3.common.monitor import Monitor\n",
        "from stable_baselines3.common.vec_env import DummyVecEnv, VecMonitor\n",
        "from stable_baselines3.common.callbacks import (\n",
        "    EvalCallback,\n",
        "    StopTrainingOnRewardThreshold,\n",
        "    BaseCallback,\n",
        ")\n",
        "from stable_baselines3.common.callbacks import ProgressBarCallback\n",
        "from stable_baselines3.common.evaluation import evaluate_policy"
      ]
    },
    {
      "cell_type": "code",
      "execution_count": 2,
      "metadata": {},
      "outputs": [],
      "source": [
        "# Create the LunarLander-v3 environment\n",
        "env = gym.make(\n",
        "    \"LunarLander-v3\",\n",
        "    # continuous=False,\n",
        "    # gravity=-10.0,\n",
        "    # enable_wind=False,\n",
        "    # wind_power=15.0,\n",
        "    # turbulence_power=1.5,\n",
        "    render_mode=\"rgb_array\",\n",
        ")"
      ]
    },
    {
      "cell_type": "code",
      "execution_count": 3,
      "metadata": {},
      "outputs": [],
      "source": [
        "stop_callback = StopTrainingOnRewardThreshold(reward_threshold=200, verbose=1)\n",
        "\n",
        "eval_callback = EvalCallback(\n",
        "    env,\n",
        "    best_model_save_path=\"../logs/exercise_2/a2c/\",\n",
        "    log_path=\"../logs/exercise_2/a2c/\",\n",
        "    eval_freq=5_000,\n",
        "    deterministic=True,\n",
        "    render=False,\n",
        "    n_eval_episodes=50,\n",
        "    callback_on_new_best=stop_callback,\n",
        ")"
      ]
    },
    {
      "cell_type": "code",
      "execution_count": 4,
      "metadata": {
        "colab": {
          "base_uri": "https://localhost:8080/"
        },
        "id": "YU8nrDkrVCGw",
        "outputId": "e7875497-4d2d-4c7c-986c-d10d5316e8b5"
      },
      "outputs": [],
      "source": [
        "# Create A2C model\n",
        "model = A2C(\n",
        "    \"MlpPolicy\",\n",
        "    env,\n",
        "    learning_rate=0.0006997150606687543,\n",
        "    gamma=0.9987615431097223,\n",
        "    ent_coef=0.014358534695948685,\n",
        "    vf_coef=0.9222159161633121,\n",
        "    n_steps=5,\n",
        "    policy_kwargs=dict(net_arch=dict(pi=[128], vf=[256])),\n",
        "    seed=42,\n",
        "    verbose=0,\n",
        "    tensorboard_log=\"../logs/exercise_2/a2c/a2c_tensorboard/\",\n",
        "    device=\"cpu\",\n",
        ")"
      ]
    },
    {
      "cell_type": "code",
      "execution_count": 5,
      "metadata": {
        "colab": {
          "base_uri": "https://localhost:8080/"
        },
        "id": "4Jy6O6s1ZusN",
        "outputId": "7631a5ee-d701-4312-c497-4b6ad3363806"
      },
      "outputs": [
        {
          "data": {
            "application/vnd.jupyter.widget-view+json": {
              "model_id": "742fc300441d40f193b0e1ad5e5e8cb6",
              "version_major": 2,
              "version_minor": 0
            },
            "text/plain": [
              "Output()"
            ]
          },
          "metadata": {},
          "output_type": "display_data"
        },
        {
          "data": {
            "text/html": [
              "<pre style=\"white-space:pre;overflow-x:auto;line-height:normal;font-family:Menlo,'DejaVu Sans Mono',consolas,'Courier New',monospace\">/home/javier/.cache/pypoetry/virtualenvs/deep-reinforcement-learning-gymnasium-u3px5S1O-py3.13/lib/python3.13/site-\n",
              "packages/stable_baselines3/common/evaluation.py:67: UserWarning: Evaluation environment is not wrapped with a \n",
              "``Monitor`` wrapper. This may result in reporting modified episode lengths and rewards, if other wrappers happen to\n",
              "modify these. Consider wrapping environment first with ``Monitor`` wrapper.\n",
              "  warnings.warn(\n",
              "</pre>\n"
            ],
            "text/plain": [
              "/home/javier/.cache/pypoetry/virtualenvs/deep-reinforcement-learning-gymnasium-u3px5S1O-py3.13/lib/python3.13/site-\n",
              "packages/stable_baselines3/common/evaluation.py:67: UserWarning: Evaluation environment is not wrapped with a \n",
              "``Monitor`` wrapper. This may result in reporting modified episode lengths and rewards, if other wrappers happen to\n",
              "modify these. Consider wrapping environment first with ``Monitor`` wrapper.\n",
              "  warnings.warn(\n"
            ]
          },
          "metadata": {},
          "output_type": "display_data"
        },
        {
          "data": {
            "text/html": [
              "<pre style=\"white-space:pre;overflow-x:auto;line-height:normal;font-family:Menlo,'DejaVu Sans Mono',consolas,'Courier New',monospace\">Eval num_timesteps=5000, episode_reward=-694.86 +/- 213.07\n",
              "</pre>\n"
            ],
            "text/plain": [
              "Eval num_timesteps=5000, episode_reward=-694.86 +/- 213.07\n"
            ]
          },
          "metadata": {},
          "output_type": "display_data"
        },
        {
          "data": {
            "text/html": [
              "<pre style=\"white-space:pre;overflow-x:auto;line-height:normal;font-family:Menlo,'DejaVu Sans Mono',consolas,'Courier New',monospace\">Episode length: 501.00 +/- 191.07\n",
              "</pre>\n"
            ],
            "text/plain": [
              "Episode length: 501.00 +/- 191.07\n"
            ]
          },
          "metadata": {},
          "output_type": "display_data"
        },
        {
          "data": {
            "text/html": [
              "<pre style=\"white-space:pre;overflow-x:auto;line-height:normal;font-family:Menlo,'DejaVu Sans Mono',consolas,'Courier New',monospace\">New best mean reward!\n",
              "</pre>\n"
            ],
            "text/plain": [
              "New best mean reward!\n"
            ]
          },
          "metadata": {},
          "output_type": "display_data"
        },
        {
          "data": {
            "text/html": [
              "<pre style=\"white-space:pre;overflow-x:auto;line-height:normal;font-family:Menlo,'DejaVu Sans Mono',consolas,'Courier New',monospace\">Eval num_timesteps=10000, episode_reward=-1712.19 +/- 163.88\n",
              "</pre>\n"
            ],
            "text/plain": [
              "Eval num_timesteps=10000, episode_reward=-1712.19 +/- 163.88\n"
            ]
          },
          "metadata": {},
          "output_type": "display_data"
        },
        {
          "data": {
            "text/html": [
              "<pre style=\"white-space:pre;overflow-x:auto;line-height:normal;font-family:Menlo,'DejaVu Sans Mono',consolas,'Courier New',monospace\">Episode length: 738.02 +/- 103.78\n",
              "</pre>\n"
            ],
            "text/plain": [
              "Episode length: 738.02 +/- 103.78\n"
            ]
          },
          "metadata": {},
          "output_type": "display_data"
        },
        {
          "data": {
            "text/html": [
              "<pre style=\"white-space:pre;overflow-x:auto;line-height:normal;font-family:Menlo,'DejaVu Sans Mono',consolas,'Courier New',monospace\">Eval num_timesteps=15000, episode_reward=-855.93 +/- 201.55\n",
              "</pre>\n"
            ],
            "text/plain": [
              "Eval num_timesteps=15000, episode_reward=-855.93 +/- 201.55\n"
            ]
          },
          "metadata": {},
          "output_type": "display_data"
        },
        {
          "data": {
            "text/html": [
              "<pre style=\"white-space:pre;overflow-x:auto;line-height:normal;font-family:Menlo,'DejaVu Sans Mono',consolas,'Courier New',monospace\">Episode length: 447.86 +/- 97.85\n",
              "</pre>\n"
            ],
            "text/plain": [
              "Episode length: 447.86 +/- 97.85\n"
            ]
          },
          "metadata": {},
          "output_type": "display_data"
        },
        {
          "data": {
            "text/html": [
              "<pre style=\"white-space:pre;overflow-x:auto;line-height:normal;font-family:Menlo,'DejaVu Sans Mono',consolas,'Courier New',monospace\">Eval num_timesteps=20000, episode_reward=-697.48 +/- 597.02\n",
              "</pre>\n"
            ],
            "text/plain": [
              "Eval num_timesteps=20000, episode_reward=-697.48 +/- 597.02\n"
            ]
          },
          "metadata": {},
          "output_type": "display_data"
        },
        {
          "data": {
            "text/html": [
              "<pre style=\"white-space:pre;overflow-x:auto;line-height:normal;font-family:Menlo,'DejaVu Sans Mono',consolas,'Courier New',monospace\">Episode length: 748.40 +/- 310.01\n",
              "</pre>\n"
            ],
            "text/plain": [
              "Episode length: 748.40 +/- 310.01\n"
            ]
          },
          "metadata": {},
          "output_type": "display_data"
        },
        {
          "data": {
            "text/html": [
              "<pre style=\"white-space:pre;overflow-x:auto;line-height:normal;font-family:Menlo,'DejaVu Sans Mono',consolas,'Courier New',monospace\">Eval num_timesteps=25000, episode_reward=-754.92 +/- 587.34\n",
              "</pre>\n"
            ],
            "text/plain": [
              "Eval num_timesteps=25000, episode_reward=-754.92 +/- 587.34\n"
            ]
          },
          "metadata": {},
          "output_type": "display_data"
        },
        {
          "data": {
            "text/html": [
              "<pre style=\"white-space:pre;overflow-x:auto;line-height:normal;font-family:Menlo,'DejaVu Sans Mono',consolas,'Courier New',monospace\">Episode length: 810.04 +/- 269.99\n",
              "</pre>\n"
            ],
            "text/plain": [
              "Episode length: 810.04 +/- 269.99\n"
            ]
          },
          "metadata": {},
          "output_type": "display_data"
        },
        {
          "data": {
            "text/html": [
              "<pre style=\"white-space:pre;overflow-x:auto;line-height:normal;font-family:Menlo,'DejaVu Sans Mono',consolas,'Courier New',monospace\">Eval num_timesteps=30000, episode_reward=-236.12 +/- 284.60\n",
              "</pre>\n"
            ],
            "text/plain": [
              "Eval num_timesteps=30000, episode_reward=-236.12 +/- 284.60\n"
            ]
          },
          "metadata": {},
          "output_type": "display_data"
        },
        {
          "data": {
            "text/html": [
              "<pre style=\"white-space:pre;overflow-x:auto;line-height:normal;font-family:Menlo,'DejaVu Sans Mono',consolas,'Courier New',monospace\">Episode length: 780.36 +/- 328.62\n",
              "</pre>\n"
            ],
            "text/plain": [
              "Episode length: 780.36 +/- 328.62\n"
            ]
          },
          "metadata": {},
          "output_type": "display_data"
        },
        {
          "data": {
            "text/html": [
              "<pre style=\"white-space:pre;overflow-x:auto;line-height:normal;font-family:Menlo,'DejaVu Sans Mono',consolas,'Courier New',monospace\">New best mean reward!\n",
              "</pre>\n"
            ],
            "text/plain": [
              "New best mean reward!\n"
            ]
          },
          "metadata": {},
          "output_type": "display_data"
        },
        {
          "data": {
            "text/html": [
              "<pre style=\"white-space:pre;overflow-x:auto;line-height:normal;font-family:Menlo,'DejaVu Sans Mono',consolas,'Courier New',monospace\">Eval num_timesteps=35000, episode_reward=-137.24 +/- 256.73\n",
              "</pre>\n"
            ],
            "text/plain": [
              "Eval num_timesteps=35000, episode_reward=-137.24 +/- 256.73\n"
            ]
          },
          "metadata": {},
          "output_type": "display_data"
        },
        {
          "data": {
            "text/html": [
              "<pre style=\"white-space:pre;overflow-x:auto;line-height:normal;font-family:Menlo,'DejaVu Sans Mono',consolas,'Courier New',monospace\">Episode length: 694.08 +/- 315.80\n",
              "</pre>\n"
            ],
            "text/plain": [
              "Episode length: 694.08 +/- 315.80\n"
            ]
          },
          "metadata": {},
          "output_type": "display_data"
        },
        {
          "data": {
            "text/html": [
              "<pre style=\"white-space:pre;overflow-x:auto;line-height:normal;font-family:Menlo,'DejaVu Sans Mono',consolas,'Courier New',monospace\">New best mean reward!\n",
              "</pre>\n"
            ],
            "text/plain": [
              "New best mean reward!\n"
            ]
          },
          "metadata": {},
          "output_type": "display_data"
        },
        {
          "data": {
            "text/html": [
              "<pre style=\"white-space:pre;overflow-x:auto;line-height:normal;font-family:Menlo,'DejaVu Sans Mono',consolas,'Courier New',monospace\">Eval num_timesteps=40000, episode_reward=-69.90 +/- 198.45\n",
              "</pre>\n"
            ],
            "text/plain": [
              "Eval num_timesteps=40000, episode_reward=-69.90 +/- 198.45\n"
            ]
          },
          "metadata": {},
          "output_type": "display_data"
        },
        {
          "data": {
            "text/html": [
              "<pre style=\"white-space:pre;overflow-x:auto;line-height:normal;font-family:Menlo,'DejaVu Sans Mono',consolas,'Courier New',monospace\">Episode length: 602.72 +/- 360.04\n",
              "</pre>\n"
            ],
            "text/plain": [
              "Episode length: 602.72 +/- 360.04\n"
            ]
          },
          "metadata": {},
          "output_type": "display_data"
        },
        {
          "data": {
            "text/html": [
              "<pre style=\"white-space:pre;overflow-x:auto;line-height:normal;font-family:Menlo,'DejaVu Sans Mono',consolas,'Courier New',monospace\">New best mean reward!\n",
              "</pre>\n"
            ],
            "text/plain": [
              "New best mean reward!\n"
            ]
          },
          "metadata": {},
          "output_type": "display_data"
        },
        {
          "data": {
            "text/html": [
              "<pre style=\"white-space:pre;overflow-x:auto;line-height:normal;font-family:Menlo,'DejaVu Sans Mono',consolas,'Courier New',monospace\">Eval num_timesteps=45000, episode_reward=-6.01 +/- 213.12\n",
              "</pre>\n"
            ],
            "text/plain": [
              "Eval num_timesteps=45000, episode_reward=-6.01 +/- 213.12\n"
            ]
          },
          "metadata": {},
          "output_type": "display_data"
        },
        {
          "data": {
            "text/html": [
              "<pre style=\"white-space:pre;overflow-x:auto;line-height:normal;font-family:Menlo,'DejaVu Sans Mono',consolas,'Courier New',monospace\">Episode length: 531.80 +/- 291.66\n",
              "</pre>\n"
            ],
            "text/plain": [
              "Episode length: 531.80 +/- 291.66\n"
            ]
          },
          "metadata": {},
          "output_type": "display_data"
        },
        {
          "data": {
            "text/html": [
              "<pre style=\"white-space:pre;overflow-x:auto;line-height:normal;font-family:Menlo,'DejaVu Sans Mono',consolas,'Courier New',monospace\">New best mean reward!\n",
              "</pre>\n"
            ],
            "text/plain": [
              "New best mean reward!\n"
            ]
          },
          "metadata": {},
          "output_type": "display_data"
        },
        {
          "data": {
            "text/html": [
              "<pre style=\"white-space:pre;overflow-x:auto;line-height:normal;font-family:Menlo,'DejaVu Sans Mono',consolas,'Courier New',monospace\">Eval num_timesteps=50000, episode_reward=58.18 +/- 124.05\n",
              "</pre>\n"
            ],
            "text/plain": [
              "Eval num_timesteps=50000, episode_reward=58.18 +/- 124.05\n"
            ]
          },
          "metadata": {},
          "output_type": "display_data"
        },
        {
          "data": {
            "text/html": [
              "<pre style=\"white-space:pre;overflow-x:auto;line-height:normal;font-family:Menlo,'DejaVu Sans Mono',consolas,'Courier New',monospace\">Episode length: 183.40 +/- 149.86\n",
              "</pre>\n"
            ],
            "text/plain": [
              "Episode length: 183.40 +/- 149.86\n"
            ]
          },
          "metadata": {},
          "output_type": "display_data"
        },
        {
          "data": {
            "text/html": [
              "<pre style=\"white-space:pre;overflow-x:auto;line-height:normal;font-family:Menlo,'DejaVu Sans Mono',consolas,'Courier New',monospace\">New best mean reward!\n",
              "</pre>\n"
            ],
            "text/plain": [
              "New best mean reward!\n"
            ]
          },
          "metadata": {},
          "output_type": "display_data"
        },
        {
          "data": {
            "text/html": [
              "<pre style=\"white-space:pre;overflow-x:auto;line-height:normal;font-family:Menlo,'DejaVu Sans Mono',consolas,'Courier New',monospace\">Eval num_timesteps=55000, episode_reward=-39.79 +/- 104.22\n",
              "</pre>\n"
            ],
            "text/plain": [
              "Eval num_timesteps=55000, episode_reward=-39.79 +/- 104.22\n"
            ]
          },
          "metadata": {},
          "output_type": "display_data"
        },
        {
          "data": {
            "text/html": [
              "<pre style=\"white-space:pre;overflow-x:auto;line-height:normal;font-family:Menlo,'DejaVu Sans Mono',consolas,'Courier New',monospace\">Episode length: 104.74 +/- 44.46\n",
              "</pre>\n"
            ],
            "text/plain": [
              "Episode length: 104.74 +/- 44.46\n"
            ]
          },
          "metadata": {},
          "output_type": "display_data"
        },
        {
          "data": {
            "text/html": [
              "<pre style=\"white-space:pre;overflow-x:auto;line-height:normal;font-family:Menlo,'DejaVu Sans Mono',consolas,'Courier New',monospace\">Eval num_timesteps=60000, episode_reward=-6.41 +/- 77.22\n",
              "</pre>\n"
            ],
            "text/plain": [
              "Eval num_timesteps=60000, episode_reward=-6.41 +/- 77.22\n"
            ]
          },
          "metadata": {},
          "output_type": "display_data"
        },
        {
          "data": {
            "text/html": [
              "<pre style=\"white-space:pre;overflow-x:auto;line-height:normal;font-family:Menlo,'DejaVu Sans Mono',consolas,'Courier New',monospace\">Episode length: 137.98 +/- 58.03\n",
              "</pre>\n"
            ],
            "text/plain": [
              "Episode length: 137.98 +/- 58.03\n"
            ]
          },
          "metadata": {},
          "output_type": "display_data"
        },
        {
          "data": {
            "text/html": [
              "<pre style=\"white-space:pre;overflow-x:auto;line-height:normal;font-family:Menlo,'DejaVu Sans Mono',consolas,'Courier New',monospace\">Eval num_timesteps=65000, episode_reward=-20.68 +/- 75.75\n",
              "</pre>\n"
            ],
            "text/plain": [
              "Eval num_timesteps=65000, episode_reward=-20.68 +/- 75.75\n"
            ]
          },
          "metadata": {},
          "output_type": "display_data"
        },
        {
          "data": {
            "text/html": [
              "<pre style=\"white-space:pre;overflow-x:auto;line-height:normal;font-family:Menlo,'DejaVu Sans Mono',consolas,'Courier New',monospace\">Episode length: 117.42 +/- 48.08\n",
              "</pre>\n"
            ],
            "text/plain": [
              "Episode length: 117.42 +/- 48.08\n"
            ]
          },
          "metadata": {},
          "output_type": "display_data"
        },
        {
          "data": {
            "text/html": [
              "<pre style=\"white-space:pre;overflow-x:auto;line-height:normal;font-family:Menlo,'DejaVu Sans Mono',consolas,'Courier New',monospace\">Eval num_timesteps=70000, episode_reward=8.81 +/- 94.55\n",
              "</pre>\n"
            ],
            "text/plain": [
              "Eval num_timesteps=70000, episode_reward=8.81 +/- 94.55\n"
            ]
          },
          "metadata": {},
          "output_type": "display_data"
        },
        {
          "data": {
            "text/html": [
              "<pre style=\"white-space:pre;overflow-x:auto;line-height:normal;font-family:Menlo,'DejaVu Sans Mono',consolas,'Courier New',monospace\">Episode length: 132.86 +/- 70.19\n",
              "</pre>\n"
            ],
            "text/plain": [
              "Episode length: 132.86 +/- 70.19\n"
            ]
          },
          "metadata": {},
          "output_type": "display_data"
        },
        {
          "data": {
            "text/html": [
              "<pre style=\"white-space:pre;overflow-x:auto;line-height:normal;font-family:Menlo,'DejaVu Sans Mono',consolas,'Courier New',monospace\">Eval num_timesteps=75000, episode_reward=13.74 +/- 64.62\n",
              "</pre>\n"
            ],
            "text/plain": [
              "Eval num_timesteps=75000, episode_reward=13.74 +/- 64.62\n"
            ]
          },
          "metadata": {},
          "output_type": "display_data"
        },
        {
          "data": {
            "text/html": [
              "<pre style=\"white-space:pre;overflow-x:auto;line-height:normal;font-family:Menlo,'DejaVu Sans Mono',consolas,'Courier New',monospace\">Episode length: 135.36 +/- 55.29\n",
              "</pre>\n"
            ],
            "text/plain": [
              "Episode length: 135.36 +/- 55.29\n"
            ]
          },
          "metadata": {},
          "output_type": "display_data"
        },
        {
          "data": {
            "text/html": [
              "<pre style=\"white-space:pre;overflow-x:auto;line-height:normal;font-family:Menlo,'DejaVu Sans Mono',consolas,'Courier New',monospace\">Eval num_timesteps=80000, episode_reward=16.74 +/- 54.73\n",
              "</pre>\n"
            ],
            "text/plain": [
              "Eval num_timesteps=80000, episode_reward=16.74 +/- 54.73\n"
            ]
          },
          "metadata": {},
          "output_type": "display_data"
        },
        {
          "data": {
            "text/html": [
              "<pre style=\"white-space:pre;overflow-x:auto;line-height:normal;font-family:Menlo,'DejaVu Sans Mono',consolas,'Courier New',monospace\">Episode length: 143.66 +/- 46.70\n",
              "</pre>\n"
            ],
            "text/plain": [
              "Episode length: 143.66 +/- 46.70\n"
            ]
          },
          "metadata": {},
          "output_type": "display_data"
        },
        {
          "data": {
            "text/html": [
              "<pre style=\"white-space:pre;overflow-x:auto;line-height:normal;font-family:Menlo,'DejaVu Sans Mono',consolas,'Courier New',monospace\">Eval num_timesteps=85000, episode_reward=4.68 +/- 30.20\n",
              "</pre>\n"
            ],
            "text/plain": [
              "Eval num_timesteps=85000, episode_reward=4.68 +/- 30.20\n"
            ]
          },
          "metadata": {},
          "output_type": "display_data"
        },
        {
          "data": {
            "text/html": [
              "<pre style=\"white-space:pre;overflow-x:auto;line-height:normal;font-family:Menlo,'DejaVu Sans Mono',consolas,'Courier New',monospace\">Episode length: 134.32 +/- 41.77\n",
              "</pre>\n"
            ],
            "text/plain": [
              "Episode length: 134.32 +/- 41.77\n"
            ]
          },
          "metadata": {},
          "output_type": "display_data"
        },
        {
          "data": {
            "text/html": [
              "<pre style=\"white-space:pre;overflow-x:auto;line-height:normal;font-family:Menlo,'DejaVu Sans Mono',consolas,'Courier New',monospace\">Eval num_timesteps=90000, episode_reward=9.77 +/- 20.35\n",
              "</pre>\n"
            ],
            "text/plain": [
              "Eval num_timesteps=90000, episode_reward=9.77 +/- 20.35\n"
            ]
          },
          "metadata": {},
          "output_type": "display_data"
        },
        {
          "data": {
            "text/html": [
              "<pre style=\"white-space:pre;overflow-x:auto;line-height:normal;font-family:Menlo,'DejaVu Sans Mono',consolas,'Courier New',monospace\">Episode length: 159.32 +/- 40.13\n",
              "</pre>\n"
            ],
            "text/plain": [
              "Episode length: 159.32 +/- 40.13\n"
            ]
          },
          "metadata": {},
          "output_type": "display_data"
        },
        {
          "data": {
            "text/html": [
              "<pre style=\"white-space:pre;overflow-x:auto;line-height:normal;font-family:Menlo,'DejaVu Sans Mono',consolas,'Courier New',monospace\">Eval num_timesteps=95000, episode_reward=-27.62 +/- 38.48\n",
              "</pre>\n"
            ],
            "text/plain": [
              "Eval num_timesteps=95000, episode_reward=-27.62 +/- 38.48\n"
            ]
          },
          "metadata": {},
          "output_type": "display_data"
        },
        {
          "data": {
            "text/html": [
              "<pre style=\"white-space:pre;overflow-x:auto;line-height:normal;font-family:Menlo,'DejaVu Sans Mono',consolas,'Courier New',monospace\">Episode length: 144.28 +/- 44.84\n",
              "</pre>\n"
            ],
            "text/plain": [
              "Episode length: 144.28 +/- 44.84\n"
            ]
          },
          "metadata": {},
          "output_type": "display_data"
        },
        {
          "data": {
            "text/html": [
              "<pre style=\"white-space:pre;overflow-x:auto;line-height:normal;font-family:Menlo,'DejaVu Sans Mono',consolas,'Courier New',monospace\">Eval num_timesteps=100000, episode_reward=3.52 +/- 22.26\n",
              "</pre>\n"
            ],
            "text/plain": [
              "Eval num_timesteps=100000, episode_reward=3.52 +/- 22.26\n"
            ]
          },
          "metadata": {},
          "output_type": "display_data"
        },
        {
          "data": {
            "text/html": [
              "<pre style=\"white-space:pre;overflow-x:auto;line-height:normal;font-family:Menlo,'DejaVu Sans Mono',consolas,'Courier New',monospace\">Episode length: 174.78 +/- 35.91\n",
              "</pre>\n"
            ],
            "text/plain": [
              "Episode length: 174.78 +/- 35.91\n"
            ]
          },
          "metadata": {},
          "output_type": "display_data"
        },
        {
          "data": {
            "text/html": [
              "<pre style=\"white-space:pre;overflow-x:auto;line-height:normal;font-family:Menlo,'DejaVu Sans Mono',consolas,'Courier New',monospace\">Eval num_timesteps=105000, episode_reward=-36.73 +/- 31.63\n",
              "</pre>\n"
            ],
            "text/plain": [
              "Eval num_timesteps=105000, episode_reward=-36.73 +/- 31.63\n"
            ]
          },
          "metadata": {},
          "output_type": "display_data"
        },
        {
          "data": {
            "text/html": [
              "<pre style=\"white-space:pre;overflow-x:auto;line-height:normal;font-family:Menlo,'DejaVu Sans Mono',consolas,'Courier New',monospace\">Episode length: 121.52 +/- 23.45\n",
              "</pre>\n"
            ],
            "text/plain": [
              "Episode length: 121.52 +/- 23.45\n"
            ]
          },
          "metadata": {},
          "output_type": "display_data"
        },
        {
          "data": {
            "text/html": [
              "<pre style=\"white-space:pre;overflow-x:auto;line-height:normal;font-family:Menlo,'DejaVu Sans Mono',consolas,'Courier New',monospace\">Eval num_timesteps=110000, episode_reward=-46.22 +/- 28.34\n",
              "</pre>\n"
            ],
            "text/plain": [
              "Eval num_timesteps=110000, episode_reward=-46.22 +/- 28.34\n"
            ]
          },
          "metadata": {},
          "output_type": "display_data"
        },
        {
          "data": {
            "text/html": [
              "<pre style=\"white-space:pre;overflow-x:auto;line-height:normal;font-family:Menlo,'DejaVu Sans Mono',consolas,'Courier New',monospace\">Episode length: 92.74 +/- 13.27\n",
              "</pre>\n"
            ],
            "text/plain": [
              "Episode length: 92.74 +/- 13.27\n"
            ]
          },
          "metadata": {},
          "output_type": "display_data"
        },
        {
          "data": {
            "text/html": [
              "<pre style=\"white-space:pre;overflow-x:auto;line-height:normal;font-family:Menlo,'DejaVu Sans Mono',consolas,'Courier New',monospace\">Eval num_timesteps=115000, episode_reward=-77.68 +/- 46.33\n",
              "</pre>\n"
            ],
            "text/plain": [
              "Eval num_timesteps=115000, episode_reward=-77.68 +/- 46.33\n"
            ]
          },
          "metadata": {},
          "output_type": "display_data"
        },
        {
          "data": {
            "text/html": [
              "<pre style=\"white-space:pre;overflow-x:auto;line-height:normal;font-family:Menlo,'DejaVu Sans Mono',consolas,'Courier New',monospace\">Episode length: 129.12 +/- 17.35\n",
              "</pre>\n"
            ],
            "text/plain": [
              "Episode length: 129.12 +/- 17.35\n"
            ]
          },
          "metadata": {},
          "output_type": "display_data"
        },
        {
          "data": {
            "text/html": [
              "<pre style=\"white-space:pre;overflow-x:auto;line-height:normal;font-family:Menlo,'DejaVu Sans Mono',consolas,'Courier New',monospace\">Eval num_timesteps=120000, episode_reward=-254.36 +/- 123.97\n",
              "</pre>\n"
            ],
            "text/plain": [
              "Eval num_timesteps=120000, episode_reward=-254.36 +/- 123.97\n"
            ]
          },
          "metadata": {},
          "output_type": "display_data"
        },
        {
          "data": {
            "text/html": [
              "<pre style=\"white-space:pre;overflow-x:auto;line-height:normal;font-family:Menlo,'DejaVu Sans Mono',consolas,'Courier New',monospace\">Episode length: 201.48 +/- 80.64\n",
              "</pre>\n"
            ],
            "text/plain": [
              "Episode length: 201.48 +/- 80.64\n"
            ]
          },
          "metadata": {},
          "output_type": "display_data"
        },
        {
          "data": {
            "text/html": [
              "<pre style=\"white-space:pre;overflow-x:auto;line-height:normal;font-family:Menlo,'DejaVu Sans Mono',consolas,'Courier New',monospace\">Eval num_timesteps=125000, episode_reward=-935.32 +/- 740.95\n",
              "</pre>\n"
            ],
            "text/plain": [
              "Eval num_timesteps=125000, episode_reward=-935.32 +/- 740.95\n"
            ]
          },
          "metadata": {},
          "output_type": "display_data"
        },
        {
          "data": {
            "text/html": [
              "<pre style=\"white-space:pre;overflow-x:auto;line-height:normal;font-family:Menlo,'DejaVu Sans Mono',consolas,'Courier New',monospace\">Episode length: 484.70 +/- 191.97\n",
              "</pre>\n"
            ],
            "text/plain": [
              "Episode length: 484.70 +/- 191.97\n"
            ]
          },
          "metadata": {},
          "output_type": "display_data"
        },
        {
          "data": {
            "text/html": [
              "<pre style=\"white-space:pre;overflow-x:auto;line-height:normal;font-family:Menlo,'DejaVu Sans Mono',consolas,'Courier New',monospace\">Eval num_timesteps=130000, episode_reward=104.69 +/- 119.55\n",
              "</pre>\n"
            ],
            "text/plain": [
              "Eval num_timesteps=130000, episode_reward=104.69 +/- 119.55\n"
            ]
          },
          "metadata": {},
          "output_type": "display_data"
        },
        {
          "data": {
            "text/html": [
              "<pre style=\"white-space:pre;overflow-x:auto;line-height:normal;font-family:Menlo,'DejaVu Sans Mono',consolas,'Courier New',monospace\">Episode length: 630.82 +/- 89.57\n",
              "</pre>\n"
            ],
            "text/plain": [
              "Episode length: 630.82 +/- 89.57\n"
            ]
          },
          "metadata": {},
          "output_type": "display_data"
        },
        {
          "data": {
            "text/html": [
              "<pre style=\"white-space:pre;overflow-x:auto;line-height:normal;font-family:Menlo,'DejaVu Sans Mono',consolas,'Courier New',monospace\">New best mean reward!\n",
              "</pre>\n"
            ],
            "text/plain": [
              "New best mean reward!\n"
            ]
          },
          "metadata": {},
          "output_type": "display_data"
        },
        {
          "data": {
            "text/html": [
              "<pre style=\"white-space:pre;overflow-x:auto;line-height:normal;font-family:Menlo,'DejaVu Sans Mono',consolas,'Courier New',monospace\">Eval num_timesteps=135000, episode_reward=-42.72 +/- 24.62\n",
              "</pre>\n"
            ],
            "text/plain": [
              "Eval num_timesteps=135000, episode_reward=-42.72 +/- 24.62\n"
            ]
          },
          "metadata": {},
          "output_type": "display_data"
        },
        {
          "data": {
            "text/html": [
              "<pre style=\"white-space:pre;overflow-x:auto;line-height:normal;font-family:Menlo,'DejaVu Sans Mono',consolas,'Courier New',monospace\">Episode length: 994.56 +/- 27.55\n",
              "</pre>\n"
            ],
            "text/plain": [
              "Episode length: 994.56 +/- 27.55\n"
            ]
          },
          "metadata": {},
          "output_type": "display_data"
        },
        {
          "data": {
            "text/html": [
              "<pre style=\"white-space:pre;overflow-x:auto;line-height:normal;font-family:Menlo,'DejaVu Sans Mono',consolas,'Courier New',monospace\">Eval num_timesteps=140000, episode_reward=-130.71 +/- 40.86\n",
              "</pre>\n"
            ],
            "text/plain": [
              "Eval num_timesteps=140000, episode_reward=-130.71 +/- 40.86\n"
            ]
          },
          "metadata": {},
          "output_type": "display_data"
        },
        {
          "data": {
            "text/html": [
              "<pre style=\"white-space:pre;overflow-x:auto;line-height:normal;font-family:Menlo,'DejaVu Sans Mono',consolas,'Courier New',monospace\">Episode length: 1000.00 +/- 0.00\n",
              "</pre>\n"
            ],
            "text/plain": [
              "Episode length: 1000.00 +/- 0.00\n"
            ]
          },
          "metadata": {},
          "output_type": "display_data"
        },
        {
          "data": {
            "text/html": [
              "<pre style=\"white-space:pre;overflow-x:auto;line-height:normal;font-family:Menlo,'DejaVu Sans Mono',consolas,'Courier New',monospace\">Eval num_timesteps=145000, episode_reward=11.60 +/- 94.49\n",
              "</pre>\n"
            ],
            "text/plain": [
              "Eval num_timesteps=145000, episode_reward=11.60 +/- 94.49\n"
            ]
          },
          "metadata": {},
          "output_type": "display_data"
        },
        {
          "data": {
            "text/html": [
              "<pre style=\"white-space:pre;overflow-x:auto;line-height:normal;font-family:Menlo,'DejaVu Sans Mono',consolas,'Courier New',monospace\">Episode length: 951.72 +/- 107.27\n",
              "</pre>\n"
            ],
            "text/plain": [
              "Episode length: 951.72 +/- 107.27\n"
            ]
          },
          "metadata": {},
          "output_type": "display_data"
        },
        {
          "data": {
            "text/html": [
              "<pre style=\"white-space:pre;overflow-x:auto;line-height:normal;font-family:Menlo,'DejaVu Sans Mono',consolas,'Courier New',monospace\">Eval num_timesteps=150000, episode_reward=195.20 +/- 59.88\n",
              "</pre>\n"
            ],
            "text/plain": [
              "Eval num_timesteps=150000, episode_reward=195.20 +/- 59.88\n"
            ]
          },
          "metadata": {},
          "output_type": "display_data"
        },
        {
          "data": {
            "text/html": [
              "<pre style=\"white-space:pre;overflow-x:auto;line-height:normal;font-family:Menlo,'DejaVu Sans Mono',consolas,'Courier New',monospace\">Episode length: 549.50 +/- 147.52\n",
              "</pre>\n"
            ],
            "text/plain": [
              "Episode length: 549.50 +/- 147.52\n"
            ]
          },
          "metadata": {},
          "output_type": "display_data"
        },
        {
          "data": {
            "text/html": [
              "<pre style=\"white-space:pre;overflow-x:auto;line-height:normal;font-family:Menlo,'DejaVu Sans Mono',consolas,'Courier New',monospace\">New best mean reward!\n",
              "</pre>\n"
            ],
            "text/plain": [
              "New best mean reward!\n"
            ]
          },
          "metadata": {},
          "output_type": "display_data"
        },
        {
          "data": {
            "text/html": [
              "<pre style=\"white-space:pre;overflow-x:auto;line-height:normal;font-family:Menlo,'DejaVu Sans Mono',consolas,'Courier New',monospace\">Eval num_timesteps=155000, episode_reward=195.59 +/- 84.53\n",
              "</pre>\n"
            ],
            "text/plain": [
              "Eval num_timesteps=155000, episode_reward=195.59 +/- 84.53\n"
            ]
          },
          "metadata": {},
          "output_type": "display_data"
        },
        {
          "data": {
            "text/html": [
              "<pre style=\"white-space:pre;overflow-x:auto;line-height:normal;font-family:Menlo,'DejaVu Sans Mono',consolas,'Courier New',monospace\">Episode length: 446.42 +/- 158.55\n",
              "</pre>\n"
            ],
            "text/plain": [
              "Episode length: 446.42 +/- 158.55\n"
            ]
          },
          "metadata": {},
          "output_type": "display_data"
        },
        {
          "data": {
            "text/html": [
              "<pre style=\"white-space:pre;overflow-x:auto;line-height:normal;font-family:Menlo,'DejaVu Sans Mono',consolas,'Courier New',monospace\">New best mean reward!\n",
              "</pre>\n"
            ],
            "text/plain": [
              "New best mean reward!\n"
            ]
          },
          "metadata": {},
          "output_type": "display_data"
        },
        {
          "data": {
            "text/html": [
              "<pre style=\"white-space:pre;overflow-x:auto;line-height:normal;font-family:Menlo,'DejaVu Sans Mono',consolas,'Courier New',monospace\">Eval num_timesteps=160000, episode_reward=147.21 +/- 107.24\n",
              "</pre>\n"
            ],
            "text/plain": [
              "Eval num_timesteps=160000, episode_reward=147.21 +/- 107.24\n"
            ]
          },
          "metadata": {},
          "output_type": "display_data"
        },
        {
          "data": {
            "text/html": [
              "<pre style=\"white-space:pre;overflow-x:auto;line-height:normal;font-family:Menlo,'DejaVu Sans Mono',consolas,'Courier New',monospace\">Episode length: 361.68 +/- 183.85\n",
              "</pre>\n"
            ],
            "text/plain": [
              "Episode length: 361.68 +/- 183.85\n"
            ]
          },
          "metadata": {},
          "output_type": "display_data"
        },
        {
          "data": {
            "text/html": [
              "<pre style=\"white-space:pre;overflow-x:auto;line-height:normal;font-family:Menlo,'DejaVu Sans Mono',consolas,'Courier New',monospace\">Eval num_timesteps=165000, episode_reward=82.55 +/- 109.71\n",
              "</pre>\n"
            ],
            "text/plain": [
              "Eval num_timesteps=165000, episode_reward=82.55 +/- 109.71\n"
            ]
          },
          "metadata": {},
          "output_type": "display_data"
        },
        {
          "data": {
            "text/html": [
              "<pre style=\"white-space:pre;overflow-x:auto;line-height:normal;font-family:Menlo,'DejaVu Sans Mono',consolas,'Courier New',monospace\">Episode length: 205.46 +/- 59.87\n",
              "</pre>\n"
            ],
            "text/plain": [
              "Episode length: 205.46 +/- 59.87\n"
            ]
          },
          "metadata": {},
          "output_type": "display_data"
        },
        {
          "data": {
            "text/html": [
              "<pre style=\"white-space:pre;overflow-x:auto;line-height:normal;font-family:Menlo,'DejaVu Sans Mono',consolas,'Courier New',monospace\">Eval num_timesteps=170000, episode_reward=14.91 +/- 17.60\n",
              "</pre>\n"
            ],
            "text/plain": [
              "Eval num_timesteps=170000, episode_reward=14.91 +/- 17.60\n"
            ]
          },
          "metadata": {},
          "output_type": "display_data"
        },
        {
          "data": {
            "text/html": [
              "<pre style=\"white-space:pre;overflow-x:auto;line-height:normal;font-family:Menlo,'DejaVu Sans Mono',consolas,'Courier New',monospace\">Episode length: 118.14 +/- 19.26\n",
              "</pre>\n"
            ],
            "text/plain": [
              "Episode length: 118.14 +/- 19.26\n"
            ]
          },
          "metadata": {},
          "output_type": "display_data"
        },
        {
          "data": {
            "text/html": [
              "<pre style=\"white-space:pre;overflow-x:auto;line-height:normal;font-family:Menlo,'DejaVu Sans Mono',consolas,'Courier New',monospace\">Eval num_timesteps=175000, episode_reward=7.28 +/- 18.31\n",
              "</pre>\n"
            ],
            "text/plain": [
              "Eval num_timesteps=175000, episode_reward=7.28 +/- 18.31\n"
            ]
          },
          "metadata": {},
          "output_type": "display_data"
        },
        {
          "data": {
            "text/html": [
              "<pre style=\"white-space:pre;overflow-x:auto;line-height:normal;font-family:Menlo,'DejaVu Sans Mono',consolas,'Courier New',monospace\">Episode length: 123.94 +/- 23.95\n",
              "</pre>\n"
            ],
            "text/plain": [
              "Episode length: 123.94 +/- 23.95\n"
            ]
          },
          "metadata": {},
          "output_type": "display_data"
        },
        {
          "data": {
            "text/html": [
              "<pre style=\"white-space:pre;overflow-x:auto;line-height:normal;font-family:Menlo,'DejaVu Sans Mono',consolas,'Courier New',monospace\">Eval num_timesteps=180000, episode_reward=-42.64 +/- 59.35\n",
              "</pre>\n"
            ],
            "text/plain": [
              "Eval num_timesteps=180000, episode_reward=-42.64 +/- 59.35\n"
            ]
          },
          "metadata": {},
          "output_type": "display_data"
        },
        {
          "data": {
            "text/html": [
              "<pre style=\"white-space:pre;overflow-x:auto;line-height:normal;font-family:Menlo,'DejaVu Sans Mono',consolas,'Courier New',monospace\">Episode length: 168.32 +/- 36.99\n",
              "</pre>\n"
            ],
            "text/plain": [
              "Episode length: 168.32 +/- 36.99\n"
            ]
          },
          "metadata": {},
          "output_type": "display_data"
        },
        {
          "data": {
            "text/html": [
              "<pre style=\"white-space:pre;overflow-x:auto;line-height:normal;font-family:Menlo,'DejaVu Sans Mono',consolas,'Courier New',monospace\">Eval num_timesteps=185000, episode_reward=-99.23 +/- 158.42\n",
              "</pre>\n"
            ],
            "text/plain": [
              "Eval num_timesteps=185000, episode_reward=-99.23 +/- 158.42\n"
            ]
          },
          "metadata": {},
          "output_type": "display_data"
        },
        {
          "data": {
            "text/html": [
              "<pre style=\"white-space:pre;overflow-x:auto;line-height:normal;font-family:Menlo,'DejaVu Sans Mono',consolas,'Courier New',monospace\">Episode length: 577.20 +/- 205.17\n",
              "</pre>\n"
            ],
            "text/plain": [
              "Episode length: 577.20 +/- 205.17\n"
            ]
          },
          "metadata": {},
          "output_type": "display_data"
        },
        {
          "data": {
            "text/html": [
              "<pre style=\"white-space:pre;overflow-x:auto;line-height:normal;font-family:Menlo,'DejaVu Sans Mono',consolas,'Courier New',monospace\">Eval num_timesteps=190000, episode_reward=-195.56 +/- 73.00\n",
              "</pre>\n"
            ],
            "text/plain": [
              "Eval num_timesteps=190000, episode_reward=-195.56 +/- 73.00\n"
            ]
          },
          "metadata": {},
          "output_type": "display_data"
        },
        {
          "data": {
            "text/html": [
              "<pre style=\"white-space:pre;overflow-x:auto;line-height:normal;font-family:Menlo,'DejaVu Sans Mono',consolas,'Courier New',monospace\">Episode length: 723.34 +/- 189.22\n",
              "</pre>\n"
            ],
            "text/plain": [
              "Episode length: 723.34 +/- 189.22\n"
            ]
          },
          "metadata": {},
          "output_type": "display_data"
        },
        {
          "data": {
            "text/html": [
              "<pre style=\"white-space:pre;overflow-x:auto;line-height:normal;font-family:Menlo,'DejaVu Sans Mono',consolas,'Courier New',monospace\">Eval num_timesteps=195000, episode_reward=-148.22 +/- 66.24\n",
              "</pre>\n"
            ],
            "text/plain": [
              "Eval num_timesteps=195000, episode_reward=-148.22 +/- 66.24\n"
            ]
          },
          "metadata": {},
          "output_type": "display_data"
        },
        {
          "data": {
            "text/html": [
              "<pre style=\"white-space:pre;overflow-x:auto;line-height:normal;font-family:Menlo,'DejaVu Sans Mono',consolas,'Courier New',monospace\">Episode length: 1000.00 +/- 0.00\n",
              "</pre>\n"
            ],
            "text/plain": [
              "Episode length: 1000.00 +/- 0.00\n"
            ]
          },
          "metadata": {},
          "output_type": "display_data"
        },
        {
          "data": {
            "text/html": [
              "<pre style=\"white-space:pre;overflow-x:auto;line-height:normal;font-family:Menlo,'DejaVu Sans Mono',consolas,'Courier New',monospace\">Eval num_timesteps=200000, episode_reward=-89.04 +/- 118.17\n",
              "</pre>\n"
            ],
            "text/plain": [
              "Eval num_timesteps=200000, episode_reward=-89.04 +/- 118.17\n"
            ]
          },
          "metadata": {},
          "output_type": "display_data"
        },
        {
          "data": {
            "text/html": [
              "<pre style=\"white-space:pre;overflow-x:auto;line-height:normal;font-family:Menlo,'DejaVu Sans Mono',consolas,'Courier New',monospace\">Episode length: 957.46 +/- 125.39\n",
              "</pre>\n"
            ],
            "text/plain": [
              "Episode length: 957.46 +/- 125.39\n"
            ]
          },
          "metadata": {},
          "output_type": "display_data"
        },
        {
          "data": {
            "text/html": [
              "<pre style=\"white-space:pre;overflow-x:auto;line-height:normal;font-family:Menlo,'DejaVu Sans Mono',consolas,'Courier New',monospace\">Eval num_timesteps=205000, episode_reward=-64.84 +/- 136.07\n",
              "</pre>\n"
            ],
            "text/plain": [
              "Eval num_timesteps=205000, episode_reward=-64.84 +/- 136.07\n"
            ]
          },
          "metadata": {},
          "output_type": "display_data"
        },
        {
          "data": {
            "text/html": [
              "<pre style=\"white-space:pre;overflow-x:auto;line-height:normal;font-family:Menlo,'DejaVu Sans Mono',consolas,'Courier New',monospace\">Episode length: 805.40 +/- 272.69\n",
              "</pre>\n"
            ],
            "text/plain": [
              "Episode length: 805.40 +/- 272.69\n"
            ]
          },
          "metadata": {},
          "output_type": "display_data"
        },
        {
          "data": {
            "text/html": [
              "<pre style=\"white-space:pre;overflow-x:auto;line-height:normal;font-family:Menlo,'DejaVu Sans Mono',consolas,'Courier New',monospace\">Eval num_timesteps=210000, episode_reward=8.55 +/- 164.99\n",
              "</pre>\n"
            ],
            "text/plain": [
              "Eval num_timesteps=210000, episode_reward=8.55 +/- 164.99\n"
            ]
          },
          "metadata": {},
          "output_type": "display_data"
        },
        {
          "data": {
            "text/html": [
              "<pre style=\"white-space:pre;overflow-x:auto;line-height:normal;font-family:Menlo,'DejaVu Sans Mono',consolas,'Courier New',monospace\">Episode length: 626.22 +/- 303.19\n",
              "</pre>\n"
            ],
            "text/plain": [
              "Episode length: 626.22 +/- 303.19\n"
            ]
          },
          "metadata": {},
          "output_type": "display_data"
        },
        {
          "data": {
            "text/html": [
              "<pre style=\"white-space:pre;overflow-x:auto;line-height:normal;font-family:Menlo,'DejaVu Sans Mono',consolas,'Courier New',monospace\">Eval num_timesteps=215000, episode_reward=24.76 +/- 157.42\n",
              "</pre>\n"
            ],
            "text/plain": [
              "Eval num_timesteps=215000, episode_reward=24.76 +/- 157.42\n"
            ]
          },
          "metadata": {},
          "output_type": "display_data"
        },
        {
          "data": {
            "text/html": [
              "<pre style=\"white-space:pre;overflow-x:auto;line-height:normal;font-family:Menlo,'DejaVu Sans Mono',consolas,'Courier New',monospace\">Episode length: 551.84 +/- 311.48\n",
              "</pre>\n"
            ],
            "text/plain": [
              "Episode length: 551.84 +/- 311.48\n"
            ]
          },
          "metadata": {},
          "output_type": "display_data"
        },
        {
          "data": {
            "text/html": [
              "<pre style=\"white-space:pre;overflow-x:auto;line-height:normal;font-family:Menlo,'DejaVu Sans Mono',consolas,'Courier New',monospace\">Eval num_timesteps=220000, episode_reward=57.84 +/- 143.52\n",
              "</pre>\n"
            ],
            "text/plain": [
              "Eval num_timesteps=220000, episode_reward=57.84 +/- 143.52\n"
            ]
          },
          "metadata": {},
          "output_type": "display_data"
        },
        {
          "data": {
            "text/html": [
              "<pre style=\"white-space:pre;overflow-x:auto;line-height:normal;font-family:Menlo,'DejaVu Sans Mono',consolas,'Courier New',monospace\">Episode length: 483.46 +/- 291.93\n",
              "</pre>\n"
            ],
            "text/plain": [
              "Episode length: 483.46 +/- 291.93\n"
            ]
          },
          "metadata": {},
          "output_type": "display_data"
        },
        {
          "data": {
            "text/html": [
              "<pre style=\"white-space:pre;overflow-x:auto;line-height:normal;font-family:Menlo,'DejaVu Sans Mono',consolas,'Courier New',monospace\">Eval num_timesteps=225000, episode_reward=76.28 +/- 123.05\n",
              "</pre>\n"
            ],
            "text/plain": [
              "Eval num_timesteps=225000, episode_reward=76.28 +/- 123.05\n"
            ]
          },
          "metadata": {},
          "output_type": "display_data"
        },
        {
          "data": {
            "text/html": [
              "<pre style=\"white-space:pre;overflow-x:auto;line-height:normal;font-family:Menlo,'DejaVu Sans Mono',consolas,'Courier New',monospace\">Episode length: 333.30 +/- 196.33\n",
              "</pre>\n"
            ],
            "text/plain": [
              "Episode length: 333.30 +/- 196.33\n"
            ]
          },
          "metadata": {},
          "output_type": "display_data"
        },
        {
          "data": {
            "text/html": [
              "<pre style=\"white-space:pre;overflow-x:auto;line-height:normal;font-family:Menlo,'DejaVu Sans Mono',consolas,'Courier New',monospace\">Eval num_timesteps=230000, episode_reward=25.28 +/- 115.38\n",
              "</pre>\n"
            ],
            "text/plain": [
              "Eval num_timesteps=230000, episode_reward=25.28 +/- 115.38\n"
            ]
          },
          "metadata": {},
          "output_type": "display_data"
        },
        {
          "data": {
            "text/html": [
              "<pre style=\"white-space:pre;overflow-x:auto;line-height:normal;font-family:Menlo,'DejaVu Sans Mono',consolas,'Courier New',monospace\">Episode length: 178.60 +/- 66.64\n",
              "</pre>\n"
            ],
            "text/plain": [
              "Episode length: 178.60 +/- 66.64\n"
            ]
          },
          "metadata": {},
          "output_type": "display_data"
        },
        {
          "data": {
            "text/html": [
              "<pre style=\"white-space:pre;overflow-x:auto;line-height:normal;font-family:Menlo,'DejaVu Sans Mono',consolas,'Courier New',monospace\">Eval num_timesteps=235000, episode_reward=-42.02 +/- 63.96\n",
              "</pre>\n"
            ],
            "text/plain": [
              "Eval num_timesteps=235000, episode_reward=-42.02 +/- 63.96\n"
            ]
          },
          "metadata": {},
          "output_type": "display_data"
        },
        {
          "data": {
            "text/html": [
              "<pre style=\"white-space:pre;overflow-x:auto;line-height:normal;font-family:Menlo,'DejaVu Sans Mono',consolas,'Courier New',monospace\">Episode length: 90.16 +/- 16.02\n",
              "</pre>\n"
            ],
            "text/plain": [
              "Episode length: 90.16 +/- 16.02\n"
            ]
          },
          "metadata": {},
          "output_type": "display_data"
        },
        {
          "data": {
            "text/html": [
              "<pre style=\"white-space:pre;overflow-x:auto;line-height:normal;font-family:Menlo,'DejaVu Sans Mono',consolas,'Courier New',monospace\">Eval num_timesteps=240000, episode_reward=-46.30 +/- 49.72\n",
              "</pre>\n"
            ],
            "text/plain": [
              "Eval num_timesteps=240000, episode_reward=-46.30 +/- 49.72\n"
            ]
          },
          "metadata": {},
          "output_type": "display_data"
        },
        {
          "data": {
            "text/html": [
              "<pre style=\"white-space:pre;overflow-x:auto;line-height:normal;font-family:Menlo,'DejaVu Sans Mono',consolas,'Courier New',monospace\">Episode length: 84.86 +/- 15.63\n",
              "</pre>\n"
            ],
            "text/plain": [
              "Episode length: 84.86 +/- 15.63\n"
            ]
          },
          "metadata": {},
          "output_type": "display_data"
        },
        {
          "data": {
            "text/html": [
              "<pre style=\"white-space:pre;overflow-x:auto;line-height:normal;font-family:Menlo,'DejaVu Sans Mono',consolas,'Courier New',monospace\">Eval num_timesteps=245000, episode_reward=-43.23 +/- 43.48\n",
              "</pre>\n"
            ],
            "text/plain": [
              "Eval num_timesteps=245000, episode_reward=-43.23 +/- 43.48\n"
            ]
          },
          "metadata": {},
          "output_type": "display_data"
        },
        {
          "data": {
            "text/html": [
              "<pre style=\"white-space:pre;overflow-x:auto;line-height:normal;font-family:Menlo,'DejaVu Sans Mono',consolas,'Courier New',monospace\">Episode length: 84.96 +/- 15.75\n",
              "</pre>\n"
            ],
            "text/plain": [
              "Episode length: 84.96 +/- 15.75\n"
            ]
          },
          "metadata": {},
          "output_type": "display_data"
        },
        {
          "data": {
            "text/html": [
              "<pre style=\"white-space:pre;overflow-x:auto;line-height:normal;font-family:Menlo,'DejaVu Sans Mono',consolas,'Courier New',monospace\">Eval num_timesteps=250000, episode_reward=-49.34 +/- 43.89\n",
              "</pre>\n"
            ],
            "text/plain": [
              "Eval num_timesteps=250000, episode_reward=-49.34 +/- 43.89\n"
            ]
          },
          "metadata": {},
          "output_type": "display_data"
        },
        {
          "data": {
            "text/html": [
              "<pre style=\"white-space:pre;overflow-x:auto;line-height:normal;font-family:Menlo,'DejaVu Sans Mono',consolas,'Courier New',monospace\">Episode length: 82.96 +/- 14.31\n",
              "</pre>\n"
            ],
            "text/plain": [
              "Episode length: 82.96 +/- 14.31\n"
            ]
          },
          "metadata": {},
          "output_type": "display_data"
        },
        {
          "data": {
            "text/html": [
              "<pre style=\"white-space:pre;overflow-x:auto;line-height:normal;font-family:Menlo,'DejaVu Sans Mono',consolas,'Courier New',monospace\">Eval num_timesteps=255000, episode_reward=-41.71 +/- 47.04\n",
              "</pre>\n"
            ],
            "text/plain": [
              "Eval num_timesteps=255000, episode_reward=-41.71 +/- 47.04\n"
            ]
          },
          "metadata": {},
          "output_type": "display_data"
        },
        {
          "data": {
            "text/html": [
              "<pre style=\"white-space:pre;overflow-x:auto;line-height:normal;font-family:Menlo,'DejaVu Sans Mono',consolas,'Courier New',monospace\">Episode length: 114.76 +/- 48.70\n",
              "</pre>\n"
            ],
            "text/plain": [
              "Episode length: 114.76 +/- 48.70\n"
            ]
          },
          "metadata": {},
          "output_type": "display_data"
        },
        {
          "data": {
            "text/html": [
              "<pre style=\"white-space:pre;overflow-x:auto;line-height:normal;font-family:Menlo,'DejaVu Sans Mono',consolas,'Courier New',monospace\">Eval num_timesteps=260000, episode_reward=-34.17 +/- 63.84\n",
              "</pre>\n"
            ],
            "text/plain": [
              "Eval num_timesteps=260000, episode_reward=-34.17 +/- 63.84\n"
            ]
          },
          "metadata": {},
          "output_type": "display_data"
        },
        {
          "data": {
            "text/html": [
              "<pre style=\"white-space:pre;overflow-x:auto;line-height:normal;font-family:Menlo,'DejaVu Sans Mono',consolas,'Courier New',monospace\">Episode length: 122.40 +/- 48.28\n",
              "</pre>\n"
            ],
            "text/plain": [
              "Episode length: 122.40 +/- 48.28\n"
            ]
          },
          "metadata": {},
          "output_type": "display_data"
        },
        {
          "data": {
            "text/html": [
              "<pre style=\"white-space:pre;overflow-x:auto;line-height:normal;font-family:Menlo,'DejaVu Sans Mono',consolas,'Courier New',monospace\">Eval num_timesteps=265000, episode_reward=41.46 +/- 111.24\n",
              "</pre>\n"
            ],
            "text/plain": [
              "Eval num_timesteps=265000, episode_reward=41.46 +/- 111.24\n"
            ]
          },
          "metadata": {},
          "output_type": "display_data"
        },
        {
          "data": {
            "text/html": [
              "<pre style=\"white-space:pre;overflow-x:auto;line-height:normal;font-family:Menlo,'DejaVu Sans Mono',consolas,'Courier New',monospace\">Episode length: 224.80 +/- 147.23\n",
              "</pre>\n"
            ],
            "text/plain": [
              "Episode length: 224.80 +/- 147.23\n"
            ]
          },
          "metadata": {},
          "output_type": "display_data"
        },
        {
          "data": {
            "text/html": [
              "<pre style=\"white-space:pre;overflow-x:auto;line-height:normal;font-family:Menlo,'DejaVu Sans Mono',consolas,'Courier New',monospace\">Eval num_timesteps=270000, episode_reward=-3.00 +/- 159.97\n",
              "</pre>\n"
            ],
            "text/plain": [
              "Eval num_timesteps=270000, episode_reward=-3.00 +/- 159.97\n"
            ]
          },
          "metadata": {},
          "output_type": "display_data"
        },
        {
          "data": {
            "text/html": [
              "<pre style=\"white-space:pre;overflow-x:auto;line-height:normal;font-family:Menlo,'DejaVu Sans Mono',consolas,'Courier New',monospace\">Episode length: 310.18 +/- 98.25\n",
              "</pre>\n"
            ],
            "text/plain": [
              "Episode length: 310.18 +/- 98.25\n"
            ]
          },
          "metadata": {},
          "output_type": "display_data"
        },
        {
          "data": {
            "text/html": [
              "<pre style=\"white-space:pre;overflow-x:auto;line-height:normal;font-family:Menlo,'DejaVu Sans Mono',consolas,'Courier New',monospace\">Eval num_timesteps=275000, episode_reward=33.35 +/- 152.81\n",
              "</pre>\n"
            ],
            "text/plain": [
              "Eval num_timesteps=275000, episode_reward=33.35 +/- 152.81\n"
            ]
          },
          "metadata": {},
          "output_type": "display_data"
        },
        {
          "data": {
            "text/html": [
              "<pre style=\"white-space:pre;overflow-x:auto;line-height:normal;font-family:Menlo,'DejaVu Sans Mono',consolas,'Courier New',monospace\">Episode length: 337.72 +/- 135.08\n",
              "</pre>\n"
            ],
            "text/plain": [
              "Episode length: 337.72 +/- 135.08\n"
            ]
          },
          "metadata": {},
          "output_type": "display_data"
        },
        {
          "data": {
            "text/html": [
              "<pre style=\"white-space:pre;overflow-x:auto;line-height:normal;font-family:Menlo,'DejaVu Sans Mono',consolas,'Courier New',monospace\">Eval num_timesteps=280000, episode_reward=-90.49 +/- 131.61\n",
              "</pre>\n"
            ],
            "text/plain": [
              "Eval num_timesteps=280000, episode_reward=-90.49 +/- 131.61\n"
            ]
          },
          "metadata": {},
          "output_type": "display_data"
        },
        {
          "data": {
            "text/html": [
              "<pre style=\"white-space:pre;overflow-x:auto;line-height:normal;font-family:Menlo,'DejaVu Sans Mono',consolas,'Courier New',monospace\">Episode length: 329.84 +/- 107.20\n",
              "</pre>\n"
            ],
            "text/plain": [
              "Episode length: 329.84 +/- 107.20\n"
            ]
          },
          "metadata": {},
          "output_type": "display_data"
        },
        {
          "data": {
            "text/html": [
              "<pre style=\"white-space:pre;overflow-x:auto;line-height:normal;font-family:Menlo,'DejaVu Sans Mono',consolas,'Courier New',monospace\">Eval num_timesteps=285000, episode_reward=18.06 +/- 159.40\n",
              "</pre>\n"
            ],
            "text/plain": [
              "Eval num_timesteps=285000, episode_reward=18.06 +/- 159.40\n"
            ]
          },
          "metadata": {},
          "output_type": "display_data"
        },
        {
          "data": {
            "text/html": [
              "<pre style=\"white-space:pre;overflow-x:auto;line-height:normal;font-family:Menlo,'DejaVu Sans Mono',consolas,'Courier New',monospace\">Episode length: 534.78 +/- 141.42\n",
              "</pre>\n"
            ],
            "text/plain": [
              "Episode length: 534.78 +/- 141.42\n"
            ]
          },
          "metadata": {},
          "output_type": "display_data"
        },
        {
          "data": {
            "text/html": [
              "<pre style=\"white-space:pre;overflow-x:auto;line-height:normal;font-family:Menlo,'DejaVu Sans Mono',consolas,'Courier New',monospace\">Eval num_timesteps=290000, episode_reward=-96.02 +/- 120.88\n",
              "</pre>\n"
            ],
            "text/plain": [
              "Eval num_timesteps=290000, episode_reward=-96.02 +/- 120.88\n"
            ]
          },
          "metadata": {},
          "output_type": "display_data"
        },
        {
          "data": {
            "text/html": [
              "<pre style=\"white-space:pre;overflow-x:auto;line-height:normal;font-family:Menlo,'DejaVu Sans Mono',consolas,'Courier New',monospace\">Episode length: 713.06 +/- 211.08\n",
              "</pre>\n"
            ],
            "text/plain": [
              "Episode length: 713.06 +/- 211.08\n"
            ]
          },
          "metadata": {},
          "output_type": "display_data"
        },
        {
          "data": {
            "text/html": [
              "<pre style=\"white-space:pre;overflow-x:auto;line-height:normal;font-family:Menlo,'DejaVu Sans Mono',consolas,'Courier New',monospace\">Eval num_timesteps=295000, episode_reward=33.20 +/- 106.44\n",
              "</pre>\n"
            ],
            "text/plain": [
              "Eval num_timesteps=295000, episode_reward=33.20 +/- 106.44\n"
            ]
          },
          "metadata": {},
          "output_type": "display_data"
        },
        {
          "data": {
            "text/html": [
              "<pre style=\"white-space:pre;overflow-x:auto;line-height:normal;font-family:Menlo,'DejaVu Sans Mono',consolas,'Courier New',monospace\">Episode length: 748.08 +/- 183.04\n",
              "</pre>\n"
            ],
            "text/plain": [
              "Episode length: 748.08 +/- 183.04\n"
            ]
          },
          "metadata": {},
          "output_type": "display_data"
        },
        {
          "data": {
            "text/html": [
              "<pre style=\"white-space:pre;overflow-x:auto;line-height:normal;font-family:Menlo,'DejaVu Sans Mono',consolas,'Courier New',monospace\">Eval num_timesteps=300000, episode_reward=-41.74 +/- 55.70\n",
              "</pre>\n"
            ],
            "text/plain": [
              "Eval num_timesteps=300000, episode_reward=-41.74 +/- 55.70\n"
            ]
          },
          "metadata": {},
          "output_type": "display_data"
        },
        {
          "data": {
            "text/html": [
              "<pre style=\"white-space:pre;overflow-x:auto;line-height:normal;font-family:Menlo,'DejaVu Sans Mono',consolas,'Courier New',monospace\">Episode length: 980.46 +/- 75.50\n",
              "</pre>\n"
            ],
            "text/plain": [
              "Episode length: 980.46 +/- 75.50\n"
            ]
          },
          "metadata": {},
          "output_type": "display_data"
        },
        {
          "data": {
            "text/html": [
              "<pre style=\"white-space:pre;overflow-x:auto;line-height:normal;font-family:Menlo,'DejaVu Sans Mono',consolas,'Courier New',monospace\">Eval num_timesteps=305000, episode_reward=-25.51 +/- 106.68\n",
              "</pre>\n"
            ],
            "text/plain": [
              "Eval num_timesteps=305000, episode_reward=-25.51 +/- 106.68\n"
            ]
          },
          "metadata": {},
          "output_type": "display_data"
        },
        {
          "data": {
            "text/html": [
              "<pre style=\"white-space:pre;overflow-x:auto;line-height:normal;font-family:Menlo,'DejaVu Sans Mono',consolas,'Courier New',monospace\">Episode length: 876.02 +/- 143.21\n",
              "</pre>\n"
            ],
            "text/plain": [
              "Episode length: 876.02 +/- 143.21\n"
            ]
          },
          "metadata": {},
          "output_type": "display_data"
        },
        {
          "data": {
            "text/html": [
              "<pre style=\"white-space:pre;overflow-x:auto;line-height:normal;font-family:Menlo,'DejaVu Sans Mono',consolas,'Courier New',monospace\">Eval num_timesteps=310000, episode_reward=26.84 +/- 101.22\n",
              "</pre>\n"
            ],
            "text/plain": [
              "Eval num_timesteps=310000, episode_reward=26.84 +/- 101.22\n"
            ]
          },
          "metadata": {},
          "output_type": "display_data"
        },
        {
          "data": {
            "text/html": [
              "<pre style=\"white-space:pre;overflow-x:auto;line-height:normal;font-family:Menlo,'DejaVu Sans Mono',consolas,'Courier New',monospace\">Episode length: 807.54 +/- 167.14\n",
              "</pre>\n"
            ],
            "text/plain": [
              "Episode length: 807.54 +/- 167.14\n"
            ]
          },
          "metadata": {},
          "output_type": "display_data"
        },
        {
          "data": {
            "text/html": [
              "<pre style=\"white-space:pre;overflow-x:auto;line-height:normal;font-family:Menlo,'DejaVu Sans Mono',consolas,'Courier New',monospace\">Eval num_timesteps=315000, episode_reward=18.68 +/- 109.24\n",
              "</pre>\n"
            ],
            "text/plain": [
              "Eval num_timesteps=315000, episode_reward=18.68 +/- 109.24\n"
            ]
          },
          "metadata": {},
          "output_type": "display_data"
        },
        {
          "data": {
            "text/html": [
              "<pre style=\"white-space:pre;overflow-x:auto;line-height:normal;font-family:Menlo,'DejaVu Sans Mono',consolas,'Courier New',monospace\">Episode length: 783.94 +/- 201.92\n",
              "</pre>\n"
            ],
            "text/plain": [
              "Episode length: 783.94 +/- 201.92\n"
            ]
          },
          "metadata": {},
          "output_type": "display_data"
        },
        {
          "data": {
            "text/html": [
              "<pre style=\"white-space:pre;overflow-x:auto;line-height:normal;font-family:Menlo,'DejaVu Sans Mono',consolas,'Courier New',monospace\">Eval num_timesteps=320000, episode_reward=-52.27 +/- 24.28\n",
              "</pre>\n"
            ],
            "text/plain": [
              "Eval num_timesteps=320000, episode_reward=-52.27 +/- 24.28\n"
            ]
          },
          "metadata": {},
          "output_type": "display_data"
        },
        {
          "data": {
            "text/html": [
              "<pre style=\"white-space:pre;overflow-x:auto;line-height:normal;font-family:Menlo,'DejaVu Sans Mono',consolas,'Courier New',monospace\">Episode length: 1000.00 +/- 0.00\n",
              "</pre>\n"
            ],
            "text/plain": [
              "Episode length: 1000.00 +/- 0.00\n"
            ]
          },
          "metadata": {},
          "output_type": "display_data"
        },
        {
          "data": {
            "text/html": [
              "<pre style=\"white-space:pre;overflow-x:auto;line-height:normal;font-family:Menlo,'DejaVu Sans Mono',consolas,'Courier New',monospace\">Eval num_timesteps=325000, episode_reward=-30.07 +/- 18.26\n",
              "</pre>\n"
            ],
            "text/plain": [
              "Eval num_timesteps=325000, episode_reward=-30.07 +/- 18.26\n"
            ]
          },
          "metadata": {},
          "output_type": "display_data"
        },
        {
          "data": {
            "text/html": [
              "<pre style=\"white-space:pre;overflow-x:auto;line-height:normal;font-family:Menlo,'DejaVu Sans Mono',consolas,'Courier New',monospace\">Episode length: 1000.00 +/- 0.00\n",
              "</pre>\n"
            ],
            "text/plain": [
              "Episode length: 1000.00 +/- 0.00\n"
            ]
          },
          "metadata": {},
          "output_type": "display_data"
        },
        {
          "data": {
            "text/html": [
              "<pre style=\"white-space:pre;overflow-x:auto;line-height:normal;font-family:Menlo,'DejaVu Sans Mono',consolas,'Courier New',monospace\">Eval num_timesteps=330000, episode_reward=-39.37 +/- 58.45\n",
              "</pre>\n"
            ],
            "text/plain": [
              "Eval num_timesteps=330000, episode_reward=-39.37 +/- 58.45\n"
            ]
          },
          "metadata": {},
          "output_type": "display_data"
        },
        {
          "data": {
            "text/html": [
              "<pre style=\"white-space:pre;overflow-x:auto;line-height:normal;font-family:Menlo,'DejaVu Sans Mono',consolas,'Courier New',monospace\">Episode length: 974.04 +/- 80.77\n",
              "</pre>\n"
            ],
            "text/plain": [
              "Episode length: 974.04 +/- 80.77\n"
            ]
          },
          "metadata": {},
          "output_type": "display_data"
        },
        {
          "data": {
            "text/html": [
              "<pre style=\"white-space:pre;overflow-x:auto;line-height:normal;font-family:Menlo,'DejaVu Sans Mono',consolas,'Courier New',monospace\">Eval num_timesteps=335000, episode_reward=-52.67 +/- 59.88\n",
              "</pre>\n"
            ],
            "text/plain": [
              "Eval num_timesteps=335000, episode_reward=-52.67 +/- 59.88\n"
            ]
          },
          "metadata": {},
          "output_type": "display_data"
        },
        {
          "data": {
            "text/html": [
              "<pre style=\"white-space:pre;overflow-x:auto;line-height:normal;font-family:Menlo,'DejaVu Sans Mono',consolas,'Courier New',monospace\">Episode length: 988.28 +/- 82.04\n",
              "</pre>\n"
            ],
            "text/plain": [
              "Episode length: 988.28 +/- 82.04\n"
            ]
          },
          "metadata": {},
          "output_type": "display_data"
        },
        {
          "data": {
            "text/html": [
              "<pre style=\"white-space:pre;overflow-x:auto;line-height:normal;font-family:Menlo,'DejaVu Sans Mono',consolas,'Courier New',monospace\">Eval num_timesteps=340000, episode_reward=39.55 +/- 100.57\n",
              "</pre>\n"
            ],
            "text/plain": [
              "Eval num_timesteps=340000, episode_reward=39.55 +/- 100.57\n"
            ]
          },
          "metadata": {},
          "output_type": "display_data"
        },
        {
          "data": {
            "text/html": [
              "<pre style=\"white-space:pre;overflow-x:auto;line-height:normal;font-family:Menlo,'DejaVu Sans Mono',consolas,'Courier New',monospace\">Episode length: 904.12 +/- 157.08\n",
              "</pre>\n"
            ],
            "text/plain": [
              "Episode length: 904.12 +/- 157.08\n"
            ]
          },
          "metadata": {},
          "output_type": "display_data"
        },
        {
          "data": {
            "text/html": [
              "<pre style=\"white-space:pre;overflow-x:auto;line-height:normal;font-family:Menlo,'DejaVu Sans Mono',consolas,'Courier New',monospace\">Eval num_timesteps=345000, episode_reward=8.44 +/- 89.09\n",
              "</pre>\n"
            ],
            "text/plain": [
              "Eval num_timesteps=345000, episode_reward=8.44 +/- 89.09\n"
            ]
          },
          "metadata": {},
          "output_type": "display_data"
        },
        {
          "data": {
            "text/html": [
              "<pre style=\"white-space:pre;overflow-x:auto;line-height:normal;font-family:Menlo,'DejaVu Sans Mono',consolas,'Courier New',monospace\">Episode length: 938.16 +/- 173.27\n",
              "</pre>\n"
            ],
            "text/plain": [
              "Episode length: 938.16 +/- 173.27\n"
            ]
          },
          "metadata": {},
          "output_type": "display_data"
        },
        {
          "data": {
            "text/html": [
              "<pre style=\"white-space:pre;overflow-x:auto;line-height:normal;font-family:Menlo,'DejaVu Sans Mono',consolas,'Courier New',monospace\">Eval num_timesteps=350000, episode_reward=84.76 +/- 107.03\n",
              "</pre>\n"
            ],
            "text/plain": [
              "Eval num_timesteps=350000, episode_reward=84.76 +/- 107.03\n"
            ]
          },
          "metadata": {},
          "output_type": "display_data"
        },
        {
          "data": {
            "text/html": [
              "<pre style=\"white-space:pre;overflow-x:auto;line-height:normal;font-family:Menlo,'DejaVu Sans Mono',consolas,'Courier New',monospace\">Episode length: 826.74 +/- 243.54\n",
              "</pre>\n"
            ],
            "text/plain": [
              "Episode length: 826.74 +/- 243.54\n"
            ]
          },
          "metadata": {},
          "output_type": "display_data"
        },
        {
          "data": {
            "text/html": [
              "<pre style=\"white-space:pre;overflow-x:auto;line-height:normal;font-family:Menlo,'DejaVu Sans Mono',consolas,'Courier New',monospace\">Eval num_timesteps=355000, episode_reward=152.76 +/- 72.73\n",
              "</pre>\n"
            ],
            "text/plain": [
              "Eval num_timesteps=355000, episode_reward=152.76 +/- 72.73\n"
            ]
          },
          "metadata": {},
          "output_type": "display_data"
        },
        {
          "data": {
            "text/html": [
              "<pre style=\"white-space:pre;overflow-x:auto;line-height:normal;font-family:Menlo,'DejaVu Sans Mono',consolas,'Courier New',monospace\">Episode length: 718.90 +/- 177.73\n",
              "</pre>\n"
            ],
            "text/plain": [
              "Episode length: 718.90 +/- 177.73\n"
            ]
          },
          "metadata": {},
          "output_type": "display_data"
        },
        {
          "data": {
            "text/html": [
              "<pre style=\"white-space:pre;overflow-x:auto;line-height:normal;font-family:Menlo,'DejaVu Sans Mono',consolas,'Courier New',monospace\">Eval num_timesteps=360000, episode_reward=171.50 +/- 42.77\n",
              "</pre>\n"
            ],
            "text/plain": [
              "Eval num_timesteps=360000, episode_reward=171.50 +/- 42.77\n"
            ]
          },
          "metadata": {},
          "output_type": "display_data"
        },
        {
          "data": {
            "text/html": [
              "<pre style=\"white-space:pre;overflow-x:auto;line-height:normal;font-family:Menlo,'DejaVu Sans Mono',consolas,'Courier New',monospace\">Episode length: 643.96 +/- 132.86\n",
              "</pre>\n"
            ],
            "text/plain": [
              "Episode length: 643.96 +/- 132.86\n"
            ]
          },
          "metadata": {},
          "output_type": "display_data"
        },
        {
          "data": {
            "text/html": [
              "<pre style=\"white-space:pre;overflow-x:auto;line-height:normal;font-family:Menlo,'DejaVu Sans Mono',consolas,'Courier New',monospace\">Eval num_timesteps=365000, episode_reward=157.13 +/- 57.70\n",
              "</pre>\n"
            ],
            "text/plain": [
              "Eval num_timesteps=365000, episode_reward=157.13 +/- 57.70\n"
            ]
          },
          "metadata": {},
          "output_type": "display_data"
        },
        {
          "data": {
            "text/html": [
              "<pre style=\"white-space:pre;overflow-x:auto;line-height:normal;font-family:Menlo,'DejaVu Sans Mono',consolas,'Courier New',monospace\">Episode length: 615.78 +/- 191.21\n",
              "</pre>\n"
            ],
            "text/plain": [
              "Episode length: 615.78 +/- 191.21\n"
            ]
          },
          "metadata": {},
          "output_type": "display_data"
        },
        {
          "data": {
            "text/html": [
              "<pre style=\"white-space:pre;overflow-x:auto;line-height:normal;font-family:Menlo,'DejaVu Sans Mono',consolas,'Courier New',monospace\">Eval num_timesteps=370000, episode_reward=181.58 +/- 73.99\n",
              "</pre>\n"
            ],
            "text/plain": [
              "Eval num_timesteps=370000, episode_reward=181.58 +/- 73.99\n"
            ]
          },
          "metadata": {},
          "output_type": "display_data"
        },
        {
          "data": {
            "text/html": [
              "<pre style=\"white-space:pre;overflow-x:auto;line-height:normal;font-family:Menlo,'DejaVu Sans Mono',consolas,'Courier New',monospace\">Episode length: 513.54 +/- 132.52\n",
              "</pre>\n"
            ],
            "text/plain": [
              "Episode length: 513.54 +/- 132.52\n"
            ]
          },
          "metadata": {},
          "output_type": "display_data"
        },
        {
          "data": {
            "text/html": [
              "<pre style=\"white-space:pre;overflow-x:auto;line-height:normal;font-family:Menlo,'DejaVu Sans Mono',consolas,'Courier New',monospace\">Eval num_timesteps=375000, episode_reward=140.04 +/- 120.10\n",
              "</pre>\n"
            ],
            "text/plain": [
              "Eval num_timesteps=375000, episode_reward=140.04 +/- 120.10\n"
            ]
          },
          "metadata": {},
          "output_type": "display_data"
        },
        {
          "data": {
            "text/html": [
              "<pre style=\"white-space:pre;overflow-x:auto;line-height:normal;font-family:Menlo,'DejaVu Sans Mono',consolas,'Courier New',monospace\">Episode length: 432.42 +/- 160.87\n",
              "</pre>\n"
            ],
            "text/plain": [
              "Episode length: 432.42 +/- 160.87\n"
            ]
          },
          "metadata": {},
          "output_type": "display_data"
        },
        {
          "data": {
            "text/html": [
              "<pre style=\"white-space:pre;overflow-x:auto;line-height:normal;font-family:Menlo,'DejaVu Sans Mono',consolas,'Courier New',monospace\">Eval num_timesteps=380000, episode_reward=82.91 +/- 99.61\n",
              "</pre>\n"
            ],
            "text/plain": [
              "Eval num_timesteps=380000, episode_reward=82.91 +/- 99.61\n"
            ]
          },
          "metadata": {},
          "output_type": "display_data"
        },
        {
          "data": {
            "text/html": [
              "<pre style=\"white-space:pre;overflow-x:auto;line-height:normal;font-family:Menlo,'DejaVu Sans Mono',consolas,'Courier New',monospace\">Episode length: 805.40 +/- 207.30\n",
              "</pre>\n"
            ],
            "text/plain": [
              "Episode length: 805.40 +/- 207.30\n"
            ]
          },
          "metadata": {},
          "output_type": "display_data"
        },
        {
          "data": {
            "text/html": [
              "<pre style=\"white-space:pre;overflow-x:auto;line-height:normal;font-family:Menlo,'DejaVu Sans Mono',consolas,'Courier New',monospace\">Eval num_timesteps=385000, episode_reward=25.43 +/- 91.54\n",
              "</pre>\n"
            ],
            "text/plain": [
              "Eval num_timesteps=385000, episode_reward=25.43 +/- 91.54\n"
            ]
          },
          "metadata": {},
          "output_type": "display_data"
        },
        {
          "data": {
            "text/html": [
              "<pre style=\"white-space:pre;overflow-x:auto;line-height:normal;font-family:Menlo,'DejaVu Sans Mono',consolas,'Courier New',monospace\">Episode length: 919.12 +/- 155.11\n",
              "</pre>\n"
            ],
            "text/plain": [
              "Episode length: 919.12 +/- 155.11\n"
            ]
          },
          "metadata": {},
          "output_type": "display_data"
        },
        {
          "data": {
            "text/html": [
              "<pre style=\"white-space:pre;overflow-x:auto;line-height:normal;font-family:Menlo,'DejaVu Sans Mono',consolas,'Courier New',monospace\">Eval num_timesteps=390000, episode_reward=101.82 +/- 114.09\n",
              "</pre>\n"
            ],
            "text/plain": [
              "Eval num_timesteps=390000, episode_reward=101.82 +/- 114.09\n"
            ]
          },
          "metadata": {},
          "output_type": "display_data"
        },
        {
          "data": {
            "text/html": [
              "<pre style=\"white-space:pre;overflow-x:auto;line-height:normal;font-family:Menlo,'DejaVu Sans Mono',consolas,'Courier New',monospace\">Episode length: 626.36 +/- 138.06\n",
              "</pre>\n"
            ],
            "text/plain": [
              "Episode length: 626.36 +/- 138.06\n"
            ]
          },
          "metadata": {},
          "output_type": "display_data"
        },
        {
          "data": {
            "text/html": [
              "<pre style=\"white-space:pre;overflow-x:auto;line-height:normal;font-family:Menlo,'DejaVu Sans Mono',consolas,'Courier New',monospace\">Eval num_timesteps=395000, episode_reward=116.54 +/- 90.79\n",
              "</pre>\n"
            ],
            "text/plain": [
              "Eval num_timesteps=395000, episode_reward=116.54 +/- 90.79\n"
            ]
          },
          "metadata": {},
          "output_type": "display_data"
        },
        {
          "data": {
            "text/html": [
              "<pre style=\"white-space:pre;overflow-x:auto;line-height:normal;font-family:Menlo,'DejaVu Sans Mono',consolas,'Courier New',monospace\">Episode length: 678.02 +/- 172.27\n",
              "</pre>\n"
            ],
            "text/plain": [
              "Episode length: 678.02 +/- 172.27\n"
            ]
          },
          "metadata": {},
          "output_type": "display_data"
        },
        {
          "data": {
            "text/html": [
              "<pre style=\"white-space:pre;overflow-x:auto;line-height:normal;font-family:Menlo,'DejaVu Sans Mono',consolas,'Courier New',monospace\">Eval num_timesteps=400000, episode_reward=105.47 +/- 98.79\n",
              "</pre>\n"
            ],
            "text/plain": [
              "Eval num_timesteps=400000, episode_reward=105.47 +/- 98.79\n"
            ]
          },
          "metadata": {},
          "output_type": "display_data"
        },
        {
          "data": {
            "text/html": [
              "<pre style=\"white-space:pre;overflow-x:auto;line-height:normal;font-family:Menlo,'DejaVu Sans Mono',consolas,'Courier New',monospace\">Episode length: 791.30 +/- 171.74\n",
              "</pre>\n"
            ],
            "text/plain": [
              "Episode length: 791.30 +/- 171.74\n"
            ]
          },
          "metadata": {},
          "output_type": "display_data"
        },
        {
          "data": {
            "text/html": [
              "<pre style=\"white-space:pre;overflow-x:auto;line-height:normal;font-family:Menlo,'DejaVu Sans Mono',consolas,'Courier New',monospace\">Eval num_timesteps=405000, episode_reward=107.03 +/- 103.51\n",
              "</pre>\n"
            ],
            "text/plain": [
              "Eval num_timesteps=405000, episode_reward=107.03 +/- 103.51\n"
            ]
          },
          "metadata": {},
          "output_type": "display_data"
        },
        {
          "data": {
            "text/html": [
              "<pre style=\"white-space:pre;overflow-x:auto;line-height:normal;font-family:Menlo,'DejaVu Sans Mono',consolas,'Courier New',monospace\">Episode length: 669.06 +/- 179.09\n",
              "</pre>\n"
            ],
            "text/plain": [
              "Episode length: 669.06 +/- 179.09\n"
            ]
          },
          "metadata": {},
          "output_type": "display_data"
        },
        {
          "data": {
            "text/html": [
              "<pre style=\"white-space:pre;overflow-x:auto;line-height:normal;font-family:Menlo,'DejaVu Sans Mono',consolas,'Courier New',monospace\">Eval num_timesteps=410000, episode_reward=38.19 +/- 120.18\n",
              "</pre>\n"
            ],
            "text/plain": [
              "Eval num_timesteps=410000, episode_reward=38.19 +/- 120.18\n"
            ]
          },
          "metadata": {},
          "output_type": "display_data"
        },
        {
          "data": {
            "text/html": [
              "<pre style=\"white-space:pre;overflow-x:auto;line-height:normal;font-family:Menlo,'DejaVu Sans Mono',consolas,'Courier New',monospace\">Episode length: 817.50 +/- 213.43\n",
              "</pre>\n"
            ],
            "text/plain": [
              "Episode length: 817.50 +/- 213.43\n"
            ]
          },
          "metadata": {},
          "output_type": "display_data"
        },
        {
          "data": {
            "text/html": [
              "<pre style=\"white-space:pre;overflow-x:auto;line-height:normal;font-family:Menlo,'DejaVu Sans Mono',consolas,'Courier New',monospace\">Eval num_timesteps=415000, episode_reward=-16.20 +/- 73.40\n",
              "</pre>\n"
            ],
            "text/plain": [
              "Eval num_timesteps=415000, episode_reward=-16.20 +/- 73.40\n"
            ]
          },
          "metadata": {},
          "output_type": "display_data"
        },
        {
          "data": {
            "text/html": [
              "<pre style=\"white-space:pre;overflow-x:auto;line-height:normal;font-family:Menlo,'DejaVu Sans Mono',consolas,'Courier New',monospace\">Episode length: 942.12 +/- 117.51\n",
              "</pre>\n"
            ],
            "text/plain": [
              "Episode length: 942.12 +/- 117.51\n"
            ]
          },
          "metadata": {},
          "output_type": "display_data"
        },
        {
          "data": {
            "text/html": [
              "<pre style=\"white-space:pre;overflow-x:auto;line-height:normal;font-family:Menlo,'DejaVu Sans Mono',consolas,'Courier New',monospace\">Eval num_timesteps=420000, episode_reward=114.85 +/- 117.57\n",
              "</pre>\n"
            ],
            "text/plain": [
              "Eval num_timesteps=420000, episode_reward=114.85 +/- 117.57\n"
            ]
          },
          "metadata": {},
          "output_type": "display_data"
        },
        {
          "data": {
            "text/html": [
              "<pre style=\"white-space:pre;overflow-x:auto;line-height:normal;font-family:Menlo,'DejaVu Sans Mono',consolas,'Courier New',monospace\">Episode length: 536.72 +/- 153.96\n",
              "</pre>\n"
            ],
            "text/plain": [
              "Episode length: 536.72 +/- 153.96\n"
            ]
          },
          "metadata": {},
          "output_type": "display_data"
        },
        {
          "data": {
            "text/html": [
              "<pre style=\"white-space:pre;overflow-x:auto;line-height:normal;font-family:Menlo,'DejaVu Sans Mono',consolas,'Courier New',monospace\">Eval num_timesteps=425000, episode_reward=71.01 +/- 154.18\n",
              "</pre>\n"
            ],
            "text/plain": [
              "Eval num_timesteps=425000, episode_reward=71.01 +/- 154.18\n"
            ]
          },
          "metadata": {},
          "output_type": "display_data"
        },
        {
          "data": {
            "text/html": [
              "<pre style=\"white-space:pre;overflow-x:auto;line-height:normal;font-family:Menlo,'DejaVu Sans Mono',consolas,'Courier New',monospace\">Episode length: 673.06 +/- 213.84\n",
              "</pre>\n"
            ],
            "text/plain": [
              "Episode length: 673.06 +/- 213.84\n"
            ]
          },
          "metadata": {},
          "output_type": "display_data"
        },
        {
          "data": {
            "text/html": [
              "<pre style=\"white-space:pre;overflow-x:auto;line-height:normal;font-family:Menlo,'DejaVu Sans Mono',consolas,'Courier New',monospace\">Eval num_timesteps=430000, episode_reward=21.12 +/- 146.64\n",
              "</pre>\n"
            ],
            "text/plain": [
              "Eval num_timesteps=430000, episode_reward=21.12 +/- 146.64\n"
            ]
          },
          "metadata": {},
          "output_type": "display_data"
        },
        {
          "data": {
            "text/html": [
              "<pre style=\"white-space:pre;overflow-x:auto;line-height:normal;font-family:Menlo,'DejaVu Sans Mono',consolas,'Courier New',monospace\">Episode length: 680.98 +/- 208.38\n",
              "</pre>\n"
            ],
            "text/plain": [
              "Episode length: 680.98 +/- 208.38\n"
            ]
          },
          "metadata": {},
          "output_type": "display_data"
        },
        {
          "data": {
            "text/html": [
              "<pre style=\"white-space:pre;overflow-x:auto;line-height:normal;font-family:Menlo,'DejaVu Sans Mono',consolas,'Courier New',monospace\">Eval num_timesteps=435000, episode_reward=-67.08 +/- 111.36\n",
              "</pre>\n"
            ],
            "text/plain": [
              "Eval num_timesteps=435000, episode_reward=-67.08 +/- 111.36\n"
            ]
          },
          "metadata": {},
          "output_type": "display_data"
        },
        {
          "data": {
            "text/html": [
              "<pre style=\"white-space:pre;overflow-x:auto;line-height:normal;font-family:Menlo,'DejaVu Sans Mono',consolas,'Courier New',monospace\">Episode length: 834.78 +/- 184.46\n",
              "</pre>\n"
            ],
            "text/plain": [
              "Episode length: 834.78 +/- 184.46\n"
            ]
          },
          "metadata": {},
          "output_type": "display_data"
        },
        {
          "data": {
            "text/html": [
              "<pre style=\"white-space:pre;overflow-x:auto;line-height:normal;font-family:Menlo,'DejaVu Sans Mono',consolas,'Courier New',monospace\">Eval num_timesteps=440000, episode_reward=-36.29 +/- 84.43\n",
              "</pre>\n"
            ],
            "text/plain": [
              "Eval num_timesteps=440000, episode_reward=-36.29 +/- 84.43\n"
            ]
          },
          "metadata": {},
          "output_type": "display_data"
        },
        {
          "data": {
            "text/html": [
              "<pre style=\"white-space:pre;overflow-x:auto;line-height:normal;font-family:Menlo,'DejaVu Sans Mono',consolas,'Courier New',monospace\">Episode length: 956.32 +/- 80.53\n",
              "</pre>\n"
            ],
            "text/plain": [
              "Episode length: 956.32 +/- 80.53\n"
            ]
          },
          "metadata": {},
          "output_type": "display_data"
        },
        {
          "data": {
            "text/html": [
              "<pre style=\"white-space:pre;overflow-x:auto;line-height:normal;font-family:Menlo,'DejaVu Sans Mono',consolas,'Courier New',monospace\">Eval num_timesteps=445000, episode_reward=-9.97 +/- 126.82\n",
              "</pre>\n"
            ],
            "text/plain": [
              "Eval num_timesteps=445000, episode_reward=-9.97 +/- 126.82\n"
            ]
          },
          "metadata": {},
          "output_type": "display_data"
        },
        {
          "data": {
            "text/html": [
              "<pre style=\"white-space:pre;overflow-x:auto;line-height:normal;font-family:Menlo,'DejaVu Sans Mono',consolas,'Courier New',monospace\">Episode length: 900.84 +/- 94.07\n",
              "</pre>\n"
            ],
            "text/plain": [
              "Episode length: 900.84 +/- 94.07\n"
            ]
          },
          "metadata": {},
          "output_type": "display_data"
        },
        {
          "data": {
            "text/html": [
              "<pre style=\"white-space:pre;overflow-x:auto;line-height:normal;font-family:Menlo,'DejaVu Sans Mono',consolas,'Courier New',monospace\">Eval num_timesteps=450000, episode_reward=-46.98 +/- 24.80\n",
              "</pre>\n"
            ],
            "text/plain": [
              "Eval num_timesteps=450000, episode_reward=-46.98 +/- 24.80\n"
            ]
          },
          "metadata": {},
          "output_type": "display_data"
        },
        {
          "data": {
            "text/html": [
              "<pre style=\"white-space:pre;overflow-x:auto;line-height:normal;font-family:Menlo,'DejaVu Sans Mono',consolas,'Courier New',monospace\">Episode length: 1000.00 +/- 0.00\n",
              "</pre>\n"
            ],
            "text/plain": [
              "Episode length: 1000.00 +/- 0.00\n"
            ]
          },
          "metadata": {},
          "output_type": "display_data"
        },
        {
          "data": {
            "text/html": [
              "<pre style=\"white-space:pre;overflow-x:auto;line-height:normal;font-family:Menlo,'DejaVu Sans Mono',consolas,'Courier New',monospace\">Eval num_timesteps=455000, episode_reward=-111.91 +/- 46.25\n",
              "</pre>\n"
            ],
            "text/plain": [
              "Eval num_timesteps=455000, episode_reward=-111.91 +/- 46.25\n"
            ]
          },
          "metadata": {},
          "output_type": "display_data"
        },
        {
          "data": {
            "text/html": [
              "<pre style=\"white-space:pre;overflow-x:auto;line-height:normal;font-family:Menlo,'DejaVu Sans Mono',consolas,'Courier New',monospace\">Episode length: 982.82 +/- 61.72\n",
              "</pre>\n"
            ],
            "text/plain": [
              "Episode length: 982.82 +/- 61.72\n"
            ]
          },
          "metadata": {},
          "output_type": "display_data"
        },
        {
          "data": {
            "text/html": [
              "<pre style=\"white-space:pre;overflow-x:auto;line-height:normal;font-family:Menlo,'DejaVu Sans Mono',consolas,'Courier New',monospace\">Eval num_timesteps=460000, episode_reward=-57.13 +/- 50.36\n",
              "</pre>\n"
            ],
            "text/plain": [
              "Eval num_timesteps=460000, episode_reward=-57.13 +/- 50.36\n"
            ]
          },
          "metadata": {},
          "output_type": "display_data"
        },
        {
          "data": {
            "text/html": [
              "<pre style=\"white-space:pre;overflow-x:auto;line-height:normal;font-family:Menlo,'DejaVu Sans Mono',consolas,'Courier New',monospace\">Episode length: 993.26 +/- 35.74\n",
              "</pre>\n"
            ],
            "text/plain": [
              "Episode length: 993.26 +/- 35.74\n"
            ]
          },
          "metadata": {},
          "output_type": "display_data"
        },
        {
          "data": {
            "text/html": [
              "<pre style=\"white-space:pre;overflow-x:auto;line-height:normal;font-family:Menlo,'DejaVu Sans Mono',consolas,'Courier New',monospace\">Eval num_timesteps=465000, episode_reward=-94.51 +/- 51.52\n",
              "</pre>\n"
            ],
            "text/plain": [
              "Eval num_timesteps=465000, episode_reward=-94.51 +/- 51.52\n"
            ]
          },
          "metadata": {},
          "output_type": "display_data"
        },
        {
          "data": {
            "text/html": [
              "<pre style=\"white-space:pre;overflow-x:auto;line-height:normal;font-family:Menlo,'DejaVu Sans Mono',consolas,'Courier New',monospace\">Episode length: 991.26 +/- 47.44\n",
              "</pre>\n"
            ],
            "text/plain": [
              "Episode length: 991.26 +/- 47.44\n"
            ]
          },
          "metadata": {},
          "output_type": "display_data"
        },
        {
          "data": {
            "text/html": [
              "<pre style=\"white-space:pre;overflow-x:auto;line-height:normal;font-family:Menlo,'DejaVu Sans Mono',consolas,'Courier New',monospace\">Eval num_timesteps=470000, episode_reward=-116.03 +/- 29.62\n",
              "</pre>\n"
            ],
            "text/plain": [
              "Eval num_timesteps=470000, episode_reward=-116.03 +/- 29.62\n"
            ]
          },
          "metadata": {},
          "output_type": "display_data"
        },
        {
          "data": {
            "text/html": [
              "<pre style=\"white-space:pre;overflow-x:auto;line-height:normal;font-family:Menlo,'DejaVu Sans Mono',consolas,'Courier New',monospace\">Episode length: 998.76 +/- 8.68\n",
              "</pre>\n"
            ],
            "text/plain": [
              "Episode length: 998.76 +/- 8.68\n"
            ]
          },
          "metadata": {},
          "output_type": "display_data"
        },
        {
          "data": {
            "text/html": [
              "<pre style=\"white-space:pre;overflow-x:auto;line-height:normal;font-family:Menlo,'DejaVu Sans Mono',consolas,'Courier New',monospace\">Eval num_timesteps=475000, episode_reward=-111.50 +/- 33.56\n",
              "</pre>\n"
            ],
            "text/plain": [
              "Eval num_timesteps=475000, episode_reward=-111.50 +/- 33.56\n"
            ]
          },
          "metadata": {},
          "output_type": "display_data"
        },
        {
          "data": {
            "text/html": [
              "<pre style=\"white-space:pre;overflow-x:auto;line-height:normal;font-family:Menlo,'DejaVu Sans Mono',consolas,'Courier New',monospace\">Episode length: 996.52 +/- 24.36\n",
              "</pre>\n"
            ],
            "text/plain": [
              "Episode length: 996.52 +/- 24.36\n"
            ]
          },
          "metadata": {},
          "output_type": "display_data"
        },
        {
          "data": {
            "text/html": [
              "<pre style=\"white-space:pre;overflow-x:auto;line-height:normal;font-family:Menlo,'DejaVu Sans Mono',consolas,'Courier New',monospace\">Eval num_timesteps=480000, episode_reward=-133.09 +/- 32.54\n",
              "</pre>\n"
            ],
            "text/plain": [
              "Eval num_timesteps=480000, episode_reward=-133.09 +/- 32.54\n"
            ]
          },
          "metadata": {},
          "output_type": "display_data"
        },
        {
          "data": {
            "text/html": [
              "<pre style=\"white-space:pre;overflow-x:auto;line-height:normal;font-family:Menlo,'DejaVu Sans Mono',consolas,'Courier New',monospace\">Episode length: 1000.00 +/- 0.00\n",
              "</pre>\n"
            ],
            "text/plain": [
              "Episode length: 1000.00 +/- 0.00\n"
            ]
          },
          "metadata": {},
          "output_type": "display_data"
        },
        {
          "data": {
            "text/html": [
              "<pre style=\"white-space:pre;overflow-x:auto;line-height:normal;font-family:Menlo,'DejaVu Sans Mono',consolas,'Courier New',monospace\">Eval num_timesteps=485000, episode_reward=-161.16 +/- 30.70\n",
              "</pre>\n"
            ],
            "text/plain": [
              "Eval num_timesteps=485000, episode_reward=-161.16 +/- 30.70\n"
            ]
          },
          "metadata": {},
          "output_type": "display_data"
        },
        {
          "data": {
            "text/html": [
              "<pre style=\"white-space:pre;overflow-x:auto;line-height:normal;font-family:Menlo,'DejaVu Sans Mono',consolas,'Courier New',monospace\">Episode length: 996.96 +/- 21.28\n",
              "</pre>\n"
            ],
            "text/plain": [
              "Episode length: 996.96 +/- 21.28\n"
            ]
          },
          "metadata": {},
          "output_type": "display_data"
        },
        {
          "data": {
            "text/html": [
              "<pre style=\"white-space:pre;overflow-x:auto;line-height:normal;font-family:Menlo,'DejaVu Sans Mono',consolas,'Courier New',monospace\">Eval num_timesteps=490000, episode_reward=-137.30 +/- 32.27\n",
              "</pre>\n"
            ],
            "text/plain": [
              "Eval num_timesteps=490000, episode_reward=-137.30 +/- 32.27\n"
            ]
          },
          "metadata": {},
          "output_type": "display_data"
        },
        {
          "data": {
            "text/html": [
              "<pre style=\"white-space:pre;overflow-x:auto;line-height:normal;font-family:Menlo,'DejaVu Sans Mono',consolas,'Courier New',monospace\">Episode length: 1000.00 +/- 0.00\n",
              "</pre>\n"
            ],
            "text/plain": [
              "Episode length: 1000.00 +/- 0.00\n"
            ]
          },
          "metadata": {},
          "output_type": "display_data"
        },
        {
          "data": {
            "text/html": [
              "<pre style=\"white-space:pre;overflow-x:auto;line-height:normal;font-family:Menlo,'DejaVu Sans Mono',consolas,'Courier New',monospace\">Eval num_timesteps=495000, episode_reward=-107.12 +/- 33.14\n",
              "</pre>\n"
            ],
            "text/plain": [
              "Eval num_timesteps=495000, episode_reward=-107.12 +/- 33.14\n"
            ]
          },
          "metadata": {},
          "output_type": "display_data"
        },
        {
          "data": {
            "text/html": [
              "<pre style=\"white-space:pre;overflow-x:auto;line-height:normal;font-family:Menlo,'DejaVu Sans Mono',consolas,'Courier New',monospace\">Episode length: 1000.00 +/- 0.00\n",
              "</pre>\n"
            ],
            "text/plain": [
              "Episode length: 1000.00 +/- 0.00\n"
            ]
          },
          "metadata": {},
          "output_type": "display_data"
        },
        {
          "data": {
            "text/html": [
              "<pre style=\"white-space:pre;overflow-x:auto;line-height:normal;font-family:Menlo,'DejaVu Sans Mono',consolas,'Courier New',monospace\">Eval num_timesteps=500000, episode_reward=-164.30 +/- 50.71\n",
              "</pre>\n"
            ],
            "text/plain": [
              "Eval num_timesteps=500000, episode_reward=-164.30 +/- 50.71\n"
            ]
          },
          "metadata": {},
          "output_type": "display_data"
        },
        {
          "data": {
            "text/html": [
              "<pre style=\"white-space:pre;overflow-x:auto;line-height:normal;font-family:Menlo,'DejaVu Sans Mono',consolas,'Courier New',monospace\">Episode length: 977.48 +/- 68.91\n",
              "</pre>\n"
            ],
            "text/plain": [
              "Episode length: 977.48 +/- 68.91\n"
            ]
          },
          "metadata": {},
          "output_type": "display_data"
        },
        {
          "data": {
            "text/html": [
              "<pre style=\"white-space:pre;overflow-x:auto;line-height:normal;font-family:Menlo,'DejaVu Sans Mono',consolas,'Courier New',monospace\"></pre>\n"
            ],
            "text/plain": []
          },
          "metadata": {},
          "output_type": "display_data"
        },
        {
          "data": {
            "text/plain": [
              "<stable_baselines3.a2c.a2c.A2C at 0x7c8b2c8fc6e0>"
            ]
          },
          "execution_count": 5,
          "metadata": {},
          "output_type": "execute_result"
        }
      ],
      "source": [
        "# Train model on the environment\n",
        "TRAINING_TIMESTEPS = 500_000\n",
        "model.learn(\n",
        "    total_timesteps=TRAINING_TIMESTEPS, callback=[eval_callback, ProgressBarCallback()]\n",
        ")"
      ]
    },
    {
      "cell_type": "code",
      "execution_count": 9,
      "metadata": {},
      "outputs": [
        {
          "name": "stderr",
          "output_type": "stream",
          "text": [
            "/home/javier/.cache/pypoetry/virtualenvs/deep-reinforcement-learning-gymnasium-u3px5S1O-py3.13/lib/python3.13/site-packages/stable_baselines3/common/on_policy_algorithm.py:150: UserWarning: You are trying to run A2C on the GPU, but it is primarily intended to run on the CPU when not using a CNN policy (you are using ActorCriticPolicy which should be a MlpPolicy). See https://github.com/DLR-RM/stable-baselines3/issues/1245 for more info. You can pass `device='cpu'` or `export CUDA_VISIBLE_DEVICES=` to force using the CPU.Note: The model will train, but the GPU utilization will be poor and the training might take longer than on CPU.\n",
            "  warnings.warn(\n"
          ]
        }
      ],
      "source": [
        "model = A2C.load(\"../logs/exercise_2/a2c/best_model.zip\")"
      ]
    },
    {
      "cell_type": "code",
      "execution_count": 10,
      "metadata": {},
      "outputs": [
        {
          "name": "stderr",
          "output_type": "stream",
          "text": [
            "/home/javier/.cache/pypoetry/virtualenvs/deep-reinforcement-learning-gymnasium-u3px5S1O-py3.13/lib/python3.13/site-packages/stable_baselines3/common/evaluation.py:67: UserWarning: Evaluation environment is not wrapped with a ``Monitor`` wrapper. This may result in reporting modified episode lengths and rewards, if other wrappers happen to modify these. Consider wrapping environment first with ``Monitor`` wrapper.\n",
            "  warnings.warn(\n"
          ]
        },
        {
          "name": "stdout",
          "output_type": "stream",
          "text": [
            "Mean reward: 177.99962731934156 +/- 95.19826463320929\n"
          ]
        }
      ],
      "source": [
        "mean_reward, std_reward = evaluate_policy(model, env, n_eval_episodes=50)\n",
        "print(f\"Mean reward: {mean_reward} +/- {std_reward}\")"
      ]
    },
    {
      "cell_type": "code",
      "execution_count": 11,
      "metadata": {
        "colab": {
          "base_uri": "https://localhost:8080/",
          "height": 211
        },
        "id": "6bSCsyCOYbVW",
        "outputId": "ee81a478-36d3-4245-8d0d-058e6e0a4693"
      },
      "outputs": [
        {
          "name": "stdout",
          "output_type": "stream",
          "text": [
            "Episode finished after 456 steps (terminated)\n",
            "Final Step: 456\n",
            "Number of Frames: 456\n"
          ]
        }
      ],
      "source": [
        "MAX_STEPS = 1_000\n",
        "\n",
        "observation, info = env.reset(seed=42)\n",
        "frames = []\n",
        "step_count = 0\n",
        "\n",
        "# for step in range(MAX_STEPS):\n",
        "while True:\n",
        "    frame = env.render()\n",
        "    frames.append(frame)\n",
        "\n",
        "    action, _ = model.predict(observation, deterministic=True)\n",
        "    observation, reward, terminated, truncated, info = env.step(action)\n",
        "    step_count += 1\n",
        "\n",
        "    if terminated or truncated:\n",
        "        print(\n",
        "            f\"Episode finished after {step_count} steps ({\"truncated\" if truncated else \"terminated\"})\"\n",
        "        )\n",
        "        break\n",
        "\n",
        "env.close()\n",
        "\n",
        "print(f\"Final Step: {step_count}\")\n",
        "print(f\"Number of Frames: {len(frames)}\")"
      ]
    },
    {
      "cell_type": "code",
      "execution_count": 12,
      "metadata": {
        "id": "SAvZXQ3UKiF8"
      },
      "outputs": [
        {
          "name": "stdout",
          "output_type": "stream",
          "text": [
            "Video guardado como ../videos/lunarlander_a2c.mp4\n"
          ]
        },
        {
          "name": "stderr",
          "output_type": "stream",
          "text": [
            "rm: cannot remove '../videos/lunarlander_a2c_compressed.mp4': No such file or directory\n",
            "ffmpeg version n7.1 Copyright (c) 2000-2024 the FFmpeg developers\n",
            "  built with gcc 14.2.1 (GCC) 20250207\n",
            "  configuration: --prefix=/usr --disable-debug --disable-static --disable-stripping --enable-amf --enable-avisynth --enable-cuda-llvm --enable-lto --enable-fontconfig --enable-frei0r --enable-gmp --enable-gnutls --enable-gpl --enable-ladspa --enable-libaom --enable-libass --enable-libbluray --enable-libbs2b --enable-libdav1d --enable-libdrm --enable-libdvdnav --enable-libdvdread --enable-libfreetype --enable-libfribidi --enable-libglslang --enable-libgsm --enable-libharfbuzz --enable-libiec61883 --enable-libjack --enable-libjxl --enable-libmodplug --enable-libmp3lame --enable-libopencore_amrnb --enable-libopencore_amrwb --enable-libopenjpeg --enable-libopenmpt --enable-libopus --enable-libplacebo --enable-libpulse --enable-librav1e --enable-librsvg --enable-librubberband --enable-libsnappy --enable-libsoxr --enable-libspeex --enable-libsrt --enable-libssh --enable-libsvtav1 --enable-libtheora --enable-libv4l2 --enable-libvidstab --enable-libvmaf --enable-libvorbis --enable-libvpl --enable-libvpx --enable-libwebp --enable-libx264 --enable-libx265 --enable-libxcb --enable-libxml2 --enable-libxvid --enable-libzimg --enable-libzmq --enable-nvdec --enable-nvenc --enable-opencl --enable-opengl --enable-shared --enable-vapoursynth --enable-version3 --enable-vulkan\n",
            "  libavutil      59. 39.100 / 59. 39.100\n",
            "  libavcodec     61. 19.100 / 61. 19.100\n",
            "  libavformat    61.  7.100 / 61.  7.100\n",
            "  libavdevice    61.  3.100 / 61.  3.100\n",
            "  libavfilter    10.  4.100 / 10.  4.100\n",
            "  libswscale      8.  3.100 /  8.  3.100\n",
            "  libswresample   5.  3.100 /  5.  3.100\n",
            "  libpostproc    58.  3.100 / 58.  3.100\n",
            "Input #0, mov,mp4,m4a,3gp,3g2,mj2, from '../videos/lunarlander_a2c.mp4':\n",
            "  Metadata:\n",
            "    major_brand     : isom\n",
            "    minor_version   : 512\n",
            "    compatible_brands: isomiso2mp41\n",
            "    encoder         : Lavf59.27.100\n",
            "  Duration: 00:00:15.20, start: 0.000000, bitrate: 339 kb/s\n",
            "  Stream #0:0[0x1](und): Video: mpeg4 (Simple Profile) (mp4v / 0x7634706D), yuv420p, 600x400 [SAR 1:1 DAR 3:2], 338 kb/s, 30 fps, 30 tbr, 15360 tbn (default)\n",
            "      Metadata:\n",
            "        handler_name    : VideoHandler\n",
            "        vendor_id       : [0][0][0][0]\n",
            "Stream mapping:\n",
            "  Stream #0:0 -> #0:0 (mpeg4 (native) -> h264 (libx264))\n",
            "Press [q] to stop, [?] for help\n",
            "[libx264 @ 0x5c57f5965c00] using SAR=1/1\n",
            "[libx264 @ 0x5c57f5965c00] using cpu capabilities: MMX2 SSE2Fast SSSE3 SSE4.2 AVX FMA3 BMI2 AVX2\n",
            "[libx264 @ 0x5c57f5965c00] profile High, level 3.0, 4:2:0, 8-bit\n",
            "[libx264 @ 0x5c57f5965c00] 264 - core 164 r3108 31e19f9 - H.264/MPEG-4 AVC codec - Copyleft 2003-2023 - http://www.videolan.org/x264.html - options: cabac=1 ref=3 deblock=1:0:0 analyse=0x3:0x113 me=hex subme=7 psy=1 psy_rd=1.00:0.00 mixed_ref=1 me_range=16 chroma_me=1 trellis=1 8x8dct=1 cqm=0 deadzone=21,11 fast_pskip=1 chroma_qp_offset=-2 threads=12 lookahead_threads=2 sliced_threads=0 nr=0 decimate=1 interlaced=0 bluray_compat=0 constrained_intra=0 bframes=3 b_pyramid=2 b_adapt=1 b_bias=0 direct=1 weightb=1 open_gop=0 weightp=2 keyint=250 keyint_min=25 scenecut=40 intra_refresh=0 rc_lookahead=40 rc=crf mbtree=1 crf=23.0 qcomp=0.60 qpmin=0 qpmax=69 qpstep=4 ip_ratio=1.40 aq=1:1.00\n",
            "Output #0, mp4, to '../videos/lunarlander_a2c_compressed.mp4':\n",
            "  Metadata:\n",
            "    major_brand     : isom\n",
            "    minor_version   : 512\n",
            "    compatible_brands: isomiso2mp41\n",
            "    encoder         : Lavf61.7.100\n",
            "  Stream #0:0(und): Video: h264 (avc1 / 0x31637661), yuv420p(tv, progressive), 600x400 [SAR 1:1 DAR 3:2], q=2-31, 30 fps, 15360 tbn (default)\n",
            "      Metadata:\n",
            "        handler_name    : VideoHandler\n",
            "        vendor_id       : [0][0][0][0]\n",
            "        encoder         : Lavc61.19.100 libx264\n",
            "      Side data:\n",
            "        cpb: bitrate max/min/avg: 0/0/0 buffer size: 0 vbv_delay: N/A\n",
            "[out#0/mp4 @ 0x5c57f5989140] video:99KiB audio:0KiB subtitle:0KiB other streams:0KiB global headers:0KiB muxing overhead: 6.256505%\n",
            "frame=  456 fps=0.0 q=-1.0 Lsize=     105KiB time=00:00:15.13 bitrate=  56.7kbits/s speed=  95x    \n",
            "[libx264 @ 0x5c57f5965c00] frame I:2     Avg QP: 6.87  size:  2276\n",
            "[libx264 @ 0x5c57f5965c00] frame P:119   Avg QP:19.56  size:   326\n",
            "[libx264 @ 0x5c57f5965c00] frame B:335   Avg QP:24.12  size:   170\n",
            "[libx264 @ 0x5c57f5965c00] consecutive B-frames:  0.9%  2.6%  2.6% 93.9%\n",
            "[libx264 @ 0x5c57f5965c00] mb I  I16..4: 90.2%  4.1%  5.8%\n",
            "[libx264 @ 0x5c57f5965c00] mb P  I16..4:  0.4%  0.6%  0.3%  P16..4:  1.9%  0.5%  0.2%  0.0%  0.0%    skip:96.1%\n",
            "[libx264 @ 0x5c57f5965c00] mb B  I16..4:  0.1%  0.1%  0.1%  B16..8:  3.0%  0.3%  0.1%  direct: 0.1%  skip:96.2%  L0:54.7% L1:43.7% BI: 1.6%\n",
            "[libx264 @ 0x5c57f5965c00] 8x8 transform intra:26.8% inter:18.3%\n",
            "[libx264 @ 0x5c57f5965c00] coded y,uvDC,uvAC intra: 9.6% 22.9% 20.5% inter: 0.2% 0.5% 0.3%\n",
            "[libx264 @ 0x5c57f5965c00] i16 v,h,dc,p: 82% 13%  5%  0%\n",
            "[libx264 @ 0x5c57f5965c00] i8 v,h,dc,ddl,ddr,vr,hd,vl,hu:  7%  8% 83%  0%  0%  0%  0%  0%  0%\n",
            "[libx264 @ 0x5c57f5965c00] i4 v,h,dc,ddl,ddr,vr,hd,vl,hu: 13% 14% 63%  2%  2%  1%  2%  1%  1%\n",
            "[libx264 @ 0x5c57f5965c00] i8c dc,h,v,p: 83% 10%  7%  0%\n",
            "[libx264 @ 0x5c57f5965c00] Weighted P-Frames: Y:0.0% UV:0.0%\n",
            "[libx264 @ 0x5c57f5965c00] ref P L0: 64.6%  2.2% 21.8% 11.4%\n",
            "[libx264 @ 0x5c57f5965c00] ref B L0: 69.8% 26.0%  4.2%\n",
            "[libx264 @ 0x5c57f5965c00] ref B L1: 92.3%  7.7%\n",
            "[libx264 @ 0x5c57f5965c00] kb/s:52.74\n"
          ]
        },
        {
          "data": {
            "text/html": [
              "\n",
              "<video width=800 controls>\n",
              "      <source src=\"data:video/mp4;base64,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\" type=\"video/mp4\">\n",
              "</video>"
            ],
            "text/plain": [
              "<IPython.core.display.HTML object>"
            ]
          },
          "execution_count": 12,
          "metadata": {},
          "output_type": "execute_result"
        }
      ],
      "source": [
        "from IPython.display import HTML\n",
        "from base64 import b64encode\n",
        "import os\n",
        "\n",
        "# Create a video from the frames\n",
        "video_filename = \"../videos/lunarlander_a2c.mp4\"\n",
        "compressed_path = \"../videos/lunarlander_a2c_compressed.mp4\"\n",
        "height, width, _ = frames[0].shape\n",
        "\n",
        "fourcc = cv2.VideoWriter_fourcc(*\"mp4v\")\n",
        "video = cv2.VideoWriter(video_filename, fourcc, 30.0, (width, height))\n",
        "\n",
        "for frame in frames:\n",
        "    video.write(cv2.cvtColor(frame, cv2.COLOR_RGB2BGR))\n",
        "video.release()\n",
        "\n",
        "print(f\"Video guardado como {video_filename}\")\n",
        "\n",
        "os.system(f\"rm {compressed_path}\")\n",
        "# Compressed video path\n",
        "os.system(f\"ffmpeg -i {video_filename} -vcodec libx264 {compressed_path}\")\n",
        "os.system(f\"rm {video_filename}\")\n",
        "os.system(f\"mv {compressed_path} {video_filename}\")\n",
        "\n",
        "# Show video\n",
        "mp4 = open(video_filename, \"rb\").read()\n",
        "data_url = \"data:video/mp4;base64,\" + b64encode(mp4).decode()\n",
        "HTML(\n",
        "    \"\"\"\n",
        "<video width=800 controls>\n",
        "      <source src=\"%s\" type=\"video/mp4\">\n",
        "</video>\"\"\"\n",
        "    % data_url\n",
        ")"
      ]
    }
  ],
  "metadata": {
    "accelerator": "GPU",
    "colab": {
      "gpuType": "T4",
      "provenance": []
    },
    "kernelspec": {
      "display_name": "deep-reinforcement-learning-gymnasium-u3px5S1O-py3.13",
      "language": "python",
      "name": "python3"
    },
    "language_info": {
      "codemirror_mode": {
        "name": "ipython",
        "version": 3
      },
      "file_extension": ".py",
      "mimetype": "text/x-python",
      "name": "python",
      "nbconvert_exporter": "python",
      "pygments_lexer": "ipython3",
      "version": "3.13.3"
    }
  },
  "nbformat": 4,
  "nbformat_minor": 0
}
