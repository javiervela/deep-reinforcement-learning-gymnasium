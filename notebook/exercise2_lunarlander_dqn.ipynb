{
  "cells": [
    {
      "cell_type": "code",
      "execution_count": 3,
      "metadata": {
        "id": "OBCPdFloZEXO"
      },
      "outputs": [],
      "source": [
        "import gymnasium as gym\n",
        "import cv2\n",
        "import numpy as np\n",
        "import pandas as pd\n",
        "import matplotlib.pyplot as plt\n",
        "\n",
        "from stable_baselines3 import DQN\n",
        "from stable_baselines3.common.monitor import Monitor\n",
        "from stable_baselines3.common.vec_env import DummyVecEnv, VecMonitor\n",
        "from stable_baselines3.common.callbacks import (\n",
        "    EvalCallback,\n",
        "    StopTrainingOnRewardThreshold,\n",
        "    BaseCallback,\n",
        ")\n",
        "from stable_baselines3.common.callbacks import ProgressBarCallback\n",
        "from stable_baselines3.common.evaluation import evaluate_policy"
      ]
    },
    {
      "cell_type": "code",
      "execution_count": 6,
      "metadata": {},
      "outputs": [],
      "source": [
        "# Create the LunarLander-v3 environment\n",
        "env = gym.make(\n",
        "    \"LunarLander-v3\",\n",
        "    # continuous=False,\n",
        "    # gravity=-10.0,\n",
        "    # enable_wind=False,\n",
        "    # wind_power=15.0,\n",
        "    # turbulence_power=1.5,\n",
        "    render_mode=\"rgb_array\"\n",
        ")"
      ]
    },
    {
      "cell_type": "code",
      "execution_count": 3,
      "metadata": {},
      "outputs": [],
      "source": [
        "stop_callback = StopTrainingOnRewardThreshold(reward_threshold=200, verbose=1)\n",
        "\n",
        "eval_callback = EvalCallback(\n",
        "    env,\n",
        "    best_model_save_path=\"../logs/exercise_2/dqn/\",\n",
        "    log_path=\"../logs/exercise_2/dqn/\",\n",
        "    eval_freq=5_000,\n",
        "    deterministic=True,\n",
        "    render=False,\n",
        "    n_eval_episodes=50,\n",
        "    callback_on_new_best=stop_callback,\n",
        ")"
      ]
    },
    {
      "cell_type": "code",
      "execution_count": 4,
      "metadata": {
        "colab": {
          "base_uri": "https://localhost:8080/"
        },
        "id": "YU8nrDkrVCGw",
        "outputId": "e7875497-4d2d-4c7c-986c-d10d5316e8b5"
      },
      "outputs": [],
      "source": [
        "# Create DQN model\n",
        "model = DQN(\n",
        "    \"MlpPolicy\",\n",
        "    env,\n",
        "    learning_rate=0.00021924459122944128,\n",
        "    buffer_size=10_000,\n",
        "    batch_size=128,\n",
        "    gamma=0.9594449582014025,\n",
        "    train_freq=1,\n",
        "    exploration_fraction=0.24785493712044818,\n",
        "    exploration_final_eps=0.04073005273312161,\n",
        "    policy_kwargs = dict(net_arch=[64, 64]),\n",
        "    seed=42,\n",
        "    tensorboard_log=\"../logs/exercise_2/dqn/dqn_tensorboard/\",\n",
        "    device=\"cpu\",\n",
        "    verbose=0,\n",
        ")"
      ]
    },
    {
      "cell_type": "code",
      "execution_count": 5,
      "metadata": {
        "colab": {
          "base_uri": "https://localhost:8080/"
        },
        "id": "4Jy6O6s1ZusN",
        "outputId": "7631a5ee-d701-4312-c497-4b6ad3363806"
      },
      "outputs": [
        {
          "data": {
            "application/vnd.jupyter.widget-view+json": {
              "model_id": "5e47302f1cb24d72b2f1273d1885266b",
              "version_major": 2,
              "version_minor": 0
            },
            "text/plain": [
              "Output()"
            ]
          },
          "metadata": {},
          "output_type": "display_data"
        },
        {
          "data": {
            "text/html": [
              "<pre style=\"white-space:pre;overflow-x:auto;line-height:normal;font-family:Menlo,'DejaVu Sans Mono',consolas,'Courier New',monospace\">/home/javier/.cache/pypoetry/virtualenvs/deep-reinforcement-learning-gymnasium-u3px5S1O-py3.13/lib/python3.13/site-\n",
              "packages/stable_baselines3/common/evaluation.py:67: UserWarning: Evaluation environment is not wrapped with a \n",
              "``Monitor`` wrapper. This may result in reporting modified episode lengths and rewards, if other wrappers happen to\n",
              "modify these. Consider wrapping environment first with ``Monitor`` wrapper.\n",
              "  warnings.warn(\n",
              "</pre>\n"
            ],
            "text/plain": [
              "/home/javier/.cache/pypoetry/virtualenvs/deep-reinforcement-learning-gymnasium-u3px5S1O-py3.13/lib/python3.13/site-\n",
              "packages/stable_baselines3/common/evaluation.py:67: UserWarning: Evaluation environment is not wrapped with a \n",
              "``Monitor`` wrapper. This may result in reporting modified episode lengths and rewards, if other wrappers happen to\n",
              "modify these. Consider wrapping environment first with ``Monitor`` wrapper.\n",
              "  warnings.warn(\n"
            ]
          },
          "metadata": {},
          "output_type": "display_data"
        },
        {
          "data": {
            "text/html": [
              "<pre style=\"white-space:pre;overflow-x:auto;line-height:normal;font-family:Menlo,'DejaVu Sans Mono',consolas,'Courier New',monospace\">Eval num_timesteps=5000, episode_reward=-94.63 +/- 33.23\n",
              "</pre>\n"
            ],
            "text/plain": [
              "Eval num_timesteps=5000, episode_reward=-94.63 +/- 33.23\n"
            ]
          },
          "metadata": {},
          "output_type": "display_data"
        },
        {
          "data": {
            "text/html": [
              "<pre style=\"white-space:pre;overflow-x:auto;line-height:normal;font-family:Menlo,'DejaVu Sans Mono',consolas,'Courier New',monospace\">Episode length: 1000.00 +/- 0.00\n",
              "</pre>\n"
            ],
            "text/plain": [
              "Episode length: 1000.00 +/- 0.00\n"
            ]
          },
          "metadata": {},
          "output_type": "display_data"
        },
        {
          "data": {
            "text/html": [
              "<pre style=\"white-space:pre;overflow-x:auto;line-height:normal;font-family:Menlo,'DejaVu Sans Mono',consolas,'Courier New',monospace\">New best mean reward!\n",
              "</pre>\n"
            ],
            "text/plain": [
              "New best mean reward!\n"
            ]
          },
          "metadata": {},
          "output_type": "display_data"
        },
        {
          "data": {
            "text/html": [
              "<pre style=\"white-space:pre;overflow-x:auto;line-height:normal;font-family:Menlo,'DejaVu Sans Mono',consolas,'Courier New',monospace\">Eval num_timesteps=10000, episode_reward=-58.31 +/- 112.45\n",
              "</pre>\n"
            ],
            "text/plain": [
              "Eval num_timesteps=10000, episode_reward=-58.31 +/- 112.45\n"
            ]
          },
          "metadata": {},
          "output_type": "display_data"
        },
        {
          "data": {
            "text/html": [
              "<pre style=\"white-space:pre;overflow-x:auto;line-height:normal;font-family:Menlo,'DejaVu Sans Mono',consolas,'Courier New',monospace\">Episode length: 937.02 +/- 119.06\n",
              "</pre>\n"
            ],
            "text/plain": [
              "Episode length: 937.02 +/- 119.06\n"
            ]
          },
          "metadata": {},
          "output_type": "display_data"
        },
        {
          "data": {
            "text/html": [
              "<pre style=\"white-space:pre;overflow-x:auto;line-height:normal;font-family:Menlo,'DejaVu Sans Mono',consolas,'Courier New',monospace\">New best mean reward!\n",
              "</pre>\n"
            ],
            "text/plain": [
              "New best mean reward!\n"
            ]
          },
          "metadata": {},
          "output_type": "display_data"
        },
        {
          "data": {
            "text/html": [
              "<pre style=\"white-space:pre;overflow-x:auto;line-height:normal;font-family:Menlo,'DejaVu Sans Mono',consolas,'Courier New',monospace\">Eval num_timesteps=15000, episode_reward=-99.48 +/- 101.13\n",
              "</pre>\n"
            ],
            "text/plain": [
              "Eval num_timesteps=15000, episode_reward=-99.48 +/- 101.13\n"
            ]
          },
          "metadata": {},
          "output_type": "display_data"
        },
        {
          "data": {
            "text/html": [
              "<pre style=\"white-space:pre;overflow-x:auto;line-height:normal;font-family:Menlo,'DejaVu Sans Mono',consolas,'Courier New',monospace\">Episode length: 959.78 +/- 133.01\n",
              "</pre>\n"
            ],
            "text/plain": [
              "Episode length: 959.78 +/- 133.01\n"
            ]
          },
          "metadata": {},
          "output_type": "display_data"
        },
        {
          "data": {
            "text/html": [
              "<pre style=\"white-space:pre;overflow-x:auto;line-height:normal;font-family:Menlo,'DejaVu Sans Mono',consolas,'Courier New',monospace\">Eval num_timesteps=20000, episode_reward=-244.32 +/- 149.01\n",
              "</pre>\n"
            ],
            "text/plain": [
              "Eval num_timesteps=20000, episode_reward=-244.32 +/- 149.01\n"
            ]
          },
          "metadata": {},
          "output_type": "display_data"
        },
        {
          "data": {
            "text/html": [
              "<pre style=\"white-space:pre;overflow-x:auto;line-height:normal;font-family:Menlo,'DejaVu Sans Mono',consolas,'Courier New',monospace\">Episode length: 976.34 +/- 101.48\n",
              "</pre>\n"
            ],
            "text/plain": [
              "Episode length: 976.34 +/- 101.48\n"
            ]
          },
          "metadata": {},
          "output_type": "display_data"
        },
        {
          "data": {
            "text/html": [
              "<pre style=\"white-space:pre;overflow-x:auto;line-height:normal;font-family:Menlo,'DejaVu Sans Mono',consolas,'Courier New',monospace\">Eval num_timesteps=25000, episode_reward=-213.15 +/- 108.22\n",
              "</pre>\n"
            ],
            "text/plain": [
              "Eval num_timesteps=25000, episode_reward=-213.15 +/- 108.22\n"
            ]
          },
          "metadata": {},
          "output_type": "display_data"
        },
        {
          "data": {
            "text/html": [
              "<pre style=\"white-space:pre;overflow-x:auto;line-height:normal;font-family:Menlo,'DejaVu Sans Mono',consolas,'Courier New',monospace\">Episode length: 995.30 +/- 32.90\n",
              "</pre>\n"
            ],
            "text/plain": [
              "Episode length: 995.30 +/- 32.90\n"
            ]
          },
          "metadata": {},
          "output_type": "display_data"
        },
        {
          "data": {
            "text/html": [
              "<pre style=\"white-space:pre;overflow-x:auto;line-height:normal;font-family:Menlo,'DejaVu Sans Mono',consolas,'Courier New',monospace\">Eval num_timesteps=30000, episode_reward=-143.89 +/- 61.35\n",
              "</pre>\n"
            ],
            "text/plain": [
              "Eval num_timesteps=30000, episode_reward=-143.89 +/- 61.35\n"
            ]
          },
          "metadata": {},
          "output_type": "display_data"
        },
        {
          "data": {
            "text/html": [
              "<pre style=\"white-space:pre;overflow-x:auto;line-height:normal;font-family:Menlo,'DejaVu Sans Mono',consolas,'Courier New',monospace\">Episode length: 1000.00 +/- 0.00\n",
              "</pre>\n"
            ],
            "text/plain": [
              "Episode length: 1000.00 +/- 0.00\n"
            ]
          },
          "metadata": {},
          "output_type": "display_data"
        },
        {
          "data": {
            "text/html": [
              "<pre style=\"white-space:pre;overflow-x:auto;line-height:normal;font-family:Menlo,'DejaVu Sans Mono',consolas,'Courier New',monospace\">Eval num_timesteps=35000, episode_reward=-174.69 +/- 34.70\n",
              "</pre>\n"
            ],
            "text/plain": [
              "Eval num_timesteps=35000, episode_reward=-174.69 +/- 34.70\n"
            ]
          },
          "metadata": {},
          "output_type": "display_data"
        },
        {
          "data": {
            "text/html": [
              "<pre style=\"white-space:pre;overflow-x:auto;line-height:normal;font-family:Menlo,'DejaVu Sans Mono',consolas,'Courier New',monospace\">Episode length: 1000.00 +/- 0.00\n",
              "</pre>\n"
            ],
            "text/plain": [
              "Episode length: 1000.00 +/- 0.00\n"
            ]
          },
          "metadata": {},
          "output_type": "display_data"
        },
        {
          "data": {
            "text/html": [
              "<pre style=\"white-space:pre;overflow-x:auto;line-height:normal;font-family:Menlo,'DejaVu Sans Mono',consolas,'Courier New',monospace\">Eval num_timesteps=40000, episode_reward=-220.02 +/- 42.59\n",
              "</pre>\n"
            ],
            "text/plain": [
              "Eval num_timesteps=40000, episode_reward=-220.02 +/- 42.59\n"
            ]
          },
          "metadata": {},
          "output_type": "display_data"
        },
        {
          "data": {
            "text/html": [
              "<pre style=\"white-space:pre;overflow-x:auto;line-height:normal;font-family:Menlo,'DejaVu Sans Mono',consolas,'Courier New',monospace\">Episode length: 1000.00 +/- 0.00\n",
              "</pre>\n"
            ],
            "text/plain": [
              "Episode length: 1000.00 +/- 0.00\n"
            ]
          },
          "metadata": {},
          "output_type": "display_data"
        },
        {
          "data": {
            "text/html": [
              "<pre style=\"white-space:pre;overflow-x:auto;line-height:normal;font-family:Menlo,'DejaVu Sans Mono',consolas,'Courier New',monospace\">Eval num_timesteps=45000, episode_reward=-149.02 +/- 24.69\n",
              "</pre>\n"
            ],
            "text/plain": [
              "Eval num_timesteps=45000, episode_reward=-149.02 +/- 24.69\n"
            ]
          },
          "metadata": {},
          "output_type": "display_data"
        },
        {
          "data": {
            "text/html": [
              "<pre style=\"white-space:pre;overflow-x:auto;line-height:normal;font-family:Menlo,'DejaVu Sans Mono',consolas,'Courier New',monospace\">Episode length: 1000.00 +/- 0.00\n",
              "</pre>\n"
            ],
            "text/plain": [
              "Episode length: 1000.00 +/- 0.00\n"
            ]
          },
          "metadata": {},
          "output_type": "display_data"
        },
        {
          "data": {
            "text/html": [
              "<pre style=\"white-space:pre;overflow-x:auto;line-height:normal;font-family:Menlo,'DejaVu Sans Mono',consolas,'Courier New',monospace\">Eval num_timesteps=50000, episode_reward=-154.31 +/- 24.88\n",
              "</pre>\n"
            ],
            "text/plain": [
              "Eval num_timesteps=50000, episode_reward=-154.31 +/- 24.88\n"
            ]
          },
          "metadata": {},
          "output_type": "display_data"
        },
        {
          "data": {
            "text/html": [
              "<pre style=\"white-space:pre;overflow-x:auto;line-height:normal;font-family:Menlo,'DejaVu Sans Mono',consolas,'Courier New',monospace\">Episode length: 1000.00 +/- 0.00\n",
              "</pre>\n"
            ],
            "text/plain": [
              "Episode length: 1000.00 +/- 0.00\n"
            ]
          },
          "metadata": {},
          "output_type": "display_data"
        },
        {
          "data": {
            "text/html": [
              "<pre style=\"white-space:pre;overflow-x:auto;line-height:normal;font-family:Menlo,'DejaVu Sans Mono',consolas,'Courier New',monospace\">Eval num_timesteps=55000, episode_reward=-150.75 +/- 21.02\n",
              "</pre>\n"
            ],
            "text/plain": [
              "Eval num_timesteps=55000, episode_reward=-150.75 +/- 21.02\n"
            ]
          },
          "metadata": {},
          "output_type": "display_data"
        },
        {
          "data": {
            "text/html": [
              "<pre style=\"white-space:pre;overflow-x:auto;line-height:normal;font-family:Menlo,'DejaVu Sans Mono',consolas,'Courier New',monospace\">Episode length: 1000.00 +/- 0.00\n",
              "</pre>\n"
            ],
            "text/plain": [
              "Episode length: 1000.00 +/- 0.00\n"
            ]
          },
          "metadata": {},
          "output_type": "display_data"
        },
        {
          "data": {
            "text/html": [
              "<pre style=\"white-space:pre;overflow-x:auto;line-height:normal;font-family:Menlo,'DejaVu Sans Mono',consolas,'Courier New',monospace\">Eval num_timesteps=60000, episode_reward=-127.38 +/- 20.21\n",
              "</pre>\n"
            ],
            "text/plain": [
              "Eval num_timesteps=60000, episode_reward=-127.38 +/- 20.21\n"
            ]
          },
          "metadata": {},
          "output_type": "display_data"
        },
        {
          "data": {
            "text/html": [
              "<pre style=\"white-space:pre;overflow-x:auto;line-height:normal;font-family:Menlo,'DejaVu Sans Mono',consolas,'Courier New',monospace\">Episode length: 1000.00 +/- 0.00\n",
              "</pre>\n"
            ],
            "text/plain": [
              "Episode length: 1000.00 +/- 0.00\n"
            ]
          },
          "metadata": {},
          "output_type": "display_data"
        },
        {
          "data": {
            "text/html": [
              "<pre style=\"white-space:pre;overflow-x:auto;line-height:normal;font-family:Menlo,'DejaVu Sans Mono',consolas,'Courier New',monospace\">Eval num_timesteps=65000, episode_reward=-111.13 +/- 25.56\n",
              "</pre>\n"
            ],
            "text/plain": [
              "Eval num_timesteps=65000, episode_reward=-111.13 +/- 25.56\n"
            ]
          },
          "metadata": {},
          "output_type": "display_data"
        },
        {
          "data": {
            "text/html": [
              "<pre style=\"white-space:pre;overflow-x:auto;line-height:normal;font-family:Menlo,'DejaVu Sans Mono',consolas,'Courier New',monospace\">Episode length: 1000.00 +/- 0.00\n",
              "</pre>\n"
            ],
            "text/plain": [
              "Episode length: 1000.00 +/- 0.00\n"
            ]
          },
          "metadata": {},
          "output_type": "display_data"
        },
        {
          "data": {
            "text/html": [
              "<pre style=\"white-space:pre;overflow-x:auto;line-height:normal;font-family:Menlo,'DejaVu Sans Mono',consolas,'Courier New',monospace\">Eval num_timesteps=70000, episode_reward=-123.16 +/- 25.34\n",
              "</pre>\n"
            ],
            "text/plain": [
              "Eval num_timesteps=70000, episode_reward=-123.16 +/- 25.34\n"
            ]
          },
          "metadata": {},
          "output_type": "display_data"
        },
        {
          "data": {
            "text/html": [
              "<pre style=\"white-space:pre;overflow-x:auto;line-height:normal;font-family:Menlo,'DejaVu Sans Mono',consolas,'Courier New',monospace\">Episode length: 1000.00 +/- 0.00\n",
              "</pre>\n"
            ],
            "text/plain": [
              "Episode length: 1000.00 +/- 0.00\n"
            ]
          },
          "metadata": {},
          "output_type": "display_data"
        },
        {
          "data": {
            "text/html": [
              "<pre style=\"white-space:pre;overflow-x:auto;line-height:normal;font-family:Menlo,'DejaVu Sans Mono',consolas,'Courier New',monospace\">Eval num_timesteps=75000, episode_reward=-98.73 +/- 30.75\n",
              "</pre>\n"
            ],
            "text/plain": [
              "Eval num_timesteps=75000, episode_reward=-98.73 +/- 30.75\n"
            ]
          },
          "metadata": {},
          "output_type": "display_data"
        },
        {
          "data": {
            "text/html": [
              "<pre style=\"white-space:pre;overflow-x:auto;line-height:normal;font-family:Menlo,'DejaVu Sans Mono',consolas,'Courier New',monospace\">Episode length: 1000.00 +/- 0.00\n",
              "</pre>\n"
            ],
            "text/plain": [
              "Episode length: 1000.00 +/- 0.00\n"
            ]
          },
          "metadata": {},
          "output_type": "display_data"
        },
        {
          "data": {
            "text/html": [
              "<pre style=\"white-space:pre;overflow-x:auto;line-height:normal;font-family:Menlo,'DejaVu Sans Mono',consolas,'Courier New',monospace\">Eval num_timesteps=80000, episode_reward=-96.20 +/- 31.68\n",
              "</pre>\n"
            ],
            "text/plain": [
              "Eval num_timesteps=80000, episode_reward=-96.20 +/- 31.68\n"
            ]
          },
          "metadata": {},
          "output_type": "display_data"
        },
        {
          "data": {
            "text/html": [
              "<pre style=\"white-space:pre;overflow-x:auto;line-height:normal;font-family:Menlo,'DejaVu Sans Mono',consolas,'Courier New',monospace\">Episode length: 985.08 +/- 104.44\n",
              "</pre>\n"
            ],
            "text/plain": [
              "Episode length: 985.08 +/- 104.44\n"
            ]
          },
          "metadata": {},
          "output_type": "display_data"
        },
        {
          "data": {
            "text/html": [
              "<pre style=\"white-space:pre;overflow-x:auto;line-height:normal;font-family:Menlo,'DejaVu Sans Mono',consolas,'Courier New',monospace\">Eval num_timesteps=85000, episode_reward=-103.14 +/- 36.05\n",
              "</pre>\n"
            ],
            "text/plain": [
              "Eval num_timesteps=85000, episode_reward=-103.14 +/- 36.05\n"
            ]
          },
          "metadata": {},
          "output_type": "display_data"
        },
        {
          "data": {
            "text/html": [
              "<pre style=\"white-space:pre;overflow-x:auto;line-height:normal;font-family:Menlo,'DejaVu Sans Mono',consolas,'Courier New',monospace\">Episode length: 1000.00 +/- 0.00\n",
              "</pre>\n"
            ],
            "text/plain": [
              "Episode length: 1000.00 +/- 0.00\n"
            ]
          },
          "metadata": {},
          "output_type": "display_data"
        },
        {
          "data": {
            "text/html": [
              "<pre style=\"white-space:pre;overflow-x:auto;line-height:normal;font-family:Menlo,'DejaVu Sans Mono',consolas,'Courier New',monospace\">Eval num_timesteps=90000, episode_reward=-109.16 +/- 32.24\n",
              "</pre>\n"
            ],
            "text/plain": [
              "Eval num_timesteps=90000, episode_reward=-109.16 +/- 32.24\n"
            ]
          },
          "metadata": {},
          "output_type": "display_data"
        },
        {
          "data": {
            "text/html": [
              "<pre style=\"white-space:pre;overflow-x:auto;line-height:normal;font-family:Menlo,'DejaVu Sans Mono',consolas,'Courier New',monospace\">Episode length: 1000.00 +/- 0.00\n",
              "</pre>\n"
            ],
            "text/plain": [
              "Episode length: 1000.00 +/- 0.00\n"
            ]
          },
          "metadata": {},
          "output_type": "display_data"
        },
        {
          "data": {
            "text/html": [
              "<pre style=\"white-space:pre;overflow-x:auto;line-height:normal;font-family:Menlo,'DejaVu Sans Mono',consolas,'Courier New',monospace\">Eval num_timesteps=95000, episode_reward=-93.52 +/- 38.26\n",
              "</pre>\n"
            ],
            "text/plain": [
              "Eval num_timesteps=95000, episode_reward=-93.52 +/- 38.26\n"
            ]
          },
          "metadata": {},
          "output_type": "display_data"
        },
        {
          "data": {
            "text/html": [
              "<pre style=\"white-space:pre;overflow-x:auto;line-height:normal;font-family:Menlo,'DejaVu Sans Mono',consolas,'Courier New',monospace\">Episode length: 1000.00 +/- 0.00\n",
              "</pre>\n"
            ],
            "text/plain": [
              "Episode length: 1000.00 +/- 0.00\n"
            ]
          },
          "metadata": {},
          "output_type": "display_data"
        },
        {
          "data": {
            "text/html": [
              "<pre style=\"white-space:pre;overflow-x:auto;line-height:normal;font-family:Menlo,'DejaVu Sans Mono',consolas,'Courier New',monospace\">Eval num_timesteps=100000, episode_reward=-97.69 +/- 31.30\n",
              "</pre>\n"
            ],
            "text/plain": [
              "Eval num_timesteps=100000, episode_reward=-97.69 +/- 31.30\n"
            ]
          },
          "metadata": {},
          "output_type": "display_data"
        },
        {
          "data": {
            "text/html": [
              "<pre style=\"white-space:pre;overflow-x:auto;line-height:normal;font-family:Menlo,'DejaVu Sans Mono',consolas,'Courier New',monospace\">Episode length: 1000.00 +/- 0.00\n",
              "</pre>\n"
            ],
            "text/plain": [
              "Episode length: 1000.00 +/- 0.00\n"
            ]
          },
          "metadata": {},
          "output_type": "display_data"
        },
        {
          "data": {
            "text/html": [
              "<pre style=\"white-space:pre;overflow-x:auto;line-height:normal;font-family:Menlo,'DejaVu Sans Mono',consolas,'Courier New',monospace\">Eval num_timesteps=105000, episode_reward=-93.20 +/- 24.78\n",
              "</pre>\n"
            ],
            "text/plain": [
              "Eval num_timesteps=105000, episode_reward=-93.20 +/- 24.78\n"
            ]
          },
          "metadata": {},
          "output_type": "display_data"
        },
        {
          "data": {
            "text/html": [
              "<pre style=\"white-space:pre;overflow-x:auto;line-height:normal;font-family:Menlo,'DejaVu Sans Mono',consolas,'Courier New',monospace\">Episode length: 1000.00 +/- 0.00\n",
              "</pre>\n"
            ],
            "text/plain": [
              "Episode length: 1000.00 +/- 0.00\n"
            ]
          },
          "metadata": {},
          "output_type": "display_data"
        },
        {
          "data": {
            "text/html": [
              "<pre style=\"white-space:pre;overflow-x:auto;line-height:normal;font-family:Menlo,'DejaVu Sans Mono',consolas,'Courier New',monospace\">Eval num_timesteps=110000, episode_reward=-80.66 +/- 26.78\n",
              "</pre>\n"
            ],
            "text/plain": [
              "Eval num_timesteps=110000, episode_reward=-80.66 +/- 26.78\n"
            ]
          },
          "metadata": {},
          "output_type": "display_data"
        },
        {
          "data": {
            "text/html": [
              "<pre style=\"white-space:pre;overflow-x:auto;line-height:normal;font-family:Menlo,'DejaVu Sans Mono',consolas,'Courier New',monospace\">Episode length: 943.46 +/- 223.79\n",
              "</pre>\n"
            ],
            "text/plain": [
              "Episode length: 943.46 +/- 223.79\n"
            ]
          },
          "metadata": {},
          "output_type": "display_data"
        },
        {
          "data": {
            "text/html": [
              "<pre style=\"white-space:pre;overflow-x:auto;line-height:normal;font-family:Menlo,'DejaVu Sans Mono',consolas,'Courier New',monospace\">Eval num_timesteps=115000, episode_reward=-61.82 +/- 24.76\n",
              "</pre>\n"
            ],
            "text/plain": [
              "Eval num_timesteps=115000, episode_reward=-61.82 +/- 24.76\n"
            ]
          },
          "metadata": {},
          "output_type": "display_data"
        },
        {
          "data": {
            "text/html": [
              "<pre style=\"white-space:pre;overflow-x:auto;line-height:normal;font-family:Menlo,'DejaVu Sans Mono',consolas,'Courier New',monospace\">Episode length: 967.36 +/- 159.92\n",
              "</pre>\n"
            ],
            "text/plain": [
              "Episode length: 967.36 +/- 159.92\n"
            ]
          },
          "metadata": {},
          "output_type": "display_data"
        },
        {
          "data": {
            "text/html": [
              "<pre style=\"white-space:pre;overflow-x:auto;line-height:normal;font-family:Menlo,'DejaVu Sans Mono',consolas,'Courier New',monospace\">Eval num_timesteps=120000, episode_reward=-45.97 +/- 22.80\n",
              "</pre>\n"
            ],
            "text/plain": [
              "Eval num_timesteps=120000, episode_reward=-45.97 +/- 22.80\n"
            ]
          },
          "metadata": {},
          "output_type": "display_data"
        },
        {
          "data": {
            "text/html": [
              "<pre style=\"white-space:pre;overflow-x:auto;line-height:normal;font-family:Menlo,'DejaVu Sans Mono',consolas,'Courier New',monospace\">Episode length: 983.84 +/- 113.12\n",
              "</pre>\n"
            ],
            "text/plain": [
              "Episode length: 983.84 +/- 113.12\n"
            ]
          },
          "metadata": {},
          "output_type": "display_data"
        },
        {
          "data": {
            "text/html": [
              "<pre style=\"white-space:pre;overflow-x:auto;line-height:normal;font-family:Menlo,'DejaVu Sans Mono',consolas,'Courier New',monospace\">New best mean reward!\n",
              "</pre>\n"
            ],
            "text/plain": [
              "New best mean reward!\n"
            ]
          },
          "metadata": {},
          "output_type": "display_data"
        },
        {
          "data": {
            "text/html": [
              "<pre style=\"white-space:pre;overflow-x:auto;line-height:normal;font-family:Menlo,'DejaVu Sans Mono',consolas,'Courier New',monospace\">Eval num_timesteps=125000, episode_reward=-42.42 +/- 37.21\n",
              "</pre>\n"
            ],
            "text/plain": [
              "Eval num_timesteps=125000, episode_reward=-42.42 +/- 37.21\n"
            ]
          },
          "metadata": {},
          "output_type": "display_data"
        },
        {
          "data": {
            "text/html": [
              "<pre style=\"white-space:pre;overflow-x:auto;line-height:normal;font-family:Menlo,'DejaVu Sans Mono',consolas,'Courier New',monospace\">Episode length: 980.32 +/- 116.95\n",
              "</pre>\n"
            ],
            "text/plain": [
              "Episode length: 980.32 +/- 116.95\n"
            ]
          },
          "metadata": {},
          "output_type": "display_data"
        },
        {
          "data": {
            "text/html": [
              "<pre style=\"white-space:pre;overflow-x:auto;line-height:normal;font-family:Menlo,'DejaVu Sans Mono',consolas,'Courier New',monospace\">New best mean reward!\n",
              "</pre>\n"
            ],
            "text/plain": [
              "New best mean reward!\n"
            ]
          },
          "metadata": {},
          "output_type": "display_data"
        },
        {
          "data": {
            "text/html": [
              "<pre style=\"white-space:pre;overflow-x:auto;line-height:normal;font-family:Menlo,'DejaVu Sans Mono',consolas,'Courier New',monospace\">Eval num_timesteps=130000, episode_reward=-53.29 +/- 23.92\n",
              "</pre>\n"
            ],
            "text/plain": [
              "Eval num_timesteps=130000, episode_reward=-53.29 +/- 23.92\n"
            ]
          },
          "metadata": {},
          "output_type": "display_data"
        },
        {
          "data": {
            "text/html": [
              "<pre style=\"white-space:pre;overflow-x:auto;line-height:normal;font-family:Menlo,'DejaVu Sans Mono',consolas,'Courier New',monospace\">Episode length: 966.88 +/- 162.26\n",
              "</pre>\n"
            ],
            "text/plain": [
              "Episode length: 966.88 +/- 162.26\n"
            ]
          },
          "metadata": {},
          "output_type": "display_data"
        },
        {
          "data": {
            "text/html": [
              "<pre style=\"white-space:pre;overflow-x:auto;line-height:normal;font-family:Menlo,'DejaVu Sans Mono',consolas,'Courier New',monospace\">Eval num_timesteps=135000, episode_reward=-47.78 +/- 35.85\n",
              "</pre>\n"
            ],
            "text/plain": [
              "Eval num_timesteps=135000, episode_reward=-47.78 +/- 35.85\n"
            ]
          },
          "metadata": {},
          "output_type": "display_data"
        },
        {
          "data": {
            "text/html": [
              "<pre style=\"white-space:pre;overflow-x:auto;line-height:normal;font-family:Menlo,'DejaVu Sans Mono',consolas,'Courier New',monospace\">Episode length: 884.14 +/- 287.58\n",
              "</pre>\n"
            ],
            "text/plain": [
              "Episode length: 884.14 +/- 287.58\n"
            ]
          },
          "metadata": {},
          "output_type": "display_data"
        },
        {
          "data": {
            "text/html": [
              "<pre style=\"white-space:pre;overflow-x:auto;line-height:normal;font-family:Menlo,'DejaVu Sans Mono',consolas,'Courier New',monospace\">Eval num_timesteps=140000, episode_reward=-42.63 +/- 39.59\n",
              "</pre>\n"
            ],
            "text/plain": [
              "Eval num_timesteps=140000, episode_reward=-42.63 +/- 39.59\n"
            ]
          },
          "metadata": {},
          "output_type": "display_data"
        },
        {
          "data": {
            "text/html": [
              "<pre style=\"white-space:pre;overflow-x:auto;line-height:normal;font-family:Menlo,'DejaVu Sans Mono',consolas,'Courier New',monospace\">Episode length: 844.34 +/- 324.76\n",
              "</pre>\n"
            ],
            "text/plain": [
              "Episode length: 844.34 +/- 324.76\n"
            ]
          },
          "metadata": {},
          "output_type": "display_data"
        },
        {
          "data": {
            "text/html": [
              "<pre style=\"white-space:pre;overflow-x:auto;line-height:normal;font-family:Menlo,'DejaVu Sans Mono',consolas,'Courier New',monospace\">Eval num_timesteps=145000, episode_reward=-51.70 +/- 47.24\n",
              "</pre>\n"
            ],
            "text/plain": [
              "Eval num_timesteps=145000, episode_reward=-51.70 +/- 47.24\n"
            ]
          },
          "metadata": {},
          "output_type": "display_data"
        },
        {
          "data": {
            "text/html": [
              "<pre style=\"white-space:pre;overflow-x:auto;line-height:normal;font-family:Menlo,'DejaVu Sans Mono',consolas,'Courier New',monospace\">Episode length: 762.48 +/- 370.78\n",
              "</pre>\n"
            ],
            "text/plain": [
              "Episode length: 762.48 +/- 370.78\n"
            ]
          },
          "metadata": {},
          "output_type": "display_data"
        },
        {
          "data": {
            "text/html": [
              "<pre style=\"white-space:pre;overflow-x:auto;line-height:normal;font-family:Menlo,'DejaVu Sans Mono',consolas,'Courier New',monospace\">Eval num_timesteps=150000, episode_reward=-87.51 +/- 150.42\n",
              "</pre>\n"
            ],
            "text/plain": [
              "Eval num_timesteps=150000, episode_reward=-87.51 +/- 150.42\n"
            ]
          },
          "metadata": {},
          "output_type": "display_data"
        },
        {
          "data": {
            "text/html": [
              "<pre style=\"white-space:pre;overflow-x:auto;line-height:normal;font-family:Menlo,'DejaVu Sans Mono',consolas,'Courier New',monospace\">Episode length: 697.68 +/- 397.73\n",
              "</pre>\n"
            ],
            "text/plain": [
              "Episode length: 697.68 +/- 397.73\n"
            ]
          },
          "metadata": {},
          "output_type": "display_data"
        },
        {
          "data": {
            "text/html": [
              "<pre style=\"white-space:pre;overflow-x:auto;line-height:normal;font-family:Menlo,'DejaVu Sans Mono',consolas,'Courier New',monospace\">Eval num_timesteps=155000, episode_reward=-66.82 +/- 112.44\n",
              "</pre>\n"
            ],
            "text/plain": [
              "Eval num_timesteps=155000, episode_reward=-66.82 +/- 112.44\n"
            ]
          },
          "metadata": {},
          "output_type": "display_data"
        },
        {
          "data": {
            "text/html": [
              "<pre style=\"white-space:pre;overflow-x:auto;line-height:normal;font-family:Menlo,'DejaVu Sans Mono',consolas,'Courier New',monospace\">Episode length: 565.00 +/- 403.53\n",
              "</pre>\n"
            ],
            "text/plain": [
              "Episode length: 565.00 +/- 403.53\n"
            ]
          },
          "metadata": {},
          "output_type": "display_data"
        },
        {
          "data": {
            "text/html": [
              "<pre style=\"white-space:pre;overflow-x:auto;line-height:normal;font-family:Menlo,'DejaVu Sans Mono',consolas,'Courier New',monospace\">Eval num_timesteps=160000, episode_reward=-80.43 +/- 168.21\n",
              "</pre>\n"
            ],
            "text/plain": [
              "Eval num_timesteps=160000, episode_reward=-80.43 +/- 168.21\n"
            ]
          },
          "metadata": {},
          "output_type": "display_data"
        },
        {
          "data": {
            "text/html": [
              "<pre style=\"white-space:pre;overflow-x:auto;line-height:normal;font-family:Menlo,'DejaVu Sans Mono',consolas,'Courier New',monospace\">Episode length: 529.16 +/- 377.15\n",
              "</pre>\n"
            ],
            "text/plain": [
              "Episode length: 529.16 +/- 377.15\n"
            ]
          },
          "metadata": {},
          "output_type": "display_data"
        },
        {
          "data": {
            "text/html": [
              "<pre style=\"white-space:pre;overflow-x:auto;line-height:normal;font-family:Menlo,'DejaVu Sans Mono',consolas,'Courier New',monospace\">Eval num_timesteps=165000, episode_reward=-47.92 +/- 85.67\n",
              "</pre>\n"
            ],
            "text/plain": [
              "Eval num_timesteps=165000, episode_reward=-47.92 +/- 85.67\n"
            ]
          },
          "metadata": {},
          "output_type": "display_data"
        },
        {
          "data": {
            "text/html": [
              "<pre style=\"white-space:pre;overflow-x:auto;line-height:normal;font-family:Menlo,'DejaVu Sans Mono',consolas,'Courier New',monospace\">Episode length: 550.26 +/- 382.69\n",
              "</pre>\n"
            ],
            "text/plain": [
              "Episode length: 550.26 +/- 382.69\n"
            ]
          },
          "metadata": {},
          "output_type": "display_data"
        },
        {
          "data": {
            "text/html": [
              "<pre style=\"white-space:pre;overflow-x:auto;line-height:normal;font-family:Menlo,'DejaVu Sans Mono',consolas,'Courier New',monospace\">Eval num_timesteps=170000, episode_reward=-29.07 +/- 99.49\n",
              "</pre>\n"
            ],
            "text/plain": [
              "Eval num_timesteps=170000, episode_reward=-29.07 +/- 99.49\n"
            ]
          },
          "metadata": {},
          "output_type": "display_data"
        },
        {
          "data": {
            "text/html": [
              "<pre style=\"white-space:pre;overflow-x:auto;line-height:normal;font-family:Menlo,'DejaVu Sans Mono',consolas,'Courier New',monospace\">Episode length: 584.24 +/- 365.09\n",
              "</pre>\n"
            ],
            "text/plain": [
              "Episode length: 584.24 +/- 365.09\n"
            ]
          },
          "metadata": {},
          "output_type": "display_data"
        },
        {
          "data": {
            "text/html": [
              "<pre style=\"white-space:pre;overflow-x:auto;line-height:normal;font-family:Menlo,'DejaVu Sans Mono',consolas,'Courier New',monospace\">New best mean reward!\n",
              "</pre>\n"
            ],
            "text/plain": [
              "New best mean reward!\n"
            ]
          },
          "metadata": {},
          "output_type": "display_data"
        },
        {
          "data": {
            "text/html": [
              "<pre style=\"white-space:pre;overflow-x:auto;line-height:normal;font-family:Menlo,'DejaVu Sans Mono',consolas,'Courier New',monospace\">Eval num_timesteps=175000, episode_reward=-18.95 +/- 97.85\n",
              "</pre>\n"
            ],
            "text/plain": [
              "Eval num_timesteps=175000, episode_reward=-18.95 +/- 97.85\n"
            ]
          },
          "metadata": {},
          "output_type": "display_data"
        },
        {
          "data": {
            "text/html": [
              "<pre style=\"white-space:pre;overflow-x:auto;line-height:normal;font-family:Menlo,'DejaVu Sans Mono',consolas,'Courier New',monospace\">Episode length: 621.44 +/- 344.33\n",
              "</pre>\n"
            ],
            "text/plain": [
              "Episode length: 621.44 +/- 344.33\n"
            ]
          },
          "metadata": {},
          "output_type": "display_data"
        },
        {
          "data": {
            "text/html": [
              "<pre style=\"white-space:pre;overflow-x:auto;line-height:normal;font-family:Menlo,'DejaVu Sans Mono',consolas,'Courier New',monospace\">New best mean reward!\n",
              "</pre>\n"
            ],
            "text/plain": [
              "New best mean reward!\n"
            ]
          },
          "metadata": {},
          "output_type": "display_data"
        },
        {
          "data": {
            "text/html": [
              "<pre style=\"white-space:pre;overflow-x:auto;line-height:normal;font-family:Menlo,'DejaVu Sans Mono',consolas,'Courier New',monospace\">Eval num_timesteps=180000, episode_reward=-28.82 +/- 89.06\n",
              "</pre>\n"
            ],
            "text/plain": [
              "Eval num_timesteps=180000, episode_reward=-28.82 +/- 89.06\n"
            ]
          },
          "metadata": {},
          "output_type": "display_data"
        },
        {
          "data": {
            "text/html": [
              "<pre style=\"white-space:pre;overflow-x:auto;line-height:normal;font-family:Menlo,'DejaVu Sans Mono',consolas,'Courier New',monospace\">Episode length: 600.10 +/- 339.84\n",
              "</pre>\n"
            ],
            "text/plain": [
              "Episode length: 600.10 +/- 339.84\n"
            ]
          },
          "metadata": {},
          "output_type": "display_data"
        },
        {
          "data": {
            "text/html": [
              "<pre style=\"white-space:pre;overflow-x:auto;line-height:normal;font-family:Menlo,'DejaVu Sans Mono',consolas,'Courier New',monospace\">Eval num_timesteps=185000, episode_reward=-49.49 +/- 88.24\n",
              "</pre>\n"
            ],
            "text/plain": [
              "Eval num_timesteps=185000, episode_reward=-49.49 +/- 88.24\n"
            ]
          },
          "metadata": {},
          "output_type": "display_data"
        },
        {
          "data": {
            "text/html": [
              "<pre style=\"white-space:pre;overflow-x:auto;line-height:normal;font-family:Menlo,'DejaVu Sans Mono',consolas,'Courier New',monospace\">Episode length: 599.68 +/- 355.35\n",
              "</pre>\n"
            ],
            "text/plain": [
              "Episode length: 599.68 +/- 355.35\n"
            ]
          },
          "metadata": {},
          "output_type": "display_data"
        },
        {
          "data": {
            "text/html": [
              "<pre style=\"white-space:pre;overflow-x:auto;line-height:normal;font-family:Menlo,'DejaVu Sans Mono',consolas,'Courier New',monospace\">Eval num_timesteps=190000, episode_reward=-70.18 +/- 69.69\n",
              "</pre>\n"
            ],
            "text/plain": [
              "Eval num_timesteps=190000, episode_reward=-70.18 +/- 69.69\n"
            ]
          },
          "metadata": {},
          "output_type": "display_data"
        },
        {
          "data": {
            "text/html": [
              "<pre style=\"white-space:pre;overflow-x:auto;line-height:normal;font-family:Menlo,'DejaVu Sans Mono',consolas,'Courier New',monospace\">Episode length: 400.62 +/- 308.12\n",
              "</pre>\n"
            ],
            "text/plain": [
              "Episode length: 400.62 +/- 308.12\n"
            ]
          },
          "metadata": {},
          "output_type": "display_data"
        },
        {
          "data": {
            "text/html": [
              "<pre style=\"white-space:pre;overflow-x:auto;line-height:normal;font-family:Menlo,'DejaVu Sans Mono',consolas,'Courier New',monospace\">Eval num_timesteps=195000, episode_reward=-72.36 +/- 71.17\n",
              "</pre>\n"
            ],
            "text/plain": [
              "Eval num_timesteps=195000, episode_reward=-72.36 +/- 71.17\n"
            ]
          },
          "metadata": {},
          "output_type": "display_data"
        },
        {
          "data": {
            "text/html": [
              "<pre style=\"white-space:pre;overflow-x:auto;line-height:normal;font-family:Menlo,'DejaVu Sans Mono',consolas,'Courier New',monospace\">Episode length: 488.40 +/- 349.82\n",
              "</pre>\n"
            ],
            "text/plain": [
              "Episode length: 488.40 +/- 349.82\n"
            ]
          },
          "metadata": {},
          "output_type": "display_data"
        },
        {
          "data": {
            "text/html": [
              "<pre style=\"white-space:pre;overflow-x:auto;line-height:normal;font-family:Menlo,'DejaVu Sans Mono',consolas,'Courier New',monospace\">Eval num_timesteps=200000, episode_reward=-56.40 +/- 79.42\n",
              "</pre>\n"
            ],
            "text/plain": [
              "Eval num_timesteps=200000, episode_reward=-56.40 +/- 79.42\n"
            ]
          },
          "metadata": {},
          "output_type": "display_data"
        },
        {
          "data": {
            "text/html": [
              "<pre style=\"white-space:pre;overflow-x:auto;line-height:normal;font-family:Menlo,'DejaVu Sans Mono',consolas,'Courier New',monospace\">Episode length: 455.94 +/- 342.90\n",
              "</pre>\n"
            ],
            "text/plain": [
              "Episode length: 455.94 +/- 342.90\n"
            ]
          },
          "metadata": {},
          "output_type": "display_data"
        },
        {
          "data": {
            "text/html": [
              "<pre style=\"white-space:pre;overflow-x:auto;line-height:normal;font-family:Menlo,'DejaVu Sans Mono',consolas,'Courier New',monospace\">Eval num_timesteps=205000, episode_reward=-69.51 +/- 75.44\n",
              "</pre>\n"
            ],
            "text/plain": [
              "Eval num_timesteps=205000, episode_reward=-69.51 +/- 75.44\n"
            ]
          },
          "metadata": {},
          "output_type": "display_data"
        },
        {
          "data": {
            "text/html": [
              "<pre style=\"white-space:pre;overflow-x:auto;line-height:normal;font-family:Menlo,'DejaVu Sans Mono',consolas,'Courier New',monospace\">Episode length: 493.84 +/- 332.80\n",
              "</pre>\n"
            ],
            "text/plain": [
              "Episode length: 493.84 +/- 332.80\n"
            ]
          },
          "metadata": {},
          "output_type": "display_data"
        },
        {
          "data": {
            "text/html": [
              "<pre style=\"white-space:pre;overflow-x:auto;line-height:normal;font-family:Menlo,'DejaVu Sans Mono',consolas,'Courier New',monospace\">Eval num_timesteps=210000, episode_reward=-75.33 +/- 60.22\n",
              "</pre>\n"
            ],
            "text/plain": [
              "Eval num_timesteps=210000, episode_reward=-75.33 +/- 60.22\n"
            ]
          },
          "metadata": {},
          "output_type": "display_data"
        },
        {
          "data": {
            "text/html": [
              "<pre style=\"white-space:pre;overflow-x:auto;line-height:normal;font-family:Menlo,'DejaVu Sans Mono',consolas,'Courier New',monospace\">Episode length: 378.68 +/- 285.54\n",
              "</pre>\n"
            ],
            "text/plain": [
              "Episode length: 378.68 +/- 285.54\n"
            ]
          },
          "metadata": {},
          "output_type": "display_data"
        },
        {
          "data": {
            "text/html": [
              "<pre style=\"white-space:pre;overflow-x:auto;line-height:normal;font-family:Menlo,'DejaVu Sans Mono',consolas,'Courier New',monospace\">Eval num_timesteps=215000, episode_reward=-62.83 +/- 94.57\n",
              "</pre>\n"
            ],
            "text/plain": [
              "Eval num_timesteps=215000, episode_reward=-62.83 +/- 94.57\n"
            ]
          },
          "metadata": {},
          "output_type": "display_data"
        },
        {
          "data": {
            "text/html": [
              "<pre style=\"white-space:pre;overflow-x:auto;line-height:normal;font-family:Menlo,'DejaVu Sans Mono',consolas,'Courier New',monospace\">Episode length: 428.86 +/- 284.33\n",
              "</pre>\n"
            ],
            "text/plain": [
              "Episode length: 428.86 +/- 284.33\n"
            ]
          },
          "metadata": {},
          "output_type": "display_data"
        },
        {
          "data": {
            "text/html": [
              "<pre style=\"white-space:pre;overflow-x:auto;line-height:normal;font-family:Menlo,'DejaVu Sans Mono',consolas,'Courier New',monospace\">Eval num_timesteps=220000, episode_reward=-86.05 +/- 38.91\n",
              "</pre>\n"
            ],
            "text/plain": [
              "Eval num_timesteps=220000, episode_reward=-86.05 +/- 38.91\n"
            ]
          },
          "metadata": {},
          "output_type": "display_data"
        },
        {
          "data": {
            "text/html": [
              "<pre style=\"white-space:pre;overflow-x:auto;line-height:normal;font-family:Menlo,'DejaVu Sans Mono',consolas,'Courier New',monospace\">Episode length: 378.08 +/- 308.04\n",
              "</pre>\n"
            ],
            "text/plain": [
              "Episode length: 378.08 +/- 308.04\n"
            ]
          },
          "metadata": {},
          "output_type": "display_data"
        },
        {
          "data": {
            "text/html": [
              "<pre style=\"white-space:pre;overflow-x:auto;line-height:normal;font-family:Menlo,'DejaVu Sans Mono',consolas,'Courier New',monospace\">Eval num_timesteps=225000, episode_reward=-66.96 +/- 66.45\n",
              "</pre>\n"
            ],
            "text/plain": [
              "Eval num_timesteps=225000, episode_reward=-66.96 +/- 66.45\n"
            ]
          },
          "metadata": {},
          "output_type": "display_data"
        },
        {
          "data": {
            "text/html": [
              "<pre style=\"white-space:pre;overflow-x:auto;line-height:normal;font-family:Menlo,'DejaVu Sans Mono',consolas,'Courier New',monospace\">Episode length: 379.94 +/- 293.54\n",
              "</pre>\n"
            ],
            "text/plain": [
              "Episode length: 379.94 +/- 293.54\n"
            ]
          },
          "metadata": {},
          "output_type": "display_data"
        },
        {
          "data": {
            "text/html": [
              "<pre style=\"white-space:pre;overflow-x:auto;line-height:normal;font-family:Menlo,'DejaVu Sans Mono',consolas,'Courier New',monospace\">Eval num_timesteps=230000, episode_reward=-85.05 +/- 62.60\n",
              "</pre>\n"
            ],
            "text/plain": [
              "Eval num_timesteps=230000, episode_reward=-85.05 +/- 62.60\n"
            ]
          },
          "metadata": {},
          "output_type": "display_data"
        },
        {
          "data": {
            "text/html": [
              "<pre style=\"white-space:pre;overflow-x:auto;line-height:normal;font-family:Menlo,'DejaVu Sans Mono',consolas,'Courier New',monospace\">Episode length: 440.36 +/- 334.83\n",
              "</pre>\n"
            ],
            "text/plain": [
              "Episode length: 440.36 +/- 334.83\n"
            ]
          },
          "metadata": {},
          "output_type": "display_data"
        },
        {
          "data": {
            "text/html": [
              "<pre style=\"white-space:pre;overflow-x:auto;line-height:normal;font-family:Menlo,'DejaVu Sans Mono',consolas,'Courier New',monospace\">Eval num_timesteps=235000, episode_reward=-64.02 +/- 65.61\n",
              "</pre>\n"
            ],
            "text/plain": [
              "Eval num_timesteps=235000, episode_reward=-64.02 +/- 65.61\n"
            ]
          },
          "metadata": {},
          "output_type": "display_data"
        },
        {
          "data": {
            "text/html": [
              "<pre style=\"white-space:pre;overflow-x:auto;line-height:normal;font-family:Menlo,'DejaVu Sans Mono',consolas,'Courier New',monospace\">Episode length: 428.80 +/- 328.90\n",
              "</pre>\n"
            ],
            "text/plain": [
              "Episode length: 428.80 +/- 328.90\n"
            ]
          },
          "metadata": {},
          "output_type": "display_data"
        },
        {
          "data": {
            "text/html": [
              "<pre style=\"white-space:pre;overflow-x:auto;line-height:normal;font-family:Menlo,'DejaVu Sans Mono',consolas,'Courier New',monospace\">Eval num_timesteps=240000, episode_reward=-65.17 +/- 80.61\n",
              "</pre>\n"
            ],
            "text/plain": [
              "Eval num_timesteps=240000, episode_reward=-65.17 +/- 80.61\n"
            ]
          },
          "metadata": {},
          "output_type": "display_data"
        },
        {
          "data": {
            "text/html": [
              "<pre style=\"white-space:pre;overflow-x:auto;line-height:normal;font-family:Menlo,'DejaVu Sans Mono',consolas,'Courier New',monospace\">Episode length: 520.44 +/- 321.62\n",
              "</pre>\n"
            ],
            "text/plain": [
              "Episode length: 520.44 +/- 321.62\n"
            ]
          },
          "metadata": {},
          "output_type": "display_data"
        },
        {
          "data": {
            "text/html": [
              "<pre style=\"white-space:pre;overflow-x:auto;line-height:normal;font-family:Menlo,'DejaVu Sans Mono',consolas,'Courier New',monospace\">Eval num_timesteps=245000, episode_reward=-59.07 +/- 75.06\n",
              "</pre>\n"
            ],
            "text/plain": [
              "Eval num_timesteps=245000, episode_reward=-59.07 +/- 75.06\n"
            ]
          },
          "metadata": {},
          "output_type": "display_data"
        },
        {
          "data": {
            "text/html": [
              "<pre style=\"white-space:pre;overflow-x:auto;line-height:normal;font-family:Menlo,'DejaVu Sans Mono',consolas,'Courier New',monospace\">Episode length: 505.66 +/- 355.18\n",
              "</pre>\n"
            ],
            "text/plain": [
              "Episode length: 505.66 +/- 355.18\n"
            ]
          },
          "metadata": {},
          "output_type": "display_data"
        },
        {
          "data": {
            "text/html": [
              "<pre style=\"white-space:pre;overflow-x:auto;line-height:normal;font-family:Menlo,'DejaVu Sans Mono',consolas,'Courier New',monospace\">Eval num_timesteps=250000, episode_reward=-64.97 +/- 67.24\n",
              "</pre>\n"
            ],
            "text/plain": [
              "Eval num_timesteps=250000, episode_reward=-64.97 +/- 67.24\n"
            ]
          },
          "metadata": {},
          "output_type": "display_data"
        },
        {
          "data": {
            "text/html": [
              "<pre style=\"white-space:pre;overflow-x:auto;line-height:normal;font-family:Menlo,'DejaVu Sans Mono',consolas,'Courier New',monospace\">Episode length: 459.98 +/- 328.87\n",
              "</pre>\n"
            ],
            "text/plain": [
              "Episode length: 459.98 +/- 328.87\n"
            ]
          },
          "metadata": {},
          "output_type": "display_data"
        },
        {
          "data": {
            "text/html": [
              "<pre style=\"white-space:pre;overflow-x:auto;line-height:normal;font-family:Menlo,'DejaVu Sans Mono',consolas,'Courier New',monospace\">Eval num_timesteps=255000, episode_reward=-70.84 +/- 69.21\n",
              "</pre>\n"
            ],
            "text/plain": [
              "Eval num_timesteps=255000, episode_reward=-70.84 +/- 69.21\n"
            ]
          },
          "metadata": {},
          "output_type": "display_data"
        },
        {
          "data": {
            "text/html": [
              "<pre style=\"white-space:pre;overflow-x:auto;line-height:normal;font-family:Menlo,'DejaVu Sans Mono',consolas,'Courier New',monospace\">Episode length: 371.56 +/- 258.40\n",
              "</pre>\n"
            ],
            "text/plain": [
              "Episode length: 371.56 +/- 258.40\n"
            ]
          },
          "metadata": {},
          "output_type": "display_data"
        },
        {
          "data": {
            "text/html": [
              "<pre style=\"white-space:pre;overflow-x:auto;line-height:normal;font-family:Menlo,'DejaVu Sans Mono',consolas,'Courier New',monospace\">Eval num_timesteps=260000, episode_reward=-46.04 +/- 102.64\n",
              "</pre>\n"
            ],
            "text/plain": [
              "Eval num_timesteps=260000, episode_reward=-46.04 +/- 102.64\n"
            ]
          },
          "metadata": {},
          "output_type": "display_data"
        },
        {
          "data": {
            "text/html": [
              "<pre style=\"white-space:pre;overflow-x:auto;line-height:normal;font-family:Menlo,'DejaVu Sans Mono',consolas,'Courier New',monospace\">Episode length: 468.80 +/- 318.78\n",
              "</pre>\n"
            ],
            "text/plain": [
              "Episode length: 468.80 +/- 318.78\n"
            ]
          },
          "metadata": {},
          "output_type": "display_data"
        },
        {
          "data": {
            "text/html": [
              "<pre style=\"white-space:pre;overflow-x:auto;line-height:normal;font-family:Menlo,'DejaVu Sans Mono',consolas,'Courier New',monospace\">Eval num_timesteps=265000, episode_reward=-14.98 +/- 90.43\n",
              "</pre>\n"
            ],
            "text/plain": [
              "Eval num_timesteps=265000, episode_reward=-14.98 +/- 90.43\n"
            ]
          },
          "metadata": {},
          "output_type": "display_data"
        },
        {
          "data": {
            "text/html": [
              "<pre style=\"white-space:pre;overflow-x:auto;line-height:normal;font-family:Menlo,'DejaVu Sans Mono',consolas,'Courier New',monospace\">Episode length: 578.02 +/- 331.08\n",
              "</pre>\n"
            ],
            "text/plain": [
              "Episode length: 578.02 +/- 331.08\n"
            ]
          },
          "metadata": {},
          "output_type": "display_data"
        },
        {
          "data": {
            "text/html": [
              "<pre style=\"white-space:pre;overflow-x:auto;line-height:normal;font-family:Menlo,'DejaVu Sans Mono',consolas,'Courier New',monospace\">New best mean reward!\n",
              "</pre>\n"
            ],
            "text/plain": [
              "New best mean reward!\n"
            ]
          },
          "metadata": {},
          "output_type": "display_data"
        },
        {
          "data": {
            "text/html": [
              "<pre style=\"white-space:pre;overflow-x:auto;line-height:normal;font-family:Menlo,'DejaVu Sans Mono',consolas,'Courier New',monospace\">Eval num_timesteps=270000, episode_reward=-55.50 +/- 84.37\n",
              "</pre>\n"
            ],
            "text/plain": [
              "Eval num_timesteps=270000, episode_reward=-55.50 +/- 84.37\n"
            ]
          },
          "metadata": {},
          "output_type": "display_data"
        },
        {
          "data": {
            "text/html": [
              "<pre style=\"white-space:pre;overflow-x:auto;line-height:normal;font-family:Menlo,'DejaVu Sans Mono',consolas,'Courier New',monospace\">Episode length: 420.42 +/- 312.69\n",
              "</pre>\n"
            ],
            "text/plain": [
              "Episode length: 420.42 +/- 312.69\n"
            ]
          },
          "metadata": {},
          "output_type": "display_data"
        },
        {
          "data": {
            "text/html": [
              "<pre style=\"white-space:pre;overflow-x:auto;line-height:normal;font-family:Menlo,'DejaVu Sans Mono',consolas,'Courier New',monospace\">Eval num_timesteps=275000, episode_reward=-30.39 +/- 114.09\n",
              "</pre>\n"
            ],
            "text/plain": [
              "Eval num_timesteps=275000, episode_reward=-30.39 +/- 114.09\n"
            ]
          },
          "metadata": {},
          "output_type": "display_data"
        },
        {
          "data": {
            "text/html": [
              "<pre style=\"white-space:pre;overflow-x:auto;line-height:normal;font-family:Menlo,'DejaVu Sans Mono',consolas,'Courier New',monospace\">Episode length: 412.26 +/- 277.43\n",
              "</pre>\n"
            ],
            "text/plain": [
              "Episode length: 412.26 +/- 277.43\n"
            ]
          },
          "metadata": {},
          "output_type": "display_data"
        },
        {
          "data": {
            "text/html": [
              "<pre style=\"white-space:pre;overflow-x:auto;line-height:normal;font-family:Menlo,'DejaVu Sans Mono',consolas,'Courier New',monospace\">Eval num_timesteps=280000, episode_reward=-10.39 +/- 98.22\n",
              "</pre>\n"
            ],
            "text/plain": [
              "Eval num_timesteps=280000, episode_reward=-10.39 +/- 98.22\n"
            ]
          },
          "metadata": {},
          "output_type": "display_data"
        },
        {
          "data": {
            "text/html": [
              "<pre style=\"white-space:pre;overflow-x:auto;line-height:normal;font-family:Menlo,'DejaVu Sans Mono',consolas,'Courier New',monospace\">Episode length: 570.98 +/- 337.54\n",
              "</pre>\n"
            ],
            "text/plain": [
              "Episode length: 570.98 +/- 337.54\n"
            ]
          },
          "metadata": {},
          "output_type": "display_data"
        },
        {
          "data": {
            "text/html": [
              "<pre style=\"white-space:pre;overflow-x:auto;line-height:normal;font-family:Menlo,'DejaVu Sans Mono',consolas,'Courier New',monospace\">New best mean reward!\n",
              "</pre>\n"
            ],
            "text/plain": [
              "New best mean reward!\n"
            ]
          },
          "metadata": {},
          "output_type": "display_data"
        },
        {
          "data": {
            "text/html": [
              "<pre style=\"white-space:pre;overflow-x:auto;line-height:normal;font-family:Menlo,'DejaVu Sans Mono',consolas,'Courier New',monospace\">Eval num_timesteps=285000, episode_reward=-34.27 +/- 98.82\n",
              "</pre>\n"
            ],
            "text/plain": [
              "Eval num_timesteps=285000, episode_reward=-34.27 +/- 98.82\n"
            ]
          },
          "metadata": {},
          "output_type": "display_data"
        },
        {
          "data": {
            "text/html": [
              "<pre style=\"white-space:pre;overflow-x:auto;line-height:normal;font-family:Menlo,'DejaVu Sans Mono',consolas,'Courier New',monospace\">Episode length: 505.64 +/- 322.35\n",
              "</pre>\n"
            ],
            "text/plain": [
              "Episode length: 505.64 +/- 322.35\n"
            ]
          },
          "metadata": {},
          "output_type": "display_data"
        },
        {
          "data": {
            "text/html": [
              "<pre style=\"white-space:pre;overflow-x:auto;line-height:normal;font-family:Menlo,'DejaVu Sans Mono',consolas,'Courier New',monospace\">Eval num_timesteps=290000, episode_reward=-31.50 +/- 98.57\n",
              "</pre>\n"
            ],
            "text/plain": [
              "Eval num_timesteps=290000, episode_reward=-31.50 +/- 98.57\n"
            ]
          },
          "metadata": {},
          "output_type": "display_data"
        },
        {
          "data": {
            "text/html": [
              "<pre style=\"white-space:pre;overflow-x:auto;line-height:normal;font-family:Menlo,'DejaVu Sans Mono',consolas,'Courier New',monospace\">Episode length: 477.24 +/- 310.24\n",
              "</pre>\n"
            ],
            "text/plain": [
              "Episode length: 477.24 +/- 310.24\n"
            ]
          },
          "metadata": {},
          "output_type": "display_data"
        },
        {
          "data": {
            "text/html": [
              "<pre style=\"white-space:pre;overflow-x:auto;line-height:normal;font-family:Menlo,'DejaVu Sans Mono',consolas,'Courier New',monospace\">Eval num_timesteps=295000, episode_reward=-17.16 +/- 90.79\n",
              "</pre>\n"
            ],
            "text/plain": [
              "Eval num_timesteps=295000, episode_reward=-17.16 +/- 90.79\n"
            ]
          },
          "metadata": {},
          "output_type": "display_data"
        },
        {
          "data": {
            "text/html": [
              "<pre style=\"white-space:pre;overflow-x:auto;line-height:normal;font-family:Menlo,'DejaVu Sans Mono',consolas,'Courier New',monospace\">Episode length: 592.06 +/- 350.64\n",
              "</pre>\n"
            ],
            "text/plain": [
              "Episode length: 592.06 +/- 350.64\n"
            ]
          },
          "metadata": {},
          "output_type": "display_data"
        },
        {
          "data": {
            "text/html": [
              "<pre style=\"white-space:pre;overflow-x:auto;line-height:normal;font-family:Menlo,'DejaVu Sans Mono',consolas,'Courier New',monospace\">Eval num_timesteps=300000, episode_reward=-21.84 +/- 95.15\n",
              "</pre>\n"
            ],
            "text/plain": [
              "Eval num_timesteps=300000, episode_reward=-21.84 +/- 95.15\n"
            ]
          },
          "metadata": {},
          "output_type": "display_data"
        },
        {
          "data": {
            "text/html": [
              "<pre style=\"white-space:pre;overflow-x:auto;line-height:normal;font-family:Menlo,'DejaVu Sans Mono',consolas,'Courier New',monospace\">Episode length: 580.94 +/- 332.84\n",
              "</pre>\n"
            ],
            "text/plain": [
              "Episode length: 580.94 +/- 332.84\n"
            ]
          },
          "metadata": {},
          "output_type": "display_data"
        },
        {
          "data": {
            "text/html": [
              "<pre style=\"white-space:pre;overflow-x:auto;line-height:normal;font-family:Menlo,'DejaVu Sans Mono',consolas,'Courier New',monospace\">Eval num_timesteps=305000, episode_reward=-39.92 +/- 93.81\n",
              "</pre>\n"
            ],
            "text/plain": [
              "Eval num_timesteps=305000, episode_reward=-39.92 +/- 93.81\n"
            ]
          },
          "metadata": {},
          "output_type": "display_data"
        },
        {
          "data": {
            "text/html": [
              "<pre style=\"white-space:pre;overflow-x:auto;line-height:normal;font-family:Menlo,'DejaVu Sans Mono',consolas,'Courier New',monospace\">Episode length: 512.36 +/- 318.22\n",
              "</pre>\n"
            ],
            "text/plain": [
              "Episode length: 512.36 +/- 318.22\n"
            ]
          },
          "metadata": {},
          "output_type": "display_data"
        },
        {
          "data": {
            "text/html": [
              "<pre style=\"white-space:pre;overflow-x:auto;line-height:normal;font-family:Menlo,'DejaVu Sans Mono',consolas,'Courier New',monospace\">Eval num_timesteps=310000, episode_reward=-37.20 +/- 88.64\n",
              "</pre>\n"
            ],
            "text/plain": [
              "Eval num_timesteps=310000, episode_reward=-37.20 +/- 88.64\n"
            ]
          },
          "metadata": {},
          "output_type": "display_data"
        },
        {
          "data": {
            "text/html": [
              "<pre style=\"white-space:pre;overflow-x:auto;line-height:normal;font-family:Menlo,'DejaVu Sans Mono',consolas,'Courier New',monospace\">Episode length: 575.54 +/- 351.01\n",
              "</pre>\n"
            ],
            "text/plain": [
              "Episode length: 575.54 +/- 351.01\n"
            ]
          },
          "metadata": {},
          "output_type": "display_data"
        },
        {
          "data": {
            "text/html": [
              "<pre style=\"white-space:pre;overflow-x:auto;line-height:normal;font-family:Menlo,'DejaVu Sans Mono',consolas,'Courier New',monospace\">Eval num_timesteps=315000, episode_reward=-40.82 +/- 129.02\n",
              "</pre>\n"
            ],
            "text/plain": [
              "Eval num_timesteps=315000, episode_reward=-40.82 +/- 129.02\n"
            ]
          },
          "metadata": {},
          "output_type": "display_data"
        },
        {
          "data": {
            "text/html": [
              "<pre style=\"white-space:pre;overflow-x:auto;line-height:normal;font-family:Menlo,'DejaVu Sans Mono',consolas,'Courier New',monospace\">Episode length: 653.04 +/- 347.58\n",
              "</pre>\n"
            ],
            "text/plain": [
              "Episode length: 653.04 +/- 347.58\n"
            ]
          },
          "metadata": {},
          "output_type": "display_data"
        },
        {
          "data": {
            "text/html": [
              "<pre style=\"white-space:pre;overflow-x:auto;line-height:normal;font-family:Menlo,'DejaVu Sans Mono',consolas,'Courier New',monospace\">Eval num_timesteps=320000, episode_reward=-42.93 +/- 86.97\n",
              "</pre>\n"
            ],
            "text/plain": [
              "Eval num_timesteps=320000, episode_reward=-42.93 +/- 86.97\n"
            ]
          },
          "metadata": {},
          "output_type": "display_data"
        },
        {
          "data": {
            "text/html": [
              "<pre style=\"white-space:pre;overflow-x:auto;line-height:normal;font-family:Menlo,'DejaVu Sans Mono',consolas,'Courier New',monospace\">Episode length: 571.42 +/- 345.91\n",
              "</pre>\n"
            ],
            "text/plain": [
              "Episode length: 571.42 +/- 345.91\n"
            ]
          },
          "metadata": {},
          "output_type": "display_data"
        },
        {
          "data": {
            "text/html": [
              "<pre style=\"white-space:pre;overflow-x:auto;line-height:normal;font-family:Menlo,'DejaVu Sans Mono',consolas,'Courier New',monospace\">Eval num_timesteps=325000, episode_reward=-7.78 +/- 101.25\n",
              "</pre>\n"
            ],
            "text/plain": [
              "Eval num_timesteps=325000, episode_reward=-7.78 +/- 101.25\n"
            ]
          },
          "metadata": {},
          "output_type": "display_data"
        },
        {
          "data": {
            "text/html": [
              "<pre style=\"white-space:pre;overflow-x:auto;line-height:normal;font-family:Menlo,'DejaVu Sans Mono',consolas,'Courier New',monospace\">Episode length: 553.76 +/- 298.39\n",
              "</pre>\n"
            ],
            "text/plain": [
              "Episode length: 553.76 +/- 298.39\n"
            ]
          },
          "metadata": {},
          "output_type": "display_data"
        },
        {
          "data": {
            "text/html": [
              "<pre style=\"white-space:pre;overflow-x:auto;line-height:normal;font-family:Menlo,'DejaVu Sans Mono',consolas,'Courier New',monospace\">New best mean reward!\n",
              "</pre>\n"
            ],
            "text/plain": [
              "New best mean reward!\n"
            ]
          },
          "metadata": {},
          "output_type": "display_data"
        },
        {
          "data": {
            "text/html": [
              "<pre style=\"white-space:pre;overflow-x:auto;line-height:normal;font-family:Menlo,'DejaVu Sans Mono',consolas,'Courier New',monospace\">Eval num_timesteps=330000, episode_reward=-6.67 +/- 100.28\n",
              "</pre>\n"
            ],
            "text/plain": [
              "Eval num_timesteps=330000, episode_reward=-6.67 +/- 100.28\n"
            ]
          },
          "metadata": {},
          "output_type": "display_data"
        },
        {
          "data": {
            "text/html": [
              "<pre style=\"white-space:pre;overflow-x:auto;line-height:normal;font-family:Menlo,'DejaVu Sans Mono',consolas,'Courier New',monospace\">Episode length: 531.32 +/- 329.89\n",
              "</pre>\n"
            ],
            "text/plain": [
              "Episode length: 531.32 +/- 329.89\n"
            ]
          },
          "metadata": {},
          "output_type": "display_data"
        },
        {
          "data": {
            "text/html": [
              "<pre style=\"white-space:pre;overflow-x:auto;line-height:normal;font-family:Menlo,'DejaVu Sans Mono',consolas,'Courier New',monospace\">New best mean reward!\n",
              "</pre>\n"
            ],
            "text/plain": [
              "New best mean reward!\n"
            ]
          },
          "metadata": {},
          "output_type": "display_data"
        },
        {
          "data": {
            "text/html": [
              "<pre style=\"white-space:pre;overflow-x:auto;line-height:normal;font-family:Menlo,'DejaVu Sans Mono',consolas,'Courier New',monospace\">Eval num_timesteps=335000, episode_reward=-18.75 +/- 101.90\n",
              "</pre>\n"
            ],
            "text/plain": [
              "Eval num_timesteps=335000, episode_reward=-18.75 +/- 101.90\n"
            ]
          },
          "metadata": {},
          "output_type": "display_data"
        },
        {
          "data": {
            "text/html": [
              "<pre style=\"white-space:pre;overflow-x:auto;line-height:normal;font-family:Menlo,'DejaVu Sans Mono',consolas,'Courier New',monospace\">Episode length: 546.20 +/- 314.59\n",
              "</pre>\n"
            ],
            "text/plain": [
              "Episode length: 546.20 +/- 314.59\n"
            ]
          },
          "metadata": {},
          "output_type": "display_data"
        },
        {
          "data": {
            "text/html": [
              "<pre style=\"white-space:pre;overflow-x:auto;line-height:normal;font-family:Menlo,'DejaVu Sans Mono',consolas,'Courier New',monospace\">Eval num_timesteps=340000, episode_reward=-3.00 +/- 112.90\n",
              "</pre>\n"
            ],
            "text/plain": [
              "Eval num_timesteps=340000, episode_reward=-3.00 +/- 112.90\n"
            ]
          },
          "metadata": {},
          "output_type": "display_data"
        },
        {
          "data": {
            "text/html": [
              "<pre style=\"white-space:pre;overflow-x:auto;line-height:normal;font-family:Menlo,'DejaVu Sans Mono',consolas,'Courier New',monospace\">Episode length: 662.56 +/- 324.19\n",
              "</pre>\n"
            ],
            "text/plain": [
              "Episode length: 662.56 +/- 324.19\n"
            ]
          },
          "metadata": {},
          "output_type": "display_data"
        },
        {
          "data": {
            "text/html": [
              "<pre style=\"white-space:pre;overflow-x:auto;line-height:normal;font-family:Menlo,'DejaVu Sans Mono',consolas,'Courier New',monospace\">New best mean reward!\n",
              "</pre>\n"
            ],
            "text/plain": [
              "New best mean reward!\n"
            ]
          },
          "metadata": {},
          "output_type": "display_data"
        },
        {
          "data": {
            "text/html": [
              "<pre style=\"white-space:pre;overflow-x:auto;line-height:normal;font-family:Menlo,'DejaVu Sans Mono',consolas,'Courier New',monospace\">Eval num_timesteps=345000, episode_reward=-60.79 +/- 52.96\n",
              "</pre>\n"
            ],
            "text/plain": [
              "Eval num_timesteps=345000, episode_reward=-60.79 +/- 52.96\n"
            ]
          },
          "metadata": {},
          "output_type": "display_data"
        },
        {
          "data": {
            "text/html": [
              "<pre style=\"white-space:pre;overflow-x:auto;line-height:normal;font-family:Menlo,'DejaVu Sans Mono',consolas,'Courier New',monospace\">Episode length: 707.74 +/- 323.15\n",
              "</pre>\n"
            ],
            "text/plain": [
              "Episode length: 707.74 +/- 323.15\n"
            ]
          },
          "metadata": {},
          "output_type": "display_data"
        },
        {
          "data": {
            "text/html": [
              "<pre style=\"white-space:pre;overflow-x:auto;line-height:normal;font-family:Menlo,'DejaVu Sans Mono',consolas,'Courier New',monospace\">Eval num_timesteps=350000, episode_reward=20.20 +/- 107.78\n",
              "</pre>\n"
            ],
            "text/plain": [
              "Eval num_timesteps=350000, episode_reward=20.20 +/- 107.78\n"
            ]
          },
          "metadata": {},
          "output_type": "display_data"
        },
        {
          "data": {
            "text/html": [
              "<pre style=\"white-space:pre;overflow-x:auto;line-height:normal;font-family:Menlo,'DejaVu Sans Mono',consolas,'Courier New',monospace\">Episode length: 696.94 +/- 326.54\n",
              "</pre>\n"
            ],
            "text/plain": [
              "Episode length: 696.94 +/- 326.54\n"
            ]
          },
          "metadata": {},
          "output_type": "display_data"
        },
        {
          "data": {
            "text/html": [
              "<pre style=\"white-space:pre;overflow-x:auto;line-height:normal;font-family:Menlo,'DejaVu Sans Mono',consolas,'Courier New',monospace\">New best mean reward!\n",
              "</pre>\n"
            ],
            "text/plain": [
              "New best mean reward!\n"
            ]
          },
          "metadata": {},
          "output_type": "display_data"
        },
        {
          "data": {
            "text/html": [
              "<pre style=\"white-space:pre;overflow-x:auto;line-height:normal;font-family:Menlo,'DejaVu Sans Mono',consolas,'Courier New',monospace\">Eval num_timesteps=355000, episode_reward=-3.91 +/- 95.84\n",
              "</pre>\n"
            ],
            "text/plain": [
              "Eval num_timesteps=355000, episode_reward=-3.91 +/- 95.84\n"
            ]
          },
          "metadata": {},
          "output_type": "display_data"
        },
        {
          "data": {
            "text/html": [
              "<pre style=\"white-space:pre;overflow-x:auto;line-height:normal;font-family:Menlo,'DejaVu Sans Mono',consolas,'Courier New',monospace\">Episode length: 696.62 +/- 297.13\n",
              "</pre>\n"
            ],
            "text/plain": [
              "Episode length: 696.62 +/- 297.13\n"
            ]
          },
          "metadata": {},
          "output_type": "display_data"
        },
        {
          "data": {
            "text/html": [
              "<pre style=\"white-space:pre;overflow-x:auto;line-height:normal;font-family:Menlo,'DejaVu Sans Mono',consolas,'Courier New',monospace\">Eval num_timesteps=360000, episode_reward=16.22 +/- 95.66\n",
              "</pre>\n"
            ],
            "text/plain": [
              "Eval num_timesteps=360000, episode_reward=16.22 +/- 95.66\n"
            ]
          },
          "metadata": {},
          "output_type": "display_data"
        },
        {
          "data": {
            "text/html": [
              "<pre style=\"white-space:pre;overflow-x:auto;line-height:normal;font-family:Menlo,'DejaVu Sans Mono',consolas,'Courier New',monospace\">Episode length: 781.90 +/- 282.95\n",
              "</pre>\n"
            ],
            "text/plain": [
              "Episode length: 781.90 +/- 282.95\n"
            ]
          },
          "metadata": {},
          "output_type": "display_data"
        },
        {
          "data": {
            "text/html": [
              "<pre style=\"white-space:pre;overflow-x:auto;line-height:normal;font-family:Menlo,'DejaVu Sans Mono',consolas,'Courier New',monospace\">Eval num_timesteps=365000, episode_reward=-11.41 +/- 121.08\n",
              "</pre>\n"
            ],
            "text/plain": [
              "Eval num_timesteps=365000, episode_reward=-11.41 +/- 121.08\n"
            ]
          },
          "metadata": {},
          "output_type": "display_data"
        },
        {
          "data": {
            "text/html": [
              "<pre style=\"white-space:pre;overflow-x:auto;line-height:normal;font-family:Menlo,'DejaVu Sans Mono',consolas,'Courier New',monospace\">Episode length: 820.62 +/- 240.30\n",
              "</pre>\n"
            ],
            "text/plain": [
              "Episode length: 820.62 +/- 240.30\n"
            ]
          },
          "metadata": {},
          "output_type": "display_data"
        },
        {
          "data": {
            "text/html": [
              "<pre style=\"white-space:pre;overflow-x:auto;line-height:normal;font-family:Menlo,'DejaVu Sans Mono',consolas,'Courier New',monospace\">Eval num_timesteps=370000, episode_reward=-52.01 +/- 72.43\n",
              "</pre>\n"
            ],
            "text/plain": [
              "Eval num_timesteps=370000, episode_reward=-52.01 +/- 72.43\n"
            ]
          },
          "metadata": {},
          "output_type": "display_data"
        },
        {
          "data": {
            "text/html": [
              "<pre style=\"white-space:pre;overflow-x:auto;line-height:normal;font-family:Menlo,'DejaVu Sans Mono',consolas,'Courier New',monospace\">Episode length: 936.00 +/- 170.22\n",
              "</pre>\n"
            ],
            "text/plain": [
              "Episode length: 936.00 +/- 170.22\n"
            ]
          },
          "metadata": {},
          "output_type": "display_data"
        },
        {
          "data": {
            "text/html": [
              "<pre style=\"white-space:pre;overflow-x:auto;line-height:normal;font-family:Menlo,'DejaVu Sans Mono',consolas,'Courier New',monospace\">Eval num_timesteps=375000, episode_reward=-56.03 +/- 127.73\n",
              "</pre>\n"
            ],
            "text/plain": [
              "Eval num_timesteps=375000, episode_reward=-56.03 +/- 127.73\n"
            ]
          },
          "metadata": {},
          "output_type": "display_data"
        },
        {
          "data": {
            "text/html": [
              "<pre style=\"white-space:pre;overflow-x:auto;line-height:normal;font-family:Menlo,'DejaVu Sans Mono',consolas,'Courier New',monospace\">Episode length: 795.90 +/- 297.05\n",
              "</pre>\n"
            ],
            "text/plain": [
              "Episode length: 795.90 +/- 297.05\n"
            ]
          },
          "metadata": {},
          "output_type": "display_data"
        },
        {
          "data": {
            "text/html": [
              "<pre style=\"white-space:pre;overflow-x:auto;line-height:normal;font-family:Menlo,'DejaVu Sans Mono',consolas,'Courier New',monospace\">Eval num_timesteps=380000, episode_reward=-4.75 +/- 93.17\n",
              "</pre>\n"
            ],
            "text/plain": [
              "Eval num_timesteps=380000, episode_reward=-4.75 +/- 93.17\n"
            ]
          },
          "metadata": {},
          "output_type": "display_data"
        },
        {
          "data": {
            "text/html": [
              "<pre style=\"white-space:pre;overflow-x:auto;line-height:normal;font-family:Menlo,'DejaVu Sans Mono',consolas,'Courier New',monospace\">Episode length: 863.12 +/- 230.76\n",
              "</pre>\n"
            ],
            "text/plain": [
              "Episode length: 863.12 +/- 230.76\n"
            ]
          },
          "metadata": {},
          "output_type": "display_data"
        },
        {
          "data": {
            "text/html": [
              "<pre style=\"white-space:pre;overflow-x:auto;line-height:normal;font-family:Menlo,'DejaVu Sans Mono',consolas,'Courier New',monospace\">Eval num_timesteps=385000, episode_reward=0.34 +/- 100.78\n",
              "</pre>\n"
            ],
            "text/plain": [
              "Eval num_timesteps=385000, episode_reward=0.34 +/- 100.78\n"
            ]
          },
          "metadata": {},
          "output_type": "display_data"
        },
        {
          "data": {
            "text/html": [
              "<pre style=\"white-space:pre;overflow-x:auto;line-height:normal;font-family:Menlo,'DejaVu Sans Mono',consolas,'Courier New',monospace\">Episode length: 765.36 +/- 276.57\n",
              "</pre>\n"
            ],
            "text/plain": [
              "Episode length: 765.36 +/- 276.57\n"
            ]
          },
          "metadata": {},
          "output_type": "display_data"
        },
        {
          "data": {
            "text/html": [
              "<pre style=\"white-space:pre;overflow-x:auto;line-height:normal;font-family:Menlo,'DejaVu Sans Mono',consolas,'Courier New',monospace\">Eval num_timesteps=390000, episode_reward=-41.90 +/- 91.97\n",
              "</pre>\n"
            ],
            "text/plain": [
              "Eval num_timesteps=390000, episode_reward=-41.90 +/- 91.97\n"
            ]
          },
          "metadata": {},
          "output_type": "display_data"
        },
        {
          "data": {
            "text/html": [
              "<pre style=\"white-space:pre;overflow-x:auto;line-height:normal;font-family:Menlo,'DejaVu Sans Mono',consolas,'Courier New',monospace\">Episode length: 791.64 +/- 305.32\n",
              "</pre>\n"
            ],
            "text/plain": [
              "Episode length: 791.64 +/- 305.32\n"
            ]
          },
          "metadata": {},
          "output_type": "display_data"
        },
        {
          "data": {
            "text/html": [
              "<pre style=\"white-space:pre;overflow-x:auto;line-height:normal;font-family:Menlo,'DejaVu Sans Mono',consolas,'Courier New',monospace\">Eval num_timesteps=395000, episode_reward=-32.99 +/- 98.64\n",
              "</pre>\n"
            ],
            "text/plain": [
              "Eval num_timesteps=395000, episode_reward=-32.99 +/- 98.64\n"
            ]
          },
          "metadata": {},
          "output_type": "display_data"
        },
        {
          "data": {
            "text/html": [
              "<pre style=\"white-space:pre;overflow-x:auto;line-height:normal;font-family:Menlo,'DejaVu Sans Mono',consolas,'Courier New',monospace\">Episode length: 741.88 +/- 296.43\n",
              "</pre>\n"
            ],
            "text/plain": [
              "Episode length: 741.88 +/- 296.43\n"
            ]
          },
          "metadata": {},
          "output_type": "display_data"
        },
        {
          "data": {
            "text/html": [
              "<pre style=\"white-space:pre;overflow-x:auto;line-height:normal;font-family:Menlo,'DejaVu Sans Mono',consolas,'Courier New',monospace\">Eval num_timesteps=400000, episode_reward=12.00 +/- 93.46\n",
              "</pre>\n"
            ],
            "text/plain": [
              "Eval num_timesteps=400000, episode_reward=12.00 +/- 93.46\n"
            ]
          },
          "metadata": {},
          "output_type": "display_data"
        },
        {
          "data": {
            "text/html": [
              "<pre style=\"white-space:pre;overflow-x:auto;line-height:normal;font-family:Menlo,'DejaVu Sans Mono',consolas,'Courier New',monospace\">Episode length: 840.60 +/- 251.41\n",
              "</pre>\n"
            ],
            "text/plain": [
              "Episode length: 840.60 +/- 251.41\n"
            ]
          },
          "metadata": {},
          "output_type": "display_data"
        },
        {
          "data": {
            "text/html": [
              "<pre style=\"white-space:pre;overflow-x:auto;line-height:normal;font-family:Menlo,'DejaVu Sans Mono',consolas,'Courier New',monospace\">Eval num_timesteps=405000, episode_reward=-19.04 +/- 78.55\n",
              "</pre>\n"
            ],
            "text/plain": [
              "Eval num_timesteps=405000, episode_reward=-19.04 +/- 78.55\n"
            ]
          },
          "metadata": {},
          "output_type": "display_data"
        },
        {
          "data": {
            "text/html": [
              "<pre style=\"white-space:pre;overflow-x:auto;line-height:normal;font-family:Menlo,'DejaVu Sans Mono',consolas,'Courier New',monospace\">Episode length: 813.98 +/- 273.24\n",
              "</pre>\n"
            ],
            "text/plain": [
              "Episode length: 813.98 +/- 273.24\n"
            ]
          },
          "metadata": {},
          "output_type": "display_data"
        },
        {
          "data": {
            "text/html": [
              "<pre style=\"white-space:pre;overflow-x:auto;line-height:normal;font-family:Menlo,'DejaVu Sans Mono',consolas,'Courier New',monospace\">Eval num_timesteps=410000, episode_reward=-16.54 +/- 92.65\n",
              "</pre>\n"
            ],
            "text/plain": [
              "Eval num_timesteps=410000, episode_reward=-16.54 +/- 92.65\n"
            ]
          },
          "metadata": {},
          "output_type": "display_data"
        },
        {
          "data": {
            "text/html": [
              "<pre style=\"white-space:pre;overflow-x:auto;line-height:normal;font-family:Menlo,'DejaVu Sans Mono',consolas,'Courier New',monospace\">Episode length: 837.74 +/- 250.86\n",
              "</pre>\n"
            ],
            "text/plain": [
              "Episode length: 837.74 +/- 250.86\n"
            ]
          },
          "metadata": {},
          "output_type": "display_data"
        },
        {
          "data": {
            "text/html": [
              "<pre style=\"white-space:pre;overflow-x:auto;line-height:normal;font-family:Menlo,'DejaVu Sans Mono',consolas,'Courier New',monospace\">Eval num_timesteps=415000, episode_reward=27.14 +/- 97.99\n",
              "</pre>\n"
            ],
            "text/plain": [
              "Eval num_timesteps=415000, episode_reward=27.14 +/- 97.99\n"
            ]
          },
          "metadata": {},
          "output_type": "display_data"
        },
        {
          "data": {
            "text/html": [
              "<pre style=\"white-space:pre;overflow-x:auto;line-height:normal;font-family:Menlo,'DejaVu Sans Mono',consolas,'Courier New',monospace\">Episode length: 816.50 +/- 233.87\n",
              "</pre>\n"
            ],
            "text/plain": [
              "Episode length: 816.50 +/- 233.87\n"
            ]
          },
          "metadata": {},
          "output_type": "display_data"
        },
        {
          "data": {
            "text/html": [
              "<pre style=\"white-space:pre;overflow-x:auto;line-height:normal;font-family:Menlo,'DejaVu Sans Mono',consolas,'Courier New',monospace\">New best mean reward!\n",
              "</pre>\n"
            ],
            "text/plain": [
              "New best mean reward!\n"
            ]
          },
          "metadata": {},
          "output_type": "display_data"
        },
        {
          "data": {
            "text/html": [
              "<pre style=\"white-space:pre;overflow-x:auto;line-height:normal;font-family:Menlo,'DejaVu Sans Mono',consolas,'Courier New',monospace\">Eval num_timesteps=420000, episode_reward=-14.41 +/- 87.53\n",
              "</pre>\n"
            ],
            "text/plain": [
              "Eval num_timesteps=420000, episode_reward=-14.41 +/- 87.53\n"
            ]
          },
          "metadata": {},
          "output_type": "display_data"
        },
        {
          "data": {
            "text/html": [
              "<pre style=\"white-space:pre;overflow-x:auto;line-height:normal;font-family:Menlo,'DejaVu Sans Mono',consolas,'Courier New',monospace\">Episode length: 817.66 +/- 277.24\n",
              "</pre>\n"
            ],
            "text/plain": [
              "Episode length: 817.66 +/- 277.24\n"
            ]
          },
          "metadata": {},
          "output_type": "display_data"
        },
        {
          "data": {
            "text/html": [
              "<pre style=\"white-space:pre;overflow-x:auto;line-height:normal;font-family:Menlo,'DejaVu Sans Mono',consolas,'Courier New',monospace\">Eval num_timesteps=425000, episode_reward=-39.08 +/- 84.06\n",
              "</pre>\n"
            ],
            "text/plain": [
              "Eval num_timesteps=425000, episode_reward=-39.08 +/- 84.06\n"
            ]
          },
          "metadata": {},
          "output_type": "display_data"
        },
        {
          "data": {
            "text/html": [
              "<pre style=\"white-space:pre;overflow-x:auto;line-height:normal;font-family:Menlo,'DejaVu Sans Mono',consolas,'Courier New',monospace\">Episode length: 821.08 +/- 258.06\n",
              "</pre>\n"
            ],
            "text/plain": [
              "Episode length: 821.08 +/- 258.06\n"
            ]
          },
          "metadata": {},
          "output_type": "display_data"
        },
        {
          "data": {
            "text/html": [
              "<pre style=\"white-space:pre;overflow-x:auto;line-height:normal;font-family:Menlo,'DejaVu Sans Mono',consolas,'Courier New',monospace\">Eval num_timesteps=430000, episode_reward=-28.03 +/- 86.80\n",
              "</pre>\n"
            ],
            "text/plain": [
              "Eval num_timesteps=430000, episode_reward=-28.03 +/- 86.80\n"
            ]
          },
          "metadata": {},
          "output_type": "display_data"
        },
        {
          "data": {
            "text/html": [
              "<pre style=\"white-space:pre;overflow-x:auto;line-height:normal;font-family:Menlo,'DejaVu Sans Mono',consolas,'Courier New',monospace\">Episode length: 707.76 +/- 323.34\n",
              "</pre>\n"
            ],
            "text/plain": [
              "Episode length: 707.76 +/- 323.34\n"
            ]
          },
          "metadata": {},
          "output_type": "display_data"
        },
        {
          "data": {
            "text/html": [
              "<pre style=\"white-space:pre;overflow-x:auto;line-height:normal;font-family:Menlo,'DejaVu Sans Mono',consolas,'Courier New',monospace\">Eval num_timesteps=435000, episode_reward=-29.67 +/- 71.79\n",
              "</pre>\n"
            ],
            "text/plain": [
              "Eval num_timesteps=435000, episode_reward=-29.67 +/- 71.79\n"
            ]
          },
          "metadata": {},
          "output_type": "display_data"
        },
        {
          "data": {
            "text/html": [
              "<pre style=\"white-space:pre;overflow-x:auto;line-height:normal;font-family:Menlo,'DejaVu Sans Mono',consolas,'Courier New',monospace\">Episode length: 799.80 +/- 289.06\n",
              "</pre>\n"
            ],
            "text/plain": [
              "Episode length: 799.80 +/- 289.06\n"
            ]
          },
          "metadata": {},
          "output_type": "display_data"
        },
        {
          "data": {
            "text/html": [
              "<pre style=\"white-space:pre;overflow-x:auto;line-height:normal;font-family:Menlo,'DejaVu Sans Mono',consolas,'Courier New',monospace\">Eval num_timesteps=440000, episode_reward=-23.33 +/- 83.52\n",
              "</pre>\n"
            ],
            "text/plain": [
              "Eval num_timesteps=440000, episode_reward=-23.33 +/- 83.52\n"
            ]
          },
          "metadata": {},
          "output_type": "display_data"
        },
        {
          "data": {
            "text/html": [
              "<pre style=\"white-space:pre;overflow-x:auto;line-height:normal;font-family:Menlo,'DejaVu Sans Mono',consolas,'Courier New',monospace\">Episode length: 800.92 +/- 269.14\n",
              "</pre>\n"
            ],
            "text/plain": [
              "Episode length: 800.92 +/- 269.14\n"
            ]
          },
          "metadata": {},
          "output_type": "display_data"
        },
        {
          "data": {
            "text/html": [
              "<pre style=\"white-space:pre;overflow-x:auto;line-height:normal;font-family:Menlo,'DejaVu Sans Mono',consolas,'Courier New',monospace\">Eval num_timesteps=445000, episode_reward=-47.88 +/- 52.28\n",
              "</pre>\n"
            ],
            "text/plain": [
              "Eval num_timesteps=445000, episode_reward=-47.88 +/- 52.28\n"
            ]
          },
          "metadata": {},
          "output_type": "display_data"
        },
        {
          "data": {
            "text/html": [
              "<pre style=\"white-space:pre;overflow-x:auto;line-height:normal;font-family:Menlo,'DejaVu Sans Mono',consolas,'Courier New',monospace\">Episode length: 869.56 +/- 247.45\n",
              "</pre>\n"
            ],
            "text/plain": [
              "Episode length: 869.56 +/- 247.45\n"
            ]
          },
          "metadata": {},
          "output_type": "display_data"
        },
        {
          "data": {
            "text/html": [
              "<pre style=\"white-space:pre;overflow-x:auto;line-height:normal;font-family:Menlo,'DejaVu Sans Mono',consolas,'Courier New',monospace\">Eval num_timesteps=450000, episode_reward=-56.17 +/- 75.71\n",
              "</pre>\n"
            ],
            "text/plain": [
              "Eval num_timesteps=450000, episode_reward=-56.17 +/- 75.71\n"
            ]
          },
          "metadata": {},
          "output_type": "display_data"
        },
        {
          "data": {
            "text/html": [
              "<pre style=\"white-space:pre;overflow-x:auto;line-height:normal;font-family:Menlo,'DejaVu Sans Mono',consolas,'Courier New',monospace\">Episode length: 902.42 +/- 189.73\n",
              "</pre>\n"
            ],
            "text/plain": [
              "Episode length: 902.42 +/- 189.73\n"
            ]
          },
          "metadata": {},
          "output_type": "display_data"
        },
        {
          "data": {
            "text/html": [
              "<pre style=\"white-space:pre;overflow-x:auto;line-height:normal;font-family:Menlo,'DejaVu Sans Mono',consolas,'Courier New',monospace\">Eval num_timesteps=455000, episode_reward=-47.88 +/- 37.33\n",
              "</pre>\n"
            ],
            "text/plain": [
              "Eval num_timesteps=455000, episode_reward=-47.88 +/- 37.33\n"
            ]
          },
          "metadata": {},
          "output_type": "display_data"
        },
        {
          "data": {
            "text/html": [
              "<pre style=\"white-space:pre;overflow-x:auto;line-height:normal;font-family:Menlo,'DejaVu Sans Mono',consolas,'Courier New',monospace\">Episode length: 998.82 +/- 8.26\n",
              "</pre>\n"
            ],
            "text/plain": [
              "Episode length: 998.82 +/- 8.26\n"
            ]
          },
          "metadata": {},
          "output_type": "display_data"
        },
        {
          "data": {
            "text/html": [
              "<pre style=\"white-space:pre;overflow-x:auto;line-height:normal;font-family:Menlo,'DejaVu Sans Mono',consolas,'Courier New',monospace\">Eval num_timesteps=460000, episode_reward=-27.79 +/- 66.17\n",
              "</pre>\n"
            ],
            "text/plain": [
              "Eval num_timesteps=460000, episode_reward=-27.79 +/- 66.17\n"
            ]
          },
          "metadata": {},
          "output_type": "display_data"
        },
        {
          "data": {
            "text/html": [
              "<pre style=\"white-space:pre;overflow-x:auto;line-height:normal;font-family:Menlo,'DejaVu Sans Mono',consolas,'Courier New',monospace\">Episode length: 947.56 +/- 185.46\n",
              "</pre>\n"
            ],
            "text/plain": [
              "Episode length: 947.56 +/- 185.46\n"
            ]
          },
          "metadata": {},
          "output_type": "display_data"
        },
        {
          "data": {
            "text/html": [
              "<pre style=\"white-space:pre;overflow-x:auto;line-height:normal;font-family:Menlo,'DejaVu Sans Mono',consolas,'Courier New',monospace\">Eval num_timesteps=465000, episode_reward=-18.42 +/- 59.92\n",
              "</pre>\n"
            ],
            "text/plain": [
              "Eval num_timesteps=465000, episode_reward=-18.42 +/- 59.92\n"
            ]
          },
          "metadata": {},
          "output_type": "display_data"
        },
        {
          "data": {
            "text/html": [
              "<pre style=\"white-space:pre;overflow-x:auto;line-height:normal;font-family:Menlo,'DejaVu Sans Mono',consolas,'Courier New',monospace\">Episode length: 982.28 +/- 69.62\n",
              "</pre>\n"
            ],
            "text/plain": [
              "Episode length: 982.28 +/- 69.62\n"
            ]
          },
          "metadata": {},
          "output_type": "display_data"
        },
        {
          "data": {
            "text/html": [
              "<pre style=\"white-space:pre;overflow-x:auto;line-height:normal;font-family:Menlo,'DejaVu Sans Mono',consolas,'Courier New',monospace\">Eval num_timesteps=470000, episode_reward=1.17 +/- 88.22\n",
              "</pre>\n"
            ],
            "text/plain": [
              "Eval num_timesteps=470000, episode_reward=1.17 +/- 88.22\n"
            ]
          },
          "metadata": {},
          "output_type": "display_data"
        },
        {
          "data": {
            "text/html": [
              "<pre style=\"white-space:pre;overflow-x:auto;line-height:normal;font-family:Menlo,'DejaVu Sans Mono',consolas,'Courier New',monospace\">Episode length: 943.82 +/- 149.82\n",
              "</pre>\n"
            ],
            "text/plain": [
              "Episode length: 943.82 +/- 149.82\n"
            ]
          },
          "metadata": {},
          "output_type": "display_data"
        },
        {
          "data": {
            "text/html": [
              "<pre style=\"white-space:pre;overflow-x:auto;line-height:normal;font-family:Menlo,'DejaVu Sans Mono',consolas,'Courier New',monospace\">Eval num_timesteps=475000, episode_reward=-22.85 +/- 150.33\n",
              "</pre>\n"
            ],
            "text/plain": [
              "Eval num_timesteps=475000, episode_reward=-22.85 +/- 150.33\n"
            ]
          },
          "metadata": {},
          "output_type": "display_data"
        },
        {
          "data": {
            "text/html": [
              "<pre style=\"white-space:pre;overflow-x:auto;line-height:normal;font-family:Menlo,'DejaVu Sans Mono',consolas,'Courier New',monospace\">Episode length: 924.70 +/- 179.68\n",
              "</pre>\n"
            ],
            "text/plain": [
              "Episode length: 924.70 +/- 179.68\n"
            ]
          },
          "metadata": {},
          "output_type": "display_data"
        },
        {
          "data": {
            "text/html": [
              "<pre style=\"white-space:pre;overflow-x:auto;line-height:normal;font-family:Menlo,'DejaVu Sans Mono',consolas,'Courier New',monospace\">Eval num_timesteps=480000, episode_reward=27.22 +/- 104.80\n",
              "</pre>\n"
            ],
            "text/plain": [
              "Eval num_timesteps=480000, episode_reward=27.22 +/- 104.80\n"
            ]
          },
          "metadata": {},
          "output_type": "display_data"
        },
        {
          "data": {
            "text/html": [
              "<pre style=\"white-space:pre;overflow-x:auto;line-height:normal;font-family:Menlo,'DejaVu Sans Mono',consolas,'Courier New',monospace\">Episode length: 907.74 +/- 187.46\n",
              "</pre>\n"
            ],
            "text/plain": [
              "Episode length: 907.74 +/- 187.46\n"
            ]
          },
          "metadata": {},
          "output_type": "display_data"
        },
        {
          "data": {
            "text/html": [
              "<pre style=\"white-space:pre;overflow-x:auto;line-height:normal;font-family:Menlo,'DejaVu Sans Mono',consolas,'Courier New',monospace\">New best mean reward!\n",
              "</pre>\n"
            ],
            "text/plain": [
              "New best mean reward!\n"
            ]
          },
          "metadata": {},
          "output_type": "display_data"
        },
        {
          "data": {
            "text/html": [
              "<pre style=\"white-space:pre;overflow-x:auto;line-height:normal;font-family:Menlo,'DejaVu Sans Mono',consolas,'Courier New',monospace\">Eval num_timesteps=485000, episode_reward=14.64 +/- 100.18\n",
              "</pre>\n"
            ],
            "text/plain": [
              "Eval num_timesteps=485000, episode_reward=14.64 +/- 100.18\n"
            ]
          },
          "metadata": {},
          "output_type": "display_data"
        },
        {
          "data": {
            "text/html": [
              "<pre style=\"white-space:pre;overflow-x:auto;line-height:normal;font-family:Menlo,'DejaVu Sans Mono',consolas,'Courier New',monospace\">Episode length: 928.64 +/- 147.97\n",
              "</pre>\n"
            ],
            "text/plain": [
              "Episode length: 928.64 +/- 147.97\n"
            ]
          },
          "metadata": {},
          "output_type": "display_data"
        },
        {
          "data": {
            "text/html": [
              "<pre style=\"white-space:pre;overflow-x:auto;line-height:normal;font-family:Menlo,'DejaVu Sans Mono',consolas,'Courier New',monospace\">Eval num_timesteps=490000, episode_reward=25.67 +/- 100.95\n",
              "</pre>\n"
            ],
            "text/plain": [
              "Eval num_timesteps=490000, episode_reward=25.67 +/- 100.95\n"
            ]
          },
          "metadata": {},
          "output_type": "display_data"
        },
        {
          "data": {
            "text/html": [
              "<pre style=\"white-space:pre;overflow-x:auto;line-height:normal;font-family:Menlo,'DejaVu Sans Mono',consolas,'Courier New',monospace\">Episode length: 906.76 +/- 185.15\n",
              "</pre>\n"
            ],
            "text/plain": [
              "Episode length: 906.76 +/- 185.15\n"
            ]
          },
          "metadata": {},
          "output_type": "display_data"
        },
        {
          "data": {
            "text/html": [
              "<pre style=\"white-space:pre;overflow-x:auto;line-height:normal;font-family:Menlo,'DejaVu Sans Mono',consolas,'Courier New',monospace\">Eval num_timesteps=495000, episode_reward=28.55 +/- 101.67\n",
              "</pre>\n"
            ],
            "text/plain": [
              "Eval num_timesteps=495000, episode_reward=28.55 +/- 101.67\n"
            ]
          },
          "metadata": {},
          "output_type": "display_data"
        },
        {
          "data": {
            "text/html": [
              "<pre style=\"white-space:pre;overflow-x:auto;line-height:normal;font-family:Menlo,'DejaVu Sans Mono',consolas,'Courier New',monospace\">Episode length: 968.68 +/- 81.39\n",
              "</pre>\n"
            ],
            "text/plain": [
              "Episode length: 968.68 +/- 81.39\n"
            ]
          },
          "metadata": {},
          "output_type": "display_data"
        },
        {
          "data": {
            "text/html": [
              "<pre style=\"white-space:pre;overflow-x:auto;line-height:normal;font-family:Menlo,'DejaVu Sans Mono',consolas,'Courier New',monospace\">New best mean reward!\n",
              "</pre>\n"
            ],
            "text/plain": [
              "New best mean reward!\n"
            ]
          },
          "metadata": {},
          "output_type": "display_data"
        },
        {
          "data": {
            "text/html": [
              "<pre style=\"white-space:pre;overflow-x:auto;line-height:normal;font-family:Menlo,'DejaVu Sans Mono',consolas,'Courier New',monospace\">Eval num_timesteps=500000, episode_reward=79.93 +/- 117.67\n",
              "</pre>\n"
            ],
            "text/plain": [
              "Eval num_timesteps=500000, episode_reward=79.93 +/- 117.67\n"
            ]
          },
          "metadata": {},
          "output_type": "display_data"
        },
        {
          "data": {
            "text/html": [
              "<pre style=\"white-space:pre;overflow-x:auto;line-height:normal;font-family:Menlo,'DejaVu Sans Mono',consolas,'Courier New',monospace\">Episode length: 827.44 +/- 209.77\n",
              "</pre>\n"
            ],
            "text/plain": [
              "Episode length: 827.44 +/- 209.77\n"
            ]
          },
          "metadata": {},
          "output_type": "display_data"
        },
        {
          "data": {
            "text/html": [
              "<pre style=\"white-space:pre;overflow-x:auto;line-height:normal;font-family:Menlo,'DejaVu Sans Mono',consolas,'Courier New',monospace\">New best mean reward!\n",
              "</pre>\n"
            ],
            "text/plain": [
              "New best mean reward!\n"
            ]
          },
          "metadata": {},
          "output_type": "display_data"
        },
        {
          "data": {
            "text/html": [
              "<pre style=\"white-space:pre;overflow-x:auto;line-height:normal;font-family:Menlo,'DejaVu Sans Mono',consolas,'Courier New',monospace\"></pre>\n"
            ],
            "text/plain": []
          },
          "metadata": {},
          "output_type": "display_data"
        },
        {
          "data": {
            "text/plain": [
              "<stable_baselines3.dqn.dqn.DQN at 0x731f337746e0>"
            ]
          },
          "execution_count": 5,
          "metadata": {},
          "output_type": "execute_result"
        }
      ],
      "source": [
        "# Train model on the environment\n",
        "TRAINING_TIMESTEPS = 500_000\n",
        "model.learn(total_timesteps=TRAINING_TIMESTEPS, callback=[eval_callback, ProgressBarCallback()])"
      ]
    },
    {
      "cell_type": "code",
      "execution_count": 4,
      "metadata": {},
      "outputs": [],
      "source": [
        "model = DQN.load(\"../logs/exercise_2/dqn/best_model.zip\")"
      ]
    },
    {
      "cell_type": "code",
      "execution_count": 7,
      "metadata": {},
      "outputs": [
        {
          "name": "stderr",
          "output_type": "stream",
          "text": [
            "/home/javier/.cache/pypoetry/virtualenvs/deep-reinforcement-learning-gymnasium-u3px5S1O-py3.13/lib/python3.13/site-packages/stable_baselines3/common/evaluation.py:67: UserWarning: Evaluation environment is not wrapped with a ``Monitor`` wrapper. This may result in reporting modified episode lengths and rewards, if other wrappers happen to modify these. Consider wrapping environment first with ``Monitor`` wrapper.\n",
            "  warnings.warn(\n"
          ]
        },
        {
          "name": "stdout",
          "output_type": "stream",
          "text": [
            "Mean reward: 52.321416877684285 +/- 113.03638259129633\n"
          ]
        }
      ],
      "source": [
        "mean_reward, std_reward = evaluate_policy(model, env, n_eval_episodes=50)\n",
        "print(f\"Mean reward: {mean_reward} +/- {std_reward}\")"
      ]
    },
    {
      "cell_type": "code",
      "execution_count": 8,
      "metadata": {
        "colab": {
          "base_uri": "https://localhost:8080/",
          "height": 211
        },
        "id": "6bSCsyCOYbVW",
        "outputId": "ee81a478-36d3-4245-8d0d-058e6e0a4693"
      },
      "outputs": [
        {
          "name": "stdout",
          "output_type": "stream",
          "text": [
            "Episode finished after 1000 steps (truncated)\n",
            "Final Step: 1000\n",
            "Number of Frames: 1000\n"
          ]
        }
      ],
      "source": [
        "MAX_STEPS = 1_000\n",
        "\n",
        "observation, info = env.reset(seed=42)\n",
        "frames = []\n",
        "step_count = 0\n",
        "\n",
        "# for step in range(MAX_STEPS):\n",
        "while True:\n",
        "    frame = env.render()\n",
        "    frames.append(frame)\n",
        "\n",
        "    action, _ = model.predict(observation, deterministic=True)\n",
        "    observation, reward, terminated, truncated, info = env.step(action)\n",
        "    step_count += 1\n",
        "\n",
        "    if terminated or truncated:\n",
        "        print(f\"Episode finished after {step_count} steps ({\"truncated\" if truncated else \"terminated\"})\")\n",
        "        break\n",
        "\n",
        "env.close()\n",
        "\n",
        "print(f\"Final Step: {step_count}\")\n",
        "print(f\"Number of Frames: {len(frames)}\")"
      ]
    },
    {
      "cell_type": "code",
      "execution_count": 9,
      "metadata": {
        "id": "SAvZXQ3UKiF8"
      },
      "outputs": [
        {
          "name": "stdout",
          "output_type": "stream",
          "text": [
            "Video guardado como ../videos/lunarlander_dqn.mp4\n"
          ]
        },
        {
          "name": "stderr",
          "output_type": "stream",
          "text": [
            "rm: cannot remove '../videos/lunarlander_dqn_compressed.mp4': No such file or directory\n",
            "ffmpeg version n7.1 Copyright (c) 2000-2024 the FFmpeg developers\n",
            "  built with gcc 14.2.1 (GCC) 20250207\n",
            "  configuration: --prefix=/usr --disable-debug --disable-static --disable-stripping --enable-amf --enable-avisynth --enable-cuda-llvm --enable-lto --enable-fontconfig --enable-frei0r --enable-gmp --enable-gnutls --enable-gpl --enable-ladspa --enable-libaom --enable-libass --enable-libbluray --enable-libbs2b --enable-libdav1d --enable-libdrm --enable-libdvdnav --enable-libdvdread --enable-libfreetype --enable-libfribidi --enable-libglslang --enable-libgsm --enable-libharfbuzz --enable-libiec61883 --enable-libjack --enable-libjxl --enable-libmodplug --enable-libmp3lame --enable-libopencore_amrnb --enable-libopencore_amrwb --enable-libopenjpeg --enable-libopenmpt --enable-libopus --enable-libplacebo --enable-libpulse --enable-librav1e --enable-librsvg --enable-librubberband --enable-libsnappy --enable-libsoxr --enable-libspeex --enable-libsrt --enable-libssh --enable-libsvtav1 --enable-libtheora --enable-libv4l2 --enable-libvidstab --enable-libvmaf --enable-libvorbis --enable-libvpl --enable-libvpx --enable-libwebp --enable-libx264 --enable-libx265 --enable-libxcb --enable-libxml2 --enable-libxvid --enable-libzimg --enable-libzmq --enable-nvdec --enable-nvenc --enable-opencl --enable-opengl --enable-shared --enable-vapoursynth --enable-version3 --enable-vulkan\n",
            "  libavutil      59. 39.100 / 59. 39.100\n",
            "  libavcodec     61. 19.100 / 61. 19.100\n",
            "  libavformat    61.  7.100 / 61.  7.100\n",
            "  libavdevice    61.  3.100 / 61.  3.100\n",
            "  libavfilter    10.  4.100 / 10.  4.100\n",
            "  libswscale      8.  3.100 /  8.  3.100\n",
            "  libswresample   5.  3.100 /  5.  3.100\n",
            "  libpostproc    58.  3.100 / 58.  3.100\n",
            "Input #0, mov,mp4,m4a,3gp,3g2,mj2, from '../videos/lunarlander_dqn.mp4':\n",
            "  Metadata:\n",
            "    major_brand     : isom\n",
            "    minor_version   : 512\n",
            "    compatible_brands: isomiso2mp41\n",
            "    encoder         : Lavf59.27.100\n",
            "  Duration: 00:00:33.33, start: 0.000000, bitrate: 321 kb/s\n",
            "  Stream #0:0[0x1](und): Video: mpeg4 (Simple Profile) (mp4v / 0x7634706D), yuv420p, 600x400 [SAR 1:1 DAR 3:2], 320 kb/s, 30 fps, 30 tbr, 15360 tbn (default)\n",
            "      Metadata:\n",
            "        handler_name    : VideoHandler\n",
            "        vendor_id       : [0][0][0][0]\n",
            "Stream mapping:\n",
            "  Stream #0:0 -> #0:0 (mpeg4 (native) -> h264 (libx264))\n",
            "Press [q] to stop, [?] for help\n",
            "[libx264 @ 0x60cdfd465c00] using SAR=1/1\n",
            "[libx264 @ 0x60cdfd465c00] using cpu capabilities: MMX2 SSE2Fast SSSE3 SSE4.2 AVX FMA3 BMI2 AVX2\n",
            "[libx264 @ 0x60cdfd465c00] profile High, level 3.0, 4:2:0, 8-bit\n",
            "[libx264 @ 0x60cdfd465c00] 264 - core 164 r3108 31e19f9 - H.264/MPEG-4 AVC codec - Copyleft 2003-2023 - http://www.videolan.org/x264.html - options: cabac=1 ref=3 deblock=1:0:0 analyse=0x3:0x113 me=hex subme=7 psy=1 psy_rd=1.00:0.00 mixed_ref=1 me_range=16 chroma_me=1 trellis=1 8x8dct=1 cqm=0 deadzone=21,11 fast_pskip=1 chroma_qp_offset=-2 threads=12 lookahead_threads=2 sliced_threads=0 nr=0 decimate=1 interlaced=0 bluray_compat=0 constrained_intra=0 bframes=3 b_pyramid=2 b_adapt=1 b_bias=0 direct=1 weightb=1 open_gop=0 weightp=2 keyint=250 keyint_min=25 scenecut=40 intra_refresh=0 rc_lookahead=40 rc=crf mbtree=1 crf=23.0 qcomp=0.60 qpmin=0 qpmax=69 qpstep=4 ip_ratio=1.40 aq=1:1.00\n",
            "Output #0, mp4, to '../videos/lunarlander_dqn_compressed.mp4':\n",
            "  Metadata:\n",
            "    major_brand     : isom\n",
            "    minor_version   : 512\n",
            "    compatible_brands: isomiso2mp41\n",
            "    encoder         : Lavf61.7.100\n",
            "  Stream #0:0(und): Video: h264 (avc1 / 0x31637661), yuv420p(tv, progressive), 600x400 [SAR 1:1 DAR 3:2], q=2-31, 30 fps, 15360 tbn (default)\n",
            "      Metadata:\n",
            "        handler_name    : VideoHandler\n",
            "        vendor_id       : [0][0][0][0]\n",
            "        encoder         : Lavc61.19.100 libx264\n",
            "      Side data:\n",
            "        cpb: bitrate max/min/avg: 0/0/0 buffer size: 0 vbv_delay: N/A\n",
            "[out#0/mp4 @ 0x60cdfd479f40] video:199KiB audio:0KiB subtitle:0KiB other streams:0KiB global headers:0KiB muxing overhead: 6.290514%\n",
            "frame= 1000 fps=0.0 q=-1.0 Lsize=     211KiB time=00:00:33.26 bitrate=  52.0kbits/s speed= 102x    \n",
            "[libx264 @ 0x60cdfd465c00] frame I:4     Avg QP: 7.91  size:  2464\n",
            "[libx264 @ 0x60cdfd465c00] frame P:260   Avg QP:19.62  size:   311\n",
            "[libx264 @ 0x60cdfd465c00] frame B:736   Avg QP:23.58  size:   152\n",
            "[libx264 @ 0x60cdfd465c00] consecutive B-frames:  0.9%  1.8%  3.3% 94.0%\n",
            "[libx264 @ 0x60cdfd465c00] mb I  I16..4: 85.4%  8.6%  5.9%\n",
            "[libx264 @ 0x60cdfd465c00] mb P  I16..4:  0.3%  0.8%  0.2%  P16..4:  1.7%  0.4%  0.2%  0.0%  0.0%    skip:96.4%\n",
            "[libx264 @ 0x60cdfd465c00] mb B  I16..4:  0.1%  0.1%  0.1%  B16..8:  2.8%  0.2%  0.0%  direct: 0.1%  skip:96.5%  L0:54.8% L1:43.9% BI: 1.3%\n",
            "[libx264 @ 0x60cdfd465c00] 8x8 transform intra:34.5% inter:18.9%\n",
            "[libx264 @ 0x60cdfd465c00] coded y,uvDC,uvAC intra: 9.6% 24.8% 22.3% inter: 0.2% 0.5% 0.3%\n",
            "[libx264 @ 0x60cdfd465c00] i16 v,h,dc,p: 86%  9%  5%  0%\n",
            "[libx264 @ 0x60cdfd465c00] i8 v,h,dc,ddl,ddr,vr,hd,vl,hu: 10%  9% 81%  0%  0%  0%  0%  0%  0%\n",
            "[libx264 @ 0x60cdfd465c00] i4 v,h,dc,ddl,ddr,vr,hd,vl,hu: 13% 13% 64%  2%  2%  1%  2%  1%  1%\n",
            "[libx264 @ 0x60cdfd465c00] i8c dc,h,v,p: 81% 13%  6%  0%\n",
            "[libx264 @ 0x60cdfd465c00] Weighted P-Frames: Y:0.0% UV:0.0%\n",
            "[libx264 @ 0x60cdfd465c00] ref P L0: 60.1%  1.9% 22.4% 15.6%\n",
            "[libx264 @ 0x60cdfd465c00] ref B L0: 69.7% 25.5%  4.9%\n",
            "[libx264 @ 0x60cdfd465c00] ref B L1: 91.6%  8.4%\n",
            "[libx264 @ 0x60cdfd465c00] kb/s:48.67\n"
          ]
        },
        {
          "data": {
            "text/html": [
              "\n",
              "<video width=800 controls>\n",
              "      <source src=\"data:video/mp4;base64,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\" type=\"video/mp4\">\n",
              "</video>"
            ],
            "text/plain": [
              "<IPython.core.display.HTML object>"
            ]
          },
          "execution_count": 9,
          "metadata": {},
          "output_type": "execute_result"
        }
      ],
      "source": [
        "from IPython.display import HTML\n",
        "from base64 import b64encode\n",
        "import os\n",
        "\n",
        "# Create a video from the frames\n",
        "video_filename = \"../videos/lunarlander_dqn.mp4\"\n",
        "compressed_path = \"../videos/lunarlander_dqn_compressed.mp4\"\n",
        "height, width, _ = frames[0].shape\n",
        "\n",
        "fourcc = cv2.VideoWriter_fourcc(*\"mp4v\")\n",
        "video = cv2.VideoWriter(video_filename, fourcc, 30.0, (width, height))\n",
        "\n",
        "for frame in frames:\n",
        "    video.write(\n",
        "        cv2.cvtColor(frame, cv2.COLOR_RGB2BGR)\n",
        "    )\n",
        "video.release()\n",
        "\n",
        "print(f\"Video guardado como {video_filename}\")\n",
        "\n",
        "os.system(f\"rm {compressed_path}\")\n",
        "# Compressed video path\n",
        "os.system(f\"ffmpeg -i {video_filename} -vcodec libx264 {compressed_path}\")\n",
        "os.system(f\"rm {video_filename}\")\n",
        "os.system(f\"mv {compressed_path} {video_filename}\")\n",
        "\n",
        "# Show video\n",
        "mp4 = open(video_filename, \"rb\").read()\n",
        "data_url = \"data:video/mp4;base64,\" + b64encode(mp4).decode()\n",
        "HTML(\n",
        "    \"\"\"\n",
        "<video width=800 controls>\n",
        "      <source src=\"%s\" type=\"video/mp4\">\n",
        "</video>\"\"\"\n",
        "    % data_url\n",
        ")"
      ]
    }
  ],
  "metadata": {
    "accelerator": "GPU",
    "colab": {
      "gpuType": "T4",
      "provenance": []
    },
    "kernelspec": {
      "display_name": "deep-reinforcement-learning-gymnasium-u3px5S1O-py3.13",
      "language": "python",
      "name": "python3"
    },
    "language_info": {
      "codemirror_mode": {
        "name": "ipython",
        "version": 3
      },
      "file_extension": ".py",
      "mimetype": "text/x-python",
      "name": "python",
      "nbconvert_exporter": "python",
      "pygments_lexer": "ipython3",
      "version": "3.13.3"
    }
  },
  "nbformat": 4,
  "nbformat_minor": 0
}
