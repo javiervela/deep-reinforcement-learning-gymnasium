{
  "cells": [
    {
      "cell_type": "code",
      "execution_count": 1,
      "metadata": {
        "id": "OBCPdFloZEXO"
      },
      "outputs": [],
      "source": [
        "import gymnasium as gym\n",
        "import cv2\n",
        "import numpy as np\n",
        "import pandas as pd\n",
        "import matplotlib.pyplot as plt\n",
        "\n",
        "from stable_baselines3 import DQN\n",
        "from stable_baselines3.common.monitor import Monitor\n",
        "from stable_baselines3.common.vec_env import DummyVecEnv, VecMonitor\n",
        "from stable_baselines3.common.callbacks import (\n",
        "    EvalCallback,\n",
        "    StopTrainingOnRewardThreshold,\n",
        "    BaseCallback,\n",
        ")\n",
        "from stable_baselines3.common.callbacks import ProgressBarCallback\n",
        "from stable_baselines3.common.evaluation import evaluate_policy"
      ]
    },
    {
      "cell_type": "code",
      "execution_count": 2,
      "metadata": {},
      "outputs": [],
      "source": [
        "# Create the LunarLander-v3 environment\n",
        "env = gym.make(\n",
        "    \"LunarLander-v3\",\n",
        "    # continuous=False,\n",
        "    # gravity=-10.0,\n",
        "    # enable_wind=False,\n",
        "    # wind_power=15.0,\n",
        "    # turbulence_power=1.5,\n",
        "    render_mode=\"rgb_array\"\n",
        ")"
      ]
    },
    {
      "cell_type": "code",
      "execution_count": 3,
      "metadata": {},
      "outputs": [],
      "source": [
        "stop_callback = StopTrainingOnRewardThreshold(reward_threshold=200, verbose=1)\n",
        "\n",
        "eval_callback = EvalCallback(\n",
        "    env,\n",
        "    best_model_save_path=\"../logs/exercise_2/dqn/\",\n",
        "    log_path=\"../logs/exercise_2/dqn/\",\n",
        "    eval_freq=5_000,\n",
        "    deterministic=True,\n",
        "    render=False,\n",
        "    n_eval_episodes=50,\n",
        "    callback_on_new_best=stop_callback,\n",
        ")"
      ]
    },
    {
      "cell_type": "code",
      "execution_count": 4,
      "metadata": {
        "colab": {
          "base_uri": "https://localhost:8080/"
        },
        "id": "YU8nrDkrVCGw",
        "outputId": "e7875497-4d2d-4c7c-986c-d10d5316e8b5"
      },
      "outputs": [],
      "source": [
        "# Create DQN model\n",
        "model = DQN(\n",
        "    \"MlpPolicy\",\n",
        "    env,\n",
        "    learning_rate=0.00021924459122944128,\n",
        "    buffer_size=10_000,\n",
        "    batch_size=128,\n",
        "    gamma=0.9594449582014025,\n",
        "    train_freq=1,\n",
        "    exploration_fraction=0.24785493712044818,\n",
        "    exploration_final_eps=0.04073005273312161,\n",
        "    policy_kwargs = dict(net_arch=[64, 64]),\n",
        "    seed=42,\n",
        "    tensorboard_log=\"../logs/exercise_2/dqn/dqn_tensorboard/\",\n",
        "    device=\"cpu\",\n",
        "    verbose=0,\n",
        ")"
      ]
    },
    {
      "cell_type": "code",
      "execution_count": 5,
      "metadata": {
        "colab": {
          "base_uri": "https://localhost:8080/"
        },
        "id": "4Jy6O6s1ZusN",
        "outputId": "7631a5ee-d701-4312-c497-4b6ad3363806"
      },
      "outputs": [
        {
          "data": {
            "application/vnd.jupyter.widget-view+json": {
              "model_id": "5e47302f1cb24d72b2f1273d1885266b",
              "version_major": 2,
              "version_minor": 0
            },
            "text/plain": [
              "Output()"
            ]
          },
          "metadata": {},
          "output_type": "display_data"
        },
        {
          "data": {
            "text/html": [
              "<pre style=\"white-space:pre;overflow-x:auto;line-height:normal;font-family:Menlo,'DejaVu Sans Mono',consolas,'Courier New',monospace\">/home/javier/.cache/pypoetry/virtualenvs/deep-reinforcement-learning-gymnasium-u3px5S1O-py3.13/lib/python3.13/site-\n",
              "packages/stable_baselines3/common/evaluation.py:67: UserWarning: Evaluation environment is not wrapped with a \n",
              "``Monitor`` wrapper. This may result in reporting modified episode lengths and rewards, if other wrappers happen to\n",
              "modify these. Consider wrapping environment first with ``Monitor`` wrapper.\n",
              "  warnings.warn(\n",
              "</pre>\n"
            ],
            "text/plain": [
              "/home/javier/.cache/pypoetry/virtualenvs/deep-reinforcement-learning-gymnasium-u3px5S1O-py3.13/lib/python3.13/site-\n",
              "packages/stable_baselines3/common/evaluation.py:67: UserWarning: Evaluation environment is not wrapped with a \n",
              "``Monitor`` wrapper. This may result in reporting modified episode lengths and rewards, if other wrappers happen to\n",
              "modify these. Consider wrapping environment first with ``Monitor`` wrapper.\n",
              "  warnings.warn(\n"
            ]
          },
          "metadata": {},
          "output_type": "display_data"
        },
        {
          "data": {
            "text/html": [
              "<pre style=\"white-space:pre;overflow-x:auto;line-height:normal;font-family:Menlo,'DejaVu Sans Mono',consolas,'Courier New',monospace\">Eval num_timesteps=5000, episode_reward=-94.63 +/- 33.23\n",
              "</pre>\n"
            ],
            "text/plain": [
              "Eval num_timesteps=5000, episode_reward=-94.63 +/- 33.23\n"
            ]
          },
          "metadata": {},
          "output_type": "display_data"
        },
        {
          "data": {
            "text/html": [
              "<pre style=\"white-space:pre;overflow-x:auto;line-height:normal;font-family:Menlo,'DejaVu Sans Mono',consolas,'Courier New',monospace\">Episode length: 1000.00 +/- 0.00\n",
              "</pre>\n"
            ],
            "text/plain": [
              "Episode length: 1000.00 +/- 0.00\n"
            ]
          },
          "metadata": {},
          "output_type": "display_data"
        },
        {
          "data": {
            "text/html": [
              "<pre style=\"white-space:pre;overflow-x:auto;line-height:normal;font-family:Menlo,'DejaVu Sans Mono',consolas,'Courier New',monospace\">New best mean reward!\n",
              "</pre>\n"
            ],
            "text/plain": [
              "New best mean reward!\n"
            ]
          },
          "metadata": {},
          "output_type": "display_data"
        },
        {
          "data": {
            "text/html": [
              "<pre style=\"white-space:pre;overflow-x:auto;line-height:normal;font-family:Menlo,'DejaVu Sans Mono',consolas,'Courier New',monospace\">Eval num_timesteps=10000, episode_reward=-58.31 +/- 112.45\n",
              "</pre>\n"
            ],
            "text/plain": [
              "Eval num_timesteps=10000, episode_reward=-58.31 +/- 112.45\n"
            ]
          },
          "metadata": {},
          "output_type": "display_data"
        },
        {
          "data": {
            "text/html": [
              "<pre style=\"white-space:pre;overflow-x:auto;line-height:normal;font-family:Menlo,'DejaVu Sans Mono',consolas,'Courier New',monospace\">Episode length: 937.02 +/- 119.06\n",
              "</pre>\n"
            ],
            "text/plain": [
              "Episode length: 937.02 +/- 119.06\n"
            ]
          },
          "metadata": {},
          "output_type": "display_data"
        },
        {
          "data": {
            "text/html": [
              "<pre style=\"white-space:pre;overflow-x:auto;line-height:normal;font-family:Menlo,'DejaVu Sans Mono',consolas,'Courier New',monospace\">New best mean reward!\n",
              "</pre>\n"
            ],
            "text/plain": [
              "New best mean reward!\n"
            ]
          },
          "metadata": {},
          "output_type": "display_data"
        },
        {
          "data": {
            "text/html": [
              "<pre style=\"white-space:pre;overflow-x:auto;line-height:normal;font-family:Menlo,'DejaVu Sans Mono',consolas,'Courier New',monospace\">Eval num_timesteps=15000, episode_reward=-99.48 +/- 101.13\n",
              "</pre>\n"
            ],
            "text/plain": [
              "Eval num_timesteps=15000, episode_reward=-99.48 +/- 101.13\n"
            ]
          },
          "metadata": {},
          "output_type": "display_data"
        },
        {
          "data": {
            "text/html": [
              "<pre style=\"white-space:pre;overflow-x:auto;line-height:normal;font-family:Menlo,'DejaVu Sans Mono',consolas,'Courier New',monospace\">Episode length: 959.78 +/- 133.01\n",
              "</pre>\n"
            ],
            "text/plain": [
              "Episode length: 959.78 +/- 133.01\n"
            ]
          },
          "metadata": {},
          "output_type": "display_data"
        },
        {
          "data": {
            "text/html": [
              "<pre style=\"white-space:pre;overflow-x:auto;line-height:normal;font-family:Menlo,'DejaVu Sans Mono',consolas,'Courier New',monospace\">Eval num_timesteps=20000, episode_reward=-244.32 +/- 149.01\n",
              "</pre>\n"
            ],
            "text/plain": [
              "Eval num_timesteps=20000, episode_reward=-244.32 +/- 149.01\n"
            ]
          },
          "metadata": {},
          "output_type": "display_data"
        },
        {
          "data": {
            "text/html": [
              "<pre style=\"white-space:pre;overflow-x:auto;line-height:normal;font-family:Menlo,'DejaVu Sans Mono',consolas,'Courier New',monospace\">Episode length: 976.34 +/- 101.48\n",
              "</pre>\n"
            ],
            "text/plain": [
              "Episode length: 976.34 +/- 101.48\n"
            ]
          },
          "metadata": {},
          "output_type": "display_data"
        },
        {
          "data": {
            "text/html": [
              "<pre style=\"white-space:pre;overflow-x:auto;line-height:normal;font-family:Menlo,'DejaVu Sans Mono',consolas,'Courier New',monospace\">Eval num_timesteps=25000, episode_reward=-213.15 +/- 108.22\n",
              "</pre>\n"
            ],
            "text/plain": [
              "Eval num_timesteps=25000, episode_reward=-213.15 +/- 108.22\n"
            ]
          },
          "metadata": {},
          "output_type": "display_data"
        },
        {
          "data": {
            "text/html": [
              "<pre style=\"white-space:pre;overflow-x:auto;line-height:normal;font-family:Menlo,'DejaVu Sans Mono',consolas,'Courier New',monospace\">Episode length: 995.30 +/- 32.90\n",
              "</pre>\n"
            ],
            "text/plain": [
              "Episode length: 995.30 +/- 32.90\n"
            ]
          },
          "metadata": {},
          "output_type": "display_data"
        },
        {
          "data": {
            "text/html": [
              "<pre style=\"white-space:pre;overflow-x:auto;line-height:normal;font-family:Menlo,'DejaVu Sans Mono',consolas,'Courier New',monospace\">Eval num_timesteps=30000, episode_reward=-143.89 +/- 61.35\n",
              "</pre>\n"
            ],
            "text/plain": [
              "Eval num_timesteps=30000, episode_reward=-143.89 +/- 61.35\n"
            ]
          },
          "metadata": {},
          "output_type": "display_data"
        },
        {
          "data": {
            "text/html": [
              "<pre style=\"white-space:pre;overflow-x:auto;line-height:normal;font-family:Menlo,'DejaVu Sans Mono',consolas,'Courier New',monospace\">Episode length: 1000.00 +/- 0.00\n",
              "</pre>\n"
            ],
            "text/plain": [
              "Episode length: 1000.00 +/- 0.00\n"
            ]
          },
          "metadata": {},
          "output_type": "display_data"
        },
        {
          "data": {
            "text/html": [
              "<pre style=\"white-space:pre;overflow-x:auto;line-height:normal;font-family:Menlo,'DejaVu Sans Mono',consolas,'Courier New',monospace\">Eval num_timesteps=35000, episode_reward=-174.69 +/- 34.70\n",
              "</pre>\n"
            ],
            "text/plain": [
              "Eval num_timesteps=35000, episode_reward=-174.69 +/- 34.70\n"
            ]
          },
          "metadata": {},
          "output_type": "display_data"
        },
        {
          "data": {
            "text/html": [
              "<pre style=\"white-space:pre;overflow-x:auto;line-height:normal;font-family:Menlo,'DejaVu Sans Mono',consolas,'Courier New',monospace\">Episode length: 1000.00 +/- 0.00\n",
              "</pre>\n"
            ],
            "text/plain": [
              "Episode length: 1000.00 +/- 0.00\n"
            ]
          },
          "metadata": {},
          "output_type": "display_data"
        },
        {
          "data": {
            "text/html": [
              "<pre style=\"white-space:pre;overflow-x:auto;line-height:normal;font-family:Menlo,'DejaVu Sans Mono',consolas,'Courier New',monospace\">Eval num_timesteps=40000, episode_reward=-220.02 +/- 42.59\n",
              "</pre>\n"
            ],
            "text/plain": [
              "Eval num_timesteps=40000, episode_reward=-220.02 +/- 42.59\n"
            ]
          },
          "metadata": {},
          "output_type": "display_data"
        },
        {
          "data": {
            "text/html": [
              "<pre style=\"white-space:pre;overflow-x:auto;line-height:normal;font-family:Menlo,'DejaVu Sans Mono',consolas,'Courier New',monospace\">Episode length: 1000.00 +/- 0.00\n",
              "</pre>\n"
            ],
            "text/plain": [
              "Episode length: 1000.00 +/- 0.00\n"
            ]
          },
          "metadata": {},
          "output_type": "display_data"
        },
        {
          "data": {
            "text/html": [
              "<pre style=\"white-space:pre;overflow-x:auto;line-height:normal;font-family:Menlo,'DejaVu Sans Mono',consolas,'Courier New',monospace\">Eval num_timesteps=45000, episode_reward=-149.02 +/- 24.69\n",
              "</pre>\n"
            ],
            "text/plain": [
              "Eval num_timesteps=45000, episode_reward=-149.02 +/- 24.69\n"
            ]
          },
          "metadata": {},
          "output_type": "display_data"
        },
        {
          "data": {
            "text/html": [
              "<pre style=\"white-space:pre;overflow-x:auto;line-height:normal;font-family:Menlo,'DejaVu Sans Mono',consolas,'Courier New',monospace\">Episode length: 1000.00 +/- 0.00\n",
              "</pre>\n"
            ],
            "text/plain": [
              "Episode length: 1000.00 +/- 0.00\n"
            ]
          },
          "metadata": {},
          "output_type": "display_data"
        },
        {
          "data": {
            "text/html": [
              "<pre style=\"white-space:pre;overflow-x:auto;line-height:normal;font-family:Menlo,'DejaVu Sans Mono',consolas,'Courier New',monospace\">Eval num_timesteps=50000, episode_reward=-154.31 +/- 24.88\n",
              "</pre>\n"
            ],
            "text/plain": [
              "Eval num_timesteps=50000, episode_reward=-154.31 +/- 24.88\n"
            ]
          },
          "metadata": {},
          "output_type": "display_data"
        },
        {
          "data": {
            "text/html": [
              "<pre style=\"white-space:pre;overflow-x:auto;line-height:normal;font-family:Menlo,'DejaVu Sans Mono',consolas,'Courier New',monospace\">Episode length: 1000.00 +/- 0.00\n",
              "</pre>\n"
            ],
            "text/plain": [
              "Episode length: 1000.00 +/- 0.00\n"
            ]
          },
          "metadata": {},
          "output_type": "display_data"
        },
        {
          "data": {
            "text/html": [
              "<pre style=\"white-space:pre;overflow-x:auto;line-height:normal;font-family:Menlo,'DejaVu Sans Mono',consolas,'Courier New',monospace\">Eval num_timesteps=55000, episode_reward=-150.75 +/- 21.02\n",
              "</pre>\n"
            ],
            "text/plain": [
              "Eval num_timesteps=55000, episode_reward=-150.75 +/- 21.02\n"
            ]
          },
          "metadata": {},
          "output_type": "display_data"
        },
        {
          "data": {
            "text/html": [
              "<pre style=\"white-space:pre;overflow-x:auto;line-height:normal;font-family:Menlo,'DejaVu Sans Mono',consolas,'Courier New',monospace\">Episode length: 1000.00 +/- 0.00\n",
              "</pre>\n"
            ],
            "text/plain": [
              "Episode length: 1000.00 +/- 0.00\n"
            ]
          },
          "metadata": {},
          "output_type": "display_data"
        },
        {
          "data": {
            "text/html": [
              "<pre style=\"white-space:pre;overflow-x:auto;line-height:normal;font-family:Menlo,'DejaVu Sans Mono',consolas,'Courier New',monospace\">Eval num_timesteps=60000, episode_reward=-127.38 +/- 20.21\n",
              "</pre>\n"
            ],
            "text/plain": [
              "Eval num_timesteps=60000, episode_reward=-127.38 +/- 20.21\n"
            ]
          },
          "metadata": {},
          "output_type": "display_data"
        },
        {
          "data": {
            "text/html": [
              "<pre style=\"white-space:pre;overflow-x:auto;line-height:normal;font-family:Menlo,'DejaVu Sans Mono',consolas,'Courier New',monospace\">Episode length: 1000.00 +/- 0.00\n",
              "</pre>\n"
            ],
            "text/plain": [
              "Episode length: 1000.00 +/- 0.00\n"
            ]
          },
          "metadata": {},
          "output_type": "display_data"
        },
        {
          "data": {
            "text/html": [
              "<pre style=\"white-space:pre;overflow-x:auto;line-height:normal;font-family:Menlo,'DejaVu Sans Mono',consolas,'Courier New',monospace\">Eval num_timesteps=65000, episode_reward=-111.13 +/- 25.56\n",
              "</pre>\n"
            ],
            "text/plain": [
              "Eval num_timesteps=65000, episode_reward=-111.13 +/- 25.56\n"
            ]
          },
          "metadata": {},
          "output_type": "display_data"
        },
        {
          "data": {
            "text/html": [
              "<pre style=\"white-space:pre;overflow-x:auto;line-height:normal;font-family:Menlo,'DejaVu Sans Mono',consolas,'Courier New',monospace\">Episode length: 1000.00 +/- 0.00\n",
              "</pre>\n"
            ],
            "text/plain": [
              "Episode length: 1000.00 +/- 0.00\n"
            ]
          },
          "metadata": {},
          "output_type": "display_data"
        },
        {
          "data": {
            "text/html": [
              "<pre style=\"white-space:pre;overflow-x:auto;line-height:normal;font-family:Menlo,'DejaVu Sans Mono',consolas,'Courier New',monospace\">Eval num_timesteps=70000, episode_reward=-123.16 +/- 25.34\n",
              "</pre>\n"
            ],
            "text/plain": [
              "Eval num_timesteps=70000, episode_reward=-123.16 +/- 25.34\n"
            ]
          },
          "metadata": {},
          "output_type": "display_data"
        },
        {
          "data": {
            "text/html": [
              "<pre style=\"white-space:pre;overflow-x:auto;line-height:normal;font-family:Menlo,'DejaVu Sans Mono',consolas,'Courier New',monospace\">Episode length: 1000.00 +/- 0.00\n",
              "</pre>\n"
            ],
            "text/plain": [
              "Episode length: 1000.00 +/- 0.00\n"
            ]
          },
          "metadata": {},
          "output_type": "display_data"
        },
        {
          "data": {
            "text/html": [
              "<pre style=\"white-space:pre;overflow-x:auto;line-height:normal;font-family:Menlo,'DejaVu Sans Mono',consolas,'Courier New',monospace\">Eval num_timesteps=75000, episode_reward=-98.73 +/- 30.75\n",
              "</pre>\n"
            ],
            "text/plain": [
              "Eval num_timesteps=75000, episode_reward=-98.73 +/- 30.75\n"
            ]
          },
          "metadata": {},
          "output_type": "display_data"
        },
        {
          "data": {
            "text/html": [
              "<pre style=\"white-space:pre;overflow-x:auto;line-height:normal;font-family:Menlo,'DejaVu Sans Mono',consolas,'Courier New',monospace\">Episode length: 1000.00 +/- 0.00\n",
              "</pre>\n"
            ],
            "text/plain": [
              "Episode length: 1000.00 +/- 0.00\n"
            ]
          },
          "metadata": {},
          "output_type": "display_data"
        },
        {
          "data": {
            "text/html": [
              "<pre style=\"white-space:pre;overflow-x:auto;line-height:normal;font-family:Menlo,'DejaVu Sans Mono',consolas,'Courier New',monospace\">Eval num_timesteps=80000, episode_reward=-96.20 +/- 31.68\n",
              "</pre>\n"
            ],
            "text/plain": [
              "Eval num_timesteps=80000, episode_reward=-96.20 +/- 31.68\n"
            ]
          },
          "metadata": {},
          "output_type": "display_data"
        },
        {
          "data": {
            "text/html": [
              "<pre style=\"white-space:pre;overflow-x:auto;line-height:normal;font-family:Menlo,'DejaVu Sans Mono',consolas,'Courier New',monospace\">Episode length: 985.08 +/- 104.44\n",
              "</pre>\n"
            ],
            "text/plain": [
              "Episode length: 985.08 +/- 104.44\n"
            ]
          },
          "metadata": {},
          "output_type": "display_data"
        },
        {
          "data": {
            "text/html": [
              "<pre style=\"white-space:pre;overflow-x:auto;line-height:normal;font-family:Menlo,'DejaVu Sans Mono',consolas,'Courier New',monospace\">Eval num_timesteps=85000, episode_reward=-103.14 +/- 36.05\n",
              "</pre>\n"
            ],
            "text/plain": [
              "Eval num_timesteps=85000, episode_reward=-103.14 +/- 36.05\n"
            ]
          },
          "metadata": {},
          "output_type": "display_data"
        },
        {
          "data": {
            "text/html": [
              "<pre style=\"white-space:pre;overflow-x:auto;line-height:normal;font-family:Menlo,'DejaVu Sans Mono',consolas,'Courier New',monospace\">Episode length: 1000.00 +/- 0.00\n",
              "</pre>\n"
            ],
            "text/plain": [
              "Episode length: 1000.00 +/- 0.00\n"
            ]
          },
          "metadata": {},
          "output_type": "display_data"
        },
        {
          "data": {
            "text/html": [
              "<pre style=\"white-space:pre;overflow-x:auto;line-height:normal;font-family:Menlo,'DejaVu Sans Mono',consolas,'Courier New',monospace\">Eval num_timesteps=90000, episode_reward=-109.16 +/- 32.24\n",
              "</pre>\n"
            ],
            "text/plain": [
              "Eval num_timesteps=90000, episode_reward=-109.16 +/- 32.24\n"
            ]
          },
          "metadata": {},
          "output_type": "display_data"
        },
        {
          "data": {
            "text/html": [
              "<pre style=\"white-space:pre;overflow-x:auto;line-height:normal;font-family:Menlo,'DejaVu Sans Mono',consolas,'Courier New',monospace\">Episode length: 1000.00 +/- 0.00\n",
              "</pre>\n"
            ],
            "text/plain": [
              "Episode length: 1000.00 +/- 0.00\n"
            ]
          },
          "metadata": {},
          "output_type": "display_data"
        },
        {
          "data": {
            "text/html": [
              "<pre style=\"white-space:pre;overflow-x:auto;line-height:normal;font-family:Menlo,'DejaVu Sans Mono',consolas,'Courier New',monospace\">Eval num_timesteps=95000, episode_reward=-93.52 +/- 38.26\n",
              "</pre>\n"
            ],
            "text/plain": [
              "Eval num_timesteps=95000, episode_reward=-93.52 +/- 38.26\n"
            ]
          },
          "metadata": {},
          "output_type": "display_data"
        },
        {
          "data": {
            "text/html": [
              "<pre style=\"white-space:pre;overflow-x:auto;line-height:normal;font-family:Menlo,'DejaVu Sans Mono',consolas,'Courier New',monospace\">Episode length: 1000.00 +/- 0.00\n",
              "</pre>\n"
            ],
            "text/plain": [
              "Episode length: 1000.00 +/- 0.00\n"
            ]
          },
          "metadata": {},
          "output_type": "display_data"
        },
        {
          "data": {
            "text/html": [
              "<pre style=\"white-space:pre;overflow-x:auto;line-height:normal;font-family:Menlo,'DejaVu Sans Mono',consolas,'Courier New',monospace\">Eval num_timesteps=100000, episode_reward=-97.69 +/- 31.30\n",
              "</pre>\n"
            ],
            "text/plain": [
              "Eval num_timesteps=100000, episode_reward=-97.69 +/- 31.30\n"
            ]
          },
          "metadata": {},
          "output_type": "display_data"
        },
        {
          "data": {
            "text/html": [
              "<pre style=\"white-space:pre;overflow-x:auto;line-height:normal;font-family:Menlo,'DejaVu Sans Mono',consolas,'Courier New',monospace\">Episode length: 1000.00 +/- 0.00\n",
              "</pre>\n"
            ],
            "text/plain": [
              "Episode length: 1000.00 +/- 0.00\n"
            ]
          },
          "metadata": {},
          "output_type": "display_data"
        },
        {
          "data": {
            "text/html": [
              "<pre style=\"white-space:pre;overflow-x:auto;line-height:normal;font-family:Menlo,'DejaVu Sans Mono',consolas,'Courier New',monospace\">Eval num_timesteps=105000, episode_reward=-93.20 +/- 24.78\n",
              "</pre>\n"
            ],
            "text/plain": [
              "Eval num_timesteps=105000, episode_reward=-93.20 +/- 24.78\n"
            ]
          },
          "metadata": {},
          "output_type": "display_data"
        },
        {
          "data": {
            "text/html": [
              "<pre style=\"white-space:pre;overflow-x:auto;line-height:normal;font-family:Menlo,'DejaVu Sans Mono',consolas,'Courier New',monospace\">Episode length: 1000.00 +/- 0.00\n",
              "</pre>\n"
            ],
            "text/plain": [
              "Episode length: 1000.00 +/- 0.00\n"
            ]
          },
          "metadata": {},
          "output_type": "display_data"
        },
        {
          "data": {
            "text/html": [
              "<pre style=\"white-space:pre;overflow-x:auto;line-height:normal;font-family:Menlo,'DejaVu Sans Mono',consolas,'Courier New',monospace\">Eval num_timesteps=110000, episode_reward=-80.66 +/- 26.78\n",
              "</pre>\n"
            ],
            "text/plain": [
              "Eval num_timesteps=110000, episode_reward=-80.66 +/- 26.78\n"
            ]
          },
          "metadata": {},
          "output_type": "display_data"
        },
        {
          "data": {
            "text/html": [
              "<pre style=\"white-space:pre;overflow-x:auto;line-height:normal;font-family:Menlo,'DejaVu Sans Mono',consolas,'Courier New',monospace\">Episode length: 943.46 +/- 223.79\n",
              "</pre>\n"
            ],
            "text/plain": [
              "Episode length: 943.46 +/- 223.79\n"
            ]
          },
          "metadata": {},
          "output_type": "display_data"
        },
        {
          "data": {
            "text/html": [
              "<pre style=\"white-space:pre;overflow-x:auto;line-height:normal;font-family:Menlo,'DejaVu Sans Mono',consolas,'Courier New',monospace\">Eval num_timesteps=115000, episode_reward=-61.82 +/- 24.76\n",
              "</pre>\n"
            ],
            "text/plain": [
              "Eval num_timesteps=115000, episode_reward=-61.82 +/- 24.76\n"
            ]
          },
          "metadata": {},
          "output_type": "display_data"
        },
        {
          "data": {
            "text/html": [
              "<pre style=\"white-space:pre;overflow-x:auto;line-height:normal;font-family:Menlo,'DejaVu Sans Mono',consolas,'Courier New',monospace\">Episode length: 967.36 +/- 159.92\n",
              "</pre>\n"
            ],
            "text/plain": [
              "Episode length: 967.36 +/- 159.92\n"
            ]
          },
          "metadata": {},
          "output_type": "display_data"
        },
        {
          "data": {
            "text/html": [
              "<pre style=\"white-space:pre;overflow-x:auto;line-height:normal;font-family:Menlo,'DejaVu Sans Mono',consolas,'Courier New',monospace\">Eval num_timesteps=120000, episode_reward=-45.97 +/- 22.80\n",
              "</pre>\n"
            ],
            "text/plain": [
              "Eval num_timesteps=120000, episode_reward=-45.97 +/- 22.80\n"
            ]
          },
          "metadata": {},
          "output_type": "display_data"
        },
        {
          "data": {
            "text/html": [
              "<pre style=\"white-space:pre;overflow-x:auto;line-height:normal;font-family:Menlo,'DejaVu Sans Mono',consolas,'Courier New',monospace\">Episode length: 983.84 +/- 113.12\n",
              "</pre>\n"
            ],
            "text/plain": [
              "Episode length: 983.84 +/- 113.12\n"
            ]
          },
          "metadata": {},
          "output_type": "display_data"
        },
        {
          "data": {
            "text/html": [
              "<pre style=\"white-space:pre;overflow-x:auto;line-height:normal;font-family:Menlo,'DejaVu Sans Mono',consolas,'Courier New',monospace\">New best mean reward!\n",
              "</pre>\n"
            ],
            "text/plain": [
              "New best mean reward!\n"
            ]
          },
          "metadata": {},
          "output_type": "display_data"
        },
        {
          "data": {
            "text/html": [
              "<pre style=\"white-space:pre;overflow-x:auto;line-height:normal;font-family:Menlo,'DejaVu Sans Mono',consolas,'Courier New',monospace\">Eval num_timesteps=125000, episode_reward=-42.42 +/- 37.21\n",
              "</pre>\n"
            ],
            "text/plain": [
              "Eval num_timesteps=125000, episode_reward=-42.42 +/- 37.21\n"
            ]
          },
          "metadata": {},
          "output_type": "display_data"
        },
        {
          "data": {
            "text/html": [
              "<pre style=\"white-space:pre;overflow-x:auto;line-height:normal;font-family:Menlo,'DejaVu Sans Mono',consolas,'Courier New',monospace\">Episode length: 980.32 +/- 116.95\n",
              "</pre>\n"
            ],
            "text/plain": [
              "Episode length: 980.32 +/- 116.95\n"
            ]
          },
          "metadata": {},
          "output_type": "display_data"
        },
        {
          "data": {
            "text/html": [
              "<pre style=\"white-space:pre;overflow-x:auto;line-height:normal;font-family:Menlo,'DejaVu Sans Mono',consolas,'Courier New',monospace\">New best mean reward!\n",
              "</pre>\n"
            ],
            "text/plain": [
              "New best mean reward!\n"
            ]
          },
          "metadata": {},
          "output_type": "display_data"
        },
        {
          "data": {
            "text/html": [
              "<pre style=\"white-space:pre;overflow-x:auto;line-height:normal;font-family:Menlo,'DejaVu Sans Mono',consolas,'Courier New',monospace\">Eval num_timesteps=130000, episode_reward=-53.29 +/- 23.92\n",
              "</pre>\n"
            ],
            "text/plain": [
              "Eval num_timesteps=130000, episode_reward=-53.29 +/- 23.92\n"
            ]
          },
          "metadata": {},
          "output_type": "display_data"
        },
        {
          "data": {
            "text/html": [
              "<pre style=\"white-space:pre;overflow-x:auto;line-height:normal;font-family:Menlo,'DejaVu Sans Mono',consolas,'Courier New',monospace\">Episode length: 966.88 +/- 162.26\n",
              "</pre>\n"
            ],
            "text/plain": [
              "Episode length: 966.88 +/- 162.26\n"
            ]
          },
          "metadata": {},
          "output_type": "display_data"
        },
        {
          "data": {
            "text/html": [
              "<pre style=\"white-space:pre;overflow-x:auto;line-height:normal;font-family:Menlo,'DejaVu Sans Mono',consolas,'Courier New',monospace\">Eval num_timesteps=135000, episode_reward=-47.78 +/- 35.85\n",
              "</pre>\n"
            ],
            "text/plain": [
              "Eval num_timesteps=135000, episode_reward=-47.78 +/- 35.85\n"
            ]
          },
          "metadata": {},
          "output_type": "display_data"
        },
        {
          "data": {
            "text/html": [
              "<pre style=\"white-space:pre;overflow-x:auto;line-height:normal;font-family:Menlo,'DejaVu Sans Mono',consolas,'Courier New',monospace\">Episode length: 884.14 +/- 287.58\n",
              "</pre>\n"
            ],
            "text/plain": [
              "Episode length: 884.14 +/- 287.58\n"
            ]
          },
          "metadata": {},
          "output_type": "display_data"
        },
        {
          "data": {
            "text/html": [
              "<pre style=\"white-space:pre;overflow-x:auto;line-height:normal;font-family:Menlo,'DejaVu Sans Mono',consolas,'Courier New',monospace\">Eval num_timesteps=140000, episode_reward=-42.63 +/- 39.59\n",
              "</pre>\n"
            ],
            "text/plain": [
              "Eval num_timesteps=140000, episode_reward=-42.63 +/- 39.59\n"
            ]
          },
          "metadata": {},
          "output_type": "display_data"
        },
        {
          "data": {
            "text/html": [
              "<pre style=\"white-space:pre;overflow-x:auto;line-height:normal;font-family:Menlo,'DejaVu Sans Mono',consolas,'Courier New',monospace\">Episode length: 844.34 +/- 324.76\n",
              "</pre>\n"
            ],
            "text/plain": [
              "Episode length: 844.34 +/- 324.76\n"
            ]
          },
          "metadata": {},
          "output_type": "display_data"
        },
        {
          "data": {
            "text/html": [
              "<pre style=\"white-space:pre;overflow-x:auto;line-height:normal;font-family:Menlo,'DejaVu Sans Mono',consolas,'Courier New',monospace\">Eval num_timesteps=145000, episode_reward=-51.70 +/- 47.24\n",
              "</pre>\n"
            ],
            "text/plain": [
              "Eval num_timesteps=145000, episode_reward=-51.70 +/- 47.24\n"
            ]
          },
          "metadata": {},
          "output_type": "display_data"
        },
        {
          "data": {
            "text/html": [
              "<pre style=\"white-space:pre;overflow-x:auto;line-height:normal;font-family:Menlo,'DejaVu Sans Mono',consolas,'Courier New',monospace\">Episode length: 762.48 +/- 370.78\n",
              "</pre>\n"
            ],
            "text/plain": [
              "Episode length: 762.48 +/- 370.78\n"
            ]
          },
          "metadata": {},
          "output_type": "display_data"
        },
        {
          "data": {
            "text/html": [
              "<pre style=\"white-space:pre;overflow-x:auto;line-height:normal;font-family:Menlo,'DejaVu Sans Mono',consolas,'Courier New',monospace\">Eval num_timesteps=150000, episode_reward=-87.51 +/- 150.42\n",
              "</pre>\n"
            ],
            "text/plain": [
              "Eval num_timesteps=150000, episode_reward=-87.51 +/- 150.42\n"
            ]
          },
          "metadata": {},
          "output_type": "display_data"
        },
        {
          "data": {
            "text/html": [
              "<pre style=\"white-space:pre;overflow-x:auto;line-height:normal;font-family:Menlo,'DejaVu Sans Mono',consolas,'Courier New',monospace\">Episode length: 697.68 +/- 397.73\n",
              "</pre>\n"
            ],
            "text/plain": [
              "Episode length: 697.68 +/- 397.73\n"
            ]
          },
          "metadata": {},
          "output_type": "display_data"
        },
        {
          "data": {
            "text/html": [
              "<pre style=\"white-space:pre;overflow-x:auto;line-height:normal;font-family:Menlo,'DejaVu Sans Mono',consolas,'Courier New',monospace\">Eval num_timesteps=155000, episode_reward=-66.82 +/- 112.44\n",
              "</pre>\n"
            ],
            "text/plain": [
              "Eval num_timesteps=155000, episode_reward=-66.82 +/- 112.44\n"
            ]
          },
          "metadata": {},
          "output_type": "display_data"
        },
        {
          "data": {
            "text/html": [
              "<pre style=\"white-space:pre;overflow-x:auto;line-height:normal;font-family:Menlo,'DejaVu Sans Mono',consolas,'Courier New',monospace\">Episode length: 565.00 +/- 403.53\n",
              "</pre>\n"
            ],
            "text/plain": [
              "Episode length: 565.00 +/- 403.53\n"
            ]
          },
          "metadata": {},
          "output_type": "display_data"
        },
        {
          "data": {
            "text/html": [
              "<pre style=\"white-space:pre;overflow-x:auto;line-height:normal;font-family:Menlo,'DejaVu Sans Mono',consolas,'Courier New',monospace\">Eval num_timesteps=160000, episode_reward=-80.43 +/- 168.21\n",
              "</pre>\n"
            ],
            "text/plain": [
              "Eval num_timesteps=160000, episode_reward=-80.43 +/- 168.21\n"
            ]
          },
          "metadata": {},
          "output_type": "display_data"
        },
        {
          "data": {
            "text/html": [
              "<pre style=\"white-space:pre;overflow-x:auto;line-height:normal;font-family:Menlo,'DejaVu Sans Mono',consolas,'Courier New',monospace\">Episode length: 529.16 +/- 377.15\n",
              "</pre>\n"
            ],
            "text/plain": [
              "Episode length: 529.16 +/- 377.15\n"
            ]
          },
          "metadata": {},
          "output_type": "display_data"
        },
        {
          "data": {
            "text/html": [
              "<pre style=\"white-space:pre;overflow-x:auto;line-height:normal;font-family:Menlo,'DejaVu Sans Mono',consolas,'Courier New',monospace\">Eval num_timesteps=165000, episode_reward=-47.92 +/- 85.67\n",
              "</pre>\n"
            ],
            "text/plain": [
              "Eval num_timesteps=165000, episode_reward=-47.92 +/- 85.67\n"
            ]
          },
          "metadata": {},
          "output_type": "display_data"
        },
        {
          "data": {
            "text/html": [
              "<pre style=\"white-space:pre;overflow-x:auto;line-height:normal;font-family:Menlo,'DejaVu Sans Mono',consolas,'Courier New',monospace\">Episode length: 550.26 +/- 382.69\n",
              "</pre>\n"
            ],
            "text/plain": [
              "Episode length: 550.26 +/- 382.69\n"
            ]
          },
          "metadata": {},
          "output_type": "display_data"
        },
        {
          "data": {
            "text/html": [
              "<pre style=\"white-space:pre;overflow-x:auto;line-height:normal;font-family:Menlo,'DejaVu Sans Mono',consolas,'Courier New',monospace\">Eval num_timesteps=170000, episode_reward=-29.07 +/- 99.49\n",
              "</pre>\n"
            ],
            "text/plain": [
              "Eval num_timesteps=170000, episode_reward=-29.07 +/- 99.49\n"
            ]
          },
          "metadata": {},
          "output_type": "display_data"
        },
        {
          "data": {
            "text/html": [
              "<pre style=\"white-space:pre;overflow-x:auto;line-height:normal;font-family:Menlo,'DejaVu Sans Mono',consolas,'Courier New',monospace\">Episode length: 584.24 +/- 365.09\n",
              "</pre>\n"
            ],
            "text/plain": [
              "Episode length: 584.24 +/- 365.09\n"
            ]
          },
          "metadata": {},
          "output_type": "display_data"
        },
        {
          "data": {
            "text/html": [
              "<pre style=\"white-space:pre;overflow-x:auto;line-height:normal;font-family:Menlo,'DejaVu Sans Mono',consolas,'Courier New',monospace\">New best mean reward!\n",
              "</pre>\n"
            ],
            "text/plain": [
              "New best mean reward!\n"
            ]
          },
          "metadata": {},
          "output_type": "display_data"
        },
        {
          "data": {
            "text/html": [
              "<pre style=\"white-space:pre;overflow-x:auto;line-height:normal;font-family:Menlo,'DejaVu Sans Mono',consolas,'Courier New',monospace\">Eval num_timesteps=175000, episode_reward=-18.95 +/- 97.85\n",
              "</pre>\n"
            ],
            "text/plain": [
              "Eval num_timesteps=175000, episode_reward=-18.95 +/- 97.85\n"
            ]
          },
          "metadata": {},
          "output_type": "display_data"
        },
        {
          "data": {
            "text/html": [
              "<pre style=\"white-space:pre;overflow-x:auto;line-height:normal;font-family:Menlo,'DejaVu Sans Mono',consolas,'Courier New',monospace\">Episode length: 621.44 +/- 344.33\n",
              "</pre>\n"
            ],
            "text/plain": [
              "Episode length: 621.44 +/- 344.33\n"
            ]
          },
          "metadata": {},
          "output_type": "display_data"
        },
        {
          "data": {
            "text/html": [
              "<pre style=\"white-space:pre;overflow-x:auto;line-height:normal;font-family:Menlo,'DejaVu Sans Mono',consolas,'Courier New',monospace\">New best mean reward!\n",
              "</pre>\n"
            ],
            "text/plain": [
              "New best mean reward!\n"
            ]
          },
          "metadata": {},
          "output_type": "display_data"
        },
        {
          "data": {
            "text/html": [
              "<pre style=\"white-space:pre;overflow-x:auto;line-height:normal;font-family:Menlo,'DejaVu Sans Mono',consolas,'Courier New',monospace\">Eval num_timesteps=180000, episode_reward=-28.82 +/- 89.06\n",
              "</pre>\n"
            ],
            "text/plain": [
              "Eval num_timesteps=180000, episode_reward=-28.82 +/- 89.06\n"
            ]
          },
          "metadata": {},
          "output_type": "display_data"
        },
        {
          "data": {
            "text/html": [
              "<pre style=\"white-space:pre;overflow-x:auto;line-height:normal;font-family:Menlo,'DejaVu Sans Mono',consolas,'Courier New',monospace\">Episode length: 600.10 +/- 339.84\n",
              "</pre>\n"
            ],
            "text/plain": [
              "Episode length: 600.10 +/- 339.84\n"
            ]
          },
          "metadata": {},
          "output_type": "display_data"
        },
        {
          "data": {
            "text/html": [
              "<pre style=\"white-space:pre;overflow-x:auto;line-height:normal;font-family:Menlo,'DejaVu Sans Mono',consolas,'Courier New',monospace\">Eval num_timesteps=185000, episode_reward=-49.49 +/- 88.24\n",
              "</pre>\n"
            ],
            "text/plain": [
              "Eval num_timesteps=185000, episode_reward=-49.49 +/- 88.24\n"
            ]
          },
          "metadata": {},
          "output_type": "display_data"
        },
        {
          "data": {
            "text/html": [
              "<pre style=\"white-space:pre;overflow-x:auto;line-height:normal;font-family:Menlo,'DejaVu Sans Mono',consolas,'Courier New',monospace\">Episode length: 599.68 +/- 355.35\n",
              "</pre>\n"
            ],
            "text/plain": [
              "Episode length: 599.68 +/- 355.35\n"
            ]
          },
          "metadata": {},
          "output_type": "display_data"
        },
        {
          "data": {
            "text/html": [
              "<pre style=\"white-space:pre;overflow-x:auto;line-height:normal;font-family:Menlo,'DejaVu Sans Mono',consolas,'Courier New',monospace\">Eval num_timesteps=190000, episode_reward=-70.18 +/- 69.69\n",
              "</pre>\n"
            ],
            "text/plain": [
              "Eval num_timesteps=190000, episode_reward=-70.18 +/- 69.69\n"
            ]
          },
          "metadata": {},
          "output_type": "display_data"
        },
        {
          "data": {
            "text/html": [
              "<pre style=\"white-space:pre;overflow-x:auto;line-height:normal;font-family:Menlo,'DejaVu Sans Mono',consolas,'Courier New',monospace\">Episode length: 400.62 +/- 308.12\n",
              "</pre>\n"
            ],
            "text/plain": [
              "Episode length: 400.62 +/- 308.12\n"
            ]
          },
          "metadata": {},
          "output_type": "display_data"
        },
        {
          "data": {
            "text/html": [
              "<pre style=\"white-space:pre;overflow-x:auto;line-height:normal;font-family:Menlo,'DejaVu Sans Mono',consolas,'Courier New',monospace\">Eval num_timesteps=195000, episode_reward=-72.36 +/- 71.17\n",
              "</pre>\n"
            ],
            "text/plain": [
              "Eval num_timesteps=195000, episode_reward=-72.36 +/- 71.17\n"
            ]
          },
          "metadata": {},
          "output_type": "display_data"
        },
        {
          "data": {
            "text/html": [
              "<pre style=\"white-space:pre;overflow-x:auto;line-height:normal;font-family:Menlo,'DejaVu Sans Mono',consolas,'Courier New',monospace\">Episode length: 488.40 +/- 349.82\n",
              "</pre>\n"
            ],
            "text/plain": [
              "Episode length: 488.40 +/- 349.82\n"
            ]
          },
          "metadata": {},
          "output_type": "display_data"
        },
        {
          "data": {
            "text/html": [
              "<pre style=\"white-space:pre;overflow-x:auto;line-height:normal;font-family:Menlo,'DejaVu Sans Mono',consolas,'Courier New',monospace\">Eval num_timesteps=200000, episode_reward=-56.40 +/- 79.42\n",
              "</pre>\n"
            ],
            "text/plain": [
              "Eval num_timesteps=200000, episode_reward=-56.40 +/- 79.42\n"
            ]
          },
          "metadata": {},
          "output_type": "display_data"
        },
        {
          "data": {
            "text/html": [
              "<pre style=\"white-space:pre;overflow-x:auto;line-height:normal;font-family:Menlo,'DejaVu Sans Mono',consolas,'Courier New',monospace\">Episode length: 455.94 +/- 342.90\n",
              "</pre>\n"
            ],
            "text/plain": [
              "Episode length: 455.94 +/- 342.90\n"
            ]
          },
          "metadata": {},
          "output_type": "display_data"
        },
        {
          "data": {
            "text/html": [
              "<pre style=\"white-space:pre;overflow-x:auto;line-height:normal;font-family:Menlo,'DejaVu Sans Mono',consolas,'Courier New',monospace\">Eval num_timesteps=205000, episode_reward=-69.51 +/- 75.44\n",
              "</pre>\n"
            ],
            "text/plain": [
              "Eval num_timesteps=205000, episode_reward=-69.51 +/- 75.44\n"
            ]
          },
          "metadata": {},
          "output_type": "display_data"
        },
        {
          "data": {
            "text/html": [
              "<pre style=\"white-space:pre;overflow-x:auto;line-height:normal;font-family:Menlo,'DejaVu Sans Mono',consolas,'Courier New',monospace\">Episode length: 493.84 +/- 332.80\n",
              "</pre>\n"
            ],
            "text/plain": [
              "Episode length: 493.84 +/- 332.80\n"
            ]
          },
          "metadata": {},
          "output_type": "display_data"
        },
        {
          "data": {
            "text/html": [
              "<pre style=\"white-space:pre;overflow-x:auto;line-height:normal;font-family:Menlo,'DejaVu Sans Mono',consolas,'Courier New',monospace\">Eval num_timesteps=210000, episode_reward=-75.33 +/- 60.22\n",
              "</pre>\n"
            ],
            "text/plain": [
              "Eval num_timesteps=210000, episode_reward=-75.33 +/- 60.22\n"
            ]
          },
          "metadata": {},
          "output_type": "display_data"
        },
        {
          "data": {
            "text/html": [
              "<pre style=\"white-space:pre;overflow-x:auto;line-height:normal;font-family:Menlo,'DejaVu Sans Mono',consolas,'Courier New',monospace\">Episode length: 378.68 +/- 285.54\n",
              "</pre>\n"
            ],
            "text/plain": [
              "Episode length: 378.68 +/- 285.54\n"
            ]
          },
          "metadata": {},
          "output_type": "display_data"
        },
        {
          "data": {
            "text/html": [
              "<pre style=\"white-space:pre;overflow-x:auto;line-height:normal;font-family:Menlo,'DejaVu Sans Mono',consolas,'Courier New',monospace\">Eval num_timesteps=215000, episode_reward=-62.83 +/- 94.57\n",
              "</pre>\n"
            ],
            "text/plain": [
              "Eval num_timesteps=215000, episode_reward=-62.83 +/- 94.57\n"
            ]
          },
          "metadata": {},
          "output_type": "display_data"
        },
        {
          "data": {
            "text/html": [
              "<pre style=\"white-space:pre;overflow-x:auto;line-height:normal;font-family:Menlo,'DejaVu Sans Mono',consolas,'Courier New',monospace\">Episode length: 428.86 +/- 284.33\n",
              "</pre>\n"
            ],
            "text/plain": [
              "Episode length: 428.86 +/- 284.33\n"
            ]
          },
          "metadata": {},
          "output_type": "display_data"
        },
        {
          "data": {
            "text/html": [
              "<pre style=\"white-space:pre;overflow-x:auto;line-height:normal;font-family:Menlo,'DejaVu Sans Mono',consolas,'Courier New',monospace\">Eval num_timesteps=220000, episode_reward=-86.05 +/- 38.91\n",
              "</pre>\n"
            ],
            "text/plain": [
              "Eval num_timesteps=220000, episode_reward=-86.05 +/- 38.91\n"
            ]
          },
          "metadata": {},
          "output_type": "display_data"
        },
        {
          "data": {
            "text/html": [
              "<pre style=\"white-space:pre;overflow-x:auto;line-height:normal;font-family:Menlo,'DejaVu Sans Mono',consolas,'Courier New',monospace\">Episode length: 378.08 +/- 308.04\n",
              "</pre>\n"
            ],
            "text/plain": [
              "Episode length: 378.08 +/- 308.04\n"
            ]
          },
          "metadata": {},
          "output_type": "display_data"
        },
        {
          "data": {
            "text/html": [
              "<pre style=\"white-space:pre;overflow-x:auto;line-height:normal;font-family:Menlo,'DejaVu Sans Mono',consolas,'Courier New',monospace\">Eval num_timesteps=225000, episode_reward=-66.96 +/- 66.45\n",
              "</pre>\n"
            ],
            "text/plain": [
              "Eval num_timesteps=225000, episode_reward=-66.96 +/- 66.45\n"
            ]
          },
          "metadata": {},
          "output_type": "display_data"
        },
        {
          "data": {
            "text/html": [
              "<pre style=\"white-space:pre;overflow-x:auto;line-height:normal;font-family:Menlo,'DejaVu Sans Mono',consolas,'Courier New',monospace\">Episode length: 379.94 +/- 293.54\n",
              "</pre>\n"
            ],
            "text/plain": [
              "Episode length: 379.94 +/- 293.54\n"
            ]
          },
          "metadata": {},
          "output_type": "display_data"
        },
        {
          "data": {
            "text/html": [
              "<pre style=\"white-space:pre;overflow-x:auto;line-height:normal;font-family:Menlo,'DejaVu Sans Mono',consolas,'Courier New',monospace\">Eval num_timesteps=230000, episode_reward=-85.05 +/- 62.60\n",
              "</pre>\n"
            ],
            "text/plain": [
              "Eval num_timesteps=230000, episode_reward=-85.05 +/- 62.60\n"
            ]
          },
          "metadata": {},
          "output_type": "display_data"
        },
        {
          "data": {
            "text/html": [
              "<pre style=\"white-space:pre;overflow-x:auto;line-height:normal;font-family:Menlo,'DejaVu Sans Mono',consolas,'Courier New',monospace\">Episode length: 440.36 +/- 334.83\n",
              "</pre>\n"
            ],
            "text/plain": [
              "Episode length: 440.36 +/- 334.83\n"
            ]
          },
          "metadata": {},
          "output_type": "display_data"
        },
        {
          "data": {
            "text/html": [
              "<pre style=\"white-space:pre;overflow-x:auto;line-height:normal;font-family:Menlo,'DejaVu Sans Mono',consolas,'Courier New',monospace\">Eval num_timesteps=235000, episode_reward=-64.02 +/- 65.61\n",
              "</pre>\n"
            ],
            "text/plain": [
              "Eval num_timesteps=235000, episode_reward=-64.02 +/- 65.61\n"
            ]
          },
          "metadata": {},
          "output_type": "display_data"
        },
        {
          "data": {
            "text/html": [
              "<pre style=\"white-space:pre;overflow-x:auto;line-height:normal;font-family:Menlo,'DejaVu Sans Mono',consolas,'Courier New',monospace\">Episode length: 428.80 +/- 328.90\n",
              "</pre>\n"
            ],
            "text/plain": [
              "Episode length: 428.80 +/- 328.90\n"
            ]
          },
          "metadata": {},
          "output_type": "display_data"
        },
        {
          "data": {
            "text/html": [
              "<pre style=\"white-space:pre;overflow-x:auto;line-height:normal;font-family:Menlo,'DejaVu Sans Mono',consolas,'Courier New',monospace\">Eval num_timesteps=240000, episode_reward=-65.17 +/- 80.61\n",
              "</pre>\n"
            ],
            "text/plain": [
              "Eval num_timesteps=240000, episode_reward=-65.17 +/- 80.61\n"
            ]
          },
          "metadata": {},
          "output_type": "display_data"
        },
        {
          "data": {
            "text/html": [
              "<pre style=\"white-space:pre;overflow-x:auto;line-height:normal;font-family:Menlo,'DejaVu Sans Mono',consolas,'Courier New',monospace\">Episode length: 520.44 +/- 321.62\n",
              "</pre>\n"
            ],
            "text/plain": [
              "Episode length: 520.44 +/- 321.62\n"
            ]
          },
          "metadata": {},
          "output_type": "display_data"
        },
        {
          "data": {
            "text/html": [
              "<pre style=\"white-space:pre;overflow-x:auto;line-height:normal;font-family:Menlo,'DejaVu Sans Mono',consolas,'Courier New',monospace\">Eval num_timesteps=245000, episode_reward=-59.07 +/- 75.06\n",
              "</pre>\n"
            ],
            "text/plain": [
              "Eval num_timesteps=245000, episode_reward=-59.07 +/- 75.06\n"
            ]
          },
          "metadata": {},
          "output_type": "display_data"
        },
        {
          "data": {
            "text/html": [
              "<pre style=\"white-space:pre;overflow-x:auto;line-height:normal;font-family:Menlo,'DejaVu Sans Mono',consolas,'Courier New',monospace\">Episode length: 505.66 +/- 355.18\n",
              "</pre>\n"
            ],
            "text/plain": [
              "Episode length: 505.66 +/- 355.18\n"
            ]
          },
          "metadata": {},
          "output_type": "display_data"
        },
        {
          "data": {
            "text/html": [
              "<pre style=\"white-space:pre;overflow-x:auto;line-height:normal;font-family:Menlo,'DejaVu Sans Mono',consolas,'Courier New',monospace\">Eval num_timesteps=250000, episode_reward=-64.97 +/- 67.24\n",
              "</pre>\n"
            ],
            "text/plain": [
              "Eval num_timesteps=250000, episode_reward=-64.97 +/- 67.24\n"
            ]
          },
          "metadata": {},
          "output_type": "display_data"
        },
        {
          "data": {
            "text/html": [
              "<pre style=\"white-space:pre;overflow-x:auto;line-height:normal;font-family:Menlo,'DejaVu Sans Mono',consolas,'Courier New',monospace\">Episode length: 459.98 +/- 328.87\n",
              "</pre>\n"
            ],
            "text/plain": [
              "Episode length: 459.98 +/- 328.87\n"
            ]
          },
          "metadata": {},
          "output_type": "display_data"
        },
        {
          "data": {
            "text/html": [
              "<pre style=\"white-space:pre;overflow-x:auto;line-height:normal;font-family:Menlo,'DejaVu Sans Mono',consolas,'Courier New',monospace\">Eval num_timesteps=255000, episode_reward=-70.84 +/- 69.21\n",
              "</pre>\n"
            ],
            "text/plain": [
              "Eval num_timesteps=255000, episode_reward=-70.84 +/- 69.21\n"
            ]
          },
          "metadata": {},
          "output_type": "display_data"
        },
        {
          "data": {
            "text/html": [
              "<pre style=\"white-space:pre;overflow-x:auto;line-height:normal;font-family:Menlo,'DejaVu Sans Mono',consolas,'Courier New',monospace\">Episode length: 371.56 +/- 258.40\n",
              "</pre>\n"
            ],
            "text/plain": [
              "Episode length: 371.56 +/- 258.40\n"
            ]
          },
          "metadata": {},
          "output_type": "display_data"
        },
        {
          "data": {
            "text/html": [
              "<pre style=\"white-space:pre;overflow-x:auto;line-height:normal;font-family:Menlo,'DejaVu Sans Mono',consolas,'Courier New',monospace\">Eval num_timesteps=260000, episode_reward=-46.04 +/- 102.64\n",
              "</pre>\n"
            ],
            "text/plain": [
              "Eval num_timesteps=260000, episode_reward=-46.04 +/- 102.64\n"
            ]
          },
          "metadata": {},
          "output_type": "display_data"
        },
        {
          "data": {
            "text/html": [
              "<pre style=\"white-space:pre;overflow-x:auto;line-height:normal;font-family:Menlo,'DejaVu Sans Mono',consolas,'Courier New',monospace\">Episode length: 468.80 +/- 318.78\n",
              "</pre>\n"
            ],
            "text/plain": [
              "Episode length: 468.80 +/- 318.78\n"
            ]
          },
          "metadata": {},
          "output_type": "display_data"
        },
        {
          "data": {
            "text/html": [
              "<pre style=\"white-space:pre;overflow-x:auto;line-height:normal;font-family:Menlo,'DejaVu Sans Mono',consolas,'Courier New',monospace\">Eval num_timesteps=265000, episode_reward=-14.98 +/- 90.43\n",
              "</pre>\n"
            ],
            "text/plain": [
              "Eval num_timesteps=265000, episode_reward=-14.98 +/- 90.43\n"
            ]
          },
          "metadata": {},
          "output_type": "display_data"
        },
        {
          "data": {
            "text/html": [
              "<pre style=\"white-space:pre;overflow-x:auto;line-height:normal;font-family:Menlo,'DejaVu Sans Mono',consolas,'Courier New',monospace\">Episode length: 578.02 +/- 331.08\n",
              "</pre>\n"
            ],
            "text/plain": [
              "Episode length: 578.02 +/- 331.08\n"
            ]
          },
          "metadata": {},
          "output_type": "display_data"
        },
        {
          "data": {
            "text/html": [
              "<pre style=\"white-space:pre;overflow-x:auto;line-height:normal;font-family:Menlo,'DejaVu Sans Mono',consolas,'Courier New',monospace\">New best mean reward!\n",
              "</pre>\n"
            ],
            "text/plain": [
              "New best mean reward!\n"
            ]
          },
          "metadata": {},
          "output_type": "display_data"
        },
        {
          "data": {
            "text/html": [
              "<pre style=\"white-space:pre;overflow-x:auto;line-height:normal;font-family:Menlo,'DejaVu Sans Mono',consolas,'Courier New',monospace\">Eval num_timesteps=270000, episode_reward=-55.50 +/- 84.37\n",
              "</pre>\n"
            ],
            "text/plain": [
              "Eval num_timesteps=270000, episode_reward=-55.50 +/- 84.37\n"
            ]
          },
          "metadata": {},
          "output_type": "display_data"
        },
        {
          "data": {
            "text/html": [
              "<pre style=\"white-space:pre;overflow-x:auto;line-height:normal;font-family:Menlo,'DejaVu Sans Mono',consolas,'Courier New',monospace\">Episode length: 420.42 +/- 312.69\n",
              "</pre>\n"
            ],
            "text/plain": [
              "Episode length: 420.42 +/- 312.69\n"
            ]
          },
          "metadata": {},
          "output_type": "display_data"
        },
        {
          "data": {
            "text/html": [
              "<pre style=\"white-space:pre;overflow-x:auto;line-height:normal;font-family:Menlo,'DejaVu Sans Mono',consolas,'Courier New',monospace\">Eval num_timesteps=275000, episode_reward=-30.39 +/- 114.09\n",
              "</pre>\n"
            ],
            "text/plain": [
              "Eval num_timesteps=275000, episode_reward=-30.39 +/- 114.09\n"
            ]
          },
          "metadata": {},
          "output_type": "display_data"
        },
        {
          "data": {
            "text/html": [
              "<pre style=\"white-space:pre;overflow-x:auto;line-height:normal;font-family:Menlo,'DejaVu Sans Mono',consolas,'Courier New',monospace\">Episode length: 412.26 +/- 277.43\n",
              "</pre>\n"
            ],
            "text/plain": [
              "Episode length: 412.26 +/- 277.43\n"
            ]
          },
          "metadata": {},
          "output_type": "display_data"
        },
        {
          "data": {
            "text/html": [
              "<pre style=\"white-space:pre;overflow-x:auto;line-height:normal;font-family:Menlo,'DejaVu Sans Mono',consolas,'Courier New',monospace\">Eval num_timesteps=280000, episode_reward=-10.39 +/- 98.22\n",
              "</pre>\n"
            ],
            "text/plain": [
              "Eval num_timesteps=280000, episode_reward=-10.39 +/- 98.22\n"
            ]
          },
          "metadata": {},
          "output_type": "display_data"
        },
        {
          "data": {
            "text/html": [
              "<pre style=\"white-space:pre;overflow-x:auto;line-height:normal;font-family:Menlo,'DejaVu Sans Mono',consolas,'Courier New',monospace\">Episode length: 570.98 +/- 337.54\n",
              "</pre>\n"
            ],
            "text/plain": [
              "Episode length: 570.98 +/- 337.54\n"
            ]
          },
          "metadata": {},
          "output_type": "display_data"
        },
        {
          "data": {
            "text/html": [
              "<pre style=\"white-space:pre;overflow-x:auto;line-height:normal;font-family:Menlo,'DejaVu Sans Mono',consolas,'Courier New',monospace\">New best mean reward!\n",
              "</pre>\n"
            ],
            "text/plain": [
              "New best mean reward!\n"
            ]
          },
          "metadata": {},
          "output_type": "display_data"
        },
        {
          "data": {
            "text/html": [
              "<pre style=\"white-space:pre;overflow-x:auto;line-height:normal;font-family:Menlo,'DejaVu Sans Mono',consolas,'Courier New',monospace\">Eval num_timesteps=285000, episode_reward=-34.27 +/- 98.82\n",
              "</pre>\n"
            ],
            "text/plain": [
              "Eval num_timesteps=285000, episode_reward=-34.27 +/- 98.82\n"
            ]
          },
          "metadata": {},
          "output_type": "display_data"
        },
        {
          "data": {
            "text/html": [
              "<pre style=\"white-space:pre;overflow-x:auto;line-height:normal;font-family:Menlo,'DejaVu Sans Mono',consolas,'Courier New',monospace\">Episode length: 505.64 +/- 322.35\n",
              "</pre>\n"
            ],
            "text/plain": [
              "Episode length: 505.64 +/- 322.35\n"
            ]
          },
          "metadata": {},
          "output_type": "display_data"
        },
        {
          "data": {
            "text/html": [
              "<pre style=\"white-space:pre;overflow-x:auto;line-height:normal;font-family:Menlo,'DejaVu Sans Mono',consolas,'Courier New',monospace\">Eval num_timesteps=290000, episode_reward=-31.50 +/- 98.57\n",
              "</pre>\n"
            ],
            "text/plain": [
              "Eval num_timesteps=290000, episode_reward=-31.50 +/- 98.57\n"
            ]
          },
          "metadata": {},
          "output_type": "display_data"
        },
        {
          "data": {
            "text/html": [
              "<pre style=\"white-space:pre;overflow-x:auto;line-height:normal;font-family:Menlo,'DejaVu Sans Mono',consolas,'Courier New',monospace\">Episode length: 477.24 +/- 310.24\n",
              "</pre>\n"
            ],
            "text/plain": [
              "Episode length: 477.24 +/- 310.24\n"
            ]
          },
          "metadata": {},
          "output_type": "display_data"
        },
        {
          "data": {
            "text/html": [
              "<pre style=\"white-space:pre;overflow-x:auto;line-height:normal;font-family:Menlo,'DejaVu Sans Mono',consolas,'Courier New',monospace\">Eval num_timesteps=295000, episode_reward=-17.16 +/- 90.79\n",
              "</pre>\n"
            ],
            "text/plain": [
              "Eval num_timesteps=295000, episode_reward=-17.16 +/- 90.79\n"
            ]
          },
          "metadata": {},
          "output_type": "display_data"
        },
        {
          "data": {
            "text/html": [
              "<pre style=\"white-space:pre;overflow-x:auto;line-height:normal;font-family:Menlo,'DejaVu Sans Mono',consolas,'Courier New',monospace\">Episode length: 592.06 +/- 350.64\n",
              "</pre>\n"
            ],
            "text/plain": [
              "Episode length: 592.06 +/- 350.64\n"
            ]
          },
          "metadata": {},
          "output_type": "display_data"
        },
        {
          "data": {
            "text/html": [
              "<pre style=\"white-space:pre;overflow-x:auto;line-height:normal;font-family:Menlo,'DejaVu Sans Mono',consolas,'Courier New',monospace\">Eval num_timesteps=300000, episode_reward=-21.84 +/- 95.15\n",
              "</pre>\n"
            ],
            "text/plain": [
              "Eval num_timesteps=300000, episode_reward=-21.84 +/- 95.15\n"
            ]
          },
          "metadata": {},
          "output_type": "display_data"
        },
        {
          "data": {
            "text/html": [
              "<pre style=\"white-space:pre;overflow-x:auto;line-height:normal;font-family:Menlo,'DejaVu Sans Mono',consolas,'Courier New',monospace\">Episode length: 580.94 +/- 332.84\n",
              "</pre>\n"
            ],
            "text/plain": [
              "Episode length: 580.94 +/- 332.84\n"
            ]
          },
          "metadata": {},
          "output_type": "display_data"
        },
        {
          "data": {
            "text/html": [
              "<pre style=\"white-space:pre;overflow-x:auto;line-height:normal;font-family:Menlo,'DejaVu Sans Mono',consolas,'Courier New',monospace\">Eval num_timesteps=305000, episode_reward=-39.92 +/- 93.81\n",
              "</pre>\n"
            ],
            "text/plain": [
              "Eval num_timesteps=305000, episode_reward=-39.92 +/- 93.81\n"
            ]
          },
          "metadata": {},
          "output_type": "display_data"
        },
        {
          "data": {
            "text/html": [
              "<pre style=\"white-space:pre;overflow-x:auto;line-height:normal;font-family:Menlo,'DejaVu Sans Mono',consolas,'Courier New',monospace\">Episode length: 512.36 +/- 318.22\n",
              "</pre>\n"
            ],
            "text/plain": [
              "Episode length: 512.36 +/- 318.22\n"
            ]
          },
          "metadata": {},
          "output_type": "display_data"
        },
        {
          "data": {
            "text/html": [
              "<pre style=\"white-space:pre;overflow-x:auto;line-height:normal;font-family:Menlo,'DejaVu Sans Mono',consolas,'Courier New',monospace\">Eval num_timesteps=310000, episode_reward=-37.20 +/- 88.64\n",
              "</pre>\n"
            ],
            "text/plain": [
              "Eval num_timesteps=310000, episode_reward=-37.20 +/- 88.64\n"
            ]
          },
          "metadata": {},
          "output_type": "display_data"
        },
        {
          "data": {
            "text/html": [
              "<pre style=\"white-space:pre;overflow-x:auto;line-height:normal;font-family:Menlo,'DejaVu Sans Mono',consolas,'Courier New',monospace\">Episode length: 575.54 +/- 351.01\n",
              "</pre>\n"
            ],
            "text/plain": [
              "Episode length: 575.54 +/- 351.01\n"
            ]
          },
          "metadata": {},
          "output_type": "display_data"
        },
        {
          "data": {
            "text/html": [
              "<pre style=\"white-space:pre;overflow-x:auto;line-height:normal;font-family:Menlo,'DejaVu Sans Mono',consolas,'Courier New',monospace\">Eval num_timesteps=315000, episode_reward=-40.82 +/- 129.02\n",
              "</pre>\n"
            ],
            "text/plain": [
              "Eval num_timesteps=315000, episode_reward=-40.82 +/- 129.02\n"
            ]
          },
          "metadata": {},
          "output_type": "display_data"
        },
        {
          "data": {
            "text/html": [
              "<pre style=\"white-space:pre;overflow-x:auto;line-height:normal;font-family:Menlo,'DejaVu Sans Mono',consolas,'Courier New',monospace\">Episode length: 653.04 +/- 347.58\n",
              "</pre>\n"
            ],
            "text/plain": [
              "Episode length: 653.04 +/- 347.58\n"
            ]
          },
          "metadata": {},
          "output_type": "display_data"
        },
        {
          "data": {
            "text/html": [
              "<pre style=\"white-space:pre;overflow-x:auto;line-height:normal;font-family:Menlo,'DejaVu Sans Mono',consolas,'Courier New',monospace\">Eval num_timesteps=320000, episode_reward=-42.93 +/- 86.97\n",
              "</pre>\n"
            ],
            "text/plain": [
              "Eval num_timesteps=320000, episode_reward=-42.93 +/- 86.97\n"
            ]
          },
          "metadata": {},
          "output_type": "display_data"
        },
        {
          "data": {
            "text/html": [
              "<pre style=\"white-space:pre;overflow-x:auto;line-height:normal;font-family:Menlo,'DejaVu Sans Mono',consolas,'Courier New',monospace\">Episode length: 571.42 +/- 345.91\n",
              "</pre>\n"
            ],
            "text/plain": [
              "Episode length: 571.42 +/- 345.91\n"
            ]
          },
          "metadata": {},
          "output_type": "display_data"
        },
        {
          "data": {
            "text/html": [
              "<pre style=\"white-space:pre;overflow-x:auto;line-height:normal;font-family:Menlo,'DejaVu Sans Mono',consolas,'Courier New',monospace\">Eval num_timesteps=325000, episode_reward=-7.78 +/- 101.25\n",
              "</pre>\n"
            ],
            "text/plain": [
              "Eval num_timesteps=325000, episode_reward=-7.78 +/- 101.25\n"
            ]
          },
          "metadata": {},
          "output_type": "display_data"
        },
        {
          "data": {
            "text/html": [
              "<pre style=\"white-space:pre;overflow-x:auto;line-height:normal;font-family:Menlo,'DejaVu Sans Mono',consolas,'Courier New',monospace\">Episode length: 553.76 +/- 298.39\n",
              "</pre>\n"
            ],
            "text/plain": [
              "Episode length: 553.76 +/- 298.39\n"
            ]
          },
          "metadata": {},
          "output_type": "display_data"
        },
        {
          "data": {
            "text/html": [
              "<pre style=\"white-space:pre;overflow-x:auto;line-height:normal;font-family:Menlo,'DejaVu Sans Mono',consolas,'Courier New',monospace\">New best mean reward!\n",
              "</pre>\n"
            ],
            "text/plain": [
              "New best mean reward!\n"
            ]
          },
          "metadata": {},
          "output_type": "display_data"
        },
        {
          "data": {
            "text/html": [
              "<pre style=\"white-space:pre;overflow-x:auto;line-height:normal;font-family:Menlo,'DejaVu Sans Mono',consolas,'Courier New',monospace\">Eval num_timesteps=330000, episode_reward=-6.67 +/- 100.28\n",
              "</pre>\n"
            ],
            "text/plain": [
              "Eval num_timesteps=330000, episode_reward=-6.67 +/- 100.28\n"
            ]
          },
          "metadata": {},
          "output_type": "display_data"
        },
        {
          "data": {
            "text/html": [
              "<pre style=\"white-space:pre;overflow-x:auto;line-height:normal;font-family:Menlo,'DejaVu Sans Mono',consolas,'Courier New',monospace\">Episode length: 531.32 +/- 329.89\n",
              "</pre>\n"
            ],
            "text/plain": [
              "Episode length: 531.32 +/- 329.89\n"
            ]
          },
          "metadata": {},
          "output_type": "display_data"
        },
        {
          "data": {
            "text/html": [
              "<pre style=\"white-space:pre;overflow-x:auto;line-height:normal;font-family:Menlo,'DejaVu Sans Mono',consolas,'Courier New',monospace\">New best mean reward!\n",
              "</pre>\n"
            ],
            "text/plain": [
              "New best mean reward!\n"
            ]
          },
          "metadata": {},
          "output_type": "display_data"
        },
        {
          "data": {
            "text/html": [
              "<pre style=\"white-space:pre;overflow-x:auto;line-height:normal;font-family:Menlo,'DejaVu Sans Mono',consolas,'Courier New',monospace\">Eval num_timesteps=335000, episode_reward=-18.75 +/- 101.90\n",
              "</pre>\n"
            ],
            "text/plain": [
              "Eval num_timesteps=335000, episode_reward=-18.75 +/- 101.90\n"
            ]
          },
          "metadata": {},
          "output_type": "display_data"
        },
        {
          "data": {
            "text/html": [
              "<pre style=\"white-space:pre;overflow-x:auto;line-height:normal;font-family:Menlo,'DejaVu Sans Mono',consolas,'Courier New',monospace\">Episode length: 546.20 +/- 314.59\n",
              "</pre>\n"
            ],
            "text/plain": [
              "Episode length: 546.20 +/- 314.59\n"
            ]
          },
          "metadata": {},
          "output_type": "display_data"
        },
        {
          "data": {
            "text/html": [
              "<pre style=\"white-space:pre;overflow-x:auto;line-height:normal;font-family:Menlo,'DejaVu Sans Mono',consolas,'Courier New',monospace\">Eval num_timesteps=340000, episode_reward=-3.00 +/- 112.90\n",
              "</pre>\n"
            ],
            "text/plain": [
              "Eval num_timesteps=340000, episode_reward=-3.00 +/- 112.90\n"
            ]
          },
          "metadata": {},
          "output_type": "display_data"
        },
        {
          "data": {
            "text/html": [
              "<pre style=\"white-space:pre;overflow-x:auto;line-height:normal;font-family:Menlo,'DejaVu Sans Mono',consolas,'Courier New',monospace\">Episode length: 662.56 +/- 324.19\n",
              "</pre>\n"
            ],
            "text/plain": [
              "Episode length: 662.56 +/- 324.19\n"
            ]
          },
          "metadata": {},
          "output_type": "display_data"
        },
        {
          "data": {
            "text/html": [
              "<pre style=\"white-space:pre;overflow-x:auto;line-height:normal;font-family:Menlo,'DejaVu Sans Mono',consolas,'Courier New',monospace\">New best mean reward!\n",
              "</pre>\n"
            ],
            "text/plain": [
              "New best mean reward!\n"
            ]
          },
          "metadata": {},
          "output_type": "display_data"
        },
        {
          "data": {
            "text/html": [
              "<pre style=\"white-space:pre;overflow-x:auto;line-height:normal;font-family:Menlo,'DejaVu Sans Mono',consolas,'Courier New',monospace\">Eval num_timesteps=345000, episode_reward=-60.79 +/- 52.96\n",
              "</pre>\n"
            ],
            "text/plain": [
              "Eval num_timesteps=345000, episode_reward=-60.79 +/- 52.96\n"
            ]
          },
          "metadata": {},
          "output_type": "display_data"
        },
        {
          "data": {
            "text/html": [
              "<pre style=\"white-space:pre;overflow-x:auto;line-height:normal;font-family:Menlo,'DejaVu Sans Mono',consolas,'Courier New',monospace\">Episode length: 707.74 +/- 323.15\n",
              "</pre>\n"
            ],
            "text/plain": [
              "Episode length: 707.74 +/- 323.15\n"
            ]
          },
          "metadata": {},
          "output_type": "display_data"
        },
        {
          "data": {
            "text/html": [
              "<pre style=\"white-space:pre;overflow-x:auto;line-height:normal;font-family:Menlo,'DejaVu Sans Mono',consolas,'Courier New',monospace\">Eval num_timesteps=350000, episode_reward=20.20 +/- 107.78\n",
              "</pre>\n"
            ],
            "text/plain": [
              "Eval num_timesteps=350000, episode_reward=20.20 +/- 107.78\n"
            ]
          },
          "metadata": {},
          "output_type": "display_data"
        },
        {
          "data": {
            "text/html": [
              "<pre style=\"white-space:pre;overflow-x:auto;line-height:normal;font-family:Menlo,'DejaVu Sans Mono',consolas,'Courier New',monospace\">Episode length: 696.94 +/- 326.54\n",
              "</pre>\n"
            ],
            "text/plain": [
              "Episode length: 696.94 +/- 326.54\n"
            ]
          },
          "metadata": {},
          "output_type": "display_data"
        },
        {
          "data": {
            "text/html": [
              "<pre style=\"white-space:pre;overflow-x:auto;line-height:normal;font-family:Menlo,'DejaVu Sans Mono',consolas,'Courier New',monospace\">New best mean reward!\n",
              "</pre>\n"
            ],
            "text/plain": [
              "New best mean reward!\n"
            ]
          },
          "metadata": {},
          "output_type": "display_data"
        },
        {
          "data": {
            "text/html": [
              "<pre style=\"white-space:pre;overflow-x:auto;line-height:normal;font-family:Menlo,'DejaVu Sans Mono',consolas,'Courier New',monospace\">Eval num_timesteps=355000, episode_reward=-3.91 +/- 95.84\n",
              "</pre>\n"
            ],
            "text/plain": [
              "Eval num_timesteps=355000, episode_reward=-3.91 +/- 95.84\n"
            ]
          },
          "metadata": {},
          "output_type": "display_data"
        },
        {
          "data": {
            "text/html": [
              "<pre style=\"white-space:pre;overflow-x:auto;line-height:normal;font-family:Menlo,'DejaVu Sans Mono',consolas,'Courier New',monospace\">Episode length: 696.62 +/- 297.13\n",
              "</pre>\n"
            ],
            "text/plain": [
              "Episode length: 696.62 +/- 297.13\n"
            ]
          },
          "metadata": {},
          "output_type": "display_data"
        },
        {
          "data": {
            "text/html": [
              "<pre style=\"white-space:pre;overflow-x:auto;line-height:normal;font-family:Menlo,'DejaVu Sans Mono',consolas,'Courier New',monospace\">Eval num_timesteps=360000, episode_reward=16.22 +/- 95.66\n",
              "</pre>\n"
            ],
            "text/plain": [
              "Eval num_timesteps=360000, episode_reward=16.22 +/- 95.66\n"
            ]
          },
          "metadata": {},
          "output_type": "display_data"
        },
        {
          "data": {
            "text/html": [
              "<pre style=\"white-space:pre;overflow-x:auto;line-height:normal;font-family:Menlo,'DejaVu Sans Mono',consolas,'Courier New',monospace\">Episode length: 781.90 +/- 282.95\n",
              "</pre>\n"
            ],
            "text/plain": [
              "Episode length: 781.90 +/- 282.95\n"
            ]
          },
          "metadata": {},
          "output_type": "display_data"
        },
        {
          "data": {
            "text/html": [
              "<pre style=\"white-space:pre;overflow-x:auto;line-height:normal;font-family:Menlo,'DejaVu Sans Mono',consolas,'Courier New',monospace\">Eval num_timesteps=365000, episode_reward=-11.41 +/- 121.08\n",
              "</pre>\n"
            ],
            "text/plain": [
              "Eval num_timesteps=365000, episode_reward=-11.41 +/- 121.08\n"
            ]
          },
          "metadata": {},
          "output_type": "display_data"
        },
        {
          "data": {
            "text/html": [
              "<pre style=\"white-space:pre;overflow-x:auto;line-height:normal;font-family:Menlo,'DejaVu Sans Mono',consolas,'Courier New',monospace\">Episode length: 820.62 +/- 240.30\n",
              "</pre>\n"
            ],
            "text/plain": [
              "Episode length: 820.62 +/- 240.30\n"
            ]
          },
          "metadata": {},
          "output_type": "display_data"
        },
        {
          "data": {
            "text/html": [
              "<pre style=\"white-space:pre;overflow-x:auto;line-height:normal;font-family:Menlo,'DejaVu Sans Mono',consolas,'Courier New',monospace\">Eval num_timesteps=370000, episode_reward=-52.01 +/- 72.43\n",
              "</pre>\n"
            ],
            "text/plain": [
              "Eval num_timesteps=370000, episode_reward=-52.01 +/- 72.43\n"
            ]
          },
          "metadata": {},
          "output_type": "display_data"
        },
        {
          "data": {
            "text/html": [
              "<pre style=\"white-space:pre;overflow-x:auto;line-height:normal;font-family:Menlo,'DejaVu Sans Mono',consolas,'Courier New',monospace\">Episode length: 936.00 +/- 170.22\n",
              "</pre>\n"
            ],
            "text/plain": [
              "Episode length: 936.00 +/- 170.22\n"
            ]
          },
          "metadata": {},
          "output_type": "display_data"
        },
        {
          "data": {
            "text/html": [
              "<pre style=\"white-space:pre;overflow-x:auto;line-height:normal;font-family:Menlo,'DejaVu Sans Mono',consolas,'Courier New',monospace\">Eval num_timesteps=375000, episode_reward=-56.03 +/- 127.73\n",
              "</pre>\n"
            ],
            "text/plain": [
              "Eval num_timesteps=375000, episode_reward=-56.03 +/- 127.73\n"
            ]
          },
          "metadata": {},
          "output_type": "display_data"
        },
        {
          "data": {
            "text/html": [
              "<pre style=\"white-space:pre;overflow-x:auto;line-height:normal;font-family:Menlo,'DejaVu Sans Mono',consolas,'Courier New',monospace\">Episode length: 795.90 +/- 297.05\n",
              "</pre>\n"
            ],
            "text/plain": [
              "Episode length: 795.90 +/- 297.05\n"
            ]
          },
          "metadata": {},
          "output_type": "display_data"
        },
        {
          "data": {
            "text/html": [
              "<pre style=\"white-space:pre;overflow-x:auto;line-height:normal;font-family:Menlo,'DejaVu Sans Mono',consolas,'Courier New',monospace\">Eval num_timesteps=380000, episode_reward=-4.75 +/- 93.17\n",
              "</pre>\n"
            ],
            "text/plain": [
              "Eval num_timesteps=380000, episode_reward=-4.75 +/- 93.17\n"
            ]
          },
          "metadata": {},
          "output_type": "display_data"
        },
        {
          "data": {
            "text/html": [
              "<pre style=\"white-space:pre;overflow-x:auto;line-height:normal;font-family:Menlo,'DejaVu Sans Mono',consolas,'Courier New',monospace\">Episode length: 863.12 +/- 230.76\n",
              "</pre>\n"
            ],
            "text/plain": [
              "Episode length: 863.12 +/- 230.76\n"
            ]
          },
          "metadata": {},
          "output_type": "display_data"
        },
        {
          "data": {
            "text/html": [
              "<pre style=\"white-space:pre;overflow-x:auto;line-height:normal;font-family:Menlo,'DejaVu Sans Mono',consolas,'Courier New',monospace\">Eval num_timesteps=385000, episode_reward=0.34 +/- 100.78\n",
              "</pre>\n"
            ],
            "text/plain": [
              "Eval num_timesteps=385000, episode_reward=0.34 +/- 100.78\n"
            ]
          },
          "metadata": {},
          "output_type": "display_data"
        },
        {
          "data": {
            "text/html": [
              "<pre style=\"white-space:pre;overflow-x:auto;line-height:normal;font-family:Menlo,'DejaVu Sans Mono',consolas,'Courier New',monospace\">Episode length: 765.36 +/- 276.57\n",
              "</pre>\n"
            ],
            "text/plain": [
              "Episode length: 765.36 +/- 276.57\n"
            ]
          },
          "metadata": {},
          "output_type": "display_data"
        },
        {
          "data": {
            "text/html": [
              "<pre style=\"white-space:pre;overflow-x:auto;line-height:normal;font-family:Menlo,'DejaVu Sans Mono',consolas,'Courier New',monospace\">Eval num_timesteps=390000, episode_reward=-41.90 +/- 91.97\n",
              "</pre>\n"
            ],
            "text/plain": [
              "Eval num_timesteps=390000, episode_reward=-41.90 +/- 91.97\n"
            ]
          },
          "metadata": {},
          "output_type": "display_data"
        },
        {
          "data": {
            "text/html": [
              "<pre style=\"white-space:pre;overflow-x:auto;line-height:normal;font-family:Menlo,'DejaVu Sans Mono',consolas,'Courier New',monospace\">Episode length: 791.64 +/- 305.32\n",
              "</pre>\n"
            ],
            "text/plain": [
              "Episode length: 791.64 +/- 305.32\n"
            ]
          },
          "metadata": {},
          "output_type": "display_data"
        },
        {
          "data": {
            "text/html": [
              "<pre style=\"white-space:pre;overflow-x:auto;line-height:normal;font-family:Menlo,'DejaVu Sans Mono',consolas,'Courier New',monospace\">Eval num_timesteps=395000, episode_reward=-32.99 +/- 98.64\n",
              "</pre>\n"
            ],
            "text/plain": [
              "Eval num_timesteps=395000, episode_reward=-32.99 +/- 98.64\n"
            ]
          },
          "metadata": {},
          "output_type": "display_data"
        },
        {
          "data": {
            "text/html": [
              "<pre style=\"white-space:pre;overflow-x:auto;line-height:normal;font-family:Menlo,'DejaVu Sans Mono',consolas,'Courier New',monospace\">Episode length: 741.88 +/- 296.43\n",
              "</pre>\n"
            ],
            "text/plain": [
              "Episode length: 741.88 +/- 296.43\n"
            ]
          },
          "metadata": {},
          "output_type": "display_data"
        },
        {
          "data": {
            "text/html": [
              "<pre style=\"white-space:pre;overflow-x:auto;line-height:normal;font-family:Menlo,'DejaVu Sans Mono',consolas,'Courier New',monospace\">Eval num_timesteps=400000, episode_reward=12.00 +/- 93.46\n",
              "</pre>\n"
            ],
            "text/plain": [
              "Eval num_timesteps=400000, episode_reward=12.00 +/- 93.46\n"
            ]
          },
          "metadata": {},
          "output_type": "display_data"
        },
        {
          "data": {
            "text/html": [
              "<pre style=\"white-space:pre;overflow-x:auto;line-height:normal;font-family:Menlo,'DejaVu Sans Mono',consolas,'Courier New',monospace\">Episode length: 840.60 +/- 251.41\n",
              "</pre>\n"
            ],
            "text/plain": [
              "Episode length: 840.60 +/- 251.41\n"
            ]
          },
          "metadata": {},
          "output_type": "display_data"
        },
        {
          "data": {
            "text/html": [
              "<pre style=\"white-space:pre;overflow-x:auto;line-height:normal;font-family:Menlo,'DejaVu Sans Mono',consolas,'Courier New',monospace\">Eval num_timesteps=405000, episode_reward=-19.04 +/- 78.55\n",
              "</pre>\n"
            ],
            "text/plain": [
              "Eval num_timesteps=405000, episode_reward=-19.04 +/- 78.55\n"
            ]
          },
          "metadata": {},
          "output_type": "display_data"
        },
        {
          "data": {
            "text/html": [
              "<pre style=\"white-space:pre;overflow-x:auto;line-height:normal;font-family:Menlo,'DejaVu Sans Mono',consolas,'Courier New',monospace\">Episode length: 813.98 +/- 273.24\n",
              "</pre>\n"
            ],
            "text/plain": [
              "Episode length: 813.98 +/- 273.24\n"
            ]
          },
          "metadata": {},
          "output_type": "display_data"
        },
        {
          "data": {
            "text/html": [
              "<pre style=\"white-space:pre;overflow-x:auto;line-height:normal;font-family:Menlo,'DejaVu Sans Mono',consolas,'Courier New',monospace\">Eval num_timesteps=410000, episode_reward=-16.54 +/- 92.65\n",
              "</pre>\n"
            ],
            "text/plain": [
              "Eval num_timesteps=410000, episode_reward=-16.54 +/- 92.65\n"
            ]
          },
          "metadata": {},
          "output_type": "display_data"
        },
        {
          "data": {
            "text/html": [
              "<pre style=\"white-space:pre;overflow-x:auto;line-height:normal;font-family:Menlo,'DejaVu Sans Mono',consolas,'Courier New',monospace\">Episode length: 837.74 +/- 250.86\n",
              "</pre>\n"
            ],
            "text/plain": [
              "Episode length: 837.74 +/- 250.86\n"
            ]
          },
          "metadata": {},
          "output_type": "display_data"
        },
        {
          "data": {
            "text/html": [
              "<pre style=\"white-space:pre;overflow-x:auto;line-height:normal;font-family:Menlo,'DejaVu Sans Mono',consolas,'Courier New',monospace\">Eval num_timesteps=415000, episode_reward=27.14 +/- 97.99\n",
              "</pre>\n"
            ],
            "text/plain": [
              "Eval num_timesteps=415000, episode_reward=27.14 +/- 97.99\n"
            ]
          },
          "metadata": {},
          "output_type": "display_data"
        },
        {
          "data": {
            "text/html": [
              "<pre style=\"white-space:pre;overflow-x:auto;line-height:normal;font-family:Menlo,'DejaVu Sans Mono',consolas,'Courier New',monospace\">Episode length: 816.50 +/- 233.87\n",
              "</pre>\n"
            ],
            "text/plain": [
              "Episode length: 816.50 +/- 233.87\n"
            ]
          },
          "metadata": {},
          "output_type": "display_data"
        },
        {
          "data": {
            "text/html": [
              "<pre style=\"white-space:pre;overflow-x:auto;line-height:normal;font-family:Menlo,'DejaVu Sans Mono',consolas,'Courier New',monospace\">New best mean reward!\n",
              "</pre>\n"
            ],
            "text/plain": [
              "New best mean reward!\n"
            ]
          },
          "metadata": {},
          "output_type": "display_data"
        },
        {
          "data": {
            "text/html": [
              "<pre style=\"white-space:pre;overflow-x:auto;line-height:normal;font-family:Menlo,'DejaVu Sans Mono',consolas,'Courier New',monospace\">Eval num_timesteps=420000, episode_reward=-14.41 +/- 87.53\n",
              "</pre>\n"
            ],
            "text/plain": [
              "Eval num_timesteps=420000, episode_reward=-14.41 +/- 87.53\n"
            ]
          },
          "metadata": {},
          "output_type": "display_data"
        },
        {
          "data": {
            "text/html": [
              "<pre style=\"white-space:pre;overflow-x:auto;line-height:normal;font-family:Menlo,'DejaVu Sans Mono',consolas,'Courier New',monospace\">Episode length: 817.66 +/- 277.24\n",
              "</pre>\n"
            ],
            "text/plain": [
              "Episode length: 817.66 +/- 277.24\n"
            ]
          },
          "metadata": {},
          "output_type": "display_data"
        },
        {
          "data": {
            "text/html": [
              "<pre style=\"white-space:pre;overflow-x:auto;line-height:normal;font-family:Menlo,'DejaVu Sans Mono',consolas,'Courier New',monospace\">Eval num_timesteps=425000, episode_reward=-39.08 +/- 84.06\n",
              "</pre>\n"
            ],
            "text/plain": [
              "Eval num_timesteps=425000, episode_reward=-39.08 +/- 84.06\n"
            ]
          },
          "metadata": {},
          "output_type": "display_data"
        },
        {
          "data": {
            "text/html": [
              "<pre style=\"white-space:pre;overflow-x:auto;line-height:normal;font-family:Menlo,'DejaVu Sans Mono',consolas,'Courier New',monospace\">Episode length: 821.08 +/- 258.06\n",
              "</pre>\n"
            ],
            "text/plain": [
              "Episode length: 821.08 +/- 258.06\n"
            ]
          },
          "metadata": {},
          "output_type": "display_data"
        },
        {
          "data": {
            "text/html": [
              "<pre style=\"white-space:pre;overflow-x:auto;line-height:normal;font-family:Menlo,'DejaVu Sans Mono',consolas,'Courier New',monospace\">Eval num_timesteps=430000, episode_reward=-28.03 +/- 86.80\n",
              "</pre>\n"
            ],
            "text/plain": [
              "Eval num_timesteps=430000, episode_reward=-28.03 +/- 86.80\n"
            ]
          },
          "metadata": {},
          "output_type": "display_data"
        },
        {
          "data": {
            "text/html": [
              "<pre style=\"white-space:pre;overflow-x:auto;line-height:normal;font-family:Menlo,'DejaVu Sans Mono',consolas,'Courier New',monospace\">Episode length: 707.76 +/- 323.34\n",
              "</pre>\n"
            ],
            "text/plain": [
              "Episode length: 707.76 +/- 323.34\n"
            ]
          },
          "metadata": {},
          "output_type": "display_data"
        },
        {
          "data": {
            "text/html": [
              "<pre style=\"white-space:pre;overflow-x:auto;line-height:normal;font-family:Menlo,'DejaVu Sans Mono',consolas,'Courier New',monospace\">Eval num_timesteps=435000, episode_reward=-29.67 +/- 71.79\n",
              "</pre>\n"
            ],
            "text/plain": [
              "Eval num_timesteps=435000, episode_reward=-29.67 +/- 71.79\n"
            ]
          },
          "metadata": {},
          "output_type": "display_data"
        },
        {
          "data": {
            "text/html": [
              "<pre style=\"white-space:pre;overflow-x:auto;line-height:normal;font-family:Menlo,'DejaVu Sans Mono',consolas,'Courier New',monospace\">Episode length: 799.80 +/- 289.06\n",
              "</pre>\n"
            ],
            "text/plain": [
              "Episode length: 799.80 +/- 289.06\n"
            ]
          },
          "metadata": {},
          "output_type": "display_data"
        },
        {
          "data": {
            "text/html": [
              "<pre style=\"white-space:pre;overflow-x:auto;line-height:normal;font-family:Menlo,'DejaVu Sans Mono',consolas,'Courier New',monospace\">Eval num_timesteps=440000, episode_reward=-23.33 +/- 83.52\n",
              "</pre>\n"
            ],
            "text/plain": [
              "Eval num_timesteps=440000, episode_reward=-23.33 +/- 83.52\n"
            ]
          },
          "metadata": {},
          "output_type": "display_data"
        },
        {
          "data": {
            "text/html": [
              "<pre style=\"white-space:pre;overflow-x:auto;line-height:normal;font-family:Menlo,'DejaVu Sans Mono',consolas,'Courier New',monospace\">Episode length: 800.92 +/- 269.14\n",
              "</pre>\n"
            ],
            "text/plain": [
              "Episode length: 800.92 +/- 269.14\n"
            ]
          },
          "metadata": {},
          "output_type": "display_data"
        },
        {
          "data": {
            "text/html": [
              "<pre style=\"white-space:pre;overflow-x:auto;line-height:normal;font-family:Menlo,'DejaVu Sans Mono',consolas,'Courier New',monospace\">Eval num_timesteps=445000, episode_reward=-47.88 +/- 52.28\n",
              "</pre>\n"
            ],
            "text/plain": [
              "Eval num_timesteps=445000, episode_reward=-47.88 +/- 52.28\n"
            ]
          },
          "metadata": {},
          "output_type": "display_data"
        },
        {
          "data": {
            "text/html": [
              "<pre style=\"white-space:pre;overflow-x:auto;line-height:normal;font-family:Menlo,'DejaVu Sans Mono',consolas,'Courier New',monospace\">Episode length: 869.56 +/- 247.45\n",
              "</pre>\n"
            ],
            "text/plain": [
              "Episode length: 869.56 +/- 247.45\n"
            ]
          },
          "metadata": {},
          "output_type": "display_data"
        },
        {
          "data": {
            "text/html": [
              "<pre style=\"white-space:pre;overflow-x:auto;line-height:normal;font-family:Menlo,'DejaVu Sans Mono',consolas,'Courier New',monospace\">Eval num_timesteps=450000, episode_reward=-56.17 +/- 75.71\n",
              "</pre>\n"
            ],
            "text/plain": [
              "Eval num_timesteps=450000, episode_reward=-56.17 +/- 75.71\n"
            ]
          },
          "metadata": {},
          "output_type": "display_data"
        },
        {
          "data": {
            "text/html": [
              "<pre style=\"white-space:pre;overflow-x:auto;line-height:normal;font-family:Menlo,'DejaVu Sans Mono',consolas,'Courier New',monospace\">Episode length: 902.42 +/- 189.73\n",
              "</pre>\n"
            ],
            "text/plain": [
              "Episode length: 902.42 +/- 189.73\n"
            ]
          },
          "metadata": {},
          "output_type": "display_data"
        },
        {
          "data": {
            "text/html": [
              "<pre style=\"white-space:pre;overflow-x:auto;line-height:normal;font-family:Menlo,'DejaVu Sans Mono',consolas,'Courier New',monospace\">Eval num_timesteps=455000, episode_reward=-47.88 +/- 37.33\n",
              "</pre>\n"
            ],
            "text/plain": [
              "Eval num_timesteps=455000, episode_reward=-47.88 +/- 37.33\n"
            ]
          },
          "metadata": {},
          "output_type": "display_data"
        },
        {
          "data": {
            "text/html": [
              "<pre style=\"white-space:pre;overflow-x:auto;line-height:normal;font-family:Menlo,'DejaVu Sans Mono',consolas,'Courier New',monospace\">Episode length: 998.82 +/- 8.26\n",
              "</pre>\n"
            ],
            "text/plain": [
              "Episode length: 998.82 +/- 8.26\n"
            ]
          },
          "metadata": {},
          "output_type": "display_data"
        },
        {
          "data": {
            "text/html": [
              "<pre style=\"white-space:pre;overflow-x:auto;line-height:normal;font-family:Menlo,'DejaVu Sans Mono',consolas,'Courier New',monospace\">Eval num_timesteps=460000, episode_reward=-27.79 +/- 66.17\n",
              "</pre>\n"
            ],
            "text/plain": [
              "Eval num_timesteps=460000, episode_reward=-27.79 +/- 66.17\n"
            ]
          },
          "metadata": {},
          "output_type": "display_data"
        },
        {
          "data": {
            "text/html": [
              "<pre style=\"white-space:pre;overflow-x:auto;line-height:normal;font-family:Menlo,'DejaVu Sans Mono',consolas,'Courier New',monospace\">Episode length: 947.56 +/- 185.46\n",
              "</pre>\n"
            ],
            "text/plain": [
              "Episode length: 947.56 +/- 185.46\n"
            ]
          },
          "metadata": {},
          "output_type": "display_data"
        },
        {
          "data": {
            "text/html": [
              "<pre style=\"white-space:pre;overflow-x:auto;line-height:normal;font-family:Menlo,'DejaVu Sans Mono',consolas,'Courier New',monospace\">Eval num_timesteps=465000, episode_reward=-18.42 +/- 59.92\n",
              "</pre>\n"
            ],
            "text/plain": [
              "Eval num_timesteps=465000, episode_reward=-18.42 +/- 59.92\n"
            ]
          },
          "metadata": {},
          "output_type": "display_data"
        },
        {
          "data": {
            "text/html": [
              "<pre style=\"white-space:pre;overflow-x:auto;line-height:normal;font-family:Menlo,'DejaVu Sans Mono',consolas,'Courier New',monospace\">Episode length: 982.28 +/- 69.62\n",
              "</pre>\n"
            ],
            "text/plain": [
              "Episode length: 982.28 +/- 69.62\n"
            ]
          },
          "metadata": {},
          "output_type": "display_data"
        },
        {
          "data": {
            "text/html": [
              "<pre style=\"white-space:pre;overflow-x:auto;line-height:normal;font-family:Menlo,'DejaVu Sans Mono',consolas,'Courier New',monospace\">Eval num_timesteps=470000, episode_reward=1.17 +/- 88.22\n",
              "</pre>\n"
            ],
            "text/plain": [
              "Eval num_timesteps=470000, episode_reward=1.17 +/- 88.22\n"
            ]
          },
          "metadata": {},
          "output_type": "display_data"
        },
        {
          "data": {
            "text/html": [
              "<pre style=\"white-space:pre;overflow-x:auto;line-height:normal;font-family:Menlo,'DejaVu Sans Mono',consolas,'Courier New',monospace\">Episode length: 943.82 +/- 149.82\n",
              "</pre>\n"
            ],
            "text/plain": [
              "Episode length: 943.82 +/- 149.82\n"
            ]
          },
          "metadata": {},
          "output_type": "display_data"
        },
        {
          "data": {
            "text/html": [
              "<pre style=\"white-space:pre;overflow-x:auto;line-height:normal;font-family:Menlo,'DejaVu Sans Mono',consolas,'Courier New',monospace\">Eval num_timesteps=475000, episode_reward=-22.85 +/- 150.33\n",
              "</pre>\n"
            ],
            "text/plain": [
              "Eval num_timesteps=475000, episode_reward=-22.85 +/- 150.33\n"
            ]
          },
          "metadata": {},
          "output_type": "display_data"
        },
        {
          "data": {
            "text/html": [
              "<pre style=\"white-space:pre;overflow-x:auto;line-height:normal;font-family:Menlo,'DejaVu Sans Mono',consolas,'Courier New',monospace\">Episode length: 924.70 +/- 179.68\n",
              "</pre>\n"
            ],
            "text/plain": [
              "Episode length: 924.70 +/- 179.68\n"
            ]
          },
          "metadata": {},
          "output_type": "display_data"
        },
        {
          "data": {
            "text/html": [
              "<pre style=\"white-space:pre;overflow-x:auto;line-height:normal;font-family:Menlo,'DejaVu Sans Mono',consolas,'Courier New',monospace\">Eval num_timesteps=480000, episode_reward=27.22 +/- 104.80\n",
              "</pre>\n"
            ],
            "text/plain": [
              "Eval num_timesteps=480000, episode_reward=27.22 +/- 104.80\n"
            ]
          },
          "metadata": {},
          "output_type": "display_data"
        },
        {
          "data": {
            "text/html": [
              "<pre style=\"white-space:pre;overflow-x:auto;line-height:normal;font-family:Menlo,'DejaVu Sans Mono',consolas,'Courier New',monospace\">Episode length: 907.74 +/- 187.46\n",
              "</pre>\n"
            ],
            "text/plain": [
              "Episode length: 907.74 +/- 187.46\n"
            ]
          },
          "metadata": {},
          "output_type": "display_data"
        },
        {
          "data": {
            "text/html": [
              "<pre style=\"white-space:pre;overflow-x:auto;line-height:normal;font-family:Menlo,'DejaVu Sans Mono',consolas,'Courier New',monospace\">New best mean reward!\n",
              "</pre>\n"
            ],
            "text/plain": [
              "New best mean reward!\n"
            ]
          },
          "metadata": {},
          "output_type": "display_data"
        },
        {
          "data": {
            "text/html": [
              "<pre style=\"white-space:pre;overflow-x:auto;line-height:normal;font-family:Menlo,'DejaVu Sans Mono',consolas,'Courier New',monospace\">Eval num_timesteps=485000, episode_reward=14.64 +/- 100.18\n",
              "</pre>\n"
            ],
            "text/plain": [
              "Eval num_timesteps=485000, episode_reward=14.64 +/- 100.18\n"
            ]
          },
          "metadata": {},
          "output_type": "display_data"
        },
        {
          "data": {
            "text/html": [
              "<pre style=\"white-space:pre;overflow-x:auto;line-height:normal;font-family:Menlo,'DejaVu Sans Mono',consolas,'Courier New',monospace\">Episode length: 928.64 +/- 147.97\n",
              "</pre>\n"
            ],
            "text/plain": [
              "Episode length: 928.64 +/- 147.97\n"
            ]
          },
          "metadata": {},
          "output_type": "display_data"
        },
        {
          "data": {
            "text/html": [
              "<pre style=\"white-space:pre;overflow-x:auto;line-height:normal;font-family:Menlo,'DejaVu Sans Mono',consolas,'Courier New',monospace\">Eval num_timesteps=490000, episode_reward=25.67 +/- 100.95\n",
              "</pre>\n"
            ],
            "text/plain": [
              "Eval num_timesteps=490000, episode_reward=25.67 +/- 100.95\n"
            ]
          },
          "metadata": {},
          "output_type": "display_data"
        },
        {
          "data": {
            "text/html": [
              "<pre style=\"white-space:pre;overflow-x:auto;line-height:normal;font-family:Menlo,'DejaVu Sans Mono',consolas,'Courier New',monospace\">Episode length: 906.76 +/- 185.15\n",
              "</pre>\n"
            ],
            "text/plain": [
              "Episode length: 906.76 +/- 185.15\n"
            ]
          },
          "metadata": {},
          "output_type": "display_data"
        },
        {
          "data": {
            "text/html": [
              "<pre style=\"white-space:pre;overflow-x:auto;line-height:normal;font-family:Menlo,'DejaVu Sans Mono',consolas,'Courier New',monospace\">Eval num_timesteps=495000, episode_reward=28.55 +/- 101.67\n",
              "</pre>\n"
            ],
            "text/plain": [
              "Eval num_timesteps=495000, episode_reward=28.55 +/- 101.67\n"
            ]
          },
          "metadata": {},
          "output_type": "display_data"
        },
        {
          "data": {
            "text/html": [
              "<pre style=\"white-space:pre;overflow-x:auto;line-height:normal;font-family:Menlo,'DejaVu Sans Mono',consolas,'Courier New',monospace\">Episode length: 968.68 +/- 81.39\n",
              "</pre>\n"
            ],
            "text/plain": [
              "Episode length: 968.68 +/- 81.39\n"
            ]
          },
          "metadata": {},
          "output_type": "display_data"
        },
        {
          "data": {
            "text/html": [
              "<pre style=\"white-space:pre;overflow-x:auto;line-height:normal;font-family:Menlo,'DejaVu Sans Mono',consolas,'Courier New',monospace\">New best mean reward!\n",
              "</pre>\n"
            ],
            "text/plain": [
              "New best mean reward!\n"
            ]
          },
          "metadata": {},
          "output_type": "display_data"
        },
        {
          "data": {
            "text/html": [
              "<pre style=\"white-space:pre;overflow-x:auto;line-height:normal;font-family:Menlo,'DejaVu Sans Mono',consolas,'Courier New',monospace\">Eval num_timesteps=500000, episode_reward=79.93 +/- 117.67\n",
              "</pre>\n"
            ],
            "text/plain": [
              "Eval num_timesteps=500000, episode_reward=79.93 +/- 117.67\n"
            ]
          },
          "metadata": {},
          "output_type": "display_data"
        },
        {
          "data": {
            "text/html": [
              "<pre style=\"white-space:pre;overflow-x:auto;line-height:normal;font-family:Menlo,'DejaVu Sans Mono',consolas,'Courier New',monospace\">Episode length: 827.44 +/- 209.77\n",
              "</pre>\n"
            ],
            "text/plain": [
              "Episode length: 827.44 +/- 209.77\n"
            ]
          },
          "metadata": {},
          "output_type": "display_data"
        },
        {
          "data": {
            "text/html": [
              "<pre style=\"white-space:pre;overflow-x:auto;line-height:normal;font-family:Menlo,'DejaVu Sans Mono',consolas,'Courier New',monospace\">New best mean reward!\n",
              "</pre>\n"
            ],
            "text/plain": [
              "New best mean reward!\n"
            ]
          },
          "metadata": {},
          "output_type": "display_data"
        },
        {
          "data": {
            "text/html": [
              "<pre style=\"white-space:pre;overflow-x:auto;line-height:normal;font-family:Menlo,'DejaVu Sans Mono',consolas,'Courier New',monospace\"></pre>\n"
            ],
            "text/plain": []
          },
          "metadata": {},
          "output_type": "display_data"
        },
        {
          "data": {
            "text/plain": [
              "<stable_baselines3.dqn.dqn.DQN at 0x731f337746e0>"
            ]
          },
          "execution_count": 5,
          "metadata": {},
          "output_type": "execute_result"
        }
      ],
      "source": [
        "# Train model on the environment\n",
        "TRAINING_TIMESTEPS = 500_000\n",
        "model.learn(total_timesteps=TRAINING_TIMESTEPS, callback=[eval_callback, ProgressBarCallback()])"
      ]
    },
    {
      "cell_type": "code",
      "execution_count": 8,
      "metadata": {},
      "outputs": [
        {
          "name": "stderr",
          "output_type": "stream",
          "text": [
            "/home/javier/.cache/pypoetry/virtualenvs/deep-reinforcement-learning-gymnasium-u3px5S1O-py3.13/lib/python3.13/site-packages/stable_baselines3/common/evaluation.py:67: UserWarning: Evaluation environment is not wrapped with a ``Monitor`` wrapper. This may result in reporting modified episode lengths and rewards, if other wrappers happen to modify these. Consider wrapping environment first with ``Monitor`` wrapper.\n",
            "  warnings.warn(\n"
          ]
        },
        {
          "name": "stdout",
          "output_type": "stream",
          "text": [
            "Mean reward: 61.793368881047876 +/- 111.3635365411911\n"
          ]
        }
      ],
      "source": [
        "mean_reward, std_reward = evaluate_policy(model, env, n_eval_episodes=50)\n",
        "print(f\"Mean reward: {mean_reward} +/- {std_reward}\")"
      ]
    },
    {
      "cell_type": "code",
      "execution_count": 6,
      "metadata": {
        "colab": {
          "base_uri": "https://localhost:8080/",
          "height": 211
        },
        "id": "6bSCsyCOYbVW",
        "outputId": "ee81a478-36d3-4245-8d0d-058e6e0a4693"
      },
      "outputs": [
        {
          "name": "stdout",
          "output_type": "stream",
          "text": [
            "Episode finished after 1000 steps (truncated)\n",
            "Final Step: 1000\n",
            "Number of Frames: 1000\n"
          ]
        }
      ],
      "source": [
        "MAX_STEPS = 1_000\n",
        "\n",
        "observation, info = env.reset(seed=42)\n",
        "frames = []\n",
        "step_count = 0\n",
        "\n",
        "# for step in range(MAX_STEPS):\n",
        "while True:\n",
        "    frame = env.render()\n",
        "    frames.append(frame)\n",
        "\n",
        "    action, _ = model.predict(observation, deterministic=True)\n",
        "    observation, reward, terminated, truncated, info = env.step(action)\n",
        "    step_count += 1\n",
        "\n",
        "    if terminated or truncated:\n",
        "        print(f\"Episode finished after {step_count} steps ({\"truncated\" if truncated else \"terminated\"})\")\n",
        "        break\n",
        "\n",
        "env.close()\n",
        "\n",
        "print(f\"Final Step: {step_count}\")\n",
        "print(f\"Number of Frames: {len(frames)}\")"
      ]
    },
    {
      "cell_type": "code",
      "execution_count": 7,
      "metadata": {
        "id": "SAvZXQ3UKiF8"
      },
      "outputs": [
        {
          "name": "stdout",
          "output_type": "stream",
          "text": [
            "Video guardado como ../videos/lunarlander_dqn.mp4\n"
          ]
        },
        {
          "name": "stderr",
          "output_type": "stream",
          "text": [
            "rm: cannot remove '../videos/lunarlander_dqn_compressed.mp4': No such file or directory\n",
            "ffmpeg version n7.1 Copyright (c) 2000-2024 the FFmpeg developers\n",
            "  built with gcc 14.2.1 (GCC) 20250207\n",
            "  configuration: --prefix=/usr --disable-debug --disable-static --disable-stripping --enable-amf --enable-avisynth --enable-cuda-llvm --enable-lto --enable-fontconfig --enable-frei0r --enable-gmp --enable-gnutls --enable-gpl --enable-ladspa --enable-libaom --enable-libass --enable-libbluray --enable-libbs2b --enable-libdav1d --enable-libdrm --enable-libdvdnav --enable-libdvdread --enable-libfreetype --enable-libfribidi --enable-libglslang --enable-libgsm --enable-libharfbuzz --enable-libiec61883 --enable-libjack --enable-libjxl --enable-libmodplug --enable-libmp3lame --enable-libopencore_amrnb --enable-libopencore_amrwb --enable-libopenjpeg --enable-libopenmpt --enable-libopus --enable-libplacebo --enable-libpulse --enable-librav1e --enable-librsvg --enable-librubberband --enable-libsnappy --enable-libsoxr --enable-libspeex --enable-libsrt --enable-libssh --enable-libsvtav1 --enable-libtheora --enable-libv4l2 --enable-libvidstab --enable-libvmaf --enable-libvorbis --enable-libvpl --enable-libvpx --enable-libwebp --enable-libx264 --enable-libx265 --enable-libxcb --enable-libxml2 --enable-libxvid --enable-libzimg --enable-libzmq --enable-nvdec --enable-nvenc --enable-opencl --enable-opengl --enable-shared --enable-vapoursynth --enable-version3 --enable-vulkan\n",
            "  libavutil      59. 39.100 / 59. 39.100\n",
            "  libavcodec     61. 19.100 / 61. 19.100\n",
            "  libavformat    61.  7.100 / 61.  7.100\n",
            "  libavdevice    61.  3.100 / 61.  3.100\n",
            "  libavfilter    10.  4.100 / 10.  4.100\n",
            "  libswscale      8.  3.100 /  8.  3.100\n",
            "  libswresample   5.  3.100 /  5.  3.100\n",
            "  libpostproc    58.  3.100 / 58.  3.100\n",
            "Input #0, mov,mp4,m4a,3gp,3g2,mj2, from '../videos/lunarlander_dqn.mp4':\n",
            "  Metadata:\n",
            "    major_brand     : isom\n",
            "    minor_version   : 512\n",
            "    compatible_brands: isomiso2mp41\n",
            "    encoder         : Lavf59.27.100\n",
            "  Duration: 00:00:33.33, start: 0.000000, bitrate: 318 kb/s\n",
            "  Stream #0:0[0x1](und): Video: mpeg4 (Simple Profile) (mp4v / 0x7634706D), yuv420p, 600x400 [SAR 1:1 DAR 3:2], 317 kb/s, 30 fps, 30 tbr, 15360 tbn (default)\n",
            "      Metadata:\n",
            "        handler_name    : VideoHandler\n",
            "        vendor_id       : [0][0][0][0]\n",
            "Stream mapping:\n",
            "  Stream #0:0 -> #0:0 (mpeg4 (native) -> h264 (libx264))\n",
            "Press [q] to stop, [?] for help\n",
            "[libx264 @ 0x58bc1c324c00] using SAR=1/1\n",
            "[libx264 @ 0x58bc1c324c00] using cpu capabilities: MMX2 SSE2Fast SSSE3 SSE4.2 AVX FMA3 BMI2 AVX2\n",
            "[libx264 @ 0x58bc1c324c00] profile High, level 3.0, 4:2:0, 8-bit\n",
            "[libx264 @ 0x58bc1c324c00] 264 - core 164 r3108 31e19f9 - H.264/MPEG-4 AVC codec - Copyleft 2003-2023 - http://www.videolan.org/x264.html - options: cabac=1 ref=3 deblock=1:0:0 analyse=0x3:0x113 me=hex subme=7 psy=1 psy_rd=1.00:0.00 mixed_ref=1 me_range=16 chroma_me=1 trellis=1 8x8dct=1 cqm=0 deadzone=21,11 fast_pskip=1 chroma_qp_offset=-2 threads=12 lookahead_threads=2 sliced_threads=0 nr=0 decimate=1 interlaced=0 bluray_compat=0 constrained_intra=0 bframes=3 b_pyramid=2 b_adapt=1 b_bias=0 direct=1 weightb=1 open_gop=0 weightp=2 keyint=250 keyint_min=25 scenecut=40 intra_refresh=0 rc_lookahead=40 rc=crf mbtree=1 crf=23.0 qcomp=0.60 qpmin=0 qpmax=69 qpstep=4 ip_ratio=1.40 aq=1:1.00\n",
            "Output #0, mp4, to '../videos/lunarlander_dqn_compressed.mp4':\n",
            "  Metadata:\n",
            "    major_brand     : isom\n",
            "    minor_version   : 512\n",
            "    compatible_brands: isomiso2mp41\n",
            "    encoder         : Lavf61.7.100\n",
            "  Stream #0:0(und): Video: h264 (avc1 / 0x31637661), yuv420p(tv, progressive), 600x400 [SAR 1:1 DAR 3:2], q=2-31, 30 fps, 15360 tbn (default)\n",
            "      Metadata:\n",
            "        handler_name    : VideoHandler\n",
            "        vendor_id       : [0][0][0][0]\n",
            "        encoder         : Lavc61.19.100 libx264\n",
            "      Side data:\n",
            "        cpb: bitrate max/min/avg: 0/0/0 buffer size: 0 vbv_delay: N/A\n",
            "[out#0/mp4 @ 0x58bc1c338f40] video:200KiB audio:0KiB subtitle:0KiB other streams:0KiB global headers:0KiB muxing overhead: 6.265327%\n",
            "frame= 1000 fps=0.0 q=-1.0 Lsize=     212KiB time=00:00:33.26 bitrate=  52.2kbits/s speed=94.4x    \n",
            "[libx264 @ 0x58bc1c324c00] frame I:4     Avg QP: 8.58  size:  2492\n",
            "[libx264 @ 0x58bc1c324c00] frame P:261   Avg QP:19.38  size:   312\n",
            "[libx264 @ 0x58bc1c324c00] frame B:735   Avg QP:23.65  size:   153\n",
            "[libx264 @ 0x58bc1c324c00] consecutive B-frames:  0.9%  2.2%  3.3% 93.6%\n",
            "[libx264 @ 0x58bc1c324c00] mb I  I16..4: 79.5% 14.6%  5.9%\n",
            "[libx264 @ 0x58bc1c324c00] mb P  I16..4:  0.3%  0.8%  0.3%  P16..4:  1.7%  0.5%  0.2%  0.0%  0.0%    skip:96.3%\n",
            "[libx264 @ 0x58bc1c324c00] mb B  I16..4:  0.1%  0.1%  0.1%  B16..8:  2.8%  0.2%  0.0%  direct: 0.1%  skip:96.5%  L0:55.2% L1:43.7% BI: 1.1%\n",
            "[libx264 @ 0x58bc1c324c00] 8x8 transform intra:36.8% inter:18.9%\n",
            "[libx264 @ 0x58bc1c324c00] coded y,uvDC,uvAC intra: 9.5% 24.1% 21.4% inter: 0.2% 0.5% 0.3%\n",
            "[libx264 @ 0x58bc1c324c00] i16 v,h,dc,p: 80% 15%  5%  0%\n",
            "[libx264 @ 0x58bc1c324c00] i8 v,h,dc,ddl,ddr,vr,hd,vl,hu:  9% 10% 81%  0%  0%  0%  0%  0%  0%\n",
            "[libx264 @ 0x58bc1c324c00] i4 v,h,dc,ddl,ddr,vr,hd,vl,hu: 13% 13% 63%  2%  2%  1%  2%  1%  1%\n",
            "[libx264 @ 0x58bc1c324c00] i8c dc,h,v,p: 81% 12%  6%  0%\n",
            "[libx264 @ 0x58bc1c324c00] Weighted P-Frames: Y:0.0% UV:0.0%\n",
            "[libx264 @ 0x58bc1c324c00] ref P L0: 61.1%  1.9% 22.1% 14.9%\n",
            "[libx264 @ 0x58bc1c324c00] ref B L0: 70.4% 25.6%  4.0%\n",
            "[libx264 @ 0x58bc1c324c00] ref B L1: 92.2%  7.8%\n",
            "[libx264 @ 0x58bc1c324c00] kb/s:48.87\n"
          ]
        },
        {
          "data": {
            "text/html": [
              "\n",
              "<video width=800 controls>\n",
              "      <source src=\"data:video/mp4;base64,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\" type=\"video/mp4\">\n",
              "</video>"
            ],
            "text/plain": [
              "<IPython.core.display.HTML object>"
            ]
          },
          "execution_count": 7,
          "metadata": {},
          "output_type": "execute_result"
        }
      ],
      "source": [
        "from IPython.display import HTML\n",
        "from base64 import b64encode\n",
        "import os\n",
        "\n",
        "# Create a video from the frames\n",
        "video_filename = \"../videos/lunarlander_dqn.mp4\"\n",
        "compressed_path = \"../videos/lunarlander_dqn_compressed.mp4\"\n",
        "height, width, _ = frames[0].shape\n",
        "\n",
        "fourcc = cv2.VideoWriter_fourcc(*\"mp4v\")\n",
        "video = cv2.VideoWriter(video_filename, fourcc, 30.0, (width, height))\n",
        "\n",
        "for frame in frames:\n",
        "    video.write(\n",
        "        cv2.cvtColor(frame, cv2.COLOR_RGB2BGR)\n",
        "    )\n",
        "video.release()\n",
        "\n",
        "print(f\"Video guardado como {video_filename}\")\n",
        "\n",
        "os.system(f\"rm {compressed_path}\")\n",
        "# Compressed video path\n",
        "os.system(f\"ffmpeg -i {video_filename} -vcodec libx264 {compressed_path}\")\n",
        "os.system(f\"rm {video_filename}\")\n",
        "os.system(f\"mv {compressed_path} {video_filename}\")\n",
        "\n",
        "# Show video\n",
        "mp4 = open(video_filename, \"rb\").read()\n",
        "data_url = \"data:video/mp4;base64,\" + b64encode(mp4).decode()\n",
        "HTML(\n",
        "    \"\"\"\n",
        "<video width=800 controls>\n",
        "      <source src=\"%s\" type=\"video/mp4\">\n",
        "</video>\"\"\"\n",
        "    % data_url\n",
        ")"
      ]
    }
  ],
  "metadata": {
    "accelerator": "GPU",
    "colab": {
      "gpuType": "T4",
      "provenance": []
    },
    "kernelspec": {
      "display_name": "deep-reinforcement-learning-gymnasium-u3px5S1O-py3.13",
      "language": "python",
      "name": "python3"
    },
    "language_info": {
      "codemirror_mode": {
        "name": "ipython",
        "version": 3
      },
      "file_extension": ".py",
      "mimetype": "text/x-python",
      "name": "python",
      "nbconvert_exporter": "python",
      "pygments_lexer": "ipython3",
      "version": "3.13.3"
    }
  },
  "nbformat": 4,
  "nbformat_minor": 0
}
