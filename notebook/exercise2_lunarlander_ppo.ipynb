{
  "cells": [
    {
      "cell_type": "code",
      "execution_count": 1,
      "metadata": {
        "id": "OBCPdFloZEXO"
      },
      "outputs": [],
      "source": [
        "import gymnasium as gym\n",
        "import cv2\n",
        "import numpy as np\n",
        "import pandas as pd\n",
        "import matplotlib.pyplot as plt\n",
        "\n",
        "from stable_baselines3 import DQN, PPO\n",
        "from stable_baselines3.common.monitor import Monitor\n",
        "from stable_baselines3.common.vec_env import DummyVecEnv, VecMonitor\n",
        "from stable_baselines3.common.callbacks import (\n",
        "    EvalCallback,\n",
        "    StopTrainingOnRewardThreshold,\n",
        "    BaseCallback,\n",
        ")\n",
        "from stable_baselines3.common.callbacks import ProgressBarCallback\n",
        "from stable_baselines3.common.evaluation import evaluate_policy"
      ]
    },
    {
      "cell_type": "code",
      "execution_count": 2,
      "metadata": {},
      "outputs": [],
      "source": [
        "# Create the LunarLander-v3 environment\n",
        "env = gym.make(\n",
        "    \"LunarLander-v3\",\n",
        "    # continuous=False,\n",
        "    # gravity=-10.0,\n",
        "    # enable_wind=False,\n",
        "    # wind_power=15.0,\n",
        "    # turbulence_power=1.5,\n",
        "    render_mode=\"rgb_array\",\n",
        ")"
      ]
    },
    {
      "cell_type": "code",
      "execution_count": 3,
      "metadata": {},
      "outputs": [],
      "source": [
        "stop_callback = StopTrainingOnRewardThreshold(reward_threshold=200, verbose=1)\n",
        "\n",
        "eval_callback = EvalCallback(\n",
        "    env,\n",
        "    best_model_save_path=\"../logs/exercise_2/ppo/\",\n",
        "    log_path=\"../logs/exercise_2/ppo/\",\n",
        "    eval_freq=5_000,\n",
        "    deterministic=True,\n",
        "    render=False,\n",
        "    n_eval_episodes=50,\n",
        "    callback_on_new_best=stop_callback,\n",
        ")"
      ]
    },
    {
      "cell_type": "code",
      "execution_count": 4,
      "metadata": {
        "colab": {
          "base_uri": "https://localhost:8080/"
        },
        "id": "YU8nrDkrVCGw",
        "outputId": "e7875497-4d2d-4c7c-986c-d10d5316e8b5"
      },
      "outputs": [],
      "source": [
        "# Create PPO model\n",
        "model = PPO(\n",
        "    \"MlpPolicy\",\n",
        "    env,\n",
        "    learning_rate=0.0007966338872579695,\n",
        "    n_steps=128,\n",
        "    gamma=0.9759267686819444,\n",
        "    policy_kwargs=dict(net_arch=dict(pi=[256], vf=[256])),\n",
        "    seed=42,\n",
        "    verbose=0,\n",
        "    tensorboard_log=\"../logs/exercise_2/ppo/ppo_tensorboard/\",\n",
        "    device=\"cpu\",\n",
        ")"
      ]
    },
    {
      "cell_type": "code",
      "execution_count": 5,
      "metadata": {
        "colab": {
          "base_uri": "https://localhost:8080/"
        },
        "id": "4Jy6O6s1ZusN",
        "outputId": "7631a5ee-d701-4312-c497-4b6ad3363806"
      },
      "outputs": [
        {
          "data": {
            "application/vnd.jupyter.widget-view+json": {
              "model_id": "6e9b4a04f3a84e208ad0ddd3d3118837",
              "version_major": 2,
              "version_minor": 0
            },
            "text/plain": [
              "Output()"
            ]
          },
          "metadata": {},
          "output_type": "display_data"
        },
        {
          "data": {
            "text/html": [
              "<pre style=\"white-space:pre;overflow-x:auto;line-height:normal;font-family:Menlo,'DejaVu Sans Mono',consolas,'Courier New',monospace\">/home/javier/.cache/pypoetry/virtualenvs/deep-reinforcement-learning-gymnasium-u3px5S1O-py3.13/lib/python3.13/site-\n",
              "packages/stable_baselines3/common/evaluation.py:67: UserWarning: Evaluation environment is not wrapped with a \n",
              "``Monitor`` wrapper. This may result in reporting modified episode lengths and rewards, if other wrappers happen to\n",
              "modify these. Consider wrapping environment first with ``Monitor`` wrapper.\n",
              "  warnings.warn(\n",
              "</pre>\n"
            ],
            "text/plain": [
              "/home/javier/.cache/pypoetry/virtualenvs/deep-reinforcement-learning-gymnasium-u3px5S1O-py3.13/lib/python3.13/site-\n",
              "packages/stable_baselines3/common/evaluation.py:67: UserWarning: Evaluation environment is not wrapped with a \n",
              "``Monitor`` wrapper. This may result in reporting modified episode lengths and rewards, if other wrappers happen to\n",
              "modify these. Consider wrapping environment first with ``Monitor`` wrapper.\n",
              "  warnings.warn(\n"
            ]
          },
          "metadata": {},
          "output_type": "display_data"
        },
        {
          "data": {
            "text/html": [
              "<pre style=\"white-space:pre;overflow-x:auto;line-height:normal;font-family:Menlo,'DejaVu Sans Mono',consolas,'Courier New',monospace\">Eval num_timesteps=5000, episode_reward=-484.24 +/- 120.37\n",
              "</pre>\n"
            ],
            "text/plain": [
              "Eval num_timesteps=5000, episode_reward=-484.24 +/- 120.37\n"
            ]
          },
          "metadata": {},
          "output_type": "display_data"
        },
        {
          "data": {
            "text/html": [
              "<pre style=\"white-space:pre;overflow-x:auto;line-height:normal;font-family:Menlo,'DejaVu Sans Mono',consolas,'Courier New',monospace\">Episode length: 170.48 +/- 81.20\n",
              "</pre>\n"
            ],
            "text/plain": [
              "Episode length: 170.48 +/- 81.20\n"
            ]
          },
          "metadata": {},
          "output_type": "display_data"
        },
        {
          "data": {
            "text/html": [
              "<pre style=\"white-space:pre;overflow-x:auto;line-height:normal;font-family:Menlo,'DejaVu Sans Mono',consolas,'Courier New',monospace\">New best mean reward!\n",
              "</pre>\n"
            ],
            "text/plain": [
              "New best mean reward!\n"
            ]
          },
          "metadata": {},
          "output_type": "display_data"
        },
        {
          "data": {
            "text/html": [
              "<pre style=\"white-space:pre;overflow-x:auto;line-height:normal;font-family:Menlo,'DejaVu Sans Mono',consolas,'Courier New',monospace\">Eval num_timesteps=10000, episode_reward=-773.42 +/- 659.36\n",
              "</pre>\n"
            ],
            "text/plain": [
              "Eval num_timesteps=10000, episode_reward=-773.42 +/- 659.36\n"
            ]
          },
          "metadata": {},
          "output_type": "display_data"
        },
        {
          "data": {
            "text/html": [
              "<pre style=\"white-space:pre;overflow-x:auto;line-height:normal;font-family:Menlo,'DejaVu Sans Mono',consolas,'Courier New',monospace\">Episode length: 173.68 +/- 65.32\n",
              "</pre>\n"
            ],
            "text/plain": [
              "Episode length: 173.68 +/- 65.32\n"
            ]
          },
          "metadata": {},
          "output_type": "display_data"
        },
        {
          "data": {
            "text/html": [
              "<pre style=\"white-space:pre;overflow-x:auto;line-height:normal;font-family:Menlo,'DejaVu Sans Mono',consolas,'Courier New',monospace\">Eval num_timesteps=15000, episode_reward=-488.98 +/- 171.33\n",
              "</pre>\n"
            ],
            "text/plain": [
              "Eval num_timesteps=15000, episode_reward=-488.98 +/- 171.33\n"
            ]
          },
          "metadata": {},
          "output_type": "display_data"
        },
        {
          "data": {
            "text/html": [
              "<pre style=\"white-space:pre;overflow-x:auto;line-height:normal;font-family:Menlo,'DejaVu Sans Mono',consolas,'Courier New',monospace\">Episode length: 185.10 +/- 68.88\n",
              "</pre>\n"
            ],
            "text/plain": [
              "Episode length: 185.10 +/- 68.88\n"
            ]
          },
          "metadata": {},
          "output_type": "display_data"
        },
        {
          "data": {
            "text/html": [
              "<pre style=\"white-space:pre;overflow-x:auto;line-height:normal;font-family:Menlo,'DejaVu Sans Mono',consolas,'Courier New',monospace\">Eval num_timesteps=20000, episode_reward=-579.01 +/- 319.32\n",
              "</pre>\n"
            ],
            "text/plain": [
              "Eval num_timesteps=20000, episode_reward=-579.01 +/- 319.32\n"
            ]
          },
          "metadata": {},
          "output_type": "display_data"
        },
        {
          "data": {
            "text/html": [
              "<pre style=\"white-space:pre;overflow-x:auto;line-height:normal;font-family:Menlo,'DejaVu Sans Mono',consolas,'Courier New',monospace\">Episode length: 263.98 +/- 104.90\n",
              "</pre>\n"
            ],
            "text/plain": [
              "Episode length: 263.98 +/- 104.90\n"
            ]
          },
          "metadata": {},
          "output_type": "display_data"
        },
        {
          "data": {
            "text/html": [
              "<pre style=\"white-space:pre;overflow-x:auto;line-height:normal;font-family:Menlo,'DejaVu Sans Mono',consolas,'Courier New',monospace\">Eval num_timesteps=25000, episode_reward=-342.52 +/- 151.71\n",
              "</pre>\n"
            ],
            "text/plain": [
              "Eval num_timesteps=25000, episode_reward=-342.52 +/- 151.71\n"
            ]
          },
          "metadata": {},
          "output_type": "display_data"
        },
        {
          "data": {
            "text/html": [
              "<pre style=\"white-space:pre;overflow-x:auto;line-height:normal;font-family:Menlo,'DejaVu Sans Mono',consolas,'Courier New',monospace\">Episode length: 503.72 +/- 218.58\n",
              "</pre>\n"
            ],
            "text/plain": [
              "Episode length: 503.72 +/- 218.58\n"
            ]
          },
          "metadata": {},
          "output_type": "display_data"
        },
        {
          "data": {
            "text/html": [
              "<pre style=\"white-space:pre;overflow-x:auto;line-height:normal;font-family:Menlo,'DejaVu Sans Mono',consolas,'Courier New',monospace\">New best mean reward!\n",
              "</pre>\n"
            ],
            "text/plain": [
              "New best mean reward!\n"
            ]
          },
          "metadata": {},
          "output_type": "display_data"
        },
        {
          "data": {
            "text/html": [
              "<pre style=\"white-space:pre;overflow-x:auto;line-height:normal;font-family:Menlo,'DejaVu Sans Mono',consolas,'Courier New',monospace\">Eval num_timesteps=30000, episode_reward=-287.18 +/- 64.99\n",
              "</pre>\n"
            ],
            "text/plain": [
              "Eval num_timesteps=30000, episode_reward=-287.18 +/- 64.99\n"
            ]
          },
          "metadata": {},
          "output_type": "display_data"
        },
        {
          "data": {
            "text/html": [
              "<pre style=\"white-space:pre;overflow-x:auto;line-height:normal;font-family:Menlo,'DejaVu Sans Mono',consolas,'Courier New',monospace\">Episode length: 493.88 +/- 160.90\n",
              "</pre>\n"
            ],
            "text/plain": [
              "Episode length: 493.88 +/- 160.90\n"
            ]
          },
          "metadata": {},
          "output_type": "display_data"
        },
        {
          "data": {
            "text/html": [
              "<pre style=\"white-space:pre;overflow-x:auto;line-height:normal;font-family:Menlo,'DejaVu Sans Mono',consolas,'Courier New',monospace\">New best mean reward!\n",
              "</pre>\n"
            ],
            "text/plain": [
              "New best mean reward!\n"
            ]
          },
          "metadata": {},
          "output_type": "display_data"
        },
        {
          "data": {
            "text/html": [
              "<pre style=\"white-space:pre;overflow-x:auto;line-height:normal;font-family:Menlo,'DejaVu Sans Mono',consolas,'Courier New',monospace\">Eval num_timesteps=35000, episode_reward=-177.22 +/- 32.09\n",
              "</pre>\n"
            ],
            "text/plain": [
              "Eval num_timesteps=35000, episode_reward=-177.22 +/- 32.09\n"
            ]
          },
          "metadata": {},
          "output_type": "display_data"
        },
        {
          "data": {
            "text/html": [
              "<pre style=\"white-space:pre;overflow-x:auto;line-height:normal;font-family:Menlo,'DejaVu Sans Mono',consolas,'Courier New',monospace\">Episode length: 946.78 +/- 156.43\n",
              "</pre>\n"
            ],
            "text/plain": [
              "Episode length: 946.78 +/- 156.43\n"
            ]
          },
          "metadata": {},
          "output_type": "display_data"
        },
        {
          "data": {
            "text/html": [
              "<pre style=\"white-space:pre;overflow-x:auto;line-height:normal;font-family:Menlo,'DejaVu Sans Mono',consolas,'Courier New',monospace\">New best mean reward!\n",
              "</pre>\n"
            ],
            "text/plain": [
              "New best mean reward!\n"
            ]
          },
          "metadata": {},
          "output_type": "display_data"
        },
        {
          "data": {
            "text/html": [
              "<pre style=\"white-space:pre;overflow-x:auto;line-height:normal;font-family:Menlo,'DejaVu Sans Mono',consolas,'Courier New',monospace\">Eval num_timesteps=40000, episode_reward=-124.66 +/- 30.70\n",
              "</pre>\n"
            ],
            "text/plain": [
              "Eval num_timesteps=40000, episode_reward=-124.66 +/- 30.70\n"
            ]
          },
          "metadata": {},
          "output_type": "display_data"
        },
        {
          "data": {
            "text/html": [
              "<pre style=\"white-space:pre;overflow-x:auto;line-height:normal;font-family:Menlo,'DejaVu Sans Mono',consolas,'Courier New',monospace\">Episode length: 796.02 +/- 313.45\n",
              "</pre>\n"
            ],
            "text/plain": [
              "Episode length: 796.02 +/- 313.45\n"
            ]
          },
          "metadata": {},
          "output_type": "display_data"
        },
        {
          "data": {
            "text/html": [
              "<pre style=\"white-space:pre;overflow-x:auto;line-height:normal;font-family:Menlo,'DejaVu Sans Mono',consolas,'Courier New',monospace\">New best mean reward!\n",
              "</pre>\n"
            ],
            "text/plain": [
              "New best mean reward!\n"
            ]
          },
          "metadata": {},
          "output_type": "display_data"
        },
        {
          "data": {
            "text/html": [
              "<pre style=\"white-space:pre;overflow-x:auto;line-height:normal;font-family:Menlo,'DejaVu Sans Mono',consolas,'Courier New',monospace\">Eval num_timesteps=45000, episode_reward=-105.94 +/- 46.77\n",
              "</pre>\n"
            ],
            "text/plain": [
              "Eval num_timesteps=45000, episode_reward=-105.94 +/- 46.77\n"
            ]
          },
          "metadata": {},
          "output_type": "display_data"
        },
        {
          "data": {
            "text/html": [
              "<pre style=\"white-space:pre;overflow-x:auto;line-height:normal;font-family:Menlo,'DejaVu Sans Mono',consolas,'Courier New',monospace\">Episode length: 876.90 +/- 235.87\n",
              "</pre>\n"
            ],
            "text/plain": [
              "Episode length: 876.90 +/- 235.87\n"
            ]
          },
          "metadata": {},
          "output_type": "display_data"
        },
        {
          "data": {
            "text/html": [
              "<pre style=\"white-space:pre;overflow-x:auto;line-height:normal;font-family:Menlo,'DejaVu Sans Mono',consolas,'Courier New',monospace\">New best mean reward!\n",
              "</pre>\n"
            ],
            "text/plain": [
              "New best mean reward!\n"
            ]
          },
          "metadata": {},
          "output_type": "display_data"
        },
        {
          "data": {
            "text/html": [
              "<pre style=\"white-space:pre;overflow-x:auto;line-height:normal;font-family:Menlo,'DejaVu Sans Mono',consolas,'Courier New',monospace\">Eval num_timesteps=50000, episode_reward=-159.54 +/- 49.39\n",
              "</pre>\n"
            ],
            "text/plain": [
              "Eval num_timesteps=50000, episode_reward=-159.54 +/- 49.39\n"
            ]
          },
          "metadata": {},
          "output_type": "display_data"
        },
        {
          "data": {
            "text/html": [
              "<pre style=\"white-space:pre;overflow-x:auto;line-height:normal;font-family:Menlo,'DejaVu Sans Mono',consolas,'Courier New',monospace\">Episode length: 611.88 +/- 276.06\n",
              "</pre>\n"
            ],
            "text/plain": [
              "Episode length: 611.88 +/- 276.06\n"
            ]
          },
          "metadata": {},
          "output_type": "display_data"
        },
        {
          "data": {
            "text/html": [
              "<pre style=\"white-space:pre;overflow-x:auto;line-height:normal;font-family:Menlo,'DejaVu Sans Mono',consolas,'Courier New',monospace\">Eval num_timesteps=55000, episode_reward=-70.56 +/- 32.74\n",
              "</pre>\n"
            ],
            "text/plain": [
              "Eval num_timesteps=55000, episode_reward=-70.56 +/- 32.74\n"
            ]
          },
          "metadata": {},
          "output_type": "display_data"
        },
        {
          "data": {
            "text/html": [
              "<pre style=\"white-space:pre;overflow-x:auto;line-height:normal;font-family:Menlo,'DejaVu Sans Mono',consolas,'Courier New',monospace\">Episode length: 866.66 +/- 268.81\n",
              "</pre>\n"
            ],
            "text/plain": [
              "Episode length: 866.66 +/- 268.81\n"
            ]
          },
          "metadata": {},
          "output_type": "display_data"
        },
        {
          "data": {
            "text/html": [
              "<pre style=\"white-space:pre;overflow-x:auto;line-height:normal;font-family:Menlo,'DejaVu Sans Mono',consolas,'Courier New',monospace\">New best mean reward!\n",
              "</pre>\n"
            ],
            "text/plain": [
              "New best mean reward!\n"
            ]
          },
          "metadata": {},
          "output_type": "display_data"
        },
        {
          "data": {
            "text/html": [
              "<pre style=\"white-space:pre;overflow-x:auto;line-height:normal;font-family:Menlo,'DejaVu Sans Mono',consolas,'Courier New',monospace\">Eval num_timesteps=60000, episode_reward=-130.27 +/- 57.80\n",
              "</pre>\n"
            ],
            "text/plain": [
              "Eval num_timesteps=60000, episode_reward=-130.27 +/- 57.80\n"
            ]
          },
          "metadata": {},
          "output_type": "display_data"
        },
        {
          "data": {
            "text/html": [
              "<pre style=\"white-space:pre;overflow-x:auto;line-height:normal;font-family:Menlo,'DejaVu Sans Mono',consolas,'Courier New',monospace\">Episode length: 752.74 +/- 295.87\n",
              "</pre>\n"
            ],
            "text/plain": [
              "Episode length: 752.74 +/- 295.87\n"
            ]
          },
          "metadata": {},
          "output_type": "display_data"
        },
        {
          "data": {
            "text/html": [
              "<pre style=\"white-space:pre;overflow-x:auto;line-height:normal;font-family:Menlo,'DejaVu Sans Mono',consolas,'Courier New',monospace\">Eval num_timesteps=65000, episode_reward=-73.70 +/- 28.56\n",
              "</pre>\n"
            ],
            "text/plain": [
              "Eval num_timesteps=65000, episode_reward=-73.70 +/- 28.56\n"
            ]
          },
          "metadata": {},
          "output_type": "display_data"
        },
        {
          "data": {
            "text/html": [
              "<pre style=\"white-space:pre;overflow-x:auto;line-height:normal;font-family:Menlo,'DejaVu Sans Mono',consolas,'Courier New',monospace\">Episode length: 868.82 +/- 285.63\n",
              "</pre>\n"
            ],
            "text/plain": [
              "Episode length: 868.82 +/- 285.63\n"
            ]
          },
          "metadata": {},
          "output_type": "display_data"
        },
        {
          "data": {
            "text/html": [
              "<pre style=\"white-space:pre;overflow-x:auto;line-height:normal;font-family:Menlo,'DejaVu Sans Mono',consolas,'Courier New',monospace\">Eval num_timesteps=70000, episode_reward=-77.04 +/- 17.42\n",
              "</pre>\n"
            ],
            "text/plain": [
              "Eval num_timesteps=70000, episode_reward=-77.04 +/- 17.42\n"
            ]
          },
          "metadata": {},
          "output_type": "display_data"
        },
        {
          "data": {
            "text/html": [
              "<pre style=\"white-space:pre;overflow-x:auto;line-height:normal;font-family:Menlo,'DejaVu Sans Mono',consolas,'Courier New',monospace\">Episode length: 890.74 +/- 272.57\n",
              "</pre>\n"
            ],
            "text/plain": [
              "Episode length: 890.74 +/- 272.57\n"
            ]
          },
          "metadata": {},
          "output_type": "display_data"
        },
        {
          "data": {
            "text/html": [
              "<pre style=\"white-space:pre;overflow-x:auto;line-height:normal;font-family:Menlo,'DejaVu Sans Mono',consolas,'Courier New',monospace\">Eval num_timesteps=75000, episode_reward=-74.58 +/- 22.45\n",
              "</pre>\n"
            ],
            "text/plain": [
              "Eval num_timesteps=75000, episode_reward=-74.58 +/- 22.45\n"
            ]
          },
          "metadata": {},
          "output_type": "display_data"
        },
        {
          "data": {
            "text/html": [
              "<pre style=\"white-space:pre;overflow-x:auto;line-height:normal;font-family:Menlo,'DejaVu Sans Mono',consolas,'Courier New',monospace\">Episode length: 939.46 +/- 207.35\n",
              "</pre>\n"
            ],
            "text/plain": [
              "Episode length: 939.46 +/- 207.35\n"
            ]
          },
          "metadata": {},
          "output_type": "display_data"
        },
        {
          "data": {
            "text/html": [
              "<pre style=\"white-space:pre;overflow-x:auto;line-height:normal;font-family:Menlo,'DejaVu Sans Mono',consolas,'Courier New',monospace\">Eval num_timesteps=80000, episode_reward=-99.49 +/- 53.93\n",
              "</pre>\n"
            ],
            "text/plain": [
              "Eval num_timesteps=80000, episode_reward=-99.49 +/- 53.93\n"
            ]
          },
          "metadata": {},
          "output_type": "display_data"
        },
        {
          "data": {
            "text/html": [
              "<pre style=\"white-space:pre;overflow-x:auto;line-height:normal;font-family:Menlo,'DejaVu Sans Mono',consolas,'Courier New',monospace\">Episode length: 855.66 +/- 280.37\n",
              "</pre>\n"
            ],
            "text/plain": [
              "Episode length: 855.66 +/- 280.37\n"
            ]
          },
          "metadata": {},
          "output_type": "display_data"
        },
        {
          "data": {
            "text/html": [
              "<pre style=\"white-space:pre;overflow-x:auto;line-height:normal;font-family:Menlo,'DejaVu Sans Mono',consolas,'Courier New',monospace\">Eval num_timesteps=85000, episode_reward=-63.18 +/- 25.22\n",
              "</pre>\n"
            ],
            "text/plain": [
              "Eval num_timesteps=85000, episode_reward=-63.18 +/- 25.22\n"
            ]
          },
          "metadata": {},
          "output_type": "display_data"
        },
        {
          "data": {
            "text/html": [
              "<pre style=\"white-space:pre;overflow-x:auto;line-height:normal;font-family:Menlo,'DejaVu Sans Mono',consolas,'Courier New',monospace\">Episode length: 936.40 +/- 216.69\n",
              "</pre>\n"
            ],
            "text/plain": [
              "Episode length: 936.40 +/- 216.69\n"
            ]
          },
          "metadata": {},
          "output_type": "display_data"
        },
        {
          "data": {
            "text/html": [
              "<pre style=\"white-space:pre;overflow-x:auto;line-height:normal;font-family:Menlo,'DejaVu Sans Mono',consolas,'Courier New',monospace\">New best mean reward!\n",
              "</pre>\n"
            ],
            "text/plain": [
              "New best mean reward!\n"
            ]
          },
          "metadata": {},
          "output_type": "display_data"
        },
        {
          "data": {
            "text/html": [
              "<pre style=\"white-space:pre;overflow-x:auto;line-height:normal;font-family:Menlo,'DejaVu Sans Mono',consolas,'Courier New',monospace\">Eval num_timesteps=90000, episode_reward=-99.96 +/- 46.72\n",
              "</pre>\n"
            ],
            "text/plain": [
              "Eval num_timesteps=90000, episode_reward=-99.96 +/- 46.72\n"
            ]
          },
          "metadata": {},
          "output_type": "display_data"
        },
        {
          "data": {
            "text/html": [
              "<pre style=\"white-space:pre;overflow-x:auto;line-height:normal;font-family:Menlo,'DejaVu Sans Mono',consolas,'Courier New',monospace\">Episode length: 836.84 +/- 260.36\n",
              "</pre>\n"
            ],
            "text/plain": [
              "Episode length: 836.84 +/- 260.36\n"
            ]
          },
          "metadata": {},
          "output_type": "display_data"
        },
        {
          "data": {
            "text/html": [
              "<pre style=\"white-space:pre;overflow-x:auto;line-height:normal;font-family:Menlo,'DejaVu Sans Mono',consolas,'Courier New',monospace\">Eval num_timesteps=95000, episode_reward=-133.64 +/- 48.23\n",
              "</pre>\n"
            ],
            "text/plain": [
              "Eval num_timesteps=95000, episode_reward=-133.64 +/- 48.23\n"
            ]
          },
          "metadata": {},
          "output_type": "display_data"
        },
        {
          "data": {
            "text/html": [
              "<pre style=\"white-space:pre;overflow-x:auto;line-height:normal;font-family:Menlo,'DejaVu Sans Mono',consolas,'Courier New',monospace\">Episode length: 690.54 +/- 336.22\n",
              "</pre>\n"
            ],
            "text/plain": [
              "Episode length: 690.54 +/- 336.22\n"
            ]
          },
          "metadata": {},
          "output_type": "display_data"
        },
        {
          "data": {
            "text/html": [
              "<pre style=\"white-space:pre;overflow-x:auto;line-height:normal;font-family:Menlo,'DejaVu Sans Mono',consolas,'Courier New',monospace\">Eval num_timesteps=100000, episode_reward=-154.47 +/- 45.42\n",
              "</pre>\n"
            ],
            "text/plain": [
              "Eval num_timesteps=100000, episode_reward=-154.47 +/- 45.42\n"
            ]
          },
          "metadata": {},
          "output_type": "display_data"
        },
        {
          "data": {
            "text/html": [
              "<pre style=\"white-space:pre;overflow-x:auto;line-height:normal;font-family:Menlo,'DejaVu Sans Mono',consolas,'Courier New',monospace\">Episode length: 666.30 +/- 338.87\n",
              "</pre>\n"
            ],
            "text/plain": [
              "Episode length: 666.30 +/- 338.87\n"
            ]
          },
          "metadata": {},
          "output_type": "display_data"
        },
        {
          "data": {
            "text/html": [
              "<pre style=\"white-space:pre;overflow-x:auto;line-height:normal;font-family:Menlo,'DejaVu Sans Mono',consolas,'Courier New',monospace\">Eval num_timesteps=105000, episode_reward=-139.37 +/- 44.17\n",
              "</pre>\n"
            ],
            "text/plain": [
              "Eval num_timesteps=105000, episode_reward=-139.37 +/- 44.17\n"
            ]
          },
          "metadata": {},
          "output_type": "display_data"
        },
        {
          "data": {
            "text/html": [
              "<pre style=\"white-space:pre;overflow-x:auto;line-height:normal;font-family:Menlo,'DejaVu Sans Mono',consolas,'Courier New',monospace\">Episode length: 784.06 +/- 284.06\n",
              "</pre>\n"
            ],
            "text/plain": [
              "Episode length: 784.06 +/- 284.06\n"
            ]
          },
          "metadata": {},
          "output_type": "display_data"
        },
        {
          "data": {
            "text/html": [
              "<pre style=\"white-space:pre;overflow-x:auto;line-height:normal;font-family:Menlo,'DejaVu Sans Mono',consolas,'Courier New',monospace\">Eval num_timesteps=110000, episode_reward=-125.68 +/- 60.34\n",
              "</pre>\n"
            ],
            "text/plain": [
              "Eval num_timesteps=110000, episode_reward=-125.68 +/- 60.34\n"
            ]
          },
          "metadata": {},
          "output_type": "display_data"
        },
        {
          "data": {
            "text/html": [
              "<pre style=\"white-space:pre;overflow-x:auto;line-height:normal;font-family:Menlo,'DejaVu Sans Mono',consolas,'Courier New',monospace\">Episode length: 781.72 +/- 294.89\n",
              "</pre>\n"
            ],
            "text/plain": [
              "Episode length: 781.72 +/- 294.89\n"
            ]
          },
          "metadata": {},
          "output_type": "display_data"
        },
        {
          "data": {
            "text/html": [
              "<pre style=\"white-space:pre;overflow-x:auto;line-height:normal;font-family:Menlo,'DejaVu Sans Mono',consolas,'Courier New',monospace\">Eval num_timesteps=115000, episode_reward=-116.16 +/- 47.08\n",
              "</pre>\n"
            ],
            "text/plain": [
              "Eval num_timesteps=115000, episode_reward=-116.16 +/- 47.08\n"
            ]
          },
          "metadata": {},
          "output_type": "display_data"
        },
        {
          "data": {
            "text/html": [
              "<pre style=\"white-space:pre;overflow-x:auto;line-height:normal;font-family:Menlo,'DejaVu Sans Mono',consolas,'Courier New',monospace\">Episode length: 637.52 +/- 361.16\n",
              "</pre>\n"
            ],
            "text/plain": [
              "Episode length: 637.52 +/- 361.16\n"
            ]
          },
          "metadata": {},
          "output_type": "display_data"
        },
        {
          "data": {
            "text/html": [
              "<pre style=\"white-space:pre;overflow-x:auto;line-height:normal;font-family:Menlo,'DejaVu Sans Mono',consolas,'Courier New',monospace\">Eval num_timesteps=120000, episode_reward=-138.81 +/- 56.93\n",
              "</pre>\n"
            ],
            "text/plain": [
              "Eval num_timesteps=120000, episode_reward=-138.81 +/- 56.93\n"
            ]
          },
          "metadata": {},
          "output_type": "display_data"
        },
        {
          "data": {
            "text/html": [
              "<pre style=\"white-space:pre;overflow-x:auto;line-height:normal;font-family:Menlo,'DejaVu Sans Mono',consolas,'Courier New',monospace\">Episode length: 633.94 +/- 352.96\n",
              "</pre>\n"
            ],
            "text/plain": [
              "Episode length: 633.94 +/- 352.96\n"
            ]
          },
          "metadata": {},
          "output_type": "display_data"
        },
        {
          "data": {
            "text/html": [
              "<pre style=\"white-space:pre;overflow-x:auto;line-height:normal;font-family:Menlo,'DejaVu Sans Mono',consolas,'Courier New',monospace\">Eval num_timesteps=125000, episode_reward=-139.81 +/- 44.00\n",
              "</pre>\n"
            ],
            "text/plain": [
              "Eval num_timesteps=125000, episode_reward=-139.81 +/- 44.00\n"
            ]
          },
          "metadata": {},
          "output_type": "display_data"
        },
        {
          "data": {
            "text/html": [
              "<pre style=\"white-space:pre;overflow-x:auto;line-height:normal;font-family:Menlo,'DejaVu Sans Mono',consolas,'Courier New',monospace\">Episode length: 530.14 +/- 331.26\n",
              "</pre>\n"
            ],
            "text/plain": [
              "Episode length: 530.14 +/- 331.26\n"
            ]
          },
          "metadata": {},
          "output_type": "display_data"
        },
        {
          "data": {
            "text/html": [
              "<pre style=\"white-space:pre;overflow-x:auto;line-height:normal;font-family:Menlo,'DejaVu Sans Mono',consolas,'Courier New',monospace\">Eval num_timesteps=130000, episode_reward=-159.06 +/- 54.32\n",
              "</pre>\n"
            ],
            "text/plain": [
              "Eval num_timesteps=130000, episode_reward=-159.06 +/- 54.32\n"
            ]
          },
          "metadata": {},
          "output_type": "display_data"
        },
        {
          "data": {
            "text/html": [
              "<pre style=\"white-space:pre;overflow-x:auto;line-height:normal;font-family:Menlo,'DejaVu Sans Mono',consolas,'Courier New',monospace\">Episode length: 654.96 +/- 348.68\n",
              "</pre>\n"
            ],
            "text/plain": [
              "Episode length: 654.96 +/- 348.68\n"
            ]
          },
          "metadata": {},
          "output_type": "display_data"
        },
        {
          "data": {
            "text/html": [
              "<pre style=\"white-space:pre;overflow-x:auto;line-height:normal;font-family:Menlo,'DejaVu Sans Mono',consolas,'Courier New',monospace\">Eval num_timesteps=135000, episode_reward=-127.94 +/- 44.19\n",
              "</pre>\n"
            ],
            "text/plain": [
              "Eval num_timesteps=135000, episode_reward=-127.94 +/- 44.19\n"
            ]
          },
          "metadata": {},
          "output_type": "display_data"
        },
        {
          "data": {
            "text/html": [
              "<pre style=\"white-space:pre;overflow-x:auto;line-height:normal;font-family:Menlo,'DejaVu Sans Mono',consolas,'Courier New',monospace\">Episode length: 677.96 +/- 350.55\n",
              "</pre>\n"
            ],
            "text/plain": [
              "Episode length: 677.96 +/- 350.55\n"
            ]
          },
          "metadata": {},
          "output_type": "display_data"
        },
        {
          "data": {
            "text/html": [
              "<pre style=\"white-space:pre;overflow-x:auto;line-height:normal;font-family:Menlo,'DejaVu Sans Mono',consolas,'Courier New',monospace\">Eval num_timesteps=140000, episode_reward=-124.47 +/- 28.09\n",
              "</pre>\n"
            ],
            "text/plain": [
              "Eval num_timesteps=140000, episode_reward=-124.47 +/- 28.09\n"
            ]
          },
          "metadata": {},
          "output_type": "display_data"
        },
        {
          "data": {
            "text/html": [
              "<pre style=\"white-space:pre;overflow-x:auto;line-height:normal;font-family:Menlo,'DejaVu Sans Mono',consolas,'Courier New',monospace\">Episode length: 691.40 +/- 356.43\n",
              "</pre>\n"
            ],
            "text/plain": [
              "Episode length: 691.40 +/- 356.43\n"
            ]
          },
          "metadata": {},
          "output_type": "display_data"
        },
        {
          "data": {
            "text/html": [
              "<pre style=\"white-space:pre;overflow-x:auto;line-height:normal;font-family:Menlo,'DejaVu Sans Mono',consolas,'Courier New',monospace\">Eval num_timesteps=145000, episode_reward=-92.30 +/- 33.37\n",
              "</pre>\n"
            ],
            "text/plain": [
              "Eval num_timesteps=145000, episode_reward=-92.30 +/- 33.37\n"
            ]
          },
          "metadata": {},
          "output_type": "display_data"
        },
        {
          "data": {
            "text/html": [
              "<pre style=\"white-space:pre;overflow-x:auto;line-height:normal;font-family:Menlo,'DejaVu Sans Mono',consolas,'Courier New',monospace\">Episode length: 840.30 +/- 320.89\n",
              "</pre>\n"
            ],
            "text/plain": [
              "Episode length: 840.30 +/- 320.89\n"
            ]
          },
          "metadata": {},
          "output_type": "display_data"
        },
        {
          "data": {
            "text/html": [
              "<pre style=\"white-space:pre;overflow-x:auto;line-height:normal;font-family:Menlo,'DejaVu Sans Mono',consolas,'Courier New',monospace\">Eval num_timesteps=150000, episode_reward=-72.80 +/- 29.78\n",
              "</pre>\n"
            ],
            "text/plain": [
              "Eval num_timesteps=150000, episode_reward=-72.80 +/- 29.78\n"
            ]
          },
          "metadata": {},
          "output_type": "display_data"
        },
        {
          "data": {
            "text/html": [
              "<pre style=\"white-space:pre;overflow-x:auto;line-height:normal;font-family:Menlo,'DejaVu Sans Mono',consolas,'Courier New',monospace\">Episode length: 834.40 +/- 331.52\n",
              "</pre>\n"
            ],
            "text/plain": [
              "Episode length: 834.40 +/- 331.52\n"
            ]
          },
          "metadata": {},
          "output_type": "display_data"
        },
        {
          "data": {
            "text/html": [
              "<pre style=\"white-space:pre;overflow-x:auto;line-height:normal;font-family:Menlo,'DejaVu Sans Mono',consolas,'Courier New',monospace\">Eval num_timesteps=155000, episode_reward=-58.25 +/- 34.20\n",
              "</pre>\n"
            ],
            "text/plain": [
              "Eval num_timesteps=155000, episode_reward=-58.25 +/- 34.20\n"
            ]
          },
          "metadata": {},
          "output_type": "display_data"
        },
        {
          "data": {
            "text/html": [
              "<pre style=\"white-space:pre;overflow-x:auto;line-height:normal;font-family:Menlo,'DejaVu Sans Mono',consolas,'Courier New',monospace\">Episode length: 855.70 +/- 308.69\n",
              "</pre>\n"
            ],
            "text/plain": [
              "Episode length: 855.70 +/- 308.69\n"
            ]
          },
          "metadata": {},
          "output_type": "display_data"
        },
        {
          "data": {
            "text/html": [
              "<pre style=\"white-space:pre;overflow-x:auto;line-height:normal;font-family:Menlo,'DejaVu Sans Mono',consolas,'Courier New',monospace\">New best mean reward!\n",
              "</pre>\n"
            ],
            "text/plain": [
              "New best mean reward!\n"
            ]
          },
          "metadata": {},
          "output_type": "display_data"
        },
        {
          "data": {
            "text/html": [
              "<pre style=\"white-space:pre;overflow-x:auto;line-height:normal;font-family:Menlo,'DejaVu Sans Mono',consolas,'Courier New',monospace\">Eval num_timesteps=160000, episode_reward=-87.26 +/- 27.60\n",
              "</pre>\n"
            ],
            "text/plain": [
              "Eval num_timesteps=160000, episode_reward=-87.26 +/- 27.60\n"
            ]
          },
          "metadata": {},
          "output_type": "display_data"
        },
        {
          "data": {
            "text/html": [
              "<pre style=\"white-space:pre;overflow-x:auto;line-height:normal;font-family:Menlo,'DejaVu Sans Mono',consolas,'Courier New',monospace\">Episode length: 849.94 +/- 306.40\n",
              "</pre>\n"
            ],
            "text/plain": [
              "Episode length: 849.94 +/- 306.40\n"
            ]
          },
          "metadata": {},
          "output_type": "display_data"
        },
        {
          "data": {
            "text/html": [
              "<pre style=\"white-space:pre;overflow-x:auto;line-height:normal;font-family:Menlo,'DejaVu Sans Mono',consolas,'Courier New',monospace\">Eval num_timesteps=165000, episode_reward=-76.28 +/- 30.49\n",
              "</pre>\n"
            ],
            "text/plain": [
              "Eval num_timesteps=165000, episode_reward=-76.28 +/- 30.49\n"
            ]
          },
          "metadata": {},
          "output_type": "display_data"
        },
        {
          "data": {
            "text/html": [
              "<pre style=\"white-space:pre;overflow-x:auto;line-height:normal;font-family:Menlo,'DejaVu Sans Mono',consolas,'Courier New',monospace\">Episode length: 801.28 +/- 336.47\n",
              "</pre>\n"
            ],
            "text/plain": [
              "Episode length: 801.28 +/- 336.47\n"
            ]
          },
          "metadata": {},
          "output_type": "display_data"
        },
        {
          "data": {
            "text/html": [
              "<pre style=\"white-space:pre;overflow-x:auto;line-height:normal;font-family:Menlo,'DejaVu Sans Mono',consolas,'Courier New',monospace\">Eval num_timesteps=170000, episode_reward=-81.99 +/- 41.52\n",
              "</pre>\n"
            ],
            "text/plain": [
              "Eval num_timesteps=170000, episode_reward=-81.99 +/- 41.52\n"
            ]
          },
          "metadata": {},
          "output_type": "display_data"
        },
        {
          "data": {
            "text/html": [
              "<pre style=\"white-space:pre;overflow-x:auto;line-height:normal;font-family:Menlo,'DejaVu Sans Mono',consolas,'Courier New',monospace\">Episode length: 802.10 +/- 326.70\n",
              "</pre>\n"
            ],
            "text/plain": [
              "Episode length: 802.10 +/- 326.70\n"
            ]
          },
          "metadata": {},
          "output_type": "display_data"
        },
        {
          "data": {
            "text/html": [
              "<pre style=\"white-space:pre;overflow-x:auto;line-height:normal;font-family:Menlo,'DejaVu Sans Mono',consolas,'Courier New',monospace\">Eval num_timesteps=175000, episode_reward=-85.99 +/- 36.50\n",
              "</pre>\n"
            ],
            "text/plain": [
              "Eval num_timesteps=175000, episode_reward=-85.99 +/- 36.50\n"
            ]
          },
          "metadata": {},
          "output_type": "display_data"
        },
        {
          "data": {
            "text/html": [
              "<pre style=\"white-space:pre;overflow-x:auto;line-height:normal;font-family:Menlo,'DejaVu Sans Mono',consolas,'Courier New',monospace\">Episode length: 822.54 +/- 310.53\n",
              "</pre>\n"
            ],
            "text/plain": [
              "Episode length: 822.54 +/- 310.53\n"
            ]
          },
          "metadata": {},
          "output_type": "display_data"
        },
        {
          "data": {
            "text/html": [
              "<pre style=\"white-space:pre;overflow-x:auto;line-height:normal;font-family:Menlo,'DejaVu Sans Mono',consolas,'Courier New',monospace\">Eval num_timesteps=180000, episode_reward=-98.76 +/- 44.77\n",
              "</pre>\n"
            ],
            "text/plain": [
              "Eval num_timesteps=180000, episode_reward=-98.76 +/- 44.77\n"
            ]
          },
          "metadata": {},
          "output_type": "display_data"
        },
        {
          "data": {
            "text/html": [
              "<pre style=\"white-space:pre;overflow-x:auto;line-height:normal;font-family:Menlo,'DejaVu Sans Mono',consolas,'Courier New',monospace\">Episode length: 713.96 +/- 367.72\n",
              "</pre>\n"
            ],
            "text/plain": [
              "Episode length: 713.96 +/- 367.72\n"
            ]
          },
          "metadata": {},
          "output_type": "display_data"
        },
        {
          "data": {
            "text/html": [
              "<pre style=\"white-space:pre;overflow-x:auto;line-height:normal;font-family:Menlo,'DejaVu Sans Mono',consolas,'Courier New',monospace\">Eval num_timesteps=185000, episode_reward=-124.30 +/- 49.68\n",
              "</pre>\n"
            ],
            "text/plain": [
              "Eval num_timesteps=185000, episode_reward=-124.30 +/- 49.68\n"
            ]
          },
          "metadata": {},
          "output_type": "display_data"
        },
        {
          "data": {
            "text/html": [
              "<pre style=\"white-space:pre;overflow-x:auto;line-height:normal;font-family:Menlo,'DejaVu Sans Mono',consolas,'Courier New',monospace\">Episode length: 669.52 +/- 313.94\n",
              "</pre>\n"
            ],
            "text/plain": [
              "Episode length: 669.52 +/- 313.94\n"
            ]
          },
          "metadata": {},
          "output_type": "display_data"
        },
        {
          "data": {
            "text/html": [
              "<pre style=\"white-space:pre;overflow-x:auto;line-height:normal;font-family:Menlo,'DejaVu Sans Mono',consolas,'Courier New',monospace\">Eval num_timesteps=190000, episode_reward=-108.86 +/- 54.77\n",
              "</pre>\n"
            ],
            "text/plain": [
              "Eval num_timesteps=190000, episode_reward=-108.86 +/- 54.77\n"
            ]
          },
          "metadata": {},
          "output_type": "display_data"
        },
        {
          "data": {
            "text/html": [
              "<pre style=\"white-space:pre;overflow-x:auto;line-height:normal;font-family:Menlo,'DejaVu Sans Mono',consolas,'Courier New',monospace\">Episode length: 707.22 +/- 335.00\n",
              "</pre>\n"
            ],
            "text/plain": [
              "Episode length: 707.22 +/- 335.00\n"
            ]
          },
          "metadata": {},
          "output_type": "display_data"
        },
        {
          "data": {
            "text/html": [
              "<pre style=\"white-space:pre;overflow-x:auto;line-height:normal;font-family:Menlo,'DejaVu Sans Mono',consolas,'Courier New',monospace\">Eval num_timesteps=195000, episode_reward=-78.04 +/- 36.91\n",
              "</pre>\n"
            ],
            "text/plain": [
              "Eval num_timesteps=195000, episode_reward=-78.04 +/- 36.91\n"
            ]
          },
          "metadata": {},
          "output_type": "display_data"
        },
        {
          "data": {
            "text/html": [
              "<pre style=\"white-space:pre;overflow-x:auto;line-height:normal;font-family:Menlo,'DejaVu Sans Mono',consolas,'Courier New',monospace\">Episode length: 804.74 +/- 315.78\n",
              "</pre>\n"
            ],
            "text/plain": [
              "Episode length: 804.74 +/- 315.78\n"
            ]
          },
          "metadata": {},
          "output_type": "display_data"
        },
        {
          "data": {
            "text/html": [
              "<pre style=\"white-space:pre;overflow-x:auto;line-height:normal;font-family:Menlo,'DejaVu Sans Mono',consolas,'Courier New',monospace\">Eval num_timesteps=200000, episode_reward=-93.21 +/- 42.35\n",
              "</pre>\n"
            ],
            "text/plain": [
              "Eval num_timesteps=200000, episode_reward=-93.21 +/- 42.35\n"
            ]
          },
          "metadata": {},
          "output_type": "display_data"
        },
        {
          "data": {
            "text/html": [
              "<pre style=\"white-space:pre;overflow-x:auto;line-height:normal;font-family:Menlo,'DejaVu Sans Mono',consolas,'Courier New',monospace\">Episode length: 745.58 +/- 350.86\n",
              "</pre>\n"
            ],
            "text/plain": [
              "Episode length: 745.58 +/- 350.86\n"
            ]
          },
          "metadata": {},
          "output_type": "display_data"
        },
        {
          "data": {
            "text/html": [
              "<pre style=\"white-space:pre;overflow-x:auto;line-height:normal;font-family:Menlo,'DejaVu Sans Mono',consolas,'Courier New',monospace\">Eval num_timesteps=205000, episode_reward=-112.05 +/- 51.28\n",
              "</pre>\n"
            ],
            "text/plain": [
              "Eval num_timesteps=205000, episode_reward=-112.05 +/- 51.28\n"
            ]
          },
          "metadata": {},
          "output_type": "display_data"
        },
        {
          "data": {
            "text/html": [
              "<pre style=\"white-space:pre;overflow-x:auto;line-height:normal;font-family:Menlo,'DejaVu Sans Mono',consolas,'Courier New',monospace\">Episode length: 618.70 +/- 347.13\n",
              "</pre>\n"
            ],
            "text/plain": [
              "Episode length: 618.70 +/- 347.13\n"
            ]
          },
          "metadata": {},
          "output_type": "display_data"
        },
        {
          "data": {
            "text/html": [
              "<pre style=\"white-space:pre;overflow-x:auto;line-height:normal;font-family:Menlo,'DejaVu Sans Mono',consolas,'Courier New',monospace\">Eval num_timesteps=210000, episode_reward=-43.52 +/- 59.48\n",
              "</pre>\n"
            ],
            "text/plain": [
              "Eval num_timesteps=210000, episode_reward=-43.52 +/- 59.48\n"
            ]
          },
          "metadata": {},
          "output_type": "display_data"
        },
        {
          "data": {
            "text/html": [
              "<pre style=\"white-space:pre;overflow-x:auto;line-height:normal;font-family:Menlo,'DejaVu Sans Mono',consolas,'Courier New',monospace\">Episode length: 868.90 +/- 265.35\n",
              "</pre>\n"
            ],
            "text/plain": [
              "Episode length: 868.90 +/- 265.35\n"
            ]
          },
          "metadata": {},
          "output_type": "display_data"
        },
        {
          "data": {
            "text/html": [
              "<pre style=\"white-space:pre;overflow-x:auto;line-height:normal;font-family:Menlo,'DejaVu Sans Mono',consolas,'Courier New',monospace\">New best mean reward!\n",
              "</pre>\n"
            ],
            "text/plain": [
              "New best mean reward!\n"
            ]
          },
          "metadata": {},
          "output_type": "display_data"
        },
        {
          "data": {
            "text/html": [
              "<pre style=\"white-space:pre;overflow-x:auto;line-height:normal;font-family:Menlo,'DejaVu Sans Mono',consolas,'Courier New',monospace\">Eval num_timesteps=215000, episode_reward=-56.91 +/- 53.07\n",
              "</pre>\n"
            ],
            "text/plain": [
              "Eval num_timesteps=215000, episode_reward=-56.91 +/- 53.07\n"
            ]
          },
          "metadata": {},
          "output_type": "display_data"
        },
        {
          "data": {
            "text/html": [
              "<pre style=\"white-space:pre;overflow-x:auto;line-height:normal;font-family:Menlo,'DejaVu Sans Mono',consolas,'Courier New',monospace\">Episode length: 864.50 +/- 260.20\n",
              "</pre>\n"
            ],
            "text/plain": [
              "Episode length: 864.50 +/- 260.20\n"
            ]
          },
          "metadata": {},
          "output_type": "display_data"
        },
        {
          "data": {
            "text/html": [
              "<pre style=\"white-space:pre;overflow-x:auto;line-height:normal;font-family:Menlo,'DejaVu Sans Mono',consolas,'Courier New',monospace\">Eval num_timesteps=220000, episode_reward=-55.30 +/- 41.68\n",
              "</pre>\n"
            ],
            "text/plain": [
              "Eval num_timesteps=220000, episode_reward=-55.30 +/- 41.68\n"
            ]
          },
          "metadata": {},
          "output_type": "display_data"
        },
        {
          "data": {
            "text/html": [
              "<pre style=\"white-space:pre;overflow-x:auto;line-height:normal;font-family:Menlo,'DejaVu Sans Mono',consolas,'Courier New',monospace\">Episode length: 928.92 +/- 215.64\n",
              "</pre>\n"
            ],
            "text/plain": [
              "Episode length: 928.92 +/- 215.64\n"
            ]
          },
          "metadata": {},
          "output_type": "display_data"
        },
        {
          "data": {
            "text/html": [
              "<pre style=\"white-space:pre;overflow-x:auto;line-height:normal;font-family:Menlo,'DejaVu Sans Mono',consolas,'Courier New',monospace\">Eval num_timesteps=225000, episode_reward=-57.83 +/- 43.28\n",
              "</pre>\n"
            ],
            "text/plain": [
              "Eval num_timesteps=225000, episode_reward=-57.83 +/- 43.28\n"
            ]
          },
          "metadata": {},
          "output_type": "display_data"
        },
        {
          "data": {
            "text/html": [
              "<pre style=\"white-space:pre;overflow-x:auto;line-height:normal;font-family:Menlo,'DejaVu Sans Mono',consolas,'Courier New',monospace\">Episode length: 852.22 +/- 297.54\n",
              "</pre>\n"
            ],
            "text/plain": [
              "Episode length: 852.22 +/- 297.54\n"
            ]
          },
          "metadata": {},
          "output_type": "display_data"
        },
        {
          "data": {
            "text/html": [
              "<pre style=\"white-space:pre;overflow-x:auto;line-height:normal;font-family:Menlo,'DejaVu Sans Mono',consolas,'Courier New',monospace\">Eval num_timesteps=230000, episode_reward=-75.04 +/- 46.18\n",
              "</pre>\n"
            ],
            "text/plain": [
              "Eval num_timesteps=230000, episode_reward=-75.04 +/- 46.18\n"
            ]
          },
          "metadata": {},
          "output_type": "display_data"
        },
        {
          "data": {
            "text/html": [
              "<pre style=\"white-space:pre;overflow-x:auto;line-height:normal;font-family:Menlo,'DejaVu Sans Mono',consolas,'Courier New',monospace\">Episode length: 698.64 +/- 360.51\n",
              "</pre>\n"
            ],
            "text/plain": [
              "Episode length: 698.64 +/- 360.51\n"
            ]
          },
          "metadata": {},
          "output_type": "display_data"
        },
        {
          "data": {
            "text/html": [
              "<pre style=\"white-space:pre;overflow-x:auto;line-height:normal;font-family:Menlo,'DejaVu Sans Mono',consolas,'Courier New',monospace\">Eval num_timesteps=235000, episode_reward=-71.59 +/- 56.41\n",
              "</pre>\n"
            ],
            "text/plain": [
              "Eval num_timesteps=235000, episode_reward=-71.59 +/- 56.41\n"
            ]
          },
          "metadata": {},
          "output_type": "display_data"
        },
        {
          "data": {
            "text/html": [
              "<pre style=\"white-space:pre;overflow-x:auto;line-height:normal;font-family:Menlo,'DejaVu Sans Mono',consolas,'Courier New',monospace\">Episode length: 819.50 +/- 265.68\n",
              "</pre>\n"
            ],
            "text/plain": [
              "Episode length: 819.50 +/- 265.68\n"
            ]
          },
          "metadata": {},
          "output_type": "display_data"
        },
        {
          "data": {
            "text/html": [
              "<pre style=\"white-space:pre;overflow-x:auto;line-height:normal;font-family:Menlo,'DejaVu Sans Mono',consolas,'Courier New',monospace\">Eval num_timesteps=240000, episode_reward=-83.87 +/- 49.42\n",
              "</pre>\n"
            ],
            "text/plain": [
              "Eval num_timesteps=240000, episode_reward=-83.87 +/- 49.42\n"
            ]
          },
          "metadata": {},
          "output_type": "display_data"
        },
        {
          "data": {
            "text/html": [
              "<pre style=\"white-space:pre;overflow-x:auto;line-height:normal;font-family:Menlo,'DejaVu Sans Mono',consolas,'Courier New',monospace\">Episode length: 707.96 +/- 342.10\n",
              "</pre>\n"
            ],
            "text/plain": [
              "Episode length: 707.96 +/- 342.10\n"
            ]
          },
          "metadata": {},
          "output_type": "display_data"
        },
        {
          "data": {
            "text/html": [
              "<pre style=\"white-space:pre;overflow-x:auto;line-height:normal;font-family:Menlo,'DejaVu Sans Mono',consolas,'Courier New',monospace\">Eval num_timesteps=245000, episode_reward=-83.59 +/- 55.49\n",
              "</pre>\n"
            ],
            "text/plain": [
              "Eval num_timesteps=245000, episode_reward=-83.59 +/- 55.49\n"
            ]
          },
          "metadata": {},
          "output_type": "display_data"
        },
        {
          "data": {
            "text/html": [
              "<pre style=\"white-space:pre;overflow-x:auto;line-height:normal;font-family:Menlo,'DejaVu Sans Mono',consolas,'Courier New',monospace\">Episode length: 803.54 +/- 277.92\n",
              "</pre>\n"
            ],
            "text/plain": [
              "Episode length: 803.54 +/- 277.92\n"
            ]
          },
          "metadata": {},
          "output_type": "display_data"
        },
        {
          "data": {
            "text/html": [
              "<pre style=\"white-space:pre;overflow-x:auto;line-height:normal;font-family:Menlo,'DejaVu Sans Mono',consolas,'Courier New',monospace\">Eval num_timesteps=250000, episode_reward=-92.65 +/- 58.25\n",
              "</pre>\n"
            ],
            "text/plain": [
              "Eval num_timesteps=250000, episode_reward=-92.65 +/- 58.25\n"
            ]
          },
          "metadata": {},
          "output_type": "display_data"
        },
        {
          "data": {
            "text/html": [
              "<pre style=\"white-space:pre;overflow-x:auto;line-height:normal;font-family:Menlo,'DejaVu Sans Mono',consolas,'Courier New',monospace\">Episode length: 841.14 +/- 248.35\n",
              "</pre>\n"
            ],
            "text/plain": [
              "Episode length: 841.14 +/- 248.35\n"
            ]
          },
          "metadata": {},
          "output_type": "display_data"
        },
        {
          "data": {
            "text/html": [
              "<pre style=\"white-space:pre;overflow-x:auto;line-height:normal;font-family:Menlo,'DejaVu Sans Mono',consolas,'Courier New',monospace\">Eval num_timesteps=255000, episode_reward=-79.53 +/- 49.83\n",
              "</pre>\n"
            ],
            "text/plain": [
              "Eval num_timesteps=255000, episode_reward=-79.53 +/- 49.83\n"
            ]
          },
          "metadata": {},
          "output_type": "display_data"
        },
        {
          "data": {
            "text/html": [
              "<pre style=\"white-space:pre;overflow-x:auto;line-height:normal;font-family:Menlo,'DejaVu Sans Mono',consolas,'Courier New',monospace\">Episode length: 792.94 +/- 303.75\n",
              "</pre>\n"
            ],
            "text/plain": [
              "Episode length: 792.94 +/- 303.75\n"
            ]
          },
          "metadata": {},
          "output_type": "display_data"
        },
        {
          "data": {
            "text/html": [
              "<pre style=\"white-space:pre;overflow-x:auto;line-height:normal;font-family:Menlo,'DejaVu Sans Mono',consolas,'Courier New',monospace\">Eval num_timesteps=260000, episode_reward=-66.53 +/- 26.97\n",
              "</pre>\n"
            ],
            "text/plain": [
              "Eval num_timesteps=260000, episode_reward=-66.53 +/- 26.97\n"
            ]
          },
          "metadata": {},
          "output_type": "display_data"
        },
        {
          "data": {
            "text/html": [
              "<pre style=\"white-space:pre;overflow-x:auto;line-height:normal;font-family:Menlo,'DejaVu Sans Mono',consolas,'Courier New',monospace\">Episode length: 888.50 +/- 263.65\n",
              "</pre>\n"
            ],
            "text/plain": [
              "Episode length: 888.50 +/- 263.65\n"
            ]
          },
          "metadata": {},
          "output_type": "display_data"
        },
        {
          "data": {
            "text/html": [
              "<pre style=\"white-space:pre;overflow-x:auto;line-height:normal;font-family:Menlo,'DejaVu Sans Mono',consolas,'Courier New',monospace\">Eval num_timesteps=265000, episode_reward=-68.99 +/- 33.42\n",
              "</pre>\n"
            ],
            "text/plain": [
              "Eval num_timesteps=265000, episode_reward=-68.99 +/- 33.42\n"
            ]
          },
          "metadata": {},
          "output_type": "display_data"
        },
        {
          "data": {
            "text/html": [
              "<pre style=\"white-space:pre;overflow-x:auto;line-height:normal;font-family:Menlo,'DejaVu Sans Mono',consolas,'Courier New',monospace\">Episode length: 889.70 +/- 248.46\n",
              "</pre>\n"
            ],
            "text/plain": [
              "Episode length: 889.70 +/- 248.46\n"
            ]
          },
          "metadata": {},
          "output_type": "display_data"
        },
        {
          "data": {
            "text/html": [
              "<pre style=\"white-space:pre;overflow-x:auto;line-height:normal;font-family:Menlo,'DejaVu Sans Mono',consolas,'Courier New',monospace\">Eval num_timesteps=270000, episode_reward=-66.61 +/- 46.27\n",
              "</pre>\n"
            ],
            "text/plain": [
              "Eval num_timesteps=270000, episode_reward=-66.61 +/- 46.27\n"
            ]
          },
          "metadata": {},
          "output_type": "display_data"
        },
        {
          "data": {
            "text/html": [
              "<pre style=\"white-space:pre;overflow-x:auto;line-height:normal;font-family:Menlo,'DejaVu Sans Mono',consolas,'Courier New',monospace\">Episode length: 822.96 +/- 306.95\n",
              "</pre>\n"
            ],
            "text/plain": [
              "Episode length: 822.96 +/- 306.95\n"
            ]
          },
          "metadata": {},
          "output_type": "display_data"
        },
        {
          "data": {
            "text/html": [
              "<pre style=\"white-space:pre;overflow-x:auto;line-height:normal;font-family:Menlo,'DejaVu Sans Mono',consolas,'Courier New',monospace\">Eval num_timesteps=275000, episode_reward=-80.55 +/- 45.48\n",
              "</pre>\n"
            ],
            "text/plain": [
              "Eval num_timesteps=275000, episode_reward=-80.55 +/- 45.48\n"
            ]
          },
          "metadata": {},
          "output_type": "display_data"
        },
        {
          "data": {
            "text/html": [
              "<pre style=\"white-space:pre;overflow-x:auto;line-height:normal;font-family:Menlo,'DejaVu Sans Mono',consolas,'Courier New',monospace\">Episode length: 709.36 +/- 348.38\n",
              "</pre>\n"
            ],
            "text/plain": [
              "Episode length: 709.36 +/- 348.38\n"
            ]
          },
          "metadata": {},
          "output_type": "display_data"
        },
        {
          "data": {
            "text/html": [
              "<pre style=\"white-space:pre;overflow-x:auto;line-height:normal;font-family:Menlo,'DejaVu Sans Mono',consolas,'Courier New',monospace\">Eval num_timesteps=280000, episode_reward=-85.06 +/- 53.20\n",
              "</pre>\n"
            ],
            "text/plain": [
              "Eval num_timesteps=280000, episode_reward=-85.06 +/- 53.20\n"
            ]
          },
          "metadata": {},
          "output_type": "display_data"
        },
        {
          "data": {
            "text/html": [
              "<pre style=\"white-space:pre;overflow-x:auto;line-height:normal;font-family:Menlo,'DejaVu Sans Mono',consolas,'Courier New',monospace\">Episode length: 759.36 +/- 299.14\n",
              "</pre>\n"
            ],
            "text/plain": [
              "Episode length: 759.36 +/- 299.14\n"
            ]
          },
          "metadata": {},
          "output_type": "display_data"
        },
        {
          "data": {
            "text/html": [
              "<pre style=\"white-space:pre;overflow-x:auto;line-height:normal;font-family:Menlo,'DejaVu Sans Mono',consolas,'Courier New',monospace\">Eval num_timesteps=285000, episode_reward=-65.84 +/- 38.85\n",
              "</pre>\n"
            ],
            "text/plain": [
              "Eval num_timesteps=285000, episode_reward=-65.84 +/- 38.85\n"
            ]
          },
          "metadata": {},
          "output_type": "display_data"
        },
        {
          "data": {
            "text/html": [
              "<pre style=\"white-space:pre;overflow-x:auto;line-height:normal;font-family:Menlo,'DejaVu Sans Mono',consolas,'Courier New',monospace\">Eval num_timesteps=290000, episode_reward=-68.89 +/- 39.79\n",
              "</pre>\n"
            ],
            "text/plain": [
              "Eval num_timesteps=290000, episode_reward=-68.89 +/- 39.79\n"
            ]
          },
          "metadata": {},
          "output_type": "display_data"
        },
        {
          "data": {
            "text/html": [
              "<pre style=\"white-space:pre;overflow-x:auto;line-height:normal;font-family:Menlo,'DejaVu Sans Mono',consolas,'Courier New',monospace\">Episode length: 787.50 +/- 329.89\n",
              "</pre>\n"
            ],
            "text/plain": [
              "Episode length: 787.50 +/- 329.89\n"
            ]
          },
          "metadata": {},
          "output_type": "display_data"
        },
        {
          "data": {
            "text/html": [
              "<pre style=\"white-space:pre;overflow-x:auto;line-height:normal;font-family:Menlo,'DejaVu Sans Mono',consolas,'Courier New',monospace\">Eval num_timesteps=295000, episode_reward=-88.31 +/- 43.57\n",
              "</pre>\n"
            ],
            "text/plain": [
              "Eval num_timesteps=295000, episode_reward=-88.31 +/- 43.57\n"
            ]
          },
          "metadata": {},
          "output_type": "display_data"
        },
        {
          "data": {
            "text/html": [
              "<pre style=\"white-space:pre;overflow-x:auto;line-height:normal;font-family:Menlo,'DejaVu Sans Mono',consolas,'Courier New',monospace\">Episode length: 642.54 +/- 353.59\n",
              "</pre>\n"
            ],
            "text/plain": [
              "Episode length: 642.54 +/- 353.59\n"
            ]
          },
          "metadata": {},
          "output_type": "display_data"
        },
        {
          "data": {
            "text/html": [
              "<pre style=\"white-space:pre;overflow-x:auto;line-height:normal;font-family:Menlo,'DejaVu Sans Mono',consolas,'Courier New',monospace\">Eval num_timesteps=300000, episode_reward=-82.50 +/- 55.45\n",
              "</pre>\n"
            ],
            "text/plain": [
              "Eval num_timesteps=300000, episode_reward=-82.50 +/- 55.45\n"
            ]
          },
          "metadata": {},
          "output_type": "display_data"
        },
        {
          "data": {
            "text/html": [
              "<pre style=\"white-space:pre;overflow-x:auto;line-height:normal;font-family:Menlo,'DejaVu Sans Mono',consolas,'Courier New',monospace\">Episode length: 745.28 +/- 350.20\n",
              "</pre>\n"
            ],
            "text/plain": [
              "Episode length: 745.28 +/- 350.20\n"
            ]
          },
          "metadata": {},
          "output_type": "display_data"
        },
        {
          "data": {
            "text/html": [
              "<pre style=\"white-space:pre;overflow-x:auto;line-height:normal;font-family:Menlo,'DejaVu Sans Mono',consolas,'Courier New',monospace\">Eval num_timesteps=305000, episode_reward=-96.73 +/- 47.55\n",
              "</pre>\n"
            ],
            "text/plain": [
              "Eval num_timesteps=305000, episode_reward=-96.73 +/- 47.55\n"
            ]
          },
          "metadata": {},
          "output_type": "display_data"
        },
        {
          "data": {
            "text/html": [
              "<pre style=\"white-space:pre;overflow-x:auto;line-height:normal;font-family:Menlo,'DejaVu Sans Mono',consolas,'Courier New',monospace\">Episode length: 704.04 +/- 328.20\n",
              "</pre>\n"
            ],
            "text/plain": [
              "Episode length: 704.04 +/- 328.20\n"
            ]
          },
          "metadata": {},
          "output_type": "display_data"
        },
        {
          "data": {
            "text/html": [
              "<pre style=\"white-space:pre;overflow-x:auto;line-height:normal;font-family:Menlo,'DejaVu Sans Mono',consolas,'Courier New',monospace\">Eval num_timesteps=310000, episode_reward=-91.18 +/- 48.37\n",
              "</pre>\n"
            ],
            "text/plain": [
              "Eval num_timesteps=310000, episode_reward=-91.18 +/- 48.37\n"
            ]
          },
          "metadata": {},
          "output_type": "display_data"
        },
        {
          "data": {
            "text/html": [
              "<pre style=\"white-space:pre;overflow-x:auto;line-height:normal;font-family:Menlo,'DejaVu Sans Mono',consolas,'Courier New',monospace\">Episode length: 731.00 +/- 324.18\n",
              "</pre>\n"
            ],
            "text/plain": [
              "Episode length: 731.00 +/- 324.18\n"
            ]
          },
          "metadata": {},
          "output_type": "display_data"
        },
        {
          "data": {
            "text/html": [
              "<pre style=\"white-space:pre;overflow-x:auto;line-height:normal;font-family:Menlo,'DejaVu Sans Mono',consolas,'Courier New',monospace\">Eval num_timesteps=315000, episode_reward=-102.94 +/- 57.56\n",
              "</pre>\n"
            ],
            "text/plain": [
              "Eval num_timesteps=315000, episode_reward=-102.94 +/- 57.56\n"
            ]
          },
          "metadata": {},
          "output_type": "display_data"
        },
        {
          "data": {
            "text/html": [
              "<pre style=\"white-space:pre;overflow-x:auto;line-height:normal;font-family:Menlo,'DejaVu Sans Mono',consolas,'Courier New',monospace\">Episode length: 696.62 +/- 333.85\n",
              "</pre>\n"
            ],
            "text/plain": [
              "Episode length: 696.62 +/- 333.85\n"
            ]
          },
          "metadata": {},
          "output_type": "display_data"
        },
        {
          "data": {
            "text/html": [
              "<pre style=\"white-space:pre;overflow-x:auto;line-height:normal;font-family:Menlo,'DejaVu Sans Mono',consolas,'Courier New',monospace\">Eval num_timesteps=320000, episode_reward=-89.94 +/- 54.37\n",
              "</pre>\n"
            ],
            "text/plain": [
              "Eval num_timesteps=320000, episode_reward=-89.94 +/- 54.37\n"
            ]
          },
          "metadata": {},
          "output_type": "display_data"
        },
        {
          "data": {
            "text/html": [
              "<pre style=\"white-space:pre;overflow-x:auto;line-height:normal;font-family:Menlo,'DejaVu Sans Mono',consolas,'Courier New',monospace\">Episode length: 708.06 +/- 329.46\n",
              "</pre>\n"
            ],
            "text/plain": [
              "Episode length: 708.06 +/- 329.46\n"
            ]
          },
          "metadata": {},
          "output_type": "display_data"
        },
        {
          "data": {
            "text/html": [
              "<pre style=\"white-space:pre;overflow-x:auto;line-height:normal;font-family:Menlo,'DejaVu Sans Mono',consolas,'Courier New',monospace\">Eval num_timesteps=325000, episode_reward=-122.77 +/- 45.32\n",
              "</pre>\n"
            ],
            "text/plain": [
              "Eval num_timesteps=325000, episode_reward=-122.77 +/- 45.32\n"
            ]
          },
          "metadata": {},
          "output_type": "display_data"
        },
        {
          "data": {
            "text/html": [
              "<pre style=\"white-space:pre;overflow-x:auto;line-height:normal;font-family:Menlo,'DejaVu Sans Mono',consolas,'Courier New',monospace\">Episode length: 626.66 +/- 304.16\n",
              "</pre>\n"
            ],
            "text/plain": [
              "Episode length: 626.66 +/- 304.16\n"
            ]
          },
          "metadata": {},
          "output_type": "display_data"
        },
        {
          "data": {
            "text/html": [
              "<pre style=\"white-space:pre;overflow-x:auto;line-height:normal;font-family:Menlo,'DejaVu Sans Mono',consolas,'Courier New',monospace\">Eval num_timesteps=330000, episode_reward=-103.24 +/- 36.84\n",
              "</pre>\n"
            ],
            "text/plain": [
              "Eval num_timesteps=330000, episode_reward=-103.24 +/- 36.84\n"
            ]
          },
          "metadata": {},
          "output_type": "display_data"
        },
        {
          "data": {
            "text/html": [
              "<pre style=\"white-space:pre;overflow-x:auto;line-height:normal;font-family:Menlo,'DejaVu Sans Mono',consolas,'Courier New',monospace\">Episode length: 666.88 +/- 353.77\n",
              "</pre>\n"
            ],
            "text/plain": [
              "Episode length: 666.88 +/- 353.77\n"
            ]
          },
          "metadata": {},
          "output_type": "display_data"
        },
        {
          "data": {
            "text/html": [
              "<pre style=\"white-space:pre;overflow-x:auto;line-height:normal;font-family:Menlo,'DejaVu Sans Mono',consolas,'Courier New',monospace\">Eval num_timesteps=335000, episode_reward=-128.10 +/- 62.38\n",
              "</pre>\n"
            ],
            "text/plain": [
              "Eval num_timesteps=335000, episode_reward=-128.10 +/- 62.38\n"
            ]
          },
          "metadata": {},
          "output_type": "display_data"
        },
        {
          "data": {
            "text/html": [
              "<pre style=\"white-space:pre;overflow-x:auto;line-height:normal;font-family:Menlo,'DejaVu Sans Mono',consolas,'Courier New',monospace\">Episode length: 714.06 +/- 317.86\n",
              "</pre>\n"
            ],
            "text/plain": [
              "Episode length: 714.06 +/- 317.86\n"
            ]
          },
          "metadata": {},
          "output_type": "display_data"
        },
        {
          "data": {
            "text/html": [
              "<pre style=\"white-space:pre;overflow-x:auto;line-height:normal;font-family:Menlo,'DejaVu Sans Mono',consolas,'Courier New',monospace\">Eval num_timesteps=340000, episode_reward=-120.18 +/- 31.26\n",
              "</pre>\n"
            ],
            "text/plain": [
              "Eval num_timesteps=340000, episode_reward=-120.18 +/- 31.26\n"
            ]
          },
          "metadata": {},
          "output_type": "display_data"
        },
        {
          "data": {
            "text/html": [
              "<pre style=\"white-space:pre;overflow-x:auto;line-height:normal;font-family:Menlo,'DejaVu Sans Mono',consolas,'Courier New',monospace\">Episode length: 520.38 +/- 314.88\n",
              "</pre>\n"
            ],
            "text/plain": [
              "Episode length: 520.38 +/- 314.88\n"
            ]
          },
          "metadata": {},
          "output_type": "display_data"
        },
        {
          "data": {
            "text/html": [
              "<pre style=\"white-space:pre;overflow-x:auto;line-height:normal;font-family:Menlo,'DejaVu Sans Mono',consolas,'Courier New',monospace\">Eval num_timesteps=345000, episode_reward=-126.46 +/- 44.54\n",
              "</pre>\n"
            ],
            "text/plain": [
              "Eval num_timesteps=345000, episode_reward=-126.46 +/- 44.54\n"
            ]
          },
          "metadata": {},
          "output_type": "display_data"
        },
        {
          "data": {
            "text/html": [
              "<pre style=\"white-space:pre;overflow-x:auto;line-height:normal;font-family:Menlo,'DejaVu Sans Mono',consolas,'Courier New',monospace\">Episode length: 644.40 +/- 356.40\n",
              "</pre>\n"
            ],
            "text/plain": [
              "Episode length: 644.40 +/- 356.40\n"
            ]
          },
          "metadata": {},
          "output_type": "display_data"
        },
        {
          "data": {
            "text/html": [
              "<pre style=\"white-space:pre;overflow-x:auto;line-height:normal;font-family:Menlo,'DejaVu Sans Mono',consolas,'Courier New',monospace\">Eval num_timesteps=350000, episode_reward=-114.38 +/- 33.57\n",
              "</pre>\n"
            ],
            "text/plain": [
              "Eval num_timesteps=350000, episode_reward=-114.38 +/- 33.57\n"
            ]
          },
          "metadata": {},
          "output_type": "display_data"
        },
        {
          "data": {
            "text/html": [
              "<pre style=\"white-space:pre;overflow-x:auto;line-height:normal;font-family:Menlo,'DejaVu Sans Mono',consolas,'Courier New',monospace\">Episode length: 610.08 +/- 355.86\n",
              "</pre>\n"
            ],
            "text/plain": [
              "Episode length: 610.08 +/- 355.86\n"
            ]
          },
          "metadata": {},
          "output_type": "display_data"
        },
        {
          "data": {
            "text/html": [
              "<pre style=\"white-space:pre;overflow-x:auto;line-height:normal;font-family:Menlo,'DejaVu Sans Mono',consolas,'Courier New',monospace\">Eval num_timesteps=355000, episode_reward=-137.37 +/- 36.37\n",
              "</pre>\n"
            ],
            "text/plain": [
              "Eval num_timesteps=355000, episode_reward=-137.37 +/- 36.37\n"
            ]
          },
          "metadata": {},
          "output_type": "display_data"
        },
        {
          "data": {
            "text/html": [
              "<pre style=\"white-space:pre;overflow-x:auto;line-height:normal;font-family:Menlo,'DejaVu Sans Mono',consolas,'Courier New',monospace\">Episode length: 413.20 +/- 294.77\n",
              "</pre>\n"
            ],
            "text/plain": [
              "Episode length: 413.20 +/- 294.77\n"
            ]
          },
          "metadata": {},
          "output_type": "display_data"
        },
        {
          "data": {
            "text/html": [
              "<pre style=\"white-space:pre;overflow-x:auto;line-height:normal;font-family:Menlo,'DejaVu Sans Mono',consolas,'Courier New',monospace\">Eval num_timesteps=360000, episode_reward=-135.74 +/- 35.65\n",
              "</pre>\n"
            ],
            "text/plain": [
              "Eval num_timesteps=360000, episode_reward=-135.74 +/- 35.65\n"
            ]
          },
          "metadata": {},
          "output_type": "display_data"
        },
        {
          "data": {
            "text/html": [
              "<pre style=\"white-space:pre;overflow-x:auto;line-height:normal;font-family:Menlo,'DejaVu Sans Mono',consolas,'Courier New',monospace\">Episode length: 553.80 +/- 344.94\n",
              "</pre>\n"
            ],
            "text/plain": [
              "Episode length: 553.80 +/- 344.94\n"
            ]
          },
          "metadata": {},
          "output_type": "display_data"
        },
        {
          "data": {
            "text/html": [
              "<pre style=\"white-space:pre;overflow-x:auto;line-height:normal;font-family:Menlo,'DejaVu Sans Mono',consolas,'Courier New',monospace\">Eval num_timesteps=365000, episode_reward=-129.37 +/- 42.85\n",
              "</pre>\n"
            ],
            "text/plain": [
              "Eval num_timesteps=365000, episode_reward=-129.37 +/- 42.85\n"
            ]
          },
          "metadata": {},
          "output_type": "display_data"
        },
        {
          "data": {
            "text/html": [
              "<pre style=\"white-space:pre;overflow-x:auto;line-height:normal;font-family:Menlo,'DejaVu Sans Mono',consolas,'Courier New',monospace\">Episode length: 519.78 +/- 343.80\n",
              "</pre>\n"
            ],
            "text/plain": [
              "Episode length: 519.78 +/- 343.80\n"
            ]
          },
          "metadata": {},
          "output_type": "display_data"
        },
        {
          "data": {
            "text/html": [
              "<pre style=\"white-space:pre;overflow-x:auto;line-height:normal;font-family:Menlo,'DejaVu Sans Mono',consolas,'Courier New',monospace\">Eval num_timesteps=370000, episode_reward=-124.45 +/- 36.99\n",
              "</pre>\n"
            ],
            "text/plain": [
              "Eval num_timesteps=370000, episode_reward=-124.45 +/- 36.99\n"
            ]
          },
          "metadata": {},
          "output_type": "display_data"
        },
        {
          "data": {
            "text/html": [
              "<pre style=\"white-space:pre;overflow-x:auto;line-height:normal;font-family:Menlo,'DejaVu Sans Mono',consolas,'Courier New',monospace\">Episode length: 557.44 +/- 359.57\n",
              "</pre>\n"
            ],
            "text/plain": [
              "Episode length: 557.44 +/- 359.57\n"
            ]
          },
          "metadata": {},
          "output_type": "display_data"
        },
        {
          "data": {
            "text/html": [
              "<pre style=\"white-space:pre;overflow-x:auto;line-height:normal;font-family:Menlo,'DejaVu Sans Mono',consolas,'Courier New',monospace\">Eval num_timesteps=375000, episode_reward=-135.15 +/- 34.44\n",
              "</pre>\n"
            ],
            "text/plain": [
              "Eval num_timesteps=375000, episode_reward=-135.15 +/- 34.44\n"
            ]
          },
          "metadata": {},
          "output_type": "display_data"
        },
        {
          "data": {
            "text/html": [
              "<pre style=\"white-space:pre;overflow-x:auto;line-height:normal;font-family:Menlo,'DejaVu Sans Mono',consolas,'Courier New',monospace\">Episode length: 433.42 +/- 327.06\n",
              "</pre>\n"
            ],
            "text/plain": [
              "Episode length: 433.42 +/- 327.06\n"
            ]
          },
          "metadata": {},
          "output_type": "display_data"
        },
        {
          "data": {
            "text/html": [
              "<pre style=\"white-space:pre;overflow-x:auto;line-height:normal;font-family:Menlo,'DejaVu Sans Mono',consolas,'Courier New',monospace\">Eval num_timesteps=380000, episode_reward=-114.32 +/- 42.08\n",
              "</pre>\n"
            ],
            "text/plain": [
              "Eval num_timesteps=380000, episode_reward=-114.32 +/- 42.08\n"
            ]
          },
          "metadata": {},
          "output_type": "display_data"
        },
        {
          "data": {
            "text/html": [
              "<pre style=\"white-space:pre;overflow-x:auto;line-height:normal;font-family:Menlo,'DejaVu Sans Mono',consolas,'Courier New',monospace\">Episode length: 622.98 +/- 357.03\n",
              "</pre>\n"
            ],
            "text/plain": [
              "Episode length: 622.98 +/- 357.03\n"
            ]
          },
          "metadata": {},
          "output_type": "display_data"
        },
        {
          "data": {
            "text/html": [
              "<pre style=\"white-space:pre;overflow-x:auto;line-height:normal;font-family:Menlo,'DejaVu Sans Mono',consolas,'Courier New',monospace\">Eval num_timesteps=385000, episode_reward=-122.17 +/- 38.42\n",
              "</pre>\n"
            ],
            "text/plain": [
              "Eval num_timesteps=385000, episode_reward=-122.17 +/- 38.42\n"
            ]
          },
          "metadata": {},
          "output_type": "display_data"
        },
        {
          "data": {
            "text/html": [
              "<pre style=\"white-space:pre;overflow-x:auto;line-height:normal;font-family:Menlo,'DejaVu Sans Mono',consolas,'Courier New',monospace\">Episode length: 550.70 +/- 354.53\n",
              "</pre>\n"
            ],
            "text/plain": [
              "Episode length: 550.70 +/- 354.53\n"
            ]
          },
          "metadata": {},
          "output_type": "display_data"
        },
        {
          "data": {
            "text/html": [
              "<pre style=\"white-space:pre;overflow-x:auto;line-height:normal;font-family:Menlo,'DejaVu Sans Mono',consolas,'Courier New',monospace\">Eval num_timesteps=390000, episode_reward=-123.42 +/- 40.15\n",
              "</pre>\n"
            ],
            "text/plain": [
              "Eval num_timesteps=390000, episode_reward=-123.42 +/- 40.15\n"
            ]
          },
          "metadata": {},
          "output_type": "display_data"
        },
        {
          "data": {
            "text/html": [
              "<pre style=\"white-space:pre;overflow-x:auto;line-height:normal;font-family:Menlo,'DejaVu Sans Mono',consolas,'Courier New',monospace\">Episode length: 626.80 +/- 350.45\n",
              "</pre>\n"
            ],
            "text/plain": [
              "Episode length: 626.80 +/- 350.45\n"
            ]
          },
          "metadata": {},
          "output_type": "display_data"
        },
        {
          "data": {
            "text/html": [
              "<pre style=\"white-space:pre;overflow-x:auto;line-height:normal;font-family:Menlo,'DejaVu Sans Mono',consolas,'Courier New',monospace\">Eval num_timesteps=395000, episode_reward=-118.85 +/- 41.78\n",
              "</pre>\n"
            ],
            "text/plain": [
              "Eval num_timesteps=395000, episode_reward=-118.85 +/- 41.78\n"
            ]
          },
          "metadata": {},
          "output_type": "display_data"
        },
        {
          "data": {
            "text/html": [
              "<pre style=\"white-space:pre;overflow-x:auto;line-height:normal;font-family:Menlo,'DejaVu Sans Mono',consolas,'Courier New',monospace\">Episode length: 521.88 +/- 376.19\n",
              "</pre>\n"
            ],
            "text/plain": [
              "Episode length: 521.88 +/- 376.19\n"
            ]
          },
          "metadata": {},
          "output_type": "display_data"
        },
        {
          "data": {
            "text/html": [
              "<pre style=\"white-space:pre;overflow-x:auto;line-height:normal;font-family:Menlo,'DejaVu Sans Mono',consolas,'Courier New',monospace\">Eval num_timesteps=400000, episode_reward=-128.73 +/- 43.72\n",
              "</pre>\n"
            ],
            "text/plain": [
              "Eval num_timesteps=400000, episode_reward=-128.73 +/- 43.72\n"
            ]
          },
          "metadata": {},
          "output_type": "display_data"
        },
        {
          "data": {
            "text/html": [
              "<pre style=\"white-space:pre;overflow-x:auto;line-height:normal;font-family:Menlo,'DejaVu Sans Mono',consolas,'Courier New',monospace\">Episode length: 502.08 +/- 358.55\n",
              "</pre>\n"
            ],
            "text/plain": [
              "Episode length: 502.08 +/- 358.55\n"
            ]
          },
          "metadata": {},
          "output_type": "display_data"
        },
        {
          "data": {
            "text/html": [
              "<pre style=\"white-space:pre;overflow-x:auto;line-height:normal;font-family:Menlo,'DejaVu Sans Mono',consolas,'Courier New',monospace\">Eval num_timesteps=405000, episode_reward=-133.84 +/- 38.37\n",
              "</pre>\n"
            ],
            "text/plain": [
              "Eval num_timesteps=405000, episode_reward=-133.84 +/- 38.37\n"
            ]
          },
          "metadata": {},
          "output_type": "display_data"
        },
        {
          "data": {
            "text/html": [
              "<pre style=\"white-space:pre;overflow-x:auto;line-height:normal;font-family:Menlo,'DejaVu Sans Mono',consolas,'Courier New',monospace\">Episode length: 442.36 +/- 312.92\n",
              "</pre>\n"
            ],
            "text/plain": [
              "Episode length: 442.36 +/- 312.92\n"
            ]
          },
          "metadata": {},
          "output_type": "display_data"
        },
        {
          "data": {
            "text/html": [
              "<pre style=\"white-space:pre;overflow-x:auto;line-height:normal;font-family:Menlo,'DejaVu Sans Mono',consolas,'Courier New',monospace\">Eval num_timesteps=410000, episode_reward=-121.19 +/- 38.55\n",
              "</pre>\n"
            ],
            "text/plain": [
              "Eval num_timesteps=410000, episode_reward=-121.19 +/- 38.55\n"
            ]
          },
          "metadata": {},
          "output_type": "display_data"
        },
        {
          "data": {
            "text/html": [
              "<pre style=\"white-space:pre;overflow-x:auto;line-height:normal;font-family:Menlo,'DejaVu Sans Mono',consolas,'Courier New',monospace\">Episode length: 458.46 +/- 364.05\n",
              "</pre>\n"
            ],
            "text/plain": [
              "Episode length: 458.46 +/- 364.05\n"
            ]
          },
          "metadata": {},
          "output_type": "display_data"
        },
        {
          "data": {
            "text/html": [
              "<pre style=\"white-space:pre;overflow-x:auto;line-height:normal;font-family:Menlo,'DejaVu Sans Mono',consolas,'Courier New',monospace\">Eval num_timesteps=415000, episode_reward=-115.66 +/- 39.60\n",
              "</pre>\n"
            ],
            "text/plain": [
              "Eval num_timesteps=415000, episode_reward=-115.66 +/- 39.60\n"
            ]
          },
          "metadata": {},
          "output_type": "display_data"
        },
        {
          "data": {
            "text/html": [
              "<pre style=\"white-space:pre;overflow-x:auto;line-height:normal;font-family:Menlo,'DejaVu Sans Mono',consolas,'Courier New',monospace\">Episode length: 494.18 +/- 355.25\n",
              "</pre>\n"
            ],
            "text/plain": [
              "Episode length: 494.18 +/- 355.25\n"
            ]
          },
          "metadata": {},
          "output_type": "display_data"
        },
        {
          "data": {
            "text/html": [
              "<pre style=\"white-space:pre;overflow-x:auto;line-height:normal;font-family:Menlo,'DejaVu Sans Mono',consolas,'Courier New',monospace\">Eval num_timesteps=420000, episode_reward=-124.87 +/- 34.88\n",
              "</pre>\n"
            ],
            "text/plain": [
              "Eval num_timesteps=420000, episode_reward=-124.87 +/- 34.88\n"
            ]
          },
          "metadata": {},
          "output_type": "display_data"
        },
        {
          "data": {
            "text/html": [
              "<pre style=\"white-space:pre;overflow-x:auto;line-height:normal;font-family:Menlo,'DejaVu Sans Mono',consolas,'Courier New',monospace\">Episode length: 469.14 +/- 338.21\n",
              "</pre>\n"
            ],
            "text/plain": [
              "Episode length: 469.14 +/- 338.21\n"
            ]
          },
          "metadata": {},
          "output_type": "display_data"
        },
        {
          "data": {
            "text/html": [
              "<pre style=\"white-space:pre;overflow-x:auto;line-height:normal;font-family:Menlo,'DejaVu Sans Mono',consolas,'Courier New',monospace\">Eval num_timesteps=425000, episode_reward=-126.70 +/- 48.67\n",
              "</pre>\n"
            ],
            "text/plain": [
              "Eval num_timesteps=425000, episode_reward=-126.70 +/- 48.67\n"
            ]
          },
          "metadata": {},
          "output_type": "display_data"
        },
        {
          "data": {
            "text/html": [
              "<pre style=\"white-space:pre;overflow-x:auto;line-height:normal;font-family:Menlo,'DejaVu Sans Mono',consolas,'Courier New',monospace\">Episode length: 539.84 +/- 347.47\n",
              "</pre>\n"
            ],
            "text/plain": [
              "Episode length: 539.84 +/- 347.47\n"
            ]
          },
          "metadata": {},
          "output_type": "display_data"
        },
        {
          "data": {
            "text/html": [
              "<pre style=\"white-space:pre;overflow-x:auto;line-height:normal;font-family:Menlo,'DejaVu Sans Mono',consolas,'Courier New',monospace\">Eval num_timesteps=430000, episode_reward=-132.97 +/- 37.56\n",
              "</pre>\n"
            ],
            "text/plain": [
              "Eval num_timesteps=430000, episode_reward=-132.97 +/- 37.56\n"
            ]
          },
          "metadata": {},
          "output_type": "display_data"
        },
        {
          "data": {
            "text/html": [
              "<pre style=\"white-space:pre;overflow-x:auto;line-height:normal;font-family:Menlo,'DejaVu Sans Mono',consolas,'Courier New',monospace\">Episode length: 398.54 +/- 292.15\n",
              "</pre>\n"
            ],
            "text/plain": [
              "Episode length: 398.54 +/- 292.15\n"
            ]
          },
          "metadata": {},
          "output_type": "display_data"
        },
        {
          "data": {
            "text/html": [
              "<pre style=\"white-space:pre;overflow-x:auto;line-height:normal;font-family:Menlo,'DejaVu Sans Mono',consolas,'Courier New',monospace\">Eval num_timesteps=435000, episode_reward=-121.66 +/- 40.79\n",
              "</pre>\n"
            ],
            "text/plain": [
              "Eval num_timesteps=435000, episode_reward=-121.66 +/- 40.79\n"
            ]
          },
          "metadata": {},
          "output_type": "display_data"
        },
        {
          "data": {
            "text/html": [
              "<pre style=\"white-space:pre;overflow-x:auto;line-height:normal;font-family:Menlo,'DejaVu Sans Mono',consolas,'Courier New',monospace\">Episode length: 457.26 +/- 342.57\n",
              "</pre>\n"
            ],
            "text/plain": [
              "Episode length: 457.26 +/- 342.57\n"
            ]
          },
          "metadata": {},
          "output_type": "display_data"
        },
        {
          "data": {
            "text/html": [
              "<pre style=\"white-space:pre;overflow-x:auto;line-height:normal;font-family:Menlo,'DejaVu Sans Mono',consolas,'Courier New',monospace\">Eval num_timesteps=440000, episode_reward=-122.01 +/- 47.28\n",
              "</pre>\n"
            ],
            "text/plain": [
              "Eval num_timesteps=440000, episode_reward=-122.01 +/- 47.28\n"
            ]
          },
          "metadata": {},
          "output_type": "display_data"
        },
        {
          "data": {
            "text/html": [
              "<pre style=\"white-space:pre;overflow-x:auto;line-height:normal;font-family:Menlo,'DejaVu Sans Mono',consolas,'Courier New',monospace\">Episode length: 486.70 +/- 333.80\n",
              "</pre>\n"
            ],
            "text/plain": [
              "Episode length: 486.70 +/- 333.80\n"
            ]
          },
          "metadata": {},
          "output_type": "display_data"
        },
        {
          "data": {
            "text/html": [
              "<pre style=\"white-space:pre;overflow-x:auto;line-height:normal;font-family:Menlo,'DejaVu Sans Mono',consolas,'Courier New',monospace\">Eval num_timesteps=445000, episode_reward=-123.11 +/- 41.54\n",
              "</pre>\n"
            ],
            "text/plain": [
              "Eval num_timesteps=445000, episode_reward=-123.11 +/- 41.54\n"
            ]
          },
          "metadata": {},
          "output_type": "display_data"
        },
        {
          "data": {
            "text/html": [
              "<pre style=\"white-space:pre;overflow-x:auto;line-height:normal;font-family:Menlo,'DejaVu Sans Mono',consolas,'Courier New',monospace\">Episode length: 453.10 +/- 316.82\n",
              "</pre>\n"
            ],
            "text/plain": [
              "Episode length: 453.10 +/- 316.82\n"
            ]
          },
          "metadata": {},
          "output_type": "display_data"
        },
        {
          "data": {
            "text/html": [
              "<pre style=\"white-space:pre;overflow-x:auto;line-height:normal;font-family:Menlo,'DejaVu Sans Mono',consolas,'Courier New',monospace\">Eval num_timesteps=450000, episode_reward=-110.30 +/- 46.39\n",
              "</pre>\n"
            ],
            "text/plain": [
              "Eval num_timesteps=450000, episode_reward=-110.30 +/- 46.39\n"
            ]
          },
          "metadata": {},
          "output_type": "display_data"
        },
        {
          "data": {
            "text/html": [
              "<pre style=\"white-space:pre;overflow-x:auto;line-height:normal;font-family:Menlo,'DejaVu Sans Mono',consolas,'Courier New',monospace\">Episode length: 533.32 +/- 351.54\n",
              "</pre>\n"
            ],
            "text/plain": [
              "Episode length: 533.32 +/- 351.54\n"
            ]
          },
          "metadata": {},
          "output_type": "display_data"
        },
        {
          "data": {
            "text/html": [
              "<pre style=\"white-space:pre;overflow-x:auto;line-height:normal;font-family:Menlo,'DejaVu Sans Mono',consolas,'Courier New',monospace\">Eval num_timesteps=455000, episode_reward=-132.94 +/- 32.16\n",
              "</pre>\n"
            ],
            "text/plain": [
              "Eval num_timesteps=455000, episode_reward=-132.94 +/- 32.16\n"
            ]
          },
          "metadata": {},
          "output_type": "display_data"
        },
        {
          "data": {
            "text/html": [
              "<pre style=\"white-space:pre;overflow-x:auto;line-height:normal;font-family:Menlo,'DejaVu Sans Mono',consolas,'Courier New',monospace\">Episode length: 373.58 +/- 269.30\n",
              "</pre>\n"
            ],
            "text/plain": [
              "Episode length: 373.58 +/- 269.30\n"
            ]
          },
          "metadata": {},
          "output_type": "display_data"
        },
        {
          "data": {
            "text/html": [
              "<pre style=\"white-space:pre;overflow-x:auto;line-height:normal;font-family:Menlo,'DejaVu Sans Mono',consolas,'Courier New',monospace\">Eval num_timesteps=460000, episode_reward=-124.28 +/- 44.59\n",
              "</pre>\n"
            ],
            "text/plain": [
              "Eval num_timesteps=460000, episode_reward=-124.28 +/- 44.59\n"
            ]
          },
          "metadata": {},
          "output_type": "display_data"
        },
        {
          "data": {
            "text/html": [
              "<pre style=\"white-space:pre;overflow-x:auto;line-height:normal;font-family:Menlo,'DejaVu Sans Mono',consolas,'Courier New',monospace\">Episode length: 464.52 +/- 339.79\n",
              "</pre>\n"
            ],
            "text/plain": [
              "Episode length: 464.52 +/- 339.79\n"
            ]
          },
          "metadata": {},
          "output_type": "display_data"
        },
        {
          "data": {
            "text/html": [
              "<pre style=\"white-space:pre;overflow-x:auto;line-height:normal;font-family:Menlo,'DejaVu Sans Mono',consolas,'Courier New',monospace\">Eval num_timesteps=465000, episode_reward=-110.15 +/- 61.65\n",
              "</pre>\n"
            ],
            "text/plain": [
              "Eval num_timesteps=465000, episode_reward=-110.15 +/- 61.65\n"
            ]
          },
          "metadata": {},
          "output_type": "display_data"
        },
        {
          "data": {
            "text/html": [
              "<pre style=\"white-space:pre;overflow-x:auto;line-height:normal;font-family:Menlo,'DejaVu Sans Mono',consolas,'Courier New',monospace\">Episode length: 542.62 +/- 369.20\n",
              "</pre>\n"
            ],
            "text/plain": [
              "Episode length: 542.62 +/- 369.20\n"
            ]
          },
          "metadata": {},
          "output_type": "display_data"
        },
        {
          "data": {
            "text/html": [
              "<pre style=\"white-space:pre;overflow-x:auto;line-height:normal;font-family:Menlo,'DejaVu Sans Mono',consolas,'Courier New',monospace\">Eval num_timesteps=470000, episode_reward=-103.30 +/- 59.30\n",
              "</pre>\n"
            ],
            "text/plain": [
              "Eval num_timesteps=470000, episode_reward=-103.30 +/- 59.30\n"
            ]
          },
          "metadata": {},
          "output_type": "display_data"
        },
        {
          "data": {
            "text/html": [
              "<pre style=\"white-space:pre;overflow-x:auto;line-height:normal;font-family:Menlo,'DejaVu Sans Mono',consolas,'Courier New',monospace\">Episode length: 561.00 +/- 360.92\n",
              "</pre>\n"
            ],
            "text/plain": [
              "Episode length: 561.00 +/- 360.92\n"
            ]
          },
          "metadata": {},
          "output_type": "display_data"
        },
        {
          "data": {
            "text/html": [
              "<pre style=\"white-space:pre;overflow-x:auto;line-height:normal;font-family:Menlo,'DejaVu Sans Mono',consolas,'Courier New',monospace\">Eval num_timesteps=475000, episode_reward=-96.44 +/- 78.87\n",
              "</pre>\n"
            ],
            "text/plain": [
              "Eval num_timesteps=475000, episode_reward=-96.44 +/- 78.87\n"
            ]
          },
          "metadata": {},
          "output_type": "display_data"
        },
        {
          "data": {
            "text/html": [
              "<pre style=\"white-space:pre;overflow-x:auto;line-height:normal;font-family:Menlo,'DejaVu Sans Mono',consolas,'Courier New',monospace\">Episode length: 419.28 +/- 291.49\n",
              "</pre>\n"
            ],
            "text/plain": [
              "Episode length: 419.28 +/- 291.49\n"
            ]
          },
          "metadata": {},
          "output_type": "display_data"
        },
        {
          "data": {
            "text/html": [
              "<pre style=\"white-space:pre;overflow-x:auto;line-height:normal;font-family:Menlo,'DejaVu Sans Mono',consolas,'Courier New',monospace\">Eval num_timesteps=480000, episode_reward=-88.85 +/- 85.43\n",
              "</pre>\n"
            ],
            "text/plain": [
              "Eval num_timesteps=480000, episode_reward=-88.85 +/- 85.43\n"
            ]
          },
          "metadata": {},
          "output_type": "display_data"
        },
        {
          "data": {
            "text/html": [
              "<pre style=\"white-space:pre;overflow-x:auto;line-height:normal;font-family:Menlo,'DejaVu Sans Mono',consolas,'Courier New',monospace\">Episode length: 475.68 +/- 332.20\n",
              "</pre>\n"
            ],
            "text/plain": [
              "Episode length: 475.68 +/- 332.20\n"
            ]
          },
          "metadata": {},
          "output_type": "display_data"
        },
        {
          "data": {
            "text/html": [
              "<pre style=\"white-space:pre;overflow-x:auto;line-height:normal;font-family:Menlo,'DejaVu Sans Mono',consolas,'Courier New',monospace\">Eval num_timesteps=485000, episode_reward=-110.63 +/- 46.05\n",
              "</pre>\n"
            ],
            "text/plain": [
              "Eval num_timesteps=485000, episode_reward=-110.63 +/- 46.05\n"
            ]
          },
          "metadata": {},
          "output_type": "display_data"
        },
        {
          "data": {
            "text/html": [
              "<pre style=\"white-space:pre;overflow-x:auto;line-height:normal;font-family:Menlo,'DejaVu Sans Mono',consolas,'Courier New',monospace\">Episode length: 425.36 +/- 295.96\n",
              "</pre>\n"
            ],
            "text/plain": [
              "Episode length: 425.36 +/- 295.96\n"
            ]
          },
          "metadata": {},
          "output_type": "display_data"
        },
        {
          "data": {
            "text/html": [
              "<pre style=\"white-space:pre;overflow-x:auto;line-height:normal;font-family:Menlo,'DejaVu Sans Mono',consolas,'Courier New',monospace\">Eval num_timesteps=490000, episode_reward=-106.89 +/- 91.69\n",
              "</pre>\n"
            ],
            "text/plain": [
              "Eval num_timesteps=490000, episode_reward=-106.89 +/- 91.69\n"
            ]
          },
          "metadata": {},
          "output_type": "display_data"
        },
        {
          "data": {
            "text/html": [
              "<pre style=\"white-space:pre;overflow-x:auto;line-height:normal;font-family:Menlo,'DejaVu Sans Mono',consolas,'Courier New',monospace\">Episode length: 478.10 +/- 327.56\n",
              "</pre>\n"
            ],
            "text/plain": [
              "Episode length: 478.10 +/- 327.56\n"
            ]
          },
          "metadata": {},
          "output_type": "display_data"
        },
        {
          "data": {
            "text/html": [
              "<pre style=\"white-space:pre;overflow-x:auto;line-height:normal;font-family:Menlo,'DejaVu Sans Mono',consolas,'Courier New',monospace\">Eval num_timesteps=495000, episode_reward=-129.48 +/- 43.59\n",
              "</pre>\n"
            ],
            "text/plain": [
              "Eval num_timesteps=495000, episode_reward=-129.48 +/- 43.59\n"
            ]
          },
          "metadata": {},
          "output_type": "display_data"
        },
        {
          "data": {
            "text/html": [
              "<pre style=\"white-space:pre;overflow-x:auto;line-height:normal;font-family:Menlo,'DejaVu Sans Mono',consolas,'Courier New',monospace\">Episode length: 442.44 +/- 307.30\n",
              "</pre>\n"
            ],
            "text/plain": [
              "Episode length: 442.44 +/- 307.30\n"
            ]
          },
          "metadata": {},
          "output_type": "display_data"
        },
        {
          "data": {
            "text/html": [
              "<pre style=\"white-space:pre;overflow-x:auto;line-height:normal;font-family:Menlo,'DejaVu Sans Mono',consolas,'Courier New',monospace\">Eval num_timesteps=500000, episode_reward=-130.89 +/- 53.68\n",
              "</pre>\n"
            ],
            "text/plain": [
              "Eval num_timesteps=500000, episode_reward=-130.89 +/- 53.68\n"
            ]
          },
          "metadata": {},
          "output_type": "display_data"
        },
        {
          "data": {
            "text/html": [
              "<pre style=\"white-space:pre;overflow-x:auto;line-height:normal;font-family:Menlo,'DejaVu Sans Mono',consolas,'Courier New',monospace\">Episode length: 392.64 +/- 262.90\n",
              "</pre>\n"
            ],
            "text/plain": [
              "Episode length: 392.64 +/- 262.90\n"
            ]
          },
          "metadata": {},
          "output_type": "display_data"
        },
        {
          "data": {
            "text/html": [
              "<pre style=\"white-space:pre;overflow-x:auto;line-height:normal;font-family:Menlo,'DejaVu Sans Mono',consolas,'Courier New',monospace\"></pre>\n"
            ],
            "text/plain": []
          },
          "metadata": {},
          "output_type": "display_data"
        },
        {
          "data": {
            "text/plain": [
              "<stable_baselines3.ppo.ppo.PPO at 0x74dbe51846e0>"
            ]
          },
          "execution_count": 5,
          "metadata": {},
          "output_type": "execute_result"
        }
      ],
      "source": [
        "# Train model on the environment\n",
        "TRAINING_TIMESTEPS = 500_000\n",
        "model.learn(\n",
        "    total_timesteps=TRAINING_TIMESTEPS, callback=[eval_callback, ProgressBarCallback()]\n",
        ")"
      ]
    },
    {
      "cell_type": "code",
      "execution_count": 3,
      "metadata": {},
      "outputs": [
        {
          "name": "stderr",
          "output_type": "stream",
          "text": [
            "/home/javier/.cache/pypoetry/virtualenvs/deep-reinforcement-learning-gymnasium-u3px5S1O-py3.13/lib/python3.13/site-packages/stable_baselines3/common/on_policy_algorithm.py:150: UserWarning: You are trying to run PPO on the GPU, but it is primarily intended to run on the CPU when not using a CNN policy (you are using ActorCriticPolicy which should be a MlpPolicy). See https://github.com/DLR-RM/stable-baselines3/issues/1245 for more info. You can pass `device='cpu'` or `export CUDA_VISIBLE_DEVICES=` to force using the CPU.Note: The model will train, but the GPU utilization will be poor and the training might take longer than on CPU.\n",
            "  warnings.warn(\n"
          ]
        }
      ],
      "source": [
        "model = PPO.load(\"../logs/exercise_2/ppo/best_model.zip\")"
      ]
    },
    {
      "cell_type": "code",
      "execution_count": 4,
      "metadata": {},
      "outputs": [
        {
          "name": "stderr",
          "output_type": "stream",
          "text": [
            "/home/javier/.cache/pypoetry/virtualenvs/deep-reinforcement-learning-gymnasium-u3px5S1O-py3.13/lib/python3.13/site-packages/stable_baselines3/common/evaluation.py:67: UserWarning: Evaluation environment is not wrapped with a ``Monitor`` wrapper. This may result in reporting modified episode lengths and rewards, if other wrappers happen to modify these. Consider wrapping environment first with ``Monitor`` wrapper.\n",
            "  warnings.warn(\n"
          ]
        },
        {
          "name": "stdout",
          "output_type": "stream",
          "text": [
            "Mean reward: -72.82099138885249 +/- 69.14452442901604\n"
          ]
        }
      ],
      "source": [
        "mean_reward, std_reward = evaluate_policy(model, env, n_eval_episodes=50)\n",
        "print(f\"Mean reward: {mean_reward} +/- {std_reward}\")"
      ]
    },
    {
      "cell_type": "code",
      "execution_count": 5,
      "metadata": {
        "colab": {
          "base_uri": "https://localhost:8080/",
          "height": 211
        },
        "id": "6bSCsyCOYbVW",
        "outputId": "ee81a478-36d3-4245-8d0d-058e6e0a4693"
      },
      "outputs": [
        {
          "name": "stdout",
          "output_type": "stream",
          "text": [
            "Episode finished after 1000 steps (truncated)\n",
            "Final Step: 1000\n",
            "Number of Frames: 1000\n"
          ]
        }
      ],
      "source": [
        "MAX_STEPS = 1_000\n",
        "\n",
        "observation, info = env.reset(seed=42)\n",
        "frames = []\n",
        "step_count = 0\n",
        "\n",
        "# for step in range(MAX_STEPS):\n",
        "while True:\n",
        "    frame = env.render()\n",
        "    frames.append(frame)\n",
        "\n",
        "    action, _ = model.predict(observation, deterministic=True)\n",
        "    observation, reward, terminated, truncated, info = env.step(action)\n",
        "    step_count += 1\n",
        "\n",
        "    if terminated or truncated:\n",
        "        print(\n",
        "            f\"Episode finished after {step_count} steps ({\"truncated\" if truncated else \"terminated\"})\"\n",
        "        )\n",
        "        break\n",
        "\n",
        "env.close()\n",
        "\n",
        "print(f\"Final Step: {step_count}\")\n",
        "print(f\"Number of Frames: {len(frames)}\")"
      ]
    },
    {
      "cell_type": "code",
      "execution_count": 6,
      "metadata": {
        "id": "SAvZXQ3UKiF8"
      },
      "outputs": [
        {
          "name": "stdout",
          "output_type": "stream",
          "text": [
            "Video guardado como ../videos/lunarlander_ppo.mp4\n"
          ]
        },
        {
          "name": "stderr",
          "output_type": "stream",
          "text": [
            "rm: cannot remove '../videos/lunarlander_ppo_compressed.mp4': No such file or directory\n",
            "ffmpeg version n7.1 Copyright (c) 2000-2024 the FFmpeg developers\n",
            "  built with gcc 14.2.1 (GCC) 20250207\n",
            "  configuration: --prefix=/usr --disable-debug --disable-static --disable-stripping --enable-amf --enable-avisynth --enable-cuda-llvm --enable-lto --enable-fontconfig --enable-frei0r --enable-gmp --enable-gnutls --enable-gpl --enable-ladspa --enable-libaom --enable-libass --enable-libbluray --enable-libbs2b --enable-libdav1d --enable-libdrm --enable-libdvdnav --enable-libdvdread --enable-libfreetype --enable-libfribidi --enable-libglslang --enable-libgsm --enable-libharfbuzz --enable-libiec61883 --enable-libjack --enable-libjxl --enable-libmodplug --enable-libmp3lame --enable-libopencore_amrnb --enable-libopencore_amrwb --enable-libopenjpeg --enable-libopenmpt --enable-libopus --enable-libplacebo --enable-libpulse --enable-librav1e --enable-librsvg --enable-librubberband --enable-libsnappy --enable-libsoxr --enable-libspeex --enable-libsrt --enable-libssh --enable-libsvtav1 --enable-libtheora --enable-libv4l2 --enable-libvidstab --enable-libvmaf --enable-libvorbis --enable-libvpl --enable-libvpx --enable-libwebp --enable-libx264 --enable-libx265 --enable-libxcb --enable-libxml2 --enable-libxvid --enable-libzimg --enable-libzmq --enable-nvdec --enable-nvenc --enable-opencl --enable-opengl --enable-shared --enable-vapoursynth --enable-version3 --enable-vulkan\n",
            "  libavutil      59. 39.100 / 59. 39.100\n",
            "  libavcodec     61. 19.100 / 61. 19.100\n",
            "  libavformat    61.  7.100 / 61.  7.100\n",
            "  libavdevice    61.  3.100 / 61.  3.100\n",
            "  libavfilter    10.  4.100 / 10.  4.100\n",
            "  libswscale      8.  3.100 /  8.  3.100\n",
            "  libswresample   5.  3.100 /  5.  3.100\n",
            "  libpostproc    58.  3.100 / 58.  3.100\n",
            "Input #0, mov,mp4,m4a,3gp,3g2,mj2, from '../videos/lunarlander_ppo.mp4':\n",
            "  Metadata:\n",
            "    major_brand     : isom\n",
            "    minor_version   : 512\n",
            "    compatible_brands: isomiso2mp41\n",
            "    encoder         : Lavf59.27.100\n",
            "  Duration: 00:00:33.33, start: 0.000000, bitrate: 359 kb/s\n",
            "  Stream #0:0[0x1](und): Video: mpeg4 (Simple Profile) (mp4v / 0x7634706D), yuv420p, 600x400 [SAR 1:1 DAR 3:2], 358 kb/s, 30 fps, 30 tbr, 15360 tbn (default)\n",
            "      Metadata:\n",
            "        handler_name    : VideoHandler\n",
            "        vendor_id       : [0][0][0][0]\n",
            "Stream mapping:\n",
            "  Stream #0:0 -> #0:0 (mpeg4 (native) -> h264 (libx264))\n",
            "Press [q] to stop, [?] for help\n",
            "[libx264 @ 0x5b277b7aec00] using SAR=1/1\n",
            "[libx264 @ 0x5b277b7aec00] using cpu capabilities: MMX2 SSE2Fast SSSE3 SSE4.2 AVX FMA3 BMI2 AVX2\n",
            "[libx264 @ 0x5b277b7aec00] profile High, level 3.0, 4:2:0, 8-bit\n",
            "[libx264 @ 0x5b277b7aec00] 264 - core 164 r3108 31e19f9 - H.264/MPEG-4 AVC codec - Copyleft 2003-2023 - http://www.videolan.org/x264.html - options: cabac=1 ref=3 deblock=1:0:0 analyse=0x3:0x113 me=hex subme=7 psy=1 psy_rd=1.00:0.00 mixed_ref=1 me_range=16 chroma_me=1 trellis=1 8x8dct=1 cqm=0 deadzone=21,11 fast_pskip=1 chroma_qp_offset=-2 threads=12 lookahead_threads=2 sliced_threads=0 nr=0 decimate=1 interlaced=0 bluray_compat=0 constrained_intra=0 bframes=3 b_pyramid=2 b_adapt=1 b_bias=0 direct=1 weightb=1 open_gop=0 weightp=2 keyint=250 keyint_min=25 scenecut=40 intra_refresh=0 rc_lookahead=40 rc=crf mbtree=1 crf=23.0 qcomp=0.60 qpmin=0 qpmax=69 qpstep=4 ip_ratio=1.40 aq=1:1.00\n",
            "Output #0, mp4, to '../videos/lunarlander_ppo_compressed.mp4':\n",
            "  Metadata:\n",
            "    major_brand     : isom\n",
            "    minor_version   : 512\n",
            "    compatible_brands: isomiso2mp41\n",
            "    encoder         : Lavf61.7.100\n",
            "  Stream #0:0(und): Video: h264 (avc1 / 0x31637661), yuv420p(tv, progressive), 600x400 [SAR 1:1 DAR 3:2], q=2-31, 30 fps, 15360 tbn (default)\n",
            "      Metadata:\n",
            "        handler_name    : VideoHandler\n",
            "        vendor_id       : [0][0][0][0]\n",
            "        encoder         : Lavc61.19.100 libx264\n",
            "      Side data:\n",
            "        cpb: bitrate max/min/avg: 0/0/0 buffer size: 0 vbv_delay: N/A\n",
            "[out#0/mp4 @ 0x5b277b7c2f40] video:223KiB audio:0KiB subtitle:0KiB other streams:0KiB global headers:0KiB muxing overhead: 5.631159%\n",
            "frame= 1000 fps=0.0 q=-1.0 Lsize=     235KiB time=00:00:33.26 bitrate=  57.9kbits/s speed= 103x    \n",
            "[libx264 @ 0x5b277b7aec00] frame I:4     Avg QP: 7.61  size:  2468\n",
            "[libx264 @ 0x5b277b7aec00] frame P:254   Avg QP:20.62  size:   340\n",
            "[libx264 @ 0x5b277b7aec00] frame B:742   Avg QP:24.61  size:   177\n",
            "[libx264 @ 0x5b277b7aec00] consecutive B-frames:  0.9%  0.2%  0.9% 98.0%\n",
            "[libx264 @ 0x5b277b7aec00] mb I  I16..4: 88.0%  5.7%  6.2%\n",
            "[libx264 @ 0x5b277b7aec00] mb P  I16..4:  0.3%  0.8%  0.3%  P16..4:  1.8%  0.5%  0.2%  0.0%  0.0%    skip:96.0%\n",
            "[libx264 @ 0x5b277b7aec00] mb B  I16..4:  0.0%  0.1%  0.1%  B16..8:  3.0%  0.3%  0.1%  direct: 0.2%  skip:96.2%  L0:55.1% L1:43.4% BI: 1.5%\n",
            "[libx264 @ 0x5b277b7aec00] 8x8 transform intra:32.4% inter:18.8%\n",
            "[libx264 @ 0x5b277b7aec00] coded y,uvDC,uvAC intra: 10.1% 25.0% 22.3% inter: 0.3% 0.6% 0.4%\n",
            "[libx264 @ 0x5b277b7aec00] i16 v,h,dc,p: 84% 11%  5%  0%\n",
            "[libx264 @ 0x5b277b7aec00] i8 v,h,dc,ddl,ddr,vr,hd,vl,hu:  7%  7% 85%  0%  0%  0%  0%  0%  0%\n",
            "[libx264 @ 0x5b277b7aec00] i4 v,h,dc,ddl,ddr,vr,hd,vl,hu: 14% 12% 63%  2%  3%  1%  2%  1%  1%\n",
            "[libx264 @ 0x5b277b7aec00] i8c dc,h,v,p: 81% 12%  7%  0%\n",
            "[libx264 @ 0x5b277b7aec00] Weighted P-Frames: Y:0.0% UV:0.0%\n",
            "[libx264 @ 0x5b277b7aec00] ref P L0: 57.8%  1.7% 24.2% 16.3%\n",
            "[libx264 @ 0x5b277b7aec00] ref B L0: 69.4% 25.7%  4.9%\n",
            "[libx264 @ 0x5b277b7aec00] ref B L1: 91.1%  8.9%\n",
            "[libx264 @ 0x5b277b7aec00] kb/s:54.56\n"
          ]
        },
        {
          "data": {
            "text/html": [
              "\n",
              "<video width=800 controls>\n",
              "      <source src=\"data:video/mp4;base64,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\" type=\"video/mp4\">\n",
              "</video>"
            ],
            "text/plain": [
              "<IPython.core.display.HTML object>"
            ]
          },
          "execution_count": 6,
          "metadata": {},
          "output_type": "execute_result"
        }
      ],
      "source": [
        "from IPython.display import HTML\n",
        "from base64 import b64encode\n",
        "import os\n",
        "\n",
        "# Create a video from the frames\n",
        "video_filename = \"../videos/lunarlander_ppo.mp4\"\n",
        "compressed_path = \"../videos/lunarlander_ppo_compressed.mp4\"\n",
        "height, width, _ = frames[0].shape\n",
        "\n",
        "fourcc = cv2.VideoWriter_fourcc(*\"mp4v\")\n",
        "video = cv2.VideoWriter(video_filename, fourcc, 30.0, (width, height))\n",
        "\n",
        "for frame in frames:\n",
        "    video.write(cv2.cvtColor(frame, cv2.COLOR_RGB2BGR))\n",
        "video.release()\n",
        "\n",
        "print(f\"Video guardado como {video_filename}\")\n",
        "\n",
        "os.system(f\"rm {compressed_path}\")\n",
        "# Compressed video path\n",
        "os.system(f\"ffmpeg -i {video_filename} -vcodec libx264 {compressed_path}\")\n",
        "os.system(f\"rm {video_filename}\")\n",
        "os.system(f\"mv {compressed_path} {video_filename}\")\n",
        "\n",
        "# Show video\n",
        "mp4 = open(video_filename, \"rb\").read()\n",
        "data_url = \"data:video/mp4;base64,\" + b64encode(mp4).decode()\n",
        "HTML(\n",
        "    \"\"\"\n",
        "<video width=800 controls>\n",
        "      <source src=\"%s\" type=\"video/mp4\">\n",
        "</video>\"\"\"\n",
        "    % data_url\n",
        ")"
      ]
    }
  ],
  "metadata": {
    "accelerator": "GPU",
    "colab": {
      "gpuType": "T4",
      "provenance": []
    },
    "kernelspec": {
      "display_name": "deep-reinforcement-learning-gymnasium-u3px5S1O-py3.13",
      "language": "python",
      "name": "python3"
    },
    "language_info": {
      "codemirror_mode": {
        "name": "ipython",
        "version": 3
      },
      "file_extension": ".py",
      "mimetype": "text/x-python",
      "name": "python",
      "nbconvert_exporter": "python",
      "pygments_lexer": "ipython3",
      "version": "3.13.3"
    }
  },
  "nbformat": 4,
  "nbformat_minor": 0
}
