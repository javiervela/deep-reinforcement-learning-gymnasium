{
  "cells": [
    {
      "cell_type": "code",
      "execution_count": 1,
      "metadata": {
        "id": "OBCPdFloZEXO"
      },
      "outputs": [],
      "source": [
        "import gymnasium as gym\n",
        "import cv2\n",
        "import numpy as np\n",
        "import pandas as pd\n",
        "import matplotlib.pyplot as plt\n",
        "\n",
        "from stable_baselines3 import DQN, PPO\n",
        "from stable_baselines3.common.monitor import Monitor\n",
        "from stable_baselines3.common.vec_env import DummyVecEnv, VecMonitor\n",
        "from stable_baselines3.common.callbacks import (\n",
        "    EvalCallback,\n",
        "    StopTrainingOnRewardThreshold,\n",
        "    BaseCallback,\n",
        ")\n",
        "from stable_baselines3.common.callbacks import ProgressBarCallback\n",
        "from stable_baselines3.common.evaluation import evaluate_policy"
      ]
    },
    {
      "cell_type": "code",
      "execution_count": 2,
      "metadata": {},
      "outputs": [],
      "source": [
        "# Create the LunarLander-v3 environment\n",
        "env = gym.make(\n",
        "    \"LunarLander-v3\",\n",
        "    # continuous=False,\n",
        "    # gravity=-10.0,\n",
        "    # enable_wind=False,\n",
        "    # wind_power=15.0,\n",
        "    # turbulence_power=1.5,\n",
        "    render_mode=\"rgb_array\",\n",
        ")"
      ]
    },
    {
      "cell_type": "code",
      "execution_count": 3,
      "metadata": {},
      "outputs": [],
      "source": [
        "stop_callback = StopTrainingOnRewardThreshold(reward_threshold=200, verbose=1)\n",
        "\n",
        "eval_callback = EvalCallback(\n",
        "    env,\n",
        "    best_model_save_path=\"../logs/exercise_2/ppo/\",\n",
        "    log_path=\"../logs/exercise_2/ppo/\",\n",
        "    eval_freq=5_000,\n",
        "    deterministic=True,\n",
        "    render=False,\n",
        "    n_eval_episodes=50,\n",
        "    callback_on_new_best=stop_callback,\n",
        ")"
      ]
    },
    {
      "cell_type": "code",
      "execution_count": 4,
      "metadata": {
        "colab": {
          "base_uri": "https://localhost:8080/"
        },
        "id": "YU8nrDkrVCGw",
        "outputId": "e7875497-4d2d-4c7c-986c-d10d5316e8b5"
      },
      "outputs": [],
      "source": [
        "# Create PPO model\n",
        "model = PPO(\n",
        "    \"MlpPolicy\",\n",
        "    env,\n",
        "    learning_rate=0.0007966338872579695,\n",
        "    n_steps=128,\n",
        "    gamma=0.9759267686819444,\n",
        "    policy_kwargs=dict(net_arch=dict(pi=[256], vf=[256])),\n",
        "    seed=42,\n",
        "    verbose=0,\n",
        "    tensorboard_log=\"../logs/exercise_2/ppo/ppo_tensorboard/\",\n",
        "    device=\"cpu\",\n",
        ")"
      ]
    },
    {
      "cell_type": "code",
      "execution_count": 5,
      "metadata": {
        "colab": {
          "base_uri": "https://localhost:8080/"
        },
        "id": "4Jy6O6s1ZusN",
        "outputId": "7631a5ee-d701-4312-c497-4b6ad3363806"
      },
      "outputs": [
        {
          "data": {
            "application/vnd.jupyter.widget-view+json": {
              "model_id": "6e9b4a04f3a84e208ad0ddd3d3118837",
              "version_major": 2,
              "version_minor": 0
            },
            "text/plain": [
              "Output()"
            ]
          },
          "metadata": {},
          "output_type": "display_data"
        },
        {
          "data": {
            "text/html": [
              "<pre style=\"white-space:pre;overflow-x:auto;line-height:normal;font-family:Menlo,'DejaVu Sans Mono',consolas,'Courier New',monospace\">/home/javier/.cache/pypoetry/virtualenvs/deep-reinforcement-learning-gymnasium-u3px5S1O-py3.13/lib/python3.13/site-\n",
              "packages/stable_baselines3/common/evaluation.py:67: UserWarning: Evaluation environment is not wrapped with a \n",
              "``Monitor`` wrapper. This may result in reporting modified episode lengths and rewards, if other wrappers happen to\n",
              "modify these. Consider wrapping environment first with ``Monitor`` wrapper.\n",
              "  warnings.warn(\n",
              "</pre>\n"
            ],
            "text/plain": [
              "/home/javier/.cache/pypoetry/virtualenvs/deep-reinforcement-learning-gymnasium-u3px5S1O-py3.13/lib/python3.13/site-\n",
              "packages/stable_baselines3/common/evaluation.py:67: UserWarning: Evaluation environment is not wrapped with a \n",
              "``Monitor`` wrapper. This may result in reporting modified episode lengths and rewards, if other wrappers happen to\n",
              "modify these. Consider wrapping environment first with ``Monitor`` wrapper.\n",
              "  warnings.warn(\n"
            ]
          },
          "metadata": {},
          "output_type": "display_data"
        },
        {
          "data": {
            "text/html": [
              "<pre style=\"white-space:pre;overflow-x:auto;line-height:normal;font-family:Menlo,'DejaVu Sans Mono',consolas,'Courier New',monospace\">Eval num_timesteps=5000, episode_reward=-484.24 +/- 120.37\n",
              "</pre>\n"
            ],
            "text/plain": [
              "Eval num_timesteps=5000, episode_reward=-484.24 +/- 120.37\n"
            ]
          },
          "metadata": {},
          "output_type": "display_data"
        },
        {
          "data": {
            "text/html": [
              "<pre style=\"white-space:pre;overflow-x:auto;line-height:normal;font-family:Menlo,'DejaVu Sans Mono',consolas,'Courier New',monospace\">Episode length: 170.48 +/- 81.20\n",
              "</pre>\n"
            ],
            "text/plain": [
              "Episode length: 170.48 +/- 81.20\n"
            ]
          },
          "metadata": {},
          "output_type": "display_data"
        },
        {
          "data": {
            "text/html": [
              "<pre style=\"white-space:pre;overflow-x:auto;line-height:normal;font-family:Menlo,'DejaVu Sans Mono',consolas,'Courier New',monospace\">New best mean reward!\n",
              "</pre>\n"
            ],
            "text/plain": [
              "New best mean reward!\n"
            ]
          },
          "metadata": {},
          "output_type": "display_data"
        },
        {
          "data": {
            "text/html": [
              "<pre style=\"white-space:pre;overflow-x:auto;line-height:normal;font-family:Menlo,'DejaVu Sans Mono',consolas,'Courier New',monospace\">Eval num_timesteps=10000, episode_reward=-773.42 +/- 659.36\n",
              "</pre>\n"
            ],
            "text/plain": [
              "Eval num_timesteps=10000, episode_reward=-773.42 +/- 659.36\n"
            ]
          },
          "metadata": {},
          "output_type": "display_data"
        },
        {
          "data": {
            "text/html": [
              "<pre style=\"white-space:pre;overflow-x:auto;line-height:normal;font-family:Menlo,'DejaVu Sans Mono',consolas,'Courier New',monospace\">Episode length: 173.68 +/- 65.32\n",
              "</pre>\n"
            ],
            "text/plain": [
              "Episode length: 173.68 +/- 65.32\n"
            ]
          },
          "metadata": {},
          "output_type": "display_data"
        },
        {
          "data": {
            "text/html": [
              "<pre style=\"white-space:pre;overflow-x:auto;line-height:normal;font-family:Menlo,'DejaVu Sans Mono',consolas,'Courier New',monospace\">Eval num_timesteps=15000, episode_reward=-488.98 +/- 171.33\n",
              "</pre>\n"
            ],
            "text/plain": [
              "Eval num_timesteps=15000, episode_reward=-488.98 +/- 171.33\n"
            ]
          },
          "metadata": {},
          "output_type": "display_data"
        },
        {
          "data": {
            "text/html": [
              "<pre style=\"white-space:pre;overflow-x:auto;line-height:normal;font-family:Menlo,'DejaVu Sans Mono',consolas,'Courier New',monospace\">Episode length: 185.10 +/- 68.88\n",
              "</pre>\n"
            ],
            "text/plain": [
              "Episode length: 185.10 +/- 68.88\n"
            ]
          },
          "metadata": {},
          "output_type": "display_data"
        },
        {
          "data": {
            "text/html": [
              "<pre style=\"white-space:pre;overflow-x:auto;line-height:normal;font-family:Menlo,'DejaVu Sans Mono',consolas,'Courier New',monospace\">Eval num_timesteps=20000, episode_reward=-579.01 +/- 319.32\n",
              "</pre>\n"
            ],
            "text/plain": [
              "Eval num_timesteps=20000, episode_reward=-579.01 +/- 319.32\n"
            ]
          },
          "metadata": {},
          "output_type": "display_data"
        },
        {
          "data": {
            "text/html": [
              "<pre style=\"white-space:pre;overflow-x:auto;line-height:normal;font-family:Menlo,'DejaVu Sans Mono',consolas,'Courier New',monospace\">Episode length: 263.98 +/- 104.90\n",
              "</pre>\n"
            ],
            "text/plain": [
              "Episode length: 263.98 +/- 104.90\n"
            ]
          },
          "metadata": {},
          "output_type": "display_data"
        },
        {
          "data": {
            "text/html": [
              "<pre style=\"white-space:pre;overflow-x:auto;line-height:normal;font-family:Menlo,'DejaVu Sans Mono',consolas,'Courier New',monospace\">Eval num_timesteps=25000, episode_reward=-342.52 +/- 151.71\n",
              "</pre>\n"
            ],
            "text/plain": [
              "Eval num_timesteps=25000, episode_reward=-342.52 +/- 151.71\n"
            ]
          },
          "metadata": {},
          "output_type": "display_data"
        },
        {
          "data": {
            "text/html": [
              "<pre style=\"white-space:pre;overflow-x:auto;line-height:normal;font-family:Menlo,'DejaVu Sans Mono',consolas,'Courier New',monospace\">Episode length: 503.72 +/- 218.58\n",
              "</pre>\n"
            ],
            "text/plain": [
              "Episode length: 503.72 +/- 218.58\n"
            ]
          },
          "metadata": {},
          "output_type": "display_data"
        },
        {
          "data": {
            "text/html": [
              "<pre style=\"white-space:pre;overflow-x:auto;line-height:normal;font-family:Menlo,'DejaVu Sans Mono',consolas,'Courier New',monospace\">New best mean reward!\n",
              "</pre>\n"
            ],
            "text/plain": [
              "New best mean reward!\n"
            ]
          },
          "metadata": {},
          "output_type": "display_data"
        },
        {
          "data": {
            "text/html": [
              "<pre style=\"white-space:pre;overflow-x:auto;line-height:normal;font-family:Menlo,'DejaVu Sans Mono',consolas,'Courier New',monospace\">Eval num_timesteps=30000, episode_reward=-287.18 +/- 64.99\n",
              "</pre>\n"
            ],
            "text/plain": [
              "Eval num_timesteps=30000, episode_reward=-287.18 +/- 64.99\n"
            ]
          },
          "metadata": {},
          "output_type": "display_data"
        },
        {
          "data": {
            "text/html": [
              "<pre style=\"white-space:pre;overflow-x:auto;line-height:normal;font-family:Menlo,'DejaVu Sans Mono',consolas,'Courier New',monospace\">Episode length: 493.88 +/- 160.90\n",
              "</pre>\n"
            ],
            "text/plain": [
              "Episode length: 493.88 +/- 160.90\n"
            ]
          },
          "metadata": {},
          "output_type": "display_data"
        },
        {
          "data": {
            "text/html": [
              "<pre style=\"white-space:pre;overflow-x:auto;line-height:normal;font-family:Menlo,'DejaVu Sans Mono',consolas,'Courier New',monospace\">New best mean reward!\n",
              "</pre>\n"
            ],
            "text/plain": [
              "New best mean reward!\n"
            ]
          },
          "metadata": {},
          "output_type": "display_data"
        },
        {
          "data": {
            "text/html": [
              "<pre style=\"white-space:pre;overflow-x:auto;line-height:normal;font-family:Menlo,'DejaVu Sans Mono',consolas,'Courier New',monospace\">Eval num_timesteps=35000, episode_reward=-177.22 +/- 32.09\n",
              "</pre>\n"
            ],
            "text/plain": [
              "Eval num_timesteps=35000, episode_reward=-177.22 +/- 32.09\n"
            ]
          },
          "metadata": {},
          "output_type": "display_data"
        },
        {
          "data": {
            "text/html": [
              "<pre style=\"white-space:pre;overflow-x:auto;line-height:normal;font-family:Menlo,'DejaVu Sans Mono',consolas,'Courier New',monospace\">Episode length: 946.78 +/- 156.43\n",
              "</pre>\n"
            ],
            "text/plain": [
              "Episode length: 946.78 +/- 156.43\n"
            ]
          },
          "metadata": {},
          "output_type": "display_data"
        },
        {
          "data": {
            "text/html": [
              "<pre style=\"white-space:pre;overflow-x:auto;line-height:normal;font-family:Menlo,'DejaVu Sans Mono',consolas,'Courier New',monospace\">New best mean reward!\n",
              "</pre>\n"
            ],
            "text/plain": [
              "New best mean reward!\n"
            ]
          },
          "metadata": {},
          "output_type": "display_data"
        },
        {
          "data": {
            "text/html": [
              "<pre style=\"white-space:pre;overflow-x:auto;line-height:normal;font-family:Menlo,'DejaVu Sans Mono',consolas,'Courier New',monospace\">Eval num_timesteps=40000, episode_reward=-124.66 +/- 30.70\n",
              "</pre>\n"
            ],
            "text/plain": [
              "Eval num_timesteps=40000, episode_reward=-124.66 +/- 30.70\n"
            ]
          },
          "metadata": {},
          "output_type": "display_data"
        },
        {
          "data": {
            "text/html": [
              "<pre style=\"white-space:pre;overflow-x:auto;line-height:normal;font-family:Menlo,'DejaVu Sans Mono',consolas,'Courier New',monospace\">Episode length: 796.02 +/- 313.45\n",
              "</pre>\n"
            ],
            "text/plain": [
              "Episode length: 796.02 +/- 313.45\n"
            ]
          },
          "metadata": {},
          "output_type": "display_data"
        },
        {
          "data": {
            "text/html": [
              "<pre style=\"white-space:pre;overflow-x:auto;line-height:normal;font-family:Menlo,'DejaVu Sans Mono',consolas,'Courier New',monospace\">New best mean reward!\n",
              "</pre>\n"
            ],
            "text/plain": [
              "New best mean reward!\n"
            ]
          },
          "metadata": {},
          "output_type": "display_data"
        },
        {
          "data": {
            "text/html": [
              "<pre style=\"white-space:pre;overflow-x:auto;line-height:normal;font-family:Menlo,'DejaVu Sans Mono',consolas,'Courier New',monospace\">Eval num_timesteps=45000, episode_reward=-105.94 +/- 46.77\n",
              "</pre>\n"
            ],
            "text/plain": [
              "Eval num_timesteps=45000, episode_reward=-105.94 +/- 46.77\n"
            ]
          },
          "metadata": {},
          "output_type": "display_data"
        },
        {
          "data": {
            "text/html": [
              "<pre style=\"white-space:pre;overflow-x:auto;line-height:normal;font-family:Menlo,'DejaVu Sans Mono',consolas,'Courier New',monospace\">Episode length: 876.90 +/- 235.87\n",
              "</pre>\n"
            ],
            "text/plain": [
              "Episode length: 876.90 +/- 235.87\n"
            ]
          },
          "metadata": {},
          "output_type": "display_data"
        },
        {
          "data": {
            "text/html": [
              "<pre style=\"white-space:pre;overflow-x:auto;line-height:normal;font-family:Menlo,'DejaVu Sans Mono',consolas,'Courier New',monospace\">New best mean reward!\n",
              "</pre>\n"
            ],
            "text/plain": [
              "New best mean reward!\n"
            ]
          },
          "metadata": {},
          "output_type": "display_data"
        },
        {
          "data": {
            "text/html": [
              "<pre style=\"white-space:pre;overflow-x:auto;line-height:normal;font-family:Menlo,'DejaVu Sans Mono',consolas,'Courier New',monospace\">Eval num_timesteps=50000, episode_reward=-159.54 +/- 49.39\n",
              "</pre>\n"
            ],
            "text/plain": [
              "Eval num_timesteps=50000, episode_reward=-159.54 +/- 49.39\n"
            ]
          },
          "metadata": {},
          "output_type": "display_data"
        },
        {
          "data": {
            "text/html": [
              "<pre style=\"white-space:pre;overflow-x:auto;line-height:normal;font-family:Menlo,'DejaVu Sans Mono',consolas,'Courier New',monospace\">Episode length: 611.88 +/- 276.06\n",
              "</pre>\n"
            ],
            "text/plain": [
              "Episode length: 611.88 +/- 276.06\n"
            ]
          },
          "metadata": {},
          "output_type": "display_data"
        },
        {
          "data": {
            "text/html": [
              "<pre style=\"white-space:pre;overflow-x:auto;line-height:normal;font-family:Menlo,'DejaVu Sans Mono',consolas,'Courier New',monospace\">Eval num_timesteps=55000, episode_reward=-70.56 +/- 32.74\n",
              "</pre>\n"
            ],
            "text/plain": [
              "Eval num_timesteps=55000, episode_reward=-70.56 +/- 32.74\n"
            ]
          },
          "metadata": {},
          "output_type": "display_data"
        },
        {
          "data": {
            "text/html": [
              "<pre style=\"white-space:pre;overflow-x:auto;line-height:normal;font-family:Menlo,'DejaVu Sans Mono',consolas,'Courier New',monospace\">Episode length: 866.66 +/- 268.81\n",
              "</pre>\n"
            ],
            "text/plain": [
              "Episode length: 866.66 +/- 268.81\n"
            ]
          },
          "metadata": {},
          "output_type": "display_data"
        },
        {
          "data": {
            "text/html": [
              "<pre style=\"white-space:pre;overflow-x:auto;line-height:normal;font-family:Menlo,'DejaVu Sans Mono',consolas,'Courier New',monospace\">New best mean reward!\n",
              "</pre>\n"
            ],
            "text/plain": [
              "New best mean reward!\n"
            ]
          },
          "metadata": {},
          "output_type": "display_data"
        },
        {
          "data": {
            "text/html": [
              "<pre style=\"white-space:pre;overflow-x:auto;line-height:normal;font-family:Menlo,'DejaVu Sans Mono',consolas,'Courier New',monospace\">Eval num_timesteps=60000, episode_reward=-130.27 +/- 57.80\n",
              "</pre>\n"
            ],
            "text/plain": [
              "Eval num_timesteps=60000, episode_reward=-130.27 +/- 57.80\n"
            ]
          },
          "metadata": {},
          "output_type": "display_data"
        },
        {
          "data": {
            "text/html": [
              "<pre style=\"white-space:pre;overflow-x:auto;line-height:normal;font-family:Menlo,'DejaVu Sans Mono',consolas,'Courier New',monospace\">Episode length: 752.74 +/- 295.87\n",
              "</pre>\n"
            ],
            "text/plain": [
              "Episode length: 752.74 +/- 295.87\n"
            ]
          },
          "metadata": {},
          "output_type": "display_data"
        },
        {
          "data": {
            "text/html": [
              "<pre style=\"white-space:pre;overflow-x:auto;line-height:normal;font-family:Menlo,'DejaVu Sans Mono',consolas,'Courier New',monospace\">Eval num_timesteps=65000, episode_reward=-73.70 +/- 28.56\n",
              "</pre>\n"
            ],
            "text/plain": [
              "Eval num_timesteps=65000, episode_reward=-73.70 +/- 28.56\n"
            ]
          },
          "metadata": {},
          "output_type": "display_data"
        },
        {
          "data": {
            "text/html": [
              "<pre style=\"white-space:pre;overflow-x:auto;line-height:normal;font-family:Menlo,'DejaVu Sans Mono',consolas,'Courier New',monospace\">Episode length: 868.82 +/- 285.63\n",
              "</pre>\n"
            ],
            "text/plain": [
              "Episode length: 868.82 +/- 285.63\n"
            ]
          },
          "metadata": {},
          "output_type": "display_data"
        },
        {
          "data": {
            "text/html": [
              "<pre style=\"white-space:pre;overflow-x:auto;line-height:normal;font-family:Menlo,'DejaVu Sans Mono',consolas,'Courier New',monospace\">Eval num_timesteps=70000, episode_reward=-77.04 +/- 17.42\n",
              "</pre>\n"
            ],
            "text/plain": [
              "Eval num_timesteps=70000, episode_reward=-77.04 +/- 17.42\n"
            ]
          },
          "metadata": {},
          "output_type": "display_data"
        },
        {
          "data": {
            "text/html": [
              "<pre style=\"white-space:pre;overflow-x:auto;line-height:normal;font-family:Menlo,'DejaVu Sans Mono',consolas,'Courier New',monospace\">Episode length: 890.74 +/- 272.57\n",
              "</pre>\n"
            ],
            "text/plain": [
              "Episode length: 890.74 +/- 272.57\n"
            ]
          },
          "metadata": {},
          "output_type": "display_data"
        },
        {
          "data": {
            "text/html": [
              "<pre style=\"white-space:pre;overflow-x:auto;line-height:normal;font-family:Menlo,'DejaVu Sans Mono',consolas,'Courier New',monospace\">Eval num_timesteps=75000, episode_reward=-74.58 +/- 22.45\n",
              "</pre>\n"
            ],
            "text/plain": [
              "Eval num_timesteps=75000, episode_reward=-74.58 +/- 22.45\n"
            ]
          },
          "metadata": {},
          "output_type": "display_data"
        },
        {
          "data": {
            "text/html": [
              "<pre style=\"white-space:pre;overflow-x:auto;line-height:normal;font-family:Menlo,'DejaVu Sans Mono',consolas,'Courier New',monospace\">Episode length: 939.46 +/- 207.35\n",
              "</pre>\n"
            ],
            "text/plain": [
              "Episode length: 939.46 +/- 207.35\n"
            ]
          },
          "metadata": {},
          "output_type": "display_data"
        },
        {
          "data": {
            "text/html": [
              "<pre style=\"white-space:pre;overflow-x:auto;line-height:normal;font-family:Menlo,'DejaVu Sans Mono',consolas,'Courier New',monospace\">Eval num_timesteps=80000, episode_reward=-99.49 +/- 53.93\n",
              "</pre>\n"
            ],
            "text/plain": [
              "Eval num_timesteps=80000, episode_reward=-99.49 +/- 53.93\n"
            ]
          },
          "metadata": {},
          "output_type": "display_data"
        },
        {
          "data": {
            "text/html": [
              "<pre style=\"white-space:pre;overflow-x:auto;line-height:normal;font-family:Menlo,'DejaVu Sans Mono',consolas,'Courier New',monospace\">Episode length: 855.66 +/- 280.37\n",
              "</pre>\n"
            ],
            "text/plain": [
              "Episode length: 855.66 +/- 280.37\n"
            ]
          },
          "metadata": {},
          "output_type": "display_data"
        },
        {
          "data": {
            "text/html": [
              "<pre style=\"white-space:pre;overflow-x:auto;line-height:normal;font-family:Menlo,'DejaVu Sans Mono',consolas,'Courier New',monospace\">Eval num_timesteps=85000, episode_reward=-63.18 +/- 25.22\n",
              "</pre>\n"
            ],
            "text/plain": [
              "Eval num_timesteps=85000, episode_reward=-63.18 +/- 25.22\n"
            ]
          },
          "metadata": {},
          "output_type": "display_data"
        },
        {
          "data": {
            "text/html": [
              "<pre style=\"white-space:pre;overflow-x:auto;line-height:normal;font-family:Menlo,'DejaVu Sans Mono',consolas,'Courier New',monospace\">Episode length: 936.40 +/- 216.69\n",
              "</pre>\n"
            ],
            "text/plain": [
              "Episode length: 936.40 +/- 216.69\n"
            ]
          },
          "metadata": {},
          "output_type": "display_data"
        },
        {
          "data": {
            "text/html": [
              "<pre style=\"white-space:pre;overflow-x:auto;line-height:normal;font-family:Menlo,'DejaVu Sans Mono',consolas,'Courier New',monospace\">New best mean reward!\n",
              "</pre>\n"
            ],
            "text/plain": [
              "New best mean reward!\n"
            ]
          },
          "metadata": {},
          "output_type": "display_data"
        },
        {
          "data": {
            "text/html": [
              "<pre style=\"white-space:pre;overflow-x:auto;line-height:normal;font-family:Menlo,'DejaVu Sans Mono',consolas,'Courier New',monospace\">Eval num_timesteps=90000, episode_reward=-99.96 +/- 46.72\n",
              "</pre>\n"
            ],
            "text/plain": [
              "Eval num_timesteps=90000, episode_reward=-99.96 +/- 46.72\n"
            ]
          },
          "metadata": {},
          "output_type": "display_data"
        },
        {
          "data": {
            "text/html": [
              "<pre style=\"white-space:pre;overflow-x:auto;line-height:normal;font-family:Menlo,'DejaVu Sans Mono',consolas,'Courier New',monospace\">Episode length: 836.84 +/- 260.36\n",
              "</pre>\n"
            ],
            "text/plain": [
              "Episode length: 836.84 +/- 260.36\n"
            ]
          },
          "metadata": {},
          "output_type": "display_data"
        },
        {
          "data": {
            "text/html": [
              "<pre style=\"white-space:pre;overflow-x:auto;line-height:normal;font-family:Menlo,'DejaVu Sans Mono',consolas,'Courier New',monospace\">Eval num_timesteps=95000, episode_reward=-133.64 +/- 48.23\n",
              "</pre>\n"
            ],
            "text/plain": [
              "Eval num_timesteps=95000, episode_reward=-133.64 +/- 48.23\n"
            ]
          },
          "metadata": {},
          "output_type": "display_data"
        },
        {
          "data": {
            "text/html": [
              "<pre style=\"white-space:pre;overflow-x:auto;line-height:normal;font-family:Menlo,'DejaVu Sans Mono',consolas,'Courier New',monospace\">Episode length: 690.54 +/- 336.22\n",
              "</pre>\n"
            ],
            "text/plain": [
              "Episode length: 690.54 +/- 336.22\n"
            ]
          },
          "metadata": {},
          "output_type": "display_data"
        },
        {
          "data": {
            "text/html": [
              "<pre style=\"white-space:pre;overflow-x:auto;line-height:normal;font-family:Menlo,'DejaVu Sans Mono',consolas,'Courier New',monospace\">Eval num_timesteps=100000, episode_reward=-154.47 +/- 45.42\n",
              "</pre>\n"
            ],
            "text/plain": [
              "Eval num_timesteps=100000, episode_reward=-154.47 +/- 45.42\n"
            ]
          },
          "metadata": {},
          "output_type": "display_data"
        },
        {
          "data": {
            "text/html": [
              "<pre style=\"white-space:pre;overflow-x:auto;line-height:normal;font-family:Menlo,'DejaVu Sans Mono',consolas,'Courier New',monospace\">Episode length: 666.30 +/- 338.87\n",
              "</pre>\n"
            ],
            "text/plain": [
              "Episode length: 666.30 +/- 338.87\n"
            ]
          },
          "metadata": {},
          "output_type": "display_data"
        },
        {
          "data": {
            "text/html": [
              "<pre style=\"white-space:pre;overflow-x:auto;line-height:normal;font-family:Menlo,'DejaVu Sans Mono',consolas,'Courier New',monospace\">Eval num_timesteps=105000, episode_reward=-139.37 +/- 44.17\n",
              "</pre>\n"
            ],
            "text/plain": [
              "Eval num_timesteps=105000, episode_reward=-139.37 +/- 44.17\n"
            ]
          },
          "metadata": {},
          "output_type": "display_data"
        },
        {
          "data": {
            "text/html": [
              "<pre style=\"white-space:pre;overflow-x:auto;line-height:normal;font-family:Menlo,'DejaVu Sans Mono',consolas,'Courier New',monospace\">Episode length: 784.06 +/- 284.06\n",
              "</pre>\n"
            ],
            "text/plain": [
              "Episode length: 784.06 +/- 284.06\n"
            ]
          },
          "metadata": {},
          "output_type": "display_data"
        },
        {
          "data": {
            "text/html": [
              "<pre style=\"white-space:pre;overflow-x:auto;line-height:normal;font-family:Menlo,'DejaVu Sans Mono',consolas,'Courier New',monospace\">Eval num_timesteps=110000, episode_reward=-125.68 +/- 60.34\n",
              "</pre>\n"
            ],
            "text/plain": [
              "Eval num_timesteps=110000, episode_reward=-125.68 +/- 60.34\n"
            ]
          },
          "metadata": {},
          "output_type": "display_data"
        },
        {
          "data": {
            "text/html": [
              "<pre style=\"white-space:pre;overflow-x:auto;line-height:normal;font-family:Menlo,'DejaVu Sans Mono',consolas,'Courier New',monospace\">Episode length: 781.72 +/- 294.89\n",
              "</pre>\n"
            ],
            "text/plain": [
              "Episode length: 781.72 +/- 294.89\n"
            ]
          },
          "metadata": {},
          "output_type": "display_data"
        },
        {
          "data": {
            "text/html": [
              "<pre style=\"white-space:pre;overflow-x:auto;line-height:normal;font-family:Menlo,'DejaVu Sans Mono',consolas,'Courier New',monospace\">Eval num_timesteps=115000, episode_reward=-116.16 +/- 47.08\n",
              "</pre>\n"
            ],
            "text/plain": [
              "Eval num_timesteps=115000, episode_reward=-116.16 +/- 47.08\n"
            ]
          },
          "metadata": {},
          "output_type": "display_data"
        },
        {
          "data": {
            "text/html": [
              "<pre style=\"white-space:pre;overflow-x:auto;line-height:normal;font-family:Menlo,'DejaVu Sans Mono',consolas,'Courier New',monospace\">Episode length: 637.52 +/- 361.16\n",
              "</pre>\n"
            ],
            "text/plain": [
              "Episode length: 637.52 +/- 361.16\n"
            ]
          },
          "metadata": {},
          "output_type": "display_data"
        },
        {
          "data": {
            "text/html": [
              "<pre style=\"white-space:pre;overflow-x:auto;line-height:normal;font-family:Menlo,'DejaVu Sans Mono',consolas,'Courier New',monospace\">Eval num_timesteps=120000, episode_reward=-138.81 +/- 56.93\n",
              "</pre>\n"
            ],
            "text/plain": [
              "Eval num_timesteps=120000, episode_reward=-138.81 +/- 56.93\n"
            ]
          },
          "metadata": {},
          "output_type": "display_data"
        },
        {
          "data": {
            "text/html": [
              "<pre style=\"white-space:pre;overflow-x:auto;line-height:normal;font-family:Menlo,'DejaVu Sans Mono',consolas,'Courier New',monospace\">Episode length: 633.94 +/- 352.96\n",
              "</pre>\n"
            ],
            "text/plain": [
              "Episode length: 633.94 +/- 352.96\n"
            ]
          },
          "metadata": {},
          "output_type": "display_data"
        },
        {
          "data": {
            "text/html": [
              "<pre style=\"white-space:pre;overflow-x:auto;line-height:normal;font-family:Menlo,'DejaVu Sans Mono',consolas,'Courier New',monospace\">Eval num_timesteps=125000, episode_reward=-139.81 +/- 44.00\n",
              "</pre>\n"
            ],
            "text/plain": [
              "Eval num_timesteps=125000, episode_reward=-139.81 +/- 44.00\n"
            ]
          },
          "metadata": {},
          "output_type": "display_data"
        },
        {
          "data": {
            "text/html": [
              "<pre style=\"white-space:pre;overflow-x:auto;line-height:normal;font-family:Menlo,'DejaVu Sans Mono',consolas,'Courier New',monospace\">Episode length: 530.14 +/- 331.26\n",
              "</pre>\n"
            ],
            "text/plain": [
              "Episode length: 530.14 +/- 331.26\n"
            ]
          },
          "metadata": {},
          "output_type": "display_data"
        },
        {
          "data": {
            "text/html": [
              "<pre style=\"white-space:pre;overflow-x:auto;line-height:normal;font-family:Menlo,'DejaVu Sans Mono',consolas,'Courier New',monospace\">Eval num_timesteps=130000, episode_reward=-159.06 +/- 54.32\n",
              "</pre>\n"
            ],
            "text/plain": [
              "Eval num_timesteps=130000, episode_reward=-159.06 +/- 54.32\n"
            ]
          },
          "metadata": {},
          "output_type": "display_data"
        },
        {
          "data": {
            "text/html": [
              "<pre style=\"white-space:pre;overflow-x:auto;line-height:normal;font-family:Menlo,'DejaVu Sans Mono',consolas,'Courier New',monospace\">Episode length: 654.96 +/- 348.68\n",
              "</pre>\n"
            ],
            "text/plain": [
              "Episode length: 654.96 +/- 348.68\n"
            ]
          },
          "metadata": {},
          "output_type": "display_data"
        },
        {
          "data": {
            "text/html": [
              "<pre style=\"white-space:pre;overflow-x:auto;line-height:normal;font-family:Menlo,'DejaVu Sans Mono',consolas,'Courier New',monospace\">Eval num_timesteps=135000, episode_reward=-127.94 +/- 44.19\n",
              "</pre>\n"
            ],
            "text/plain": [
              "Eval num_timesteps=135000, episode_reward=-127.94 +/- 44.19\n"
            ]
          },
          "metadata": {},
          "output_type": "display_data"
        },
        {
          "data": {
            "text/html": [
              "<pre style=\"white-space:pre;overflow-x:auto;line-height:normal;font-family:Menlo,'DejaVu Sans Mono',consolas,'Courier New',monospace\">Episode length: 677.96 +/- 350.55\n",
              "</pre>\n"
            ],
            "text/plain": [
              "Episode length: 677.96 +/- 350.55\n"
            ]
          },
          "metadata": {},
          "output_type": "display_data"
        },
        {
          "data": {
            "text/html": [
              "<pre style=\"white-space:pre;overflow-x:auto;line-height:normal;font-family:Menlo,'DejaVu Sans Mono',consolas,'Courier New',monospace\">Eval num_timesteps=140000, episode_reward=-124.47 +/- 28.09\n",
              "</pre>\n"
            ],
            "text/plain": [
              "Eval num_timesteps=140000, episode_reward=-124.47 +/- 28.09\n"
            ]
          },
          "metadata": {},
          "output_type": "display_data"
        },
        {
          "data": {
            "text/html": [
              "<pre style=\"white-space:pre;overflow-x:auto;line-height:normal;font-family:Menlo,'DejaVu Sans Mono',consolas,'Courier New',monospace\">Episode length: 691.40 +/- 356.43\n",
              "</pre>\n"
            ],
            "text/plain": [
              "Episode length: 691.40 +/- 356.43\n"
            ]
          },
          "metadata": {},
          "output_type": "display_data"
        },
        {
          "data": {
            "text/html": [
              "<pre style=\"white-space:pre;overflow-x:auto;line-height:normal;font-family:Menlo,'DejaVu Sans Mono',consolas,'Courier New',monospace\">Eval num_timesteps=145000, episode_reward=-92.30 +/- 33.37\n",
              "</pre>\n"
            ],
            "text/plain": [
              "Eval num_timesteps=145000, episode_reward=-92.30 +/- 33.37\n"
            ]
          },
          "metadata": {},
          "output_type": "display_data"
        },
        {
          "data": {
            "text/html": [
              "<pre style=\"white-space:pre;overflow-x:auto;line-height:normal;font-family:Menlo,'DejaVu Sans Mono',consolas,'Courier New',monospace\">Episode length: 840.30 +/- 320.89\n",
              "</pre>\n"
            ],
            "text/plain": [
              "Episode length: 840.30 +/- 320.89\n"
            ]
          },
          "metadata": {},
          "output_type": "display_data"
        },
        {
          "data": {
            "text/html": [
              "<pre style=\"white-space:pre;overflow-x:auto;line-height:normal;font-family:Menlo,'DejaVu Sans Mono',consolas,'Courier New',monospace\">Eval num_timesteps=150000, episode_reward=-72.80 +/- 29.78\n",
              "</pre>\n"
            ],
            "text/plain": [
              "Eval num_timesteps=150000, episode_reward=-72.80 +/- 29.78\n"
            ]
          },
          "metadata": {},
          "output_type": "display_data"
        },
        {
          "data": {
            "text/html": [
              "<pre style=\"white-space:pre;overflow-x:auto;line-height:normal;font-family:Menlo,'DejaVu Sans Mono',consolas,'Courier New',monospace\">Episode length: 834.40 +/- 331.52\n",
              "</pre>\n"
            ],
            "text/plain": [
              "Episode length: 834.40 +/- 331.52\n"
            ]
          },
          "metadata": {},
          "output_type": "display_data"
        },
        {
          "data": {
            "text/html": [
              "<pre style=\"white-space:pre;overflow-x:auto;line-height:normal;font-family:Menlo,'DejaVu Sans Mono',consolas,'Courier New',monospace\">Eval num_timesteps=155000, episode_reward=-58.25 +/- 34.20\n",
              "</pre>\n"
            ],
            "text/plain": [
              "Eval num_timesteps=155000, episode_reward=-58.25 +/- 34.20\n"
            ]
          },
          "metadata": {},
          "output_type": "display_data"
        },
        {
          "data": {
            "text/html": [
              "<pre style=\"white-space:pre;overflow-x:auto;line-height:normal;font-family:Menlo,'DejaVu Sans Mono',consolas,'Courier New',monospace\">Episode length: 855.70 +/- 308.69\n",
              "</pre>\n"
            ],
            "text/plain": [
              "Episode length: 855.70 +/- 308.69\n"
            ]
          },
          "metadata": {},
          "output_type": "display_data"
        },
        {
          "data": {
            "text/html": [
              "<pre style=\"white-space:pre;overflow-x:auto;line-height:normal;font-family:Menlo,'DejaVu Sans Mono',consolas,'Courier New',monospace\">New best mean reward!\n",
              "</pre>\n"
            ],
            "text/plain": [
              "New best mean reward!\n"
            ]
          },
          "metadata": {},
          "output_type": "display_data"
        },
        {
          "data": {
            "text/html": [
              "<pre style=\"white-space:pre;overflow-x:auto;line-height:normal;font-family:Menlo,'DejaVu Sans Mono',consolas,'Courier New',monospace\">Eval num_timesteps=160000, episode_reward=-87.26 +/- 27.60\n",
              "</pre>\n"
            ],
            "text/plain": [
              "Eval num_timesteps=160000, episode_reward=-87.26 +/- 27.60\n"
            ]
          },
          "metadata": {},
          "output_type": "display_data"
        },
        {
          "data": {
            "text/html": [
              "<pre style=\"white-space:pre;overflow-x:auto;line-height:normal;font-family:Menlo,'DejaVu Sans Mono',consolas,'Courier New',monospace\">Episode length: 849.94 +/- 306.40\n",
              "</pre>\n"
            ],
            "text/plain": [
              "Episode length: 849.94 +/- 306.40\n"
            ]
          },
          "metadata": {},
          "output_type": "display_data"
        },
        {
          "data": {
            "text/html": [
              "<pre style=\"white-space:pre;overflow-x:auto;line-height:normal;font-family:Menlo,'DejaVu Sans Mono',consolas,'Courier New',monospace\">Eval num_timesteps=165000, episode_reward=-76.28 +/- 30.49\n",
              "</pre>\n"
            ],
            "text/plain": [
              "Eval num_timesteps=165000, episode_reward=-76.28 +/- 30.49\n"
            ]
          },
          "metadata": {},
          "output_type": "display_data"
        },
        {
          "data": {
            "text/html": [
              "<pre style=\"white-space:pre;overflow-x:auto;line-height:normal;font-family:Menlo,'DejaVu Sans Mono',consolas,'Courier New',monospace\">Episode length: 801.28 +/- 336.47\n",
              "</pre>\n"
            ],
            "text/plain": [
              "Episode length: 801.28 +/- 336.47\n"
            ]
          },
          "metadata": {},
          "output_type": "display_data"
        },
        {
          "data": {
            "text/html": [
              "<pre style=\"white-space:pre;overflow-x:auto;line-height:normal;font-family:Menlo,'DejaVu Sans Mono',consolas,'Courier New',monospace\">Eval num_timesteps=170000, episode_reward=-81.99 +/- 41.52\n",
              "</pre>\n"
            ],
            "text/plain": [
              "Eval num_timesteps=170000, episode_reward=-81.99 +/- 41.52\n"
            ]
          },
          "metadata": {},
          "output_type": "display_data"
        },
        {
          "data": {
            "text/html": [
              "<pre style=\"white-space:pre;overflow-x:auto;line-height:normal;font-family:Menlo,'DejaVu Sans Mono',consolas,'Courier New',monospace\">Episode length: 802.10 +/- 326.70\n",
              "</pre>\n"
            ],
            "text/plain": [
              "Episode length: 802.10 +/- 326.70\n"
            ]
          },
          "metadata": {},
          "output_type": "display_data"
        },
        {
          "data": {
            "text/html": [
              "<pre style=\"white-space:pre;overflow-x:auto;line-height:normal;font-family:Menlo,'DejaVu Sans Mono',consolas,'Courier New',monospace\">Eval num_timesteps=175000, episode_reward=-85.99 +/- 36.50\n",
              "</pre>\n"
            ],
            "text/plain": [
              "Eval num_timesteps=175000, episode_reward=-85.99 +/- 36.50\n"
            ]
          },
          "metadata": {},
          "output_type": "display_data"
        },
        {
          "data": {
            "text/html": [
              "<pre style=\"white-space:pre;overflow-x:auto;line-height:normal;font-family:Menlo,'DejaVu Sans Mono',consolas,'Courier New',monospace\">Episode length: 822.54 +/- 310.53\n",
              "</pre>\n"
            ],
            "text/plain": [
              "Episode length: 822.54 +/- 310.53\n"
            ]
          },
          "metadata": {},
          "output_type": "display_data"
        },
        {
          "data": {
            "text/html": [
              "<pre style=\"white-space:pre;overflow-x:auto;line-height:normal;font-family:Menlo,'DejaVu Sans Mono',consolas,'Courier New',monospace\">Eval num_timesteps=180000, episode_reward=-98.76 +/- 44.77\n",
              "</pre>\n"
            ],
            "text/plain": [
              "Eval num_timesteps=180000, episode_reward=-98.76 +/- 44.77\n"
            ]
          },
          "metadata": {},
          "output_type": "display_data"
        },
        {
          "data": {
            "text/html": [
              "<pre style=\"white-space:pre;overflow-x:auto;line-height:normal;font-family:Menlo,'DejaVu Sans Mono',consolas,'Courier New',monospace\">Episode length: 713.96 +/- 367.72\n",
              "</pre>\n"
            ],
            "text/plain": [
              "Episode length: 713.96 +/- 367.72\n"
            ]
          },
          "metadata": {},
          "output_type": "display_data"
        },
        {
          "data": {
            "text/html": [
              "<pre style=\"white-space:pre;overflow-x:auto;line-height:normal;font-family:Menlo,'DejaVu Sans Mono',consolas,'Courier New',monospace\">Eval num_timesteps=185000, episode_reward=-124.30 +/- 49.68\n",
              "</pre>\n"
            ],
            "text/plain": [
              "Eval num_timesteps=185000, episode_reward=-124.30 +/- 49.68\n"
            ]
          },
          "metadata": {},
          "output_type": "display_data"
        },
        {
          "data": {
            "text/html": [
              "<pre style=\"white-space:pre;overflow-x:auto;line-height:normal;font-family:Menlo,'DejaVu Sans Mono',consolas,'Courier New',monospace\">Episode length: 669.52 +/- 313.94\n",
              "</pre>\n"
            ],
            "text/plain": [
              "Episode length: 669.52 +/- 313.94\n"
            ]
          },
          "metadata": {},
          "output_type": "display_data"
        },
        {
          "data": {
            "text/html": [
              "<pre style=\"white-space:pre;overflow-x:auto;line-height:normal;font-family:Menlo,'DejaVu Sans Mono',consolas,'Courier New',monospace\">Eval num_timesteps=190000, episode_reward=-108.86 +/- 54.77\n",
              "</pre>\n"
            ],
            "text/plain": [
              "Eval num_timesteps=190000, episode_reward=-108.86 +/- 54.77\n"
            ]
          },
          "metadata": {},
          "output_type": "display_data"
        },
        {
          "data": {
            "text/html": [
              "<pre style=\"white-space:pre;overflow-x:auto;line-height:normal;font-family:Menlo,'DejaVu Sans Mono',consolas,'Courier New',monospace\">Episode length: 707.22 +/- 335.00\n",
              "</pre>\n"
            ],
            "text/plain": [
              "Episode length: 707.22 +/- 335.00\n"
            ]
          },
          "metadata": {},
          "output_type": "display_data"
        },
        {
          "data": {
            "text/html": [
              "<pre style=\"white-space:pre;overflow-x:auto;line-height:normal;font-family:Menlo,'DejaVu Sans Mono',consolas,'Courier New',monospace\">Eval num_timesteps=195000, episode_reward=-78.04 +/- 36.91\n",
              "</pre>\n"
            ],
            "text/plain": [
              "Eval num_timesteps=195000, episode_reward=-78.04 +/- 36.91\n"
            ]
          },
          "metadata": {},
          "output_type": "display_data"
        },
        {
          "data": {
            "text/html": [
              "<pre style=\"white-space:pre;overflow-x:auto;line-height:normal;font-family:Menlo,'DejaVu Sans Mono',consolas,'Courier New',monospace\">Episode length: 804.74 +/- 315.78\n",
              "</pre>\n"
            ],
            "text/plain": [
              "Episode length: 804.74 +/- 315.78\n"
            ]
          },
          "metadata": {},
          "output_type": "display_data"
        },
        {
          "data": {
            "text/html": [
              "<pre style=\"white-space:pre;overflow-x:auto;line-height:normal;font-family:Menlo,'DejaVu Sans Mono',consolas,'Courier New',monospace\">Eval num_timesteps=200000, episode_reward=-93.21 +/- 42.35\n",
              "</pre>\n"
            ],
            "text/plain": [
              "Eval num_timesteps=200000, episode_reward=-93.21 +/- 42.35\n"
            ]
          },
          "metadata": {},
          "output_type": "display_data"
        },
        {
          "data": {
            "text/html": [
              "<pre style=\"white-space:pre;overflow-x:auto;line-height:normal;font-family:Menlo,'DejaVu Sans Mono',consolas,'Courier New',monospace\">Episode length: 745.58 +/- 350.86\n",
              "</pre>\n"
            ],
            "text/plain": [
              "Episode length: 745.58 +/- 350.86\n"
            ]
          },
          "metadata": {},
          "output_type": "display_data"
        },
        {
          "data": {
            "text/html": [
              "<pre style=\"white-space:pre;overflow-x:auto;line-height:normal;font-family:Menlo,'DejaVu Sans Mono',consolas,'Courier New',monospace\">Eval num_timesteps=205000, episode_reward=-112.05 +/- 51.28\n",
              "</pre>\n"
            ],
            "text/plain": [
              "Eval num_timesteps=205000, episode_reward=-112.05 +/- 51.28\n"
            ]
          },
          "metadata": {},
          "output_type": "display_data"
        },
        {
          "data": {
            "text/html": [
              "<pre style=\"white-space:pre;overflow-x:auto;line-height:normal;font-family:Menlo,'DejaVu Sans Mono',consolas,'Courier New',monospace\">Episode length: 618.70 +/- 347.13\n",
              "</pre>\n"
            ],
            "text/plain": [
              "Episode length: 618.70 +/- 347.13\n"
            ]
          },
          "metadata": {},
          "output_type": "display_data"
        },
        {
          "data": {
            "text/html": [
              "<pre style=\"white-space:pre;overflow-x:auto;line-height:normal;font-family:Menlo,'DejaVu Sans Mono',consolas,'Courier New',monospace\">Eval num_timesteps=210000, episode_reward=-43.52 +/- 59.48\n",
              "</pre>\n"
            ],
            "text/plain": [
              "Eval num_timesteps=210000, episode_reward=-43.52 +/- 59.48\n"
            ]
          },
          "metadata": {},
          "output_type": "display_data"
        },
        {
          "data": {
            "text/html": [
              "<pre style=\"white-space:pre;overflow-x:auto;line-height:normal;font-family:Menlo,'DejaVu Sans Mono',consolas,'Courier New',monospace\">Episode length: 868.90 +/- 265.35\n",
              "</pre>\n"
            ],
            "text/plain": [
              "Episode length: 868.90 +/- 265.35\n"
            ]
          },
          "metadata": {},
          "output_type": "display_data"
        },
        {
          "data": {
            "text/html": [
              "<pre style=\"white-space:pre;overflow-x:auto;line-height:normal;font-family:Menlo,'DejaVu Sans Mono',consolas,'Courier New',monospace\">New best mean reward!\n",
              "</pre>\n"
            ],
            "text/plain": [
              "New best mean reward!\n"
            ]
          },
          "metadata": {},
          "output_type": "display_data"
        },
        {
          "data": {
            "text/html": [
              "<pre style=\"white-space:pre;overflow-x:auto;line-height:normal;font-family:Menlo,'DejaVu Sans Mono',consolas,'Courier New',monospace\">Eval num_timesteps=215000, episode_reward=-56.91 +/- 53.07\n",
              "</pre>\n"
            ],
            "text/plain": [
              "Eval num_timesteps=215000, episode_reward=-56.91 +/- 53.07\n"
            ]
          },
          "metadata": {},
          "output_type": "display_data"
        },
        {
          "data": {
            "text/html": [
              "<pre style=\"white-space:pre;overflow-x:auto;line-height:normal;font-family:Menlo,'DejaVu Sans Mono',consolas,'Courier New',monospace\">Episode length: 864.50 +/- 260.20\n",
              "</pre>\n"
            ],
            "text/plain": [
              "Episode length: 864.50 +/- 260.20\n"
            ]
          },
          "metadata": {},
          "output_type": "display_data"
        },
        {
          "data": {
            "text/html": [
              "<pre style=\"white-space:pre;overflow-x:auto;line-height:normal;font-family:Menlo,'DejaVu Sans Mono',consolas,'Courier New',monospace\">Eval num_timesteps=220000, episode_reward=-55.30 +/- 41.68\n",
              "</pre>\n"
            ],
            "text/plain": [
              "Eval num_timesteps=220000, episode_reward=-55.30 +/- 41.68\n"
            ]
          },
          "metadata": {},
          "output_type": "display_data"
        },
        {
          "data": {
            "text/html": [
              "<pre style=\"white-space:pre;overflow-x:auto;line-height:normal;font-family:Menlo,'DejaVu Sans Mono',consolas,'Courier New',monospace\">Episode length: 928.92 +/- 215.64\n",
              "</pre>\n"
            ],
            "text/plain": [
              "Episode length: 928.92 +/- 215.64\n"
            ]
          },
          "metadata": {},
          "output_type": "display_data"
        },
        {
          "data": {
            "text/html": [
              "<pre style=\"white-space:pre;overflow-x:auto;line-height:normal;font-family:Menlo,'DejaVu Sans Mono',consolas,'Courier New',monospace\">Eval num_timesteps=225000, episode_reward=-57.83 +/- 43.28\n",
              "</pre>\n"
            ],
            "text/plain": [
              "Eval num_timesteps=225000, episode_reward=-57.83 +/- 43.28\n"
            ]
          },
          "metadata": {},
          "output_type": "display_data"
        },
        {
          "data": {
            "text/html": [
              "<pre style=\"white-space:pre;overflow-x:auto;line-height:normal;font-family:Menlo,'DejaVu Sans Mono',consolas,'Courier New',monospace\">Episode length: 852.22 +/- 297.54\n",
              "</pre>\n"
            ],
            "text/plain": [
              "Episode length: 852.22 +/- 297.54\n"
            ]
          },
          "metadata": {},
          "output_type": "display_data"
        },
        {
          "data": {
            "text/html": [
              "<pre style=\"white-space:pre;overflow-x:auto;line-height:normal;font-family:Menlo,'DejaVu Sans Mono',consolas,'Courier New',monospace\">Eval num_timesteps=230000, episode_reward=-75.04 +/- 46.18\n",
              "</pre>\n"
            ],
            "text/plain": [
              "Eval num_timesteps=230000, episode_reward=-75.04 +/- 46.18\n"
            ]
          },
          "metadata": {},
          "output_type": "display_data"
        },
        {
          "data": {
            "text/html": [
              "<pre style=\"white-space:pre;overflow-x:auto;line-height:normal;font-family:Menlo,'DejaVu Sans Mono',consolas,'Courier New',monospace\">Episode length: 698.64 +/- 360.51\n",
              "</pre>\n"
            ],
            "text/plain": [
              "Episode length: 698.64 +/- 360.51\n"
            ]
          },
          "metadata": {},
          "output_type": "display_data"
        },
        {
          "data": {
            "text/html": [
              "<pre style=\"white-space:pre;overflow-x:auto;line-height:normal;font-family:Menlo,'DejaVu Sans Mono',consolas,'Courier New',monospace\">Eval num_timesteps=235000, episode_reward=-71.59 +/- 56.41\n",
              "</pre>\n"
            ],
            "text/plain": [
              "Eval num_timesteps=235000, episode_reward=-71.59 +/- 56.41\n"
            ]
          },
          "metadata": {},
          "output_type": "display_data"
        },
        {
          "data": {
            "text/html": [
              "<pre style=\"white-space:pre;overflow-x:auto;line-height:normal;font-family:Menlo,'DejaVu Sans Mono',consolas,'Courier New',monospace\">Episode length: 819.50 +/- 265.68\n",
              "</pre>\n"
            ],
            "text/plain": [
              "Episode length: 819.50 +/- 265.68\n"
            ]
          },
          "metadata": {},
          "output_type": "display_data"
        },
        {
          "data": {
            "text/html": [
              "<pre style=\"white-space:pre;overflow-x:auto;line-height:normal;font-family:Menlo,'DejaVu Sans Mono',consolas,'Courier New',monospace\">Eval num_timesteps=240000, episode_reward=-83.87 +/- 49.42\n",
              "</pre>\n"
            ],
            "text/plain": [
              "Eval num_timesteps=240000, episode_reward=-83.87 +/- 49.42\n"
            ]
          },
          "metadata": {},
          "output_type": "display_data"
        },
        {
          "data": {
            "text/html": [
              "<pre style=\"white-space:pre;overflow-x:auto;line-height:normal;font-family:Menlo,'DejaVu Sans Mono',consolas,'Courier New',monospace\">Episode length: 707.96 +/- 342.10\n",
              "</pre>\n"
            ],
            "text/plain": [
              "Episode length: 707.96 +/- 342.10\n"
            ]
          },
          "metadata": {},
          "output_type": "display_data"
        },
        {
          "data": {
            "text/html": [
              "<pre style=\"white-space:pre;overflow-x:auto;line-height:normal;font-family:Menlo,'DejaVu Sans Mono',consolas,'Courier New',monospace\">Eval num_timesteps=245000, episode_reward=-83.59 +/- 55.49\n",
              "</pre>\n"
            ],
            "text/plain": [
              "Eval num_timesteps=245000, episode_reward=-83.59 +/- 55.49\n"
            ]
          },
          "metadata": {},
          "output_type": "display_data"
        },
        {
          "data": {
            "text/html": [
              "<pre style=\"white-space:pre;overflow-x:auto;line-height:normal;font-family:Menlo,'DejaVu Sans Mono',consolas,'Courier New',monospace\">Episode length: 803.54 +/- 277.92\n",
              "</pre>\n"
            ],
            "text/plain": [
              "Episode length: 803.54 +/- 277.92\n"
            ]
          },
          "metadata": {},
          "output_type": "display_data"
        },
        {
          "data": {
            "text/html": [
              "<pre style=\"white-space:pre;overflow-x:auto;line-height:normal;font-family:Menlo,'DejaVu Sans Mono',consolas,'Courier New',monospace\">Eval num_timesteps=250000, episode_reward=-92.65 +/- 58.25\n",
              "</pre>\n"
            ],
            "text/plain": [
              "Eval num_timesteps=250000, episode_reward=-92.65 +/- 58.25\n"
            ]
          },
          "metadata": {},
          "output_type": "display_data"
        },
        {
          "data": {
            "text/html": [
              "<pre style=\"white-space:pre;overflow-x:auto;line-height:normal;font-family:Menlo,'DejaVu Sans Mono',consolas,'Courier New',monospace\">Episode length: 841.14 +/- 248.35\n",
              "</pre>\n"
            ],
            "text/plain": [
              "Episode length: 841.14 +/- 248.35\n"
            ]
          },
          "metadata": {},
          "output_type": "display_data"
        },
        {
          "data": {
            "text/html": [
              "<pre style=\"white-space:pre;overflow-x:auto;line-height:normal;font-family:Menlo,'DejaVu Sans Mono',consolas,'Courier New',monospace\">Eval num_timesteps=255000, episode_reward=-79.53 +/- 49.83\n",
              "</pre>\n"
            ],
            "text/plain": [
              "Eval num_timesteps=255000, episode_reward=-79.53 +/- 49.83\n"
            ]
          },
          "metadata": {},
          "output_type": "display_data"
        },
        {
          "data": {
            "text/html": [
              "<pre style=\"white-space:pre;overflow-x:auto;line-height:normal;font-family:Menlo,'DejaVu Sans Mono',consolas,'Courier New',monospace\">Episode length: 792.94 +/- 303.75\n",
              "</pre>\n"
            ],
            "text/plain": [
              "Episode length: 792.94 +/- 303.75\n"
            ]
          },
          "metadata": {},
          "output_type": "display_data"
        },
        {
          "data": {
            "text/html": [
              "<pre style=\"white-space:pre;overflow-x:auto;line-height:normal;font-family:Menlo,'DejaVu Sans Mono',consolas,'Courier New',monospace\">Eval num_timesteps=260000, episode_reward=-66.53 +/- 26.97\n",
              "</pre>\n"
            ],
            "text/plain": [
              "Eval num_timesteps=260000, episode_reward=-66.53 +/- 26.97\n"
            ]
          },
          "metadata": {},
          "output_type": "display_data"
        },
        {
          "data": {
            "text/html": [
              "<pre style=\"white-space:pre;overflow-x:auto;line-height:normal;font-family:Menlo,'DejaVu Sans Mono',consolas,'Courier New',monospace\">Episode length: 888.50 +/- 263.65\n",
              "</pre>\n"
            ],
            "text/plain": [
              "Episode length: 888.50 +/- 263.65\n"
            ]
          },
          "metadata": {},
          "output_type": "display_data"
        },
        {
          "data": {
            "text/html": [
              "<pre style=\"white-space:pre;overflow-x:auto;line-height:normal;font-family:Menlo,'DejaVu Sans Mono',consolas,'Courier New',monospace\">Eval num_timesteps=265000, episode_reward=-68.99 +/- 33.42\n",
              "</pre>\n"
            ],
            "text/plain": [
              "Eval num_timesteps=265000, episode_reward=-68.99 +/- 33.42\n"
            ]
          },
          "metadata": {},
          "output_type": "display_data"
        },
        {
          "data": {
            "text/html": [
              "<pre style=\"white-space:pre;overflow-x:auto;line-height:normal;font-family:Menlo,'DejaVu Sans Mono',consolas,'Courier New',monospace\">Episode length: 889.70 +/- 248.46\n",
              "</pre>\n"
            ],
            "text/plain": [
              "Episode length: 889.70 +/- 248.46\n"
            ]
          },
          "metadata": {},
          "output_type": "display_data"
        },
        {
          "data": {
            "text/html": [
              "<pre style=\"white-space:pre;overflow-x:auto;line-height:normal;font-family:Menlo,'DejaVu Sans Mono',consolas,'Courier New',monospace\">Eval num_timesteps=270000, episode_reward=-66.61 +/- 46.27\n",
              "</pre>\n"
            ],
            "text/plain": [
              "Eval num_timesteps=270000, episode_reward=-66.61 +/- 46.27\n"
            ]
          },
          "metadata": {},
          "output_type": "display_data"
        },
        {
          "data": {
            "text/html": [
              "<pre style=\"white-space:pre;overflow-x:auto;line-height:normal;font-family:Menlo,'DejaVu Sans Mono',consolas,'Courier New',monospace\">Episode length: 822.96 +/- 306.95\n",
              "</pre>\n"
            ],
            "text/plain": [
              "Episode length: 822.96 +/- 306.95\n"
            ]
          },
          "metadata": {},
          "output_type": "display_data"
        },
        {
          "data": {
            "text/html": [
              "<pre style=\"white-space:pre;overflow-x:auto;line-height:normal;font-family:Menlo,'DejaVu Sans Mono',consolas,'Courier New',monospace\">Eval num_timesteps=275000, episode_reward=-80.55 +/- 45.48\n",
              "</pre>\n"
            ],
            "text/plain": [
              "Eval num_timesteps=275000, episode_reward=-80.55 +/- 45.48\n"
            ]
          },
          "metadata": {},
          "output_type": "display_data"
        },
        {
          "data": {
            "text/html": [
              "<pre style=\"white-space:pre;overflow-x:auto;line-height:normal;font-family:Menlo,'DejaVu Sans Mono',consolas,'Courier New',monospace\">Episode length: 709.36 +/- 348.38\n",
              "</pre>\n"
            ],
            "text/plain": [
              "Episode length: 709.36 +/- 348.38\n"
            ]
          },
          "metadata": {},
          "output_type": "display_data"
        },
        {
          "data": {
            "text/html": [
              "<pre style=\"white-space:pre;overflow-x:auto;line-height:normal;font-family:Menlo,'DejaVu Sans Mono',consolas,'Courier New',monospace\">Eval num_timesteps=280000, episode_reward=-85.06 +/- 53.20\n",
              "</pre>\n"
            ],
            "text/plain": [
              "Eval num_timesteps=280000, episode_reward=-85.06 +/- 53.20\n"
            ]
          },
          "metadata": {},
          "output_type": "display_data"
        },
        {
          "data": {
            "text/html": [
              "<pre style=\"white-space:pre;overflow-x:auto;line-height:normal;font-family:Menlo,'DejaVu Sans Mono',consolas,'Courier New',monospace\">Episode length: 759.36 +/- 299.14\n",
              "</pre>\n"
            ],
            "text/plain": [
              "Episode length: 759.36 +/- 299.14\n"
            ]
          },
          "metadata": {},
          "output_type": "display_data"
        },
        {
          "data": {
            "text/html": [
              "<pre style=\"white-space:pre;overflow-x:auto;line-height:normal;font-family:Menlo,'DejaVu Sans Mono',consolas,'Courier New',monospace\">Eval num_timesteps=285000, episode_reward=-65.84 +/- 38.85\n",
              "</pre>\n"
            ],
            "text/plain": [
              "Eval num_timesteps=285000, episode_reward=-65.84 +/- 38.85\n"
            ]
          },
          "metadata": {},
          "output_type": "display_data"
        },
        {
          "data": {
            "text/html": [
              "<pre style=\"white-space:pre;overflow-x:auto;line-height:normal;font-family:Menlo,'DejaVu Sans Mono',consolas,'Courier New',monospace\">Eval num_timesteps=290000, episode_reward=-68.89 +/- 39.79\n",
              "</pre>\n"
            ],
            "text/plain": [
              "Eval num_timesteps=290000, episode_reward=-68.89 +/- 39.79\n"
            ]
          },
          "metadata": {},
          "output_type": "display_data"
        },
        {
          "data": {
            "text/html": [
              "<pre style=\"white-space:pre;overflow-x:auto;line-height:normal;font-family:Menlo,'DejaVu Sans Mono',consolas,'Courier New',monospace\">Episode length: 787.50 +/- 329.89\n",
              "</pre>\n"
            ],
            "text/plain": [
              "Episode length: 787.50 +/- 329.89\n"
            ]
          },
          "metadata": {},
          "output_type": "display_data"
        },
        {
          "data": {
            "text/html": [
              "<pre style=\"white-space:pre;overflow-x:auto;line-height:normal;font-family:Menlo,'DejaVu Sans Mono',consolas,'Courier New',monospace\">Eval num_timesteps=295000, episode_reward=-88.31 +/- 43.57\n",
              "</pre>\n"
            ],
            "text/plain": [
              "Eval num_timesteps=295000, episode_reward=-88.31 +/- 43.57\n"
            ]
          },
          "metadata": {},
          "output_type": "display_data"
        },
        {
          "data": {
            "text/html": [
              "<pre style=\"white-space:pre;overflow-x:auto;line-height:normal;font-family:Menlo,'DejaVu Sans Mono',consolas,'Courier New',monospace\">Episode length: 642.54 +/- 353.59\n",
              "</pre>\n"
            ],
            "text/plain": [
              "Episode length: 642.54 +/- 353.59\n"
            ]
          },
          "metadata": {},
          "output_type": "display_data"
        },
        {
          "data": {
            "text/html": [
              "<pre style=\"white-space:pre;overflow-x:auto;line-height:normal;font-family:Menlo,'DejaVu Sans Mono',consolas,'Courier New',monospace\">Eval num_timesteps=300000, episode_reward=-82.50 +/- 55.45\n",
              "</pre>\n"
            ],
            "text/plain": [
              "Eval num_timesteps=300000, episode_reward=-82.50 +/- 55.45\n"
            ]
          },
          "metadata": {},
          "output_type": "display_data"
        },
        {
          "data": {
            "text/html": [
              "<pre style=\"white-space:pre;overflow-x:auto;line-height:normal;font-family:Menlo,'DejaVu Sans Mono',consolas,'Courier New',monospace\">Episode length: 745.28 +/- 350.20\n",
              "</pre>\n"
            ],
            "text/plain": [
              "Episode length: 745.28 +/- 350.20\n"
            ]
          },
          "metadata": {},
          "output_type": "display_data"
        },
        {
          "data": {
            "text/html": [
              "<pre style=\"white-space:pre;overflow-x:auto;line-height:normal;font-family:Menlo,'DejaVu Sans Mono',consolas,'Courier New',monospace\">Eval num_timesteps=305000, episode_reward=-96.73 +/- 47.55\n",
              "</pre>\n"
            ],
            "text/plain": [
              "Eval num_timesteps=305000, episode_reward=-96.73 +/- 47.55\n"
            ]
          },
          "metadata": {},
          "output_type": "display_data"
        },
        {
          "data": {
            "text/html": [
              "<pre style=\"white-space:pre;overflow-x:auto;line-height:normal;font-family:Menlo,'DejaVu Sans Mono',consolas,'Courier New',monospace\">Episode length: 704.04 +/- 328.20\n",
              "</pre>\n"
            ],
            "text/plain": [
              "Episode length: 704.04 +/- 328.20\n"
            ]
          },
          "metadata": {},
          "output_type": "display_data"
        },
        {
          "data": {
            "text/html": [
              "<pre style=\"white-space:pre;overflow-x:auto;line-height:normal;font-family:Menlo,'DejaVu Sans Mono',consolas,'Courier New',monospace\">Eval num_timesteps=310000, episode_reward=-91.18 +/- 48.37\n",
              "</pre>\n"
            ],
            "text/plain": [
              "Eval num_timesteps=310000, episode_reward=-91.18 +/- 48.37\n"
            ]
          },
          "metadata": {},
          "output_type": "display_data"
        },
        {
          "data": {
            "text/html": [
              "<pre style=\"white-space:pre;overflow-x:auto;line-height:normal;font-family:Menlo,'DejaVu Sans Mono',consolas,'Courier New',monospace\">Episode length: 731.00 +/- 324.18\n",
              "</pre>\n"
            ],
            "text/plain": [
              "Episode length: 731.00 +/- 324.18\n"
            ]
          },
          "metadata": {},
          "output_type": "display_data"
        },
        {
          "data": {
            "text/html": [
              "<pre style=\"white-space:pre;overflow-x:auto;line-height:normal;font-family:Menlo,'DejaVu Sans Mono',consolas,'Courier New',monospace\">Eval num_timesteps=315000, episode_reward=-102.94 +/- 57.56\n",
              "</pre>\n"
            ],
            "text/plain": [
              "Eval num_timesteps=315000, episode_reward=-102.94 +/- 57.56\n"
            ]
          },
          "metadata": {},
          "output_type": "display_data"
        },
        {
          "data": {
            "text/html": [
              "<pre style=\"white-space:pre;overflow-x:auto;line-height:normal;font-family:Menlo,'DejaVu Sans Mono',consolas,'Courier New',monospace\">Episode length: 696.62 +/- 333.85\n",
              "</pre>\n"
            ],
            "text/plain": [
              "Episode length: 696.62 +/- 333.85\n"
            ]
          },
          "metadata": {},
          "output_type": "display_data"
        },
        {
          "data": {
            "text/html": [
              "<pre style=\"white-space:pre;overflow-x:auto;line-height:normal;font-family:Menlo,'DejaVu Sans Mono',consolas,'Courier New',monospace\">Eval num_timesteps=320000, episode_reward=-89.94 +/- 54.37\n",
              "</pre>\n"
            ],
            "text/plain": [
              "Eval num_timesteps=320000, episode_reward=-89.94 +/- 54.37\n"
            ]
          },
          "metadata": {},
          "output_type": "display_data"
        },
        {
          "data": {
            "text/html": [
              "<pre style=\"white-space:pre;overflow-x:auto;line-height:normal;font-family:Menlo,'DejaVu Sans Mono',consolas,'Courier New',monospace\">Episode length: 708.06 +/- 329.46\n",
              "</pre>\n"
            ],
            "text/plain": [
              "Episode length: 708.06 +/- 329.46\n"
            ]
          },
          "metadata": {},
          "output_type": "display_data"
        },
        {
          "data": {
            "text/html": [
              "<pre style=\"white-space:pre;overflow-x:auto;line-height:normal;font-family:Menlo,'DejaVu Sans Mono',consolas,'Courier New',monospace\">Eval num_timesteps=325000, episode_reward=-122.77 +/- 45.32\n",
              "</pre>\n"
            ],
            "text/plain": [
              "Eval num_timesteps=325000, episode_reward=-122.77 +/- 45.32\n"
            ]
          },
          "metadata": {},
          "output_type": "display_data"
        },
        {
          "data": {
            "text/html": [
              "<pre style=\"white-space:pre;overflow-x:auto;line-height:normal;font-family:Menlo,'DejaVu Sans Mono',consolas,'Courier New',monospace\">Episode length: 626.66 +/- 304.16\n",
              "</pre>\n"
            ],
            "text/plain": [
              "Episode length: 626.66 +/- 304.16\n"
            ]
          },
          "metadata": {},
          "output_type": "display_data"
        },
        {
          "data": {
            "text/html": [
              "<pre style=\"white-space:pre;overflow-x:auto;line-height:normal;font-family:Menlo,'DejaVu Sans Mono',consolas,'Courier New',monospace\">Eval num_timesteps=330000, episode_reward=-103.24 +/- 36.84\n",
              "</pre>\n"
            ],
            "text/plain": [
              "Eval num_timesteps=330000, episode_reward=-103.24 +/- 36.84\n"
            ]
          },
          "metadata": {},
          "output_type": "display_data"
        },
        {
          "data": {
            "text/html": [
              "<pre style=\"white-space:pre;overflow-x:auto;line-height:normal;font-family:Menlo,'DejaVu Sans Mono',consolas,'Courier New',monospace\">Episode length: 666.88 +/- 353.77\n",
              "</pre>\n"
            ],
            "text/plain": [
              "Episode length: 666.88 +/- 353.77\n"
            ]
          },
          "metadata": {},
          "output_type": "display_data"
        },
        {
          "data": {
            "text/html": [
              "<pre style=\"white-space:pre;overflow-x:auto;line-height:normal;font-family:Menlo,'DejaVu Sans Mono',consolas,'Courier New',monospace\">Eval num_timesteps=335000, episode_reward=-128.10 +/- 62.38\n",
              "</pre>\n"
            ],
            "text/plain": [
              "Eval num_timesteps=335000, episode_reward=-128.10 +/- 62.38\n"
            ]
          },
          "metadata": {},
          "output_type": "display_data"
        },
        {
          "data": {
            "text/html": [
              "<pre style=\"white-space:pre;overflow-x:auto;line-height:normal;font-family:Menlo,'DejaVu Sans Mono',consolas,'Courier New',monospace\">Episode length: 714.06 +/- 317.86\n",
              "</pre>\n"
            ],
            "text/plain": [
              "Episode length: 714.06 +/- 317.86\n"
            ]
          },
          "metadata": {},
          "output_type": "display_data"
        },
        {
          "data": {
            "text/html": [
              "<pre style=\"white-space:pre;overflow-x:auto;line-height:normal;font-family:Menlo,'DejaVu Sans Mono',consolas,'Courier New',monospace\">Eval num_timesteps=340000, episode_reward=-120.18 +/- 31.26\n",
              "</pre>\n"
            ],
            "text/plain": [
              "Eval num_timesteps=340000, episode_reward=-120.18 +/- 31.26\n"
            ]
          },
          "metadata": {},
          "output_type": "display_data"
        },
        {
          "data": {
            "text/html": [
              "<pre style=\"white-space:pre;overflow-x:auto;line-height:normal;font-family:Menlo,'DejaVu Sans Mono',consolas,'Courier New',monospace\">Episode length: 520.38 +/- 314.88\n",
              "</pre>\n"
            ],
            "text/plain": [
              "Episode length: 520.38 +/- 314.88\n"
            ]
          },
          "metadata": {},
          "output_type": "display_data"
        },
        {
          "data": {
            "text/html": [
              "<pre style=\"white-space:pre;overflow-x:auto;line-height:normal;font-family:Menlo,'DejaVu Sans Mono',consolas,'Courier New',monospace\">Eval num_timesteps=345000, episode_reward=-126.46 +/- 44.54\n",
              "</pre>\n"
            ],
            "text/plain": [
              "Eval num_timesteps=345000, episode_reward=-126.46 +/- 44.54\n"
            ]
          },
          "metadata": {},
          "output_type": "display_data"
        },
        {
          "data": {
            "text/html": [
              "<pre style=\"white-space:pre;overflow-x:auto;line-height:normal;font-family:Menlo,'DejaVu Sans Mono',consolas,'Courier New',monospace\">Episode length: 644.40 +/- 356.40\n",
              "</pre>\n"
            ],
            "text/plain": [
              "Episode length: 644.40 +/- 356.40\n"
            ]
          },
          "metadata": {},
          "output_type": "display_data"
        },
        {
          "data": {
            "text/html": [
              "<pre style=\"white-space:pre;overflow-x:auto;line-height:normal;font-family:Menlo,'DejaVu Sans Mono',consolas,'Courier New',monospace\">Eval num_timesteps=350000, episode_reward=-114.38 +/- 33.57\n",
              "</pre>\n"
            ],
            "text/plain": [
              "Eval num_timesteps=350000, episode_reward=-114.38 +/- 33.57\n"
            ]
          },
          "metadata": {},
          "output_type": "display_data"
        },
        {
          "data": {
            "text/html": [
              "<pre style=\"white-space:pre;overflow-x:auto;line-height:normal;font-family:Menlo,'DejaVu Sans Mono',consolas,'Courier New',monospace\">Episode length: 610.08 +/- 355.86\n",
              "</pre>\n"
            ],
            "text/plain": [
              "Episode length: 610.08 +/- 355.86\n"
            ]
          },
          "metadata": {},
          "output_type": "display_data"
        },
        {
          "data": {
            "text/html": [
              "<pre style=\"white-space:pre;overflow-x:auto;line-height:normal;font-family:Menlo,'DejaVu Sans Mono',consolas,'Courier New',monospace\">Eval num_timesteps=355000, episode_reward=-137.37 +/- 36.37\n",
              "</pre>\n"
            ],
            "text/plain": [
              "Eval num_timesteps=355000, episode_reward=-137.37 +/- 36.37\n"
            ]
          },
          "metadata": {},
          "output_type": "display_data"
        },
        {
          "data": {
            "text/html": [
              "<pre style=\"white-space:pre;overflow-x:auto;line-height:normal;font-family:Menlo,'DejaVu Sans Mono',consolas,'Courier New',monospace\">Episode length: 413.20 +/- 294.77\n",
              "</pre>\n"
            ],
            "text/plain": [
              "Episode length: 413.20 +/- 294.77\n"
            ]
          },
          "metadata": {},
          "output_type": "display_data"
        },
        {
          "data": {
            "text/html": [
              "<pre style=\"white-space:pre;overflow-x:auto;line-height:normal;font-family:Menlo,'DejaVu Sans Mono',consolas,'Courier New',monospace\">Eval num_timesteps=360000, episode_reward=-135.74 +/- 35.65\n",
              "</pre>\n"
            ],
            "text/plain": [
              "Eval num_timesteps=360000, episode_reward=-135.74 +/- 35.65\n"
            ]
          },
          "metadata": {},
          "output_type": "display_data"
        },
        {
          "data": {
            "text/html": [
              "<pre style=\"white-space:pre;overflow-x:auto;line-height:normal;font-family:Menlo,'DejaVu Sans Mono',consolas,'Courier New',monospace\">Episode length: 553.80 +/- 344.94\n",
              "</pre>\n"
            ],
            "text/plain": [
              "Episode length: 553.80 +/- 344.94\n"
            ]
          },
          "metadata": {},
          "output_type": "display_data"
        },
        {
          "data": {
            "text/html": [
              "<pre style=\"white-space:pre;overflow-x:auto;line-height:normal;font-family:Menlo,'DejaVu Sans Mono',consolas,'Courier New',monospace\">Eval num_timesteps=365000, episode_reward=-129.37 +/- 42.85\n",
              "</pre>\n"
            ],
            "text/plain": [
              "Eval num_timesteps=365000, episode_reward=-129.37 +/- 42.85\n"
            ]
          },
          "metadata": {},
          "output_type": "display_data"
        },
        {
          "data": {
            "text/html": [
              "<pre style=\"white-space:pre;overflow-x:auto;line-height:normal;font-family:Menlo,'DejaVu Sans Mono',consolas,'Courier New',monospace\">Episode length: 519.78 +/- 343.80\n",
              "</pre>\n"
            ],
            "text/plain": [
              "Episode length: 519.78 +/- 343.80\n"
            ]
          },
          "metadata": {},
          "output_type": "display_data"
        },
        {
          "data": {
            "text/html": [
              "<pre style=\"white-space:pre;overflow-x:auto;line-height:normal;font-family:Menlo,'DejaVu Sans Mono',consolas,'Courier New',monospace\">Eval num_timesteps=370000, episode_reward=-124.45 +/- 36.99\n",
              "</pre>\n"
            ],
            "text/plain": [
              "Eval num_timesteps=370000, episode_reward=-124.45 +/- 36.99\n"
            ]
          },
          "metadata": {},
          "output_type": "display_data"
        },
        {
          "data": {
            "text/html": [
              "<pre style=\"white-space:pre;overflow-x:auto;line-height:normal;font-family:Menlo,'DejaVu Sans Mono',consolas,'Courier New',monospace\">Episode length: 557.44 +/- 359.57\n",
              "</pre>\n"
            ],
            "text/plain": [
              "Episode length: 557.44 +/- 359.57\n"
            ]
          },
          "metadata": {},
          "output_type": "display_data"
        },
        {
          "data": {
            "text/html": [
              "<pre style=\"white-space:pre;overflow-x:auto;line-height:normal;font-family:Menlo,'DejaVu Sans Mono',consolas,'Courier New',monospace\">Eval num_timesteps=375000, episode_reward=-135.15 +/- 34.44\n",
              "</pre>\n"
            ],
            "text/plain": [
              "Eval num_timesteps=375000, episode_reward=-135.15 +/- 34.44\n"
            ]
          },
          "metadata": {},
          "output_type": "display_data"
        },
        {
          "data": {
            "text/html": [
              "<pre style=\"white-space:pre;overflow-x:auto;line-height:normal;font-family:Menlo,'DejaVu Sans Mono',consolas,'Courier New',monospace\">Episode length: 433.42 +/- 327.06\n",
              "</pre>\n"
            ],
            "text/plain": [
              "Episode length: 433.42 +/- 327.06\n"
            ]
          },
          "metadata": {},
          "output_type": "display_data"
        },
        {
          "data": {
            "text/html": [
              "<pre style=\"white-space:pre;overflow-x:auto;line-height:normal;font-family:Menlo,'DejaVu Sans Mono',consolas,'Courier New',monospace\">Eval num_timesteps=380000, episode_reward=-114.32 +/- 42.08\n",
              "</pre>\n"
            ],
            "text/plain": [
              "Eval num_timesteps=380000, episode_reward=-114.32 +/- 42.08\n"
            ]
          },
          "metadata": {},
          "output_type": "display_data"
        },
        {
          "data": {
            "text/html": [
              "<pre style=\"white-space:pre;overflow-x:auto;line-height:normal;font-family:Menlo,'DejaVu Sans Mono',consolas,'Courier New',monospace\">Episode length: 622.98 +/- 357.03\n",
              "</pre>\n"
            ],
            "text/plain": [
              "Episode length: 622.98 +/- 357.03\n"
            ]
          },
          "metadata": {},
          "output_type": "display_data"
        },
        {
          "data": {
            "text/html": [
              "<pre style=\"white-space:pre;overflow-x:auto;line-height:normal;font-family:Menlo,'DejaVu Sans Mono',consolas,'Courier New',monospace\">Eval num_timesteps=385000, episode_reward=-122.17 +/- 38.42\n",
              "</pre>\n"
            ],
            "text/plain": [
              "Eval num_timesteps=385000, episode_reward=-122.17 +/- 38.42\n"
            ]
          },
          "metadata": {},
          "output_type": "display_data"
        },
        {
          "data": {
            "text/html": [
              "<pre style=\"white-space:pre;overflow-x:auto;line-height:normal;font-family:Menlo,'DejaVu Sans Mono',consolas,'Courier New',monospace\">Episode length: 550.70 +/- 354.53\n",
              "</pre>\n"
            ],
            "text/plain": [
              "Episode length: 550.70 +/- 354.53\n"
            ]
          },
          "metadata": {},
          "output_type": "display_data"
        },
        {
          "data": {
            "text/html": [
              "<pre style=\"white-space:pre;overflow-x:auto;line-height:normal;font-family:Menlo,'DejaVu Sans Mono',consolas,'Courier New',monospace\">Eval num_timesteps=390000, episode_reward=-123.42 +/- 40.15\n",
              "</pre>\n"
            ],
            "text/plain": [
              "Eval num_timesteps=390000, episode_reward=-123.42 +/- 40.15\n"
            ]
          },
          "metadata": {},
          "output_type": "display_data"
        },
        {
          "data": {
            "text/html": [
              "<pre style=\"white-space:pre;overflow-x:auto;line-height:normal;font-family:Menlo,'DejaVu Sans Mono',consolas,'Courier New',monospace\">Episode length: 626.80 +/- 350.45\n",
              "</pre>\n"
            ],
            "text/plain": [
              "Episode length: 626.80 +/- 350.45\n"
            ]
          },
          "metadata": {},
          "output_type": "display_data"
        },
        {
          "data": {
            "text/html": [
              "<pre style=\"white-space:pre;overflow-x:auto;line-height:normal;font-family:Menlo,'DejaVu Sans Mono',consolas,'Courier New',monospace\">Eval num_timesteps=395000, episode_reward=-118.85 +/- 41.78\n",
              "</pre>\n"
            ],
            "text/plain": [
              "Eval num_timesteps=395000, episode_reward=-118.85 +/- 41.78\n"
            ]
          },
          "metadata": {},
          "output_type": "display_data"
        },
        {
          "data": {
            "text/html": [
              "<pre style=\"white-space:pre;overflow-x:auto;line-height:normal;font-family:Menlo,'DejaVu Sans Mono',consolas,'Courier New',monospace\">Episode length: 521.88 +/- 376.19\n",
              "</pre>\n"
            ],
            "text/plain": [
              "Episode length: 521.88 +/- 376.19\n"
            ]
          },
          "metadata": {},
          "output_type": "display_data"
        },
        {
          "data": {
            "text/html": [
              "<pre style=\"white-space:pre;overflow-x:auto;line-height:normal;font-family:Menlo,'DejaVu Sans Mono',consolas,'Courier New',monospace\">Eval num_timesteps=400000, episode_reward=-128.73 +/- 43.72\n",
              "</pre>\n"
            ],
            "text/plain": [
              "Eval num_timesteps=400000, episode_reward=-128.73 +/- 43.72\n"
            ]
          },
          "metadata": {},
          "output_type": "display_data"
        },
        {
          "data": {
            "text/html": [
              "<pre style=\"white-space:pre;overflow-x:auto;line-height:normal;font-family:Menlo,'DejaVu Sans Mono',consolas,'Courier New',monospace\">Episode length: 502.08 +/- 358.55\n",
              "</pre>\n"
            ],
            "text/plain": [
              "Episode length: 502.08 +/- 358.55\n"
            ]
          },
          "metadata": {},
          "output_type": "display_data"
        },
        {
          "data": {
            "text/html": [
              "<pre style=\"white-space:pre;overflow-x:auto;line-height:normal;font-family:Menlo,'DejaVu Sans Mono',consolas,'Courier New',monospace\">Eval num_timesteps=405000, episode_reward=-133.84 +/- 38.37\n",
              "</pre>\n"
            ],
            "text/plain": [
              "Eval num_timesteps=405000, episode_reward=-133.84 +/- 38.37\n"
            ]
          },
          "metadata": {},
          "output_type": "display_data"
        },
        {
          "data": {
            "text/html": [
              "<pre style=\"white-space:pre;overflow-x:auto;line-height:normal;font-family:Menlo,'DejaVu Sans Mono',consolas,'Courier New',monospace\">Episode length: 442.36 +/- 312.92\n",
              "</pre>\n"
            ],
            "text/plain": [
              "Episode length: 442.36 +/- 312.92\n"
            ]
          },
          "metadata": {},
          "output_type": "display_data"
        },
        {
          "data": {
            "text/html": [
              "<pre style=\"white-space:pre;overflow-x:auto;line-height:normal;font-family:Menlo,'DejaVu Sans Mono',consolas,'Courier New',monospace\">Eval num_timesteps=410000, episode_reward=-121.19 +/- 38.55\n",
              "</pre>\n"
            ],
            "text/plain": [
              "Eval num_timesteps=410000, episode_reward=-121.19 +/- 38.55\n"
            ]
          },
          "metadata": {},
          "output_type": "display_data"
        },
        {
          "data": {
            "text/html": [
              "<pre style=\"white-space:pre;overflow-x:auto;line-height:normal;font-family:Menlo,'DejaVu Sans Mono',consolas,'Courier New',monospace\">Episode length: 458.46 +/- 364.05\n",
              "</pre>\n"
            ],
            "text/plain": [
              "Episode length: 458.46 +/- 364.05\n"
            ]
          },
          "metadata": {},
          "output_type": "display_data"
        },
        {
          "data": {
            "text/html": [
              "<pre style=\"white-space:pre;overflow-x:auto;line-height:normal;font-family:Menlo,'DejaVu Sans Mono',consolas,'Courier New',monospace\">Eval num_timesteps=415000, episode_reward=-115.66 +/- 39.60\n",
              "</pre>\n"
            ],
            "text/plain": [
              "Eval num_timesteps=415000, episode_reward=-115.66 +/- 39.60\n"
            ]
          },
          "metadata": {},
          "output_type": "display_data"
        },
        {
          "data": {
            "text/html": [
              "<pre style=\"white-space:pre;overflow-x:auto;line-height:normal;font-family:Menlo,'DejaVu Sans Mono',consolas,'Courier New',monospace\">Episode length: 494.18 +/- 355.25\n",
              "</pre>\n"
            ],
            "text/plain": [
              "Episode length: 494.18 +/- 355.25\n"
            ]
          },
          "metadata": {},
          "output_type": "display_data"
        },
        {
          "data": {
            "text/html": [
              "<pre style=\"white-space:pre;overflow-x:auto;line-height:normal;font-family:Menlo,'DejaVu Sans Mono',consolas,'Courier New',monospace\">Eval num_timesteps=420000, episode_reward=-124.87 +/- 34.88\n",
              "</pre>\n"
            ],
            "text/plain": [
              "Eval num_timesteps=420000, episode_reward=-124.87 +/- 34.88\n"
            ]
          },
          "metadata": {},
          "output_type": "display_data"
        },
        {
          "data": {
            "text/html": [
              "<pre style=\"white-space:pre;overflow-x:auto;line-height:normal;font-family:Menlo,'DejaVu Sans Mono',consolas,'Courier New',monospace\">Episode length: 469.14 +/- 338.21\n",
              "</pre>\n"
            ],
            "text/plain": [
              "Episode length: 469.14 +/- 338.21\n"
            ]
          },
          "metadata": {},
          "output_type": "display_data"
        },
        {
          "data": {
            "text/html": [
              "<pre style=\"white-space:pre;overflow-x:auto;line-height:normal;font-family:Menlo,'DejaVu Sans Mono',consolas,'Courier New',monospace\">Eval num_timesteps=425000, episode_reward=-126.70 +/- 48.67\n",
              "</pre>\n"
            ],
            "text/plain": [
              "Eval num_timesteps=425000, episode_reward=-126.70 +/- 48.67\n"
            ]
          },
          "metadata": {},
          "output_type": "display_data"
        },
        {
          "data": {
            "text/html": [
              "<pre style=\"white-space:pre;overflow-x:auto;line-height:normal;font-family:Menlo,'DejaVu Sans Mono',consolas,'Courier New',monospace\">Episode length: 539.84 +/- 347.47\n",
              "</pre>\n"
            ],
            "text/plain": [
              "Episode length: 539.84 +/- 347.47\n"
            ]
          },
          "metadata": {},
          "output_type": "display_data"
        },
        {
          "data": {
            "text/html": [
              "<pre style=\"white-space:pre;overflow-x:auto;line-height:normal;font-family:Menlo,'DejaVu Sans Mono',consolas,'Courier New',monospace\">Eval num_timesteps=430000, episode_reward=-132.97 +/- 37.56\n",
              "</pre>\n"
            ],
            "text/plain": [
              "Eval num_timesteps=430000, episode_reward=-132.97 +/- 37.56\n"
            ]
          },
          "metadata": {},
          "output_type": "display_data"
        },
        {
          "data": {
            "text/html": [
              "<pre style=\"white-space:pre;overflow-x:auto;line-height:normal;font-family:Menlo,'DejaVu Sans Mono',consolas,'Courier New',monospace\">Episode length: 398.54 +/- 292.15\n",
              "</pre>\n"
            ],
            "text/plain": [
              "Episode length: 398.54 +/- 292.15\n"
            ]
          },
          "metadata": {},
          "output_type": "display_data"
        },
        {
          "data": {
            "text/html": [
              "<pre style=\"white-space:pre;overflow-x:auto;line-height:normal;font-family:Menlo,'DejaVu Sans Mono',consolas,'Courier New',monospace\">Eval num_timesteps=435000, episode_reward=-121.66 +/- 40.79\n",
              "</pre>\n"
            ],
            "text/plain": [
              "Eval num_timesteps=435000, episode_reward=-121.66 +/- 40.79\n"
            ]
          },
          "metadata": {},
          "output_type": "display_data"
        },
        {
          "data": {
            "text/html": [
              "<pre style=\"white-space:pre;overflow-x:auto;line-height:normal;font-family:Menlo,'DejaVu Sans Mono',consolas,'Courier New',monospace\">Episode length: 457.26 +/- 342.57\n",
              "</pre>\n"
            ],
            "text/plain": [
              "Episode length: 457.26 +/- 342.57\n"
            ]
          },
          "metadata": {},
          "output_type": "display_data"
        },
        {
          "data": {
            "text/html": [
              "<pre style=\"white-space:pre;overflow-x:auto;line-height:normal;font-family:Menlo,'DejaVu Sans Mono',consolas,'Courier New',monospace\">Eval num_timesteps=440000, episode_reward=-122.01 +/- 47.28\n",
              "</pre>\n"
            ],
            "text/plain": [
              "Eval num_timesteps=440000, episode_reward=-122.01 +/- 47.28\n"
            ]
          },
          "metadata": {},
          "output_type": "display_data"
        },
        {
          "data": {
            "text/html": [
              "<pre style=\"white-space:pre;overflow-x:auto;line-height:normal;font-family:Menlo,'DejaVu Sans Mono',consolas,'Courier New',monospace\">Episode length: 486.70 +/- 333.80\n",
              "</pre>\n"
            ],
            "text/plain": [
              "Episode length: 486.70 +/- 333.80\n"
            ]
          },
          "metadata": {},
          "output_type": "display_data"
        },
        {
          "data": {
            "text/html": [
              "<pre style=\"white-space:pre;overflow-x:auto;line-height:normal;font-family:Menlo,'DejaVu Sans Mono',consolas,'Courier New',monospace\">Eval num_timesteps=445000, episode_reward=-123.11 +/- 41.54\n",
              "</pre>\n"
            ],
            "text/plain": [
              "Eval num_timesteps=445000, episode_reward=-123.11 +/- 41.54\n"
            ]
          },
          "metadata": {},
          "output_type": "display_data"
        },
        {
          "data": {
            "text/html": [
              "<pre style=\"white-space:pre;overflow-x:auto;line-height:normal;font-family:Menlo,'DejaVu Sans Mono',consolas,'Courier New',monospace\">Episode length: 453.10 +/- 316.82\n",
              "</pre>\n"
            ],
            "text/plain": [
              "Episode length: 453.10 +/- 316.82\n"
            ]
          },
          "metadata": {},
          "output_type": "display_data"
        },
        {
          "data": {
            "text/html": [
              "<pre style=\"white-space:pre;overflow-x:auto;line-height:normal;font-family:Menlo,'DejaVu Sans Mono',consolas,'Courier New',monospace\">Eval num_timesteps=450000, episode_reward=-110.30 +/- 46.39\n",
              "</pre>\n"
            ],
            "text/plain": [
              "Eval num_timesteps=450000, episode_reward=-110.30 +/- 46.39\n"
            ]
          },
          "metadata": {},
          "output_type": "display_data"
        },
        {
          "data": {
            "text/html": [
              "<pre style=\"white-space:pre;overflow-x:auto;line-height:normal;font-family:Menlo,'DejaVu Sans Mono',consolas,'Courier New',monospace\">Episode length: 533.32 +/- 351.54\n",
              "</pre>\n"
            ],
            "text/plain": [
              "Episode length: 533.32 +/- 351.54\n"
            ]
          },
          "metadata": {},
          "output_type": "display_data"
        },
        {
          "data": {
            "text/html": [
              "<pre style=\"white-space:pre;overflow-x:auto;line-height:normal;font-family:Menlo,'DejaVu Sans Mono',consolas,'Courier New',monospace\">Eval num_timesteps=455000, episode_reward=-132.94 +/- 32.16\n",
              "</pre>\n"
            ],
            "text/plain": [
              "Eval num_timesteps=455000, episode_reward=-132.94 +/- 32.16\n"
            ]
          },
          "metadata": {},
          "output_type": "display_data"
        },
        {
          "data": {
            "text/html": [
              "<pre style=\"white-space:pre;overflow-x:auto;line-height:normal;font-family:Menlo,'DejaVu Sans Mono',consolas,'Courier New',monospace\">Episode length: 373.58 +/- 269.30\n",
              "</pre>\n"
            ],
            "text/plain": [
              "Episode length: 373.58 +/- 269.30\n"
            ]
          },
          "metadata": {},
          "output_type": "display_data"
        },
        {
          "data": {
            "text/html": [
              "<pre style=\"white-space:pre;overflow-x:auto;line-height:normal;font-family:Menlo,'DejaVu Sans Mono',consolas,'Courier New',monospace\">Eval num_timesteps=460000, episode_reward=-124.28 +/- 44.59\n",
              "</pre>\n"
            ],
            "text/plain": [
              "Eval num_timesteps=460000, episode_reward=-124.28 +/- 44.59\n"
            ]
          },
          "metadata": {},
          "output_type": "display_data"
        },
        {
          "data": {
            "text/html": [
              "<pre style=\"white-space:pre;overflow-x:auto;line-height:normal;font-family:Menlo,'DejaVu Sans Mono',consolas,'Courier New',monospace\">Episode length: 464.52 +/- 339.79\n",
              "</pre>\n"
            ],
            "text/plain": [
              "Episode length: 464.52 +/- 339.79\n"
            ]
          },
          "metadata": {},
          "output_type": "display_data"
        },
        {
          "data": {
            "text/html": [
              "<pre style=\"white-space:pre;overflow-x:auto;line-height:normal;font-family:Menlo,'DejaVu Sans Mono',consolas,'Courier New',monospace\">Eval num_timesteps=465000, episode_reward=-110.15 +/- 61.65\n",
              "</pre>\n"
            ],
            "text/plain": [
              "Eval num_timesteps=465000, episode_reward=-110.15 +/- 61.65\n"
            ]
          },
          "metadata": {},
          "output_type": "display_data"
        },
        {
          "data": {
            "text/html": [
              "<pre style=\"white-space:pre;overflow-x:auto;line-height:normal;font-family:Menlo,'DejaVu Sans Mono',consolas,'Courier New',monospace\">Episode length: 542.62 +/- 369.20\n",
              "</pre>\n"
            ],
            "text/plain": [
              "Episode length: 542.62 +/- 369.20\n"
            ]
          },
          "metadata": {},
          "output_type": "display_data"
        },
        {
          "data": {
            "text/html": [
              "<pre style=\"white-space:pre;overflow-x:auto;line-height:normal;font-family:Menlo,'DejaVu Sans Mono',consolas,'Courier New',monospace\">Eval num_timesteps=470000, episode_reward=-103.30 +/- 59.30\n",
              "</pre>\n"
            ],
            "text/plain": [
              "Eval num_timesteps=470000, episode_reward=-103.30 +/- 59.30\n"
            ]
          },
          "metadata": {},
          "output_type": "display_data"
        },
        {
          "data": {
            "text/html": [
              "<pre style=\"white-space:pre;overflow-x:auto;line-height:normal;font-family:Menlo,'DejaVu Sans Mono',consolas,'Courier New',monospace\">Episode length: 561.00 +/- 360.92\n",
              "</pre>\n"
            ],
            "text/plain": [
              "Episode length: 561.00 +/- 360.92\n"
            ]
          },
          "metadata": {},
          "output_type": "display_data"
        },
        {
          "data": {
            "text/html": [
              "<pre style=\"white-space:pre;overflow-x:auto;line-height:normal;font-family:Menlo,'DejaVu Sans Mono',consolas,'Courier New',monospace\">Eval num_timesteps=475000, episode_reward=-96.44 +/- 78.87\n",
              "</pre>\n"
            ],
            "text/plain": [
              "Eval num_timesteps=475000, episode_reward=-96.44 +/- 78.87\n"
            ]
          },
          "metadata": {},
          "output_type": "display_data"
        },
        {
          "data": {
            "text/html": [
              "<pre style=\"white-space:pre;overflow-x:auto;line-height:normal;font-family:Menlo,'DejaVu Sans Mono',consolas,'Courier New',monospace\">Episode length: 419.28 +/- 291.49\n",
              "</pre>\n"
            ],
            "text/plain": [
              "Episode length: 419.28 +/- 291.49\n"
            ]
          },
          "metadata": {},
          "output_type": "display_data"
        },
        {
          "data": {
            "text/html": [
              "<pre style=\"white-space:pre;overflow-x:auto;line-height:normal;font-family:Menlo,'DejaVu Sans Mono',consolas,'Courier New',monospace\">Eval num_timesteps=480000, episode_reward=-88.85 +/- 85.43\n",
              "</pre>\n"
            ],
            "text/plain": [
              "Eval num_timesteps=480000, episode_reward=-88.85 +/- 85.43\n"
            ]
          },
          "metadata": {},
          "output_type": "display_data"
        },
        {
          "data": {
            "text/html": [
              "<pre style=\"white-space:pre;overflow-x:auto;line-height:normal;font-family:Menlo,'DejaVu Sans Mono',consolas,'Courier New',monospace\">Episode length: 475.68 +/- 332.20\n",
              "</pre>\n"
            ],
            "text/plain": [
              "Episode length: 475.68 +/- 332.20\n"
            ]
          },
          "metadata": {},
          "output_type": "display_data"
        },
        {
          "data": {
            "text/html": [
              "<pre style=\"white-space:pre;overflow-x:auto;line-height:normal;font-family:Menlo,'DejaVu Sans Mono',consolas,'Courier New',monospace\">Eval num_timesteps=485000, episode_reward=-110.63 +/- 46.05\n",
              "</pre>\n"
            ],
            "text/plain": [
              "Eval num_timesteps=485000, episode_reward=-110.63 +/- 46.05\n"
            ]
          },
          "metadata": {},
          "output_type": "display_data"
        },
        {
          "data": {
            "text/html": [
              "<pre style=\"white-space:pre;overflow-x:auto;line-height:normal;font-family:Menlo,'DejaVu Sans Mono',consolas,'Courier New',monospace\">Episode length: 425.36 +/- 295.96\n",
              "</pre>\n"
            ],
            "text/plain": [
              "Episode length: 425.36 +/- 295.96\n"
            ]
          },
          "metadata": {},
          "output_type": "display_data"
        },
        {
          "data": {
            "text/html": [
              "<pre style=\"white-space:pre;overflow-x:auto;line-height:normal;font-family:Menlo,'DejaVu Sans Mono',consolas,'Courier New',monospace\">Eval num_timesteps=490000, episode_reward=-106.89 +/- 91.69\n",
              "</pre>\n"
            ],
            "text/plain": [
              "Eval num_timesteps=490000, episode_reward=-106.89 +/- 91.69\n"
            ]
          },
          "metadata": {},
          "output_type": "display_data"
        },
        {
          "data": {
            "text/html": [
              "<pre style=\"white-space:pre;overflow-x:auto;line-height:normal;font-family:Menlo,'DejaVu Sans Mono',consolas,'Courier New',monospace\">Episode length: 478.10 +/- 327.56\n",
              "</pre>\n"
            ],
            "text/plain": [
              "Episode length: 478.10 +/- 327.56\n"
            ]
          },
          "metadata": {},
          "output_type": "display_data"
        },
        {
          "data": {
            "text/html": [
              "<pre style=\"white-space:pre;overflow-x:auto;line-height:normal;font-family:Menlo,'DejaVu Sans Mono',consolas,'Courier New',monospace\">Eval num_timesteps=495000, episode_reward=-129.48 +/- 43.59\n",
              "</pre>\n"
            ],
            "text/plain": [
              "Eval num_timesteps=495000, episode_reward=-129.48 +/- 43.59\n"
            ]
          },
          "metadata": {},
          "output_type": "display_data"
        },
        {
          "data": {
            "text/html": [
              "<pre style=\"white-space:pre;overflow-x:auto;line-height:normal;font-family:Menlo,'DejaVu Sans Mono',consolas,'Courier New',monospace\">Episode length: 442.44 +/- 307.30\n",
              "</pre>\n"
            ],
            "text/plain": [
              "Episode length: 442.44 +/- 307.30\n"
            ]
          },
          "metadata": {},
          "output_type": "display_data"
        },
        {
          "data": {
            "text/html": [
              "<pre style=\"white-space:pre;overflow-x:auto;line-height:normal;font-family:Menlo,'DejaVu Sans Mono',consolas,'Courier New',monospace\">Eval num_timesteps=500000, episode_reward=-130.89 +/- 53.68\n",
              "</pre>\n"
            ],
            "text/plain": [
              "Eval num_timesteps=500000, episode_reward=-130.89 +/- 53.68\n"
            ]
          },
          "metadata": {},
          "output_type": "display_data"
        },
        {
          "data": {
            "text/html": [
              "<pre style=\"white-space:pre;overflow-x:auto;line-height:normal;font-family:Menlo,'DejaVu Sans Mono',consolas,'Courier New',monospace\">Episode length: 392.64 +/- 262.90\n",
              "</pre>\n"
            ],
            "text/plain": [
              "Episode length: 392.64 +/- 262.90\n"
            ]
          },
          "metadata": {},
          "output_type": "display_data"
        },
        {
          "data": {
            "text/html": [
              "<pre style=\"white-space:pre;overflow-x:auto;line-height:normal;font-family:Menlo,'DejaVu Sans Mono',consolas,'Courier New',monospace\"></pre>\n"
            ],
            "text/plain": []
          },
          "metadata": {},
          "output_type": "display_data"
        },
        {
          "data": {
            "text/plain": [
              "<stable_baselines3.ppo.ppo.PPO at 0x74dbe51846e0>"
            ]
          },
          "execution_count": 5,
          "metadata": {},
          "output_type": "execute_result"
        }
      ],
      "source": [
        "# Train model on the environment\n",
        "TRAINING_TIMESTEPS = 500_000\n",
        "model.learn(\n",
        "    total_timesteps=TRAINING_TIMESTEPS, callback=[eval_callback, ProgressBarCallback()]\n",
        ")"
      ]
    },
    {
      "cell_type": "code",
      "execution_count": 8,
      "metadata": {},
      "outputs": [
        {
          "name": "stdout",
          "output_type": "stream",
          "text": [
            "Mean reward: -120.72775334262737 +/- 48.58059612504707\n"
          ]
        }
      ],
      "source": [
        "mean_reward, std_reward = evaluate_policy(model, env, n_eval_episodes=50)\n",
        "print(f\"Mean reward: {mean_reward} +/- {std_reward}\")"
      ]
    },
    {
      "cell_type": "code",
      "execution_count": 6,
      "metadata": {
        "colab": {
          "base_uri": "https://localhost:8080/",
          "height": 211
        },
        "id": "6bSCsyCOYbVW",
        "outputId": "ee81a478-36d3-4245-8d0d-058e6e0a4693"
      },
      "outputs": [
        {
          "name": "stdout",
          "output_type": "stream",
          "text": [
            "Episode finished after 1000 steps (truncated)\n",
            "Final Step: 1000\n",
            "Number of Frames: 1000\n"
          ]
        }
      ],
      "source": [
        "MAX_STEPS = 1_000\n",
        "\n",
        "observation, info = env.reset(seed=42)\n",
        "frames = []\n",
        "step_count = 0\n",
        "\n",
        "# for step in range(MAX_STEPS):\n",
        "while True:\n",
        "    frame = env.render()\n",
        "    frames.append(frame)\n",
        "\n",
        "    action, _ = model.predict(observation, deterministic=True)\n",
        "    observation, reward, terminated, truncated, info = env.step(action)\n",
        "    step_count += 1\n",
        "\n",
        "    if terminated or truncated:\n",
        "        print(\n",
        "            f\"Episode finished after {step_count} steps ({\"truncated\" if truncated else \"terminated\"})\"\n",
        "        )\n",
        "        break\n",
        "\n",
        "env.close()\n",
        "\n",
        "print(f\"Final Step: {step_count}\")\n",
        "print(f\"Number of Frames: {len(frames)}\")"
      ]
    },
    {
      "cell_type": "code",
      "execution_count": 7,
      "metadata": {
        "id": "SAvZXQ3UKiF8"
      },
      "outputs": [
        {
          "name": "stdout",
          "output_type": "stream",
          "text": [
            "Video guardado como ../videos/lunarlander_ppo.mp4\n"
          ]
        },
        {
          "name": "stderr",
          "output_type": "stream",
          "text": [
            "rm: cannot remove '../videos/lunarlander_ppo_compressed.mp4': No such file or directory\n",
            "ffmpeg version n7.1 Copyright (c) 2000-2024 the FFmpeg developers\n",
            "  built with gcc 14.2.1 (GCC) 20250207\n",
            "  configuration: --prefix=/usr --disable-debug --disable-static --disable-stripping --enable-amf --enable-avisynth --enable-cuda-llvm --enable-lto --enable-fontconfig --enable-frei0r --enable-gmp --enable-gnutls --enable-gpl --enable-ladspa --enable-libaom --enable-libass --enable-libbluray --enable-libbs2b --enable-libdav1d --enable-libdrm --enable-libdvdnav --enable-libdvdread --enable-libfreetype --enable-libfribidi --enable-libglslang --enable-libgsm --enable-libharfbuzz --enable-libiec61883 --enable-libjack --enable-libjxl --enable-libmodplug --enable-libmp3lame --enable-libopencore_amrnb --enable-libopencore_amrwb --enable-libopenjpeg --enable-libopenmpt --enable-libopus --enable-libplacebo --enable-libpulse --enable-librav1e --enable-librsvg --enable-librubberband --enable-libsnappy --enable-libsoxr --enable-libspeex --enable-libsrt --enable-libssh --enable-libsvtav1 --enable-libtheora --enable-libv4l2 --enable-libvidstab --enable-libvmaf --enable-libvorbis --enable-libvpl --enable-libvpx --enable-libwebp --enable-libx264 --enable-libx265 --enable-libxcb --enable-libxml2 --enable-libxvid --enable-libzimg --enable-libzmq --enable-nvdec --enable-nvenc --enable-opencl --enable-opengl --enable-shared --enable-vapoursynth --enable-version3 --enable-vulkan\n",
            "  libavutil      59. 39.100 / 59. 39.100\n",
            "  libavcodec     61. 19.100 / 61. 19.100\n",
            "  libavformat    61.  7.100 / 61.  7.100\n",
            "  libavdevice    61.  3.100 / 61.  3.100\n",
            "  libavfilter    10.  4.100 / 10.  4.100\n",
            "  libswscale      8.  3.100 /  8.  3.100\n",
            "  libswresample   5.  3.100 /  5.  3.100\n",
            "  libpostproc    58.  3.100 / 58.  3.100\n",
            "Input #0, mov,mp4,m4a,3gp,3g2,mj2, from '../videos/lunarlander_ppo.mp4':\n",
            "  Metadata:\n",
            "    major_brand     : isom\n",
            "    minor_version   : 512\n",
            "    compatible_brands: isomiso2mp41\n",
            "    encoder         : Lavf59.27.100\n",
            "  Duration: 00:00:33.33, start: 0.000000, bitrate: 334 kb/s\n",
            "  Stream #0:0[0x1](und): Video: mpeg4 (Simple Profile) (mp4v / 0x7634706D), yuv420p, 600x400 [SAR 1:1 DAR 3:2], 333 kb/s, 30 fps, 30 tbr, 15360 tbn (default)\n",
            "      Metadata:\n",
            "        handler_name    : VideoHandler\n",
            "        vendor_id       : [0][0][0][0]\n",
            "Stream mapping:\n",
            "  Stream #0:0 -> #0:0 (mpeg4 (native) -> h264 (libx264))\n",
            "Press [q] to stop, [?] for help\n",
            "[libx264 @ 0x5e7b000b7c00] using SAR=1/1\n",
            "[libx264 @ 0x5e7b000b7c00] using cpu capabilities: MMX2 SSE2Fast SSSE3 SSE4.2 AVX FMA3 BMI2 AVX2\n",
            "[libx264 @ 0x5e7b000b7c00] profile High, level 3.0, 4:2:0, 8-bit\n",
            "[libx264 @ 0x5e7b000b7c00] 264 - core 164 r3108 31e19f9 - H.264/MPEG-4 AVC codec - Copyleft 2003-2023 - http://www.videolan.org/x264.html - options: cabac=1 ref=3 deblock=1:0:0 analyse=0x3:0x113 me=hex subme=7 psy=1 psy_rd=1.00:0.00 mixed_ref=1 me_range=16 chroma_me=1 trellis=1 8x8dct=1 cqm=0 deadzone=21,11 fast_pskip=1 chroma_qp_offset=-2 threads=12 lookahead_threads=2 sliced_threads=0 nr=0 decimate=1 interlaced=0 bluray_compat=0 constrained_intra=0 bframes=3 b_pyramid=2 b_adapt=1 b_bias=0 direct=1 weightb=1 open_gop=0 weightp=2 keyint=250 keyint_min=25 scenecut=40 intra_refresh=0 rc_lookahead=40 rc=crf mbtree=1 crf=23.0 qcomp=0.60 qpmin=0 qpmax=69 qpstep=4 ip_ratio=1.40 aq=1:1.00\n",
            "Output #0, mp4, to '../videos/lunarlander_ppo_compressed.mp4':\n",
            "  Metadata:\n",
            "    major_brand     : isom\n",
            "    minor_version   : 512\n",
            "    compatible_brands: isomiso2mp41\n",
            "    encoder         : Lavf61.7.100\n",
            "  Stream #0:0(und): Video: h264 (avc1 / 0x31637661), yuv420p(tv, progressive), 600x400 [SAR 1:1 DAR 3:2], q=2-31, 30 fps, 15360 tbn (default)\n",
            "      Metadata:\n",
            "        handler_name    : VideoHandler\n",
            "        vendor_id       : [0][0][0][0]\n",
            "        encoder         : Lavc61.19.100 libx264\n",
            "      Side data:\n",
            "        cpb: bitrate max/min/avg: 0/0/0 buffer size: 0 vbv_delay: N/A\n",
            "[out#0/mp4 @ 0x5e7b000cbf40] video:194KiB audio:0KiB subtitle:0KiB other streams:0KiB global headers:0KiB muxing overhead: 6.470559%\n",
            "frame= 1000 fps=0.0 q=-1.0 Lsize=     206KiB time=00:00:33.26 bitrate=  50.7kbits/s speed= 103x    \n",
            "[libx264 @ 0x5e7b000b7c00] frame I:4     Avg QP: 8.50  size:  2466\n",
            "[libx264 @ 0x5e7b000b7c00] frame P:258   Avg QP:18.68  size:   297\n",
            "[libx264 @ 0x5e7b000b7c00] frame B:738   Avg QP:22.66  size:   151\n",
            "[libx264 @ 0x5e7b000b7c00] consecutive B-frames:  0.8%  1.8%  1.8% 95.6%\n",
            "[libx264 @ 0x5e7b000b7c00] mb I  I16..4: 82.7% 11.2%  6.1%\n",
            "[libx264 @ 0x5e7b000b7c00] mb P  I16..4:  0.3%  0.7%  0.2%  P16..4:  1.6%  0.5%  0.2%  0.0%  0.0%    skip:96.6%\n",
            "[libx264 @ 0x5e7b000b7c00] mb B  I16..4:  0.1%  0.1%  0.1%  B16..8:  2.9%  0.3%  0.0%  direct: 0.1%  skip:96.4%  L0:55.8% L1:42.8% BI: 1.4%\n",
            "[libx264 @ 0x5e7b000b7c00] 8x8 transform intra:33.2% inter:20.5%\n",
            "[libx264 @ 0x5e7b000b7c00] coded y,uvDC,uvAC intra: 8.9% 22.1% 19.3% inter: 0.2% 0.4% 0.3%\n",
            "[libx264 @ 0x5e7b000b7c00] i16 v,h,dc,p: 83% 12%  5%  0%\n",
            "[libx264 @ 0x5e7b000b7c00] i8 v,h,dc,ddl,ddr,vr,hd,vl,hu: 10% 11% 78%  0%  0%  0%  0%  0%  0%\n",
            "[libx264 @ 0x5e7b000b7c00] i4 v,h,dc,ddl,ddr,vr,hd,vl,hu: 15% 15% 60%  2%  2%  1%  2%  1%  1%\n",
            "[libx264 @ 0x5e7b000b7c00] i8c dc,h,v,p: 80% 14%  7%  0%\n",
            "[libx264 @ 0x5e7b000b7c00] Weighted P-Frames: Y:0.0% UV:0.0%\n",
            "[libx264 @ 0x5e7b000b7c00] ref P L0: 58.6%  1.8% 22.0% 17.7%\n",
            "[libx264 @ 0x5e7b000b7c00] ref B L0: 66.7% 28.8%  4.5%\n",
            "[libx264 @ 0x5e7b000b7c00] ref B L1: 91.4%  8.6%\n",
            "[libx264 @ 0x5e7b000b7c00] kb/s:47.40\n"
          ]
        },
        {
          "data": {
            "text/html": [
              "\n",
              "<video width=800 controls>\n",
              "      <source src=\"data:video/mp4;base64,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\" type=\"video/mp4\">\n",
              "</video>"
            ],
            "text/plain": [
              "<IPython.core.display.HTML object>"
            ]
          },
          "execution_count": 7,
          "metadata": {},
          "output_type": "execute_result"
        }
      ],
      "source": [
        "from IPython.display import HTML\n",
        "from base64 import b64encode\n",
        "import os\n",
        "\n",
        "# Create a video from the frames\n",
        "video_filename = \"../videos/lunarlander_ppo.mp4\"\n",
        "compressed_path = \"../videos/lunarlander_ppo_compressed.mp4\"\n",
        "height, width, _ = frames[0].shape\n",
        "\n",
        "fourcc = cv2.VideoWriter_fourcc(*\"mp4v\")\n",
        "video = cv2.VideoWriter(video_filename, fourcc, 30.0, (width, height))\n",
        "\n",
        "for frame in frames:\n",
        "    video.write(cv2.cvtColor(frame, cv2.COLOR_RGB2BGR))\n",
        "video.release()\n",
        "\n",
        "print(f\"Video guardado como {video_filename}\")\n",
        "\n",
        "os.system(f\"rm {compressed_path}\")\n",
        "# Compressed video path\n",
        "os.system(f\"ffmpeg -i {video_filename} -vcodec libx264 {compressed_path}\")\n",
        "os.system(f\"rm {video_filename}\")\n",
        "os.system(f\"mv {compressed_path} {video_filename}\")\n",
        "\n",
        "# Show video\n",
        "mp4 = open(video_filename, \"rb\").read()\n",
        "data_url = \"data:video/mp4;base64,\" + b64encode(mp4).decode()\n",
        "HTML(\n",
        "    \"\"\"\n",
        "<video width=800 controls>\n",
        "      <source src=\"%s\" type=\"video/mp4\">\n",
        "</video>\"\"\"\n",
        "    % data_url\n",
        ")"
      ]
    }
  ],
  "metadata": {
    "accelerator": "GPU",
    "colab": {
      "gpuType": "T4",
      "provenance": []
    },
    "kernelspec": {
      "display_name": "deep-reinforcement-learning-gymnasium-u3px5S1O-py3.13",
      "language": "python",
      "name": "python3"
    },
    "language_info": {
      "codemirror_mode": {
        "name": "ipython",
        "version": 3
      },
      "file_extension": ".py",
      "mimetype": "text/x-python",
      "name": "python",
      "nbconvert_exporter": "python",
      "pygments_lexer": "ipython3",
      "version": "3.13.3"
    }
  },
  "nbformat": 4,
  "nbformat_minor": 0
}
