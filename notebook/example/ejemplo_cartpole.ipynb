{
  "nbformat": 4,
  "nbformat_minor": 0,
  "metadata": {
    "colab": {
      "provenance": []
    },
    "kernelspec": {
      "name": "python3",
      "display_name": "Python 3"
    },
    "language_info": {
      "name": "python"
    }
  },
  "cells": [
    {
      "cell_type": "markdown",
      "source": [
        "Instalamos la librería Gymnasium"
      ],
      "metadata": {
        "id": "mi7-aFkcclSr"
      }
    },
    {
      "cell_type": "code",
      "execution_count": null,
      "metadata": {
        "id": "Z-ZPE-jPadmm"
      },
      "outputs": [],
      "source": [
        "!pip install gymnasium"
      ]
    },
    {
      "cell_type": "markdown",
      "source": [
        "Utilizamos la librería haciendo acciones aleatorias"
      ],
      "metadata": {
        "id": "fy4dHssCcoM2"
      }
    },
    {
      "cell_type": "code",
      "source": [
        "import gymnasium as gym\n",
        "\n",
        "# Inicializar el entorno\n",
        "env = gym.make(\"CartPole-v1\", render_mode=\"rgb_array\")\n",
        "\n",
        "frames = []\n",
        "\n",
        "# Reset del entorno para generar la primera observacion\n",
        "# con la distribucion de starting state\n",
        "observation, info = env.reset(seed=42)\n",
        "for _ in range(1000):\n",
        "\n",
        "    img = env.render()\n",
        "\n",
        "    # Devuelve una accion aleatoria\n",
        "    action = env.action_space.sample()\n",
        "\n",
        "    # Ejecuta un paso en el entorno con la accion que hemos generado\n",
        "    # Recibo el siguiente estado, el reward, y si el episodio ha sido\n",
        "    # terminado/truncado , junto con informacion adicional (dependiente de entorno)\n",
        "    observation, reward, terminated, truncated, info = env.step(action)\n",
        "\n",
        "    # Capturar el cuadro actual del entorno\n",
        "    frame = env.render()  # Esto devuelve la imagen en formato RGB\n",
        "    frames.append(frame)   # Guardar el cuadro en la lista de cuadros\n",
        "\n",
        "    # Si el episodio ha sido terminado o truncado, podemos resetear para empezar un nuevo episodio\n",
        "    if terminated or truncated:\n",
        "        observation, info = env.reset()\n",
        "\n",
        "env.close()"
      ],
      "metadata": {
        "id": "zr2GgDVoat52"
      },
      "execution_count": null,
      "outputs": []
    },
    {
      "cell_type": "markdown",
      "source": [
        "Guardamos el vídeo para verlo"
      ],
      "metadata": {
        "id": "0jbyXIB7c2Kq"
      }
    },
    {
      "cell_type": "code",
      "source": [
        "import cv2\n",
        "\n",
        "# Definir el nombre del archivo de video y los parámetros de salida\n",
        "video_filename = \"cartpole_random_policy.mp4\"\n",
        "height, width, _ = frames[0].shape  # Obtener dimensiones de los cuadros\n",
        "\n",
        "# Definir el codec y crear el objeto VideoWriter\n",
        "fourcc = cv2.VideoWriter_fourcc(*'mp4v')\n",
        "video = cv2.VideoWriter(video_filename, fourcc, 30.0, (width, height))\n",
        "\n",
        "# Escribir cada cuadro en el video\n",
        "for frame in frames:\n",
        "    video.write(cv2.cvtColor(frame, cv2.COLOR_RGB2BGR))  # Convertir de RGB a BGR para OpenCV\n",
        "\n",
        "# Liberar el objeto VideoWriter\n",
        "video.release()\n",
        "\n",
        "print(f\"Video guardado como {video_filename}\")"
      ],
      "metadata": {
        "id": "8Rj_3PHgc295"
      },
      "execution_count": null,
      "outputs": []
    },
    {
      "cell_type": "markdown",
      "source": [
        "Visualizamos el vídeo"
      ],
      "metadata": {
        "id": "bL6y8e79HJt-"
      }
    },
    {
      "cell_type": "code",
      "source": [
        "from IPython.display import HTML\n",
        "from base64 import b64encode\n",
        "import os\n",
        "\n",
        "# Input video path\n",
        "save_path = \"cartpole_random_policy.mp4\"\n",
        "\n",
        "# Compressed video path\n",
        "compressed_path = \"result_compressed.mp4\"\n",
        "\n",
        "os.system(f\"ffmpeg -i {save_path} -vcodec libx264 {compressed_path}\")\n",
        "# Show video\n",
        "mp4 = open(compressed_path,'rb').read()\n",
        "data_url = \"data:video/mp4;base64,\" + b64encode(mp4).decode()\n",
        "HTML(\"\"\"\n",
        "<video width=800 controls>\n",
        "      <source src=\"%s\" type=\"video/mp4\">\n",
        "</video>\"\"\" % data_url)\n"
      ],
      "metadata": {
        "id": "t3Pf2AqcHK0N"
      },
      "execution_count": null,
      "outputs": []
    }
  ]
}