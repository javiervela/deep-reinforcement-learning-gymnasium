{
  "nbformat": 4,
  "nbformat_minor": 0,
  "metadata": {
    "colab": {
      "provenance": [],
      "gpuType": "T4"
    },
    "kernelspec": {
      "name": "python3",
      "display_name": "Python 3"
    },
    "language_info": {
      "name": "python"
    },
    "accelerator": "GPU"
  },
  "cells": [
    {
      "cell_type": "code",
      "source": [
        "!pip install gymnasium stable_baselines3"
      ],
      "metadata": {
        "id": "0L0AoFnulhuI"
      },
      "execution_count": null,
      "outputs": []
    },
    {
      "cell_type": "markdown",
      "source": [
        "Entrenamiento de la política con SB3. Al activar el flag de verbose, observamos que SB3 nos ofrece estadísticas tales como reward total, número de pasos hasta cambiar de episodio, etcétera. Acordémonos que el CartPole se resetea automáticamente a los 500 episodios o bien si el péndulo se cae.\n",
        "\n"
      ],
      "metadata": {
        "id": "29yD0ZWPld_S"
      }
    },
    {
      "cell_type": "code",
      "execution_count": null,
      "metadata": {
        "id": "c8Y5sMbsh8pR"
      },
      "outputs": [],
      "source": [
        "import gymnasium as gym\n",
        "from stable_baselines3 import DQN\n",
        "import cv2\n",
        "\n",
        "# Crear el entorno\n",
        "env = gym.make(\"CartPole-v1\", render_mode=\"rgb_array\")\n",
        "\n",
        "# Entrenar el modelo DQN\n",
        "model = DQN(\"MlpPolicy\", env, verbose=1)\n",
        "model.learn(total_timesteps=100000)\n"
      ]
    },
    {
      "cell_type": "markdown",
      "source": [
        "Probamos la política en el entorno"
      ],
      "metadata": {
        "id": "4JFT8WwmnjOl"
      }
    },
    {
      "cell_type": "code",
      "source": [
        "# Listado de cuadros para guardar el video\n",
        "frames = []\n",
        "\n",
        "# Reset del entorno\n",
        "observation, info = env.reset(seed=42)\n",
        "\n",
        "for _ in range(1000):\n",
        "    # Capturar el cuadro actual del entorno\n",
        "    frame = env.render()\n",
        "    frames.append(frame)  # Guardar el cuadro en la lista de cuadros\n",
        "\n",
        "    # Generar la acción usando el modelo entrenado en lugar de una política aleatoria\n",
        "    action, _ = model.predict(observation, deterministic=True)\n",
        "\n",
        "    # Ejecutar un paso en el entorno con la acción predicha\n",
        "    observation, reward, terminated, truncated, info = env.step(action)\n",
        "\n",
        "    # Si el episodio ha sido terminado o truncado, reiniciar el entorno\n",
        "    if terminated or truncated:\n",
        "        observation, info = env.reset()\n",
        "\n",
        "# Cerrar el entorno\n",
        "env.close()"
      ],
      "metadata": {
        "id": "c0qhcBWXnko9"
      },
      "execution_count": null,
      "outputs": []
    },
    {
      "cell_type": "markdown",
      "source": [
        "Guardamos el vídeo"
      ],
      "metadata": {
        "id": "owFitetPnl0v"
      }
    },
    {
      "cell_type": "code",
      "source": [
        "# Crear el video a partir de los cuadros guardados\n",
        "video_filename = \"cartpole_dqn_policy.mp4\"\n",
        "height, width, _ = frames[0].shape  # Obtener dimensiones de los cuadros\n",
        "\n",
        "# Configuración de salida para formato MP4\n",
        "fourcc = cv2.VideoWriter_fourcc(*'mp4v')\n",
        "video = cv2.VideoWriter(video_filename, fourcc, 30.0, (width, height))\n",
        "\n",
        "# Escribir cada cuadro en el video\n",
        "for frame in frames:\n",
        "    video.write(cv2.cvtColor(frame, cv2.COLOR_RGB2BGR))  # Convertir de RGB a BGR para OpenCV\n",
        "\n",
        "# Liberar el objeto VideoWriter\n",
        "video.release()\n",
        "\n",
        "print(f\"Video guardado como {video_filename}\")\n"
      ],
      "metadata": {
        "id": "33PKaOUUnmpM"
      },
      "execution_count": null,
      "outputs": []
    },
    {
      "cell_type": "markdown",
      "source": [
        "Visualizamos el vídeo"
      ],
      "metadata": {
        "id": "_11nfx9xKgTA"
      }
    },
    {
      "cell_type": "code",
      "source": [
        "from IPython.display import HTML\n",
        "from base64 import b64encode\n",
        "import os\n",
        "\n",
        "# Input video path\n",
        "save_path = \"cartpole_dqn_policy.mp4\"\n",
        "\n",
        "# Compressed video path\n",
        "compressed_path = \"result_compressed.mp4\"\n",
        "\n",
        "os.system(f\"ffmpeg -i {save_path} -vcodec libx264 {compressed_path}\")\n",
        "# Show video\n",
        "mp4 = open(compressed_path,'rb').read()\n",
        "data_url = \"data:video/mp4;base64,\" + b64encode(mp4).decode()\n",
        "HTML(\"\"\"\n",
        "<video width=800 controls>\n",
        "      <source src=\"%s\" type=\"video/mp4\">\n",
        "</video>\"\"\" % data_url)"
      ],
      "metadata": {
        "id": "SAvZXQ3UKiF8"
      },
      "execution_count": null,
      "outputs": []
    },
    {
      "cell_type": "markdown",
      "source": [
        "¿Qué observas con respecto al CartPole aleatorio?"
      ],
      "metadata": {
        "id": "06QuW2pRrZ6q"
      }
    }
  ]
}