{
  "cells": [
    {
      "cell_type": "code",
      "execution_count": null,
      "metadata": {
        "id": "OBCPdFloZEXO"
      },
      "outputs": [],
      "source": [
        "import gymnasium as gym\n",
        "from stable_baselines3 import PPO\n",
        "from stable_baselines3.common.evaluation import evaluate_policy\n",
        "import optuna"
      ]
    },
    {
      "cell_type": "code",
      "execution_count": 11,
      "metadata": {},
      "outputs": [],
      "source": [
        "TIMESTEPS = 50000\n",
        "N_TRIALS = 100"
      ]
    },
    {
      "cell_type": "code",
      "execution_count": null,
      "metadata": {},
      "outputs": [],
      "source": [
        "def optimize(trial):\n",
        "    env = gym.make(\"LunarLander-v3\")\n",
        "    policy_kwargs = dict(\n",
        "        net_arch=dict(\n",
        "            pi=[trial.suggest_categorical(\"pi\", [64, 128, 256])],\n",
        "            vf=[trial.suggest_categorical(\"vf\", [64, 128, 256])],\n",
        "        )\n",
        "    )\n",
        "    model = PPO(\n",
        "        \"MlpPolicy\",\n",
        "        env,\n",
        "        learning_rate=trial.suggest_float(\"lr\", 1e-5, 1e-3, log=True),\n",
        "        n_steps=trial.suggest_categorical(\"n_steps\", [128, 256, 512]),\n",
        "        gamma=trial.suggest_float(\"gamma\", 0.95, 0.999),\n",
        "        policy_kwargs=policy_kwargs,\n",
        "        seed=42,\n",
        "        device=\"cpu\",\n",
        "        verbose=0,\n",
        "    )\n",
        "    model.learn(total_timesteps=TIMESTEPS)\n",
        "    mean_reward, _ = evaluate_policy(model, env, n_eval_episodes=5)\n",
        "    env.close()\n",
        "    return mean_reward"
      ]
    },
    {
      "cell_type": "code",
      "execution_count": null,
      "metadata": {},
      "outputs": [
        {
          "name": "stderr",
          "output_type": "stream",
          "text": [
            "[I 2025-05-23 19:42:19,771] A new study created in memory with name: no-name-9baa44b6-da03-4c8d-bc3b-3b925e1f7e28\n",
            "[I 2025-05-23 19:42:43,649] Trial 0 finished with value: -902.7352706920356 and parameters: {'pi': 64, 'vf': 256, 'lr': 1.2342785840828689e-05, 'n_steps': 128, 'gamma': 0.984813800930772}. Best is trial 0 with value: -902.7352706920356.\n",
            "[I 2025-05-23 19:43:06,957] Trial 1 finished with value: -831.3144875274971 and parameters: {'pi': 128, 'vf': 256, 'lr': 4.544979774470949e-05, 'n_steps': 256, 'gamma': 0.9920176653389603}. Best is trial 1 with value: -831.3144875274971.\n",
            "[I 2025-05-23 19:43:30,253] Trial 2 finished with value: -628.5406919717789 and parameters: {'pi': 256, 'vf': 64, 'lr': 1.2962525615979408e-05, 'n_steps': 256, 'gamma': 0.9510410132651619}. Best is trial 2 with value: -628.5406919717789.\n",
            "[I 2025-05-23 19:43:53,611] Trial 3 finished with value: -3855.710998980375 and parameters: {'pi': 128, 'vf': 256, 'lr': 9.752902862713016e-05, 'n_steps': 256, 'gamma': 0.9882168951303348}. Best is trial 2 with value: -628.5406919717789.\n",
            "[I 2025-05-23 19:44:09,429] Trial 4 finished with value: -651.2020728360861 and parameters: {'pi': 64, 'vf': 64, 'lr': 3.3009670757672904e-05, 'n_steps': 128, 'gamma': 0.973439648238578}. Best is trial 2 with value: -628.5406919717789.\n",
            "[I 2025-05-23 19:44:25,722] Trial 5 finished with value: -679.1825130658224 and parameters: {'pi': 128, 'vf': 128, 'lr': 3.7865866374650695e-05, 'n_steps': 256, 'gamma': 0.9836508010721636}. Best is trial 2 with value: -628.5406919717789.\n",
            "[I 2025-05-23 19:44:50,597] Trial 6 finished with value: -48.01736304889782 and parameters: {'pi': 64, 'vf': 256, 'lr': 0.0004918843053696804, 'n_steps': 256, 'gamma': 0.9803832329547236}. Best is trial 6 with value: -48.01736304889782.\n",
            "[I 2025-05-23 19:45:07,119] Trial 7 finished with value: -3495.113474166207 and parameters: {'pi': 64, 'vf': 64, 'lr': 0.00013697928679166712, 'n_steps': 256, 'gamma': 0.9829354431837769}. Best is trial 6 with value: -48.01736304889782.\n",
            "[I 2025-05-23 19:45:23,315] Trial 8 finished with value: -5317.17206361244 and parameters: {'pi': 64, 'vf': 64, 'lr': 0.0002052203608860218, 'n_steps': 128, 'gamma': 0.974447471945658}. Best is trial 6 with value: -48.01736304889782.\n",
            "[I 2025-05-23 19:45:46,668] Trial 9 finished with value: -518.2106632920215 and parameters: {'pi': 128, 'vf': 256, 'lr': 1.4288610440713553e-05, 'n_steps': 256, 'gamma': 0.9606806896629203}. Best is trial 6 with value: -48.01736304889782.\n",
            "[I 2025-05-23 19:46:10,667] Trial 10 finished with value: -93.55040762946301 and parameters: {'pi': 256, 'vf': 128, 'lr': 0.0009411297337937463, 'n_steps': 512, 'gamma': 0.9983309874331281}. Best is trial 6 with value: -48.01736304889782.\n",
            "[I 2025-05-23 19:46:34,572] Trial 11 finished with value: -112.70050018227194 and parameters: {'pi': 256, 'vf': 128, 'lr': 0.0009156855214962378, 'n_steps': 512, 'gamma': 0.9970995491026384}. Best is trial 6 with value: -48.01736304889782.\n",
            "[I 2025-05-23 19:46:57,946] Trial 12 finished with value: -160.4830183045764 and parameters: {'pi': 256, 'vf': 128, 'lr': 0.0009156277998184352, 'n_steps': 512, 'gamma': 0.9667313286413328}. Best is trial 6 with value: -48.01736304889782.\n",
            "[I 2025-05-23 19:47:21,310] Trial 13 finished with value: -238.33760186372092 and parameters: {'pi': 256, 'vf': 128, 'lr': 0.00041787636037440596, 'n_steps': 512, 'gamma': 0.9943062879088755}. Best is trial 6 with value: -48.01736304889782.\n",
            "[I 2025-05-23 19:47:44,647] Trial 14 finished with value: -502.5566087050829 and parameters: {'pi': 64, 'vf': 256, 'lr': 0.0004198539828640963, 'n_steps': 512, 'gamma': 0.9784244115127348}. Best is trial 6 with value: -48.01736304889782.\n",
            "[I 2025-05-23 19:48:08,198] Trial 15 finished with value: -1421.1187482858659 and parameters: {'pi': 256, 'vf': 128, 'lr': 0.0004283258538328213, 'n_steps': 512, 'gamma': 0.9664681038944519}. Best is trial 6 with value: -48.01736304889782.\n",
            "[I 2025-05-23 19:48:31,785] Trial 16 finished with value: -81.40455997651152 and parameters: {'pi': 256, 'vf': 128, 'lr': 0.0002812443692224723, 'n_steps': 512, 'gamma': 0.9989855591022453}. Best is trial 6 with value: -48.01736304889782.\n",
            "[I 2025-05-23 19:48:55,746] Trial 17 finished with value: -1538.3227663514203 and parameters: {'pi': 64, 'vf': 256, 'lr': 0.0002862708158675793, 'n_steps': 256, 'gamma': 0.9882886701364147}. Best is trial 6 with value: -48.01736304889782.\n",
            "[I 2025-05-23 19:49:19,452] Trial 18 finished with value: -3318.9649140105817 and parameters: {'pi': 256, 'vf': 256, 'lr': 8.746959673986054e-05, 'n_steps': 512, 'gamma': 0.9519474479755097}. Best is trial 6 with value: -48.01736304889782.\n",
            "[I 2025-05-23 19:49:35,962] Trial 19 finished with value: -305.9527077025734 and parameters: {'pi': 64, 'vf': 128, 'lr': 0.00020463381461494656, 'n_steps': 128, 'gamma': 0.9788009652071379}. Best is trial 6 with value: -48.01736304889782.\n",
            "[I 2025-05-23 19:49:59,528] Trial 20 finished with value: -157.7000254668761 and parameters: {'pi': 256, 'vf': 256, 'lr': 0.0005289915437654211, 'n_steps': 512, 'gamma': 0.9679683032783152}. Best is trial 6 with value: -48.01736304889782.\n",
            "[I 2025-05-23 19:50:22,625] Trial 21 finished with value: -231.30181654290647 and parameters: {'pi': 256, 'vf': 128, 'lr': 0.0006865711703253582, 'n_steps': 512, 'gamma': 0.9982263174902269}. Best is trial 6 with value: -48.01736304889782.\n",
            "[I 2025-05-23 19:50:46,230] Trial 22 finished with value: -343.0700358179398 and parameters: {'pi': 256, 'vf': 128, 'lr': 0.00028840123708955137, 'n_steps': 512, 'gamma': 0.9915926105824994}. Best is trial 6 with value: -48.01736304889782.\n",
            "[I 2025-05-23 19:51:09,753] Trial 23 finished with value: -210.2867165873031 and parameters: {'pi': 256, 'vf': 128, 'lr': 0.0005854739446084447, 'n_steps': 512, 'gamma': 0.9988867993945543}. Best is trial 6 with value: -48.01736304889782.\n",
            "[I 2025-05-23 19:51:33,550] Trial 24 finished with value: -131.12752336481645 and parameters: {'pi': 256, 'vf': 128, 'lr': 0.0009529731886450882, 'n_steps': 512, 'gamma': 0.9943394576161431}. Best is trial 6 with value: -48.01736304889782.\n",
            "[I 2025-05-23 19:51:50,447] Trial 25 finished with value: -425.6532402896788 and parameters: {'pi': 64, 'vf': 128, 'lr': 0.0002751378870270511, 'n_steps': 256, 'gamma': 0.989385930197873}. Best is trial 6 with value: -48.01736304889782.\n",
            "[I 2025-05-23 19:52:14,075] Trial 26 finished with value: -874.9866671454162 and parameters: {'pi': 256, 'vf': 128, 'lr': 0.0001593191731249336, 'n_steps': 512, 'gamma': 0.9579873912013668}. Best is trial 6 with value: -48.01736304889782.\n",
            "[I 2025-05-23 19:52:37,581] Trial 27 finished with value: -376.2192809029017 and parameters: {'pi': 256, 'vf': 128, 'lr': 0.0006788957372438723, 'n_steps': 512, 'gamma': 0.9954193292916761}. Best is trial 6 with value: -48.01736304889782.\n",
            "[I 2025-05-23 19:52:53,918] Trial 28 finished with value: -1133.9017406968167 and parameters: {'pi': 128, 'vf': 64, 'lr': 6.129342648958648e-05, 'n_steps': 128, 'gamma': 0.9793467658039028}. Best is trial 6 with value: -48.01736304889782.\n",
            "[I 2025-05-23 19:53:17,550] Trial 29 finished with value: -1107.7798015907406 and parameters: {'pi': 64, 'vf': 256, 'lr': 0.0003274634276300357, 'n_steps': 256, 'gamma': 0.9861231865968099}. Best is trial 6 with value: -48.01736304889782.\n",
            "[I 2025-05-23 19:53:42,061] Trial 30 finished with value: -921.0309794879286 and parameters: {'pi': 64, 'vf': 256, 'lr': 0.00020437240818912863, 'n_steps': 128, 'gamma': 0.9705485271623069}. Best is trial 6 with value: -48.01736304889782.\n",
            "[I 2025-05-23 19:54:05,639] Trial 31 finished with value: -80.31669415473007 and parameters: {'pi': 256, 'vf': 128, 'lr': 0.0009600363930765346, 'n_steps': 512, 'gamma': 0.9967801130006414}. Best is trial 6 with value: -48.01736304889782.\n",
            "[I 2025-05-23 19:54:29,012] Trial 32 finished with value: -123.38837136316579 and parameters: {'pi': 256, 'vf': 128, 'lr': 0.0007359589890874241, 'n_steps': 512, 'gamma': 0.9923269657093166}. Best is trial 6 with value: -48.01736304889782.\n",
            "[I 2025-05-23 19:54:52,997] Trial 33 finished with value: -71.8503274989525 and parameters: {'pi': 256, 'vf': 128, 'lr': 0.0005178278399618464, 'n_steps': 512, 'gamma': 0.9915270159641415}. Best is trial 6 with value: -48.01736304889782.\n",
            "[I 2025-05-23 19:55:16,904] Trial 34 finished with value: -136.2420629586035 and parameters: {'pi': 256, 'vf': 128, 'lr': 0.00048770624521770993, 'n_steps': 512, 'gamma': 0.991193920008054}. Best is trial 6 with value: -48.01736304889782.\n",
            "[I 2025-05-23 19:55:40,671] Trial 35 finished with value: -216.73199015443097 and parameters: {'pi': 128, 'vf': 256, 'lr': 0.0003463481110554326, 'n_steps': 256, 'gamma': 0.9858150415566679}. Best is trial 6 with value: -48.01736304889782.\n",
            "[I 2025-05-23 19:56:04,702] Trial 36 finished with value: -308.6388661161065 and parameters: {'pi': 256, 'vf': 128, 'lr': 0.00069108888977381, 'n_steps': 256, 'gamma': 0.9946459117540294}. Best is trial 6 with value: -48.01736304889782.\n",
            "[I 2025-05-23 19:56:27,803] Trial 37 finished with value: -633.2408434764482 and parameters: {'pi': 256, 'vf': 64, 'lr': 0.00013113051643722033, 'n_steps': 512, 'gamma': 0.981105262165196}. Best is trial 6 with value: -48.01736304889782.\n",
            "[I 2025-05-23 19:56:44,761] Trial 38 finished with value: -686.9659536919847 and parameters: {'pi': 64, 'vf': 128, 'lr': 0.0003652080973952081, 'n_steps': 256, 'gamma': 0.9895962004369493}. Best is trial 6 with value: -48.01736304889782.\n",
            "[I 2025-05-23 19:57:01,249] Trial 39 finished with value: -98.9260183528415 and parameters: {'pi': 128, 'vf': 64, 'lr': 0.0005439781755334261, 'n_steps': 128, 'gamma': 0.9866069156605226}. Best is trial 6 with value: -48.01736304889782.\n",
            "[I 2025-05-23 19:57:24,606] Trial 40 finished with value: -1079.0218216840178 and parameters: {'pi': 256, 'vf': 256, 'lr': 1.8909384466495967e-05, 'n_steps': 512, 'gamma': 0.9833556136036239}. Best is trial 6 with value: -48.01736304889782.\n",
            "[I 2025-05-23 19:57:48,263] Trial 41 finished with value: -127.92182103330269 and parameters: {'pi': 256, 'vf': 128, 'lr': 0.0008161651614800265, 'n_steps': 512, 'gamma': 0.9965310890643679}. Best is trial 6 with value: -48.01736304889782.\n",
            "[I 2025-05-23 19:58:12,154] Trial 42 finished with value: -143.02957677305676 and parameters: {'pi': 256, 'vf': 128, 'lr': 0.0009781706841264308, 'n_steps': 512, 'gamma': 0.998793774632105}. Best is trial 6 with value: -48.01736304889782.\n",
            "[I 2025-05-23 19:58:35,790] Trial 43 finished with value: -397.9263628825429 and parameters: {'pi': 256, 'vf': 128, 'lr': 0.0005894347724633834, 'n_steps': 512, 'gamma': 0.993104016106549}. Best is trial 6 with value: -48.01736304889782.\n",
            "[I 2025-05-23 19:58:59,029] Trial 44 finished with value: -31.460746962485114 and parameters: {'pi': 256, 'vf': 128, 'lr': 0.0008073995754471403, 'n_steps': 512, 'gamma': 0.9958156637880747}. Best is trial 44 with value: -31.460746962485114.\n",
            "[I 2025-05-23 19:59:23,249] Trial 45 finished with value: -148.03390917764045 and parameters: {'pi': 256, 'vf': 128, 'lr': 0.0004696530386600522, 'n_steps': 256, 'gamma': 0.9962126851905314}. Best is trial 44 with value: -31.460746962485114.\n",
            "[I 2025-05-23 19:59:40,493] Trial 46 finished with value: -637.5644813308958 and parameters: {'pi': 64, 'vf': 128, 'lr': 0.0002456975404108773, 'n_steps': 512, 'gamma': 0.9764775922262086}. Best is trial 44 with value: -31.460746962485114.\n",
            "[I 2025-05-23 19:59:56,736] Trial 47 finished with value: -163.56242222466972 and parameters: {'pi': 128, 'vf': 64, 'lr': 0.0005815549423736129, 'n_steps': 512, 'gamma': 0.9902627791019474}. Best is trial 44 with value: -31.460746962485114.\n",
            "[I 2025-05-23 20:00:21,537] Trial 48 finished with value: -132.30816909149289 and parameters: {'pi': 256, 'vf': 256, 'lr': 0.0007449979291574584, 'n_steps': 256, 'gamma': 0.9933155484513507}. Best is trial 44 with value: -31.460746962485114.\n",
            "[I 2025-05-23 20:00:40,609] Trial 49 finished with value: -438.72809256474136 and parameters: {'pi': 64, 'vf': 128, 'lr': 0.0003894397902641912, 'n_steps': 512, 'gamma': 0.9965308717283887}. Best is trial 44 with value: -31.460746962485114.\n",
            "[I 2025-05-23 20:01:04,334] Trial 50 finished with value: -58.45115326095547 and parameters: {'pi': 256, 'vf': 128, 'lr': 0.0008387395260721903, 'n_steps': 512, 'gamma': 0.9874052612433155}. Best is trial 44 with value: -31.460746962485114.\n",
            "[I 2025-05-23 20:01:27,923] Trial 51 finished with value: -112.35797713151987 and parameters: {'pi': 256, 'vf': 128, 'lr': 0.0008111902718361305, 'n_steps': 512, 'gamma': 0.9879462619097373}. Best is trial 44 with value: -31.460746962485114.\n",
            "[I 2025-05-23 20:01:51,732] Trial 52 finished with value: -104.90415507514517 and parameters: {'pi': 256, 'vf': 128, 'lr': 0.0006426086945042264, 'n_steps': 512, 'gamma': 0.9843910171396482}. Best is trial 44 with value: -31.460746962485114.\n",
            "[I 2025-05-23 20:02:15,226] Trial 53 finished with value: -181.66528391502214 and parameters: {'pi': 256, 'vf': 128, 'lr': 0.00047633726610824163, 'n_steps': 512, 'gamma': 0.9808565960397029}. Best is trial 44 with value: -31.460746962485114.\n",
            "[I 2025-05-23 20:02:38,857] Trial 54 finished with value: -137.31243592399406 and parameters: {'pi': 256, 'vf': 128, 'lr': 0.0008734087261560877, 'n_steps': 512, 'gamma': 0.992326615166611}. Best is trial 44 with value: -31.460746962485114.\n",
            "[I 2025-05-23 20:03:02,782] Trial 55 finished with value: -233.20756389221643 and parameters: {'pi': 256, 'vf': 128, 'lr': 0.0004319231259695051, 'n_steps': 512, 'gamma': 0.9879786208022361}. Best is trial 44 with value: -31.460746962485114.\n",
            "[I 2025-05-23 20:03:27,532] Trial 56 finished with value: 117.19194949090016 and parameters: {'pi': 256, 'vf': 256, 'lr': 0.0007966338872579695, 'n_steps': 128, 'gamma': 0.9759267686819444}. Best is trial 56 with value: 117.19194949090016.\n",
            "[I 2025-05-23 20:03:52,117] Trial 57 finished with value: -108.06242544382113 and parameters: {'pi': 256, 'vf': 256, 'lr': 0.0008366779985841974, 'n_steps': 128, 'gamma': 0.9737555986526507}. Best is trial 56 with value: 117.19194949090016.\n",
            "[I 2025-05-23 20:04:16,545] Trial 58 finished with value: 44.347676514238834 and parameters: {'pi': 64, 'vf': 256, 'lr': 0.0009859948144121961, 'n_steps': 128, 'gamma': 0.9761862165537484}. Best is trial 56 with value: 117.19194949090016.\n",
            "[I 2025-05-23 20:04:41,054] Trial 59 finished with value: -413.1510184473358 and parameters: {'pi': 64, 'vf': 256, 'lr': 0.0006200669350740393, 'n_steps': 128, 'gamma': 0.9759724058963095}. Best is trial 56 with value: 117.19194949090016.\n",
            "[I 2025-05-23 20:05:05,095] Trial 60 finished with value: -633.9053055286407 and parameters: {'pi': 64, 'vf': 256, 'lr': 2.1445143562740945e-05, 'n_steps': 128, 'gamma': 0.9819194409581964}. Best is trial 56 with value: 117.19194949090016.\n",
            "[I 2025-05-23 20:05:29,580] Trial 61 finished with value: -85.82743195068323 and parameters: {'pi': 64, 'vf': 256, 'lr': 0.0009695802348298771, 'n_steps': 128, 'gamma': 0.9714533478003116}. Best is trial 56 with value: 117.19194949090016.\n",
            "[I 2025-05-23 20:05:53,788] Trial 62 finished with value: -135.82126538690645 and parameters: {'pi': 64, 'vf': 256, 'lr': 0.000793376964613795, 'n_steps': 128, 'gamma': 0.9765164833446522}. Best is trial 56 with value: 117.19194949090016.\n",
            "[I 2025-05-23 20:06:18,509] Trial 63 finished with value: -125.61099292851286 and parameters: {'pi': 64, 'vf': 256, 'lr': 0.0005213948765489991, 'n_steps': 128, 'gamma': 0.9701851057632974}. Best is trial 56 with value: 117.19194949090016.\n",
            "[I 2025-05-23 20:06:43,536] Trial 64 finished with value: -104.65391117427498 and parameters: {'pi': 256, 'vf': 256, 'lr': 0.0007100868664429688, 'n_steps': 128, 'gamma': 0.9724069566954265}. Best is trial 56 with value: 117.19194949090016.\n",
            "[I 2025-05-23 20:07:08,125] Trial 65 finished with value: -291.16263965038814 and parameters: {'pi': 256, 'vf': 256, 'lr': 0.0009845120926546263, 'n_steps': 128, 'gamma': 0.9776264495041828}. Best is trial 56 with value: 117.19194949090016.\n",
            "[I 2025-05-23 20:07:32,527] Trial 66 finished with value: -96.41202893661102 and parameters: {'pi': 64, 'vf': 256, 'lr': 0.0006482413929892772, 'n_steps': 128, 'gamma': 0.9639921195254746}. Best is trial 56 with value: 117.19194949090016.\n",
            "[I 2025-05-23 20:07:56,191] Trial 67 finished with value: -1282.1774833031 and parameters: {'pi': 128, 'vf': 256, 'lr': 7.051487921026823e-05, 'n_steps': 256, 'gamma': 0.9748524401038128}. Best is trial 56 with value: 117.19194949090016.\n",
            "[I 2025-05-23 20:08:20,687] Trial 68 finished with value: -31.718686217562617 and parameters: {'pi': 256, 'vf': 64, 'lr': 0.0008442524916944222, 'n_steps': 128, 'gamma': 0.9943193283051157}. Best is trial 56 with value: 117.19194949090016.\n",
            "[I 2025-05-23 20:08:45,412] Trial 69 finished with value: -85.67571638658993 and parameters: {'pi': 256, 'vf': 64, 'lr': 0.0007775496262406567, 'n_steps': 128, 'gamma': 0.980554298555851}. Best is trial 56 with value: 117.19194949090016.\n",
            "[I 2025-05-23 20:09:01,754] Trial 70 finished with value: -741.0810178801418 and parameters: {'pi': 64, 'vf': 64, 'lr': 1.06486243885647e-05, 'n_steps': 128, 'gamma': 0.9794414274882427}. Best is trial 56 with value: 117.19194949090016.\n",
            "[I 2025-05-23 20:09:25,921] Trial 71 finished with value: -149.49198872568087 and parameters: {'pi': 256, 'vf': 64, 'lr': 0.0008629631486343081, 'n_steps': 128, 'gamma': 0.9950615964529728}. Best is trial 56 with value: 117.19194949090016.\n",
            "[I 2025-05-23 20:09:50,661] Trial 72 finished with value: -133.31455955386627 and parameters: {'pi': 256, 'vf': 64, 'lr': 0.0005389873318695088, 'n_steps': 128, 'gamma': 0.9974486669089808}. Best is trial 56 with value: 117.19194949090016.\n",
            "[I 2025-05-23 20:10:14,316] Trial 73 finished with value: -105.3103338951274 and parameters: {'pi': 256, 'vf': 64, 'lr': 0.0007043027369853335, 'n_steps': 256, 'gamma': 0.9912263429652834}. Best is trial 56 with value: 117.19194949090016.\n",
            "[I 2025-05-23 20:10:39,128] Trial 74 finished with value: -7.507275673757926 and parameters: {'pi': 256, 'vf': 256, 'lr': 0.0008824193830176526, 'n_steps': 128, 'gamma': 0.9935267104294986}. Best is trial 56 with value: 117.19194949090016.\n",
            "[I 2025-05-23 20:11:03,993] Trial 75 finished with value: -136.80303936562268 and parameters: {'pi': 256, 'vf': 256, 'lr': 0.0006147982297997078, 'n_steps': 128, 'gamma': 0.9933306763027534}. Best is trial 56 with value: 117.19194949090016.\n",
            "[I 2025-05-23 20:11:28,863] Trial 76 finished with value: -142.5382865600521 and parameters: {'pi': 256, 'vf': 256, 'lr': 0.00042445999743369865, 'n_steps': 128, 'gamma': 0.9904300337088771}. Best is trial 56 with value: 117.19194949090016.\n",
            "[I 2025-05-23 20:11:53,246] Trial 77 finished with value: -1243.2604121019133 and parameters: {'pi': 256, 'vf': 256, 'lr': 3.8667015204776214e-05, 'n_steps': 128, 'gamma': 0.9854703364965344}. Best is trial 56 with value: 117.19194949090016.\n",
            "[I 2025-05-23 20:12:18,222] Trial 78 finished with value: -68.34842030995642 and parameters: {'pi': 256, 'vf': 256, 'lr': 0.0008670030608551554, 'n_steps': 128, 'gamma': 0.9870642197988833}. Best is trial 56 with value: 117.19194949090016.\n",
            "[I 2025-05-23 20:12:42,912] Trial 79 finished with value: -25.267045097071968 and parameters: {'pi': 64, 'vf': 256, 'lr': 0.0008423747428006681, 'n_steps': 128, 'gamma': 0.9824513600457397}. Best is trial 56 with value: 117.19194949090016.\n",
            "[I 2025-05-23 20:13:07,405] Trial 80 finished with value: -106.805707959157 and parameters: {'pi': 64, 'vf': 256, 'lr': 0.0007382678890161435, 'n_steps': 128, 'gamma': 0.9824232798555721}. Best is trial 56 with value: 117.19194949090016.\n",
            "[I 2025-05-23 20:13:32,111] Trial 81 finished with value: -4.62357716221625 and parameters: {'pi': 64, 'vf': 256, 'lr': 0.0008676084697497181, 'n_steps': 128, 'gamma': 0.9845637436264432}. Best is trial 56 with value: 117.19194949090016.\n",
            "[I 2025-05-23 20:13:56,068] Trial 82 finished with value: 107.14301575660338 and parameters: {'pi': 64, 'vf': 256, 'lr': 0.0008426157234424143, 'n_steps': 128, 'gamma': 0.9785182752144326}. Best is trial 56 with value: 117.19194949090016.\n",
            "[I 2025-05-23 20:14:20,318] Trial 83 finished with value: -27.12944356111111 and parameters: {'pi': 64, 'vf': 256, 'lr': 0.0009904117977171153, 'n_steps': 128, 'gamma': 0.977879253192589}. Best is trial 56 with value: 117.19194949090016.\n",
            "[I 2025-05-23 20:14:44,466] Trial 84 finished with value: -81.24971375843742 and parameters: {'pi': 64, 'vf': 256, 'lr': 0.0009027858856017708, 'n_steps': 128, 'gamma': 0.9781649226928311}. Best is trial 56 with value: 117.19194949090016.\n",
            "[I 2025-05-23 20:15:08,845] Trial 85 finished with value: -101.83097647062968 and parameters: {'pi': 64, 'vf': 256, 'lr': 0.0006608769311744803, 'n_steps': 128, 'gamma': 0.9750838810958755}. Best is trial 56 with value: 117.19194949090016.\n",
            "[I 2025-05-23 20:15:33,184] Trial 86 finished with value: -69.60417968404218 and parameters: {'pi': 64, 'vf': 256, 'lr': 0.0009675013675251083, 'n_steps': 128, 'gamma': 0.977453135668462}. Best is trial 56 with value: 117.19194949090016.\n",
            "[I 2025-05-23 20:15:57,856] Trial 87 finished with value: -62.99021613769437 and parameters: {'pi': 64, 'vf': 256, 'lr': 0.0007716646834212117, 'n_steps': 128, 'gamma': 0.9830893078276491}. Best is trial 56 with value: 117.19194949090016.\n",
            "[I 2025-05-23 20:16:22,282] Trial 88 finished with value: -69.8006114774209 and parameters: {'pi': 64, 'vf': 256, 'lr': 0.000987601631408248, 'n_steps': 128, 'gamma': 0.9842878530428176}. Best is trial 56 with value: 117.19194949090016.\n",
            "[I 2025-05-23 20:16:46,769] Trial 89 finished with value: -58.32856850208191 and parameters: {'pi': 64, 'vf': 256, 'lr': 0.0005796132005258933, 'n_steps': 128, 'gamma': 0.9793058498135825}. Best is trial 56 with value: 117.19194949090016.\n",
            "[I 2025-05-23 20:17:11,845] Trial 90 finished with value: -85.36790670688205 and parameters: {'pi': 64, 'vf': 256, 'lr': 0.0007814852512955028, 'n_steps': 128, 'gamma': 0.9726266420208269}. Best is trial 56 with value: 117.19194949090016.\n",
            "[I 2025-05-23 20:17:36,377] Trial 91 finished with value: -354.5194012156688 and parameters: {'pi': 64, 'vf': 256, 'lr': 0.0006955801731776564, 'n_steps': 128, 'gamma': 0.9800783670588145}. Best is trial 56 with value: 117.19194949090016.\n",
            "[I 2025-05-23 20:18:01,287] Trial 92 finished with value: -5.282409467878665 and parameters: {'pi': 64, 'vf': 256, 'lr': 0.0008433673937059819, 'n_steps': 128, 'gamma': 0.9817888154709687}. Best is trial 56 with value: 117.19194949090016.\n",
            "[I 2025-05-23 20:18:25,766] Trial 93 finished with value: -107.08978122235276 and parameters: {'pi': 64, 'vf': 256, 'lr': 0.0008935533607602782, 'n_steps': 128, 'gamma': 0.9769621692913851}. Best is trial 56 with value: 117.19194949090016.\n",
            "[I 2025-05-23 20:18:50,191] Trial 94 finished with value: -112.09515525124735 and parameters: {'pi': 64, 'vf': 256, 'lr': 0.0009965562383121404, 'n_steps': 128, 'gamma': 0.9817420430153037}. Best is trial 56 with value: 117.19194949090016.\n",
            "[I 2025-05-23 20:19:14,950] Trial 95 finished with value: -78.50280113349436 and parameters: {'pi': 64, 'vf': 256, 'lr': 0.0008601006127395124, 'n_steps': 128, 'gamma': 0.9754885957447141}. Best is trial 56 with value: 117.19194949090016.\n",
            "[I 2025-05-23 20:19:39,565] Trial 96 finished with value: -114.54700198700156 and parameters: {'pi': 64, 'vf': 256, 'lr': 0.0007488048208989393, 'n_steps': 128, 'gamma': 0.9787517963167083}. Best is trial 56 with value: 117.19194949090016.\n",
            "[I 2025-05-23 20:20:04,208] Trial 97 finished with value: -18.482883795833914 and parameters: {'pi': 64, 'vf': 256, 'lr': 0.0005668970743098972, 'n_steps': 128, 'gamma': 0.9737283688454791}. Best is trial 56 with value: 117.19194949090016.\n",
            "[I 2025-05-23 20:20:28,761] Trial 98 finished with value: -232.55238764797105 and parameters: {'pi': 64, 'vf': 256, 'lr': 0.000572032858956009, 'n_steps': 128, 'gamma': 0.9737470416006696}. Best is trial 56 with value: 117.19194949090016.\n",
            "[I 2025-05-23 20:20:53,110] Trial 99 finished with value: -62.850392351471235 and parameters: {'pi': 64, 'vf': 256, 'lr': 0.000653780939074429, 'n_steps': 128, 'gamma': 0.9687758953531519}. Best is trial 56 with value: 117.19194949090016.\n"
          ]
        },
        {
          "name": "stdout",
          "output_type": "stream",
          "text": [
            "{'pi': 256, 'vf': 256, 'lr': 0.0007966338872579695, 'n_steps': 128, 'gamma': 0.9759267686819444}\n"
          ]
        }
      ],
      "source": [
        "study = optuna.create_study(direction=\"maximize\")\n",
        "study.optimize(optimize, n_trials=N_TRIALS)\n",
        "print(study.best_params)"
      ]
    }
  ],
  "metadata": {
    "accelerator": "GPU",
    "colab": {
      "gpuType": "T4",
      "provenance": []
    },
    "kernelspec": {
      "display_name": "deep-reinforcement-learning-gymnasium-u3px5S1O-py3.13",
      "language": "python",
      "name": "python3"
    },
    "language_info": {
      "codemirror_mode": {
        "name": "ipython",
        "version": 3
      },
      "file_extension": ".py",
      "mimetype": "text/x-python",
      "name": "python",
      "nbconvert_exporter": "python",
      "pygments_lexer": "ipython3",
      "version": "3.13.2"
    }
  },
  "nbformat": 4,
  "nbformat_minor": 0
}
