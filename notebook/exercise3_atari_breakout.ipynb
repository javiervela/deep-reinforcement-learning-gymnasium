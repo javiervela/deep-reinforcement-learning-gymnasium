{
 "cells": [
  {
   "cell_type": "code",
   "execution_count": 2,
   "id": "4d386620",
   "metadata": {},
   "outputs": [],
   "source": [
    "import gymnasium as gym\n",
    "import ale_py\n",
    "import cv2\n",
    "\n",
    "from stable_baselines3 import PPO, A2C\n",
    "from stable_baselines3.common.evaluation import evaluate_policy\n",
    "from stable_baselines3.common.callbacks import (\n",
    "    EvalCallback,\n",
    ")\n",
    "from stable_baselines3.common.env_util import make_atari_env\n",
    "from stable_baselines3.common.vec_env import VecFrameStack\n",
    "from stable_baselines3.common.callbacks import ProgressBarCallback"
   ]
  },
  {
   "cell_type": "code",
   "execution_count": 16,
   "id": "35183f0a",
   "metadata": {},
   "outputs": [],
   "source": [
    "# gym.register_envs(ale_py)"
   ]
  },
  {
   "cell_type": "code",
   "execution_count": 3,
   "id": "ee2c22c2",
   "metadata": {},
   "outputs": [
    {
     "name": "stderr",
     "output_type": "stream",
     "text": [
      "A.L.E: Arcade Learning Environment (version 0.11.0+dfae0bd)\n",
      "[Powered by Stella]\n"
     ]
    }
   ],
   "source": [
    "env = make_atari_env(\"Breakout-v4\", n_envs=1, seed=0)\n",
    "env = VecFrameStack(env, n_stack=4)"
   ]
  },
  {
   "cell_type": "code",
   "execution_count": 18,
   "id": "11ae0da9",
   "metadata": {},
   "outputs": [],
   "source": [
    "eval_callback = EvalCallback(\n",
    "    env,\n",
    "    best_model_save_path=\"../logs/exercise_3/\",\n",
    "    log_path=\"../logs/exercise_3/\",\n",
    "    eval_freq=5_000,\n",
    "    deterministic=True,\n",
    "    render=False,\n",
    "    n_eval_episodes=50,\n",
    ")"
   ]
  },
  {
   "cell_type": "code",
   "execution_count": 19,
   "id": "a4ff767d",
   "metadata": {},
   "outputs": [],
   "source": [
    "model = A2C(\n",
    "    \"CnnPolicy\",\n",
    "    env,\n",
    "    tensorboard_log=\"../logs/exercise_3/tensorboard/\",\n",
    "    verbose=0,\n",
    ")"
   ]
  },
  {
   "cell_type": "code",
   "execution_count": 20,
   "id": "6c8a5364",
   "metadata": {},
   "outputs": [
    {
     "data": {
      "application/vnd.jupyter.widget-view+json": {
       "model_id": "6e4b74db2c244aef891accf1e9c55bec",
       "version_major": 2,
       "version_minor": 0
      },
      "text/plain": [
       "Output()"
      ]
     },
     "metadata": {},
     "output_type": "display_data"
    },
    {
     "name": "stderr",
     "output_type": "stream",
     "text": [
      "/home/javier/.cache/pypoetry/virtualenvs/deep-reinforcement-learning-gymnasium-u3px5S1O-py3.13/lib/python3.13/site-packages/stable_baselines3/common/callbacks.py:418: UserWarning: Training and eval env are not of the same type<stable_baselines3.common.vec_env.vec_transpose.VecTransposeImage object at 0x7a13a0145090> != <stable_baselines3.common.vec_env.vec_frame_stack.VecFrameStack object at 0x7a13a0144b90>\n",
      "  warnings.warn(\"Training and eval env are not of the same type\" f\"{self.training_env} != {self.eval_env}\")\n"
     ]
    },
    {
     "data": {
      "text/html": [
       "<pre style=\"white-space:pre;overflow-x:auto;line-height:normal;font-family:Menlo,'DejaVu Sans Mono',consolas,'Courier New',monospace\">Eval num_timesteps=5000, episode_reward=2.18 +/- 1.38\n",
       "</pre>\n"
      ],
      "text/plain": [
       "Eval num_timesteps=5000, episode_reward=2.18 +/- 1.38\n"
      ]
     },
     "metadata": {},
     "output_type": "display_data"
    },
    {
     "data": {
      "text/html": [
       "<pre style=\"white-space:pre;overflow-x:auto;line-height:normal;font-family:Menlo,'DejaVu Sans Mono',consolas,'Courier New',monospace\">Episode length: 321.04 +/- 80.78\n",
       "</pre>\n"
      ],
      "text/plain": [
       "Episode length: 321.04 +/- 80.78\n"
      ]
     },
     "metadata": {},
     "output_type": "display_data"
    },
    {
     "data": {
      "text/html": [
       "<pre style=\"white-space:pre;overflow-x:auto;line-height:normal;font-family:Menlo,'DejaVu Sans Mono',consolas,'Courier New',monospace\">New best mean reward!\n",
       "</pre>\n"
      ],
      "text/plain": [
       "New best mean reward!\n"
      ]
     },
     "metadata": {},
     "output_type": "display_data"
    },
    {
     "data": {
      "text/html": [
       "<pre style=\"white-space:pre;overflow-x:auto;line-height:normal;font-family:Menlo,'DejaVu Sans Mono',consolas,'Courier New',monospace\">Eval num_timesteps=10000, episode_reward=2.40 +/- 1.23\n",
       "</pre>\n"
      ],
      "text/plain": [
       "Eval num_timesteps=10000, episode_reward=2.40 +/- 1.23\n"
      ]
     },
     "metadata": {},
     "output_type": "display_data"
    },
    {
     "data": {
      "text/html": [
       "<pre style=\"white-space:pre;overflow-x:auto;line-height:normal;font-family:Menlo,'DejaVu Sans Mono',consolas,'Courier New',monospace\">Episode length: 331.24 +/- 73.51\n",
       "</pre>\n"
      ],
      "text/plain": [
       "Episode length: 331.24 +/- 73.51\n"
      ]
     },
     "metadata": {},
     "output_type": "display_data"
    },
    {
     "data": {
      "text/html": [
       "<pre style=\"white-space:pre;overflow-x:auto;line-height:normal;font-family:Menlo,'DejaVu Sans Mono',consolas,'Courier New',monospace\">New best mean reward!\n",
       "</pre>\n"
      ],
      "text/plain": [
       "New best mean reward!\n"
      ]
     },
     "metadata": {},
     "output_type": "display_data"
    },
    {
     "data": {
      "text/html": [
       "<pre style=\"white-space:pre;overflow-x:auto;line-height:normal;font-family:Menlo,'DejaVu Sans Mono',consolas,'Courier New',monospace\">Eval num_timesteps=15000, episode_reward=2.34 +/- 0.71\n",
       "</pre>\n"
      ],
      "text/plain": [
       "Eval num_timesteps=15000, episode_reward=2.34 +/- 0.71\n"
      ]
     },
     "metadata": {},
     "output_type": "display_data"
    },
    {
     "data": {
      "text/html": [
       "<pre style=\"white-space:pre;overflow-x:auto;line-height:normal;font-family:Menlo,'DejaVu Sans Mono',consolas,'Courier New',monospace\">Episode length: 303.34 +/- 45.85\n",
       "</pre>\n"
      ],
      "text/plain": [
       "Episode length: 303.34 +/- 45.85\n"
      ]
     },
     "metadata": {},
     "output_type": "display_data"
    },
    {
     "data": {
      "text/html": [
       "<pre style=\"white-space:pre;overflow-x:auto;line-height:normal;font-family:Menlo,'DejaVu Sans Mono',consolas,'Courier New',monospace\">Eval num_timesteps=20000, episode_reward=2.50 +/- 0.64\n",
       "</pre>\n"
      ],
      "text/plain": [
       "Eval num_timesteps=20000, episode_reward=2.50 +/- 0.64\n"
      ]
     },
     "metadata": {},
     "output_type": "display_data"
    },
    {
     "data": {
      "text/html": [
       "<pre style=\"white-space:pre;overflow-x:auto;line-height:normal;font-family:Menlo,'DejaVu Sans Mono',consolas,'Courier New',monospace\">Episode length: 312.42 +/- 45.22\n",
       "</pre>\n"
      ],
      "text/plain": [
       "Episode length: 312.42 +/- 45.22\n"
      ]
     },
     "metadata": {},
     "output_type": "display_data"
    },
    {
     "data": {
      "text/html": [
       "<pre style=\"white-space:pre;overflow-x:auto;line-height:normal;font-family:Menlo,'DejaVu Sans Mono',consolas,'Courier New',monospace\">New best mean reward!\n",
       "</pre>\n"
      ],
      "text/plain": [
       "New best mean reward!\n"
      ]
     },
     "metadata": {},
     "output_type": "display_data"
    },
    {
     "data": {
      "text/html": [
       "<pre style=\"white-space:pre;overflow-x:auto;line-height:normal;font-family:Menlo,'DejaVu Sans Mono',consolas,'Courier New',monospace\">Eval num_timesteps=25000, episode_reward=2.46 +/- 0.98\n",
       "</pre>\n"
      ],
      "text/plain": [
       "Eval num_timesteps=25000, episode_reward=2.46 +/- 0.98\n"
      ]
     },
     "metadata": {},
     "output_type": "display_data"
    },
    {
     "data": {
      "text/html": [
       "<pre style=\"white-space:pre;overflow-x:auto;line-height:normal;font-family:Menlo,'DejaVu Sans Mono',consolas,'Courier New',monospace\">Episode length: 323.48 +/- 67.03\n",
       "</pre>\n"
      ],
      "text/plain": [
       "Episode length: 323.48 +/- 67.03\n"
      ]
     },
     "metadata": {},
     "output_type": "display_data"
    },
    {
     "data": {
      "text/html": [
       "<pre style=\"white-space:pre;overflow-x:auto;line-height:normal;font-family:Menlo,'DejaVu Sans Mono',consolas,'Courier New',monospace\">Eval num_timesteps=30000, episode_reward=2.26 +/- 0.56\n",
       "</pre>\n"
      ],
      "text/plain": [
       "Eval num_timesteps=30000, episode_reward=2.26 +/- 0.56\n"
      ]
     },
     "metadata": {},
     "output_type": "display_data"
    },
    {
     "data": {
      "text/html": [
       "<pre style=\"white-space:pre;overflow-x:auto;line-height:normal;font-family:Menlo,'DejaVu Sans Mono',consolas,'Courier New',monospace\">Episode length: 296.70 +/- 33.29\n",
       "</pre>\n"
      ],
      "text/plain": [
       "Episode length: 296.70 +/- 33.29\n"
      ]
     },
     "metadata": {},
     "output_type": "display_data"
    },
    {
     "data": {
      "text/html": [
       "<pre style=\"white-space:pre;overflow-x:auto;line-height:normal;font-family:Menlo,'DejaVu Sans Mono',consolas,'Courier New',monospace\">Eval num_timesteps=35000, episode_reward=2.24 +/- 0.65\n",
       "</pre>\n"
      ],
      "text/plain": [
       "Eval num_timesteps=35000, episode_reward=2.24 +/- 0.65\n"
      ]
     },
     "metadata": {},
     "output_type": "display_data"
    },
    {
     "data": {
      "text/html": [
       "<pre style=\"white-space:pre;overflow-x:auto;line-height:normal;font-family:Menlo,'DejaVu Sans Mono',consolas,'Courier New',monospace\">Episode length: 296.40 +/- 38.98\n",
       "</pre>\n"
      ],
      "text/plain": [
       "Episode length: 296.40 +/- 38.98\n"
      ]
     },
     "metadata": {},
     "output_type": "display_data"
    },
    {
     "data": {
      "text/html": [
       "<pre style=\"white-space:pre;overflow-x:auto;line-height:normal;font-family:Menlo,'DejaVu Sans Mono',consolas,'Courier New',monospace\">Eval num_timesteps=40000, episode_reward=4.24 +/- 2.38\n",
       "</pre>\n"
      ],
      "text/plain": [
       "Eval num_timesteps=40000, episode_reward=4.24 +/- 2.38\n"
      ]
     },
     "metadata": {},
     "output_type": "display_data"
    },
    {
     "data": {
      "text/html": [
       "<pre style=\"white-space:pre;overflow-x:auto;line-height:normal;font-family:Menlo,'DejaVu Sans Mono',consolas,'Courier New',monospace\">Episode length: 385.20 +/- 114.31\n",
       "</pre>\n"
      ],
      "text/plain": [
       "Episode length: 385.20 +/- 114.31\n"
      ]
     },
     "metadata": {},
     "output_type": "display_data"
    },
    {
     "data": {
      "text/html": [
       "<pre style=\"white-space:pre;overflow-x:auto;line-height:normal;font-family:Menlo,'DejaVu Sans Mono',consolas,'Courier New',monospace\">New best mean reward!\n",
       "</pre>\n"
      ],
      "text/plain": [
       "New best mean reward!\n"
      ]
     },
     "metadata": {},
     "output_type": "display_data"
    },
    {
     "data": {
      "text/html": [
       "<pre style=\"white-space:pre;overflow-x:auto;line-height:normal;font-family:Menlo,'DejaVu Sans Mono',consolas,'Courier New',monospace\">Eval num_timesteps=45000, episode_reward=5.14 +/- 1.94\n",
       "</pre>\n"
      ],
      "text/plain": [
       "Eval num_timesteps=45000, episode_reward=5.14 +/- 1.94\n"
      ]
     },
     "metadata": {},
     "output_type": "display_data"
    },
    {
     "data": {
      "text/html": [
       "<pre style=\"white-space:pre;overflow-x:auto;line-height:normal;font-family:Menlo,'DejaVu Sans Mono',consolas,'Courier New',monospace\">Episode length: 441.28 +/- 105.14\n",
       "</pre>\n"
      ],
      "text/plain": [
       "Episode length: 441.28 +/- 105.14\n"
      ]
     },
     "metadata": {},
     "output_type": "display_data"
    },
    {
     "data": {
      "text/html": [
       "<pre style=\"white-space:pre;overflow-x:auto;line-height:normal;font-family:Menlo,'DejaVu Sans Mono',consolas,'Courier New',monospace\">New best mean reward!\n",
       "</pre>\n"
      ],
      "text/plain": [
       "New best mean reward!\n"
      ]
     },
     "metadata": {},
     "output_type": "display_data"
    },
    {
     "data": {
      "text/html": [
       "<pre style=\"white-space:pre;overflow-x:auto;line-height:normal;font-family:Menlo,'DejaVu Sans Mono',consolas,'Courier New',monospace\">Eval num_timesteps=50000, episode_reward=3.40 +/- 1.84\n",
       "</pre>\n"
      ],
      "text/plain": [
       "Eval num_timesteps=50000, episode_reward=3.40 +/- 1.84\n"
      ]
     },
     "metadata": {},
     "output_type": "display_data"
    },
    {
     "data": {
      "text/html": [
       "<pre style=\"white-space:pre;overflow-x:auto;line-height:normal;font-family:Menlo,'DejaVu Sans Mono',consolas,'Courier New',monospace\">Episode length: 350.04 +/- 86.80\n",
       "</pre>\n"
      ],
      "text/plain": [
       "Episode length: 350.04 +/- 86.80\n"
      ]
     },
     "metadata": {},
     "output_type": "display_data"
    },
    {
     "data": {
      "text/html": [
       "<pre style=\"white-space:pre;overflow-x:auto;line-height:normal;font-family:Menlo,'DejaVu Sans Mono',consolas,'Courier New',monospace\">Eval num_timesteps=55000, episode_reward=4.62 +/- 2.30\n",
       "</pre>\n"
      ],
      "text/plain": [
       "Eval num_timesteps=55000, episode_reward=4.62 +/- 2.30\n"
      ]
     },
     "metadata": {},
     "output_type": "display_data"
    },
    {
     "data": {
      "text/html": [
       "<pre style=\"white-space:pre;overflow-x:auto;line-height:normal;font-family:Menlo,'DejaVu Sans Mono',consolas,'Courier New',monospace\">Episode length: 425.10 +/- 119.86\n",
       "</pre>\n"
      ],
      "text/plain": [
       "Episode length: 425.10 +/- 119.86\n"
      ]
     },
     "metadata": {},
     "output_type": "display_data"
    },
    {
     "data": {
      "text/html": [
       "<pre style=\"white-space:pre;overflow-x:auto;line-height:normal;font-family:Menlo,'DejaVu Sans Mono',consolas,'Courier New',monospace\">Eval num_timesteps=60000, episode_reward=5.04 +/- 1.77\n",
       "</pre>\n"
      ],
      "text/plain": [
       "Eval num_timesteps=60000, episode_reward=5.04 +/- 1.77\n"
      ]
     },
     "metadata": {},
     "output_type": "display_data"
    },
    {
     "data": {
      "text/html": [
       "<pre style=\"white-space:pre;overflow-x:auto;line-height:normal;font-family:Menlo,'DejaVu Sans Mono',consolas,'Courier New',monospace\">Episode length: 433.90 +/- 82.45\n",
       "</pre>\n"
      ],
      "text/plain": [
       "Episode length: 433.90 +/- 82.45\n"
      ]
     },
     "metadata": {},
     "output_type": "display_data"
    },
    {
     "data": {
      "text/html": [
       "<pre style=\"white-space:pre;overflow-x:auto;line-height:normal;font-family:Menlo,'DejaVu Sans Mono',consolas,'Courier New',monospace\">Eval num_timesteps=65000, episode_reward=5.12 +/- 1.90\n",
       "</pre>\n"
      ],
      "text/plain": [
       "Eval num_timesteps=65000, episode_reward=5.12 +/- 1.90\n"
      ]
     },
     "metadata": {},
     "output_type": "display_data"
    },
    {
     "data": {
      "text/html": [
       "<pre style=\"white-space:pre;overflow-x:auto;line-height:normal;font-family:Menlo,'DejaVu Sans Mono',consolas,'Courier New',monospace\">Episode length: 445.42 +/- 91.05\n",
       "</pre>\n"
      ],
      "text/plain": [
       "Episode length: 445.42 +/- 91.05\n"
      ]
     },
     "metadata": {},
     "output_type": "display_data"
    },
    {
     "data": {
      "text/html": [
       "<pre style=\"white-space:pre;overflow-x:auto;line-height:normal;font-family:Menlo,'DejaVu Sans Mono',consolas,'Courier New',monospace\">Eval num_timesteps=70000, episode_reward=6.32 +/- 2.25\n",
       "</pre>\n"
      ],
      "text/plain": [
       "Eval num_timesteps=70000, episode_reward=6.32 +/- 2.25\n"
      ]
     },
     "metadata": {},
     "output_type": "display_data"
    },
    {
     "data": {
      "text/html": [
       "<pre style=\"white-space:pre;overflow-x:auto;line-height:normal;font-family:Menlo,'DejaVu Sans Mono',consolas,'Courier New',monospace\">Episode length: 513.20 +/- 117.90\n",
       "</pre>\n"
      ],
      "text/plain": [
       "Episode length: 513.20 +/- 117.90\n"
      ]
     },
     "metadata": {},
     "output_type": "display_data"
    },
    {
     "data": {
      "text/html": [
       "<pre style=\"white-space:pre;overflow-x:auto;line-height:normal;font-family:Menlo,'DejaVu Sans Mono',consolas,'Courier New',monospace\">New best mean reward!\n",
       "</pre>\n"
      ],
      "text/plain": [
       "New best mean reward!\n"
      ]
     },
     "metadata": {},
     "output_type": "display_data"
    },
    {
     "data": {
      "text/html": [
       "<pre style=\"white-space:pre;overflow-x:auto;line-height:normal;font-family:Menlo,'DejaVu Sans Mono',consolas,'Courier New',monospace\">Eval num_timesteps=75000, episode_reward=6.12 +/- 2.08\n",
       "</pre>\n"
      ],
      "text/plain": [
       "Eval num_timesteps=75000, episode_reward=6.12 +/- 2.08\n"
      ]
     },
     "metadata": {},
     "output_type": "display_data"
    },
    {
     "data": {
      "text/html": [
       "<pre style=\"white-space:pre;overflow-x:auto;line-height:normal;font-family:Menlo,'DejaVu Sans Mono',consolas,'Courier New',monospace\">Episode length: 498.36 +/- 106.34\n",
       "</pre>\n"
      ],
      "text/plain": [
       "Episode length: 498.36 +/- 106.34\n"
      ]
     },
     "metadata": {},
     "output_type": "display_data"
    },
    {
     "data": {
      "text/html": [
       "<pre style=\"white-space:pre;overflow-x:auto;line-height:normal;font-family:Menlo,'DejaVu Sans Mono',consolas,'Courier New',monospace\">Eval num_timesteps=80000, episode_reward=5.06 +/- 2.38\n",
       "</pre>\n"
      ],
      "text/plain": [
       "Eval num_timesteps=80000, episode_reward=5.06 +/- 2.38\n"
      ]
     },
     "metadata": {},
     "output_type": "display_data"
    },
    {
     "data": {
      "text/html": [
       "<pre style=\"white-space:pre;overflow-x:auto;line-height:normal;font-family:Menlo,'DejaVu Sans Mono',consolas,'Courier New',monospace\">Episode length: 445.86 +/- 124.69\n",
       "</pre>\n"
      ],
      "text/plain": [
       "Episode length: 445.86 +/- 124.69\n"
      ]
     },
     "metadata": {},
     "output_type": "display_data"
    },
    {
     "data": {
      "text/html": [
       "<pre style=\"white-space:pre;overflow-x:auto;line-height:normal;font-family:Menlo,'DejaVu Sans Mono',consolas,'Courier New',monospace\">Eval num_timesteps=85000, episode_reward=5.36 +/- 2.27\n",
       "</pre>\n"
      ],
      "text/plain": [
       "Eval num_timesteps=85000, episode_reward=5.36 +/- 2.27\n"
      ]
     },
     "metadata": {},
     "output_type": "display_data"
    },
    {
     "data": {
      "text/html": [
       "<pre style=\"white-space:pre;overflow-x:auto;line-height:normal;font-family:Menlo,'DejaVu Sans Mono',consolas,'Courier New',monospace\">Episode length: 452.78 +/- 110.25\n",
       "</pre>\n"
      ],
      "text/plain": [
       "Episode length: 452.78 +/- 110.25\n"
      ]
     },
     "metadata": {},
     "output_type": "display_data"
    },
    {
     "data": {
      "text/html": [
       "<pre style=\"white-space:pre;overflow-x:auto;line-height:normal;font-family:Menlo,'DejaVu Sans Mono',consolas,'Courier New',monospace\">Eval num_timesteps=90000, episode_reward=5.68 +/- 2.30\n",
       "</pre>\n"
      ],
      "text/plain": [
       "Eval num_timesteps=90000, episode_reward=5.68 +/- 2.30\n"
      ]
     },
     "metadata": {},
     "output_type": "display_data"
    },
    {
     "data": {
      "text/html": [
       "<pre style=\"white-space:pre;overflow-x:auto;line-height:normal;font-family:Menlo,'DejaVu Sans Mono',consolas,'Courier New',monospace\">Episode length: 482.18 +/- 120.20\n",
       "</pre>\n"
      ],
      "text/plain": [
       "Episode length: 482.18 +/- 120.20\n"
      ]
     },
     "metadata": {},
     "output_type": "display_data"
    },
    {
     "data": {
      "text/html": [
       "<pre style=\"white-space:pre;overflow-x:auto;line-height:normal;font-family:Menlo,'DejaVu Sans Mono',consolas,'Courier New',monospace\">Eval num_timesteps=95000, episode_reward=5.04 +/- 2.11\n",
       "</pre>\n"
      ],
      "text/plain": [
       "Eval num_timesteps=95000, episode_reward=5.04 +/- 2.11\n"
      ]
     },
     "metadata": {},
     "output_type": "display_data"
    },
    {
     "data": {
      "text/html": [
       "<pre style=\"white-space:pre;overflow-x:auto;line-height:normal;font-family:Menlo,'DejaVu Sans Mono',consolas,'Courier New',monospace\">Episode length: 444.04 +/- 108.17\n",
       "</pre>\n"
      ],
      "text/plain": [
       "Episode length: 444.04 +/- 108.17\n"
      ]
     },
     "metadata": {},
     "output_type": "display_data"
    },
    {
     "data": {
      "text/html": [
       "<pre style=\"white-space:pre;overflow-x:auto;line-height:normal;font-family:Menlo,'DejaVu Sans Mono',consolas,'Courier New',monospace\">Eval num_timesteps=100000, episode_reward=5.44 +/- 1.86\n",
       "</pre>\n"
      ],
      "text/plain": [
       "Eval num_timesteps=100000, episode_reward=5.44 +/- 1.86\n"
      ]
     },
     "metadata": {},
     "output_type": "display_data"
    },
    {
     "data": {
      "text/html": [
       "<pre style=\"white-space:pre;overflow-x:auto;line-height:normal;font-family:Menlo,'DejaVu Sans Mono',consolas,'Courier New',monospace\">Episode length: 464.10 +/- 91.91\n",
       "</pre>\n"
      ],
      "text/plain": [
       "Episode length: 464.10 +/- 91.91\n"
      ]
     },
     "metadata": {},
     "output_type": "display_data"
    },
    {
     "data": {
      "text/html": [
       "<pre style=\"white-space:pre;overflow-x:auto;line-height:normal;font-family:Menlo,'DejaVu Sans Mono',consolas,'Courier New',monospace\">Eval num_timesteps=105000, episode_reward=5.58 +/- 2.72\n",
       "</pre>\n"
      ],
      "text/plain": [
       "Eval num_timesteps=105000, episode_reward=5.58 +/- 2.72\n"
      ]
     },
     "metadata": {},
     "output_type": "display_data"
    },
    {
     "data": {
      "text/html": [
       "<pre style=\"white-space:pre;overflow-x:auto;line-height:normal;font-family:Menlo,'DejaVu Sans Mono',consolas,'Courier New',monospace\">Episode length: 1177.92 +/- 4987.49\n",
       "</pre>\n"
      ],
      "text/plain": [
       "Episode length: 1177.92 +/- 4987.49\n"
      ]
     },
     "metadata": {},
     "output_type": "display_data"
    },
    {
     "data": {
      "text/html": [
       "<pre style=\"white-space:pre;overflow-x:auto;line-height:normal;font-family:Menlo,'DejaVu Sans Mono',consolas,'Courier New',monospace\">Eval num_timesteps=110000, episode_reward=5.40 +/- 1.44\n",
       "</pre>\n"
      ],
      "text/plain": [
       "Eval num_timesteps=110000, episode_reward=5.40 +/- 1.44\n"
      ]
     },
     "metadata": {},
     "output_type": "display_data"
    },
    {
     "data": {
      "text/html": [
       "<pre style=\"white-space:pre;overflow-x:auto;line-height:normal;font-family:Menlo,'DejaVu Sans Mono',consolas,'Courier New',monospace\">Episode length: 1173.48 +/- 4974.81\n",
       "</pre>\n"
      ],
      "text/plain": [
       "Episode length: 1173.48 +/- 4974.81\n"
      ]
     },
     "metadata": {},
     "output_type": "display_data"
    },
    {
     "data": {
      "text/html": [
       "<pre style=\"white-space:pre;overflow-x:auto;line-height:normal;font-family:Menlo,'DejaVu Sans Mono',consolas,'Courier New',monospace\">Eval num_timesteps=115000, episode_reward=5.12 +/- 2.30\n",
       "</pre>\n"
      ],
      "text/plain": [
       "Eval num_timesteps=115000, episode_reward=5.12 +/- 2.30\n"
      ]
     },
     "metadata": {},
     "output_type": "display_data"
    },
    {
     "data": {
      "text/html": [
       "<pre style=\"white-space:pre;overflow-x:auto;line-height:normal;font-family:Menlo,'DejaVu Sans Mono',consolas,'Courier New',monospace\">Episode length: 435.16 +/- 105.01\n",
       "</pre>\n"
      ],
      "text/plain": [
       "Episode length: 435.16 +/- 105.01\n"
      ]
     },
     "metadata": {},
     "output_type": "display_data"
    },
    {
     "data": {
      "text/html": [
       "<pre style=\"white-space:pre;overflow-x:auto;line-height:normal;font-family:Menlo,'DejaVu Sans Mono',consolas,'Courier New',monospace\">Eval num_timesteps=120000, episode_reward=5.80 +/- 2.18\n",
       "</pre>\n"
      ],
      "text/plain": [
       "Eval num_timesteps=120000, episode_reward=5.80 +/- 2.18\n"
      ]
     },
     "metadata": {},
     "output_type": "display_data"
    },
    {
     "data": {
      "text/html": [
       "<pre style=\"white-space:pre;overflow-x:auto;line-height:normal;font-family:Menlo,'DejaVu Sans Mono',consolas,'Courier New',monospace\">Episode length: 476.04 +/- 107.27\n",
       "</pre>\n"
      ],
      "text/plain": [
       "Episode length: 476.04 +/- 107.27\n"
      ]
     },
     "metadata": {},
     "output_type": "display_data"
    },
    {
     "data": {
      "text/html": [
       "<pre style=\"white-space:pre;overflow-x:auto;line-height:normal;font-family:Menlo,'DejaVu Sans Mono',consolas,'Courier New',monospace\">Eval num_timesteps=125000, episode_reward=5.62 +/- 2.26\n",
       "</pre>\n"
      ],
      "text/plain": [
       "Eval num_timesteps=125000, episode_reward=5.62 +/- 2.26\n"
      ]
     },
     "metadata": {},
     "output_type": "display_data"
    },
    {
     "data": {
      "text/html": [
       "<pre style=\"white-space:pre;overflow-x:auto;line-height:normal;font-family:Menlo,'DejaVu Sans Mono',consolas,'Courier New',monospace\">Episode length: 474.18 +/- 115.45\n",
       "</pre>\n"
      ],
      "text/plain": [
       "Episode length: 474.18 +/- 115.45\n"
      ]
     },
     "metadata": {},
     "output_type": "display_data"
    },
    {
     "data": {
      "text/html": [
       "<pre style=\"white-space:pre;overflow-x:auto;line-height:normal;font-family:Menlo,'DejaVu Sans Mono',consolas,'Courier New',monospace\">Eval num_timesteps=130000, episode_reward=7.14 +/- 2.69\n",
       "</pre>\n"
      ],
      "text/plain": [
       "Eval num_timesteps=130000, episode_reward=7.14 +/- 2.69\n"
      ]
     },
     "metadata": {},
     "output_type": "display_data"
    },
    {
     "data": {
      "text/html": [
       "<pre style=\"white-space:pre;overflow-x:auto;line-height:normal;font-family:Menlo,'DejaVu Sans Mono',consolas,'Courier New',monospace\">Episode length: 540.34 +/- 113.82\n",
       "</pre>\n"
      ],
      "text/plain": [
       "Episode length: 540.34 +/- 113.82\n"
      ]
     },
     "metadata": {},
     "output_type": "display_data"
    },
    {
     "data": {
      "text/html": [
       "<pre style=\"white-space:pre;overflow-x:auto;line-height:normal;font-family:Menlo,'DejaVu Sans Mono',consolas,'Courier New',monospace\">New best mean reward!\n",
       "</pre>\n"
      ],
      "text/plain": [
       "New best mean reward!\n"
      ]
     },
     "metadata": {},
     "output_type": "display_data"
    },
    {
     "data": {
      "text/html": [
       "<pre style=\"white-space:pre;overflow-x:auto;line-height:normal;font-family:Menlo,'DejaVu Sans Mono',consolas,'Courier New',monospace\">Eval num_timesteps=135000, episode_reward=7.48 +/- 2.66\n",
       "</pre>\n"
      ],
      "text/plain": [
       "Eval num_timesteps=135000, episode_reward=7.48 +/- 2.66\n"
      ]
     },
     "metadata": {},
     "output_type": "display_data"
    },
    {
     "data": {
      "text/html": [
       "<pre style=\"white-space:pre;overflow-x:auto;line-height:normal;font-family:Menlo,'DejaVu Sans Mono',consolas,'Courier New',monospace\">Episode length: 557.44 +/- 123.16\n",
       "</pre>\n"
      ],
      "text/plain": [
       "Episode length: 557.44 +/- 123.16\n"
      ]
     },
     "metadata": {},
     "output_type": "display_data"
    },
    {
     "data": {
      "text/html": [
       "<pre style=\"white-space:pre;overflow-x:auto;line-height:normal;font-family:Menlo,'DejaVu Sans Mono',consolas,'Courier New',monospace\">New best mean reward!\n",
       "</pre>\n"
      ],
      "text/plain": [
       "New best mean reward!\n"
      ]
     },
     "metadata": {},
     "output_type": "display_data"
    },
    {
     "data": {
      "text/html": [
       "<pre style=\"white-space:pre;overflow-x:auto;line-height:normal;font-family:Menlo,'DejaVu Sans Mono',consolas,'Courier New',monospace\">Eval num_timesteps=140000, episode_reward=7.24 +/- 2.61\n",
       "</pre>\n"
      ],
      "text/plain": [
       "Eval num_timesteps=140000, episode_reward=7.24 +/- 2.61\n"
      ]
     },
     "metadata": {},
     "output_type": "display_data"
    },
    {
     "data": {
      "text/html": [
       "<pre style=\"white-space:pre;overflow-x:auto;line-height:normal;font-family:Menlo,'DejaVu Sans Mono',consolas,'Courier New',monospace\">Episode length: 540.80 +/- 109.58\n",
       "</pre>\n"
      ],
      "text/plain": [
       "Episode length: 540.80 +/- 109.58\n"
      ]
     },
     "metadata": {},
     "output_type": "display_data"
    },
    {
     "data": {
      "text/html": [
       "<pre style=\"white-space:pre;overflow-x:auto;line-height:normal;font-family:Menlo,'DejaVu Sans Mono',consolas,'Courier New',monospace\">Eval num_timesteps=145000, episode_reward=6.52 +/- 2.35\n",
       "</pre>\n"
      ],
      "text/plain": [
       "Eval num_timesteps=145000, episode_reward=6.52 +/- 2.35\n"
      ]
     },
     "metadata": {},
     "output_type": "display_data"
    },
    {
     "data": {
      "text/html": [
       "<pre style=\"white-space:pre;overflow-x:auto;line-height:normal;font-family:Menlo,'DejaVu Sans Mono',consolas,'Courier New',monospace\">Episode length: 1228.00 +/- 4978.15\n",
       "</pre>\n"
      ],
      "text/plain": [
       "Episode length: 1228.00 +/- 4978.15\n"
      ]
     },
     "metadata": {},
     "output_type": "display_data"
    },
    {
     "data": {
      "text/html": [
       "<pre style=\"white-space:pre;overflow-x:auto;line-height:normal;font-family:Menlo,'DejaVu Sans Mono',consolas,'Courier New',monospace\">Eval num_timesteps=150000, episode_reward=7.60 +/- 2.37\n",
       "</pre>\n"
      ],
      "text/plain": [
       "Eval num_timesteps=150000, episode_reward=7.60 +/- 2.37\n"
      ]
     },
     "metadata": {},
     "output_type": "display_data"
    },
    {
     "data": {
      "text/html": [
       "<pre style=\"white-space:pre;overflow-x:auto;line-height:normal;font-family:Menlo,'DejaVu Sans Mono',consolas,'Courier New',monospace\">Episode length: 582.10 +/- 112.48\n",
       "</pre>\n"
      ],
      "text/plain": [
       "Episode length: 582.10 +/- 112.48\n"
      ]
     },
     "metadata": {},
     "output_type": "display_data"
    },
    {
     "data": {
      "text/html": [
       "<pre style=\"white-space:pre;overflow-x:auto;line-height:normal;font-family:Menlo,'DejaVu Sans Mono',consolas,'Courier New',monospace\">New best mean reward!\n",
       "</pre>\n"
      ],
      "text/plain": [
       "New best mean reward!\n"
      ]
     },
     "metadata": {},
     "output_type": "display_data"
    },
    {
     "data": {
      "text/html": [
       "<pre style=\"white-space:pre;overflow-x:auto;line-height:normal;font-family:Menlo,'DejaVu Sans Mono',consolas,'Courier New',monospace\">Eval num_timesteps=155000, episode_reward=8.00 +/- 2.33\n",
       "</pre>\n"
      ],
      "text/plain": [
       "Eval num_timesteps=155000, episode_reward=8.00 +/- 2.33\n"
      ]
     },
     "metadata": {},
     "output_type": "display_data"
    },
    {
     "data": {
      "text/html": [
       "<pre style=\"white-space:pre;overflow-x:auto;line-height:normal;font-family:Menlo,'DejaVu Sans Mono',consolas,'Courier New',monospace\">Episode length: 587.44 +/- 102.10\n",
       "</pre>\n"
      ],
      "text/plain": [
       "Episode length: 587.44 +/- 102.10\n"
      ]
     },
     "metadata": {},
     "output_type": "display_data"
    },
    {
     "data": {
      "text/html": [
       "<pre style=\"white-space:pre;overflow-x:auto;line-height:normal;font-family:Menlo,'DejaVu Sans Mono',consolas,'Courier New',monospace\">New best mean reward!\n",
       "</pre>\n"
      ],
      "text/plain": [
       "New best mean reward!\n"
      ]
     },
     "metadata": {},
     "output_type": "display_data"
    },
    {
     "data": {
      "text/html": [
       "<pre style=\"white-space:pre;overflow-x:auto;line-height:normal;font-family:Menlo,'DejaVu Sans Mono',consolas,'Courier New',monospace\">Eval num_timesteps=160000, episode_reward=6.78 +/- 2.11\n",
       "</pre>\n"
      ],
      "text/plain": [
       "Eval num_timesteps=160000, episode_reward=6.78 +/- 2.11\n"
      ]
     },
     "metadata": {},
     "output_type": "display_data"
    },
    {
     "data": {
      "text/html": [
       "<pre style=\"white-space:pre;overflow-x:auto;line-height:normal;font-family:Menlo,'DejaVu Sans Mono',consolas,'Courier New',monospace\">Episode length: 529.24 +/- 109.73\n",
       "</pre>\n"
      ],
      "text/plain": [
       "Episode length: 529.24 +/- 109.73\n"
      ]
     },
     "metadata": {},
     "output_type": "display_data"
    },
    {
     "data": {
      "text/html": [
       "<pre style=\"white-space:pre;overflow-x:auto;line-height:normal;font-family:Menlo,'DejaVu Sans Mono',consolas,'Courier New',monospace\">Eval num_timesteps=165000, episode_reward=6.64 +/- 2.08\n",
       "</pre>\n"
      ],
      "text/plain": [
       "Eval num_timesteps=165000, episode_reward=6.64 +/- 2.08\n"
      ]
     },
     "metadata": {},
     "output_type": "display_data"
    },
    {
     "data": {
      "text/html": [
       "<pre style=\"white-space:pre;overflow-x:auto;line-height:normal;font-family:Menlo,'DejaVu Sans Mono',consolas,'Courier New',monospace\">Episode length: 521.88 +/- 100.28\n",
       "</pre>\n"
      ],
      "text/plain": [
       "Episode length: 521.88 +/- 100.28\n"
      ]
     },
     "metadata": {},
     "output_type": "display_data"
    },
    {
     "data": {
      "text/html": [
       "<pre style=\"white-space:pre;overflow-x:auto;line-height:normal;font-family:Menlo,'DejaVu Sans Mono',consolas,'Courier New',monospace\">Eval num_timesteps=170000, episode_reward=6.50 +/- 1.97\n",
       "</pre>\n"
      ],
      "text/plain": [
       "Eval num_timesteps=170000, episode_reward=6.50 +/- 1.97\n"
      ]
     },
     "metadata": {},
     "output_type": "display_data"
    },
    {
     "data": {
      "text/html": [
       "<pre style=\"white-space:pre;overflow-x:auto;line-height:normal;font-family:Menlo,'DejaVu Sans Mono',consolas,'Courier New',monospace\">Episode length: 515.66 +/- 93.98\n",
       "</pre>\n"
      ],
      "text/plain": [
       "Episode length: 515.66 +/- 93.98\n"
      ]
     },
     "metadata": {},
     "output_type": "display_data"
    },
    {
     "data": {
      "text/html": [
       "<pre style=\"white-space:pre;overflow-x:auto;line-height:normal;font-family:Menlo,'DejaVu Sans Mono',consolas,'Courier New',monospace\">Eval num_timesteps=175000, episode_reward=6.40 +/- 2.79\n",
       "</pre>\n"
      ],
      "text/plain": [
       "Eval num_timesteps=175000, episode_reward=6.40 +/- 2.79\n"
      ]
     },
     "metadata": {},
     "output_type": "display_data"
    },
    {
     "data": {
      "text/html": [
       "<pre style=\"white-space:pre;overflow-x:auto;line-height:normal;font-family:Menlo,'DejaVu Sans Mono',consolas,'Courier New',monospace\">Episode length: 502.66 +/- 116.69\n",
       "</pre>\n"
      ],
      "text/plain": [
       "Episode length: 502.66 +/- 116.69\n"
      ]
     },
     "metadata": {},
     "output_type": "display_data"
    },
    {
     "data": {
      "text/html": [
       "<pre style=\"white-space:pre;overflow-x:auto;line-height:normal;font-family:Menlo,'DejaVu Sans Mono',consolas,'Courier New',monospace\">Eval num_timesteps=180000, episode_reward=7.40 +/- 2.64\n",
       "</pre>\n"
      ],
      "text/plain": [
       "Eval num_timesteps=180000, episode_reward=7.40 +/- 2.64\n"
      ]
     },
     "metadata": {},
     "output_type": "display_data"
    },
    {
     "data": {
      "text/html": [
       "<pre style=\"white-space:pre;overflow-x:auto;line-height:normal;font-family:Menlo,'DejaVu Sans Mono',consolas,'Courier New',monospace\">Episode length: 1260.98 +/- 4961.64\n",
       "</pre>\n"
      ],
      "text/plain": [
       "Episode length: 1260.98 +/- 4961.64\n"
      ]
     },
     "metadata": {},
     "output_type": "display_data"
    },
    {
     "data": {
      "text/html": [
       "<pre style=\"white-space:pre;overflow-x:auto;line-height:normal;font-family:Menlo,'DejaVu Sans Mono',consolas,'Courier New',monospace\">Eval num_timesteps=185000, episode_reward=8.84 +/- 2.37\n",
       "</pre>\n"
      ],
      "text/plain": [
       "Eval num_timesteps=185000, episode_reward=8.84 +/- 2.37\n"
      ]
     },
     "metadata": {},
     "output_type": "display_data"
    },
    {
     "data": {
      "text/html": [
       "<pre style=\"white-space:pre;overflow-x:auto;line-height:normal;font-family:Menlo,'DejaVu Sans Mono',consolas,'Courier New',monospace\">Episode length: 1345.80 +/- 4949.49\n",
       "</pre>\n"
      ],
      "text/plain": [
       "Episode length: 1345.80 +/- 4949.49\n"
      ]
     },
     "metadata": {},
     "output_type": "display_data"
    },
    {
     "data": {
      "text/html": [
       "<pre style=\"white-space:pre;overflow-x:auto;line-height:normal;font-family:Menlo,'DejaVu Sans Mono',consolas,'Courier New',monospace\">New best mean reward!\n",
       "</pre>\n"
      ],
      "text/plain": [
       "New best mean reward!\n"
      ]
     },
     "metadata": {},
     "output_type": "display_data"
    },
    {
     "data": {
      "text/html": [
       "<pre style=\"white-space:pre;overflow-x:auto;line-height:normal;font-family:Menlo,'DejaVu Sans Mono',consolas,'Courier New',monospace\">Eval num_timesteps=190000, episode_reward=6.72 +/- 1.76\n",
       "</pre>\n"
      ],
      "text/plain": [
       "Eval num_timesteps=190000, episode_reward=6.72 +/- 1.76\n"
      ]
     },
     "metadata": {},
     "output_type": "display_data"
    },
    {
     "data": {
      "text/html": [
       "<pre style=\"white-space:pre;overflow-x:auto;line-height:normal;font-family:Menlo,'DejaVu Sans Mono',consolas,'Courier New',monospace\">Episode length: 526.94 +/- 84.06\n",
       "</pre>\n"
      ],
      "text/plain": [
       "Episode length: 526.94 +/- 84.06\n"
      ]
     },
     "metadata": {},
     "output_type": "display_data"
    },
    {
     "data": {
      "text/html": [
       "<pre style=\"white-space:pre;overflow-x:auto;line-height:normal;font-family:Menlo,'DejaVu Sans Mono',consolas,'Courier New',monospace\">Eval num_timesteps=195000, episode_reward=7.96 +/- 2.75\n",
       "</pre>\n"
      ],
      "text/plain": [
       "Eval num_timesteps=195000, episode_reward=7.96 +/- 2.75\n"
      ]
     },
     "metadata": {},
     "output_type": "display_data"
    },
    {
     "data": {
      "text/html": [
       "<pre style=\"white-space:pre;overflow-x:auto;line-height:normal;font-family:Menlo,'DejaVu Sans Mono',consolas,'Courier New',monospace\">Eval num_timesteps=200000, episode_reward=6.20 +/- 1.65\n",
       "</pre>\n"
      ],
      "text/plain": [
       "Eval num_timesteps=200000, episode_reward=6.20 +/- 1.65\n"
      ]
     },
     "metadata": {},
     "output_type": "display_data"
    },
    {
     "data": {
      "text/html": [
       "<pre style=\"white-space:pre;overflow-x:auto;line-height:normal;font-family:Menlo,'DejaVu Sans Mono',consolas,'Courier New',monospace\">Episode length: 504.06 +/- 76.26\n",
       "</pre>\n"
      ],
      "text/plain": [
       "Episode length: 504.06 +/- 76.26\n"
      ]
     },
     "metadata": {},
     "output_type": "display_data"
    },
    {
     "data": {
      "text/html": [
       "<pre style=\"white-space:pre;overflow-x:auto;line-height:normal;font-family:Menlo,'DejaVu Sans Mono',consolas,'Courier New',monospace\">Eval num_timesteps=205000, episode_reward=8.46 +/- 2.54\n",
       "</pre>\n"
      ],
      "text/plain": [
       "Eval num_timesteps=205000, episode_reward=8.46 +/- 2.54\n"
      ]
     },
     "metadata": {},
     "output_type": "display_data"
    },
    {
     "data": {
      "text/html": [
       "<pre style=\"white-space:pre;overflow-x:auto;line-height:normal;font-family:Menlo,'DejaVu Sans Mono',consolas,'Courier New',monospace\">Episode length: 612.06 +/- 115.03\n",
       "</pre>\n"
      ],
      "text/plain": [
       "Episode length: 612.06 +/- 115.03\n"
      ]
     },
     "metadata": {},
     "output_type": "display_data"
    },
    {
     "data": {
      "text/html": [
       "<pre style=\"white-space:pre;overflow-x:auto;line-height:normal;font-family:Menlo,'DejaVu Sans Mono',consolas,'Courier New',monospace\">Eval num_timesteps=210000, episode_reward=8.84 +/- 2.62\n",
       "</pre>\n"
      ],
      "text/plain": [
       "Eval num_timesteps=210000, episode_reward=8.84 +/- 2.62\n"
      ]
     },
     "metadata": {},
     "output_type": "display_data"
    },
    {
     "data": {
      "text/html": [
       "<pre style=\"white-space:pre;overflow-x:auto;line-height:normal;font-family:Menlo,'DejaVu Sans Mono',consolas,'Courier New',monospace\">Episode length: 1332.64 +/- 4949.77\n",
       "</pre>\n"
      ],
      "text/plain": [
       "Episode length: 1332.64 +/- 4949.77\n"
      ]
     },
     "metadata": {},
     "output_type": "display_data"
    },
    {
     "data": {
      "text/html": [
       "<pre style=\"white-space:pre;overflow-x:auto;line-height:normal;font-family:Menlo,'DejaVu Sans Mono',consolas,'Courier New',monospace\">Eval num_timesteps=215000, episode_reward=8.10 +/- 2.50\n",
       "</pre>\n"
      ],
      "text/plain": [
       "Eval num_timesteps=215000, episode_reward=8.10 +/- 2.50\n"
      ]
     },
     "metadata": {},
     "output_type": "display_data"
    },
    {
     "data": {
      "text/html": [
       "<pre style=\"white-space:pre;overflow-x:auto;line-height:normal;font-family:Menlo,'DejaVu Sans Mono',consolas,'Courier New',monospace\">Episode length: 586.70 +/- 110.68\n",
       "</pre>\n"
      ],
      "text/plain": [
       "Episode length: 586.70 +/- 110.68\n"
      ]
     },
     "metadata": {},
     "output_type": "display_data"
    },
    {
     "data": {
      "text/html": [
       "<pre style=\"white-space:pre;overflow-x:auto;line-height:normal;font-family:Menlo,'DejaVu Sans Mono',consolas,'Courier New',monospace\">Eval num_timesteps=220000, episode_reward=8.30 +/- 2.19\n",
       "</pre>\n"
      ],
      "text/plain": [
       "Eval num_timesteps=220000, episode_reward=8.30 +/- 2.19\n"
      ]
     },
     "metadata": {},
     "output_type": "display_data"
    },
    {
     "data": {
      "text/html": [
       "<pre style=\"white-space:pre;overflow-x:auto;line-height:normal;font-family:Menlo,'DejaVu Sans Mono',consolas,'Courier New',monospace\">Episode length: 609.66 +/- 110.34\n",
       "</pre>\n"
      ],
      "text/plain": [
       "Episode length: 609.66 +/- 110.34\n"
      ]
     },
     "metadata": {},
     "output_type": "display_data"
    },
    {
     "data": {
      "text/html": [
       "<pre style=\"white-space:pre;overflow-x:auto;line-height:normal;font-family:Menlo,'DejaVu Sans Mono',consolas,'Courier New',monospace\">Eval num_timesteps=225000, episode_reward=8.34 +/- 2.89\n",
       "</pre>\n"
      ],
      "text/plain": [
       "Eval num_timesteps=225000, episode_reward=8.34 +/- 2.89\n"
      ]
     },
     "metadata": {},
     "output_type": "display_data"
    },
    {
     "data": {
      "text/html": [
       "<pre style=\"white-space:pre;overflow-x:auto;line-height:normal;font-family:Menlo,'DejaVu Sans Mono',consolas,'Courier New',monospace\">Episode length: 597.10 +/- 118.93\n",
       "</pre>\n"
      ],
      "text/plain": [
       "Episode length: 597.10 +/- 118.93\n"
      ]
     },
     "metadata": {},
     "output_type": "display_data"
    },
    {
     "data": {
      "text/html": [
       "<pre style=\"white-space:pre;overflow-x:auto;line-height:normal;font-family:Menlo,'DejaVu Sans Mono',consolas,'Courier New',monospace\">Eval num_timesteps=230000, episode_reward=6.78 +/- 2.33\n",
       "</pre>\n"
      ],
      "text/plain": [
       "Eval num_timesteps=230000, episode_reward=6.78 +/- 2.33\n"
      ]
     },
     "metadata": {},
     "output_type": "display_data"
    },
    {
     "data": {
      "text/html": [
       "<pre style=\"white-space:pre;overflow-x:auto;line-height:normal;font-family:Menlo,'DejaVu Sans Mono',consolas,'Courier New',monospace\">Episode length: 530.00 +/- 104.52\n",
       "</pre>\n"
      ],
      "text/plain": [
       "Episode length: 530.00 +/- 104.52\n"
      ]
     },
     "metadata": {},
     "output_type": "display_data"
    },
    {
     "data": {
      "text/html": [
       "<pre style=\"white-space:pre;overflow-x:auto;line-height:normal;font-family:Menlo,'DejaVu Sans Mono',consolas,'Courier New',monospace\">Eval num_timesteps=235000, episode_reward=8.86 +/- 3.33\n",
       "</pre>\n"
      ],
      "text/plain": [
       "Eval num_timesteps=235000, episode_reward=8.86 +/- 3.33\n"
      ]
     },
     "metadata": {},
     "output_type": "display_data"
    },
    {
     "data": {
      "text/html": [
       "<pre style=\"white-space:pre;overflow-x:auto;line-height:normal;font-family:Menlo,'DejaVu Sans Mono',consolas,'Courier New',monospace\">Episode length: 600.18 +/- 123.72\n",
       "</pre>\n"
      ],
      "text/plain": [
       "Episode length: 600.18 +/- 123.72\n"
      ]
     },
     "metadata": {},
     "output_type": "display_data"
    },
    {
     "data": {
      "text/html": [
       "<pre style=\"white-space:pre;overflow-x:auto;line-height:normal;font-family:Menlo,'DejaVu Sans Mono',consolas,'Courier New',monospace\">New best mean reward!\n",
       "</pre>\n"
      ],
      "text/plain": [
       "New best mean reward!\n"
      ]
     },
     "metadata": {},
     "output_type": "display_data"
    },
    {
     "data": {
      "text/html": [
       "<pre style=\"white-space:pre;overflow-x:auto;line-height:normal;font-family:Menlo,'DejaVu Sans Mono',consolas,'Courier New',monospace\">Eval num_timesteps=240000, episode_reward=9.10 +/- 2.94\n",
       "</pre>\n"
      ],
      "text/plain": [
       "Eval num_timesteps=240000, episode_reward=9.10 +/- 2.94\n"
      ]
     },
     "metadata": {},
     "output_type": "display_data"
    },
    {
     "data": {
      "text/html": [
       "<pre style=\"white-space:pre;overflow-x:auto;line-height:normal;font-family:Menlo,'DejaVu Sans Mono',consolas,'Courier New',monospace\">Episode length: 620.44 +/- 118.81\n",
       "</pre>\n"
      ],
      "text/plain": [
       "Episode length: 620.44 +/- 118.81\n"
      ]
     },
     "metadata": {},
     "output_type": "display_data"
    },
    {
     "data": {
      "text/html": [
       "<pre style=\"white-space:pre;overflow-x:auto;line-height:normal;font-family:Menlo,'DejaVu Sans Mono',consolas,'Courier New',monospace\">New best mean reward!\n",
       "</pre>\n"
      ],
      "text/plain": [
       "New best mean reward!\n"
      ]
     },
     "metadata": {},
     "output_type": "display_data"
    },
    {
     "data": {
      "text/html": [
       "<pre style=\"white-space:pre;overflow-x:auto;line-height:normal;font-family:Menlo,'DejaVu Sans Mono',consolas,'Courier New',monospace\">Eval num_timesteps=245000, episode_reward=8.74 +/- 2.30\n",
       "</pre>\n"
      ],
      "text/plain": [
       "Eval num_timesteps=245000, episode_reward=8.74 +/- 2.30\n"
      ]
     },
     "metadata": {},
     "output_type": "display_data"
    },
    {
     "data": {
      "text/html": [
       "<pre style=\"white-space:pre;overflow-x:auto;line-height:normal;font-family:Menlo,'DejaVu Sans Mono',consolas,'Courier New',monospace\">Episode length: 623.76 +/- 110.53\n",
       "</pre>\n"
      ],
      "text/plain": [
       "Episode length: 623.76 +/- 110.53\n"
      ]
     },
     "metadata": {},
     "output_type": "display_data"
    },
    {
     "data": {
      "text/html": [
       "<pre style=\"white-space:pre;overflow-x:auto;line-height:normal;font-family:Menlo,'DejaVu Sans Mono',consolas,'Courier New',monospace\">Eval num_timesteps=250000, episode_reward=7.98 +/- 2.70\n",
       "</pre>\n"
      ],
      "text/plain": [
       "Eval num_timesteps=250000, episode_reward=7.98 +/- 2.70\n"
      ]
     },
     "metadata": {},
     "output_type": "display_data"
    },
    {
     "data": {
      "text/html": [
       "<pre style=\"white-space:pre;overflow-x:auto;line-height:normal;font-family:Menlo,'DejaVu Sans Mono',consolas,'Courier New',monospace\">Episode length: 580.96 +/- 123.07\n",
       "</pre>\n"
      ],
      "text/plain": [
       "Episode length: 580.96 +/- 123.07\n"
      ]
     },
     "metadata": {},
     "output_type": "display_data"
    },
    {
     "data": {
      "text/html": [
       "<pre style=\"white-space:pre;overflow-x:auto;line-height:normal;font-family:Menlo,'DejaVu Sans Mono',consolas,'Courier New',monospace\">Episode length: 628.32 +/- 111.06\n",
       "</pre>\n"
      ],
      "text/plain": [
       "Episode length: 628.32 +/- 111.06\n"
      ]
     },
     "metadata": {},
     "output_type": "display_data"
    },
    {
     "data": {
      "text/html": [
       "<pre style=\"white-space:pre;overflow-x:auto;line-height:normal;font-family:Menlo,'DejaVu Sans Mono',consolas,'Courier New',monospace\">Eval num_timesteps=260000, episode_reward=5.62 +/- 1.86\n",
       "</pre>\n"
      ],
      "text/plain": [
       "Eval num_timesteps=260000, episode_reward=5.62 +/- 1.86\n"
      ]
     },
     "metadata": {},
     "output_type": "display_data"
    },
    {
     "data": {
      "text/html": [
       "<pre style=\"white-space:pre;overflow-x:auto;line-height:normal;font-family:Menlo,'DejaVu Sans Mono',consolas,'Courier New',monospace\">Episode length: 464.90 +/- 81.00\n",
       "</pre>\n"
      ],
      "text/plain": [
       "Episode length: 464.90 +/- 81.00\n"
      ]
     },
     "metadata": {},
     "output_type": "display_data"
    },
    {
     "data": {
      "text/html": [
       "<pre style=\"white-space:pre;overflow-x:auto;line-height:normal;font-family:Menlo,'DejaVu Sans Mono',consolas,'Courier New',monospace\">Eval num_timesteps=265000, episode_reward=9.30 +/- 3.23\n",
       "</pre>\n"
      ],
      "text/plain": [
       "Eval num_timesteps=265000, episode_reward=9.30 +/- 3.23\n"
      ]
     },
     "metadata": {},
     "output_type": "display_data"
    },
    {
     "data": {
      "text/html": [
       "<pre style=\"white-space:pre;overflow-x:auto;line-height:normal;font-family:Menlo,'DejaVu Sans Mono',consolas,'Courier New',monospace\">Episode length: 623.66 +/- 131.33\n",
       "</pre>\n"
      ],
      "text/plain": [
       "Episode length: 623.66 +/- 131.33\n"
      ]
     },
     "metadata": {},
     "output_type": "display_data"
    },
    {
     "data": {
      "text/html": [
       "<pre style=\"white-space:pre;overflow-x:auto;line-height:normal;font-family:Menlo,'DejaVu Sans Mono',consolas,'Courier New',monospace\">New best mean reward!\n",
       "</pre>\n"
      ],
      "text/plain": [
       "New best mean reward!\n"
      ]
     },
     "metadata": {},
     "output_type": "display_data"
    },
    {
     "data": {
      "text/html": [
       "<pre style=\"white-space:pre;overflow-x:auto;line-height:normal;font-family:Menlo,'DejaVu Sans Mono',consolas,'Courier New',monospace\">Eval num_timesteps=270000, episode_reward=8.82 +/- 2.50\n",
       "</pre>\n"
      ],
      "text/plain": [
       "Eval num_timesteps=270000, episode_reward=8.82 +/- 2.50\n"
      ]
     },
     "metadata": {},
     "output_type": "display_data"
    },
    {
     "data": {
      "text/html": [
       "<pre style=\"white-space:pre;overflow-x:auto;line-height:normal;font-family:Menlo,'DejaVu Sans Mono',consolas,'Courier New',monospace\">Episode length: 624.36 +/- 128.14\n",
       "</pre>\n"
      ],
      "text/plain": [
       "Episode length: 624.36 +/- 128.14\n"
      ]
     },
     "metadata": {},
     "output_type": "display_data"
    },
    {
     "data": {
      "text/html": [
       "<pre style=\"white-space:pre;overflow-x:auto;line-height:normal;font-family:Menlo,'DejaVu Sans Mono',consolas,'Courier New',monospace\">Eval num_timesteps=275000, episode_reward=8.90 +/- 2.48\n",
       "</pre>\n"
      ],
      "text/plain": [
       "Eval num_timesteps=275000, episode_reward=8.90 +/- 2.48\n"
      ]
     },
     "metadata": {},
     "output_type": "display_data"
    },
    {
     "data": {
      "text/html": [
       "<pre style=\"white-space:pre;overflow-x:auto;line-height:normal;font-family:Menlo,'DejaVu Sans Mono',consolas,'Courier New',monospace\">Episode length: 609.74 +/- 98.63\n",
       "</pre>\n"
      ],
      "text/plain": [
       "Episode length: 609.74 +/- 98.63\n"
      ]
     },
     "metadata": {},
     "output_type": "display_data"
    },
    {
     "data": {
      "text/html": [
       "<pre style=\"white-space:pre;overflow-x:auto;line-height:normal;font-family:Menlo,'DejaVu Sans Mono',consolas,'Courier New',monospace\">Eval num_timesteps=280000, episode_reward=9.74 +/- 3.93\n",
       "</pre>\n"
      ],
      "text/plain": [
       "Eval num_timesteps=280000, episode_reward=9.74 +/- 3.93\n"
      ]
     },
     "metadata": {},
     "output_type": "display_data"
    },
    {
     "data": {
      "text/html": [
       "<pre style=\"white-space:pre;overflow-x:auto;line-height:normal;font-family:Menlo,'DejaVu Sans Mono',consolas,'Courier New',monospace\">Episode length: 652.24 +/- 137.78\n",
       "</pre>\n"
      ],
      "text/plain": [
       "Episode length: 652.24 +/- 137.78\n"
      ]
     },
     "metadata": {},
     "output_type": "display_data"
    },
    {
     "data": {
      "text/html": [
       "<pre style=\"white-space:pre;overflow-x:auto;line-height:normal;font-family:Menlo,'DejaVu Sans Mono',consolas,'Courier New',monospace\">New best mean reward!\n",
       "</pre>\n"
      ],
      "text/plain": [
       "New best mean reward!\n"
      ]
     },
     "metadata": {},
     "output_type": "display_data"
    },
    {
     "data": {
      "text/html": [
       "<pre style=\"white-space:pre;overflow-x:auto;line-height:normal;font-family:Menlo,'DejaVu Sans Mono',consolas,'Courier New',monospace\">Eval num_timesteps=285000, episode_reward=11.08 +/- 3.92\n",
       "</pre>\n"
      ],
      "text/plain": [
       "Eval num_timesteps=285000, episode_reward=11.08 +/- 3.92\n"
      ]
     },
     "metadata": {},
     "output_type": "display_data"
    },
    {
     "data": {
      "text/html": [
       "<pre style=\"white-space:pre;overflow-x:auto;line-height:normal;font-family:Menlo,'DejaVu Sans Mono',consolas,'Courier New',monospace\">Episode length: 701.10 +/- 153.87\n",
       "</pre>\n"
      ],
      "text/plain": [
       "Episode length: 701.10 +/- 153.87\n"
      ]
     },
     "metadata": {},
     "output_type": "display_data"
    },
    {
     "data": {
      "text/html": [
       "<pre style=\"white-space:pre;overflow-x:auto;line-height:normal;font-family:Menlo,'DejaVu Sans Mono',consolas,'Courier New',monospace\">New best mean reward!\n",
       "</pre>\n"
      ],
      "text/plain": [
       "New best mean reward!\n"
      ]
     },
     "metadata": {},
     "output_type": "display_data"
    },
    {
     "data": {
      "text/html": [
       "<pre style=\"white-space:pre;overflow-x:auto;line-height:normal;font-family:Menlo,'DejaVu Sans Mono',consolas,'Courier New',monospace\">Eval num_timesteps=290000, episode_reward=8.22 +/- 3.05\n",
       "</pre>\n"
      ],
      "text/plain": [
       "Eval num_timesteps=290000, episode_reward=8.22 +/- 3.05\n"
      ]
     },
     "metadata": {},
     "output_type": "display_data"
    },
    {
     "data": {
      "text/html": [
       "<pre style=\"white-space:pre;overflow-x:auto;line-height:normal;font-family:Menlo,'DejaVu Sans Mono',consolas,'Courier New',monospace\">Episode length: 586.44 +/- 128.95\n",
       "</pre>\n"
      ],
      "text/plain": [
       "Episode length: 586.44 +/- 128.95\n"
      ]
     },
     "metadata": {},
     "output_type": "display_data"
    },
    {
     "data": {
      "text/html": [
       "<pre style=\"white-space:pre;overflow-x:auto;line-height:normal;font-family:Menlo,'DejaVu Sans Mono',consolas,'Courier New',monospace\">Eval num_timesteps=295000, episode_reward=7.66 +/- 2.76\n",
       "</pre>\n"
      ],
      "text/plain": [
       "Eval num_timesteps=295000, episode_reward=7.66 +/- 2.76\n"
      ]
     },
     "metadata": {},
     "output_type": "display_data"
    },
    {
     "data": {
      "text/html": [
       "<pre style=\"white-space:pre;overflow-x:auto;line-height:normal;font-family:Menlo,'DejaVu Sans Mono',consolas,'Courier New',monospace\">Episode length: 571.10 +/- 138.35\n",
       "</pre>\n"
      ],
      "text/plain": [
       "Episode length: 571.10 +/- 138.35\n"
      ]
     },
     "metadata": {},
     "output_type": "display_data"
    },
    {
     "data": {
      "text/html": [
       "<pre style=\"white-space:pre;overflow-x:auto;line-height:normal;font-family:Menlo,'DejaVu Sans Mono',consolas,'Courier New',monospace\">Eval num_timesteps=300000, episode_reward=8.84 +/- 2.72\n",
       "</pre>\n"
      ],
      "text/plain": [
       "Eval num_timesteps=300000, episode_reward=8.84 +/- 2.72\n"
      ]
     },
     "metadata": {},
     "output_type": "display_data"
    },
    {
     "data": {
      "text/html": [
       "<pre style=\"white-space:pre;overflow-x:auto;line-height:normal;font-family:Menlo,'DejaVu Sans Mono',consolas,'Courier New',monospace\">Episode length: 632.48 +/- 115.89\n",
       "</pre>\n"
      ],
      "text/plain": [
       "Episode length: 632.48 +/- 115.89\n"
      ]
     },
     "metadata": {},
     "output_type": "display_data"
    },
    {
     "data": {
      "text/html": [
       "<pre style=\"white-space:pre;overflow-x:auto;line-height:normal;font-family:Menlo,'DejaVu Sans Mono',consolas,'Courier New',monospace\">Eval num_timesteps=305000, episode_reward=8.20 +/- 2.81\n",
       "</pre>\n"
      ],
      "text/plain": [
       "Eval num_timesteps=305000, episode_reward=8.20 +/- 2.81\n"
      ]
     },
     "metadata": {},
     "output_type": "display_data"
    },
    {
     "data": {
      "text/html": [
       "<pre style=\"white-space:pre;overflow-x:auto;line-height:normal;font-family:Menlo,'DejaVu Sans Mono',consolas,'Courier New',monospace\">Episode length: 590.24 +/- 122.79\n",
       "</pre>\n"
      ],
      "text/plain": [
       "Episode length: 590.24 +/- 122.79\n"
      ]
     },
     "metadata": {},
     "output_type": "display_data"
    },
    {
     "data": {
      "text/html": [
       "<pre style=\"white-space:pre;overflow-x:auto;line-height:normal;font-family:Menlo,'DejaVu Sans Mono',consolas,'Courier New',monospace\">Eval num_timesteps=310000, episode_reward=9.46 +/- 3.42\n",
       "</pre>\n"
      ],
      "text/plain": [
       "Eval num_timesteps=310000, episode_reward=9.46 +/- 3.42\n"
      ]
     },
     "metadata": {},
     "output_type": "display_data"
    },
    {
     "data": {
      "text/html": [
       "<pre style=\"white-space:pre;overflow-x:auto;line-height:normal;font-family:Menlo,'DejaVu Sans Mono',consolas,'Courier New',monospace\">Episode length: 639.92 +/- 141.50\n",
       "</pre>\n"
      ],
      "text/plain": [
       "Episode length: 639.92 +/- 141.50\n"
      ]
     },
     "metadata": {},
     "output_type": "display_data"
    },
    {
     "data": {
      "text/html": [
       "<pre style=\"white-space:pre;overflow-x:auto;line-height:normal;font-family:Menlo,'DejaVu Sans Mono',consolas,'Courier New',monospace\">Eval num_timesteps=315000, episode_reward=8.42 +/- 2.68\n",
       "</pre>\n"
      ],
      "text/plain": [
       "Eval num_timesteps=315000, episode_reward=8.42 +/- 2.68\n"
      ]
     },
     "metadata": {},
     "output_type": "display_data"
    },
    {
     "data": {
      "text/html": [
       "<pre style=\"white-space:pre;overflow-x:auto;line-height:normal;font-family:Menlo,'DejaVu Sans Mono',consolas,'Courier New',monospace\">Episode length: 596.94 +/- 126.98\n",
       "</pre>\n"
      ],
      "text/plain": [
       "Episode length: 596.94 +/- 126.98\n"
      ]
     },
     "metadata": {},
     "output_type": "display_data"
    },
    {
     "data": {
      "text/html": [
       "<pre style=\"white-space:pre;overflow-x:auto;line-height:normal;font-family:Menlo,'DejaVu Sans Mono',consolas,'Courier New',monospace\">Eval num_timesteps=320000, episode_reward=8.44 +/- 2.82\n",
       "</pre>\n"
      ],
      "text/plain": [
       "Eval num_timesteps=320000, episode_reward=8.44 +/- 2.82\n"
      ]
     },
     "metadata": {},
     "output_type": "display_data"
    },
    {
     "data": {
      "text/html": [
       "<pre style=\"white-space:pre;overflow-x:auto;line-height:normal;font-family:Menlo,'DejaVu Sans Mono',consolas,'Courier New',monospace\">Episode length: 603.60 +/- 130.26\n",
       "</pre>\n"
      ],
      "text/plain": [
       "Episode length: 603.60 +/- 130.26\n"
      ]
     },
     "metadata": {},
     "output_type": "display_data"
    },
    {
     "data": {
      "text/html": [
       "<pre style=\"white-space:pre;overflow-x:auto;line-height:normal;font-family:Menlo,'DejaVu Sans Mono',consolas,'Courier New',monospace\">Eval num_timesteps=330000, episode_reward=9.58 +/- 4.24\n",
       "</pre>\n"
      ],
      "text/plain": [
       "Eval num_timesteps=330000, episode_reward=9.58 +/- 4.24\n"
      ]
     },
     "metadata": {},
     "output_type": "display_data"
    },
    {
     "data": {
      "text/html": [
       "<pre style=\"white-space:pre;overflow-x:auto;line-height:normal;font-family:Menlo,'DejaVu Sans Mono',consolas,'Courier New',monospace\">Episode length: 639.28 +/- 149.03\n",
       "</pre>\n"
      ],
      "text/plain": [
       "Episode length: 639.28 +/- 149.03\n"
      ]
     },
     "metadata": {},
     "output_type": "display_data"
    },
    {
     "data": {
      "text/html": [
       "<pre style=\"white-space:pre;overflow-x:auto;line-height:normal;font-family:Menlo,'DejaVu Sans Mono',consolas,'Courier New',monospace\">Eval num_timesteps=335000, episode_reward=9.88 +/- 3.60\n",
       "</pre>\n"
      ],
      "text/plain": [
       "Eval num_timesteps=335000, episode_reward=9.88 +/- 3.60\n"
      ]
     },
     "metadata": {},
     "output_type": "display_data"
    },
    {
     "data": {
      "text/html": [
       "<pre style=\"white-space:pre;overflow-x:auto;line-height:normal;font-family:Menlo,'DejaVu Sans Mono',consolas,'Courier New',monospace\">Episode length: 662.90 +/- 140.06\n",
       "</pre>\n"
      ],
      "text/plain": [
       "Episode length: 662.90 +/- 140.06\n"
      ]
     },
     "metadata": {},
     "output_type": "display_data"
    },
    {
     "data": {
      "text/html": [
       "<pre style=\"white-space:pre;overflow-x:auto;line-height:normal;font-family:Menlo,'DejaVu Sans Mono',consolas,'Courier New',monospace\">Eval num_timesteps=340000, episode_reward=9.82 +/- 3.58\n",
       "</pre>\n"
      ],
      "text/plain": [
       "Eval num_timesteps=340000, episode_reward=9.82 +/- 3.58\n"
      ]
     },
     "metadata": {},
     "output_type": "display_data"
    },
    {
     "data": {
      "text/html": [
       "<pre style=\"white-space:pre;overflow-x:auto;line-height:normal;font-family:Menlo,'DejaVu Sans Mono',consolas,'Courier New',monospace\">Episode length: 659.06 +/- 138.87\n",
       "</pre>\n"
      ],
      "text/plain": [
       "Episode length: 659.06 +/- 138.87\n"
      ]
     },
     "metadata": {},
     "output_type": "display_data"
    },
    {
     "data": {
      "text/html": [
       "<pre style=\"white-space:pre;overflow-x:auto;line-height:normal;font-family:Menlo,'DejaVu Sans Mono',consolas,'Courier New',monospace\">Eval num_timesteps=345000, episode_reward=9.84 +/- 3.43\n",
       "</pre>\n"
      ],
      "text/plain": [
       "Eval num_timesteps=345000, episode_reward=9.84 +/- 3.43\n"
      ]
     },
     "metadata": {},
     "output_type": "display_data"
    },
    {
     "data": {
      "text/html": [
       "<pre style=\"white-space:pre;overflow-x:auto;line-height:normal;font-family:Menlo,'DejaVu Sans Mono',consolas,'Courier New',monospace\">Episode length: 659.24 +/- 135.17\n",
       "</pre>\n"
      ],
      "text/plain": [
       "Episode length: 659.24 +/- 135.17\n"
      ]
     },
     "metadata": {},
     "output_type": "display_data"
    },
    {
     "data": {
      "text/html": [
       "<pre style=\"white-space:pre;overflow-x:auto;line-height:normal;font-family:Menlo,'DejaVu Sans Mono',consolas,'Courier New',monospace\">Eval num_timesteps=350000, episode_reward=10.14 +/- 3.57\n",
       "</pre>\n"
      ],
      "text/plain": [
       "Eval num_timesteps=350000, episode_reward=10.14 +/- 3.57\n"
      ]
     },
     "metadata": {},
     "output_type": "display_data"
    },
    {
     "data": {
      "text/html": [
       "<pre style=\"white-space:pre;overflow-x:auto;line-height:normal;font-family:Menlo,'DejaVu Sans Mono',consolas,'Courier New',monospace\">Episode length: 671.96 +/- 148.26\n",
       "</pre>\n"
      ],
      "text/plain": [
       "Episode length: 671.96 +/- 148.26\n"
      ]
     },
     "metadata": {},
     "output_type": "display_data"
    },
    {
     "data": {
      "text/html": [
       "<pre style=\"white-space:pre;overflow-x:auto;line-height:normal;font-family:Menlo,'DejaVu Sans Mono',consolas,'Courier New',monospace\">Eval num_timesteps=355000, episode_reward=10.54 +/- 4.02\n",
       "</pre>\n"
      ],
      "text/plain": [
       "Eval num_timesteps=355000, episode_reward=10.54 +/- 4.02\n"
      ]
     },
     "metadata": {},
     "output_type": "display_data"
    },
    {
     "data": {
      "text/html": [
       "<pre style=\"white-space:pre;overflow-x:auto;line-height:normal;font-family:Menlo,'DejaVu Sans Mono',consolas,'Courier New',monospace\">Episode length: 690.28 +/- 146.07\n",
       "</pre>\n"
      ],
      "text/plain": [
       "Episode length: 690.28 +/- 146.07\n"
      ]
     },
     "metadata": {},
     "output_type": "display_data"
    },
    {
     "data": {
      "text/html": [
       "<pre style=\"white-space:pre;overflow-x:auto;line-height:normal;font-family:Menlo,'DejaVu Sans Mono',consolas,'Courier New',monospace\">Eval num_timesteps=360000, episode_reward=10.42 +/- 2.99\n",
       "</pre>\n"
      ],
      "text/plain": [
       "Eval num_timesteps=360000, episode_reward=10.42 +/- 2.99\n"
      ]
     },
     "metadata": {},
     "output_type": "display_data"
    },
    {
     "data": {
      "text/html": [
       "<pre style=\"white-space:pre;overflow-x:auto;line-height:normal;font-family:Menlo,'DejaVu Sans Mono',consolas,'Courier New',monospace\">Episode length: 678.76 +/- 129.17\n",
       "</pre>\n"
      ],
      "text/plain": [
       "Episode length: 678.76 +/- 129.17\n"
      ]
     },
     "metadata": {},
     "output_type": "display_data"
    },
    {
     "data": {
      "text/html": [
       "<pre style=\"white-space:pre;overflow-x:auto;line-height:normal;font-family:Menlo,'DejaVu Sans Mono',consolas,'Courier New',monospace\">Eval num_timesteps=365000, episode_reward=9.34 +/- 3.29\n",
       "</pre>\n"
      ],
      "text/plain": [
       "Eval num_timesteps=365000, episode_reward=9.34 +/- 3.29\n"
      ]
     },
     "metadata": {},
     "output_type": "display_data"
    },
    {
     "data": {
      "text/html": [
       "<pre style=\"white-space:pre;overflow-x:auto;line-height:normal;font-family:Menlo,'DejaVu Sans Mono',consolas,'Courier New',monospace\">Episode length: 641.10 +/- 143.44\n",
       "</pre>\n"
      ],
      "text/plain": [
       "Episode length: 641.10 +/- 143.44\n"
      ]
     },
     "metadata": {},
     "output_type": "display_data"
    },
    {
     "data": {
      "text/html": [
       "<pre style=\"white-space:pre;overflow-x:auto;line-height:normal;font-family:Menlo,'DejaVu Sans Mono',consolas,'Courier New',monospace\">Eval num_timesteps=370000, episode_reward=10.30 +/- 3.15\n",
       "</pre>\n"
      ],
      "text/plain": [
       "Eval num_timesteps=370000, episode_reward=10.30 +/- 3.15\n"
      ]
     },
     "metadata": {},
     "output_type": "display_data"
    },
    {
     "data": {
      "text/html": [
       "<pre style=\"white-space:pre;overflow-x:auto;line-height:normal;font-family:Menlo,'DejaVu Sans Mono',consolas,'Courier New',monospace\">Episode length: 666.72 +/- 134.28\n",
       "</pre>\n"
      ],
      "text/plain": [
       "Episode length: 666.72 +/- 134.28\n"
      ]
     },
     "metadata": {},
     "output_type": "display_data"
    },
    {
     "data": {
      "text/html": [
       "<pre style=\"white-space:pre;overflow-x:auto;line-height:normal;font-family:Menlo,'DejaVu Sans Mono',consolas,'Courier New',monospace\">Eval num_timesteps=375000, episode_reward=11.36 +/- 3.71\n",
       "</pre>\n"
      ],
      "text/plain": [
       "Eval num_timesteps=375000, episode_reward=11.36 +/- 3.71\n"
      ]
     },
     "metadata": {},
     "output_type": "display_data"
    },
    {
     "data": {
      "text/html": [
       "<pre style=\"white-space:pre;overflow-x:auto;line-height:normal;font-family:Menlo,'DejaVu Sans Mono',consolas,'Courier New',monospace\">Episode length: 723.86 +/- 145.12\n",
       "</pre>\n"
      ],
      "text/plain": [
       "Episode length: 723.86 +/- 145.12\n"
      ]
     },
     "metadata": {},
     "output_type": "display_data"
    },
    {
     "data": {
      "text/html": [
       "<pre style=\"white-space:pre;overflow-x:auto;line-height:normal;font-family:Menlo,'DejaVu Sans Mono',consolas,'Courier New',monospace\">New best mean reward!\n",
       "</pre>\n"
      ],
      "text/plain": [
       "New best mean reward!\n"
      ]
     },
     "metadata": {},
     "output_type": "display_data"
    },
    {
     "data": {
      "text/html": [
       "<pre style=\"white-space:pre;overflow-x:auto;line-height:normal;font-family:Menlo,'DejaVu Sans Mono',consolas,'Courier New',monospace\">Eval num_timesteps=380000, episode_reward=10.48 +/- 3.74\n",
       "</pre>\n"
      ],
      "text/plain": [
       "Eval num_timesteps=380000, episode_reward=10.48 +/- 3.74\n"
      ]
     },
     "metadata": {},
     "output_type": "display_data"
    },
    {
     "data": {
      "text/html": [
       "<pre style=\"white-space:pre;overflow-x:auto;line-height:normal;font-family:Menlo,'DejaVu Sans Mono',consolas,'Courier New',monospace\">Episode length: 680.10 +/- 146.29\n",
       "</pre>\n"
      ],
      "text/plain": [
       "Episode length: 680.10 +/- 146.29\n"
      ]
     },
     "metadata": {},
     "output_type": "display_data"
    },
    {
     "data": {
      "text/html": [
       "<pre style=\"white-space:pre;overflow-x:auto;line-height:normal;font-family:Menlo,'DejaVu Sans Mono',consolas,'Courier New',monospace\">Eval num_timesteps=385000, episode_reward=10.46 +/- 4.11\n",
       "</pre>\n"
      ],
      "text/plain": [
       "Eval num_timesteps=385000, episode_reward=10.46 +/- 4.11\n"
      ]
     },
     "metadata": {},
     "output_type": "display_data"
    },
    {
     "data": {
      "text/html": [
       "<pre style=\"white-space:pre;overflow-x:auto;line-height:normal;font-family:Menlo,'DejaVu Sans Mono',consolas,'Courier New',monospace\">Episode length: 676.14 +/- 168.87\n",
       "</pre>\n"
      ],
      "text/plain": [
       "Episode length: 676.14 +/- 168.87\n"
      ]
     },
     "metadata": {},
     "output_type": "display_data"
    },
    {
     "data": {
      "text/html": [
       "<pre style=\"white-space:pre;overflow-x:auto;line-height:normal;font-family:Menlo,'DejaVu Sans Mono',consolas,'Courier New',monospace\">Eval num_timesteps=390000, episode_reward=10.00 +/- 3.92\n",
       "</pre>\n"
      ],
      "text/plain": [
       "Eval num_timesteps=390000, episode_reward=10.00 +/- 3.92\n"
      ]
     },
     "metadata": {},
     "output_type": "display_data"
    },
    {
     "data": {
      "text/html": [
       "<pre style=\"white-space:pre;overflow-x:auto;line-height:normal;font-family:Menlo,'DejaVu Sans Mono',consolas,'Courier New',monospace\">Episode length: 664.88 +/- 147.41\n",
       "</pre>\n"
      ],
      "text/plain": [
       "Episode length: 664.88 +/- 147.41\n"
      ]
     },
     "metadata": {},
     "output_type": "display_data"
    },
    {
     "data": {
      "text/html": [
       "<pre style=\"white-space:pre;overflow-x:auto;line-height:normal;font-family:Menlo,'DejaVu Sans Mono',consolas,'Courier New',monospace\">Eval num_timesteps=395000, episode_reward=11.34 +/- 4.42\n",
       "</pre>\n"
      ],
      "text/plain": [
       "Eval num_timesteps=395000, episode_reward=11.34 +/- 4.42\n"
      ]
     },
     "metadata": {},
     "output_type": "display_data"
    },
    {
     "data": {
      "text/html": [
       "<pre style=\"white-space:pre;overflow-x:auto;line-height:normal;font-family:Menlo,'DejaVu Sans Mono',consolas,'Courier New',monospace\">Episode length: 703.20 +/- 156.87\n",
       "</pre>\n"
      ],
      "text/plain": [
       "Episode length: 703.20 +/- 156.87\n"
      ]
     },
     "metadata": {},
     "output_type": "display_data"
    },
    {
     "data": {
      "text/html": [
       "<pre style=\"white-space:pre;overflow-x:auto;line-height:normal;font-family:Menlo,'DejaVu Sans Mono',consolas,'Courier New',monospace\">Eval num_timesteps=400000, episode_reward=11.36 +/- 4.29\n",
       "</pre>\n"
      ],
      "text/plain": [
       "Eval num_timesteps=400000, episode_reward=11.36 +/- 4.29\n"
      ]
     },
     "metadata": {},
     "output_type": "display_data"
    },
    {
     "data": {
      "text/html": [
       "<pre style=\"white-space:pre;overflow-x:auto;line-height:normal;font-family:Menlo,'DejaVu Sans Mono',consolas,'Courier New',monospace\">Episode length: 714.70 +/- 149.44\n",
       "</pre>\n"
      ],
      "text/plain": [
       "Episode length: 714.70 +/- 149.44\n"
      ]
     },
     "metadata": {},
     "output_type": "display_data"
    },
    {
     "data": {
      "text/html": [
       "<pre style=\"white-space:pre;overflow-x:auto;line-height:normal;font-family:Menlo,'DejaVu Sans Mono',consolas,'Courier New',monospace\">Eval num_timesteps=405000, episode_reward=11.78 +/- 3.82\n",
       "</pre>\n"
      ],
      "text/plain": [
       "Eval num_timesteps=405000, episode_reward=11.78 +/- 3.82\n"
      ]
     },
     "metadata": {},
     "output_type": "display_data"
    },
    {
     "data": {
      "text/html": [
       "<pre style=\"white-space:pre;overflow-x:auto;line-height:normal;font-family:Menlo,'DejaVu Sans Mono',consolas,'Courier New',monospace\">Episode length: 737.86 +/- 134.11\n",
       "</pre>\n"
      ],
      "text/plain": [
       "Episode length: 737.86 +/- 134.11\n"
      ]
     },
     "metadata": {},
     "output_type": "display_data"
    },
    {
     "data": {
      "text/html": [
       "<pre style=\"white-space:pre;overflow-x:auto;line-height:normal;font-family:Menlo,'DejaVu Sans Mono',consolas,'Courier New',monospace\">New best mean reward!\n",
       "</pre>\n"
      ],
      "text/plain": [
       "New best mean reward!\n"
      ]
     },
     "metadata": {},
     "output_type": "display_data"
    },
    {
     "data": {
      "text/html": [
       "<pre style=\"white-space:pre;overflow-x:auto;line-height:normal;font-family:Menlo,'DejaVu Sans Mono',consolas,'Courier New',monospace\">Eval num_timesteps=410000, episode_reward=10.98 +/- 4.19\n",
       "</pre>\n"
      ],
      "text/plain": [
       "Eval num_timesteps=410000, episode_reward=10.98 +/- 4.19\n"
      ]
     },
     "metadata": {},
     "output_type": "display_data"
    },
    {
     "data": {
      "text/html": [
       "<pre style=\"white-space:pre;overflow-x:auto;line-height:normal;font-family:Menlo,'DejaVu Sans Mono',consolas,'Courier New',monospace\">Episode length: 711.92 +/- 162.50\n",
       "</pre>\n"
      ],
      "text/plain": [
       "Episode length: 711.92 +/- 162.50\n"
      ]
     },
     "metadata": {},
     "output_type": "display_data"
    },
    {
     "data": {
      "text/html": [
       "<pre style=\"white-space:pre;overflow-x:auto;line-height:normal;font-family:Menlo,'DejaVu Sans Mono',consolas,'Courier New',monospace\">Eval num_timesteps=415000, episode_reward=10.08 +/- 3.41\n",
       "</pre>\n"
      ],
      "text/plain": [
       "Eval num_timesteps=415000, episode_reward=10.08 +/- 3.41\n"
      ]
     },
     "metadata": {},
     "output_type": "display_data"
    },
    {
     "data": {
      "text/html": [
       "<pre style=\"white-space:pre;overflow-x:auto;line-height:normal;font-family:Menlo,'DejaVu Sans Mono',consolas,'Courier New',monospace\">Episode length: 686.70 +/- 137.36\n",
       "</pre>\n"
      ],
      "text/plain": [
       "Episode length: 686.70 +/- 137.36\n"
      ]
     },
     "metadata": {},
     "output_type": "display_data"
    },
    {
     "data": {
      "text/html": [
       "<pre style=\"white-space:pre;overflow-x:auto;line-height:normal;font-family:Menlo,'DejaVu Sans Mono',consolas,'Courier New',monospace\">Eval num_timesteps=420000, episode_reward=11.18 +/- 4.55\n",
       "</pre>\n"
      ],
      "text/plain": [
       "Eval num_timesteps=420000, episode_reward=11.18 +/- 4.55\n"
      ]
     },
     "metadata": {},
     "output_type": "display_data"
    },
    {
     "data": {
      "text/html": [
       "<pre style=\"white-space:pre;overflow-x:auto;line-height:normal;font-family:Menlo,'DejaVu Sans Mono',consolas,'Courier New',monospace\">Episode length: 713.94 +/- 153.52\n",
       "</pre>\n"
      ],
      "text/plain": [
       "Episode length: 713.94 +/- 153.52\n"
      ]
     },
     "metadata": {},
     "output_type": "display_data"
    },
    {
     "data": {
      "text/html": [
       "<pre style=\"white-space:pre;overflow-x:auto;line-height:normal;font-family:Menlo,'DejaVu Sans Mono',consolas,'Courier New',monospace\">Eval num_timesteps=425000, episode_reward=11.02 +/- 4.81\n",
       "</pre>\n"
      ],
      "text/plain": [
       "Eval num_timesteps=425000, episode_reward=11.02 +/- 4.81\n"
      ]
     },
     "metadata": {},
     "output_type": "display_data"
    },
    {
     "data": {
      "text/html": [
       "<pre style=\"white-space:pre;overflow-x:auto;line-height:normal;font-family:Menlo,'DejaVu Sans Mono',consolas,'Courier New',monospace\">Episode length: 1406.64 +/- 4950.18\n",
       "</pre>\n"
      ],
      "text/plain": [
       "Episode length: 1406.64 +/- 4950.18\n"
      ]
     },
     "metadata": {},
     "output_type": "display_data"
    },
    {
     "data": {
      "text/html": [
       "<pre style=\"white-space:pre;overflow-x:auto;line-height:normal;font-family:Menlo,'DejaVu Sans Mono',consolas,'Courier New',monospace\">Eval num_timesteps=430000, episode_reward=11.58 +/- 4.20\n",
       "</pre>\n"
      ],
      "text/plain": [
       "Eval num_timesteps=430000, episode_reward=11.58 +/- 4.20\n"
      ]
     },
     "metadata": {},
     "output_type": "display_data"
    },
    {
     "data": {
      "text/html": [
       "<pre style=\"white-space:pre;overflow-x:auto;line-height:normal;font-family:Menlo,'DejaVu Sans Mono',consolas,'Courier New',monospace\">Episode length: 741.94 +/- 173.50\n",
       "</pre>\n"
      ],
      "text/plain": [
       "Episode length: 741.94 +/- 173.50\n"
      ]
     },
     "metadata": {},
     "output_type": "display_data"
    },
    {
     "data": {
      "text/html": [
       "<pre style=\"white-space:pre;overflow-x:auto;line-height:normal;font-family:Menlo,'DejaVu Sans Mono',consolas,'Courier New',monospace\">Eval num_timesteps=435000, episode_reward=12.02 +/- 4.58\n",
       "</pre>\n"
      ],
      "text/plain": [
       "Eval num_timesteps=435000, episode_reward=12.02 +/- 4.58\n"
      ]
     },
     "metadata": {},
     "output_type": "display_data"
    },
    {
     "data": {
      "text/html": [
       "<pre style=\"white-space:pre;overflow-x:auto;line-height:normal;font-family:Menlo,'DejaVu Sans Mono',consolas,'Courier New',monospace\">Episode length: 741.20 +/- 150.91\n",
       "</pre>\n"
      ],
      "text/plain": [
       "Episode length: 741.20 +/- 150.91\n"
      ]
     },
     "metadata": {},
     "output_type": "display_data"
    },
    {
     "data": {
      "text/html": [
       "<pre style=\"white-space:pre;overflow-x:auto;line-height:normal;font-family:Menlo,'DejaVu Sans Mono',consolas,'Courier New',monospace\">New best mean reward!\n",
       "</pre>\n"
      ],
      "text/plain": [
       "New best mean reward!\n"
      ]
     },
     "metadata": {},
     "output_type": "display_data"
    },
    {
     "data": {
      "text/html": [
       "<pre style=\"white-space:pre;overflow-x:auto;line-height:normal;font-family:Menlo,'DejaVu Sans Mono',consolas,'Courier New',monospace\">Eval num_timesteps=440000, episode_reward=10.68 +/- 4.86\n",
       "</pre>\n"
      ],
      "text/plain": [
       "Eval num_timesteps=440000, episode_reward=10.68 +/- 4.86\n"
      ]
     },
     "metadata": {},
     "output_type": "display_data"
    },
    {
     "data": {
      "text/html": [
       "<pre style=\"white-space:pre;overflow-x:auto;line-height:normal;font-family:Menlo,'DejaVu Sans Mono',consolas,'Courier New',monospace\">Episode length: 679.14 +/- 182.79\n",
       "</pre>\n"
      ],
      "text/plain": [
       "Episode length: 679.14 +/- 182.79\n"
      ]
     },
     "metadata": {},
     "output_type": "display_data"
    },
    {
     "data": {
      "text/html": [
       "<pre style=\"white-space:pre;overflow-x:auto;line-height:normal;font-family:Menlo,'DejaVu Sans Mono',consolas,'Courier New',monospace\">Eval num_timesteps=445000, episode_reward=12.06 +/- 5.21\n",
       "</pre>\n"
      ],
      "text/plain": [
       "Eval num_timesteps=445000, episode_reward=12.06 +/- 5.21\n"
      ]
     },
     "metadata": {},
     "output_type": "display_data"
    },
    {
     "data": {
      "text/html": [
       "<pre style=\"white-space:pre;overflow-x:auto;line-height:normal;font-family:Menlo,'DejaVu Sans Mono',consolas,'Courier New',monospace\">Episode length: 1441.08 +/- 4945.63\n",
       "</pre>\n"
      ],
      "text/plain": [
       "Episode length: 1441.08 +/- 4945.63\n"
      ]
     },
     "metadata": {},
     "output_type": "display_data"
    },
    {
     "data": {
      "text/html": [
       "<pre style=\"white-space:pre;overflow-x:auto;line-height:normal;font-family:Menlo,'DejaVu Sans Mono',consolas,'Courier New',monospace\">New best mean reward!\n",
       "</pre>\n"
      ],
      "text/plain": [
       "New best mean reward!\n"
      ]
     },
     "metadata": {},
     "output_type": "display_data"
    },
    {
     "data": {
      "text/html": [
       "<pre style=\"white-space:pre;overflow-x:auto;line-height:normal;font-family:Menlo,'DejaVu Sans Mono',consolas,'Courier New',monospace\">Eval num_timesteps=450000, episode_reward=1.82 +/- 1.16\n",
       "</pre>\n"
      ],
      "text/plain": [
       "Eval num_timesteps=450000, episode_reward=1.82 +/- 1.16\n"
      ]
     },
     "metadata": {},
     "output_type": "display_data"
    },
    {
     "data": {
      "text/html": [
       "<pre style=\"white-space:pre;overflow-x:auto;line-height:normal;font-family:Menlo,'DejaVu Sans Mono',consolas,'Courier New',monospace\">Episode length: 294.86 +/- 63.74\n",
       "</pre>\n"
      ],
      "text/plain": [
       "Episode length: 294.86 +/- 63.74\n"
      ]
     },
     "metadata": {},
     "output_type": "display_data"
    },
    {
     "data": {
      "text/html": [
       "<pre style=\"white-space:pre;overflow-x:auto;line-height:normal;font-family:Menlo,'DejaVu Sans Mono',consolas,'Courier New',monospace\">Eval num_timesteps=455000, episode_reward=11.44 +/- 3.84\n",
       "</pre>\n"
      ],
      "text/plain": [
       "Eval num_timesteps=455000, episode_reward=11.44 +/- 3.84\n"
      ]
     },
     "metadata": {},
     "output_type": "display_data"
    },
    {
     "data": {
      "text/html": [
       "<pre style=\"white-space:pre;overflow-x:auto;line-height:normal;font-family:Menlo,'DejaVu Sans Mono',consolas,'Courier New',monospace\">Episode length: 733.22 +/- 153.26\n",
       "</pre>\n"
      ],
      "text/plain": [
       "Episode length: 733.22 +/- 153.26\n"
      ]
     },
     "metadata": {},
     "output_type": "display_data"
    },
    {
     "data": {
      "text/html": [
       "<pre style=\"white-space:pre;overflow-x:auto;line-height:normal;font-family:Menlo,'DejaVu Sans Mono',consolas,'Courier New',monospace\">Eval num_timesteps=460000, episode_reward=11.12 +/- 3.69\n",
       "</pre>\n"
      ],
      "text/plain": [
       "Eval num_timesteps=460000, episode_reward=11.12 +/- 3.69\n"
      ]
     },
     "metadata": {},
     "output_type": "display_data"
    },
    {
     "data": {
      "text/html": [
       "<pre style=\"white-space:pre;overflow-x:auto;line-height:normal;font-family:Menlo,'DejaVu Sans Mono',consolas,'Courier New',monospace\">Episode length: 709.80 +/- 147.41\n",
       "</pre>\n"
      ],
      "text/plain": [
       "Episode length: 709.80 +/- 147.41\n"
      ]
     },
     "metadata": {},
     "output_type": "display_data"
    },
    {
     "data": {
      "text/html": [
       "<pre style=\"white-space:pre;overflow-x:auto;line-height:normal;font-family:Menlo,'DejaVu Sans Mono',consolas,'Courier New',monospace\">Eval num_timesteps=465000, episode_reward=9.62 +/- 2.97\n",
       "</pre>\n"
      ],
      "text/plain": [
       "Eval num_timesteps=465000, episode_reward=9.62 +/- 2.97\n"
      ]
     },
     "metadata": {},
     "output_type": "display_data"
    },
    {
     "data": {
      "text/html": [
       "<pre style=\"white-space:pre;overflow-x:auto;line-height:normal;font-family:Menlo,'DejaVu Sans Mono',consolas,'Courier New',monospace\">Episode length: 663.40 +/- 133.77\n",
       "</pre>\n"
      ],
      "text/plain": [
       "Episode length: 663.40 +/- 133.77\n"
      ]
     },
     "metadata": {},
     "output_type": "display_data"
    },
    {
     "data": {
      "text/html": [
       "<pre style=\"white-space:pre;overflow-x:auto;line-height:normal;font-family:Menlo,'DejaVu Sans Mono',consolas,'Courier New',monospace\">Eval num_timesteps=470000, episode_reward=10.98 +/- 3.67\n",
       "</pre>\n"
      ],
      "text/plain": [
       "Eval num_timesteps=470000, episode_reward=10.98 +/- 3.67\n"
      ]
     },
     "metadata": {},
     "output_type": "display_data"
    },
    {
     "data": {
      "text/html": [
       "<pre style=\"white-space:pre;overflow-x:auto;line-height:normal;font-family:Menlo,'DejaVu Sans Mono',consolas,'Courier New',monospace\">Episode length: 715.56 +/- 147.38\n",
       "</pre>\n"
      ],
      "text/plain": [
       "Episode length: 715.56 +/- 147.38\n"
      ]
     },
     "metadata": {},
     "output_type": "display_data"
    },
    {
     "data": {
      "text/html": [
       "<pre style=\"white-space:pre;overflow-x:auto;line-height:normal;font-family:Menlo,'DejaVu Sans Mono',consolas,'Courier New',monospace\">Eval num_timesteps=475000, episode_reward=9.58 +/- 3.67\n",
       "</pre>\n"
      ],
      "text/plain": [
       "Eval num_timesteps=475000, episode_reward=9.58 +/- 3.67\n"
      ]
     },
     "metadata": {},
     "output_type": "display_data"
    },
    {
     "data": {
      "text/html": [
       "<pre style=\"white-space:pre;overflow-x:auto;line-height:normal;font-family:Menlo,'DejaVu Sans Mono',consolas,'Courier New',monospace\">Episode length: 642.54 +/- 147.07\n",
       "</pre>\n"
      ],
      "text/plain": [
       "Episode length: 642.54 +/- 147.07\n"
      ]
     },
     "metadata": {},
     "output_type": "display_data"
    },
    {
     "data": {
      "text/html": [
       "<pre style=\"white-space:pre;overflow-x:auto;line-height:normal;font-family:Menlo,'DejaVu Sans Mono',consolas,'Courier New',monospace\">Eval num_timesteps=480000, episode_reward=12.78 +/- 4.45\n",
       "</pre>\n"
      ],
      "text/plain": [
       "Eval num_timesteps=480000, episode_reward=12.78 +/- 4.45\n"
      ]
     },
     "metadata": {},
     "output_type": "display_data"
    },
    {
     "data": {
      "text/html": [
       "<pre style=\"white-space:pre;overflow-x:auto;line-height:normal;font-family:Menlo,'DejaVu Sans Mono',consolas,'Courier New',monospace\">Episode length: 754.38 +/- 160.99\n",
       "</pre>\n"
      ],
      "text/plain": [
       "Episode length: 754.38 +/- 160.99\n"
      ]
     },
     "metadata": {},
     "output_type": "display_data"
    },
    {
     "data": {
      "text/html": [
       "<pre style=\"white-space:pre;overflow-x:auto;line-height:normal;font-family:Menlo,'DejaVu Sans Mono',consolas,'Courier New',monospace\">New best mean reward!\n",
       "</pre>\n"
      ],
      "text/plain": [
       "New best mean reward!\n"
      ]
     },
     "metadata": {},
     "output_type": "display_data"
    },
    {
     "data": {
      "text/html": [
       "<pre style=\"white-space:pre;overflow-x:auto;line-height:normal;font-family:Menlo,'DejaVu Sans Mono',consolas,'Courier New',monospace\">Eval num_timesteps=485000, episode_reward=12.66 +/- 5.42\n",
       "</pre>\n"
      ],
      "text/plain": [
       "Eval num_timesteps=485000, episode_reward=12.66 +/- 5.42\n"
      ]
     },
     "metadata": {},
     "output_type": "display_data"
    },
    {
     "data": {
      "text/html": [
       "<pre style=\"white-space:pre;overflow-x:auto;line-height:normal;font-family:Menlo,'DejaVu Sans Mono',consolas,'Courier New',monospace\">Episode length: 757.66 +/- 173.86\n",
       "</pre>\n"
      ],
      "text/plain": [
       "Episode length: 757.66 +/- 173.86\n"
      ]
     },
     "metadata": {},
     "output_type": "display_data"
    },
    {
     "data": {
      "text/html": [
       "<pre style=\"white-space:pre;overflow-x:auto;line-height:normal;font-family:Menlo,'DejaVu Sans Mono',consolas,'Courier New',monospace\">Eval num_timesteps=490000, episode_reward=11.64 +/- 4.00\n",
       "</pre>\n"
      ],
      "text/plain": [
       "Eval num_timesteps=490000, episode_reward=11.64 +/- 4.00\n"
      ]
     },
     "metadata": {},
     "output_type": "display_data"
    },
    {
     "data": {
      "text/html": [
       "<pre style=\"white-space:pre;overflow-x:auto;line-height:normal;font-family:Menlo,'DejaVu Sans Mono',consolas,'Courier New',monospace\">Episode length: 712.80 +/- 138.79\n",
       "</pre>\n"
      ],
      "text/plain": [
       "Episode length: 712.80 +/- 138.79\n"
      ]
     },
     "metadata": {},
     "output_type": "display_data"
    },
    {
     "data": {
      "text/html": [
       "<pre style=\"white-space:pre;overflow-x:auto;line-height:normal;font-family:Menlo,'DejaVu Sans Mono',consolas,'Courier New',monospace\">Eval num_timesteps=495000, episode_reward=11.70 +/- 3.79\n",
       "</pre>\n"
      ],
      "text/plain": [
       "Eval num_timesteps=495000, episode_reward=11.70 +/- 3.79\n"
      ]
     },
     "metadata": {},
     "output_type": "display_data"
    },
    {
     "data": {
      "text/html": [
       "<pre style=\"white-space:pre;overflow-x:auto;line-height:normal;font-family:Menlo,'DejaVu Sans Mono',consolas,'Courier New',monospace\">Episode length: 742.64 +/- 157.08\n",
       "</pre>\n"
      ],
      "text/plain": [
       "Episode length: 742.64 +/- 157.08\n"
      ]
     },
     "metadata": {},
     "output_type": "display_data"
    },
    {
     "data": {
      "text/html": [
       "<pre style=\"white-space:pre;overflow-x:auto;line-height:normal;font-family:Menlo,'DejaVu Sans Mono',consolas,'Courier New',monospace\">Eval num_timesteps=500000, episode_reward=12.24 +/- 4.27\n",
       "</pre>\n"
      ],
      "text/plain": [
       "Eval num_timesteps=500000, episode_reward=12.24 +/- 4.27\n"
      ]
     },
     "metadata": {},
     "output_type": "display_data"
    },
    {
     "data": {
      "text/html": [
       "<pre style=\"white-space:pre;overflow-x:auto;line-height:normal;font-family:Menlo,'DejaVu Sans Mono',consolas,'Courier New',monospace\">Episode length: 748.58 +/- 158.15\n",
       "</pre>\n"
      ],
      "text/plain": [
       "Episode length: 748.58 +/- 158.15\n"
      ]
     },
     "metadata": {},
     "output_type": "display_data"
    },
    {
     "data": {
      "text/html": [
       "<pre style=\"white-space:pre;overflow-x:auto;line-height:normal;font-family:Menlo,'DejaVu Sans Mono',consolas,'Courier New',monospace\">Eval num_timesteps=505000, episode_reward=12.88 +/- 4.80\n",
       "</pre>\n"
      ],
      "text/plain": [
       "Eval num_timesteps=505000, episode_reward=12.88 +/- 4.80\n"
      ]
     },
     "metadata": {},
     "output_type": "display_data"
    },
    {
     "data": {
      "text/html": [
       "<pre style=\"white-space:pre;overflow-x:auto;line-height:normal;font-family:Menlo,'DejaVu Sans Mono',consolas,'Courier New',monospace\">Episode length: 774.38 +/- 153.55\n",
       "</pre>\n"
      ],
      "text/plain": [
       "Episode length: 774.38 +/- 153.55\n"
      ]
     },
     "metadata": {},
     "output_type": "display_data"
    },
    {
     "data": {
      "text/html": [
       "<pre style=\"white-space:pre;overflow-x:auto;line-height:normal;font-family:Menlo,'DejaVu Sans Mono',consolas,'Courier New',monospace\">New best mean reward!\n",
       "</pre>\n"
      ],
      "text/plain": [
       "New best mean reward!\n"
      ]
     },
     "metadata": {},
     "output_type": "display_data"
    },
    {
     "data": {
      "text/html": [
       "<pre style=\"white-space:pre;overflow-x:auto;line-height:normal;font-family:Menlo,'DejaVu Sans Mono',consolas,'Courier New',monospace\">Eval num_timesteps=510000, episode_reward=10.60 +/- 2.94\n",
       "</pre>\n"
      ],
      "text/plain": [
       "Eval num_timesteps=510000, episode_reward=10.60 +/- 2.94\n"
      ]
     },
     "metadata": {},
     "output_type": "display_data"
    },
    {
     "data": {
      "text/html": [
       "<pre style=\"white-space:pre;overflow-x:auto;line-height:normal;font-family:Menlo,'DejaVu Sans Mono',consolas,'Courier New',monospace\">Episode length: 706.52 +/- 128.34\n",
       "</pre>\n"
      ],
      "text/plain": [
       "Episode length: 706.52 +/- 128.34\n"
      ]
     },
     "metadata": {},
     "output_type": "display_data"
    },
    {
     "data": {
      "text/html": [
       "<pre style=\"white-space:pre;overflow-x:auto;line-height:normal;font-family:Menlo,'DejaVu Sans Mono',consolas,'Courier New',monospace\">Eval num_timesteps=515000, episode_reward=12.48 +/- 4.71\n",
       "</pre>\n"
      ],
      "text/plain": [
       "Eval num_timesteps=515000, episode_reward=12.48 +/- 4.71\n"
      ]
     },
     "metadata": {},
     "output_type": "display_data"
    },
    {
     "data": {
      "text/html": [
       "<pre style=\"white-space:pre;overflow-x:auto;line-height:normal;font-family:Menlo,'DejaVu Sans Mono',consolas,'Courier New',monospace\">Episode length: 753.22 +/- 164.43\n",
       "</pre>\n"
      ],
      "text/plain": [
       "Episode length: 753.22 +/- 164.43\n"
      ]
     },
     "metadata": {},
     "output_type": "display_data"
    },
    {
     "data": {
      "text/html": [
       "<pre style=\"white-space:pre;overflow-x:auto;line-height:normal;font-family:Menlo,'DejaVu Sans Mono',consolas,'Courier New',monospace\">Eval num_timesteps=520000, episode_reward=11.58 +/- 3.39\n",
       "</pre>\n"
      ],
      "text/plain": [
       "Eval num_timesteps=520000, episode_reward=11.58 +/- 3.39\n"
      ]
     },
     "metadata": {},
     "output_type": "display_data"
    },
    {
     "data": {
      "text/html": [
       "<pre style=\"white-space:pre;overflow-x:auto;line-height:normal;font-family:Menlo,'DejaVu Sans Mono',consolas,'Courier New',monospace\">Episode length: 720.72 +/- 128.10\n",
       "</pre>\n"
      ],
      "text/plain": [
       "Episode length: 720.72 +/- 128.10\n"
      ]
     },
     "metadata": {},
     "output_type": "display_data"
    },
    {
     "data": {
      "text/html": [
       "<pre style=\"white-space:pre;overflow-x:auto;line-height:normal;font-family:Menlo,'DejaVu Sans Mono',consolas,'Courier New',monospace\">Eval num_timesteps=525000, episode_reward=12.14 +/- 3.97\n",
       "</pre>\n"
      ],
      "text/plain": [
       "Eval num_timesteps=525000, episode_reward=12.14 +/- 3.97\n"
      ]
     },
     "metadata": {},
     "output_type": "display_data"
    },
    {
     "data": {
      "text/html": [
       "<pre style=\"white-space:pre;overflow-x:auto;line-height:normal;font-family:Menlo,'DejaVu Sans Mono',consolas,'Courier New',monospace\">Episode length: 751.98 +/- 155.59\n",
       "</pre>\n"
      ],
      "text/plain": [
       "Episode length: 751.98 +/- 155.59\n"
      ]
     },
     "metadata": {},
     "output_type": "display_data"
    },
    {
     "data": {
      "text/html": [
       "<pre style=\"white-space:pre;overflow-x:auto;line-height:normal;font-family:Menlo,'DejaVu Sans Mono',consolas,'Courier New',monospace\">Eval num_timesteps=530000, episode_reward=12.44 +/- 3.73\n",
       "</pre>\n"
      ],
      "text/plain": [
       "Eval num_timesteps=530000, episode_reward=12.44 +/- 3.73\n"
      ]
     },
     "metadata": {},
     "output_type": "display_data"
    },
    {
     "data": {
      "text/html": [
       "<pre style=\"white-space:pre;overflow-x:auto;line-height:normal;font-family:Menlo,'DejaVu Sans Mono',consolas,'Courier New',monospace\">Episode length: 767.26 +/- 145.10\n",
       "</pre>\n"
      ],
      "text/plain": [
       "Episode length: 767.26 +/- 145.10\n"
      ]
     },
     "metadata": {},
     "output_type": "display_data"
    },
    {
     "data": {
      "text/html": [
       "<pre style=\"white-space:pre;overflow-x:auto;line-height:normal;font-family:Menlo,'DejaVu Sans Mono',consolas,'Courier New',monospace\">Eval num_timesteps=535000, episode_reward=12.84 +/- 4.39\n",
       "</pre>\n"
      ],
      "text/plain": [
       "Eval num_timesteps=535000, episode_reward=12.84 +/- 4.39\n"
      ]
     },
     "metadata": {},
     "output_type": "display_data"
    },
    {
     "data": {
      "text/html": [
       "<pre style=\"white-space:pre;overflow-x:auto;line-height:normal;font-family:Menlo,'DejaVu Sans Mono',consolas,'Courier New',monospace\">Episode length: 752.80 +/- 151.13\n",
       "</pre>\n"
      ],
      "text/plain": [
       "Episode length: 752.80 +/- 151.13\n"
      ]
     },
     "metadata": {},
     "output_type": "display_data"
    },
    {
     "data": {
      "text/html": [
       "<pre style=\"white-space:pre;overflow-x:auto;line-height:normal;font-family:Menlo,'DejaVu Sans Mono',consolas,'Courier New',monospace\">Eval num_timesteps=540000, episode_reward=10.12 +/- 3.08\n",
       "</pre>\n"
      ],
      "text/plain": [
       "Eval num_timesteps=540000, episode_reward=10.12 +/- 3.08\n"
      ]
     },
     "metadata": {},
     "output_type": "display_data"
    },
    {
     "data": {
      "text/html": [
       "<pre style=\"white-space:pre;overflow-x:auto;line-height:normal;font-family:Menlo,'DejaVu Sans Mono',consolas,'Courier New',monospace\">Episode length: 671.04 +/- 131.37\n",
       "</pre>\n"
      ],
      "text/plain": [
       "Episode length: 671.04 +/- 131.37\n"
      ]
     },
     "metadata": {},
     "output_type": "display_data"
    },
    {
     "data": {
      "text/html": [
       "<pre style=\"white-space:pre;overflow-x:auto;line-height:normal;font-family:Menlo,'DejaVu Sans Mono',consolas,'Courier New',monospace\">Eval num_timesteps=545000, episode_reward=11.50 +/- 3.61\n",
       "</pre>\n"
      ],
      "text/plain": [
       "Eval num_timesteps=545000, episode_reward=11.50 +/- 3.61\n"
      ]
     },
     "metadata": {},
     "output_type": "display_data"
    },
    {
     "data": {
      "text/html": [
       "<pre style=\"white-space:pre;overflow-x:auto;line-height:normal;font-family:Menlo,'DejaVu Sans Mono',consolas,'Courier New',monospace\">Episode length: 728.08 +/- 155.24\n",
       "</pre>\n"
      ],
      "text/plain": [
       "Episode length: 728.08 +/- 155.24\n"
      ]
     },
     "metadata": {},
     "output_type": "display_data"
    },
    {
     "data": {
      "text/html": [
       "<pre style=\"white-space:pre;overflow-x:auto;line-height:normal;font-family:Menlo,'DejaVu Sans Mono',consolas,'Courier New',monospace\">Eval num_timesteps=550000, episode_reward=12.20 +/- 4.63\n",
       "</pre>\n"
      ],
      "text/plain": [
       "Eval num_timesteps=550000, episode_reward=12.20 +/- 4.63\n"
      ]
     },
     "metadata": {},
     "output_type": "display_data"
    },
    {
     "data": {
      "text/html": [
       "<pre style=\"white-space:pre;overflow-x:auto;line-height:normal;font-family:Menlo,'DejaVu Sans Mono',consolas,'Courier New',monospace\">Episode length: 747.90 +/- 169.77\n",
       "</pre>\n"
      ],
      "text/plain": [
       "Episode length: 747.90 +/- 169.77\n"
      ]
     },
     "metadata": {},
     "output_type": "display_data"
    },
    {
     "data": {
      "text/html": [
       "<pre style=\"white-space:pre;overflow-x:auto;line-height:normal;font-family:Menlo,'DejaVu Sans Mono',consolas,'Courier New',monospace\">Eval num_timesteps=555000, episode_reward=11.54 +/- 4.29\n",
       "</pre>\n"
      ],
      "text/plain": [
       "Eval num_timesteps=555000, episode_reward=11.54 +/- 4.29\n"
      ]
     },
     "metadata": {},
     "output_type": "display_data"
    },
    {
     "data": {
      "text/html": [
       "<pre style=\"white-space:pre;overflow-x:auto;line-height:normal;font-family:Menlo,'DejaVu Sans Mono',consolas,'Courier New',monospace\">Episode length: 716.66 +/- 164.11\n",
       "</pre>\n"
      ],
      "text/plain": [
       "Episode length: 716.66 +/- 164.11\n"
      ]
     },
     "metadata": {},
     "output_type": "display_data"
    },
    {
     "data": {
      "text/html": [
       "<pre style=\"white-space:pre;overflow-x:auto;line-height:normal;font-family:Menlo,'DejaVu Sans Mono',consolas,'Courier New',monospace\">Eval num_timesteps=560000, episode_reward=11.40 +/- 4.25\n",
       "</pre>\n"
      ],
      "text/plain": [
       "Eval num_timesteps=560000, episode_reward=11.40 +/- 4.25\n"
      ]
     },
     "metadata": {},
     "output_type": "display_data"
    },
    {
     "data": {
      "text/html": [
       "<pre style=\"white-space:pre;overflow-x:auto;line-height:normal;font-family:Menlo,'DejaVu Sans Mono',consolas,'Courier New',monospace\">Episode length: 730.06 +/- 160.07\n",
       "</pre>\n"
      ],
      "text/plain": [
       "Episode length: 730.06 +/- 160.07\n"
      ]
     },
     "metadata": {},
     "output_type": "display_data"
    },
    {
     "data": {
      "text/html": [
       "<pre style=\"white-space:pre;overflow-x:auto;line-height:normal;font-family:Menlo,'DejaVu Sans Mono',consolas,'Courier New',monospace\">Eval num_timesteps=565000, episode_reward=10.74 +/- 4.72\n",
       "</pre>\n"
      ],
      "text/plain": [
       "Eval num_timesteps=565000, episode_reward=10.74 +/- 4.72\n"
      ]
     },
     "metadata": {},
     "output_type": "display_data"
    },
    {
     "data": {
      "text/html": [
       "<pre style=\"white-space:pre;overflow-x:auto;line-height:normal;font-family:Menlo,'DejaVu Sans Mono',consolas,'Courier New',monospace\">Episode length: 696.40 +/- 174.96\n",
       "</pre>\n"
      ],
      "text/plain": [
       "Episode length: 696.40 +/- 174.96\n"
      ]
     },
     "metadata": {},
     "output_type": "display_data"
    },
    {
     "data": {
      "text/html": [
       "<pre style=\"white-space:pre;overflow-x:auto;line-height:normal;font-family:Menlo,'DejaVu Sans Mono',consolas,'Courier New',monospace\">Eval num_timesteps=570000, episode_reward=13.04 +/- 5.25\n",
       "</pre>\n"
      ],
      "text/plain": [
       "Eval num_timesteps=570000, episode_reward=13.04 +/- 5.25\n"
      ]
     },
     "metadata": {},
     "output_type": "display_data"
    },
    {
     "data": {
      "text/html": [
       "<pre style=\"white-space:pre;overflow-x:auto;line-height:normal;font-family:Menlo,'DejaVu Sans Mono',consolas,'Courier New',monospace\">Episode length: 749.10 +/- 162.83\n",
       "</pre>\n"
      ],
      "text/plain": [
       "Episode length: 749.10 +/- 162.83\n"
      ]
     },
     "metadata": {},
     "output_type": "display_data"
    },
    {
     "data": {
      "text/html": [
       "<pre style=\"white-space:pre;overflow-x:auto;line-height:normal;font-family:Menlo,'DejaVu Sans Mono',consolas,'Courier New',monospace\">New best mean reward!\n",
       "</pre>\n"
      ],
      "text/plain": [
       "New best mean reward!\n"
      ]
     },
     "metadata": {},
     "output_type": "display_data"
    },
    {
     "data": {
      "text/html": [
       "<pre style=\"white-space:pre;overflow-x:auto;line-height:normal;font-family:Menlo,'DejaVu Sans Mono',consolas,'Courier New',monospace\">Eval num_timesteps=575000, episode_reward=10.98 +/- 4.37\n",
       "</pre>\n"
      ],
      "text/plain": [
       "Eval num_timesteps=575000, episode_reward=10.98 +/- 4.37\n"
      ]
     },
     "metadata": {},
     "output_type": "display_data"
    },
    {
     "data": {
      "text/html": [
       "<pre style=\"white-space:pre;overflow-x:auto;line-height:normal;font-family:Menlo,'DejaVu Sans Mono',consolas,'Courier New',monospace\">Episode length: 691.94 +/- 143.58\n",
       "</pre>\n"
      ],
      "text/plain": [
       "Episode length: 691.94 +/- 143.58\n"
      ]
     },
     "metadata": {},
     "output_type": "display_data"
    },
    {
     "data": {
      "text/html": [
       "<pre style=\"white-space:pre;overflow-x:auto;line-height:normal;font-family:Menlo,'DejaVu Sans Mono',consolas,'Courier New',monospace\">Eval num_timesteps=580000, episode_reward=11.18 +/- 4.43\n",
       "</pre>\n"
      ],
      "text/plain": [
       "Eval num_timesteps=580000, episode_reward=11.18 +/- 4.43\n"
      ]
     },
     "metadata": {},
     "output_type": "display_data"
    },
    {
     "data": {
      "text/html": [
       "<pre style=\"white-space:pre;overflow-x:auto;line-height:normal;font-family:Menlo,'DejaVu Sans Mono',consolas,'Courier New',monospace\">Episode length: 698.40 +/- 138.51\n",
       "</pre>\n"
      ],
      "text/plain": [
       "Episode length: 698.40 +/- 138.51\n"
      ]
     },
     "metadata": {},
     "output_type": "display_data"
    },
    {
     "data": {
      "text/html": [
       "<pre style=\"white-space:pre;overflow-x:auto;line-height:normal;font-family:Menlo,'DejaVu Sans Mono',consolas,'Courier New',monospace\">Eval num_timesteps=585000, episode_reward=11.54 +/- 3.53\n",
       "</pre>\n"
      ],
      "text/plain": [
       "Eval num_timesteps=585000, episode_reward=11.54 +/- 3.53\n"
      ]
     },
     "metadata": {},
     "output_type": "display_data"
    },
    {
     "data": {
      "text/html": [
       "<pre style=\"white-space:pre;overflow-x:auto;line-height:normal;font-family:Menlo,'DejaVu Sans Mono',consolas,'Courier New',monospace\">Episode length: 737.70 +/- 141.48\n",
       "</pre>\n"
      ],
      "text/plain": [
       "Episode length: 737.70 +/- 141.48\n"
      ]
     },
     "metadata": {},
     "output_type": "display_data"
    },
    {
     "data": {
      "text/html": [
       "<pre style=\"white-space:pre;overflow-x:auto;line-height:normal;font-family:Menlo,'DejaVu Sans Mono',consolas,'Courier New',monospace\">Eval num_timesteps=590000, episode_reward=12.20 +/- 4.75\n",
       "</pre>\n"
      ],
      "text/plain": [
       "Eval num_timesteps=590000, episode_reward=12.20 +/- 4.75\n"
      ]
     },
     "metadata": {},
     "output_type": "display_data"
    },
    {
     "data": {
      "text/html": [
       "<pre style=\"white-space:pre;overflow-x:auto;line-height:normal;font-family:Menlo,'DejaVu Sans Mono',consolas,'Courier New',monospace\">Episode length: 745.18 +/- 175.21\n",
       "</pre>\n"
      ],
      "text/plain": [
       "Episode length: 745.18 +/- 175.21\n"
      ]
     },
     "metadata": {},
     "output_type": "display_data"
    },
    {
     "data": {
      "text/html": [
       "<pre style=\"white-space:pre;overflow-x:auto;line-height:normal;font-family:Menlo,'DejaVu Sans Mono',consolas,'Courier New',monospace\">Eval num_timesteps=595000, episode_reward=12.80 +/- 5.08\n",
       "</pre>\n"
      ],
      "text/plain": [
       "Eval num_timesteps=595000, episode_reward=12.80 +/- 5.08\n"
      ]
     },
     "metadata": {},
     "output_type": "display_data"
    },
    {
     "data": {
      "text/html": [
       "<pre style=\"white-space:pre;overflow-x:auto;line-height:normal;font-family:Menlo,'DejaVu Sans Mono',consolas,'Courier New',monospace\">Episode length: 748.12 +/- 143.28\n",
       "</pre>\n"
      ],
      "text/plain": [
       "Episode length: 748.12 +/- 143.28\n"
      ]
     },
     "metadata": {},
     "output_type": "display_data"
    },
    {
     "data": {
      "text/html": [
       "<pre style=\"white-space:pre;overflow-x:auto;line-height:normal;font-family:Menlo,'DejaVu Sans Mono',consolas,'Courier New',monospace\">Eval num_timesteps=600000, episode_reward=12.30 +/- 4.39\n",
       "</pre>\n"
      ],
      "text/plain": [
       "Eval num_timesteps=600000, episode_reward=12.30 +/- 4.39\n"
      ]
     },
     "metadata": {},
     "output_type": "display_data"
    },
    {
     "data": {
      "text/html": [
       "<pre style=\"white-space:pre;overflow-x:auto;line-height:normal;font-family:Menlo,'DejaVu Sans Mono',consolas,'Courier New',monospace\">Episode length: 759.62 +/- 137.57\n",
       "</pre>\n"
      ],
      "text/plain": [
       "Episode length: 759.62 +/- 137.57\n"
      ]
     },
     "metadata": {},
     "output_type": "display_data"
    },
    {
     "data": {
      "text/html": [
       "<pre style=\"white-space:pre;overflow-x:auto;line-height:normal;font-family:Menlo,'DejaVu Sans Mono',consolas,'Courier New',monospace\">Eval num_timesteps=605000, episode_reward=12.70 +/- 4.84\n",
       "</pre>\n"
      ],
      "text/plain": [
       "Eval num_timesteps=605000, episode_reward=12.70 +/- 4.84\n"
      ]
     },
     "metadata": {},
     "output_type": "display_data"
    },
    {
     "data": {
      "text/html": [
       "<pre style=\"white-space:pre;overflow-x:auto;line-height:normal;font-family:Menlo,'DejaVu Sans Mono',consolas,'Courier New',monospace\">Episode length: 764.04 +/- 174.63\n",
       "</pre>\n"
      ],
      "text/plain": [
       "Episode length: 764.04 +/- 174.63\n"
      ]
     },
     "metadata": {},
     "output_type": "display_data"
    },
    {
     "data": {
      "text/html": [
       "<pre style=\"white-space:pre;overflow-x:auto;line-height:normal;font-family:Menlo,'DejaVu Sans Mono',consolas,'Courier New',monospace\">Eval num_timesteps=610000, episode_reward=12.26 +/- 4.98\n",
       "</pre>\n"
      ],
      "text/plain": [
       "Eval num_timesteps=610000, episode_reward=12.26 +/- 4.98\n"
      ]
     },
     "metadata": {},
     "output_type": "display_data"
    },
    {
     "data": {
      "text/html": [
       "<pre style=\"white-space:pre;overflow-x:auto;line-height:normal;font-family:Menlo,'DejaVu Sans Mono',consolas,'Courier New',monospace\">Episode length: 729.08 +/- 169.51\n",
       "</pre>\n"
      ],
      "text/plain": [
       "Episode length: 729.08 +/- 169.51\n"
      ]
     },
     "metadata": {},
     "output_type": "display_data"
    },
    {
     "data": {
      "text/html": [
       "<pre style=\"white-space:pre;overflow-x:auto;line-height:normal;font-family:Menlo,'DejaVu Sans Mono',consolas,'Courier New',monospace\">Eval num_timesteps=615000, episode_reward=11.12 +/- 4.43\n",
       "</pre>\n"
      ],
      "text/plain": [
       "Eval num_timesteps=615000, episode_reward=11.12 +/- 4.43\n"
      ]
     },
     "metadata": {},
     "output_type": "display_data"
    },
    {
     "data": {
      "text/html": [
       "<pre style=\"white-space:pre;overflow-x:auto;line-height:normal;font-family:Menlo,'DejaVu Sans Mono',consolas,'Courier New',monospace\">Episode length: 686.94 +/- 150.81\n",
       "</pre>\n"
      ],
      "text/plain": [
       "Episode length: 686.94 +/- 150.81\n"
      ]
     },
     "metadata": {},
     "output_type": "display_data"
    },
    {
     "data": {
      "text/html": [
       "<pre style=\"white-space:pre;overflow-x:auto;line-height:normal;font-family:Menlo,'DejaVu Sans Mono',consolas,'Courier New',monospace\">Eval num_timesteps=620000, episode_reward=11.62 +/- 4.18\n",
       "</pre>\n"
      ],
      "text/plain": [
       "Eval num_timesteps=620000, episode_reward=11.62 +/- 4.18\n"
      ]
     },
     "metadata": {},
     "output_type": "display_data"
    },
    {
     "data": {
      "text/html": [
       "<pre style=\"white-space:pre;overflow-x:auto;line-height:normal;font-family:Menlo,'DejaVu Sans Mono',consolas,'Courier New',monospace\">Episode length: 731.78 +/- 162.36\n",
       "</pre>\n"
      ],
      "text/plain": [
       "Episode length: 731.78 +/- 162.36\n"
      ]
     },
     "metadata": {},
     "output_type": "display_data"
    },
    {
     "data": {
      "text/html": [
       "<pre style=\"white-space:pre;overflow-x:auto;line-height:normal;font-family:Menlo,'DejaVu Sans Mono',consolas,'Courier New',monospace\">Eval num_timesteps=625000, episode_reward=11.54 +/- 3.84\n",
       "</pre>\n"
      ],
      "text/plain": [
       "Eval num_timesteps=625000, episode_reward=11.54 +/- 3.84\n"
      ]
     },
     "metadata": {},
     "output_type": "display_data"
    },
    {
     "data": {
      "text/html": [
       "<pre style=\"white-space:pre;overflow-x:auto;line-height:normal;font-family:Menlo,'DejaVu Sans Mono',consolas,'Courier New',monospace\">Episode length: 1426.26 +/- 4939.92\n",
       "</pre>\n"
      ],
      "text/plain": [
       "Episode length: 1426.26 +/- 4939.92\n"
      ]
     },
     "metadata": {},
     "output_type": "display_data"
    },
    {
     "data": {
      "text/html": [
       "<pre style=\"white-space:pre;overflow-x:auto;line-height:normal;font-family:Menlo,'DejaVu Sans Mono',consolas,'Courier New',monospace\">Eval num_timesteps=630000, episode_reward=12.26 +/- 4.28\n",
       "</pre>\n"
      ],
      "text/plain": [
       "Eval num_timesteps=630000, episode_reward=12.26 +/- 4.28\n"
      ]
     },
     "metadata": {},
     "output_type": "display_data"
    },
    {
     "data": {
      "text/html": [
       "<pre style=\"white-space:pre;overflow-x:auto;line-height:normal;font-family:Menlo,'DejaVu Sans Mono',consolas,'Courier New',monospace\">Episode length: 753.14 +/- 132.57\n",
       "</pre>\n"
      ],
      "text/plain": [
       "Episode length: 753.14 +/- 132.57\n"
      ]
     },
     "metadata": {},
     "output_type": "display_data"
    },
    {
     "data": {
      "text/html": [
       "<pre style=\"white-space:pre;overflow-x:auto;line-height:normal;font-family:Menlo,'DejaVu Sans Mono',consolas,'Courier New',monospace\">Eval num_timesteps=640000, episode_reward=12.68 +/- 4.46\n",
       "</pre>\n"
      ],
      "text/plain": [
       "Eval num_timesteps=640000, episode_reward=12.68 +/- 4.46\n"
      ]
     },
     "metadata": {},
     "output_type": "display_data"
    },
    {
     "data": {
      "text/html": [
       "<pre style=\"white-space:pre;overflow-x:auto;line-height:normal;font-family:Menlo,'DejaVu Sans Mono',consolas,'Courier New',monospace\">Episode length: 751.68 +/- 143.66\n",
       "</pre>\n"
      ],
      "text/plain": [
       "Episode length: 751.68 +/- 143.66\n"
      ]
     },
     "metadata": {},
     "output_type": "display_data"
    },
    {
     "data": {
      "text/html": [
       "<pre style=\"white-space:pre;overflow-x:auto;line-height:normal;font-family:Menlo,'DejaVu Sans Mono',consolas,'Courier New',monospace\">Eval num_timesteps=645000, episode_reward=12.90 +/- 5.25\n",
       "</pre>\n"
      ],
      "text/plain": [
       "Eval num_timesteps=645000, episode_reward=12.90 +/- 5.25\n"
      ]
     },
     "metadata": {},
     "output_type": "display_data"
    },
    {
     "data": {
      "text/html": [
       "<pre style=\"white-space:pre;overflow-x:auto;line-height:normal;font-family:Menlo,'DejaVu Sans Mono',consolas,'Courier New',monospace\">Episode length: 760.18 +/- 163.28\n",
       "</pre>\n"
      ],
      "text/plain": [
       "Episode length: 760.18 +/- 163.28\n"
      ]
     },
     "metadata": {},
     "output_type": "display_data"
    },
    {
     "data": {
      "text/html": [
       "<pre style=\"white-space:pre;overflow-x:auto;line-height:normal;font-family:Menlo,'DejaVu Sans Mono',consolas,'Courier New',monospace\">Eval num_timesteps=650000, episode_reward=12.30 +/- 4.06\n",
       "</pre>\n"
      ],
      "text/plain": [
       "Eval num_timesteps=650000, episode_reward=12.30 +/- 4.06\n"
      ]
     },
     "metadata": {},
     "output_type": "display_data"
    },
    {
     "data": {
      "text/html": [
       "<pre style=\"white-space:pre;overflow-x:auto;line-height:normal;font-family:Menlo,'DejaVu Sans Mono',consolas,'Courier New',monospace\">Episode length: 776.80 +/- 151.44\n",
       "</pre>\n"
      ],
      "text/plain": [
       "Episode length: 776.80 +/- 151.44\n"
      ]
     },
     "metadata": {},
     "output_type": "display_data"
    },
    {
     "data": {
      "text/html": [
       "<pre style=\"white-space:pre;overflow-x:auto;line-height:normal;font-family:Menlo,'DejaVu Sans Mono',consolas,'Courier New',monospace\">Eval num_timesteps=655000, episode_reward=12.62 +/- 4.02\n",
       "</pre>\n"
      ],
      "text/plain": [
       "Eval num_timesteps=655000, episode_reward=12.62 +/- 4.02\n"
      ]
     },
     "metadata": {},
     "output_type": "display_data"
    },
    {
     "data": {
      "text/html": [
       "<pre style=\"white-space:pre;overflow-x:auto;line-height:normal;font-family:Menlo,'DejaVu Sans Mono',consolas,'Courier New',monospace\">Episode length: 766.30 +/- 155.94\n",
       "</pre>\n"
      ],
      "text/plain": [
       "Episode length: 766.30 +/- 155.94\n"
      ]
     },
     "metadata": {},
     "output_type": "display_data"
    },
    {
     "data": {
      "text/html": [
       "<pre style=\"white-space:pre;overflow-x:auto;line-height:normal;font-family:Menlo,'DejaVu Sans Mono',consolas,'Courier New',monospace\">Eval num_timesteps=660000, episode_reward=9.84 +/- 2.92\n",
       "</pre>\n"
      ],
      "text/plain": [
       "Eval num_timesteps=660000, episode_reward=9.84 +/- 2.92\n"
      ]
     },
     "metadata": {},
     "output_type": "display_data"
    },
    {
     "data": {
      "text/html": [
       "<pre style=\"white-space:pre;overflow-x:auto;line-height:normal;font-family:Menlo,'DejaVu Sans Mono',consolas,'Courier New',monospace\">Episode length: 663.82 +/- 125.31\n",
       "</pre>\n"
      ],
      "text/plain": [
       "Episode length: 663.82 +/- 125.31\n"
      ]
     },
     "metadata": {},
     "output_type": "display_data"
    },
    {
     "data": {
      "text/html": [
       "<pre style=\"white-space:pre;overflow-x:auto;line-height:normal;font-family:Menlo,'DejaVu Sans Mono',consolas,'Courier New',monospace\">Eval num_timesteps=665000, episode_reward=10.40 +/- 3.28\n",
       "</pre>\n"
      ],
      "text/plain": [
       "Eval num_timesteps=665000, episode_reward=10.40 +/- 3.28\n"
      ]
     },
     "metadata": {},
     "output_type": "display_data"
    },
    {
     "data": {
      "text/html": [
       "<pre style=\"white-space:pre;overflow-x:auto;line-height:normal;font-family:Menlo,'DejaVu Sans Mono',consolas,'Courier New',monospace\">Episode length: 706.64 +/- 149.66\n",
       "</pre>\n"
      ],
      "text/plain": [
       "Episode length: 706.64 +/- 149.66\n"
      ]
     },
     "metadata": {},
     "output_type": "display_data"
    },
    {
     "data": {
      "text/html": [
       "<pre style=\"white-space:pre;overflow-x:auto;line-height:normal;font-family:Menlo,'DejaVu Sans Mono',consolas,'Courier New',monospace\">Eval num_timesteps=670000, episode_reward=11.26 +/- 3.70\n",
       "</pre>\n"
      ],
      "text/plain": [
       "Eval num_timesteps=670000, episode_reward=11.26 +/- 3.70\n"
      ]
     },
     "metadata": {},
     "output_type": "display_data"
    },
    {
     "data": {
      "text/html": [
       "<pre style=\"white-space:pre;overflow-x:auto;line-height:normal;font-family:Menlo,'DejaVu Sans Mono',consolas,'Courier New',monospace\">Episode length: 725.92 +/- 143.14\n",
       "</pre>\n"
      ],
      "text/plain": [
       "Episode length: 725.92 +/- 143.14\n"
      ]
     },
     "metadata": {},
     "output_type": "display_data"
    },
    {
     "data": {
      "text/html": [
       "<pre style=\"white-space:pre;overflow-x:auto;line-height:normal;font-family:Menlo,'DejaVu Sans Mono',consolas,'Courier New',monospace\">Eval num_timesteps=675000, episode_reward=13.06 +/- 3.99\n",
       "</pre>\n"
      ],
      "text/plain": [
       "Eval num_timesteps=675000, episode_reward=13.06 +/- 3.99\n"
      ]
     },
     "metadata": {},
     "output_type": "display_data"
    },
    {
     "data": {
      "text/html": [
       "<pre style=\"white-space:pre;overflow-x:auto;line-height:normal;font-family:Menlo,'DejaVu Sans Mono',consolas,'Courier New',monospace\">Episode length: 801.10 +/- 154.69\n",
       "</pre>\n"
      ],
      "text/plain": [
       "Episode length: 801.10 +/- 154.69\n"
      ]
     },
     "metadata": {},
     "output_type": "display_data"
    },
    {
     "data": {
      "text/html": [
       "<pre style=\"white-space:pre;overflow-x:auto;line-height:normal;font-family:Menlo,'DejaVu Sans Mono',consolas,'Courier New',monospace\">New best mean reward!\n",
       "</pre>\n"
      ],
      "text/plain": [
       "New best mean reward!\n"
      ]
     },
     "metadata": {},
     "output_type": "display_data"
    },
    {
     "data": {
      "text/html": [
       "<pre style=\"white-space:pre;overflow-x:auto;line-height:normal;font-family:Menlo,'DejaVu Sans Mono',consolas,'Courier New',monospace\">Eval num_timesteps=680000, episode_reward=13.80 +/- 4.45\n",
       "</pre>\n"
      ],
      "text/plain": [
       "Eval num_timesteps=680000, episode_reward=13.80 +/- 4.45\n"
      ]
     },
     "metadata": {},
     "output_type": "display_data"
    },
    {
     "data": {
      "text/html": [
       "<pre style=\"white-space:pre;overflow-x:auto;line-height:normal;font-family:Menlo,'DejaVu Sans Mono',consolas,'Courier New',monospace\">Episode length: 814.60 +/- 161.73\n",
       "</pre>\n"
      ],
      "text/plain": [
       "Episode length: 814.60 +/- 161.73\n"
      ]
     },
     "metadata": {},
     "output_type": "display_data"
    },
    {
     "data": {
      "text/html": [
       "<pre style=\"white-space:pre;overflow-x:auto;line-height:normal;font-family:Menlo,'DejaVu Sans Mono',consolas,'Courier New',monospace\">New best mean reward!\n",
       "</pre>\n"
      ],
      "text/plain": [
       "New best mean reward!\n"
      ]
     },
     "metadata": {},
     "output_type": "display_data"
    },
    {
     "data": {
      "text/html": [
       "<pre style=\"white-space:pre;overflow-x:auto;line-height:normal;font-family:Menlo,'DejaVu Sans Mono',consolas,'Courier New',monospace\">Eval num_timesteps=685000, episode_reward=13.58 +/- 3.89\n",
       "</pre>\n"
      ],
      "text/plain": [
       "Eval num_timesteps=685000, episode_reward=13.58 +/- 3.89\n"
      ]
     },
     "metadata": {},
     "output_type": "display_data"
    },
    {
     "data": {
      "text/html": [
       "<pre style=\"white-space:pre;overflow-x:auto;line-height:normal;font-family:Menlo,'DejaVu Sans Mono',consolas,'Courier New',monospace\">Episode length: 823.72 +/- 145.68\n",
       "</pre>\n"
      ],
      "text/plain": [
       "Episode length: 823.72 +/- 145.68\n"
      ]
     },
     "metadata": {},
     "output_type": "display_data"
    },
    {
     "data": {
      "text/html": [
       "<pre style=\"white-space:pre;overflow-x:auto;line-height:normal;font-family:Menlo,'DejaVu Sans Mono',consolas,'Courier New',monospace\">Eval num_timesteps=690000, episode_reward=12.38 +/- 3.96\n",
       "</pre>\n"
      ],
      "text/plain": [
       "Eval num_timesteps=690000, episode_reward=12.38 +/- 3.96\n"
      ]
     },
     "metadata": {},
     "output_type": "display_data"
    },
    {
     "data": {
      "text/html": [
       "<pre style=\"white-space:pre;overflow-x:auto;line-height:normal;font-family:Menlo,'DejaVu Sans Mono',consolas,'Courier New',monospace\">Episode length: 760.76 +/- 145.92\n",
       "</pre>\n"
      ],
      "text/plain": [
       "Episode length: 760.76 +/- 145.92\n"
      ]
     },
     "metadata": {},
     "output_type": "display_data"
    },
    {
     "data": {
      "text/html": [
       "<pre style=\"white-space:pre;overflow-x:auto;line-height:normal;font-family:Menlo,'DejaVu Sans Mono',consolas,'Courier New',monospace\">Eval num_timesteps=695000, episode_reward=12.14 +/- 4.49\n",
       "</pre>\n"
      ],
      "text/plain": [
       "Eval num_timesteps=695000, episode_reward=12.14 +/- 4.49\n"
      ]
     },
     "metadata": {},
     "output_type": "display_data"
    },
    {
     "data": {
      "text/html": [
       "<pre style=\"white-space:pre;overflow-x:auto;line-height:normal;font-family:Menlo,'DejaVu Sans Mono',consolas,'Courier New',monospace\">Episode length: 747.16 +/- 137.53\n",
       "</pre>\n"
      ],
      "text/plain": [
       "Episode length: 747.16 +/- 137.53\n"
      ]
     },
     "metadata": {},
     "output_type": "display_data"
    },
    {
     "data": {
      "text/html": [
       "<pre style=\"white-space:pre;overflow-x:auto;line-height:normal;font-family:Menlo,'DejaVu Sans Mono',consolas,'Courier New',monospace\">Eval num_timesteps=700000, episode_reward=12.72 +/- 3.88\n",
       "</pre>\n"
      ],
      "text/plain": [
       "Eval num_timesteps=700000, episode_reward=12.72 +/- 3.88\n"
      ]
     },
     "metadata": {},
     "output_type": "display_data"
    },
    {
     "data": {
      "text/html": [
       "<pre style=\"white-space:pre;overflow-x:auto;line-height:normal;font-family:Menlo,'DejaVu Sans Mono',consolas,'Courier New',monospace\">Episode length: 758.44 +/- 124.16\n",
       "</pre>\n"
      ],
      "text/plain": [
       "Episode length: 758.44 +/- 124.16\n"
      ]
     },
     "metadata": {},
     "output_type": "display_data"
    },
    {
     "data": {
      "text/html": [
       "<pre style=\"white-space:pre;overflow-x:auto;line-height:normal;font-family:Menlo,'DejaVu Sans Mono',consolas,'Courier New',monospace\">Eval num_timesteps=705000, episode_reward=13.10 +/- 4.48\n",
       "</pre>\n"
      ],
      "text/plain": [
       "Eval num_timesteps=705000, episode_reward=13.10 +/- 4.48\n"
      ]
     },
     "metadata": {},
     "output_type": "display_data"
    },
    {
     "data": {
      "text/html": [
       "<pre style=\"white-space:pre;overflow-x:auto;line-height:normal;font-family:Menlo,'DejaVu Sans Mono',consolas,'Courier New',monospace\">Episode length: 771.66 +/- 158.87\n",
       "</pre>\n"
      ],
      "text/plain": [
       "Episode length: 771.66 +/- 158.87\n"
      ]
     },
     "metadata": {},
     "output_type": "display_data"
    },
    {
     "data": {
      "text/html": [
       "<pre style=\"white-space:pre;overflow-x:auto;line-height:normal;font-family:Menlo,'DejaVu Sans Mono',consolas,'Courier New',monospace\">Eval num_timesteps=710000, episode_reward=12.80 +/- 4.24\n",
       "</pre>\n"
      ],
      "text/plain": [
       "Eval num_timesteps=710000, episode_reward=12.80 +/- 4.24\n"
      ]
     },
     "metadata": {},
     "output_type": "display_data"
    },
    {
     "data": {
      "text/html": [
       "<pre style=\"white-space:pre;overflow-x:auto;line-height:normal;font-family:Menlo,'DejaVu Sans Mono',consolas,'Courier New',monospace\">Episode length: 777.80 +/- 159.19\n",
       "</pre>\n"
      ],
      "text/plain": [
       "Episode length: 777.80 +/- 159.19\n"
      ]
     },
     "metadata": {},
     "output_type": "display_data"
    },
    {
     "data": {
      "text/html": [
       "<pre style=\"white-space:pre;overflow-x:auto;line-height:normal;font-family:Menlo,'DejaVu Sans Mono',consolas,'Courier New',monospace\">Eval num_timesteps=715000, episode_reward=11.36 +/- 3.53\n",
       "</pre>\n"
      ],
      "text/plain": [
       "Eval num_timesteps=715000, episode_reward=11.36 +/- 3.53\n"
      ]
     },
     "metadata": {},
     "output_type": "display_data"
    },
    {
     "data": {
      "text/html": [
       "<pre style=\"white-space:pre;overflow-x:auto;line-height:normal;font-family:Menlo,'DejaVu Sans Mono',consolas,'Courier New',monospace\">Episode length: 727.88 +/- 145.40\n",
       "</pre>\n"
      ],
      "text/plain": [
       "Episode length: 727.88 +/- 145.40\n"
      ]
     },
     "metadata": {},
     "output_type": "display_data"
    },
    {
     "data": {
      "text/html": [
       "<pre style=\"white-space:pre;overflow-x:auto;line-height:normal;font-family:Menlo,'DejaVu Sans Mono',consolas,'Courier New',monospace\">Eval num_timesteps=720000, episode_reward=12.44 +/- 3.26\n",
       "</pre>\n"
      ],
      "text/plain": [
       "Eval num_timesteps=720000, episode_reward=12.44 +/- 3.26\n"
      ]
     },
     "metadata": {},
     "output_type": "display_data"
    },
    {
     "data": {
      "text/html": [
       "<pre style=\"white-space:pre;overflow-x:auto;line-height:normal;font-family:Menlo,'DejaVu Sans Mono',consolas,'Courier New',monospace\">Episode length: 769.44 +/- 104.60\n",
       "</pre>\n"
      ],
      "text/plain": [
       "Episode length: 769.44 +/- 104.60\n"
      ]
     },
     "metadata": {},
     "output_type": "display_data"
    },
    {
     "data": {
      "text/html": [
       "<pre style=\"white-space:pre;overflow-x:auto;line-height:normal;font-family:Menlo,'DejaVu Sans Mono',consolas,'Courier New',monospace\">Eval num_timesteps=725000, episode_reward=12.06 +/- 4.38\n",
       "</pre>\n"
      ],
      "text/plain": [
       "Eval num_timesteps=725000, episode_reward=12.06 +/- 4.38\n"
      ]
     },
     "metadata": {},
     "output_type": "display_data"
    },
    {
     "data": {
      "text/html": [
       "<pre style=\"white-space:pre;overflow-x:auto;line-height:normal;font-family:Menlo,'DejaVu Sans Mono',consolas,'Courier New',monospace\">Episode length: 753.82 +/- 157.85\n",
       "</pre>\n"
      ],
      "text/plain": [
       "Episode length: 753.82 +/- 157.85\n"
      ]
     },
     "metadata": {},
     "output_type": "display_data"
    },
    {
     "data": {
      "text/html": [
       "<pre style=\"white-space:pre;overflow-x:auto;line-height:normal;font-family:Menlo,'DejaVu Sans Mono',consolas,'Courier New',monospace\">Eval num_timesteps=730000, episode_reward=12.80 +/- 4.01\n",
       "</pre>\n"
      ],
      "text/plain": [
       "Eval num_timesteps=730000, episode_reward=12.80 +/- 4.01\n"
      ]
     },
     "metadata": {},
     "output_type": "display_data"
    },
    {
     "data": {
      "text/html": [
       "<pre style=\"white-space:pre;overflow-x:auto;line-height:normal;font-family:Menlo,'DejaVu Sans Mono',consolas,'Courier New',monospace\">Episode length: 762.46 +/- 148.19\n",
       "</pre>\n"
      ],
      "text/plain": [
       "Episode length: 762.46 +/- 148.19\n"
      ]
     },
     "metadata": {},
     "output_type": "display_data"
    },
    {
     "data": {
      "text/html": [
       "<pre style=\"white-space:pre;overflow-x:auto;line-height:normal;font-family:Menlo,'DejaVu Sans Mono',consolas,'Courier New',monospace\">Eval num_timesteps=735000, episode_reward=12.54 +/- 4.27\n",
       "</pre>\n"
      ],
      "text/plain": [
       "Eval num_timesteps=735000, episode_reward=12.54 +/- 4.27\n"
      ]
     },
     "metadata": {},
     "output_type": "display_data"
    },
    {
     "data": {
      "text/html": [
       "<pre style=\"white-space:pre;overflow-x:auto;line-height:normal;font-family:Menlo,'DejaVu Sans Mono',consolas,'Courier New',monospace\">Episode length: 754.26 +/- 148.04\n",
       "</pre>\n"
      ],
      "text/plain": [
       "Episode length: 754.26 +/- 148.04\n"
      ]
     },
     "metadata": {},
     "output_type": "display_data"
    },
    {
     "data": {
      "text/html": [
       "<pre style=\"white-space:pre;overflow-x:auto;line-height:normal;font-family:Menlo,'DejaVu Sans Mono',consolas,'Courier New',monospace\">Eval num_timesteps=740000, episode_reward=13.02 +/- 4.55\n",
       "</pre>\n"
      ],
      "text/plain": [
       "Eval num_timesteps=740000, episode_reward=13.02 +/- 4.55\n"
      ]
     },
     "metadata": {},
     "output_type": "display_data"
    },
    {
     "data": {
      "text/html": [
       "<pre style=\"white-space:pre;overflow-x:auto;line-height:normal;font-family:Menlo,'DejaVu Sans Mono',consolas,'Courier New',monospace\">Episode length: 777.02 +/- 164.08\n",
       "</pre>\n"
      ],
      "text/plain": [
       "Episode length: 777.02 +/- 164.08\n"
      ]
     },
     "metadata": {},
     "output_type": "display_data"
    },
    {
     "data": {
      "text/html": [
       "<pre style=\"white-space:pre;overflow-x:auto;line-height:normal;font-family:Menlo,'DejaVu Sans Mono',consolas,'Courier New',monospace\">Eval num_timesteps=745000, episode_reward=12.00 +/- 3.86\n",
       "</pre>\n"
      ],
      "text/plain": [
       "Eval num_timesteps=745000, episode_reward=12.00 +/- 3.86\n"
      ]
     },
     "metadata": {},
     "output_type": "display_data"
    },
    {
     "data": {
      "text/html": [
       "<pre style=\"white-space:pre;overflow-x:auto;line-height:normal;font-family:Menlo,'DejaVu Sans Mono',consolas,'Courier New',monospace\">Episode length: 759.78 +/- 152.49\n",
       "</pre>\n"
      ],
      "text/plain": [
       "Episode length: 759.78 +/- 152.49\n"
      ]
     },
     "metadata": {},
     "output_type": "display_data"
    },
    {
     "data": {
      "text/html": [
       "<pre style=\"white-space:pre;overflow-x:auto;line-height:normal;font-family:Menlo,'DejaVu Sans Mono',consolas,'Courier New',monospace\">Eval num_timesteps=750000, episode_reward=12.58 +/- 3.76\n",
       "</pre>\n"
      ],
      "text/plain": [
       "Eval num_timesteps=750000, episode_reward=12.58 +/- 3.76\n"
      ]
     },
     "metadata": {},
     "output_type": "display_data"
    },
    {
     "data": {
      "text/html": [
       "<pre style=\"white-space:pre;overflow-x:auto;line-height:normal;font-family:Menlo,'DejaVu Sans Mono',consolas,'Courier New',monospace\">Episode length: 778.88 +/- 147.95\n",
       "</pre>\n"
      ],
      "text/plain": [
       "Episode length: 778.88 +/- 147.95\n"
      ]
     },
     "metadata": {},
     "output_type": "display_data"
    },
    {
     "data": {
      "text/html": [
       "<pre style=\"white-space:pre;overflow-x:auto;line-height:normal;font-family:Menlo,'DejaVu Sans Mono',consolas,'Courier New',monospace\">Eval num_timesteps=755000, episode_reward=10.52 +/- 3.86\n",
       "</pre>\n"
      ],
      "text/plain": [
       "Eval num_timesteps=755000, episode_reward=10.52 +/- 3.86\n"
      ]
     },
     "metadata": {},
     "output_type": "display_data"
    },
    {
     "data": {
      "text/html": [
       "<pre style=\"white-space:pre;overflow-x:auto;line-height:normal;font-family:Menlo,'DejaVu Sans Mono',consolas,'Courier New',monospace\">Episode length: 686.20 +/- 168.15\n",
       "</pre>\n"
      ],
      "text/plain": [
       "Episode length: 686.20 +/- 168.15\n"
      ]
     },
     "metadata": {},
     "output_type": "display_data"
    },
    {
     "data": {
      "text/html": [
       "<pre style=\"white-space:pre;overflow-x:auto;line-height:normal;font-family:Menlo,'DejaVu Sans Mono',consolas,'Courier New',monospace\">Eval num_timesteps=760000, episode_reward=13.98 +/- 3.87\n",
       "</pre>\n"
      ],
      "text/plain": [
       "Eval num_timesteps=760000, episode_reward=13.98 +/- 3.87\n"
      ]
     },
     "metadata": {},
     "output_type": "display_data"
    },
    {
     "data": {
      "text/html": [
       "<pre style=\"white-space:pre;overflow-x:auto;line-height:normal;font-family:Menlo,'DejaVu Sans Mono',consolas,'Courier New',monospace\">Episode length: 828.86 +/- 140.54\n",
       "</pre>\n"
      ],
      "text/plain": [
       "Episode length: 828.86 +/- 140.54\n"
      ]
     },
     "metadata": {},
     "output_type": "display_data"
    },
    {
     "data": {
      "text/html": [
       "<pre style=\"white-space:pre;overflow-x:auto;line-height:normal;font-family:Menlo,'DejaVu Sans Mono',consolas,'Courier New',monospace\">New best mean reward!\n",
       "</pre>\n"
      ],
      "text/plain": [
       "New best mean reward!\n"
      ]
     },
     "metadata": {},
     "output_type": "display_data"
    },
    {
     "data": {
      "text/html": [
       "<pre style=\"white-space:pre;overflow-x:auto;line-height:normal;font-family:Menlo,'DejaVu Sans Mono',consolas,'Courier New',monospace\">Eval num_timesteps=765000, episode_reward=12.18 +/- 4.25\n",
       "</pre>\n"
      ],
      "text/plain": [
       "Eval num_timesteps=765000, episode_reward=12.18 +/- 4.25\n"
      ]
     },
     "metadata": {},
     "output_type": "display_data"
    },
    {
     "data": {
      "text/html": [
       "<pre style=\"white-space:pre;overflow-x:auto;line-height:normal;font-family:Menlo,'DejaVu Sans Mono',consolas,'Courier New',monospace\">Episode length: 767.52 +/- 172.07\n",
       "</pre>\n"
      ],
      "text/plain": [
       "Episode length: 767.52 +/- 172.07\n"
      ]
     },
     "metadata": {},
     "output_type": "display_data"
    },
    {
     "data": {
      "text/html": [
       "<pre style=\"white-space:pre;overflow-x:auto;line-height:normal;font-family:Menlo,'DejaVu Sans Mono',consolas,'Courier New',monospace\">Eval num_timesteps=770000, episode_reward=12.06 +/- 3.63\n",
       "</pre>\n"
      ],
      "text/plain": [
       "Eval num_timesteps=770000, episode_reward=12.06 +/- 3.63\n"
      ]
     },
     "metadata": {},
     "output_type": "display_data"
    },
    {
     "data": {
      "text/html": [
       "<pre style=\"white-space:pre;overflow-x:auto;line-height:normal;font-family:Menlo,'DejaVu Sans Mono',consolas,'Courier New',monospace\">Episode length: 762.48 +/- 140.45\n",
       "</pre>\n"
      ],
      "text/plain": [
       "Episode length: 762.48 +/- 140.45\n"
      ]
     },
     "metadata": {},
     "output_type": "display_data"
    },
    {
     "data": {
      "text/html": [
       "<pre style=\"white-space:pre;overflow-x:auto;line-height:normal;font-family:Menlo,'DejaVu Sans Mono',consolas,'Courier New',monospace\">Eval num_timesteps=775000, episode_reward=12.56 +/- 5.27\n",
       "</pre>\n"
      ],
      "text/plain": [
       "Eval num_timesteps=775000, episode_reward=12.56 +/- 5.27\n"
      ]
     },
     "metadata": {},
     "output_type": "display_data"
    },
    {
     "data": {
      "text/html": [
       "<pre style=\"white-space:pre;overflow-x:auto;line-height:normal;font-family:Menlo,'DejaVu Sans Mono',consolas,'Courier New',monospace\">Episode length: 775.06 +/- 183.23\n",
       "</pre>\n"
      ],
      "text/plain": [
       "Episode length: 775.06 +/- 183.23\n"
      ]
     },
     "metadata": {},
     "output_type": "display_data"
    },
    {
     "data": {
      "text/html": [
       "<pre style=\"white-space:pre;overflow-x:auto;line-height:normal;font-family:Menlo,'DejaVu Sans Mono',consolas,'Courier New',monospace\">Eval num_timesteps=780000, episode_reward=13.24 +/- 5.30\n",
       "</pre>\n"
      ],
      "text/plain": [
       "Eval num_timesteps=780000, episode_reward=13.24 +/- 5.30\n"
      ]
     },
     "metadata": {},
     "output_type": "display_data"
    },
    {
     "data": {
      "text/html": [
       "<pre style=\"white-space:pre;overflow-x:auto;line-height:normal;font-family:Menlo,'DejaVu Sans Mono',consolas,'Courier New',monospace\">Episode length: 758.38 +/- 173.53\n",
       "</pre>\n"
      ],
      "text/plain": [
       "Episode length: 758.38 +/- 173.53\n"
      ]
     },
     "metadata": {},
     "output_type": "display_data"
    },
    {
     "data": {
      "text/html": [
       "<pre style=\"white-space:pre;overflow-x:auto;line-height:normal;font-family:Menlo,'DejaVu Sans Mono',consolas,'Courier New',monospace\">Eval num_timesteps=785000, episode_reward=13.50 +/- 4.89\n",
       "</pre>\n"
      ],
      "text/plain": [
       "Eval num_timesteps=785000, episode_reward=13.50 +/- 4.89\n"
      ]
     },
     "metadata": {},
     "output_type": "display_data"
    },
    {
     "data": {
      "text/html": [
       "<pre style=\"white-space:pre;overflow-x:auto;line-height:normal;font-family:Menlo,'DejaVu Sans Mono',consolas,'Courier New',monospace\">Episode length: 1516.40 +/- 4936.45\n",
       "</pre>\n"
      ],
      "text/plain": [
       "Episode length: 1516.40 +/- 4936.45\n"
      ]
     },
     "metadata": {},
     "output_type": "display_data"
    },
    {
     "data": {
      "text/html": [
       "<pre style=\"white-space:pre;overflow-x:auto;line-height:normal;font-family:Menlo,'DejaVu Sans Mono',consolas,'Courier New',monospace\">Eval num_timesteps=790000, episode_reward=11.98 +/- 4.84\n",
       "</pre>\n"
      ],
      "text/plain": [
       "Eval num_timesteps=790000, episode_reward=11.98 +/- 4.84\n"
      ]
     },
     "metadata": {},
     "output_type": "display_data"
    },
    {
     "data": {
      "text/html": [
       "<pre style=\"white-space:pre;overflow-x:auto;line-height:normal;font-family:Menlo,'DejaVu Sans Mono',consolas,'Courier New',monospace\">Episode length: 728.62 +/- 163.69\n",
       "</pre>\n"
      ],
      "text/plain": [
       "Episode length: 728.62 +/- 163.69\n"
      ]
     },
     "metadata": {},
     "output_type": "display_data"
    },
    {
     "data": {
      "text/html": [
       "<pre style=\"white-space:pre;overflow-x:auto;line-height:normal;font-family:Menlo,'DejaVu Sans Mono',consolas,'Courier New',monospace\">Eval num_timesteps=795000, episode_reward=11.60 +/- 4.45\n",
       "</pre>\n"
      ],
      "text/plain": [
       "Eval num_timesteps=795000, episode_reward=11.60 +/- 4.45\n"
      ]
     },
     "metadata": {},
     "output_type": "display_data"
    },
    {
     "data": {
      "text/html": [
       "<pre style=\"white-space:pre;overflow-x:auto;line-height:normal;font-family:Menlo,'DejaVu Sans Mono',consolas,'Courier New',monospace\">Episode length: 707.84 +/- 141.42\n",
       "</pre>\n"
      ],
      "text/plain": [
       "Episode length: 707.84 +/- 141.42\n"
      ]
     },
     "metadata": {},
     "output_type": "display_data"
    },
    {
     "data": {
      "text/html": [
       "<pre style=\"white-space:pre;overflow-x:auto;line-height:normal;font-family:Menlo,'DejaVu Sans Mono',consolas,'Courier New',monospace\">Eval num_timesteps=800000, episode_reward=12.12 +/- 5.09\n",
       "</pre>\n"
      ],
      "text/plain": [
       "Eval num_timesteps=800000, episode_reward=12.12 +/- 5.09\n"
      ]
     },
     "metadata": {},
     "output_type": "display_data"
    },
    {
     "data": {
      "text/html": [
       "<pre style=\"white-space:pre;overflow-x:auto;line-height:normal;font-family:Menlo,'DejaVu Sans Mono',consolas,'Courier New',monospace\">Episode length: 743.38 +/- 171.84\n",
       "</pre>\n"
      ],
      "text/plain": [
       "Episode length: 743.38 +/- 171.84\n"
      ]
     },
     "metadata": {},
     "output_type": "display_data"
    },
    {
     "data": {
      "text/html": [
       "<pre style=\"white-space:pre;overflow-x:auto;line-height:normal;font-family:Menlo,'DejaVu Sans Mono',consolas,'Courier New',monospace\">Eval num_timesteps=805000, episode_reward=11.64 +/- 4.32\n",
       "</pre>\n"
      ],
      "text/plain": [
       "Eval num_timesteps=805000, episode_reward=11.64 +/- 4.32\n"
      ]
     },
     "metadata": {},
     "output_type": "display_data"
    },
    {
     "data": {
      "text/html": [
       "<pre style=\"white-space:pre;overflow-x:auto;line-height:normal;font-family:Menlo,'DejaVu Sans Mono',consolas,'Courier New',monospace\">Episode length: 742.84 +/- 180.98\n",
       "</pre>\n"
      ],
      "text/plain": [
       "Episode length: 742.84 +/- 180.98\n"
      ]
     },
     "metadata": {},
     "output_type": "display_data"
    },
    {
     "data": {
      "text/html": [
       "<pre style=\"white-space:pre;overflow-x:auto;line-height:normal;font-family:Menlo,'DejaVu Sans Mono',consolas,'Courier New',monospace\">Eval num_timesteps=810000, episode_reward=13.18 +/- 5.11\n",
       "</pre>\n"
      ],
      "text/plain": [
       "Eval num_timesteps=810000, episode_reward=13.18 +/- 5.11\n"
      ]
     },
     "metadata": {},
     "output_type": "display_data"
    },
    {
     "data": {
      "text/html": [
       "<pre style=\"white-space:pre;overflow-x:auto;line-height:normal;font-family:Menlo,'DejaVu Sans Mono',consolas,'Courier New',monospace\">Episode length: 768.08 +/- 154.14\n",
       "</pre>\n"
      ],
      "text/plain": [
       "Episode length: 768.08 +/- 154.14\n"
      ]
     },
     "metadata": {},
     "output_type": "display_data"
    },
    {
     "data": {
      "text/html": [
       "<pre style=\"white-space:pre;overflow-x:auto;line-height:normal;font-family:Menlo,'DejaVu Sans Mono',consolas,'Courier New',monospace\">Eval num_timesteps=815000, episode_reward=12.60 +/- 3.76\n",
       "</pre>\n"
      ],
      "text/plain": [
       "Eval num_timesteps=815000, episode_reward=12.60 +/- 3.76\n"
      ]
     },
     "metadata": {},
     "output_type": "display_data"
    },
    {
     "data": {
      "text/html": [
       "<pre style=\"white-space:pre;overflow-x:auto;line-height:normal;font-family:Menlo,'DejaVu Sans Mono',consolas,'Courier New',monospace\">Episode length: 783.48 +/- 144.24\n",
       "</pre>\n"
      ],
      "text/plain": [
       "Episode length: 783.48 +/- 144.24\n"
      ]
     },
     "metadata": {},
     "output_type": "display_data"
    },
    {
     "data": {
      "text/html": [
       "<pre style=\"white-space:pre;overflow-x:auto;line-height:normal;font-family:Menlo,'DejaVu Sans Mono',consolas,'Courier New',monospace\">Eval num_timesteps=820000, episode_reward=13.32 +/- 4.55\n",
       "</pre>\n"
      ],
      "text/plain": [
       "Eval num_timesteps=820000, episode_reward=13.32 +/- 4.55\n"
      ]
     },
     "metadata": {},
     "output_type": "display_data"
    },
    {
     "data": {
      "text/html": [
       "<pre style=\"white-space:pre;overflow-x:auto;line-height:normal;font-family:Menlo,'DejaVu Sans Mono',consolas,'Courier New',monospace\">Episode length: 793.94 +/- 161.53\n",
       "</pre>\n"
      ],
      "text/plain": [
       "Episode length: 793.94 +/- 161.53\n"
      ]
     },
     "metadata": {},
     "output_type": "display_data"
    },
    {
     "data": {
      "text/html": [
       "<pre style=\"white-space:pre;overflow-x:auto;line-height:normal;font-family:Menlo,'DejaVu Sans Mono',consolas,'Courier New',monospace\">Eval num_timesteps=825000, episode_reward=12.14 +/- 4.35\n",
       "</pre>\n"
      ],
      "text/plain": [
       "Eval num_timesteps=825000, episode_reward=12.14 +/- 4.35\n"
      ]
     },
     "metadata": {},
     "output_type": "display_data"
    },
    {
     "data": {
      "text/html": [
       "<pre style=\"white-space:pre;overflow-x:auto;line-height:normal;font-family:Menlo,'DejaVu Sans Mono',consolas,'Courier New',monospace\">Episode length: 730.14 +/- 133.40\n",
       "</pre>\n"
      ],
      "text/plain": [
       "Episode length: 730.14 +/- 133.40\n"
      ]
     },
     "metadata": {},
     "output_type": "display_data"
    },
    {
     "data": {
      "text/html": [
       "<pre style=\"white-space:pre;overflow-x:auto;line-height:normal;font-family:Menlo,'DejaVu Sans Mono',consolas,'Courier New',monospace\">Eval num_timesteps=830000, episode_reward=13.48 +/- 4.84\n",
       "</pre>\n"
      ],
      "text/plain": [
       "Eval num_timesteps=830000, episode_reward=13.48 +/- 4.84\n"
      ]
     },
     "metadata": {},
     "output_type": "display_data"
    },
    {
     "data": {
      "text/html": [
       "<pre style=\"white-space:pre;overflow-x:auto;line-height:normal;font-family:Menlo,'DejaVu Sans Mono',consolas,'Courier New',monospace\">Episode length: 789.16 +/- 159.44\n",
       "</pre>\n"
      ],
      "text/plain": [
       "Episode length: 789.16 +/- 159.44\n"
      ]
     },
     "metadata": {},
     "output_type": "display_data"
    },
    {
     "data": {
      "text/html": [
       "<pre style=\"white-space:pre;overflow-x:auto;line-height:normal;font-family:Menlo,'DejaVu Sans Mono',consolas,'Courier New',monospace\">Eval num_timesteps=835000, episode_reward=14.22 +/- 4.03\n",
       "</pre>\n"
      ],
      "text/plain": [
       "Eval num_timesteps=835000, episode_reward=14.22 +/- 4.03\n"
      ]
     },
     "metadata": {},
     "output_type": "display_data"
    },
    {
     "data": {
      "text/html": [
       "<pre style=\"white-space:pre;overflow-x:auto;line-height:normal;font-family:Menlo,'DejaVu Sans Mono',consolas,'Courier New',monospace\">Episode length: 808.12 +/- 122.11\n",
       "</pre>\n"
      ],
      "text/plain": [
       "Episode length: 808.12 +/- 122.11\n"
      ]
     },
     "metadata": {},
     "output_type": "display_data"
    },
    {
     "data": {
      "text/html": [
       "<pre style=\"white-space:pre;overflow-x:auto;line-height:normal;font-family:Menlo,'DejaVu Sans Mono',consolas,'Courier New',monospace\">New best mean reward!\n",
       "</pre>\n"
      ],
      "text/plain": [
       "New best mean reward!\n"
      ]
     },
     "metadata": {},
     "output_type": "display_data"
    },
    {
     "data": {
      "text/html": [
       "<pre style=\"white-space:pre;overflow-x:auto;line-height:normal;font-family:Menlo,'DejaVu Sans Mono',consolas,'Courier New',monospace\">Eval num_timesteps=840000, episode_reward=12.80 +/- 5.09\n",
       "</pre>\n"
      ],
      "text/plain": [
       "Eval num_timesteps=840000, episode_reward=12.80 +/- 5.09\n"
      ]
     },
     "metadata": {},
     "output_type": "display_data"
    },
    {
     "data": {
      "text/html": [
       "<pre style=\"white-space:pre;overflow-x:auto;line-height:normal;font-family:Menlo,'DejaVu Sans Mono',consolas,'Courier New',monospace\">Episode length: 1481.34 +/- 4937.27\n",
       "</pre>\n"
      ],
      "text/plain": [
       "Episode length: 1481.34 +/- 4937.27\n"
      ]
     },
     "metadata": {},
     "output_type": "display_data"
    },
    {
     "data": {
      "text/html": [
       "<pre style=\"white-space:pre;overflow-x:auto;line-height:normal;font-family:Menlo,'DejaVu Sans Mono',consolas,'Courier New',monospace\">Eval num_timesteps=845000, episode_reward=14.62 +/- 5.10\n",
       "</pre>\n"
      ],
      "text/plain": [
       "Eval num_timesteps=845000, episode_reward=14.62 +/- 5.10\n"
      ]
     },
     "metadata": {},
     "output_type": "display_data"
    },
    {
     "data": {
      "text/html": [
       "<pre style=\"white-space:pre;overflow-x:auto;line-height:normal;font-family:Menlo,'DejaVu Sans Mono',consolas,'Courier New',monospace\">Episode length: 831.64 +/- 151.01\n",
       "</pre>\n"
      ],
      "text/plain": [
       "Episode length: 831.64 +/- 151.01\n"
      ]
     },
     "metadata": {},
     "output_type": "display_data"
    },
    {
     "data": {
      "text/html": [
       "<pre style=\"white-space:pre;overflow-x:auto;line-height:normal;font-family:Menlo,'DejaVu Sans Mono',consolas,'Courier New',monospace\">New best mean reward!\n",
       "</pre>\n"
      ],
      "text/plain": [
       "New best mean reward!\n"
      ]
     },
     "metadata": {},
     "output_type": "display_data"
    },
    {
     "data": {
      "text/html": [
       "<pre style=\"white-space:pre;overflow-x:auto;line-height:normal;font-family:Menlo,'DejaVu Sans Mono',consolas,'Courier New',monospace\">Eval num_timesteps=850000, episode_reward=13.16 +/- 4.89\n",
       "</pre>\n"
      ],
      "text/plain": [
       "Eval num_timesteps=850000, episode_reward=13.16 +/- 4.89\n"
      ]
     },
     "metadata": {},
     "output_type": "display_data"
    },
    {
     "data": {
      "text/html": [
       "<pre style=\"white-space:pre;overflow-x:auto;line-height:normal;font-family:Menlo,'DejaVu Sans Mono',consolas,'Courier New',monospace\">Episode length: 776.46 +/- 163.78\n",
       "</pre>\n"
      ],
      "text/plain": [
       "Episode length: 776.46 +/- 163.78\n"
      ]
     },
     "metadata": {},
     "output_type": "display_data"
    },
    {
     "data": {
      "text/html": [
       "<pre style=\"white-space:pre;overflow-x:auto;line-height:normal;font-family:Menlo,'DejaVu Sans Mono',consolas,'Courier New',monospace\">Eval num_timesteps=855000, episode_reward=13.12 +/- 3.95\n",
       "</pre>\n"
      ],
      "text/plain": [
       "Eval num_timesteps=855000, episode_reward=13.12 +/- 3.95\n"
      ]
     },
     "metadata": {},
     "output_type": "display_data"
    },
    {
     "data": {
      "text/html": [
       "<pre style=\"white-space:pre;overflow-x:auto;line-height:normal;font-family:Menlo,'DejaVu Sans Mono',consolas,'Courier New',monospace\">Episode length: 764.50 +/- 140.21\n",
       "</pre>\n"
      ],
      "text/plain": [
       "Episode length: 764.50 +/- 140.21\n"
      ]
     },
     "metadata": {},
     "output_type": "display_data"
    },
    {
     "data": {
      "text/html": [
       "<pre style=\"white-space:pre;overflow-x:auto;line-height:normal;font-family:Menlo,'DejaVu Sans Mono',consolas,'Courier New',monospace\">Eval num_timesteps=860000, episode_reward=14.44 +/- 5.97\n",
       "</pre>\n"
      ],
      "text/plain": [
       "Eval num_timesteps=860000, episode_reward=14.44 +/- 5.97\n"
      ]
     },
     "metadata": {},
     "output_type": "display_data"
    },
    {
     "data": {
      "text/html": [
       "<pre style=\"white-space:pre;overflow-x:auto;line-height:normal;font-family:Menlo,'DejaVu Sans Mono',consolas,'Courier New',monospace\">Episode length: 804.74 +/- 181.03\n",
       "</pre>\n"
      ],
      "text/plain": [
       "Episode length: 804.74 +/- 181.03\n"
      ]
     },
     "metadata": {},
     "output_type": "display_data"
    },
    {
     "data": {
      "text/html": [
       "<pre style=\"white-space:pre;overflow-x:auto;line-height:normal;font-family:Menlo,'DejaVu Sans Mono',consolas,'Courier New',monospace\">Eval num_timesteps=865000, episode_reward=15.26 +/- 4.77\n",
       "</pre>\n"
      ],
      "text/plain": [
       "Eval num_timesteps=865000, episode_reward=15.26 +/- 4.77\n"
      ]
     },
     "metadata": {},
     "output_type": "display_data"
    },
    {
     "data": {
      "text/html": [
       "<pre style=\"white-space:pre;overflow-x:auto;line-height:normal;font-family:Menlo,'DejaVu Sans Mono',consolas,'Courier New',monospace\">Episode length: 852.52 +/- 152.60\n",
       "</pre>\n"
      ],
      "text/plain": [
       "Episode length: 852.52 +/- 152.60\n"
      ]
     },
     "metadata": {},
     "output_type": "display_data"
    },
    {
     "data": {
      "text/html": [
       "<pre style=\"white-space:pre;overflow-x:auto;line-height:normal;font-family:Menlo,'DejaVu Sans Mono',consolas,'Courier New',monospace\">New best mean reward!\n",
       "</pre>\n"
      ],
      "text/plain": [
       "New best mean reward!\n"
      ]
     },
     "metadata": {},
     "output_type": "display_data"
    },
    {
     "data": {
      "text/html": [
       "<pre style=\"white-space:pre;overflow-x:auto;line-height:normal;font-family:Menlo,'DejaVu Sans Mono',consolas,'Courier New',monospace\">Eval num_timesteps=870000, episode_reward=14.04 +/- 4.84\n",
       "</pre>\n"
      ],
      "text/plain": [
       "Eval num_timesteps=870000, episode_reward=14.04 +/- 4.84\n"
      ]
     },
     "metadata": {},
     "output_type": "display_data"
    },
    {
     "data": {
      "text/html": [
       "<pre style=\"white-space:pre;overflow-x:auto;line-height:normal;font-family:Menlo,'DejaVu Sans Mono',consolas,'Courier New',monospace\">Episode length: 795.12 +/- 154.79\n",
       "</pre>\n"
      ],
      "text/plain": [
       "Episode length: 795.12 +/- 154.79\n"
      ]
     },
     "metadata": {},
     "output_type": "display_data"
    },
    {
     "data": {
      "text/html": [
       "<pre style=\"white-space:pre;overflow-x:auto;line-height:normal;font-family:Menlo,'DejaVu Sans Mono',consolas,'Courier New',monospace\">Eval num_timesteps=875000, episode_reward=12.14 +/- 5.03\n",
       "</pre>\n"
      ],
      "text/plain": [
       "Eval num_timesteps=875000, episode_reward=12.14 +/- 5.03\n"
      ]
     },
     "metadata": {},
     "output_type": "display_data"
    },
    {
     "data": {
      "text/html": [
       "<pre style=\"white-space:pre;overflow-x:auto;line-height:normal;font-family:Menlo,'DejaVu Sans Mono',consolas,'Courier New',monospace\">Episode length: 1450.54 +/- 4939.42\n",
       "</pre>\n"
      ],
      "text/plain": [
       "Episode length: 1450.54 +/- 4939.42\n"
      ]
     },
     "metadata": {},
     "output_type": "display_data"
    },
    {
     "data": {
      "text/html": [
       "<pre style=\"white-space:pre;overflow-x:auto;line-height:normal;font-family:Menlo,'DejaVu Sans Mono',consolas,'Courier New',monospace\">Eval num_timesteps=880000, episode_reward=9.98 +/- 3.29\n",
       "</pre>\n"
      ],
      "text/plain": [
       "Eval num_timesteps=880000, episode_reward=9.98 +/- 3.29\n"
      ]
     },
     "metadata": {},
     "output_type": "display_data"
    },
    {
     "data": {
      "text/html": [
       "<pre style=\"white-space:pre;overflow-x:auto;line-height:normal;font-family:Menlo,'DejaVu Sans Mono',consolas,'Courier New',monospace\">Episode length: 664.42 +/- 139.38\n",
       "</pre>\n"
      ],
      "text/plain": [
       "Episode length: 664.42 +/- 139.38\n"
      ]
     },
     "metadata": {},
     "output_type": "display_data"
    },
    {
     "data": {
      "text/html": [
       "<pre style=\"white-space:pre;overflow-x:auto;line-height:normal;font-family:Menlo,'DejaVu Sans Mono',consolas,'Courier New',monospace\">Eval num_timesteps=885000, episode_reward=11.78 +/- 4.41\n",
       "</pre>\n"
      ],
      "text/plain": [
       "Eval num_timesteps=885000, episode_reward=11.78 +/- 4.41\n"
      ]
     },
     "metadata": {},
     "output_type": "display_data"
    },
    {
     "data": {
      "text/html": [
       "<pre style=\"white-space:pre;overflow-x:auto;line-height:normal;font-family:Menlo,'DejaVu Sans Mono',consolas,'Courier New',monospace\">Episode length: 708.64 +/- 152.06\n",
       "</pre>\n"
      ],
      "text/plain": [
       "Episode length: 708.64 +/- 152.06\n"
      ]
     },
     "metadata": {},
     "output_type": "display_data"
    },
    {
     "data": {
      "text/html": [
       "<pre style=\"white-space:pre;overflow-x:auto;line-height:normal;font-family:Menlo,'DejaVu Sans Mono',consolas,'Courier New',monospace\">Eval num_timesteps=890000, episode_reward=11.78 +/- 5.15\n",
       "</pre>\n"
      ],
      "text/plain": [
       "Eval num_timesteps=890000, episode_reward=11.78 +/- 5.15\n"
      ]
     },
     "metadata": {},
     "output_type": "display_data"
    },
    {
     "data": {
      "text/html": [
       "<pre style=\"white-space:pre;overflow-x:auto;line-height:normal;font-family:Menlo,'DejaVu Sans Mono',consolas,'Courier New',monospace\">Episode length: 696.16 +/- 176.29\n",
       "</pre>\n"
      ],
      "text/plain": [
       "Episode length: 696.16 +/- 176.29\n"
      ]
     },
     "metadata": {},
     "output_type": "display_data"
    },
    {
     "data": {
      "text/html": [
       "<pre style=\"white-space:pre;overflow-x:auto;line-height:normal;font-family:Menlo,'DejaVu Sans Mono',consolas,'Courier New',monospace\">Eval num_timesteps=895000, episode_reward=12.24 +/- 5.48\n",
       "</pre>\n"
      ],
      "text/plain": [
       "Eval num_timesteps=895000, episode_reward=12.24 +/- 5.48\n"
      ]
     },
     "metadata": {},
     "output_type": "display_data"
    },
    {
     "data": {
      "text/html": [
       "<pre style=\"white-space:pre;overflow-x:auto;line-height:normal;font-family:Menlo,'DejaVu Sans Mono',consolas,'Courier New',monospace\">Episode length: 708.52 +/- 175.22\n",
       "</pre>\n"
      ],
      "text/plain": [
       "Episode length: 708.52 +/- 175.22\n"
      ]
     },
     "metadata": {},
     "output_type": "display_data"
    },
    {
     "data": {
      "text/html": [
       "<pre style=\"white-space:pre;overflow-x:auto;line-height:normal;font-family:Menlo,'DejaVu Sans Mono',consolas,'Courier New',monospace\">Eval num_timesteps=900000, episode_reward=11.34 +/- 4.38\n",
       "</pre>\n"
      ],
      "text/plain": [
       "Eval num_timesteps=900000, episode_reward=11.34 +/- 4.38\n"
      ]
     },
     "metadata": {},
     "output_type": "display_data"
    },
    {
     "data": {
      "text/html": [
       "<pre style=\"white-space:pre;overflow-x:auto;line-height:normal;font-family:Menlo,'DejaVu Sans Mono',consolas,'Courier New',monospace\">Episode length: 694.94 +/- 149.34\n",
       "</pre>\n"
      ],
      "text/plain": [
       "Episode length: 694.94 +/- 149.34\n"
      ]
     },
     "metadata": {},
     "output_type": "display_data"
    },
    {
     "data": {
      "text/html": [
       "<pre style=\"white-space:pre;overflow-x:auto;line-height:normal;font-family:Menlo,'DejaVu Sans Mono',consolas,'Courier New',monospace\">Eval num_timesteps=905000, episode_reward=12.72 +/- 5.43\n",
       "</pre>\n"
      ],
      "text/plain": [
       "Eval num_timesteps=905000, episode_reward=12.72 +/- 5.43\n"
      ]
     },
     "metadata": {},
     "output_type": "display_data"
    },
    {
     "data": {
      "text/html": [
       "<pre style=\"white-space:pre;overflow-x:auto;line-height:normal;font-family:Menlo,'DejaVu Sans Mono',consolas,'Courier New',monospace\">Episode length: 743.04 +/- 192.47\n",
       "</pre>\n"
      ],
      "text/plain": [
       "Episode length: 743.04 +/- 192.47\n"
      ]
     },
     "metadata": {},
     "output_type": "display_data"
    },
    {
     "data": {
      "text/html": [
       "<pre style=\"white-space:pre;overflow-x:auto;line-height:normal;font-family:Menlo,'DejaVu Sans Mono',consolas,'Courier New',monospace\">Eval num_timesteps=910000, episode_reward=11.84 +/- 4.75\n",
       "</pre>\n"
      ],
      "text/plain": [
       "Eval num_timesteps=910000, episode_reward=11.84 +/- 4.75\n"
      ]
     },
     "metadata": {},
     "output_type": "display_data"
    },
    {
     "data": {
      "text/html": [
       "<pre style=\"white-space:pre;overflow-x:auto;line-height:normal;font-family:Menlo,'DejaVu Sans Mono',consolas,'Courier New',monospace\">Episode length: 719.36 +/- 185.28\n",
       "</pre>\n"
      ],
      "text/plain": [
       "Episode length: 719.36 +/- 185.28\n"
      ]
     },
     "metadata": {},
     "output_type": "display_data"
    },
    {
     "data": {
      "text/html": [
       "<pre style=\"white-space:pre;overflow-x:auto;line-height:normal;font-family:Menlo,'DejaVu Sans Mono',consolas,'Courier New',monospace\">Eval num_timesteps=915000, episode_reward=11.58 +/- 4.37\n",
       "</pre>\n"
      ],
      "text/plain": [
       "Eval num_timesteps=915000, episode_reward=11.58 +/- 4.37\n"
      ]
     },
     "metadata": {},
     "output_type": "display_data"
    },
    {
     "data": {
      "text/html": [
       "<pre style=\"white-space:pre;overflow-x:auto;line-height:normal;font-family:Menlo,'DejaVu Sans Mono',consolas,'Courier New',monospace\">Episode length: 715.24 +/- 143.66\n",
       "</pre>\n"
      ],
      "text/plain": [
       "Episode length: 715.24 +/- 143.66\n"
      ]
     },
     "metadata": {},
     "output_type": "display_data"
    },
    {
     "data": {
      "text/html": [
       "<pre style=\"white-space:pre;overflow-x:auto;line-height:normal;font-family:Menlo,'DejaVu Sans Mono',consolas,'Courier New',monospace\">Eval num_timesteps=920000, episode_reward=10.62 +/- 5.26\n",
       "</pre>\n"
      ],
      "text/plain": [
       "Eval num_timesteps=920000, episode_reward=10.62 +/- 5.26\n"
      ]
     },
     "metadata": {},
     "output_type": "display_data"
    },
    {
     "data": {
      "text/html": [
       "<pre style=\"white-space:pre;overflow-x:auto;line-height:normal;font-family:Menlo,'DejaVu Sans Mono',consolas,'Courier New',monospace\">Episode length: 655.80 +/- 193.74\n",
       "</pre>\n"
      ],
      "text/plain": [
       "Episode length: 655.80 +/- 193.74\n"
      ]
     },
     "metadata": {},
     "output_type": "display_data"
    },
    {
     "data": {
      "text/html": [
       "<pre style=\"white-space:pre;overflow-x:auto;line-height:normal;font-family:Menlo,'DejaVu Sans Mono',consolas,'Courier New',monospace\">Eval num_timesteps=925000, episode_reward=12.20 +/- 4.58\n",
       "</pre>\n"
      ],
      "text/plain": [
       "Eval num_timesteps=925000, episode_reward=12.20 +/- 4.58\n"
      ]
     },
     "metadata": {},
     "output_type": "display_data"
    },
    {
     "data": {
      "text/html": [
       "<pre style=\"white-space:pre;overflow-x:auto;line-height:normal;font-family:Menlo,'DejaVu Sans Mono',consolas,'Courier New',monospace\">Episode length: 714.92 +/- 173.34\n",
       "</pre>\n"
      ],
      "text/plain": [
       "Episode length: 714.92 +/- 173.34\n"
      ]
     },
     "metadata": {},
     "output_type": "display_data"
    },
    {
     "data": {
      "text/html": [
       "<pre style=\"white-space:pre;overflow-x:auto;line-height:normal;font-family:Menlo,'DejaVu Sans Mono',consolas,'Courier New',monospace\">Eval num_timesteps=930000, episode_reward=12.24 +/- 4.71\n",
       "</pre>\n"
      ],
      "text/plain": [
       "Eval num_timesteps=930000, episode_reward=12.24 +/- 4.71\n"
      ]
     },
     "metadata": {},
     "output_type": "display_data"
    },
    {
     "data": {
      "text/html": [
       "<pre style=\"white-space:pre;overflow-x:auto;line-height:normal;font-family:Menlo,'DejaVu Sans Mono',consolas,'Courier New',monospace\">Episode length: 718.04 +/- 173.91\n",
       "</pre>\n"
      ],
      "text/plain": [
       "Episode length: 718.04 +/- 173.91\n"
      ]
     },
     "metadata": {},
     "output_type": "display_data"
    },
    {
     "data": {
      "text/html": [
       "<pre style=\"white-space:pre;overflow-x:auto;line-height:normal;font-family:Menlo,'DejaVu Sans Mono',consolas,'Courier New',monospace\">Eval num_timesteps=935000, episode_reward=13.22 +/- 5.83\n",
       "</pre>\n"
      ],
      "text/plain": [
       "Eval num_timesteps=935000, episode_reward=13.22 +/- 5.83\n"
      ]
     },
     "metadata": {},
     "output_type": "display_data"
    },
    {
     "data": {
      "text/html": [
       "<pre style=\"white-space:pre;overflow-x:auto;line-height:normal;font-family:Menlo,'DejaVu Sans Mono',consolas,'Courier New',monospace\">Episode length: 729.10 +/- 162.06\n",
       "</pre>\n"
      ],
      "text/plain": [
       "Episode length: 729.10 +/- 162.06\n"
      ]
     },
     "metadata": {},
     "output_type": "display_data"
    },
    {
     "data": {
      "text/html": [
       "<pre style=\"white-space:pre;overflow-x:auto;line-height:normal;font-family:Menlo,'DejaVu Sans Mono',consolas,'Courier New',monospace\">Eval num_timesteps=940000, episode_reward=11.64 +/- 4.48\n",
       "</pre>\n"
      ],
      "text/plain": [
       "Eval num_timesteps=940000, episode_reward=11.64 +/- 4.48\n"
      ]
     },
     "metadata": {},
     "output_type": "display_data"
    },
    {
     "data": {
      "text/html": [
       "<pre style=\"white-space:pre;overflow-x:auto;line-height:normal;font-family:Menlo,'DejaVu Sans Mono',consolas,'Courier New',monospace\">Episode length: 723.42 +/- 164.20\n",
       "</pre>\n"
      ],
      "text/plain": [
       "Episode length: 723.42 +/- 164.20\n"
      ]
     },
     "metadata": {},
     "output_type": "display_data"
    },
    {
     "data": {
      "text/html": [
       "<pre style=\"white-space:pre;overflow-x:auto;line-height:normal;font-family:Menlo,'DejaVu Sans Mono',consolas,'Courier New',monospace\">Eval num_timesteps=945000, episode_reward=13.28 +/- 5.03\n",
       "</pre>\n"
      ],
      "text/plain": [
       "Eval num_timesteps=945000, episode_reward=13.28 +/- 5.03\n"
      ]
     },
     "metadata": {},
     "output_type": "display_data"
    },
    {
     "data": {
      "text/html": [
       "<pre style=\"white-space:pre;overflow-x:auto;line-height:normal;font-family:Menlo,'DejaVu Sans Mono',consolas,'Courier New',monospace\">Episode length: 787.86 +/- 174.42\n",
       "</pre>\n"
      ],
      "text/plain": [
       "Episode length: 787.86 +/- 174.42\n"
      ]
     },
     "metadata": {},
     "output_type": "display_data"
    },
    {
     "data": {
      "text/html": [
       "<pre style=\"white-space:pre;overflow-x:auto;line-height:normal;font-family:Menlo,'DejaVu Sans Mono',consolas,'Courier New',monospace\">Eval num_timesteps=950000, episode_reward=11.54 +/- 4.00\n",
       "</pre>\n"
      ],
      "text/plain": [
       "Eval num_timesteps=950000, episode_reward=11.54 +/- 4.00\n"
      ]
     },
     "metadata": {},
     "output_type": "display_data"
    },
    {
     "data": {
      "text/html": [
       "<pre style=\"white-space:pre;overflow-x:auto;line-height:normal;font-family:Menlo,'DejaVu Sans Mono',consolas,'Courier New',monospace\">Episode length: 723.70 +/- 153.56\n",
       "</pre>\n"
      ],
      "text/plain": [
       "Episode length: 723.70 +/- 153.56\n"
      ]
     },
     "metadata": {},
     "output_type": "display_data"
    },
    {
     "data": {
      "text/html": [
       "<pre style=\"white-space:pre;overflow-x:auto;line-height:normal;font-family:Menlo,'DejaVu Sans Mono',consolas,'Courier New',monospace\">Eval num_timesteps=955000, episode_reward=12.90 +/- 4.30\n",
       "</pre>\n"
      ],
      "text/plain": [
       "Eval num_timesteps=955000, episode_reward=12.90 +/- 4.30\n"
      ]
     },
     "metadata": {},
     "output_type": "display_data"
    },
    {
     "data": {
      "text/html": [
       "<pre style=\"white-space:pre;overflow-x:auto;line-height:normal;font-family:Menlo,'DejaVu Sans Mono',consolas,'Courier New',monospace\">Episode length: 762.18 +/- 141.52\n",
       "</pre>\n"
      ],
      "text/plain": [
       "Episode length: 762.18 +/- 141.52\n"
      ]
     },
     "metadata": {},
     "output_type": "display_data"
    },
    {
     "data": {
      "text/html": [
       "<pre style=\"white-space:pre;overflow-x:auto;line-height:normal;font-family:Menlo,'DejaVu Sans Mono',consolas,'Courier New',monospace\">Eval num_timesteps=960000, episode_reward=12.94 +/- 5.19\n",
       "</pre>\n"
      ],
      "text/plain": [
       "Eval num_timesteps=960000, episode_reward=12.94 +/- 5.19\n"
      ]
     },
     "metadata": {},
     "output_type": "display_data"
    },
    {
     "data": {
      "text/html": [
       "<pre style=\"white-space:pre;overflow-x:auto;line-height:normal;font-family:Menlo,'DejaVu Sans Mono',consolas,'Courier New',monospace\">Episode length: 781.14 +/- 185.01\n",
       "</pre>\n"
      ],
      "text/plain": [
       "Episode length: 781.14 +/- 185.01\n"
      ]
     },
     "metadata": {},
     "output_type": "display_data"
    },
    {
     "data": {
      "text/html": [
       "<pre style=\"white-space:pre;overflow-x:auto;line-height:normal;font-family:Menlo,'DejaVu Sans Mono',consolas,'Courier New',monospace\">Eval num_timesteps=965000, episode_reward=12.24 +/- 5.09\n",
       "</pre>\n"
      ],
      "text/plain": [
       "Eval num_timesteps=965000, episode_reward=12.24 +/- 5.09\n"
      ]
     },
     "metadata": {},
     "output_type": "display_data"
    },
    {
     "data": {
      "text/html": [
       "<pre style=\"white-space:pre;overflow-x:auto;line-height:normal;font-family:Menlo,'DejaVu Sans Mono',consolas,'Courier New',monospace\">Episode length: 743.04 +/- 208.06\n",
       "</pre>\n"
      ],
      "text/plain": [
       "Episode length: 743.04 +/- 208.06\n"
      ]
     },
     "metadata": {},
     "output_type": "display_data"
    },
    {
     "data": {
      "text/html": [
       "<pre style=\"white-space:pre;overflow-x:auto;line-height:normal;font-family:Menlo,'DejaVu Sans Mono',consolas,'Courier New',monospace\">Eval num_timesteps=970000, episode_reward=12.68 +/- 4.95\n",
       "</pre>\n"
      ],
      "text/plain": [
       "Eval num_timesteps=970000, episode_reward=12.68 +/- 4.95\n"
      ]
     },
     "metadata": {},
     "output_type": "display_data"
    },
    {
     "data": {
      "text/html": [
       "<pre style=\"white-space:pre;overflow-x:auto;line-height:normal;font-family:Menlo,'DejaVu Sans Mono',consolas,'Courier New',monospace\">Episode length: 760.10 +/- 182.99\n",
       "</pre>\n"
      ],
      "text/plain": [
       "Episode length: 760.10 +/- 182.99\n"
      ]
     },
     "metadata": {},
     "output_type": "display_data"
    },
    {
     "data": {
      "text/html": [
       "<pre style=\"white-space:pre;overflow-x:auto;line-height:normal;font-family:Menlo,'DejaVu Sans Mono',consolas,'Courier New',monospace\">Eval num_timesteps=975000, episode_reward=12.20 +/- 4.98\n",
       "</pre>\n"
      ],
      "text/plain": [
       "Eval num_timesteps=975000, episode_reward=12.20 +/- 4.98\n"
      ]
     },
     "metadata": {},
     "output_type": "display_data"
    },
    {
     "data": {
      "text/html": [
       "<pre style=\"white-space:pre;overflow-x:auto;line-height:normal;font-family:Menlo,'DejaVu Sans Mono',consolas,'Courier New',monospace\">Episode length: 752.96 +/- 172.82\n",
       "</pre>\n"
      ],
      "text/plain": [
       "Episode length: 752.96 +/- 172.82\n"
      ]
     },
     "metadata": {},
     "output_type": "display_data"
    },
    {
     "data": {
      "text/html": [
       "<pre style=\"white-space:pre;overflow-x:auto;line-height:normal;font-family:Menlo,'DejaVu Sans Mono',consolas,'Courier New',monospace\">Eval num_timesteps=980000, episode_reward=12.48 +/- 4.94\n",
       "</pre>\n"
      ],
      "text/plain": [
       "Eval num_timesteps=980000, episode_reward=12.48 +/- 4.94\n"
      ]
     },
     "metadata": {},
     "output_type": "display_data"
    },
    {
     "data": {
      "text/html": [
       "<pre style=\"white-space:pre;overflow-x:auto;line-height:normal;font-family:Menlo,'DejaVu Sans Mono',consolas,'Courier New',monospace\">Episode length: 734.30 +/- 166.68\n",
       "</pre>\n"
      ],
      "text/plain": [
       "Episode length: 734.30 +/- 166.68\n"
      ]
     },
     "metadata": {},
     "output_type": "display_data"
    },
    {
     "data": {
      "text/html": [
       "<pre style=\"white-space:pre;overflow-x:auto;line-height:normal;font-family:Menlo,'DejaVu Sans Mono',consolas,'Courier New',monospace\">Eval num_timesteps=985000, episode_reward=13.58 +/- 5.31\n",
       "</pre>\n"
      ],
      "text/plain": [
       "Eval num_timesteps=985000, episode_reward=13.58 +/- 5.31\n"
      ]
     },
     "metadata": {},
     "output_type": "display_data"
    },
    {
     "data": {
      "text/html": [
       "<pre style=\"white-space:pre;overflow-x:auto;line-height:normal;font-family:Menlo,'DejaVu Sans Mono',consolas,'Courier New',monospace\">Episode length: 771.40 +/- 183.79\n",
       "</pre>\n"
      ],
      "text/plain": [
       "Episode length: 771.40 +/- 183.79\n"
      ]
     },
     "metadata": {},
     "output_type": "display_data"
    },
    {
     "data": {
      "text/html": [
       "<pre style=\"white-space:pre;overflow-x:auto;line-height:normal;font-family:Menlo,'DejaVu Sans Mono',consolas,'Courier New',monospace\">Eval num_timesteps=990000, episode_reward=13.56 +/- 4.22\n",
       "</pre>\n"
      ],
      "text/plain": [
       "Eval num_timesteps=990000, episode_reward=13.56 +/- 4.22\n"
      ]
     },
     "metadata": {},
     "output_type": "display_data"
    },
    {
     "data": {
      "text/html": [
       "<pre style=\"white-space:pre;overflow-x:auto;line-height:normal;font-family:Menlo,'DejaVu Sans Mono',consolas,'Courier New',monospace\">Episode length: 776.64 +/- 152.36\n",
       "</pre>\n"
      ],
      "text/plain": [
       "Episode length: 776.64 +/- 152.36\n"
      ]
     },
     "metadata": {},
     "output_type": "display_data"
    },
    {
     "data": {
      "text/html": [
       "<pre style=\"white-space:pre;overflow-x:auto;line-height:normal;font-family:Menlo,'DejaVu Sans Mono',consolas,'Courier New',monospace\">Eval num_timesteps=995000, episode_reward=12.72 +/- 4.60\n",
       "</pre>\n"
      ],
      "text/plain": [
       "Eval num_timesteps=995000, episode_reward=12.72 +/- 4.60\n"
      ]
     },
     "metadata": {},
     "output_type": "display_data"
    },
    {
     "data": {
      "text/html": [
       "<pre style=\"white-space:pre;overflow-x:auto;line-height:normal;font-family:Menlo,'DejaVu Sans Mono',consolas,'Courier New',monospace\">Episode length: 776.20 +/- 154.37\n",
       "</pre>\n"
      ],
      "text/plain": [
       "Episode length: 776.20 +/- 154.37\n"
      ]
     },
     "metadata": {},
     "output_type": "display_data"
    },
    {
     "data": {
      "text/html": [
       "<pre style=\"white-space:pre;overflow-x:auto;line-height:normal;font-family:Menlo,'DejaVu Sans Mono',consolas,'Courier New',monospace\">Eval num_timesteps=1000000, episode_reward=13.42 +/- 5.21\n",
       "</pre>\n"
      ],
      "text/plain": [
       "Eval num_timesteps=1000000, episode_reward=13.42 +/- 5.21\n"
      ]
     },
     "metadata": {},
     "output_type": "display_data"
    },
    {
     "data": {
      "text/html": [
       "<pre style=\"white-space:pre;overflow-x:auto;line-height:normal;font-family:Menlo,'DejaVu Sans Mono',consolas,'Courier New',monospace\">Episode length: 766.86 +/- 153.37\n",
       "</pre>\n"
      ],
      "text/plain": [
       "Episode length: 766.86 +/- 153.37\n"
      ]
     },
     "metadata": {},
     "output_type": "display_data"
    },
    {
     "data": {
      "text/html": [
       "<pre style=\"white-space:pre;overflow-x:auto;line-height:normal;font-family:Menlo,'DejaVu Sans Mono',consolas,'Courier New',monospace\"></pre>\n"
      ],
      "text/plain": []
     },
     "metadata": {},
     "output_type": "display_data"
    },
    {
     "data": {
      "text/plain": [
       "<stable_baselines3.a2c.a2c.A2C at 0x7a13a0144f50>"
      ]
     },
     "execution_count": 20,
     "metadata": {},
     "output_type": "execute_result"
    }
   ],
   "source": [
    "TRAINING_TIMESTEPS =  1_000_000\n",
    "\n",
    "model.learn(\n",
    "    total_timesteps=TRAINING_TIMESTEPS, callback=[eval_callback, ProgressBarCallback()]\n",
    ")"
   ]
  },
  {
   "cell_type": "code",
   "execution_count": 4,
   "id": "3d17c6b4",
   "metadata": {},
   "outputs": [],
   "source": [
    "model = A2C.load(\"../logs/exercise_3/best_model.zip\")"
   ]
  },
  {
   "cell_type": "code",
   "execution_count": 5,
   "id": "ce00eec4",
   "metadata": {},
   "outputs": [
    {
     "name": "stdout",
     "output_type": "stream",
     "text": [
      "Mean reward: 12.60 ± 4.48\n"
     ]
    }
   ],
   "source": [
    "mean_reward, std_reward = evaluate_policy(model, env, n_eval_episodes=10)\n",
    "print(f\"Mean reward: {mean_reward:.2f} ± {std_reward:.2f}\")"
   ]
  },
  {
   "cell_type": "code",
   "execution_count": null,
   "id": "c65b43e1",
   "metadata": {},
   "outputs": [
    {
     "name": "stdout",
     "output_type": "stream",
     "text": [
      "Final Step: 500\n",
      "Number of Frames: 500\n"
     ]
    }
   ],
   "source": [
    "MAX_STEPS = 500\n",
    "\n",
    "observation = env.reset()\n",
    "frames = []\n",
    "step_count = 0\n",
    "\n",
    "for step in range(MAX_STEPS):\n",
    "    frame = env.render()\n",
    "    frames.append(frame)\n",
    "\n",
    "    action, _ = model.predict(observation, deterministic=True)\n",
    "    obs, rewards, dones, infos = env.step(action)\n",
    "    step_count += 1\n",
    "\n",
    "    # if dones[0]:\n",
    "    #     print(\n",
    "    #         f\"Episode finished after {step_count} steps \"\n",
    "    #         f\"({'truncated' if infos[0].get('TimeLimit.truncated', False) else 'terminated'})\"\n",
    "    #     )\n",
    "    #     break\n",
    "\n",
    "env.close()\n",
    "\n",
    "print(f\"Final Step: {step_count}\")\n",
    "print(f\"Number of Frames: {len(frames)}\")"
   ]
  },
  {
   "cell_type": "code",
   "execution_count": 23,
   "id": "b1905a95",
   "metadata": {},
   "outputs": [
    {
     "name": "stdout",
     "output_type": "stream",
     "text": [
      "Video guardado como ../videos/atari_breakout_dqn.mp4\n"
     ]
    },
    {
     "name": "stderr",
     "output_type": "stream",
     "text": [
      "rm: cannot remove '../videos/atari_breakout_dqn_compressed.mp4': No such file or directory\n",
      "ffmpeg version n7.1 Copyright (c) 2000-2024 the FFmpeg developers\n",
      "  built with gcc 14.2.1 (GCC) 20250207\n",
      "  configuration: --prefix=/usr --disable-debug --disable-static --disable-stripping --enable-amf --enable-avisynth --enable-cuda-llvm --enable-lto --enable-fontconfig --enable-frei0r --enable-gmp --enable-gnutls --enable-gpl --enable-ladspa --enable-libaom --enable-libass --enable-libbluray --enable-libbs2b --enable-libdav1d --enable-libdrm --enable-libdvdnav --enable-libdvdread --enable-libfreetype --enable-libfribidi --enable-libglslang --enable-libgsm --enable-libharfbuzz --enable-libiec61883 --enable-libjack --enable-libjxl --enable-libmodplug --enable-libmp3lame --enable-libopencore_amrnb --enable-libopencore_amrwb --enable-libopenjpeg --enable-libopenmpt --enable-libopus --enable-libplacebo --enable-libpulse --enable-librav1e --enable-librsvg --enable-librubberband --enable-libsnappy --enable-libsoxr --enable-libspeex --enable-libsrt --enable-libssh --enable-libsvtav1 --enable-libtheora --enable-libv4l2 --enable-libvidstab --enable-libvmaf --enable-libvorbis --enable-libvpl --enable-libvpx --enable-libwebp --enable-libx264 --enable-libx265 --enable-libxcb --enable-libxml2 --enable-libxvid --enable-libzimg --enable-libzmq --enable-nvdec --enable-nvenc --enable-opencl --enable-opengl --enable-shared --enable-vapoursynth --enable-version3 --enable-vulkan\n",
      "  libavutil      59. 39.100 / 59. 39.100\n",
      "  libavcodec     61. 19.100 / 61. 19.100\n",
      "  libavformat    61.  7.100 / 61.  7.100\n",
      "  libavdevice    61.  3.100 / 61.  3.100\n",
      "  libavfilter    10.  4.100 / 10.  4.100\n",
      "  libswscale      8.  3.100 /  8.  3.100\n",
      "  libswresample   5.  3.100 /  5.  3.100\n",
      "  libpostproc    58.  3.100 / 58.  3.100\n",
      "Input #0, mov,mp4,m4a,3gp,3g2,mj2, from '../videos/atari_breakout_dqn.mp4':\n",
      "  Metadata:\n",
      "    major_brand     : isom\n",
      "    minor_version   : 512\n",
      "    compatible_brands: isomiso2mp41\n",
      "    encoder         : Lavf59.27.100\n",
      "  Duration: 00:00:16.67, start: 0.000000, bitrate: 108 kb/s\n",
      "  Stream #0:0[0x1](und): Video: mpeg4 (Simple Profile) (mp4v / 0x7634706D), yuv420p, 160x210 [SAR 1:1 DAR 16:21], 106 kb/s, 30 fps, 30 tbr, 15360 tbn (default)\n",
      "      Metadata:\n",
      "        handler_name    : VideoHandler\n",
      "        vendor_id       : [0][0][0][0]\n",
      "Stream mapping:\n",
      "  Stream #0:0 -> #0:0 (mpeg4 (native) -> h264 (libx264))\n",
      "Press [q] to stop, [?] for help\n",
      "[libx264 @ 0x572399309c40] using SAR=1/1\n",
      "[libx264 @ 0x572399309c40] using cpu capabilities: MMX2 SSE2Fast SSSE3 SSE4.2 AVX FMA3 BMI2 AVX2\n",
      "[libx264 @ 0x572399309c40] profile High, level 1.2, 4:2:0, 8-bit\n",
      "[libx264 @ 0x572399309c40] 264 - core 164 r3108 31e19f9 - H.264/MPEG-4 AVC codec - Copyleft 2003-2023 - http://www.videolan.org/x264.html - options: cabac=1 ref=3 deblock=1:0:0 analyse=0x3:0x113 me=hex subme=7 psy=1 psy_rd=1.00:0.00 mixed_ref=1 me_range=16 chroma_me=1 trellis=1 8x8dct=1 cqm=0 deadzone=21,11 fast_pskip=1 chroma_qp_offset=-2 threads=7 lookahead_threads=1 sliced_threads=0 nr=0 decimate=1 interlaced=0 bluray_compat=0 constrained_intra=0 bframes=3 b_pyramid=2 b_adapt=1 b_bias=0 direct=1 weightb=1 open_gop=0 weightp=2 keyint=250 keyint_min=25 scenecut=40 intra_refresh=0 rc_lookahead=40 rc=crf mbtree=1 crf=23.0 qcomp=0.60 qpmin=0 qpmax=69 qpstep=4 ip_ratio=1.40 aq=1:1.00\n",
      "Output #0, mp4, to '../videos/atari_breakout_dqn_compressed.mp4':\n",
      "  Metadata:\n",
      "    major_brand     : isom\n",
      "    minor_version   : 512\n",
      "    compatible_brands: isomiso2mp41\n",
      "    encoder         : Lavf61.7.100\n",
      "  Stream #0:0(und): Video: h264 (avc1 / 0x31637661), yuv420p(tv, progressive), 160x210 [SAR 1:1 DAR 16:21], q=2-31, 30 fps, 15360 tbn (default)\n",
      "      Metadata:\n",
      "        handler_name    : VideoHandler\n",
      "        vendor_id       : [0][0][0][0]\n",
      "        encoder         : Lavc61.19.100 libx264\n",
      "      Side data:\n",
      "        cpb: bitrate max/min/avg: 0/0/0 buffer size: 0 vbv_delay: N/A\n",
      "[out#0/mp4 @ 0x572399310380] video:37KiB audio:0KiB subtitle:0KiB other streams:0KiB global headers:0KiB muxing overhead: 17.911406%\n",
      "frame=  500 fps=0.0 q=-1.0 Lsize=      43KiB time=00:00:16.60 bitrate=  21.2kbits/s speed= 332x    \n",
      "[libx264 @ 0x572399309c40] frame I:6     Avg QP:14.59  size:   665\n",
      "[libx264 @ 0x572399309c40] frame P:150   Avg QP:18.63  size:   104\n",
      "[libx264 @ 0x572399309c40] frame B:344   Avg QP:17.78  size:    50\n",
      "[libx264 @ 0x572399309c40] consecutive B-frames:  5.8%  5.2%  6.6% 82.4%\n",
      "[libx264 @ 0x572399309c40] mb I  I16..4: 82.5%  1.0% 16.5%\n",
      "[libx264 @ 0x572399309c40] mb P  I16..4:  1.3%  1.6%  0.9%  P16..4:  3.6%  0.7%  0.2%  0.0%  0.0%    skip:91.6%\n",
      "[libx264 @ 0x572399309c40] mb B  I16..4:  0.0%  0.1%  0.4%  B16..8:  5.2%  0.2%  0.0%  direct: 0.6%  skip:93.5%  L0:54.9% L1:45.1% BI: 0.0%\n",
      "[libx264 @ 0x572399309c40] 8x8 transform intra:20.6% inter:7.5%\n",
      "[libx264 @ 0x572399309c40] coded y,uvDC,uvAC intra: 9.0% 33.6% 29.3% inter: 0.3% 1.2% 0.8%\n",
      "[libx264 @ 0x572399309c40] i16 v,h,dc,p: 60% 37%  2%  0%\n",
      "[libx264 @ 0x572399309c40] i8 v,h,dc,ddl,ddr,vr,hd,vl,hu:  7%  1% 92%  0%  0%  0%  0%  0%  0%\n",
      "[libx264 @ 0x572399309c40] i4 v,h,dc,ddl,ddr,vr,hd,vl,hu: 17% 25% 54%  0%  1%  1%  0%  1%  0%\n",
      "[libx264 @ 0x572399309c40] i8c dc,h,v,p: 61% 29% 11%  0%\n",
      "[libx264 @ 0x572399309c40] Weighted P-Frames: Y:0.0% UV:0.0%\n",
      "[libx264 @ 0x572399309c40] ref P L0: 58.9%  0.7% 30.4% 10.0%\n",
      "[libx264 @ 0x572399309c40] ref B L0: 78.6% 15.1%  6.2%\n",
      "[libx264 @ 0x572399309c40] ref B L1: 98.2%  1.8%\n",
      "[libx264 @ 0x572399309c40] kb/s:17.61\n"
     ]
    },
    {
     "data": {
      "text/html": [
       "\n",
       "<video width=800 controls>\n",
       "      <source src=\"data:video/mp4;base64,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\" type=\"video/mp4\">\n",
       "</video>"
      ],
      "text/plain": [
       "<IPython.core.display.HTML object>"
      ]
     },
     "execution_count": 23,
     "metadata": {},
     "output_type": "execute_result"
    }
   ],
   "source": [
    "from IPython.display import HTML\n",
    "from base64 import b64encode\n",
    "import os\n",
    "\n",
    "# Create a video from the frames\n",
    "video_filename = \"../videos/atari_breakout_dqn.mp4\"\n",
    "compressed_path = \"../videos/atari_breakout_dqn_compressed.mp4\"\n",
    "height, width, _ = frames[0].shape\n",
    "\n",
    "fourcc = cv2.VideoWriter_fourcc(*\"mp4v\")\n",
    "video = cv2.VideoWriter(video_filename, fourcc, 30.0, (width, height))\n",
    "\n",
    "for frame in frames:\n",
    "    video.write(cv2.cvtColor(frame, cv2.COLOR_RGB2BGR))\n",
    "video.release()\n",
    "\n",
    "print(f\"Video guardado como {video_filename}\")\n",
    "\n",
    "os.system(f\"rm {compressed_path}\")\n",
    "# Compressed video path\n",
    "os.system(f\"ffmpeg -i {video_filename} -vcodec libx264 {compressed_path}\")\n",
    "os.system(f\"rm {video_filename}\")\n",
    "os.system(f\"mv {compressed_path} {video_filename}\")\n",
    "\n",
    "# Show video\n",
    "mp4 = open(video_filename, \"rb\").read()\n",
    "data_url = \"data:video/mp4;base64,\" + b64encode(mp4).decode()\n",
    "HTML(\n",
    "    \"\"\"\n",
    "<video width=800 controls>\n",
    "      <source src=\"%s\" type=\"video/mp4\">\n",
    "</video>\"\"\"\n",
    "    % data_url\n",
    ")"
   ]
  }
 ],
 "metadata": {
  "kernelspec": {
   "display_name": "deep-reinforcement-learning-gymnasium-u3px5S1O-py3.13",
   "language": "python",
   "name": "python3"
  },
  "language_info": {
   "codemirror_mode": {
    "name": "ipython",
    "version": 3
   },
   "file_extension": ".py",
   "mimetype": "text/x-python",
   "name": "python",
   "nbconvert_exporter": "python",
   "pygments_lexer": "ipython3",
   "version": "3.13.3"
  }
 },
 "nbformat": 4,
 "nbformat_minor": 5
}
